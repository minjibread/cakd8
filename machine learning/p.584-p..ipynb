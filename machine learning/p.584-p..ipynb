{
 "cells": [
  {
   "cell_type": "markdown",
   "id": "8accfb28-8fc2-404c-8b27-a0d6ebc66c42",
   "metadata": {},
   "source": [
    "# 추천 시스템"
   ]
  },
  {
   "cell_type": "markdown",
   "id": "df857f79-d256-48e2-bfe4-9382a8b464d1",
   "metadata": {},
   "source": [
    "- **콘텐츠 기반 필터링**(Content based filtering)\n",
    "\n",
    "- **협업 필터링**(Collaborative Filtering)  \n",
    "  1. **최근접 이웃**(Nearest Neighbor) 협업 필터링 (= **메모리(Memory)** 협업 필터링)\n",
    "  2. **잠재 요인**(Latent Factor) 협업 필터링\n",
    "<br>\n",
    "<br>\n",
    "**목표**  : <span style=\"color: #2D3748; background-color:#fff5b1;\">**사용자가 아직 평가하지 않은 아이템을 예측 평가**</span>하는 것  \n",
    "<br>\n",
    "**특징**  \n",
    "  1. <span style=\"color: #2D3748; background-color:#fff5b1;\">**사용자-아이템 평점 행렬 데이터에만 의지**</span>\n",
    "  2. 행은 개별 사용자, 열은 개별 아이템, 해당하는 값이 평점을 나타내는 형태가 되어야 함\n",
    "  3. 데이터가 레코드 레벨 형태인 경우, 판다스의 pivot_table()과 같은 함수를 이용해 사용자-아이템 평점 행렬 형태로 변경해주어야 함  \n",
    "  \n",
    "<br>\n",
    "- 희소 행렬(sparse matrix) 특성\n",
    "- 다차원 행렬"
   ]
  },
  {
   "cell_type": "markdown",
   "id": "8a041e4d-9737-4754-9097-b2d9e9e8c884",
   "metadata": {},
   "source": [
    "## 콘텐츠 기반 필터링"
   ]
  },
  {
   "cell_type": "markdown",
   "id": "3ec2e832-717e-4411-85a2-cf6bfa870b3e",
   "metadata": {},
   "source": [
    "사용자가 특정한 아이템을 매우 선호하는 경우, 그 아이템과 비슷한 콘텐츠를 가진 다른 아이템을 추천하는 방식  \n",
    "**제품(상품)에 초점**을 맞춤  \n",
    "ex) 영화"
   ]
  },
  {
   "cell_type": "markdown",
   "id": "1825665d-a265-41e2-a04c-cc69906cc14c",
   "metadata": {},
   "source": [
    "## 최근접 이웃 협업 필터링"
   ]
  },
  {
   "cell_type": "markdown",
   "id": "6de8a41a-046f-4d43-84e4-a32fa6ab2467",
   "metadata": {},
   "source": [
    "친구들에게 물어보는 것과 유사한 방식  \n",
    "(사용자가 아이템에 매긴 평점 정보나 상품 구매 이력과 같은) **사용자 행동 양식(User Behavior)을 기반**으로 추천을 수행  \n",
    "  \n",
    "  - \"메모리 협업 필터링\" 이라고도 함\n",
    "  - **사용자 기반**(User-User) : 당신과 비슷한 고객(사용자 간)\n",
    "  - **아이템 기반**(Item-Item) : 이 상품을 선택한 다른 고객(<span style=\"color: #2D3748; background-color:#fff5b1;\">아이템이 가지는 속성과는 상관없음</span>)"
   ]
  },
  {
   "cell_type": "markdown",
   "id": "2773f17d-32cf-47e6-85c5-857eb2e7c11f",
   "metadata": {},
   "source": [
    "## 잠재 요인 협업 필터링"
   ]
  },
  {
   "cell_type": "markdown",
   "id": "1aa82e7e-9ad1-4a3c-998e-c27b6f4da8d6",
   "metadata": {},
   "source": [
    "**사용자-아이템 행렬 데이터**만을 이용해 **\"행렬 분해 기법\"을 사용**하여 **'잠재 요인'을 끄집어 내는 것**"
   ]
  },
  {
   "cell_type": "markdown",
   "id": "f18e69d3-6e66-4580-a975-41cb499bfc04",
   "metadata": {},
   "source": [
    "------------"
   ]
  },
  {
   "cell_type": "markdown",
   "id": "3721b7b2-756f-497a-90ae-5b6d412105f8",
   "metadata": {},
   "source": [
    "## 콘텐츠 기반 필터링 실습 - TMDB 5000 영화 데이터 세트"
   ]
  },
  {
   "cell_type": "markdown",
   "id": "88bffb61-8128-444a-93f5-ba8cecac9868",
   "metadata": {},
   "source": [
    "### 장르 속성을 이용한 영화 콘텐츠 기반 필터링"
   ]
  },
  {
   "cell_type": "markdown",
   "id": "75c8c343-2cd1-4997-a5c2-17c9620ee6bd",
   "metadata": {},
   "source": [
    "- 콘텐츠 기반 필터링 : 상품/서비스 간의 유사성을 판단하는 기준이 영화를 구성하는 다양한 콘텐츠를 기반으로 하는 방식"
   ]
  },
  {
   "cell_type": "markdown",
   "id": "87881f84-f816-455d-83f3-8ad9cd1b337f",
   "metadata": {},
   "source": [
    "### 데이터 로딩 및 가공"
   ]
  },
  {
   "cell_type": "code",
   "execution_count": 2,
   "id": "2aaf5555-cf99-4904-98a2-081eda70a70e",
   "metadata": {},
   "outputs": [],
   "source": [
    "import pandas as pd"
   ]
  },
  {
   "cell_type": "code",
   "execution_count": 30,
   "id": "66b9ba3a-e67e-4db0-8f19-a5f3ba64c5a7",
   "metadata": {},
   "outputs": [
    {
     "data": {
      "text/html": [
       "<div>\n",
       "<style scoped>\n",
       "    .dataframe tbody tr th:only-of-type {\n",
       "        vertical-align: middle;\n",
       "    }\n",
       "\n",
       "    .dataframe tbody tr th {\n",
       "        vertical-align: top;\n",
       "    }\n",
       "\n",
       "    .dataframe thead th {\n",
       "        text-align: right;\n",
       "    }\n",
       "</style>\n",
       "<table border=\"1\" class=\"dataframe\">\n",
       "  <thead>\n",
       "    <tr style=\"text-align: right;\">\n",
       "      <th></th>\n",
       "      <th>budget</th>\n",
       "      <th>genres</th>\n",
       "      <th>homepage</th>\n",
       "      <th>id</th>\n",
       "      <th>keywords</th>\n",
       "      <th>original_language</th>\n",
       "      <th>original_title</th>\n",
       "      <th>overview</th>\n",
       "      <th>popularity</th>\n",
       "      <th>production_companies</th>\n",
       "      <th>production_countries</th>\n",
       "      <th>release_date</th>\n",
       "      <th>revenue</th>\n",
       "      <th>runtime</th>\n",
       "      <th>spoken_languages</th>\n",
       "      <th>status</th>\n",
       "      <th>tagline</th>\n",
       "      <th>title</th>\n",
       "      <th>vote_average</th>\n",
       "      <th>vote_count</th>\n",
       "    </tr>\n",
       "  </thead>\n",
       "  <tbody>\n",
       "    <tr>\n",
       "      <th>0</th>\n",
       "      <td>237000000</td>\n",
       "      <td>[{\"id\": 28, \"name\": \"Action\"}, {\"id\": 12, \"nam...</td>\n",
       "      <td>http://www.avatarmovie.com/</td>\n",
       "      <td>19995</td>\n",
       "      <td>[{\"id\": 1463, \"name\": \"culture clash\"}, {\"id\":...</td>\n",
       "      <td>en</td>\n",
       "      <td>Avatar</td>\n",
       "      <td>In the 22nd century, a paraplegic Marine is di...</td>\n",
       "      <td>150.437577</td>\n",
       "      <td>[{\"name\": \"Ingenious Film Partners\", \"id\": 289...</td>\n",
       "      <td>[{\"iso_3166_1\": \"US\", \"name\": \"United States o...</td>\n",
       "      <td>2009-12-10</td>\n",
       "      <td>2787965087</td>\n",
       "      <td>162.0</td>\n",
       "      <td>[{\"iso_639_1\": \"en\", \"name\": \"English\"}, {\"iso...</td>\n",
       "      <td>Released</td>\n",
       "      <td>Enter the World of Pandora.</td>\n",
       "      <td>Avatar</td>\n",
       "      <td>7.2</td>\n",
       "      <td>11800</td>\n",
       "    </tr>\n",
       "    <tr>\n",
       "      <th>1</th>\n",
       "      <td>300000000</td>\n",
       "      <td>[{\"id\": 12, \"name\": \"Adventure\"}, {\"id\": 14, \"...</td>\n",
       "      <td>http://disney.go.com/disneypictures/pirates/</td>\n",
       "      <td>285</td>\n",
       "      <td>[{\"id\": 270, \"name\": \"ocean\"}, {\"id\": 726, \"na...</td>\n",
       "      <td>en</td>\n",
       "      <td>Pirates of the Caribbean: At World's End</td>\n",
       "      <td>Captain Barbossa, long believed to be dead, ha...</td>\n",
       "      <td>139.082615</td>\n",
       "      <td>[{\"name\": \"Walt Disney Pictures\", \"id\": 2}, {\"...</td>\n",
       "      <td>[{\"iso_3166_1\": \"US\", \"name\": \"United States o...</td>\n",
       "      <td>2007-05-19</td>\n",
       "      <td>961000000</td>\n",
       "      <td>169.0</td>\n",
       "      <td>[{\"iso_639_1\": \"en\", \"name\": \"English\"}]</td>\n",
       "      <td>Released</td>\n",
       "      <td>At the end of the world, the adventure begins.</td>\n",
       "      <td>Pirates of the Caribbean: At World's End</td>\n",
       "      <td>6.9</td>\n",
       "      <td>4500</td>\n",
       "    </tr>\n",
       "  </tbody>\n",
       "</table>\n",
       "</div>"
      ],
      "text/plain": [
       "      budget                                             genres  \\\n",
       "0  237000000  [{\"id\": 28, \"name\": \"Action\"}, {\"id\": 12, \"nam...   \n",
       "1  300000000  [{\"id\": 12, \"name\": \"Adventure\"}, {\"id\": 14, \"...   \n",
       "\n",
       "                                       homepage     id  \\\n",
       "0                   http://www.avatarmovie.com/  19995   \n",
       "1  http://disney.go.com/disneypictures/pirates/    285   \n",
       "\n",
       "                                            keywords original_language  \\\n",
       "0  [{\"id\": 1463, \"name\": \"culture clash\"}, {\"id\":...                en   \n",
       "1  [{\"id\": 270, \"name\": \"ocean\"}, {\"id\": 726, \"na...                en   \n",
       "\n",
       "                             original_title  \\\n",
       "0                                    Avatar   \n",
       "1  Pirates of the Caribbean: At World's End   \n",
       "\n",
       "                                            overview  popularity  \\\n",
       "0  In the 22nd century, a paraplegic Marine is di...  150.437577   \n",
       "1  Captain Barbossa, long believed to be dead, ha...  139.082615   \n",
       "\n",
       "                                production_companies  \\\n",
       "0  [{\"name\": \"Ingenious Film Partners\", \"id\": 289...   \n",
       "1  [{\"name\": \"Walt Disney Pictures\", \"id\": 2}, {\"...   \n",
       "\n",
       "                                production_countries release_date     revenue  \\\n",
       "0  [{\"iso_3166_1\": \"US\", \"name\": \"United States o...   2009-12-10  2787965087   \n",
       "1  [{\"iso_3166_1\": \"US\", \"name\": \"United States o...   2007-05-19   961000000   \n",
       "\n",
       "   runtime                                   spoken_languages    status  \\\n",
       "0    162.0  [{\"iso_639_1\": \"en\", \"name\": \"English\"}, {\"iso...  Released   \n",
       "1    169.0           [{\"iso_639_1\": \"en\", \"name\": \"English\"}]  Released   \n",
       "\n",
       "                                          tagline  \\\n",
       "0                     Enter the World of Pandora.   \n",
       "1  At the end of the world, the adventure begins.   \n",
       "\n",
       "                                      title  vote_average  vote_count  \n",
       "0                                    Avatar           7.2       11800  \n",
       "1  Pirates of the Caribbean: At World's End           6.9        4500  "
      ]
     },
     "execution_count": 30,
     "metadata": {},
     "output_type": "execute_result"
    }
   ],
   "source": [
    "movies = pd.read_csv('./data/tmdb_5000_movies.csv')\n",
    "movies[:2]"
   ]
  },
  {
   "cell_type": "code",
   "execution_count": 31,
   "id": "59a2baa6-6158-42c3-858c-0a9807dfd26d",
   "metadata": {},
   "outputs": [
    {
     "name": "stdout",
     "output_type": "stream",
     "text": [
      "<class 'pandas.core.frame.DataFrame'>\n",
      "RangeIndex: 4803 entries, 0 to 4802\n",
      "Data columns (total 20 columns):\n",
      " #   Column                Non-Null Count  Dtype  \n",
      "---  ------                --------------  -----  \n",
      " 0   budget                4803 non-null   int64  \n",
      " 1   genres                4803 non-null   object \n",
      " 2   homepage              1712 non-null   object \n",
      " 3   id                    4803 non-null   int64  \n",
      " 4   keywords              4803 non-null   object \n",
      " 5   original_language     4803 non-null   object \n",
      " 6   original_title        4803 non-null   object \n",
      " 7   overview              4800 non-null   object \n",
      " 8   popularity            4803 non-null   float64\n",
      " 9   production_companies  4803 non-null   object \n",
      " 10  production_countries  4803 non-null   object \n",
      " 11  release_date          4802 non-null   object \n",
      " 12  revenue               4803 non-null   int64  \n",
      " 13  runtime               4801 non-null   float64\n",
      " 14  spoken_languages      4803 non-null   object \n",
      " 15  status                4803 non-null   object \n",
      " 16  tagline               3959 non-null   object \n",
      " 17  title                 4803 non-null   object \n",
      " 18  vote_average          4803 non-null   float64\n",
      " 19  vote_count            4803 non-null   int64  \n",
      "dtypes: float64(3), int64(4), object(13)\n",
      "memory usage: 750.6+ KB\n"
     ]
    }
   ],
   "source": [
    "movies.info()"
   ]
  },
  {
   "cell_type": "code",
   "execution_count": 32,
   "id": "f47a8590-a3d1-4c58-9367-4d8e6266b1aa",
   "metadata": {},
   "outputs": [
    {
     "data": {
      "text/plain": [
       "0       [{\"id\": 28, \"name\": \"Action\"}, {\"id\": 12, \"nam...\n",
       "1       [{\"id\": 12, \"name\": \"Adventure\"}, {\"id\": 14, \"...\n",
       "2       [{\"id\": 28, \"name\": \"Action\"}, {\"id\": 12, \"nam...\n",
       "3       [{\"id\": 28, \"name\": \"Action\"}, {\"id\": 80, \"nam...\n",
       "4       [{\"id\": 28, \"name\": \"Action\"}, {\"id\": 12, \"nam...\n",
       "                              ...                        \n",
       "4798    [{\"id\": 28, \"name\": \"Action\"}, {\"id\": 80, \"nam...\n",
       "4799    [{\"id\": 35, \"name\": \"Comedy\"}, {\"id\": 10749, \"...\n",
       "4800    [{\"id\": 35, \"name\": \"Comedy\"}, {\"id\": 18, \"nam...\n",
       "4801                                                   []\n",
       "4802                  [{\"id\": 99, \"name\": \"Documentary\"}]\n",
       "Name: genres, Length: 4803, dtype: object"
      ]
     },
     "execution_count": 32,
     "metadata": {},
     "output_type": "execute_result"
    }
   ],
   "source": [
    "movies['genres']"
   ]
  },
  {
   "cell_type": "markdown",
   "id": "97bf7fc1-67b1-4377-accd-f4f5bcc94768",
   "metadata": {},
   "source": [
    "리스트로 묶여 있고, 딕셔너리 형태로 보이지만, 판다스 셀 안에 리스트나 딕셔너리 객체가 들어갈 수 없음  \n",
    "info 보면 그냥 object 임을 알 수 있음  "
   ]
  },
  {
   "cell_type": "code",
   "execution_count": 33,
   "id": "61c8267f-880a-403e-ab8f-584067d205c3",
   "metadata": {},
   "outputs": [
    {
     "data": {
      "text/plain": [
       "'[{\"id\": 28, \"name\": \"Action\"}, {\"id\": 12, \"name\": \"Adventure\"}, {\"id\": 14, \"name\": \"Fantasy\"}, {\"id\": 878, \"name\": \"Science Fiction\"}]'"
      ]
     },
     "execution_count": 33,
     "metadata": {},
     "output_type": "execute_result"
    }
   ],
   "source": [
    "movies['genres'][0]"
   ]
  },
  {
   "cell_type": "code",
   "execution_count": 34,
   "id": "4b40ecbe-a9c8-4ecc-9717-0b182dbf79aa",
   "metadata": {},
   "outputs": [
    {
     "data": {
      "text/plain": [
       "'{'"
      ]
     },
     "execution_count": 34,
     "metadata": {},
     "output_type": "execute_result"
    }
   ],
   "source": [
    "movies['genres'][0][1]"
   ]
  },
  {
   "cell_type": "markdown",
   "id": "a3fac240-bf33-42dc-bc22-dbdbd5a120dd",
   "metadata": {},
   "source": [
    "문자열을 인덱싱하는 것을 알 수 있음"
   ]
  },
  {
   "cell_type": "code",
   "execution_count": 35,
   "id": "f67714c0-7722-4d9a-9a16-e00dab5a6df6",
   "metadata": {},
   "outputs": [],
   "source": [
    "# 문자열을 파이썬의 객체로 변환하는 함수"
   ]
  },
  {
   "cell_type": "code",
   "execution_count": 36,
   "id": "334c39c6-1d1e-4df4-b89a-2d2813c93e2b",
   "metadata": {},
   "outputs": [],
   "source": [
    "from ast import literal_eval"
   ]
  },
  {
   "cell_type": "code",
   "execution_count": 37,
   "id": "76b5fc75-9ba1-45ea-865d-e2d4efe2f450",
   "metadata": {},
   "outputs": [
    {
     "data": {
      "text/plain": [
       "dict"
      ]
     },
     "execution_count": 37,
     "metadata": {},
     "output_type": "execute_result"
    }
   ],
   "source": [
    "type(literal_eval(\"{'id' : 28, 'name' : 'Action'}\"))"
   ]
  },
  {
   "cell_type": "code",
   "execution_count": 38,
   "id": "4f418c48-22b0-4823-824c-113eaf9e4fca",
   "metadata": {},
   "outputs": [
    {
     "ename": "SyntaxError",
     "evalue": "unexpected EOF while parsing (<unknown>, line 1)",
     "output_type": "error",
     "traceback": [
      "Traceback \u001b[1;36m(most recent call last)\u001b[0m:\n",
      "  File \u001b[0;32m~\\anaconda3\\lib\\site-packages\\IPython\\core\\interactiveshell.py:3369\u001b[0m in \u001b[0;35mrun_code\u001b[0m\n    exec(code_obj, self.user_global_ns, self.user_ns)\n",
      "  Input \u001b[0;32mIn [38]\u001b[0m in \u001b[0;35m<cell line: 1>\u001b[0m\n    literal_eval(movies['genres'][0][0])\n",
      "  File \u001b[0;32m~\\anaconda3\\lib\\ast.py:62\u001b[0m in \u001b[0;35mliteral_eval\u001b[0m\n    node_or_string = parse(node_or_string, mode='eval')\n",
      "\u001b[1;36m  File \u001b[1;32m~\\anaconda3\\lib\\ast.py:50\u001b[1;36m in \u001b[1;35mparse\u001b[1;36m\u001b[0m\n\u001b[1;33m    return compile(source, filename, mode, flags,\u001b[0m\n",
      "\u001b[1;36m  File \u001b[1;32m<unknown>:1\u001b[1;36m\u001b[0m\n\u001b[1;33m    [\u001b[0m\n\u001b[1;37m    ^\u001b[0m\n\u001b[1;31mSyntaxError\u001b[0m\u001b[1;31m:\u001b[0m unexpected EOF while parsing\n"
     ]
    }
   ],
   "source": [
    "literal_eval(movies['genres'][0][0])"
   ]
  },
  {
   "cell_type": "code",
   "execution_count": 39,
   "id": "57473bc3-17c8-4e04-9599-763dd4ef2ef9",
   "metadata": {},
   "outputs": [
    {
     "data": {
      "text/html": [
       "<div>\n",
       "<style scoped>\n",
       "    .dataframe tbody tr th:only-of-type {\n",
       "        vertical-align: middle;\n",
       "    }\n",
       "\n",
       "    .dataframe tbody tr th {\n",
       "        vertical-align: top;\n",
       "    }\n",
       "\n",
       "    .dataframe thead th {\n",
       "        text-align: right;\n",
       "    }\n",
       "</style>\n",
       "<table border=\"1\" class=\"dataframe\">\n",
       "  <thead>\n",
       "    <tr style=\"text-align: right;\">\n",
       "      <th></th>\n",
       "      <th>id</th>\n",
       "      <th>title</th>\n",
       "      <th>genres</th>\n",
       "      <th>vote_average</th>\n",
       "      <th>vote_count</th>\n",
       "      <th>popularity</th>\n",
       "      <th>keywords</th>\n",
       "      <th>overview</th>\n",
       "    </tr>\n",
       "  </thead>\n",
       "  <tbody>\n",
       "    <tr>\n",
       "      <th>0</th>\n",
       "      <td>19995</td>\n",
       "      <td>Avatar</td>\n",
       "      <td>[{\"id\": 28, \"name\": \"Action\"}, {\"id\": 12, \"nam...</td>\n",
       "      <td>7.2</td>\n",
       "      <td>11800</td>\n",
       "      <td>150.437577</td>\n",
       "      <td>[{\"id\": 1463, \"name\": \"culture clash\"}, {\"id\":...</td>\n",
       "      <td>In the 22nd century, a paraplegic Marine is di...</td>\n",
       "    </tr>\n",
       "    <tr>\n",
       "      <th>1</th>\n",
       "      <td>285</td>\n",
       "      <td>Pirates of the Caribbean: At World's End</td>\n",
       "      <td>[{\"id\": 12, \"name\": \"Adventure\"}, {\"id\": 14, \"...</td>\n",
       "      <td>6.9</td>\n",
       "      <td>4500</td>\n",
       "      <td>139.082615</td>\n",
       "      <td>[{\"id\": 270, \"name\": \"ocean\"}, {\"id\": 726, \"na...</td>\n",
       "      <td>Captain Barbossa, long believed to be dead, ha...</td>\n",
       "    </tr>\n",
       "  </tbody>\n",
       "</table>\n",
       "</div>"
      ],
      "text/plain": [
       "      id                                     title  \\\n",
       "0  19995                                    Avatar   \n",
       "1    285  Pirates of the Caribbean: At World's End   \n",
       "\n",
       "                                              genres  vote_average  \\\n",
       "0  [{\"id\": 28, \"name\": \"Action\"}, {\"id\": 12, \"nam...           7.2   \n",
       "1  [{\"id\": 12, \"name\": \"Adventure\"}, {\"id\": 14, \"...           6.9   \n",
       "\n",
       "   vote_count  popularity                                           keywords  \\\n",
       "0       11800  150.437577  [{\"id\": 1463, \"name\": \"culture clash\"}, {\"id\":...   \n",
       "1        4500  139.082615  [{\"id\": 270, \"name\": \"ocean\"}, {\"id\": 726, \"na...   \n",
       "\n",
       "                                            overview  \n",
       "0  In the 22nd century, a paraplegic Marine is di...  \n",
       "1  Captain Barbossa, long believed to be dead, ha...  "
      ]
     },
     "execution_count": 39,
     "metadata": {},
     "output_type": "execute_result"
    }
   ],
   "source": [
    "movies_df = movies.iloc[:, [3, 17, 1, 18, 19, 8, 4, 7]]\n",
    "movies_df[:2]"
   ]
  },
  {
   "cell_type": "code",
   "execution_count": 41,
   "id": "24774061-2454-4ae0-a101-dd8e5b859174",
   "metadata": {
    "jupyter": {
     "source_hidden": true
    },
    "tags": []
   },
   "outputs": [],
   "source": [
    "import warnings\n",
    "warnings.filterwarnings('ignore')"
   ]
  },
  {
   "cell_type": "code",
   "execution_count": 40,
   "id": "de2bb3a0-5b6a-4e25-9a99-cd18ad27c2b0",
   "metadata": {},
   "outputs": [],
   "source": [
    "movies_df['genres'] = movies_df['genres'].apply(literal_eval)\n",
    "movies_df['keywords'] = movies_df['keywords'].apply(literal_eval)"
   ]
  },
  {
   "cell_type": "code",
   "execution_count": 42,
   "id": "bce730c3-12d7-4878-ab58-e32bf2ff1633",
   "metadata": {},
   "outputs": [
    {
     "data": {
      "text/plain": [
       "[{'id': 28, 'name': 'Action'},\n",
       " {'id': 12, 'name': 'Adventure'},\n",
       " {'id': 14, 'name': 'Fantasy'},\n",
       " {'id': 878, 'name': 'Science Fiction'}]"
      ]
     },
     "execution_count": 42,
     "metadata": {},
     "output_type": "execute_result"
    }
   ],
   "source": [
    "movies_df['genres'][0]"
   ]
  },
  {
   "cell_type": "code",
   "execution_count": 48,
   "id": "0a152cc6-97c0-487d-ae75-6024c2de8abc",
   "metadata": {},
   "outputs": [
    {
     "name": "stdout",
     "output_type": "stream",
     "text": [
      "Action\n",
      "Adventure\n",
      "Fantasy\n",
      "Science Fiction\n"
     ]
    }
   ],
   "source": [
    "for i in movies_df['genres'][0]:\n",
    "    print(i['name'])"
   ]
  },
  {
   "cell_type": "code",
   "execution_count": 49,
   "id": "e0ecdbc4-7d53-434c-8fed-1a7f35224d1f",
   "metadata": {},
   "outputs": [
    {
     "data": {
      "text/plain": [
       "['Action', 'Adventure', 'Fantasy', 'Science Fiction']"
      ]
     },
     "execution_count": 49,
     "metadata": {},
     "output_type": "execute_result"
    }
   ],
   "source": [
    "[i['name'] for i in movies_df['genres'][0]]"
   ]
  },
  {
   "cell_type": "code",
   "execution_count": 50,
   "id": "48d53e7b-b887-4c0f-a137-5530de19a366",
   "metadata": {},
   "outputs": [],
   "source": [
    "movies_df['genres'] = movies_df['genres'].apply(lambda x : [ y['name'] for y in x ])\n",
    "movies_df['keywords'] = movies_df['keywords'].apply(lambda x : [ y['name'] for y in x ])"
   ]
  },
  {
   "cell_type": "code",
   "execution_count": 52,
   "id": "f41e95b3-5348-4b43-ad7c-79551c3ed9df",
   "metadata": {},
   "outputs": [
    {
     "data": {
      "text/html": [
       "<div>\n",
       "<style scoped>\n",
       "    .dataframe tbody tr th:only-of-type {\n",
       "        vertical-align: middle;\n",
       "    }\n",
       "\n",
       "    .dataframe tbody tr th {\n",
       "        vertical-align: top;\n",
       "    }\n",
       "\n",
       "    .dataframe thead th {\n",
       "        text-align: right;\n",
       "    }\n",
       "</style>\n",
       "<table border=\"1\" class=\"dataframe\">\n",
       "  <thead>\n",
       "    <tr style=\"text-align: right;\">\n",
       "      <th></th>\n",
       "      <th>genres</th>\n",
       "      <th>keywords</th>\n",
       "    </tr>\n",
       "  </thead>\n",
       "  <tbody>\n",
       "    <tr>\n",
       "      <th>0</th>\n",
       "      <td>[Action, Adventure, Fantasy, Science Fiction]</td>\n",
       "      <td>[culture clash, future, space war, space colon...</td>\n",
       "    </tr>\n",
       "  </tbody>\n",
       "</table>\n",
       "</div>"
      ],
      "text/plain": [
       "                                          genres  \\\n",
       "0  [Action, Adventure, Fantasy, Science Fiction]   \n",
       "\n",
       "                                            keywords  \n",
       "0  [culture clash, future, space war, space colon...  "
      ]
     },
     "execution_count": 52,
     "metadata": {},
     "output_type": "execute_result"
    }
   ],
   "source": [
    "movies_df[['genres', 'keywords']][:1]"
   ]
  },
  {
   "cell_type": "code",
   "execution_count": 54,
   "id": "bcb7ecbf-3e8e-4c44-be21-d6354374f87c",
   "metadata": {
    "tags": []
   },
   "outputs": [
    {
     "data": {
      "text/plain": [
       "(4803, 276)"
      ]
     },
     "execution_count": 54,
     "metadata": {},
     "output_type": "execute_result"
    }
   ],
   "source": [
    "from sklearn.feature_extraction.text import CountVectorizer\n",
    "\n",
    "# CountVectorizer를 적용하기 위해 공백 문자로 word 단위가 구분되는 문장열로 변환해주기\n",
    "movies_df['genres_literal'] = movies_df['genres'].apply(lambda x : (' ').join(x))  # 괄호없이 ' ' 이렇게 해도 됨\n",
    "\n",
    "count_vect = CountVectorizer(min_df = 0, ngram_range = (1,2))\n",
    "genre_mat = count_vect.fit_transform(movies_df['genres_literal'])\n",
    "\n",
    "genre_mat.shape"
   ]
  },
  {
   "cell_type": "code",
   "execution_count": 57,
   "id": "474eaf07-e0f5-42be-b562-498b30f8a533",
   "metadata": {},
   "outputs": [
    {
     "name": "stdout",
     "output_type": "stream",
     "text": [
      "(4803, 4803)\n",
      "[[1.         0.59628479 0.4472136  ... 0.         0.         0.        ]\n",
      " [0.59628479 1.         0.4        ... 0.         0.         0.        ]]\n"
     ]
    }
   ],
   "source": [
    "# 코사인 유사도 측정\n",
    "from sklearn.metrics.pairwise import cosine_similarity\n",
    "\n",
    "genre_sim = cosine_similarity(genre_mat, genre_mat)\n",
    "print(genre_sim.shape)\n",
    "print(genre_sim[:2])"
   ]
  },
  {
   "cell_type": "code",
   "execution_count": 62,
   "id": "dbf4bb05-81d4-4631-bdc7-5c4152090b7b",
   "metadata": {},
   "outputs": [
    {
     "name": "stdout",
     "output_type": "stream",
     "text": [
      "[[1.         0.59628479 0.4472136  ... 0.         0.         0.        ]]\n"
     ]
    },
    {
     "data": {
      "text/plain": [
       "array([[0.59628479]])"
      ]
     },
     "execution_count": 62,
     "metadata": {},
     "output_type": "execute_result"
    }
   ],
   "source": [
    "print(cosine_similarity(genre_mat[0], genre_mat)) # 첫 번째 장르와 모든 장르의 유사도 측정 방법\n",
    "\n",
    "cosine_similarity(genre_mat[0], genre_mat[1]) # 첫 번째 장르와 두 번재 장르의 유사도 측정 방법"
   ]
  },
  {
   "cell_type": "code",
   "execution_count": 74,
   "id": "40233be7-3e9e-4d0e-8885-5d7008df98c3",
   "metadata": {},
   "outputs": [],
   "source": [
    "import numpy as np\n",
    "genre_sim_sorted_ind = np.argsort(genre_sim)[:, ::-1]  # 유사도 높은 순으로 정리된 genre_sim 객체의 비교 행 위치 인덱스 값 얻기"
   ]
  },
  {
   "cell_type": "markdown",
   "id": "820d5352-0aba-4242-823d-31c40b6668d1",
   "metadata": {},
   "source": [
    "=> 자신인 0번 레코드를 제외하면 3494번 레코드가 가장 유사도가 높고, 가장 유사도가 낮은 레코드는 2401번 레코드임  \n",
    "이 위치 인덱스를 이용해 언지든지 특정 레코드와 코사인 유사도가 높은 다른 레코드를 추출할 수 있음"
   ]
  },
  {
   "cell_type": "code",
   "execution_count": 66,
   "id": "9242079b-32ad-4e7e-9ef6-6d4ea945c9d9",
   "metadata": {},
   "outputs": [
    {
     "data": {
      "text/plain": [
       "array([10, 11, 13, 14])"
      ]
     },
     "execution_count": 66,
     "metadata": {},
     "output_type": "execute_result"
    }
   ],
   "source": [
    "a = np.array([10, 13, 14, 11])\n",
    "np.sort(a)"
   ]
  },
  {
   "cell_type": "code",
   "execution_count": 67,
   "id": "9196bc7d-d2ad-441a-bc75-983c8a5be6fd",
   "metadata": {},
   "outputs": [
    {
     "data": {
      "text/plain": [
       "array([0, 3, 1, 2], dtype=int64)"
      ]
     },
     "execution_count": 67,
     "metadata": {},
     "output_type": "execute_result"
    }
   ],
   "source": [
    "np.argsort(a)"
   ]
  },
  {
   "cell_type": "code",
   "execution_count": 68,
   "id": "5b4b32e6-62d4-435d-9ce7-fd3bc65641ec",
   "metadata": {},
   "outputs": [
    {
     "data": {
      "text/plain": [
       "array([2, 1, 3, 0], dtype=int64)"
      ]
     },
     "execution_count": 68,
     "metadata": {},
     "output_type": "execute_result"
    }
   ],
   "source": [
    "np.argsort(a)[::-1]"
   ]
  },
  {
   "cell_type": "code",
   "execution_count": 70,
   "id": "7783a850-73e4-45e3-90bb-43b8035fd44b",
   "metadata": {},
   "outputs": [
    {
     "data": {
      "text/plain": [
       "array([14, 13, 11, 10])"
      ]
     },
     "execution_count": 70,
     "metadata": {},
     "output_type": "execute_result"
    }
   ],
   "source": [
    "a[[2, 1, 3, 0]]"
   ]
  },
  {
   "cell_type": "markdown",
   "id": "c38bd075-4194-404d-812b-2bd6fa7e17a9",
   "metadata": {},
   "source": [
    "### 장르 콘텐츠 필터링을 이용한 영화 추천"
   ]
  },
  {
   "cell_type": "markdown",
   "id": "9f577ae8-ac5c-4a18-a1c5-f32bbc05a46f",
   "metadata": {},
   "source": [
    "장르 유사도에 따라 영화를 추천하는 함수 생성하기"
   ]
  },
  {
   "cell_type": "code",
   "execution_count": 71,
   "id": "7bbf95ee-7420-40e4-9d57-b1b525ec777c",
   "metadata": {},
   "outputs": [],
   "source": [
    "def find_sim_movie(df, sorted_ind, title_name, top_n = 10):\n",
    "    \n",
    "    # 인자로 입력된 movies_df Dataframe에서 title 컬럼이 입력된 title_name 값인 dataframe 추출\n",
    "    title_movie = df[df['title'] == title_name]\n",
    "    \n",
    "    # title_named을 가진 dataframe의 index 객체를 ndarray로 반환\n",
    "    # sorted_ind 인자로 입력된 genre_sim_sorted_ind 객체에서 유사도 순으로 top_n개의 index 추출\n",
    "    title_index = title_movie.index.values\n",
    "    similar_indexes = sorted_ind[title_index, : (top_n)]\n",
    "    \n",
    "    # 추출된 top_n index 출력. top_n index는 2차원 데이터임\n",
    "    # datafram에서 index로 사용하기 위해서 1차원 array로 변경\\\n",
    "    print(similar_indexes)\n",
    "    similar_indexes = similar_indexes.reshape(-1)\n",
    "    \n",
    "    return df.iloc[similar_indexes]"
   ]
  },
  {
   "cell_type": "code",
   "execution_count": 75,
   "id": "0189b278-157d-4f47-b255-d17d4b02a8ed",
   "metadata": {},
   "outputs": [
    {
     "name": "stdout",
     "output_type": "stream",
     "text": [
      "[[2731 1243 3636 1946 2640 4065 1847 4217  883 3866]]\n"
     ]
    },
    {
     "data": {
      "text/html": [
       "<div>\n",
       "<style scoped>\n",
       "    .dataframe tbody tr th:only-of-type {\n",
       "        vertical-align: middle;\n",
       "    }\n",
       "\n",
       "    .dataframe tbody tr th {\n",
       "        vertical-align: top;\n",
       "    }\n",
       "\n",
       "    .dataframe thead th {\n",
       "        text-align: right;\n",
       "    }\n",
       "</style>\n",
       "<table border=\"1\" class=\"dataframe\">\n",
       "  <thead>\n",
       "    <tr style=\"text-align: right;\">\n",
       "      <th></th>\n",
       "      <th>title</th>\n",
       "      <th>vote_average</th>\n",
       "    </tr>\n",
       "  </thead>\n",
       "  <tbody>\n",
       "    <tr>\n",
       "      <th>2731</th>\n",
       "      <td>The Godfather: Part II</td>\n",
       "      <td>8.3</td>\n",
       "    </tr>\n",
       "    <tr>\n",
       "      <th>1243</th>\n",
       "      <td>Mean Streets</td>\n",
       "      <td>7.2</td>\n",
       "    </tr>\n",
       "    <tr>\n",
       "      <th>3636</th>\n",
       "      <td>Light Sleeper</td>\n",
       "      <td>5.7</td>\n",
       "    </tr>\n",
       "    <tr>\n",
       "      <th>1946</th>\n",
       "      <td>The Bad Lieutenant: Port of Call - New Orleans</td>\n",
       "      <td>6.0</td>\n",
       "    </tr>\n",
       "    <tr>\n",
       "      <th>2640</th>\n",
       "      <td>Things to Do in Denver When You're Dead</td>\n",
       "      <td>6.7</td>\n",
       "    </tr>\n",
       "    <tr>\n",
       "      <th>4065</th>\n",
       "      <td>Mi America</td>\n",
       "      <td>0.0</td>\n",
       "    </tr>\n",
       "    <tr>\n",
       "      <th>1847</th>\n",
       "      <td>GoodFellas</td>\n",
       "      <td>8.2</td>\n",
       "    </tr>\n",
       "    <tr>\n",
       "      <th>4217</th>\n",
       "      <td>Kids</td>\n",
       "      <td>6.8</td>\n",
       "    </tr>\n",
       "    <tr>\n",
       "      <th>883</th>\n",
       "      <td>Catch Me If You Can</td>\n",
       "      <td>7.7</td>\n",
       "    </tr>\n",
       "    <tr>\n",
       "      <th>3866</th>\n",
       "      <td>City of God</td>\n",
       "      <td>8.1</td>\n",
       "    </tr>\n",
       "  </tbody>\n",
       "</table>\n",
       "</div>"
      ],
      "text/plain": [
       "                                               title  vote_average\n",
       "2731                          The Godfather: Part II           8.3\n",
       "1243                                    Mean Streets           7.2\n",
       "3636                                   Light Sleeper           5.7\n",
       "1946  The Bad Lieutenant: Port of Call - New Orleans           6.0\n",
       "2640         Things to Do in Denver When You're Dead           6.7\n",
       "4065                                      Mi America           0.0\n",
       "1847                                      GoodFellas           8.2\n",
       "4217                                            Kids           6.8\n",
       "883                              Catch Me If You Can           7.7\n",
       "3866                                     City of God           8.1"
      ]
     },
     "execution_count": 75,
     "metadata": {},
     "output_type": "execute_result"
    }
   ],
   "source": [
    "similar_movies = find_sim_movie(movies_df, genre_sim_sorted_ind, 'The Godfather', 10)\n",
    "similar_movies[['title', 'vote_average']]"
   ]
  },
  {
   "cell_type": "markdown",
   "id": "cbc4e9b2-ea1d-4996-956b-5d5a72a29c6a",
   "metadata": {},
   "source": [
    "#### 가중 평점 공식"
   ]
  },
  {
   "cell_type": "markdown",
   "id": "a386cd5e-f239-4b6a-8099-b8848fa76ce6",
   "metadata": {},
   "source": [
    "평가 횟수에 대한 **가중치가 부여**된 평점 방식"
   ]
  },
  {
   "cell_type": "markdown",
   "id": "e56905f5-0001-4cb0-b2dc-79e1cb7ebe6a",
   "metadata": {},
   "source": [
    "가중 평점(Weighted Rating) = ($\\frac{v}{v+m}$) * R + ($\\frac{m}{v+m}$) * C"
   ]
  },
  {
   "cell_type": "code",
   "execution_count": 77,
   "id": "a11de03c-8d7f-4fd5-b82c-79d63564ac15",
   "metadata": {},
   "outputs": [
    {
     "name": "stdout",
     "output_type": "stream",
     "text": [
      "6.092171559442011 370.1999999999998\n"
     ]
    }
   ],
   "source": [
    "C = movies_df['vote_average'].mean()\n",
    "m = movies_df['vote_count'].quantile(0.6)\n",
    "print(C, m)"
   ]
  },
  {
   "cell_type": "code",
   "execution_count": 78,
   "id": "a4544f2a-a5af-4bf9-80e4-6b31ba788d3d",
   "metadata": {},
   "outputs": [],
   "source": [
    "def weighted_vote_average(record):\n",
    "    v = record['vote_count']\n",
    "    R = record['vote_average']\n",
    "    \n",
    "    return (v / (v + m)) * R + (m / (v + m)) * C"
   ]
  },
  {
   "cell_type": "code",
   "execution_count": 87,
   "id": "2b99429b-012c-4166-8b55-da8284ca7523",
   "metadata": {},
   "outputs": [],
   "source": [
    "movies_df['weighted_vote'] = movies.apply(weighted_vote_average, axis = 1)"
   ]
  },
  {
   "cell_type": "code",
   "execution_count": 88,
   "id": "32713081-e3f0-450a-a4c0-b25dd916260b",
   "metadata": {},
   "outputs": [
    {
     "data": {
      "text/html": [
       "<div>\n",
       "<style scoped>\n",
       "    .dataframe tbody tr th:only-of-type {\n",
       "        vertical-align: middle;\n",
       "    }\n",
       "\n",
       "    .dataframe tbody tr th {\n",
       "        vertical-align: top;\n",
       "    }\n",
       "\n",
       "    .dataframe thead th {\n",
       "        text-align: right;\n",
       "    }\n",
       "</style>\n",
       "<table border=\"1\" class=\"dataframe\">\n",
       "  <thead>\n",
       "    <tr style=\"text-align: right;\">\n",
       "      <th></th>\n",
       "      <th>title</th>\n",
       "      <th>vote_average</th>\n",
       "      <th>weighted_vote</th>\n",
       "      <th>vote_count</th>\n",
       "    </tr>\n",
       "  </thead>\n",
       "  <tbody>\n",
       "    <tr>\n",
       "      <th>1881</th>\n",
       "      <td>The Shawshank Redemption</td>\n",
       "      <td>8.5</td>\n",
       "      <td>8.396052</td>\n",
       "      <td>8205</td>\n",
       "    </tr>\n",
       "    <tr>\n",
       "      <th>3337</th>\n",
       "      <td>The Godfather</td>\n",
       "      <td>8.4</td>\n",
       "      <td>8.263591</td>\n",
       "      <td>5893</td>\n",
       "    </tr>\n",
       "    <tr>\n",
       "      <th>662</th>\n",
       "      <td>Fight Club</td>\n",
       "      <td>8.3</td>\n",
       "      <td>8.216455</td>\n",
       "      <td>9413</td>\n",
       "    </tr>\n",
       "    <tr>\n",
       "      <th>3232</th>\n",
       "      <td>Pulp Fiction</td>\n",
       "      <td>8.3</td>\n",
       "      <td>8.207102</td>\n",
       "      <td>8428</td>\n",
       "    </tr>\n",
       "    <tr>\n",
       "      <th>65</th>\n",
       "      <td>The Dark Knight</td>\n",
       "      <td>8.2</td>\n",
       "      <td>8.136930</td>\n",
       "      <td>12002</td>\n",
       "    </tr>\n",
       "    <tr>\n",
       "      <th>1818</th>\n",
       "      <td>Schindler's List</td>\n",
       "      <td>8.3</td>\n",
       "      <td>8.126069</td>\n",
       "      <td>4329</td>\n",
       "    </tr>\n",
       "    <tr>\n",
       "      <th>3865</th>\n",
       "      <td>Whiplash</td>\n",
       "      <td>8.3</td>\n",
       "      <td>8.123248</td>\n",
       "      <td>4254</td>\n",
       "    </tr>\n",
       "    <tr>\n",
       "      <th>809</th>\n",
       "      <td>Forrest Gump</td>\n",
       "      <td>8.2</td>\n",
       "      <td>8.105954</td>\n",
       "      <td>7927</td>\n",
       "    </tr>\n",
       "    <tr>\n",
       "      <th>2294</th>\n",
       "      <td>Spirited Away</td>\n",
       "      <td>8.3</td>\n",
       "      <td>8.105867</td>\n",
       "      <td>3840</td>\n",
       "    </tr>\n",
       "    <tr>\n",
       "      <th>2731</th>\n",
       "      <td>The Godfather: Part II</td>\n",
       "      <td>8.3</td>\n",
       "      <td>8.079586</td>\n",
       "      <td>3338</td>\n",
       "    </tr>\n",
       "  </tbody>\n",
       "</table>\n",
       "</div>"
      ],
      "text/plain": [
       "                         title  vote_average  weighted_vote  vote_count\n",
       "1881  The Shawshank Redemption           8.5       8.396052        8205\n",
       "3337             The Godfather           8.4       8.263591        5893\n",
       "662                 Fight Club           8.3       8.216455        9413\n",
       "3232              Pulp Fiction           8.3       8.207102        8428\n",
       "65             The Dark Knight           8.2       8.136930       12002\n",
       "1818          Schindler's List           8.3       8.126069        4329\n",
       "3865                  Whiplash           8.3       8.123248        4254\n",
       "809               Forrest Gump           8.2       8.105954        7927\n",
       "2294             Spirited Away           8.3       8.105867        3840\n",
       "2731    The Godfather: Part II           8.3       8.079586        3338"
      ]
     },
     "execution_count": 88,
     "metadata": {},
     "output_type": "execute_result"
    }
   ],
   "source": [
    "movies_df[['title', 'vote_average', 'weighted_vote', 'vote_count']].sort_values('weighted_vote', ascending = False)[:10]"
   ]
  },
  {
   "cell_type": "markdown",
   "id": "99d6026b-185d-40d6-acc7-325d27916e62",
   "metadata": {},
   "source": [
    "----------"
   ]
  },
  {
   "cell_type": "markdown",
   "id": "f8ce29f8-e6f7-42bf-b3e9-8bc874e2bdc5",
   "metadata": {},
   "source": [
    "## Surprise - 파이썬 추천 시스템 패키지"
   ]
  },
  {
   "cell_type": "code",
   "execution_count": 103,
   "id": "2e6a05a5-a1ac-443d-a385-3afc7438e80c",
   "metadata": {},
   "outputs": [
    {
     "name": "stdout",
     "output_type": "stream",
     "text": [
      "Collecting package metadata (current_repodata.json): ...working... done\n",
      "Solving environment: ...working... done\n",
      "\n",
      "## Package Plan ##\n",
      "\n",
      "  environment location: C:\\Users\\Min\\anaconda3\n",
      "\n",
      "  added / updated specs:\n",
      "    - scikit-learn\n",
      "\n",
      "\n",
      "The following packages will be downloaded:\n",
      "\n",
      "    package                    |            build\n",
      "    ---------------------------|-----------------\n",
      "    fftw-3.3.9                 |       h2bbff1b_1         672 KB\n",
      "    icc_rt-2022.1.0            |       h6049295_2         6.5 MB\n",
      "    scikit-learn-1.1.2         |   py39hd77b12b_0         5.5 MB\n",
      "    scipy-1.9.1                |   py39he11b74f_0        15.7 MB\n",
      "    ------------------------------------------------------------\n",
      "                                           Total:        28.4 MB\n",
      "\n",
      "The following NEW packages will be INSTALLED:\n",
      "\n",
      "  fftw               pkgs/main/win-64::fftw-3.3.9-h2bbff1b_1 None\n",
      "  icc_rt             pkgs/main/win-64::icc_rt-2022.1.0-h6049295_2 None\n",
      "  scikit-learn       pkgs/main/win-64::scikit-learn-1.1.2-py39hd77b12b_0 None\n",
      "  scipy              pkgs/main/win-64::scipy-1.9.1-py39he11b74f_0 None\n",
      "  threadpoolctl      pkgs/main/noarch::threadpoolctl-2.2.0-pyh0d69192_0 None\n",
      "\n",
      "\n",
      "\n",
      "Downloading and Extracting Packages\n",
      "\n",
      "scikit-learn-1.1.2   | 5.5 MB    |            |   0% \n",
      "scikit-learn-1.1.2   | 5.5 MB    | 8          |   9% \n",
      "scikit-learn-1.1.2   | 5.5 MB    | ###5       |  36% \n",
      "scikit-learn-1.1.2   | 5.5 MB    | ######3    |  64% \n",
      "scikit-learn-1.1.2   | 5.5 MB    | ########## | 100% \n",
      "scikit-learn-1.1.2   | 5.5 MB    | ########## | 100% \n",
      "\n",
      "scipy-1.9.1          | 15.7 MB   |            |   0% \n",
      "scipy-1.9.1          | 15.7 MB   | 5          |   5% \n",
      "scipy-1.9.1          | 15.7 MB   | #4         |  15% \n",
      "scipy-1.9.1          | 15.7 MB   | ##5        |  25% \n",
      "scipy-1.9.1          | 15.7 MB   | ###2       |  33% \n",
      "scipy-1.9.1          | 15.7 MB   | ####1      |  42% \n",
      "scipy-1.9.1          | 15.7 MB   | ####9      |  49% \n",
      "scipy-1.9.1          | 15.7 MB   | #####8     |  58% \n",
      "scipy-1.9.1          | 15.7 MB   | ######9    |  69% \n",
      "scipy-1.9.1          | 15.7 MB   | ########2  |  82% \n",
      "scipy-1.9.1          | 15.7 MB   | #########6 |  97% \n",
      "scipy-1.9.1          | 15.7 MB   | ########## | 100% \n",
      "\n",
      "fftw-3.3.9           | 672 KB    |            |   0% \n",
      "fftw-3.3.9           | 672 KB    | ########## | 100% \n",
      "fftw-3.3.9           | 672 KB    | ########## | 100% \n",
      "\n",
      "icc_rt-2022.1.0      | 6.5 MB    |            |   0% \n",
      "icc_rt-2022.1.0      | 6.5 MB    | ###8       |  38% \n",
      "icc_rt-2022.1.0      | 6.5 MB    | #########3 |  93% \n",
      "icc_rt-2022.1.0      | 6.5 MB    | ########## | 100% \n",
      "Preparing transaction: ...working... done\n",
      "Verifying transaction: ...working... done\n",
      "Executing transaction: ...working... \n",
      "\n",
      "    Windows 64-bit packages of scikit-learn can be accelerated using scikit-learn-intelex.\n",
      "    More details are available here: https://intel.github.io/scikit-learn-intelex\n",
      "\n",
      "    For example:\n",
      "\n",
      "        $ conda install scikit-learn-intelex\n",
      "        $ python -m sklearnex my_application.py\n",
      "\n",
      "\n",
      "done\n",
      "Retrieving notices: ...working... done\n",
      "\n",
      "Note: you may need to restart the kernel to use updated packages.\n"
     ]
    }
   ],
   "source": [
    "conda install scikit-learn"
   ]
  },
  {
   "cell_type": "code",
   "execution_count": 1,
   "id": "aed56ba5-2cd9-4d4f-9bdd-db9eacad230a",
   "metadata": {},
   "outputs": [],
   "source": [
    "from surprise import SVD\n",
    "from surprise import Dataset\n",
    "from surprise import accuracy\n",
    "from surprise.model_selection import train_test_split"
   ]
  },
  {
   "cell_type": "code",
   "execution_count": 2,
   "id": "1f37d1da-69cb-4bc2-ad9d-3d7bbd243c31",
   "metadata": {},
   "outputs": [
    {
     "name": "stdout",
     "output_type": "stream",
     "text": [
      "Dataset ml-100k could not be found. Do you want to download it? [Y/n] "
     ]
    },
    {
     "name": "stdin",
     "output_type": "stream",
     "text": [
      " Y\n"
     ]
    },
    {
     "name": "stdout",
     "output_type": "stream",
     "text": [
      "Trying to download dataset from http://files.grouplens.org/datasets/movielens/ml-100k.zip...\n",
      "Done! Dataset ml-100k has been saved to C:\\Users\\Min/.surprise_data/ml-100k\n"
     ]
    }
   ],
   "source": [
    "data = Dataset.load_builtin('ml-100k')"
   ]
  },
  {
   "cell_type": "code",
   "execution_count": 4,
   "id": "4dee6080-67f9-4c6b-8655-00b64e257a34",
   "metadata": {},
   "outputs": [],
   "source": [
    "trainset, testset = train_test_split(data, test_size = .25, random_state = 0)"
   ]
  },
  {
   "cell_type": "code",
   "execution_count": 5,
   "id": "3609ac7d-dc20-4613-967e-c5d2684d98d3",
   "metadata": {},
   "outputs": [
    {
     "data": {
      "text/plain": [
       "<surprise.prediction_algorithms.matrix_factorization.SVD at 0x2b10ab30f10>"
      ]
     },
     "execution_count": 5,
     "metadata": {},
     "output_type": "execute_result"
    }
   ],
   "source": [
    "algo = SVD(random_state = 0)\n",
    "algo.fit(trainset)"
   ]
  },
  {
   "cell_type": "code",
   "execution_count": 12,
   "id": "7f192320-b621-4d32-af2b-f1ebe10f6f10",
   "metadata": {
    "collapsed": true,
    "jupyter": {
     "outputs_hidden": true
    },
    "tags": []
   },
   "outputs": [
    {
     "data": {
      "text/plain": [
       "[Prediction(uid='120', iid='282', r_ui=4.0, est=3.5114147666251547, details={'was_impossible': False}),\n",
       " Prediction(uid='882', iid='291', r_ui=4.0, est=3.573872419581491, details={'was_impossible': False}),\n",
       " Prediction(uid='535', iid='507', r_ui=5.0, est=4.033583485472447, details={'was_impossible': False}),\n",
       " Prediction(uid='697', iid='244', r_ui=5.0, est=3.8463639495936905, details={'was_impossible': False}),\n",
       " Prediction(uid='751', iid='385', r_ui=4.0, est=3.1807542478219157, details={'was_impossible': False}),\n",
       " Prediction(uid='219', iid='82', r_ui=1.0, est=4.1755161590745145, details={'was_impossible': False}),\n",
       " Prediction(uid='279', iid='571', r_ui=4.0, est=2.4179600970240775, details={'was_impossible': False}),\n",
       " Prediction(uid='429', iid='568', r_ui=3.0, est=3.062893143794347, details={'was_impossible': False}),\n",
       " Prediction(uid='456', iid='100', r_ui=3.0, est=4.51573882377166, details={'was_impossible': False}),\n",
       " Prediction(uid='249', iid='23', r_ui=4.0, est=4.76990278783951, details={'was_impossible': False}),\n",
       " Prediction(uid='493', iid='183', r_ui=5.0, est=3.6416476646031946, details={'was_impossible': False}),\n",
       " Prediction(uid='325', iid='469', r_ui=4.0, est=3.6419085281185453, details={'was_impossible': False}),\n",
       " Prediction(uid='631', iid='682', r_ui=2.0, est=2.450456277578793, details={'was_impossible': False}),\n",
       " Prediction(uid='276', iid='121', r_ui=4.0, est=3.375100503132279, details={'was_impossible': False}),\n",
       " Prediction(uid='269', iid='405', r_ui=1.0, est=1.4535919252071925, details={'was_impossible': False}),\n",
       " Prediction(uid='159', iid='1095', r_ui=5.0, est=2.99999875106285, details={'was_impossible': False}),\n",
       " Prediction(uid='385', iid='965', r_ui=4.0, est=3.0763504887926003, details={'was_impossible': False}),\n",
       " Prediction(uid='21', iid='358', r_ui=3.0, est=1.6338426703177003, details={'was_impossible': False}),\n",
       " Prediction(uid='181', iid='1359', r_ui=1.0, est=1.7271581350249747, details={'was_impossible': False}),\n",
       " Prediction(uid='561', iid='124', r_ui=3.0, est=3.787135075625098, details={'was_impossible': False}),\n",
       " Prediction(uid='658', iid='1079', r_ui=2.0, est=2.187498239692042, details={'was_impossible': False}),\n",
       " Prediction(uid='354', iid='269', r_ui=4.0, est=3.846808435131072, details={'was_impossible': False}),\n",
       " Prediction(uid='325', iid='483', r_ui=5.0, est=3.933191782960699, details={'was_impossible': False}),\n",
       " Prediction(uid='601', iid='241', r_ui=4.0, est=3.0138570379330294, details={'was_impossible': False}),\n",
       " Prediction(uid='409', iid='1020', r_ui=5.0, est=3.6719601630949685, details={'was_impossible': False}),\n",
       " Prediction(uid='801', iid='300', r_ui=5.0, est=4.51885048448503, details={'was_impossible': False}),\n",
       " Prediction(uid='289', iid='21', r_ui=1.0, est=2.6553215097676306, details={'was_impossible': False}),\n",
       " Prediction(uid='378', iid='896', r_ui=4.0, est=3.7571303393773547, details={'was_impossible': False}),\n",
       " Prediction(uid='609', iid='294', r_ui=2.0, est=2.4125647823564758, details={'was_impossible': False}),\n",
       " Prediction(uid='442', iid='452', r_ui=3.0, est=2.314744782243251, details={'was_impossible': False}),\n",
       " Prediction(uid='459', iid='264', r_ui=4.0, est=2.8383786881568827, details={'was_impossible': False}),\n",
       " Prediction(uid='739', iid='333', r_ui=4.0, est=3.4544087591482793, details={'was_impossible': False}),\n",
       " Prediction(uid='297', iid='98', r_ui=5.0, est=4.0009018376081285, details={'was_impossible': False}),\n",
       " Prediction(uid='592', iid='286', r_ui=5.0, est=4.540588853140452, details={'was_impossible': False}),\n",
       " Prediction(uid='313', iid='820', r_ui=2.0, est=2.515981817745728, details={'was_impossible': False}),\n",
       " Prediction(uid='393', iid='802', r_ui=3.0, est=3.020672786030422, details={'was_impossible': False}),\n",
       " Prediction(uid='168', iid='763', r_ui=2.0, est=3.488843486111584, details={'was_impossible': False}),\n",
       " Prediction(uid='293', iid='17', r_ui=2.0, est=2.975845340758052, details={'was_impossible': False}),\n",
       " Prediction(uid='280', iid='1063', r_ui=3.0, est=3.975325664899296, details={'was_impossible': False}),\n",
       " Prediction(uid='379', iid='461', r_ui=4.0, est=4.0329431187588645, details={'was_impossible': False}),\n",
       " Prediction(uid='911', iid='638', r_ui=4.0, est=4.054688296886065, details={'was_impossible': False}),\n",
       " Prediction(uid='216', iid='368', r_ui=2.0, est=2.147450171786606, details={'was_impossible': False}),\n",
       " Prediction(uid='10', iid='195', r_ui=4.0, est=4.196534261547887, details={'was_impossible': False}),\n",
       " Prediction(uid='645', iid='46', r_ui=5.0, est=3.782766655045463, details={'was_impossible': False}),\n",
       " Prediction(uid='83', iid='412', r_ui=1.0, est=2.5902658872268187, details={'was_impossible': False}),\n",
       " Prediction(uid='321', iid='521', r_ui=2.0, est=3.530791236299481, details={'was_impossible': False}),\n",
       " Prediction(uid='650', iid='968', r_ui=4.0, est=3.289269923844189, details={'was_impossible': False}),\n",
       " Prediction(uid='58', iid='216', r_ui=3.0, est=4.345914601163359, details={'was_impossible': False}),\n",
       " Prediction(uid='897', iid='211', r_ui=5.0, est=4.287569152166227, details={'was_impossible': False}),\n",
       " Prediction(uid='44', iid='90', r_ui=2.0, est=2.88561601507081, details={'was_impossible': False}),\n",
       " Prediction(uid='487', iid='652', r_ui=5.0, est=3.422167087937031, details={'was_impossible': False}),\n",
       " Prediction(uid='104', iid='313', r_ui=4.0, est=3.2560403275122565, details={'was_impossible': False}),\n",
       " Prediction(uid='751', iid='381', r_ui=1.0, est=3.0515120821752935, details={'was_impossible': False}),\n",
       " Prediction(uid='20', iid='252', r_ui=4.0, est=2.364210334006955, details={'was_impossible': False}),\n",
       " Prediction(uid='528', iid='588', r_ui=2.0, est=3.7324963230457535, details={'was_impossible': False}),\n",
       " Prediction(uid='10', iid='180', r_ui=5.0, est=4.437461985031589, details={'was_impossible': False}),\n",
       " Prediction(uid='492', iid='923', r_ui=5.0, est=3.749943043030087, details={'was_impossible': False}),\n",
       " Prediction(uid='16', iid='591', r_ui=4.0, est=4.43705287112106, details={'was_impossible': False}),\n",
       " Prediction(uid='286', iid='272', r_ui=5.0, est=4.726247228073197, details={'was_impossible': False}),\n",
       " Prediction(uid='496', iid='98', r_ui=4.0, est=3.752402111383829, details={'was_impossible': False}),\n",
       " Prediction(uid='724', iid='678', r_ui=2.0, est=1.7774922999221683, details={'was_impossible': False}),\n",
       " Prediction(uid='655', iid='1560', r_ui=2.0, est=2.719371344180271, details={'was_impossible': False}),\n",
       " Prediction(uid='373', iid='431', r_ui=5.0, est=3.4157553769542455, details={'was_impossible': False}),\n",
       " Prediction(uid='326', iid='514', r_ui=3.0, est=3.2229688573067357, details={'was_impossible': False}),\n",
       " Prediction(uid='184', iid='14', r_ui=4.0, est=4.2385254830967884, details={'was_impossible': False}),\n",
       " Prediction(uid='534', iid='475', r_ui=4.0, est=4.83928154327842, details={'was_impossible': False}),\n",
       " Prediction(uid='753', iid='499', r_ui=3.0, est=3.7801987015782337, details={'was_impossible': False}),\n",
       " Prediction(uid='58', iid='248', r_ui=4.0, est=3.958567669778045, details={'was_impossible': False}),\n",
       " Prediction(uid='757', iid='684', r_ui=4.0, est=3.389527805383021, details={'was_impossible': False}),\n",
       " Prediction(uid='405', iid='732', r_ui=5.0, est=3.117198072003535, details={'was_impossible': False}),\n",
       " Prediction(uid='660', iid='229', r_ui=2.0, est=2.231831788344244, details={'was_impossible': False}),\n",
       " Prediction(uid='22', iid='110', r_ui=1.0, est=2.80620127813965, details={'was_impossible': False}),\n",
       " Prediction(uid='42', iid='274', r_ui=5.0, est=3.81361475192194, details={'was_impossible': False}),\n",
       " Prediction(uid='189', iid='1404', r_ui=5.0, est=3.5329158272037327, details={'was_impossible': False}),\n",
       " Prediction(uid='13', iid='96', r_ui=4.0, est=3.340190059174271, details={'was_impossible': False}),\n",
       " Prediction(uid='848', iid='755', r_ui=5.0, est=4.001291176276905, details={'was_impossible': False}),\n",
       " Prediction(uid='832', iid='258', r_ui=3.0, est=3.527325114142827, details={'was_impossible': False}),\n",
       " Prediction(uid='658', iid='201', r_ui=3.0, est=3.4749153668973625, details={'was_impossible': False}),\n",
       " Prediction(uid='654', iid='568', r_ui=4.0, est=4.1323443463088685, details={'was_impossible': False}),\n",
       " Prediction(uid='556', iid='48', r_ui=5.0, est=4.547614044345433, details={'was_impossible': False}),\n",
       " Prediction(uid='294', iid='515', r_ui=5.0, est=4.460829127986844, details={'was_impossible': False}),\n",
       " Prediction(uid='144', iid='56', r_ui=4.0, est=3.9922267928336357, details={'was_impossible': False}),\n",
       " Prediction(uid='350', iid='98', r_ui=4.0, est=4.664677335098488, details={'was_impossible': False}),\n",
       " Prediction(uid='860', iid='49', r_ui=2.0, est=2.9541838502013347, details={'was_impossible': False}),\n",
       " Prediction(uid='406', iid='281', r_ui=3.0, est=3.072615395117826, details={'was_impossible': False}),\n",
       " Prediction(uid='608', iid='22', r_ui=4.0, est=3.6424405463616836, details={'was_impossible': False}),\n",
       " Prediction(uid='180', iid='729', r_ui=5.0, est=3.927076231388497, details={'was_impossible': False}),\n",
       " Prediction(uid='756', iid='155', r_ui=4.0, est=3.1650468150610016, details={'was_impossible': False}),\n",
       " Prediction(uid='532', iid='918', r_ui=4.0, est=3.8335339892130222, details={'was_impossible': False}),\n",
       " Prediction(uid='758', iid='527', r_ui=5.0, est=4.4819796838443375, details={'was_impossible': False}),\n",
       " Prediction(uid='40', iid='343', r_ui=1.0, est=2.717841305733469, details={'was_impossible': False}),\n",
       " Prediction(uid='290', iid='43', r_ui=3.0, est=2.778312114991377, details={'was_impossible': False}),\n",
       " Prediction(uid='392', iid='11', r_ui=4.0, est=4.028497918913753, details={'was_impossible': False}),\n",
       " Prediction(uid='199', iid='285', r_ui=4.0, est=3.905841629574135, details={'was_impossible': False}),\n",
       " Prediction(uid='452', iid='496', r_ui=5.0, est=4.116575506874165, details={'was_impossible': False}),\n",
       " Prediction(uid='630', iid='975', r_ui=4.0, est=3.288519118131294, details={'was_impossible': False}),\n",
       " Prediction(uid='70', iid='28', r_ui=4.0, est=3.9167877928099264, details={'was_impossible': False}),\n",
       " Prediction(uid='67', iid='833', r_ui=4.0, est=3.749254842912069, details={'was_impossible': False}),\n",
       " Prediction(uid='709', iid='578', r_ui=4.0, est=3.02382581401621, details={'was_impossible': False}),\n",
       " Prediction(uid='312', iid='618', r_ui=5.0, est=3.8438899703631937, details={'was_impossible': False}),\n",
       " Prediction(uid='700', iid='173', r_ui=5.0, est=3.5237356337580543, details={'was_impossible': False}),\n",
       " Prediction(uid='402', iid='25', r_ui=4.0, est=3.501599246749759, details={'was_impossible': False}),\n",
       " Prediction(uid='668', iid='97', r_ui=2.0, est=3.5527034285267938, details={'was_impossible': False}),\n",
       " Prediction(uid='557', iid='887', r_ui=3.0, est=4.0130551219757296, details={'was_impossible': False}),\n",
       " Prediction(uid='474', iid='318', r_ui=5.0, est=5, details={'was_impossible': False}),\n",
       " Prediction(uid='587', iid='286', r_ui=4.0, est=3.288632390359204, details={'was_impossible': False}),\n",
       " Prediction(uid='327', iid='344', r_ui=4.0, est=3.3871736476514633, details={'was_impossible': False}),\n",
       " Prediction(uid='8', iid='258', r_ui=5.0, est=3.406583696794925, details={'was_impossible': False}),\n",
       " Prediction(uid='222', iid='941', r_ui=3.0, est=2.7053778859401145, details={'was_impossible': False}),\n",
       " Prediction(uid='273', iid='304', r_ui=3.0, est=3.6874855735125016, details={'was_impossible': False}),\n",
       " Prediction(uid='500', iid='423', r_ui=3.0, est=3.5621202072237073, details={'was_impossible': False}),\n",
       " Prediction(uid='875', iid='64', r_ui=5.0, est=4.629351309755322, details={'was_impossible': False}),\n",
       " Prediction(uid='486', iid='831', r_ui=3.0, est=2.354134272752482, details={'was_impossible': False}),\n",
       " Prediction(uid='437', iid='287', r_ui=2.0, est=3.3918463391472846, details={'was_impossible': False}),\n",
       " Prediction(uid='675', iid='750', r_ui=4.0, est=3.6233408753760448, details={'was_impossible': False}),\n",
       " Prediction(uid='449', iid='763', r_ui=2.0, est=3.6698568795327318, details={'was_impossible': False}),\n",
       " Prediction(uid='239', iid='12', r_ui=5.0, est=4.638848895409342, details={'was_impossible': False}),\n",
       " Prediction(uid='210', iid='732', r_ui=4.0, est=3.9969224247331567, details={'was_impossible': False}),\n",
       " Prediction(uid='62', iid='14', r_ui=4.0, est=3.591819527818536, details={'was_impossible': False}),\n",
       " Prediction(uid='70', iid='554', r_ui=3.0, est=2.6974334633814188, details={'was_impossible': False}),\n",
       " Prediction(uid='295', iid='188', r_ui=3.0, est=4.345388191628414, details={'was_impossible': False}),\n",
       " Prediction(uid='899', iid='64', r_ui=4.0, est=4.4379292962888215, details={'was_impossible': False}),\n",
       " Prediction(uid='279', iid='94', r_ui=3.0, est=3.006395307805778, details={'was_impossible': False}),\n",
       " Prediction(uid='312', iid='521', r_ui=5.0, est=4.230694739900186, details={'was_impossible': False}),\n",
       " Prediction(uid='268', iid='241', r_ui=3.0, est=2.9779240117365293, details={'was_impossible': False}),\n",
       " Prediction(uid='840', iid='496', r_ui=5.0, est=4.242454205006681, details={'was_impossible': False}),\n",
       " Prediction(uid='601', iid='9', r_ui=4.0, est=3.021630417417451, details={'was_impossible': False}),\n",
       " Prediction(uid='544', iid='750', r_ui=3.0, est=3.4329565523751917, details={'was_impossible': False}),\n",
       " Prediction(uid='901', iid='795', r_ui=3.0, est=2.9598168334244734, details={'was_impossible': False}),\n",
       " Prediction(uid='738', iid='528', r_ui=4.0, est=4.185801228671589, details={'was_impossible': False}),\n",
       " Prediction(uid='15', iid='930', r_ui=2.0, est=1.8494412640217655, details={'was_impossible': False}),\n",
       " Prediction(uid='397', iid='58', r_ui=5.0, est=3.739969317569387, details={'was_impossible': False}),\n",
       " Prediction(uid='805', iid='33', r_ui=5.0, est=3.5330131911165554, details={'was_impossible': False}),\n",
       " Prediction(uid='450', iid='1479', r_ui=3.0, est=3.5419404119239015, details={'was_impossible': False}),\n",
       " Prediction(uid='334', iid='896', r_ui=5.0, est=4.077708188094874, details={'was_impossible': False}),\n",
       " Prediction(uid='334', iid='124', r_ui=5.0, est=4.1797140192639315, details={'was_impossible': False}),\n",
       " Prediction(uid='201', iid='209', r_ui=3.0, est=3.921213980155564, details={'was_impossible': False}),\n",
       " Prediction(uid='362', iid='689', r_ui=5.0, est=3.1655044458196744, details={'was_impossible': False}),\n",
       " Prediction(uid='840', iid='499', r_ui=4.0, est=4.232533732720658, details={'was_impossible': False}),\n",
       " Prediction(uid='416', iid='476', r_ui=5.0, est=3.508167840980407, details={'was_impossible': False}),\n",
       " Prediction(uid='512', iid='186', r_ui=5.0, est=3.87508691716595, details={'was_impossible': False}),\n",
       " Prediction(uid='201', iid='1267', r_ui=3.0, est=2.620985455777121, details={'was_impossible': False}),\n",
       " Prediction(uid='846', iid='662', r_ui=3.0, est=3.749312832909743, details={'was_impossible': False}),\n",
       " Prediction(uid='882', iid='86', r_ui=5.0, est=4.518154437851372, details={'was_impossible': False}),\n",
       " Prediction(uid='886', iid='1093', r_ui=1.0, est=3.257663618452956, details={'was_impossible': False}),\n",
       " Prediction(uid='166', iid='258', r_ui=4.0, est=4.062527183624974, details={'was_impossible': False}),\n",
       " Prediction(uid='764', iid='321', r_ui=1.0, est=3.0634462865297603, details={'was_impossible': False}),\n",
       " Prediction(uid='776', iid='132', r_ui=3.0, est=3.9068559085402157, details={'was_impossible': False}),\n",
       " Prediction(uid='8', iid='127', r_ui=5.0, est=4.211716716435886, details={'was_impossible': False}),\n",
       " Prediction(uid='916', iid='1113', r_ui=4.0, est=3.2594887312474827, details={'was_impossible': False}),\n",
       " Prediction(uid='782', iid='322', r_ui=4.0, est=2.6386937774736006, details={'was_impossible': False}),\n",
       " Prediction(uid='721', iid='135', r_ui=3.0, est=3.45700756719428, details={'was_impossible': False}),\n",
       " Prediction(uid='13', iid='22', r_ui=4.0, est=4.077610563413032, details={'was_impossible': False}),\n",
       " Prediction(uid='659', iid='499', r_ui=4.0, est=4.013899261582359, details={'was_impossible': False}),\n",
       " Prediction(uid='476', iid='72', r_ui=4.0, est=3.106747704678049, details={'was_impossible': False}),\n",
       " Prediction(uid='558', iid='936', r_ui=5.0, est=3.973372808957817, details={'was_impossible': False}),\n",
       " Prediction(uid='715', iid='250', r_ui=2.0, est=3.5376540299737402, details={'was_impossible': False}),\n",
       " Prediction(uid='269', iid='478', r_ui=4.0, est=3.1904453521808036, details={'was_impossible': False}),\n",
       " Prediction(uid='389', iid='503', r_ui=3.0, est=3.695171374207855, details={'was_impossible': False}),\n",
       " Prediction(uid='415', iid='174', r_ui=5.0, est=4.7837165070696095, details={'was_impossible': False}),\n",
       " Prediction(uid='450', iid='487', r_ui=4.0, est=4.498419607189895, details={'was_impossible': False}),\n",
       " Prediction(uid='567', iid='47', r_ui=4.0, est=3.3560424558645487, details={'was_impossible': False}),\n",
       " Prediction(uid='46', iid='127', r_ui=5.0, est=4.57234596761476, details={'was_impossible': False}),\n",
       " Prediction(uid='734', iid='479', r_ui=4.0, est=3.9307935977285258, details={'was_impossible': False}),\n",
       " Prediction(uid='251', iid='117', r_ui=4.0, est=3.8049124831811794, details={'was_impossible': False}),\n",
       " Prediction(uid='99', iid='751', r_ui=4.0, est=3.818487293523883, details={'was_impossible': False}),\n",
       " Prediction(uid='130', iid='233', r_ui=4.0, est=3.9233887646023726, details={'was_impossible': False}),\n",
       " Prediction(uid='194', iid='91', r_ui=3.0, est=2.8855071744415293, details={'was_impossible': False}),\n",
       " Prediction(uid='632', iid='181', r_ui=5.0, est=4.25324758916381, details={'was_impossible': False}),\n",
       " Prediction(uid='588', iid='385', r_ui=3.0, est=3.52500345523216, details={'was_impossible': False}),\n",
       " Prediction(uid='600', iid='1419', r_ui=3.0, est=2.6657151221072994, details={'was_impossible': False}),\n",
       " Prediction(uid='707', iid='1168', r_ui=3.0, est=3.3485259634046205, details={'was_impossible': False}),\n",
       " Prediction(uid='194', iid='143', r_ui=3.0, est=3.2511775441031254, details={'was_impossible': False}),\n",
       " Prediction(uid='521', iid='184', r_ui=4.0, est=3.2559627441591714, details={'was_impossible': False}),\n",
       " Prediction(uid='193', iid='435', r_ui=4.0, est=3.8550572425080825, details={'was_impossible': False}),\n",
       " Prediction(uid='105', iid='269', r_ui=4.0, est=3.7696439329072766, details={'was_impossible': False}),\n",
       " Prediction(uid='546', iid='322', r_ui=4.0, est=3.5981961087043555, details={'was_impossible': False}),\n",
       " Prediction(uid='181', iid='925', r_ui=2.0, est=1.889090821126847, details={'was_impossible': False}),\n",
       " Prediction(uid='634', iid='985', r_ui=4.0, est=3.3496224554991034, details={'was_impossible': False}),\n",
       " Prediction(uid='303', iid='77', r_ui=4.0, est=2.8467213670892355, details={'was_impossible': False}),\n",
       " Prediction(uid='393', iid='17', r_ui=1.0, est=3.0139760751812656, details={'was_impossible': False}),\n",
       " Prediction(uid='653', iid='819', r_ui=3.0, est=1.5306886768806187, details={'was_impossible': False}),\n",
       " Prediction(uid='624', iid='1089', r_ui=2.0, est=2.39104733704123, details={'was_impossible': False}),\n",
       " Prediction(uid='661', iid='28', r_ui=5.0, est=4.248798452522891, details={'was_impossible': False}),\n",
       " Prediction(uid='269', iid='961', r_ui=5.0, est=2.937771488837548, details={'was_impossible': False}),\n",
       " Prediction(uid='431', iid='332', r_ui=3.0, est=3.5022479688483386, details={'was_impossible': False}),\n",
       " Prediction(uid='406', iid='196', r_ui=2.0, est=3.840491259225464, details={'was_impossible': False}),\n",
       " Prediction(uid='50', iid='123', r_ui=4.0, est=3.315507520207966, details={'was_impossible': False}),\n",
       " Prediction(uid='405', iid='554', r_ui=1.0, est=1, details={'was_impossible': False}),\n",
       " Prediction(uid='7', iid='545', r_ui=2.0, est=2.823552127611856, details={'was_impossible': False}),\n",
       " Prediction(uid='724', iid='286', r_ui=1.0, est=2.444885357405317, details={'was_impossible': False}),\n",
       " Prediction(uid='217', iid='797', r_ui=4.0, est=2.788125496476909, details={'was_impossible': False}),\n",
       " Prediction(uid='454', iid='468', r_ui=3.0, est=2.8367020169695802, details={'was_impossible': False}),\n",
       " Prediction(uid='561', iid='12', r_ui=5.0, est=4.0850249061817765, details={'was_impossible': False}),\n",
       " Prediction(uid='116', iid='285', r_ui=4.0, est=3.7297959195075756, details={'was_impossible': False}),\n",
       " Prediction(uid='840', iid='949', r_ui=4.0, est=3.5594021638546054, details={'was_impossible': False}),\n",
       " Prediction(uid='881', iid='233', r_ui=3.0, est=3.2601915006998388, details={'was_impossible': False}),\n",
       " Prediction(uid='815', iid='629', r_ui=4.0, est=3.745900656683242, details={'was_impossible': False}),\n",
       " Prediction(uid='676', iid='144', r_ui=4.0, est=3.9892571780350035, details={'was_impossible': False}),\n",
       " Prediction(uid='385', iid='1037', r_ui=1.0, est=2.064530249783916, details={'was_impossible': False}),\n",
       " Prediction(uid='561', iid='530', r_ui=4.0, est=3.290444129264352, details={'was_impossible': False}),\n",
       " Prediction(uid='297', iid='32', r_ui=4.0, est=3.6161962808371078, details={'was_impossible': False}),\n",
       " Prediction(uid='674', iid='763', r_ui=5.0, est=3.432060267667262, details={'was_impossible': False}),\n",
       " Prediction(uid='889', iid='70', r_ui=3.0, est=3.5039564435324855, details={'was_impossible': False}),\n",
       " Prediction(uid='170', iid='258', r_ui=3.0, est=4.338939668260343, details={'was_impossible': False}),\n",
       " Prediction(uid='667', iid='318', r_ui=5.0, est=4.517307456187953, details={'was_impossible': False}),\n",
       " Prediction(uid='268', iid='1118', r_ui=3.0, est=2.633510911625899, details={'was_impossible': False}),\n",
       " Prediction(uid='777', iid='245', r_ui=5.0, est=3.6060986544521785, details={'was_impossible': False}),\n",
       " Prediction(uid='716', iid='28', r_ui=5.0, est=3.964346269872309, details={'was_impossible': False}),\n",
       " Prediction(uid='943', iid='11', r_ui=4.0, est=3.8280258841013914, details={'was_impossible': False}),\n",
       " Prediction(uid='354', iid='255', r_ui=2.0, est=3.253367971232684, details={'was_impossible': False}),\n",
       " Prediction(uid='793', iid='597', r_ui=3.0, est=3.149502853251015, details={'was_impossible': False}),\n",
       " Prediction(uid='553', iid='98', r_ui=5.0, est=4.717723319636519, details={'was_impossible': False}),\n",
       " Prediction(uid='901', iid='1047', r_ui=3.0, est=3.3504625693540024, details={'was_impossible': False}),\n",
       " Prediction(uid='109', iid='54', r_ui=3.0, est=3.583904342771473, details={'was_impossible': False}),\n",
       " Prediction(uid='448', iid='750', r_ui=5.0, est=3.2355007309437647, details={'was_impossible': False}),\n",
       " Prediction(uid='13', iid='886', r_ui=5.0, est=3.028972360414191, details={'was_impossible': False}),\n",
       " Prediction(uid='279', iid='233', r_ui=5.0, est=3.6698777885852336, details={'was_impossible': False}),\n",
       " Prediction(uid='127', iid='230', r_ui=5.0, est=4.339525059943376, details={'was_impossible': False}),\n",
       " Prediction(uid='892', iid='186', r_ui=3.0, est=4.214779624822431, details={'was_impossible': False}),\n",
       " Prediction(uid='399', iid='195', r_ui=2.0, est=3.7211777891302313, details={'was_impossible': False}),\n",
       " Prediction(uid='454', iid='185', r_ui=2.0, est=3.5198876324367334, details={'was_impossible': False}),\n",
       " Prediction(uid='922', iid='173', r_ui=5.0, est=3.959830117672861, details={'was_impossible': False}),\n",
       " Prediction(uid='749', iid='431', r_ui=5.0, est=3.66165143892731, details={'was_impossible': False}),\n",
       " Prediction(uid='44', iid='318', r_ui=5.0, est=4.207044069508073, details={'was_impossible': False}),\n",
       " Prediction(uid='417', iid='67', r_ui=4.0, est=3.2192780764538624, details={'was_impossible': False}),\n",
       " Prediction(uid='276', iid='67', r_ui=3.0, est=3.0811038137661195, details={'was_impossible': False}),\n",
       " Prediction(uid='796', iid='479', r_ui=4.0, est=3.964271695233006, details={'was_impossible': False}),\n",
       " Prediction(uid='588', iid='778', r_ui=3.0, est=3.4828904796655578, details={'was_impossible': False}),\n",
       " Prediction(uid='248', iid='290', r_ui=3.0, est=2.8736210170084515, details={'was_impossible': False}),\n",
       " Prediction(uid='752', iid='331', r_ui=4.0, est=3.158557279684004, details={'was_impossible': False}),\n",
       " Prediction(uid='177', iid='187', r_ui=4.0, est=4.265652285705535, details={'was_impossible': False}),\n",
       " Prediction(uid='741', iid='56', r_ui=4.0, est=3.712664756022133, details={'was_impossible': False}),\n",
       " Prediction(uid='259', iid='772', r_ui=4.0, est=3.311536769131586, details={'was_impossible': False}),\n",
       " Prediction(uid='16', iid='194', r_ui=5.0, est=4.821571983500059, details={'was_impossible': False}),\n",
       " Prediction(uid='287', iid='248', r_ui=5.0, est=3.955564376831847, details={'was_impossible': False}),\n",
       " Prediction(uid='485', iid='328', r_ui=2.0, est=3.0959900150135176, details={'was_impossible': False}),\n",
       " Prediction(uid='533', iid='684', r_ui=4.0, est=3.8803569053856357, details={'was_impossible': False}),\n",
       " Prediction(uid='879', iid='151', r_ui=3.0, est=3.5705179104839173, details={'was_impossible': False}),\n",
       " Prediction(uid='907', iid='1220', r_ui=5.0, est=4.4183001325056805, details={'was_impossible': False}),\n",
       " Prediction(uid='218', iid='33', r_ui=4.0, est=3.296327391400322, details={'was_impossible': False}),\n",
       " Prediction(uid='372', iid='98', r_ui=5.0, est=5, details={'was_impossible': False}),\n",
       " Prediction(uid='456', iid='174', r_ui=4.0, est=3.84812276370038, details={'was_impossible': False}),\n",
       " Prediction(uid='70', iid='399', r_ui=4.0, est=3.3830649266213264, details={'was_impossible': False}),\n",
       " Prediction(uid='740', iid='289', r_ui=4.0, est=2.979818569076304, details={'was_impossible': False}),\n",
       " Prediction(uid='247', iid='750', r_ui=4.0, est=4.070396702786366, details={'was_impossible': False}),\n",
       " Prediction(uid='449', iid='558', r_ui=4.0, est=4.0017013223609235, details={'was_impossible': False}),\n",
       " Prediction(uid='184', iid='1117', r_ui=2.0, est=3.2558464911037492, details={'was_impossible': False}),\n",
       " Prediction(uid='334', iid='345', r_ui=2.0, est=3.430688266803535, details={'was_impossible': False}),\n",
       " Prediction(uid='224', iid='678', r_ui=3.0, est=2.3590093862157993, details={'was_impossible': False}),\n",
       " Prediction(uid='621', iid='128', r_ui=4.0, est=4.033308643075814, details={'was_impossible': False}),\n",
       " Prediction(uid='655', iid='1490', r_ui=2.0, est=3.0128248131502073, details={'was_impossible': False}),\n",
       " Prediction(uid='177', iid='628', r_ui=2.0, est=3.439143260199717, details={'was_impossible': False}),\n",
       " Prediction(uid='82', iid='235', r_ui=1.0, est=2.525927412695348, details={'was_impossible': False}),\n",
       " Prediction(uid='561', iid='735', r_ui=3.0, est=3.3892174045921797, details={'was_impossible': False}),\n",
       " Prediction(uid='61', iid='294', r_ui=2.0, est=2.753369818509263, details={'was_impossible': False}),\n",
       " Prediction(uid='436', iid='559', r_ui=4.0, est=3.82579418483018, details={'was_impossible': False}),\n",
       " Prediction(uid='463', iid='14', r_ui=1.0, est=3.405394375886482, details={'was_impossible': False}),\n",
       " Prediction(uid='449', iid='1005', r_ui=5.0, est=4.286179076763049, details={'was_impossible': False}),\n",
       " Prediction(uid='872', iid='476', r_ui=4.0, est=3.3376280013029644, details={'was_impossible': False}),\n",
       " Prediction(uid='221', iid='227', r_ui=3.0, est=3.157057979133545, details={'was_impossible': False}),\n",
       " Prediction(uid='286', iid='97', r_ui=4.0, est=4.03272434210716, details={'was_impossible': False}),\n",
       " Prediction(uid='305', iid='180', r_ui=4.0, est=3.927568137404261, details={'was_impossible': False}),\n",
       " Prediction(uid='92', iid='241', r_ui=3.0, est=3.0662133319255678, details={'was_impossible': False}),\n",
       " Prediction(uid='159', iid='748', r_ui=3.0, est=3.5280279644294588, details={'was_impossible': False}),\n",
       " Prediction(uid='308', iid='663', r_ui=5.0, est=4.282153445901466, details={'was_impossible': False}),\n",
       " Prediction(uid='406', iid='419', r_ui=1.0, est=3.687527493759659, details={'was_impossible': False}),\n",
       " Prediction(uid='301', iid='2', r_ui=2.0, est=3.2806896474252465, details={'was_impossible': False}),\n",
       " Prediction(uid='776', iid='947', r_ui=2.0, est=3.535709627182552, details={'was_impossible': False}),\n",
       " Prediction(uid='56', iid='732', r_ui=4.0, est=4.143877723400603, details={'was_impossible': False}),\n",
       " Prediction(uid='774', iid='174', r_ui=3.0, est=3.030925965017519, details={'was_impossible': False}),\n",
       " Prediction(uid='682', iid='556', r_ui=2.0, est=2.7355809771356023, details={'was_impossible': False}),\n",
       " Prediction(uid='849', iid='174', r_ui=5.0, est=5, details={'was_impossible': False}),\n",
       " Prediction(uid='221', iid='272', r_ui=5.0, est=4.385198024094676, details={'was_impossible': False}),\n",
       " Prediction(uid='201', iid='273', r_ui=2.0, est=3.108012701456011, details={'was_impossible': False}),\n",
       " Prediction(uid='174', iid='742', r_ui=4.0, est=3.510142094831762, details={'was_impossible': False}),\n",
       " Prediction(uid='90', iid='221', r_ui=4.0, est=4.0249591579450925, details={'was_impossible': False}),\n",
       " Prediction(uid='427', iid='937', r_ui=5.0, est=4.6051810395097865, details={'was_impossible': False}),\n",
       " Prediction(uid='870', iid='68', r_ui=3.0, est=3.2055411157417484, details={'was_impossible': False}),\n",
       " Prediction(uid='537', iid='848', r_ui=3.0, est=2.6201928115023563, details={'was_impossible': False}),\n",
       " Prediction(uid='669', iid='347', r_ui=3.0, est=2.8969511179453877, details={'was_impossible': False}),\n",
       " Prediction(uid='911', iid='172', r_ui=4.0, est=4.0764116291025765, details={'was_impossible': False}),\n",
       " Prediction(uid='591', iid='709', r_ui=4.0, est=4.1266981096443605, details={'was_impossible': False}),\n",
       " Prediction(uid='650', iid='185', r_ui=3.0, est=3.4710059890576117, details={'was_impossible': False}),\n",
       " Prediction(uid='505', iid='526', r_ui=5.0, est=3.3213169801619182, details={'was_impossible': False}),\n",
       " Prediction(uid='709', iid='38', r_ui=3.0, est=2.928539557461585, details={'was_impossible': False}),\n",
       " Prediction(uid='314', iid='722', r_ui=1.0, est=3.230725819088656, details={'was_impossible': False}),\n",
       " Prediction(uid='255', iid='441', r_ui=2.0, est=2.2550566328784005, details={'was_impossible': False}),\n",
       " Prediction(uid='378', iid='200', r_ui=3.0, est=3.9361550404342163, details={'was_impossible': False}),\n",
       " Prediction(uid='130', iid='41', r_ui=3.0, est=3.692979066436559, details={'was_impossible': False}),\n",
       " Prediction(uid='1', iid='272', r_ui=3.0, est=4.543914685211399, details={'was_impossible': False}),\n",
       " Prediction(uid='268', iid='108', r_ui=3.0, est=2.499684495964127, details={'was_impossible': False}),\n",
       " Prediction(uid='780', iid='98', r_ui=1.0, est=4.145733640873246, details={'was_impossible': False}),\n",
       " Prediction(uid='559', iid='180', r_ui=4.0, est=3.730725614801638, details={'was_impossible': False}),\n",
       " Prediction(uid='276', iid='403', r_ui=4.0, est=3.66290323263005, details={'was_impossible': False}),\n",
       " Prediction(uid='303', iid='687', r_ui=1.0, est=1.7365386824827878, details={'was_impossible': False}),\n",
       " Prediction(uid='828', iid='896', r_ui=4.0, est=3.335534028037438, details={'was_impossible': False}),\n",
       " Prediction(uid='634', iid='269', r_ui=4.0, est=4.004052121334131, details={'was_impossible': False}),\n",
       " Prediction(uid='363', iid='444', r_ui=4.0, est=2.650933427098455, details={'was_impossible': False}),\n",
       " Prediction(uid='6', iid='192', r_ui=4.0, est=3.951918305299015, details={'was_impossible': False}),\n",
       " Prediction(uid='734', iid='724', r_ui=3.0, est=3.2796013606668977, details={'was_impossible': False}),\n",
       " Prediction(uid='537', iid='268', r_ui=4.0, est=3.2873219119888706, details={'was_impossible': False}),\n",
       " Prediction(uid='210', iid='755', r_ui=3.0, est=3.6897356457439505, details={'was_impossible': False}),\n",
       " Prediction(uid='577', iid='655', r_ui=4.0, est=4.023686654285287, details={'was_impossible': False}),\n",
       " Prediction(uid='922', iid='385', r_ui=3.0, est=3.43851033694082, details={'was_impossible': False}),\n",
       " Prediction(uid='892', iid='432', r_ui=4.0, est=4.163997432044683, details={'was_impossible': False}),\n",
       " Prediction(uid='200', iid='205', r_ui=4.0, est=4.427329855259549, details={'was_impossible': False}),\n",
       " Prediction(uid='541', iid='622', r_ui=3.0, est=3.7463880124484343, details={'was_impossible': False}),\n",
       " Prediction(uid='250', iid='323', r_ui=2.0, est=3.215665179713651, details={'was_impossible': False}),\n",
       " Prediction(uid='23', iid='710', r_ui=4.0, est=3.8242816108393365, details={'was_impossible': False}),\n",
       " Prediction(uid='7', iid='669', r_ui=1.0, est=3.1846293643162333, details={'was_impossible': False}),\n",
       " Prediction(uid='652', iid='307', r_ui=4.0, est=3.7347122398147525, details={'was_impossible': False}),\n",
       " Prediction(uid='622', iid='101', r_ui=5.0, est=3.2180309032529624, details={'was_impossible': False}),\n",
       " Prediction(uid='106', iid='210', r_ui=4.0, est=3.869520947421203, details={'was_impossible': False}),\n",
       " Prediction(uid='533', iid='203', r_ui=4.0, est=3.267244131928918, details={'was_impossible': False}),\n",
       " Prediction(uid='709', iid='739', r_ui=3.0, est=3.4889513896090043, details={'was_impossible': False}),\n",
       " Prediction(uid='749', iid='157', r_ui=3.0, est=3.8547102553061348, details={'was_impossible': False}),\n",
       " Prediction(uid='186', iid='550', r_ui=4.0, est=3.761924722461968, details={'was_impossible': False}),\n",
       " Prediction(uid='417', iid='223', r_ui=5.0, est=4.001024032246576, details={'was_impossible': False}),\n",
       " Prediction(uid='346', iid='216', r_ui=3.0, est=3.5834010212347476, details={'was_impossible': False}),\n",
       " Prediction(uid='513', iid='763', r_ui=3.0, est=4.523416607767364, details={'was_impossible': False}),\n",
       " Prediction(uid='37', iid='121', r_ui=2.0, est=3.4318954151014607, details={'was_impossible': False}),\n",
       " Prediction(uid='268', iid='264', r_ui=3.0, est=2.2424595323020924, details={'was_impossible': False}),\n",
       " Prediction(uid='295', iid='602', r_ui=5.0, est=4.079767049918142, details={'was_impossible': False}),\n",
       " Prediction(uid='592', iid='298', r_ui=5.0, est=3.8767245071317395, details={'was_impossible': False}),\n",
       " Prediction(uid='755', iid='310', r_ui=4.0, est=3.7520275801648406, details={'was_impossible': False}),\n",
       " Prediction(uid='610', iid='127', r_ui=5.0, est=3.8662462076384667, details={'was_impossible': False}),\n",
       " Prediction(uid='758', iid='385', r_ui=4.0, est=3.6344877285209645, details={'was_impossible': False}),\n",
       " Prediction(uid='6', iid='423', r_ui=3.0, est=3.6061506528401086, details={'was_impossible': False}),\n",
       " Prediction(uid='738', iid='79', r_ui=3.0, est=3.9688213760986533, details={'was_impossible': False}),\n",
       " Prediction(uid='294', iid='413', r_ui=3.0, est=3.0004559334149135, details={'was_impossible': False}),\n",
       " Prediction(uid='54', iid='252', r_ui=3.0, est=3.3802554146880124, details={'was_impossible': False}),\n",
       " Prediction(uid='181', iid='620', r_ui=2.0, est=1.5872101579470086, details={'was_impossible': False}),\n",
       " Prediction(uid='487', iid='230', r_ui=5.0, est=4.177199664595425, details={'was_impossible': False}),\n",
       " Prediction(uid='174', iid='276', r_ui=5.0, est=4.884119127965105, details={'was_impossible': False}),\n",
       " Prediction(uid='221', iid='476', r_ui=2.0, est=3.146551888466173, details={'was_impossible': False}),\n",
       " Prediction(uid='194', iid='756', r_ui=1.0, est=1.8692168895994439, details={'was_impossible': False}),\n",
       " Prediction(uid='117', iid='475', r_ui=5.0, est=4.236781658409729, details={'was_impossible': False}),\n",
       " Prediction(uid='429', iid='151', r_ui=5.0, est=3.915514548434574, details={'was_impossible': False}),\n",
       " Prediction(uid='535', iid='607', r_ui=5.0, est=4.358537572011932, details={'was_impossible': False}),\n",
       " Prediction(uid='33', iid='288', r_ui=4.0, est=3.529995030916332, details={'was_impossible': False}),\n",
       " Prediction(uid='124', iid='168', r_ui=5.0, est=3.6336713883122074, details={'was_impossible': False}),\n",
       " Prediction(uid='591', iid='8', r_ui=3.0, est=3.7328927698622274, details={'was_impossible': False}),\n",
       " Prediction(uid='94', iid='293', r_ui=4.0, est=4.075199176569972, details={'was_impossible': False}),\n",
       " Prediction(uid='848', iid='50', r_ui=5.0, est=5, details={'was_impossible': False}),\n",
       " Prediction(uid='188', iid='692', r_ui=5.0, est=3.7308632391488104, details={'was_impossible': False}),\n",
       " Prediction(uid='880', iid='180', r_ui=5.0, est=4.4794650371981914, details={'was_impossible': False}),\n",
       " Prediction(uid='790', iid='83', r_ui=3.0, est=3.7099301838394276, details={'was_impossible': False}),\n",
       " Prediction(uid='95', iid='514', r_ui=2.0, est=3.6162177789792294, details={'was_impossible': False}),\n",
       " Prediction(uid='880', iid='201', r_ui=4.0, est=4.196783807549302, details={'was_impossible': False}),\n",
       " Prediction(uid='932', iid='161', r_ui=3.0, est=3.363875238261837, details={'was_impossible': False}),\n",
       " Prediction(uid='758', iid='520', r_ui=5.0, est=4.271644754303997, details={'was_impossible': False}),\n",
       " Prediction(uid='251', iid='294', r_ui=3.0, est=3.21007051551107, details={'was_impossible': False}),\n",
       " Prediction(uid='499', iid='176', r_ui=4.0, est=4.065918182021213, details={'was_impossible': False}),\n",
       " Prediction(uid='1', iid='124', r_ui=5.0, est=4.385009116446694, details={'was_impossible': False}),\n",
       " Prediction(uid='579', iid='258', r_ui=5.0, est=3.444007857723609, details={'was_impossible': False}),\n",
       " Prediction(uid='737', iid='222', r_ui=3.0, est=3.7375459916832225, details={'was_impossible': False}),\n",
       " Prediction(uid='527', iid='508', r_ui=3.0, est=3.3843112773398927, details={'was_impossible': False}),\n",
       " Prediction(uid='236', iid='729', r_ui=5.0, est=3.565278516023648, details={'was_impossible': False}),\n",
       " Prediction(uid='495', iid='637', r_ui=3.0, est=3.6151609292512443, details={'was_impossible': False}),\n",
       " Prediction(uid='653', iid='732', r_ui=2.0, est=3.4760750912259515, details={'was_impossible': False}),\n",
       " Prediction(uid='759', iid='222', r_ui=5.0, est=4.261126097795606, details={'was_impossible': False}),\n",
       " Prediction(uid='936', iid='108', r_ui=4.0, est=3.351016773735365, details={'was_impossible': False}),\n",
       " Prediction(uid='1', iid='264', r_ui=2.0, est=2.93229455045238, details={'was_impossible': False}),\n",
       " Prediction(uid='405', iid='673', r_ui=5.0, est=2.114117874352433, details={'was_impossible': False}),\n",
       " Prediction(uid='298', iid='496', r_ui=5.0, est=4.517468230206844, details={'was_impossible': False}),\n",
       " Prediction(uid='342', iid='191', r_ui=5.0, est=3.63900973193323, details={'was_impossible': False}),\n",
       " Prediction(uid='392', iid='319', r_ui=5.0, est=3.660416575311296, details={'was_impossible': False}),\n",
       " Prediction(uid='846', iid='196', r_ui=4.0, est=3.943306517204382, details={'was_impossible': False}),\n",
       " Prediction(uid='690', iid='98', r_ui=5.0, est=3.804218018128837, details={'was_impossible': False}),\n",
       " Prediction(uid='684', iid='1028', r_ui=4.0, est=2.8179122541572794, details={'was_impossible': False}),\n",
       " Prediction(uid='582', iid='121', r_ui=3.0, est=2.9663280813079833, details={'was_impossible': False}),\n",
       " Prediction(uid='389', iid='485', r_ui=5.0, est=3.977016861671665, details={'was_impossible': False}),\n",
       " Prediction(uid='388', iid='184', r_ui=4.0, est=3.9589739589657182, details={'was_impossible': False}),\n",
       " Prediction(uid='59', iid='622', r_ui=4.0, est=3.63536718180782, details={'was_impossible': False}),\n",
       " Prediction(uid='840', iid='650', r_ui=4.0, est=4.212319650334901, details={'was_impossible': False}),\n",
       " Prediction(uid='171', iid='292', r_ui=4.0, est=3.6249307855524826, details={'was_impossible': False}),\n",
       " Prediction(uid='184', iid='478', r_ui=4.0, est=3.9270807666554677, details={'was_impossible': False}),\n",
       " Prediction(uid='663', iid='742', r_ui=4.0, est=3.671566465994073, details={'was_impossible': False}),\n",
       " Prediction(uid='450', iid='131', r_ui=4.0, est=4.113710551143037, details={'was_impossible': False}),\n",
       " Prediction(uid='95', iid='1230', r_ui=1.0, est=2.6345637348630566, details={'was_impossible': False}),\n",
       " Prediction(uid='48', iid='1064', r_ui=4.0, est=3.7723116720734935, details={'was_impossible': False}),\n",
       " Prediction(uid='533', iid='191', r_ui=4.0, est=4.007217091619274, details={'was_impossible': False}),\n",
       " Prediction(uid='393', iid='134', r_ui=2.0, est=4.057336232210281, details={'was_impossible': False}),\n",
       " Prediction(uid='655', iid='98', r_ui=4.0, est=3.516075837466195, details={'was_impossible': False}),\n",
       " Prediction(uid='318', iid='229', r_ui=1.0, est=3.3900119961459327, details={'was_impossible': False}),\n",
       " Prediction(uid='916', iid='148', r_ui=2.0, est=2.6345081323576864, details={'was_impossible': False}),\n",
       " Prediction(uid='788', iid='720', r_ui=3.0, est=2.566429332071707, details={'was_impossible': False}),\n",
       " Prediction(uid='7', iid='614', r_ui=5.0, est=4.292250626655506, details={'was_impossible': False}),\n",
       " Prediction(uid='87', iid='679', r_ui=3.0, est=3.6276071963126713, details={'was_impossible': False}),\n",
       " Prediction(uid='127', iid='62', r_ui=5.0, est=3.7443822804894586, details={'was_impossible': False}),\n",
       " Prediction(uid='560', iid='281', r_ui=3.0, est=2.935651666314481, details={'was_impossible': False}),\n",
       " Prediction(uid='642', iid='422', r_ui=3.0, est=3.0885181609204504, details={'was_impossible': False}),\n",
       " Prediction(uid='870', iid='64', r_ui=5.0, est=4.28011551616394, details={'was_impossible': False}),\n",
       " Prediction(uid='709', iid='282', r_ui=5.0, est=3.7257184243633366, details={'was_impossible': False}),\n",
       " Prediction(uid='128', iid='220', r_ui=1.0, est=3.8716744162453147, details={'was_impossible': False}),\n",
       " Prediction(uid='363', iid='95', r_ui=3.0, est=3.605687335018001, details={'was_impossible': False}),\n",
       " Prediction(uid='794', iid='257', r_ui=4.0, est=4.043178265878189, details={'was_impossible': False}),\n",
       " Prediction(uid='493', iid='358', r_ui=4.0, est=2.7749384510142012, details={'was_impossible': False}),\n",
       " Prediction(uid='504', iid='122', r_ui=1.0, est=2.542134636693253, details={'was_impossible': False}),\n",
       " Prediction(uid='579', iid='289', r_ui=2.0, est=2.770126505871572, details={'was_impossible': False}),\n",
       " Prediction(uid='234', iid='165', r_ui=5.0, est=3.7317918645008232, details={'was_impossible': False}),\n",
       " Prediction(uid='239', iid='168', r_ui=4.0, est=4.4040930163267875, details={'was_impossible': False}),\n",
       " Prediction(uid='291', iid='1206', r_ui=3.0, est=3.4574114097084916, details={'was_impossible': False}),\n",
       " Prediction(uid='303', iid='616', r_ui=4.0, est=3.7009558527278346, details={'was_impossible': False}),\n",
       " Prediction(uid='363', iid='678', r_ui=1.0, est=2.345410717353397, details={'was_impossible': False}),\n",
       " Prediction(uid='401', iid='609', r_ui=3.0, est=3.0014747929318495, details={'was_impossible': False}),\n",
       " Prediction(uid='14', iid='920', r_ui=4.0, est=3.294258485734575, details={'was_impossible': False}),\n",
       " Prediction(uid='428', iid='879', r_ui=4.0, est=3.654665146358275, details={'was_impossible': False}),\n",
       " Prediction(uid='119', iid='277', r_ui=4.0, est=4.304632290858298, details={'was_impossible': False}),\n",
       " Prediction(uid='479', iid='528', r_ui=4.0, est=4.102120616889117, details={'was_impossible': False}),\n",
       " Prediction(uid='166', iid='294', r_ui=3.0, est=3.5931195302068457, details={'was_impossible': False}),\n",
       " Prediction(uid='347', iid='284', r_ui=3.0, est=3.5173987385997254, details={'was_impossible': False}),\n",
       " Prediction(uid='580', iid='282', r_ui=5.0, est=3.933114839775871, details={'was_impossible': False}),\n",
       " Prediction(uid='378', iid='1438', r_ui=3.0, est=3.025205784622691, details={'was_impossible': False}),\n",
       " Prediction(uid='70', iid='755', r_ui=3.0, est=3.147548330477311, details={'was_impossible': False}),\n",
       " Prediction(uid='447', iid='1048', r_ui=2.0, est=3.188798242945725, details={'was_impossible': False}),\n",
       " Prediction(uid='405', iid='780', r_ui=3.0, est=1.0734159673356753, details={'was_impossible': False}),\n",
       " Prediction(uid='11', iid='228', r_ui=3.0, est=3.2547258321613257, details={'was_impossible': False}),\n",
       " Prediction(uid='276', iid='526', r_ui=4.0, est=3.927881264644965, details={'was_impossible': False}),\n",
       " Prediction(uid='361', iid='513', r_ui=5.0, est=4.439903026877529, details={'was_impossible': False}),\n",
       " Prediction(uid='682', iid='562', r_ui=2.0, est=2.8919366307623986, details={'was_impossible': False}),\n",
       " Prediction(uid='504', iid='372', r_ui=4.0, est=3.60198975962077, details={'was_impossible': False}),\n",
       " Prediction(uid='207', iid='517', r_ui=3.0, est=3.3266286495471276, details={'was_impossible': False}),\n",
       " Prediction(uid='551', iid='710', r_ui=5.0, est=4.2935910480176975, details={'was_impossible': False}),\n",
       " Prediction(uid='885', iid='417', r_ui=3.0, est=3.0150898809193216, details={'was_impossible': False}),\n",
       " Prediction(uid='693', iid='572', r_ui=2.0, est=2.6280034538231445, details={'was_impossible': False}),\n",
       " Prediction(uid='642', iid='254', r_ui=4.0, est=3.1484920246644967, details={'was_impossible': False}),\n",
       " Prediction(uid='332', iid='679', r_ui=5.0, est=4.205389900716598, details={'was_impossible': False}),\n",
       " Prediction(uid='506', iid='137', r_ui=2.0, est=3.758593098209099, details={'was_impossible': False}),\n",
       " Prediction(uid='846', iid='479', r_ui=4.0, est=4.509421784443564, details={'was_impossible': False}),\n",
       " Prediction(uid='624', iid='7', r_ui=4.0, est=3.5860365780655945, details={'was_impossible': False}),\n",
       " Prediction(uid='327', iid='42', r_ui=3.0, est=3.4790587141288114, details={'was_impossible': False}),\n",
       " Prediction(uid='650', iid='380', r_ui=2.0, est=3.260568428309123, details={'was_impossible': False}),\n",
       " Prediction(uid='116', iid='258', r_ui=4.0, est=3.1535108847647044, details={'was_impossible': False}),\n",
       " Prediction(uid='200', iid='8', r_ui=4.0, est=4.741633549298459, details={'was_impossible': False}),\n",
       " Prediction(uid='144', iid='516', r_ui=2.0, est=4.170703611011715, details={'was_impossible': False}),\n",
       " Prediction(uid='734', iid='821', r_ui=2.0, est=3.1345604539902903, details={'was_impossible': False}),\n",
       " Prediction(uid='535', iid='527', r_ui=3.0, est=4.320128124506476, details={'was_impossible': False}),\n",
       " Prediction(uid='851', iid='333', r_ui=5.0, est=3.4169526914829005, details={'was_impossible': False}),\n",
       " Prediction(uid='307', iid='153', r_ui=5.0, est=3.9814002188382593, details={'was_impossible': False}),\n",
       " Prediction(uid='942', iid='124', r_ui=4.0, est=4.601150312641697, details={'was_impossible': False}),\n",
       " Prediction(uid='749', iid='200', r_ui=4.0, est=3.8137378098608217, details={'was_impossible': False}),\n",
       " Prediction(uid='201', iid='46', r_ui=4.0, est=3.3558783748340044, details={'was_impossible': False}),\n",
       " Prediction(uid='854', iid='488', r_ui=4.0, est=3.917237996259591, details={'was_impossible': False}),\n",
       " Prediction(uid='213', iid='125', r_ui=5.0, est=4.120475127684611, details={'was_impossible': False}),\n",
       " Prediction(uid='181', iid='1379', r_ui=1.0, est=1.8210812826469762, details={'was_impossible': False}),\n",
       " Prediction(uid='389', iid='605', r_ui=5.0, est=3.5199208109174327, details={'was_impossible': False}),\n",
       " Prediction(uid='254', iid='1028', r_ui=2.0, est=2.4469016503102305, details={'was_impossible': False}),\n",
       " Prediction(uid='389', iid='835', r_ui=5.0, est=3.461589945745846, details={'was_impossible': False}),\n",
       " Prediction(uid='925', iid='559', r_ui=3.0, est=3.115248089810183, details={'was_impossible': False}),\n",
       " Prediction(uid='269', iid='423', r_ui=4.0, est=3.1490324324986765, details={'was_impossible': False}),\n",
       " Prediction(uid='447', iid='484', r_ui=5.0, est=4.536848378400054, details={'was_impossible': False}),\n",
       " Prediction(uid='533', iid='673', r_ui=3.0, est=3.5642833923726953, details={'was_impossible': False}),\n",
       " Prediction(uid='546', iid='349', r_ui=4.0, est=3.4836011031850567, details={'was_impossible': False}),\n",
       " Prediction(uid='936', iid='1160', r_ui=5.0, est=3.597854195925291, details={'was_impossible': False}),\n",
       " Prediction(uid='36', iid='307', r_ui=4.0, est=3.624223875255334, details={'was_impossible': False}),\n",
       " Prediction(uid='474', iid='68', r_ui=3.0, est=3.68244921196299, details={'was_impossible': False}),\n",
       " Prediction(uid='181', iid='1382', r_ui=1.0, est=1.8584448995348524, details={'was_impossible': False}),\n",
       " Prediction(uid='868', iid='202', r_ui=3.0, est=2.9387077147468967, details={'was_impossible': False}),\n",
       " Prediction(uid='261', iid='597', r_ui=4.0, est=3.7559698000933848, details={'was_impossible': False}),\n",
       " Prediction(uid='42', iid='411', r_ui=4.0, est=2.6740465827242272, details={'was_impossible': False}),\n",
       " Prediction(uid='748', iid='132', r_ui=3.0, est=3.7545430305715177, details={'was_impossible': False}),\n",
       " Prediction(uid='530', iid='692', r_ui=4.0, est=3.425750981534039, details={'was_impossible': False}),\n",
       " Prediction(uid='444', iid='50', r_ui=5.0, est=4.6075277938547945, details={'was_impossible': False}),\n",
       " Prediction(uid='650', iid='355', r_ui=2.0, est=2.6132055727709447, details={'was_impossible': False}),\n",
       " Prediction(uid='393', iid='347', r_ui=4.0, est=3.62637965028474, details={'was_impossible': False}),\n",
       " Prediction(uid='621', iid='197', r_ui=4.0, est=4.26882439773177, details={'was_impossible': False}),\n",
       " Prediction(uid='447', iid='815', r_ui=3.0, est=3.1198152004372584, details={'was_impossible': False}),\n",
       " Prediction(uid='326', iid='481', r_ui=1.0, est=3.1205450048928594, details={'was_impossible': False}),\n",
       " Prediction(uid='317', iid='748', r_ui=5.0, est=3.1088103328602346, details={'was_impossible': False}),\n",
       " Prediction(uid='246', iid='578', r_ui=2.0, est=2.303245063091816, details={'was_impossible': False}),\n",
       " Prediction(uid='659', iid='317', r_ui=4.0, est=4.006647594862836, details={'was_impossible': False}),\n",
       " Prediction(uid='378', iid='135', r_ui=2.0, est=4.11367113225422, details={'was_impossible': False}),\n",
       " Prediction(uid='238', iid='458', r_ui=4.0, est=3.1760512443305835, details={'was_impossible': False}),\n",
       " Prediction(uid='276', iid='228', r_ui=4.0, est=4.0425548527922, details={'was_impossible': False}),\n",
       " Prediction(uid='851', iid='71', r_ui=4.0, est=3.939458956770484, details={'was_impossible': False}),\n",
       " Prediction(uid='239', iid='427', r_ui=5.0, est=4.614081483443711, details={'was_impossible': False}),\n",
       " Prediction(uid='13', iid='158', r_ui=1.0, est=2.359934329241567, details={'was_impossible': False}),\n",
       " Prediction(uid='495', iid='679', r_ui=3.0, est=3.979797467295681, details={'was_impossible': False}),\n",
       " Prediction(uid='848', iid='490', r_ui=5.0, est=4.472798232335106, details={'was_impossible': False}),\n",
       " Prediction(uid='640', iid='11', r_ui=4.0, est=4.870118613190007, details={'was_impossible': False}),\n",
       " Prediction(uid='587', iid='339', r_ui=3.0, est=2.840151494201807, details={'was_impossible': False}),\n",
       " Prediction(uid='903', iid='357', r_ui=5.0, est=4.78661689038204, details={'was_impossible': False}),\n",
       " Prediction(uid='383', iid='505', r_ui=4.0, est=4.494572796640598, details={'was_impossible': False}),\n",
       " Prediction(uid='435', iid='1151', r_ui=1.0, est=2.9406877167415786, details={'was_impossible': False}),\n",
       " Prediction(uid='354', iid='32', r_ui=3.0, est=3.8548560098598745, details={'was_impossible': False}),\n",
       " Prediction(uid='592', iid='129', r_ui=5.0, est=4.31943552379644, details={'was_impossible': False}),\n",
       " Prediction(uid='846', iid='651', r_ui=3.0, est=4.160818706399527, details={'was_impossible': False}),\n",
       " Prediction(uid='42', iid='141', r_ui=3.0, est=3.53810696741591, details={'was_impossible': False}),\n",
       " Prediction(uid='682', iid='273', r_ui=4.0, est=3.729212447093194, details={'was_impossible': False}),\n",
       " Prediction(uid='505', iid='1409', r_ui=3.0, est=2.7598377401927188, details={'was_impossible': False}),\n",
       " Prediction(uid='280', iid='8', r_ui=5.0, est=4.152770830404154, details={'was_impossible': False}),\n",
       " Prediction(uid='379', iid='649', r_ui=4.0, est=4.032128142343045, details={'was_impossible': False}),\n",
       " Prediction(uid='660', iid='771', r_ui=2.0, est=1.8930004930467899, details={'was_impossible': False}),\n",
       " Prediction(uid='313', iid='210', r_ui=4.0, est=3.4917855504811026, details={'was_impossible': False}),\n",
       " Prediction(uid='571', iid='657', r_ui=4.0, est=3.8616365243805175, details={'was_impossible': False}),\n",
       " Prediction(uid='460', iid='248', r_ui=4.0, est=3.547784824767147, details={'was_impossible': False}),\n",
       " Prediction(uid='457', iid='831', r_ui=2.0, est=2.8713075484316395, details={'was_impossible': False}),\n",
       " Prediction(uid='632', iid='609', r_ui=3.0, est=3.417566383285908, details={'was_impossible': False}),\n",
       " Prediction(uid='301', iid='7', r_ui=4.0, est=4.327118991193307, details={'was_impossible': False}),\n",
       " Prediction(uid='796', iid='540', r_ui=2.0, est=2.8110238507486347, details={'was_impossible': False}),\n",
       " Prediction(uid='83', iid='479', r_ui=5.0, est=4.078418736795659, details={'was_impossible': False}),\n",
       " Prediction(uid='9', iid='294', r_ui=4.0, est=3.2132419679125044, details={'was_impossible': False}),\n",
       " Prediction(uid='311', iid='70', r_ui=4.0, est=4.266967983405051, details={'was_impossible': False}),\n",
       " Prediction(uid='94', iid='235', r_ui=4.0, est=3.701226748665829, details={'was_impossible': False}),\n",
       " Prediction(uid='758', iid='258', r_ui=4.0, est=4.010337331437081, details={'was_impossible': False}),\n",
       " Prediction(uid='740', iid='271', r_ui=2.0, est=3.069728051573923, details={'was_impossible': False}),\n",
       " Prediction(uid='579', iid='676', r_ui=3.0, est=3.124886791391902, details={'was_impossible': False}),\n",
       " Prediction(uid='776', iid='672', r_ui=3.0, est=2.645780940473151, details={'was_impossible': False}),\n",
       " Prediction(uid='116', iid='993', r_ui=2.0, est=2.913625042948386, details={'was_impossible': False}),\n",
       " Prediction(uid='344', iid='462', r_ui=2.0, est=3.9395040064925797, details={'was_impossible': False}),\n",
       " Prediction(uid='435', iid='588', r_ui=4.0, est=3.8427377789755397, details={'was_impossible': False}),\n",
       " Prediction(uid='325', iid='430', r_ui=5.0, est=3.5568836192968476, details={'was_impossible': False}),\n",
       " Prediction(uid='487', iid='49', r_ui=4.0, est=3.2788084697164965, details={'was_impossible': False}),\n",
       " Prediction(uid='452', iid='82', r_ui=3.0, est=3.625460517372724, details={'was_impossible': False}),\n",
       " Prediction(uid='639', iid='216', r_ui=3.0, est=3.58319796883221, details={'was_impossible': False}),\n",
       " Prediction(uid='130', iid='1231', r_ui=4.0, est=3.5050676155573175, details={'was_impossible': False}),\n",
       " Prediction(uid='479', iid='272', r_ui=4.0, est=4.14754821845313, details={'was_impossible': False}),\n",
       " Prediction(uid='450', iid='125', r_ui=4.0, est=4.031701431945963, details={'was_impossible': False}),\n",
       " Prediction(uid='889', iid='93', r_ui=3.0, est=3.4343473622289524, details={'was_impossible': False}),\n",
       " Prediction(uid='194', iid='25', r_ui=2.0, est=2.7848445566318, details={'was_impossible': False}),\n",
       " Prediction(uid='222', iid='90', r_ui=2.0, est=2.9380361335109635, details={'was_impossible': False}),\n",
       " Prediction(uid='379', iid='433', r_ui=4.0, est=3.8039874450024573, details={'was_impossible': False}),\n",
       " Prediction(uid='148', iid='529', r_ui=5.0, est=4.326239710466665, details={'was_impossible': False}),\n",
       " Prediction(uid='7', iid='498', r_ui=5.0, est=4.604888876713341, details={'was_impossible': False}),\n",
       " Prediction(uid='766', iid='214', r_ui=2.0, est=2.8338999723856255, details={'was_impossible': False}),\n",
       " Prediction(uid='264', iid='1070', r_ui=4.0, est=4.483982111765171, details={'was_impossible': False}),\n",
       " Prediction(uid='674', iid='315', r_ui=3.0, est=4.153628225485992, details={'was_impossible': False}),\n",
       " Prediction(uid='746', iid='89', r_ui=4.0, est=4.069812993193283, details={'was_impossible': False}),\n",
       " Prediction(uid='269', iid='529', r_ui=5.0, est=3.558677549617368, details={'was_impossible': False}),\n",
       " Prediction(uid='926', iid='258', r_ui=4.0, est=3.318622775624085, details={'was_impossible': False}),\n",
       " Prediction(uid='222', iid='186', r_ui=5.0, est=4.360411691808788, details={'was_impossible': False}),\n",
       " Prediction(uid='846', iid='612', r_ui=5.0, est=3.6858317211259544, details={'was_impossible': False}),\n",
       " Prediction(uid='682', iid='300', r_ui=2.0, est=3.5833356852433385, details={'was_impossible': False}),\n",
       " Prediction(uid='575', iid='215', r_ui=3.0, est=3.0421870429678934, details={'was_impossible': False}),\n",
       " Prediction(uid='270', iid='98', r_ui=5.0, est=5, details={'was_impossible': False}),\n",
       " Prediction(uid='426', iid='1116', r_ui=4.0, est=3.343505258245499, details={'was_impossible': False}),\n",
       " Prediction(uid='889', iid='190', r_ui=3.0, est=3.768159355629556, details={'was_impossible': False}),\n",
       " Prediction(uid='536', iid='229', r_ui=4.0, est=3.4970474888541223, details={'was_impossible': False}),\n",
       " Prediction(uid='606', iid='531', r_ui=5.0, est=4.219160789397489, details={'was_impossible': False}),\n",
       " Prediction(uid='321', iid='197', r_ui=5.0, est=3.8471059802225587, details={'was_impossible': False}),\n",
       " Prediction(uid='307', iid='174', r_ui=4.0, est=4.240181967747218, details={'was_impossible': False}),\n",
       " Prediction(uid='932', iid='615', r_ui=5.0, est=4.253786088097598, details={'was_impossible': False}),\n",
       " Prediction(uid='784', iid='331', r_ui=4.0, est=3.798397720946955, details={'was_impossible': False}),\n",
       " Prediction(uid='773', iid='652', r_ui=3.0, est=3.9937072878088284, details={'was_impossible': False}),\n",
       " Prediction(uid='450', iid='478', r_ui=5.0, est=4.502417961747774, details={'was_impossible': False}),\n",
       " Prediction(uid='92', iid='980', r_ui=3.0, est=3.1031490942549684, details={'was_impossible': False}),\n",
       " Prediction(uid='58', iid='121', r_ui=2.0, est=2.984342407031284, details={'was_impossible': False}),\n",
       " Prediction(uid='532', iid='1502', r_ui=1.0, est=4.035978272844208, details={'was_impossible': False}),\n",
       " Prediction(uid='82', iid='178', r_ui=4.0, est=3.968994181734495, details={'was_impossible': False}),\n",
       " Prediction(uid='860', iid='159', r_ui=3.0, est=3.0018770234792127, details={'was_impossible': False}),\n",
       " Prediction(uid='927', iid='761', r_ui=3.0, est=3.4958540897576817, details={'was_impossible': False}),\n",
       " Prediction(uid='171', iid='268', r_ui=4.0, est=3.355084511649118, details={'was_impossible': False}),\n",
       " Prediction(uid='655', iid='1192', r_ui=4.0, est=2.6598394818383175, details={'was_impossible': False}),\n",
       " Prediction(uid='537', iid='61', r_ui=4.0, est=2.99607337708064, details={'was_impossible': False}),\n",
       " Prediction(uid='682', iid='1089', r_ui=2.0, est=2.025292466491668, details={'was_impossible': False}),\n",
       " Prediction(uid='479', iid='144', r_ui=4.0, est=3.725625405008877, details={'was_impossible': False}),\n",
       " Prediction(uid='87', iid='435', r_ui=5.0, est=4.563460463437723, details={'was_impossible': False}),\n",
       " Prediction(uid='624', iid='124', r_ui=4.0, est=4.146556548737413, details={'was_impossible': False}),\n",
       " Prediction(uid='881', iid='568', r_ui=4.0, est=3.5715047863279628, details={'was_impossible': False}),\n",
       " Prediction(uid='798', iid='819', r_ui=3.0, est=2.523378263433774, details={'was_impossible': False}),\n",
       " Prediction(uid='704', iid='1299', r_ui=3.0, est=3.409938287154863, details={'was_impossible': False}),\n",
       " Prediction(uid='932', iid='109', r_ui=2.0, est=3.621519578632506, details={'was_impossible': False}),\n",
       " Prediction(uid='539', iid='963', r_ui=4.0, est=4.338156900686136, details={'was_impossible': False}),\n",
       " Prediction(uid='165', iid='176', r_ui=4.0, est=4.327928369852818, details={'was_impossible': False}),\n",
       " Prediction(uid='373', iid='142', r_ui=3.0, est=2.982653941473965, details={'was_impossible': False}),\n",
       " Prediction(uid='588', iid='132', r_ui=5.0, est=4.494579509463417, details={'was_impossible': False}),\n",
       " Prediction(uid='403', iid='151', r_ui=4.0, est=3.8097556121627902, details={'was_impossible': False}),\n",
       " Prediction(uid='223', iid='993', r_ui=4.0, est=3.2572884400621773, details={'was_impossible': False}),\n",
       " Prediction(uid='706', iid='181', r_ui=4.0, est=4.378549603221357, details={'was_impossible': False}),\n",
       " Prediction(uid='578', iid='300', r_ui=4.0, est=3.0853245840851726, details={'was_impossible': False}),\n",
       " Prediction(uid='345', iid='1117', r_ui=4.0, est=3.5910455531874543, details={'was_impossible': False}),\n",
       " Prediction(uid='620', iid='125', r_ui=2.0, est=4.223622031778762, details={'was_impossible': False}),\n",
       " Prediction(uid='645', iid='194', r_ui=4.0, est=3.9167687552993757, details={'was_impossible': False}),\n",
       " Prediction(uid='890', iid='636', r_ui=3.0, est=3.5689911800587484, details={'was_impossible': False}),\n",
       " Prediction(uid='650', iid='378', r_ui=3.0, est=3.286956233856308, details={'was_impossible': False}),\n",
       " Prediction(uid='11', iid='173', r_ui=5.0, est=3.743513045453203, details={'was_impossible': False}),\n",
       " Prediction(uid='222', iid='117', r_ui=5.0, est=3.8729978550295634, details={'was_impossible': False}),\n",
       " Prediction(uid='474', iid='97', r_ui=5.0, est=4.339297842298656, details={'was_impossible': False}),\n",
       " Prediction(uid='751', iid='1661', r_ui=1.0, est=3.2976977277161668, details={'was_impossible': False}),\n",
       " Prediction(uid='173', iid='879', r_ui=5.0, est=4.147261638755369, details={'was_impossible': False}),\n",
       " Prediction(uid='714', iid='1028', r_ui=4.0, est=3.3185554758349416, details={'was_impossible': False}),\n",
       " Prediction(uid='840', iid='430', r_ui=5.0, est=4.332501839913592, details={'was_impossible': False}),\n",
       " Prediction(uid='196', iid='13', r_ui=2.0, est=3.215360259905325, details={'was_impossible': False}),\n",
       " Prediction(uid='305', iid='166', r_ui=4.0, est=3.628953353379031, details={'was_impossible': False}),\n",
       " Prediction(uid='907', iid='1048', r_ui=5.0, est=3.7984311077217474, details={'was_impossible': False}),\n",
       " Prediction(uid='811', iid='292', r_ui=3.0, est=4.541020327543096, details={'was_impossible': False}),\n",
       " Prediction(uid='766', iid='494', r_ui=3.0, est=3.7730219745686617, details={'was_impossible': False}),\n",
       " Prediction(uid='178', iid='219', r_ui=4.0, est=3.4842328430569807, details={'was_impossible': False}),\n",
       " Prediction(uid='49', iid='256', r_ui=4.0, est=2.6504785359712026, details={'was_impossible': False}),\n",
       " Prediction(uid='312', iid='1167', r_ui=4.0, est=3.8354960226935875, details={'was_impossible': False}),\n",
       " Prediction(uid='671', iid='553', r_ui=5.0, est=3.6725163546898236, details={'was_impossible': False}),\n",
       " Prediction(uid='230', iid='680', r_ui=4.0, est=2.8861815197012217, details={'was_impossible': False}),\n",
       " Prediction(uid='253', iid='220', r_ui=4.0, est=3.8078994989801775, details={'was_impossible': False}),\n",
       " Prediction(uid='770', iid='123', r_ui=3.0, est=4.2560945117340285, details={'was_impossible': False}),\n",
       " Prediction(uid='479', iid='546', r_ui=2.0, est=2.4620952762689856, details={'was_impossible': False}),\n",
       " Prediction(uid='3', iid='339', r_ui=3.0, est=2.4649461904230514, details={'was_impossible': False}),\n",
       " Prediction(uid='201', iid='281', r_ui=2.0, est=2.536260327343664, details={'was_impossible': False}),\n",
       " Prediction(uid='891', iid='323', r_ui=3.0, est=3.536363344359084, details={'was_impossible': False}),\n",
       " Prediction(uid='92', iid='993', r_ui=4.0, est=3.2219995125750813, details={'was_impossible': False}),\n",
       " Prediction(uid='7', iid='191', r_ui=5.0, est=4.533280390885015, details={'was_impossible': False}),\n",
       " Prediction(uid='456', iid='187', r_ui=4.0, est=4.107727893776307, details={'was_impossible': False}),\n",
       " Prediction(uid='627', iid='179', r_ui=5.0, est=3.0771150713585382, details={'was_impossible': False}),\n",
       " Prediction(uid='846', iid='604', r_ui=4.0, est=4.277468645786371, details={'was_impossible': False}),\n",
       " Prediction(uid='402', iid='96', r_ui=5.0, est=4.0120638324271045, details={'was_impossible': False}),\n",
       " Prediction(uid='339', iid='45', r_ui=5.0, est=4.527191501914196, details={'was_impossible': False}),\n",
       " Prediction(uid='405', iid='234', r_ui=5.0, est=2.8984486812442407, details={'was_impossible': False}),\n",
       " Prediction(uid='452', iid='48', r_ui=5.0, est=3.749705920595425, details={'was_impossible': False}),\n",
       " Prediction(uid='280', iid='162', r_ui=3.0, est=3.866309458963143, details={'was_impossible': False}),\n",
       " Prediction(uid='59', iid='926', r_ui=1.0, est=2.574085286764777, details={'was_impossible': False}),\n",
       " Prediction(uid='592', iid='96', r_ui=5.0, est=4.18048624329283, details={'was_impossible': False}),\n",
       " Prediction(uid='112', iid='307', r_ui=4.0, est=3.8385576506962464, details={'was_impossible': False}),\n",
       " Prediction(uid='435', iid='271', r_ui=4.0, est=3.226590445416522, details={'was_impossible': False}),\n",
       " Prediction(uid='109', iid='451', r_ui=5.0, est=3.7005845519159917, details={'was_impossible': False}),\n",
       " Prediction(uid='305', iid='153', r_ui=3.0, est=3.3999379588351912, details={'was_impossible': False}),\n",
       " Prediction(uid='560', iid='246', r_ui=5.0, est=3.711874197969402, details={'was_impossible': False}),\n",
       " Prediction(uid='226', iid='370', r_ui=3.0, est=2.9169262411360606, details={'was_impossible': False}),\n",
       " Prediction(uid='129', iid='331', r_ui=2.0, est=2.711761537093648, details={'was_impossible': False}),\n",
       " Prediction(uid='696', iid='1126', r_ui=3.0, est=3.627912552873459, details={'was_impossible': False}),\n",
       " Prediction(uid='141', iid='1013', r_ui=1.0, est=2.2492395714601154, details={'was_impossible': False}),\n",
       " Prediction(uid='707', iid='419', r_ui=3.0, est=2.932718380165853, details={'was_impossible': False}),\n",
       " Prediction(uid='856', iid='315', r_ui=5.0, est=3.8303216386848637, details={'was_impossible': False}),\n",
       " Prediction(uid='468', iid='172', r_ui=4.0, est=4.704811795325101, details={'was_impossible': False}),\n",
       " Prediction(uid='95', iid='1018', r_ui=3.0, est=3.3501931638058973, details={'was_impossible': False}),\n",
       " Prediction(uid='288', iid='272', r_ui=5.0, est=4.281140119864097, details={'was_impossible': False}),\n",
       " Prediction(uid='378', iid='82', r_ui=4.0, est=4.050260665588459, details={'was_impossible': False}),\n",
       " Prediction(uid='373', iid='169', r_ui=5.0, est=4.595879259616665, details={'was_impossible': False}),\n",
       " Prediction(uid='539', iid='487', r_ui=3.0, est=4.1164300063682715, details={'was_impossible': False}),\n",
       " Prediction(uid='85', iid='1021', r_ui=3.0, est=3.721108359182738, details={'was_impossible': False}),\n",
       " Prediction(uid='828', iid='207', r_ui=4.0, est=3.554799575074199, details={'was_impossible': False}),\n",
       " Prediction(uid='151', iid='174', r_ui=5.0, est=4.41226826002933, details={'was_impossible': False}),\n",
       " Prediction(uid='279', iid='1312', r_ui=3.0, est=3.187519090112185, details={'was_impossible': False}),\n",
       " Prediction(uid='406', iid='195', r_ui=5.0, est=3.5079535742180177, details={'was_impossible': False}),\n",
       " Prediction(uid='395', iid='313', r_ui=3.0, est=4.265425854560601, details={'was_impossible': False}),\n",
       " Prediction(uid='682', iid='51', r_ui=5.0, est=3.362658077103738, details={'was_impossible': False}),\n",
       " Prediction(uid='119', iid='762', r_ui=4.0, est=3.6197174835107746, details={'was_impossible': False}),\n",
       " Prediction(uid='663', iid='187', r_ui=5.0, est=3.9884552885903393, details={'was_impossible': False}),\n",
       " Prediction(uid='379', iid='1035', r_ui=3.0, est=3.7240412305441906, details={'was_impossible': False}),\n",
       " Prediction(uid='562', iid='194', r_ui=5.0, est=3.5258701676665254, details={'was_impossible': False}),\n",
       " Prediction(uid='474', iid='487', r_ui=4.0, est=4.569375404295754, details={'was_impossible': False}),\n",
       " Prediction(uid='514', iid='357', r_ui=4.0, est=4.168737605448603, details={'was_impossible': False}),\n",
       " Prediction(uid='343', iid='515', r_ui=4.0, est=4.9143576312396515, details={'was_impossible': False}),\n",
       " Prediction(uid='16', iid='471', r_ui=3.0, est=4.196517042923587, details={'was_impossible': False}),\n",
       " Prediction(uid='394', iid='715', r_ui=4.0, est=3.8005817023193984, details={'was_impossible': False}),\n",
       " Prediction(uid='721', iid='87', r_ui=3.0, est=4.231152700450491, details={'was_impossible': False}),\n",
       " Prediction(uid='311', iid='604', r_ui=3.0, est=4.24189888778508, details={'was_impossible': False}),\n",
       " Prediction(uid='374', iid='552', r_ui=4.0, est=2.5598111785221698, details={'was_impossible': False}),\n",
       " Prediction(uid='398', iid='191', r_ui=4.0, est=4.041612813600291, details={'was_impossible': False}),\n",
       " Prediction(uid='271', iid='242', r_ui=4.0, est=3.8264976645569275, details={'was_impossible': False}),\n",
       " Prediction(uid='92', iid='67', r_ui=3.0, est=2.9088006827023887, details={'was_impossible': False}),\n",
       " Prediction(uid='343', iid='559', r_ui=3.0, est=3.6744261274479704, details={'was_impossible': False}),\n",
       " Prediction(uid='638', iid='211', r_ui=4.0, est=3.731306780691914, details={'was_impossible': False}),\n",
       " Prediction(uid='46', iid='313', r_ui=5.0, est=4.528797869597383, details={'was_impossible': False}),\n",
       " Prediction(uid='279', iid='151', r_ui=4.0, est=4.095229082966195, details={'was_impossible': False}),\n",
       " Prediction(uid='144', iid='55', r_ui=4.0, est=3.292215238881165, details={'was_impossible': False}),\n",
       " Prediction(uid='528', iid='1618', r_ui=1.0, est=3.5795899886614286, details={'was_impossible': False}),\n",
       " Prediction(uid='1', iid='172', r_ui=5.0, est=4.1573180590070855, details={'was_impossible': False}),\n",
       " Prediction(uid='7', iid='260', r_ui=1.0, est=2.955534460518646, details={'was_impossible': False}),\n",
       " Prediction(uid='374', iid='288', r_ui=4.0, est=3.4781107953051413, details={'was_impossible': False}),\n",
       " Prediction(uid='109', iid='790', r_ui=2.0, est=3.147785690872897, details={'was_impossible': False}),\n",
       " Prediction(uid='37', iid='161', r_ui=5.0, est=3.6109580641348478, details={'was_impossible': False}),\n",
       " Prediction(uid='361', iid='14', r_ui=4.0, est=4.234186511921099, details={'was_impossible': False}),\n",
       " Prediction(uid='380', iid='151', r_ui=4.0, est=3.149533739330095, details={'was_impossible': False}),\n",
       " Prediction(uid='405', iid='802', r_ui=1.0, est=1.073886442053646, details={'was_impossible': False}),\n",
       " Prediction(uid='736', iid='1278', r_ui=1.0, est=3.157749118445241, details={'was_impossible': False}),\n",
       " Prediction(uid='867', iid='132', r_ui=3.0, est=4.308312524208709, details={'was_impossible': False}),\n",
       " Prediction(uid='634', iid='678', r_ui=2.0, est=3.108524052908546, details={'was_impossible': False}),\n",
       " Prediction(uid='437', iid='292', r_ui=5.0, est=3.6605678896653018, details={'was_impossible': False}),\n",
       " Prediction(uid='592', iid='79', r_ui=4.0, est=4.193019486016678, details={'was_impossible': False}),\n",
       " Prediction(uid='181', iid='19', r_ui=1.0, est=2.0170335001923703, details={'was_impossible': False}),\n",
       " Prediction(uid='58', iid='663', r_ui=2.0, est=4.367792879061291, details={'was_impossible': False}),\n",
       " Prediction(uid='459', iid='1038', r_ui=4.0, est=2.9744243665585794, details={'was_impossible': False}),\n",
       " Prediction(uid='918', iid='135', r_ui=1.0, est=3.523908468267068, details={'was_impossible': False}),\n",
       " Prediction(uid='772', iid='322', r_ui=4.0, est=3.8340064341372786, details={'was_impossible': False}),\n",
       " Prediction(uid='201', iid='693', r_ui=4.0, est=3.4088101873959156, details={'was_impossible': False}),\n",
       " Prediction(uid='711', iid='161', r_ui=4.0, est=2.9273333622851037, details={'was_impossible': False}),\n",
       " Prediction(uid='697', iid='127', r_ui=5.0, est=4.406787336101855, details={'was_impossible': False}),\n",
       " Prediction(uid='662', iid='10', r_ui=4.0, est=4.168919660919619, details={'was_impossible': False}),\n",
       " Prediction(uid='347', iid='290', r_ui=3.0, est=3.3227450528682922, details={'was_impossible': False}),\n",
       " Prediction(uid='508', iid='179', r_ui=4.0, est=3.902438080186291, details={'was_impossible': False}),\n",
       " Prediction(uid='93', iid='815', r_ui=4.0, est=3.2476919413629424, details={'was_impossible': False}),\n",
       " Prediction(uid='533', iid='182', r_ui=3.0, est=3.695412018629173, details={'was_impossible': False}),\n",
       " Prediction(uid='81', iid='456', r_ui=1.0, est=2.3332740471884446, details={'was_impossible': False}),\n",
       " Prediction(uid='66', iid='300', r_ui=5.0, est=3.9632109297564933, details={'was_impossible': False}),\n",
       " Prediction(uid='868', iid='219', r_ui=2.0, est=2.047192231369311, details={'was_impossible': False}),\n",
       " Prediction(uid='606', iid='282', r_ui=4.0, est=4.105357504396335, details={'was_impossible': False}),\n",
       " Prediction(uid='552', iid='1047', r_ui=3.0, est=2.532775074373005, details={'was_impossible': False}),\n",
       " Prediction(uid='244', iid='584', r_ui=5.0, est=3.765547937261749, details={'was_impossible': False}),\n",
       " Prediction(uid='279', iid='1180', r_ui=2.0, est=2.865060360536794, details={'was_impossible': False}),\n",
       " Prediction(uid='916', iid='193', r_ui=4.0, est=3.47619411415282, details={'was_impossible': False}),\n",
       " Prediction(uid='867', iid='28', r_ui=5.0, est=4.138819142526072, details={'was_impossible': False}),\n",
       " Prediction(uid='271', iid='509', r_ui=4.0, est=3.959329829851186, details={'was_impossible': False}),\n",
       " Prediction(uid='862', iid='208', r_ui=2.0, est=4.703937117389737, details={'was_impossible': False}),\n",
       " Prediction(uid='527', iid='661', r_ui=5.0, est=4.126606469074353, details={'was_impossible': False}),\n",
       " Prediction(uid='648', iid='429', r_ui=4.0, est=4.226930736220622, details={'was_impossible': False}),\n",
       " Prediction(uid='911', iid='506', r_ui=3.0, est=3.809022865406221, details={'was_impossible': False}),\n",
       " Prediction(uid='10', iid='505', r_ui=4.0, est=4.45435381774301, details={'was_impossible': False}),\n",
       " Prediction(uid='704', iid='172', r_ui=2.0, est=4.050751918251904, details={'was_impossible': False}),\n",
       " Prediction(uid='297', iid='430', r_ui=1.0, est=3.7784011438315153, details={'was_impossible': False}),\n",
       " Prediction(uid='58', iid='20', r_ui=1.0, est=3.252318116857661, details={'was_impossible': False}),\n",
       " Prediction(uid='145', iid='1248', r_ui=3.0, est=3.1478361729222164, details={'was_impossible': False}),\n",
       " Prediction(uid='270', iid='1007', r_ui=5.0, est=4.568023615891755, details={'was_impossible': False}),\n",
       " Prediction(uid='151', iid='69', r_ui=4.0, est=4.314677390195973, details={'was_impossible': False}),\n",
       " Prediction(uid='426', iid='655', r_ui=4.0, est=3.7781227009345804, details={'was_impossible': False}),\n",
       " Prediction(uid='201', iid='1422', r_ui=2.0, est=3.108767693873597, details={'was_impossible': False}),\n",
       " Prediction(uid='56', iid='373', r_ui=4.0, est=3.149868012085391, details={'was_impossible': False}),\n",
       " Prediction(uid='617', iid='242', r_ui=3.0, est=3.022842136592303, details={'was_impossible': False}),\n",
       " Prediction(uid='280', iid='232', r_ui=3.0, est=3.1047553266716346, details={'was_impossible': False}),\n",
       " Prediction(uid='315', iid='285', r_ui=5.0, est=4.595681535746449, details={'was_impossible': False}),\n",
       " Prediction(uid='828', iid='286', r_ui=4.0, est=3.377641133457381, details={'was_impossible': False}),\n",
       " Prediction(uid='312', iid='194', r_ui=4.0, est=4.337553551989628, details={'was_impossible': False}),\n",
       " Prediction(uid='933', iid='105', r_ui=2.0, est=1.3104281202801684, details={'was_impossible': False}),\n",
       " Prediction(uid='541', iid='63', r_ui=3.0, est=3.1128322485792235, details={'was_impossible': False}),\n",
       " Prediction(uid='493', iid='168', r_ui=5.0, est=3.9767850021595366, details={'was_impossible': False}),\n",
       " Prediction(uid='64', iid='127', r_ui=5.0, est=4.350629581606085, details={'was_impossible': False}),\n",
       " Prediction(uid='892', iid='129', r_ui=3.0, est=4.212049543252897, details={'was_impossible': False}),\n",
       " Prediction(uid='196', iid='110', r_ui=1.0, est=2.864528010146401, details={'was_impossible': False}),\n",
       " Prediction(uid='500', iid='216', r_ui=4.0, est=3.811377462311993, details={'was_impossible': False}),\n",
       " Prediction(uid='665', iid='293', r_ui=4.0, est=3.8635557556775, details={'was_impossible': False}),\n",
       " Prediction(uid='927', iid='380', r_ui=5.0, est=3.730082607740303, details={'was_impossible': False}),\n",
       " Prediction(uid='756', iid='1031', r_ui=2.0, est=2.8572922673520496, details={'was_impossible': False}),\n",
       " Prediction(uid='386', iid='24', r_ui=4.0, est=3.751935580847774, details={'was_impossible': False}),\n",
       " Prediction(uid='634', iid='546', r_ui=4.0, est=3.233311857138966, details={'was_impossible': False}),\n",
       " Prediction(uid='305', iid='98', r_ui=4.0, est=3.9815826597729256, details={'was_impossible': False}),\n",
       " Prediction(uid='854', iid='475', r_ui=4.0, est=3.902147965469523, details={'was_impossible': False}),\n",
       " Prediction(uid='889', iid='56', r_ui=5.0, est=3.7639469386987487, details={'was_impossible': False}),\n",
       " Prediction(uid='276', iid='245', r_ui=3.0, est=3.245358331157419, details={'was_impossible': False}),\n",
       " Prediction(uid='233', iid='495', r_ui=4.0, est=4.105691658592193, details={'was_impossible': False}),\n",
       " Prediction(uid='545', iid='231', r_ui=4.0, est=2.933165640921322, details={'was_impossible': False}),\n",
       " Prediction(uid='344', iid='291', r_ui=3.0, est=3.237217588913574, details={'was_impossible': False}),\n",
       " Prediction(uid='528', iid='56', r_ui=3.0, est=4.113784650118208, details={'was_impossible': False}),\n",
       " Prediction(uid='605', iid='496', r_ui=5.0, est=4.008558075876875, details={'was_impossible': False}),\n",
       " Prediction(uid='595', iid='880', r_ui=3.0, est=3.0706089264525045, details={'was_impossible': False}),\n",
       " Prediction(uid='540', iid='245', r_ui=3.0, est=3.074804849650831, details={'was_impossible': False}),\n",
       " Prediction(uid='936', iid='1202', r_ui=4.0, est=3.888157253412004, details={'was_impossible': False}),\n",
       " Prediction(uid='344', iid='472', r_ui=3.0, est=2.9945458795450177, details={'was_impossible': False}),\n",
       " Prediction(uid='338', iid='204', r_ui=3.0, est=3.6432059481699013, details={'was_impossible': False}),\n",
       " Prediction(uid='345', iid='200', r_ui=4.0, est=3.712200653128519, details={'was_impossible': False}),\n",
       " Prediction(uid='160', iid='21', r_ui=1.0, est=3.0581999334048042, details={'was_impossible': False}),\n",
       " Prediction(uid='145', iid='275', r_ui=2.0, est=4.235791248049128, details={'was_impossible': False}),\n",
       " Prediction(uid='122', iid='1074', r_ui=4.0, est=3.2596748823979773, details={'was_impossible': False}),\n",
       " Prediction(uid='479', iid='153', r_ui=4.0, est=3.958060461788061, details={'was_impossible': False}),\n",
       " Prediction(uid='472', iid='161', r_ui=5.0, est=4.6045357379790985, details={'was_impossible': False}),\n",
       " Prediction(uid='752', iid='340', r_ui=4.0, est=3.2364609912159064, details={'was_impossible': False}),\n",
       " Prediction(uid='863', iid='752', r_ui=4.0, est=3.305786122062653, details={'was_impossible': False}),\n",
       " Prediction(uid='504', iid='300', r_ui=4.0, est=4.013809691522037, details={'was_impossible': False}),\n",
       " Prediction(uid='701', iid='286', r_ui=4.0, est=3.9360236778126763, details={'was_impossible': False}),\n",
       " Prediction(uid='774', iid='448', r_ui=2.0, est=2.2752490353957, details={'was_impossible': False}),\n",
       " Prediction(uid='381', iid='419', r_ui=5.0, est=4.157161350645284, details={'was_impossible': False}),\n",
       " Prediction(uid='305', iid='285', r_ui=5.0, est=3.8553730214577286, details={'was_impossible': False}),\n",
       " Prediction(uid='881', iid='559', r_ui=2.0, est=2.9218107383270753, details={'was_impossible': False}),\n",
       " Prediction(uid='437', iid='732', r_ui=4.0, est=3.455626538137294, details={'was_impossible': False}),\n",
       " Prediction(uid='363', iid='959', r_ui=1.0, est=3.283932193228038, details={'was_impossible': False}),\n",
       " Prediction(uid='409', iid='1392', r_ui=1.0, est=2.7520528823614687, details={'was_impossible': False}),\n",
       " Prediction(uid='236', iid='429', r_ui=1.0, est=3.925756586464045, details={'was_impossible': False}),\n",
       " Prediction(uid='367', iid='448', r_ui=4.0, est=4.288267473184347, details={'was_impossible': False}),\n",
       " Prediction(uid='340', iid='66', r_ui=5.0, est=4.0849115040748645, details={'was_impossible': False}),\n",
       " Prediction(uid='244', iid='1136', r_ui=3.0, est=3.677703620319303, details={'was_impossible': False}),\n",
       " Prediction(uid='648', iid='218', r_ui=3.0, est=3.419613989954083, details={'was_impossible': False}),\n",
       " Prediction(uid='840', iid='654', r_ui=4.0, est=4.3928945772742996, details={'was_impossible': False}),\n",
       " Prediction(uid='253', iid='518', r_ui=5.0, est=3.803117153257973, details={'was_impossible': False}),\n",
       " Prediction(uid='666', iid='147', r_ui=3.0, est=3.351039326964206, details={'was_impossible': False}),\n",
       " Prediction(uid='293', iid='558', r_ui=3.0, est=3.4679687367775163, details={'was_impossible': False}),\n",
       " Prediction(uid='397', iid='878', r_ui=1.0, est=2.3194266376231076, details={'was_impossible': False}),\n",
       " Prediction(uid='347', iid='609', r_ui=4.0, est=3.499104291178987, details={'was_impossible': False}),\n",
       " Prediction(uid='145', iid='553', r_ui=3.0, est=3.6610264951284424, details={'was_impossible': False}),\n",
       " Prediction(uid='65', iid='7', r_ui=1.0, est=3.8785231281873687, details={'was_impossible': False}),\n",
       " Prediction(uid='926', iid='245', r_ui=3.0, est=2.8975004376933575, details={'was_impossible': False}),\n",
       " Prediction(uid='781', iid='523', r_ui=5.0, est=3.966549230686734, details={'was_impossible': False}),\n",
       " Prediction(uid='228', iid='327', r_ui=1.0, est=2.73044834103591, details={'was_impossible': False}),\n",
       " Prediction(uid='276', iid='653', r_ui=5.0, est=3.877957262933151, details={'was_impossible': False}),\n",
       " Prediction(uid='696', iid='285', r_ui=4.0, est=4.503546946307593, details={'was_impossible': False}),\n",
       " Prediction(uid='592', iid='900', r_ui=4.0, est=4.32641318678458, details={'was_impossible': False}),\n",
       " Prediction(uid='734', iid='165', r_ui=3.0, est=3.887596319025854, details={'was_impossible': False}),\n",
       " Prediction(uid='102', iid='200', r_ui=3.0, est=3.1963454378850282, details={'was_impossible': False}),\n",
       " Prediction(uid='296', iid='144', r_ui=4.0, est=4.466406510189746, details={'was_impossible': False}),\n",
       " Prediction(uid='264', iid='294', r_ui=3.0, est=3.7432232191743777, details={'was_impossible': False}),\n",
       " Prediction(uid='425', iid='301', r_ui=4.0, est=2.7906954113441924, details={'was_impossible': False}),\n",
       " Prediction(uid='5', iid='371', r_ui=1.0, est=2.6451140409065634, details={'was_impossible': False}),\n",
       " Prediction(uid='654', iid='845', r_ui=4.0, est=3.805730820503931, details={'was_impossible': False}),\n",
       " Prediction(uid='832', iid='50', r_ui=3.0, est=3.8963326068454167, details={'was_impossible': False}),\n",
       " Prediction(uid='7', iid='106', r_ui=4.0, est=3.3685830085339, details={'was_impossible': False}),\n",
       " Prediction(uid='445', iid='121', r_ui=1.0, est=1.4980683143347218, details={'was_impossible': False}),\n",
       " Prediction(uid='782', iid='1615', r_ui=3.0, est=2.776320705885458, details={'was_impossible': False}),\n",
       " Prediction(uid='804', iid='480', r_ui=5.0, est=4.410448752443965, details={'was_impossible': False}),\n",
       " Prediction(uid='896', iid='387', r_ui=2.0, est=2.7147002220267638, details={'was_impossible': False}),\n",
       " Prediction(uid='577', iid='196', r_ui=5.0, est=4.479767462298448, details={'was_impossible': False}),\n",
       " Prediction(uid='344', iid='408', r_ui=5.0, est=4.6433636113492, details={'was_impossible': False}),\n",
       " Prediction(uid='204', iid='300', r_ui=3.0, est=3.056934124366948, details={'was_impossible': False}),\n",
       " Prediction(uid='426', iid='641', r_ui=4.0, est=4.283723175814289, details={'was_impossible': False}),\n",
       " Prediction(uid='42', iid='735', r_ui=4.0, est=3.700376730475831, details={'was_impossible': False}),\n",
       " Prediction(uid='405', iid='391', r_ui=1.0, est=1, details={'was_impossible': False}),\n",
       " Prediction(uid='523', iid='169', r_ui=5.0, est=5, details={'was_impossible': False}),\n",
       " Prediction(uid='851', iid='291', r_ui=4.0, est=3.832961728009687, details={'was_impossible': False}),\n",
       " Prediction(uid='805', iid='148', r_ui=2.0, est=2.5623829280266452, details={'was_impossible': False}),\n",
       " Prediction(uid='760', iid='723', r_ui=2.0, est=3.312766975817871, details={'was_impossible': False}),\n",
       " Prediction(uid='244', iid='241', r_ui=4.0, est=3.5563228080856564, details={'was_impossible': False}),\n",
       " Prediction(uid='850', iid='56', r_ui=1.0, est=4.601419641831215, details={'was_impossible': False}),\n",
       " Prediction(uid='31', iid='504', r_ui=5.0, est=3.711471396174577, details={'was_impossible': False}),\n",
       " Prediction(uid='911', iid='655', r_ui=5.0, est=4.175931273844006, details={'was_impossible': False}),\n",
       " Prediction(uid='597', iid='286', r_ui=3.0, est=3.9160764710408986, details={'was_impossible': False}),\n",
       " Prediction(uid='766', iid='265', r_ui=3.0, est=3.5079419409693546, details={'was_impossible': False}),\n",
       " Prediction(uid='449', iid='1195', r_ui=5.0, est=3.792750691311908, details={'was_impossible': False}),\n",
       " Prediction(uid='669', iid='427', r_ui=4.0, est=4.074940814341733, details={'was_impossible': False}),\n",
       " Prediction(uid='488', iid='193', r_ui=3.0, est=3.3904705868103715, details={'was_impossible': False}),\n",
       " Prediction(uid='927', iid='118', r_ui=5.0, est=3.944836334321769, details={'was_impossible': False}),\n",
       " Prediction(uid='308', iid='642', r_ui=5.0, est=3.868588465738825, details={'was_impossible': False}),\n",
       " Prediction(uid='709', iid='470', r_ui=3.0, est=3.725469820667084, details={'was_impossible': False}),\n",
       " Prediction(uid='493', iid='239', r_ui=5.0, est=3.7168331918468143, details={'was_impossible': False}),\n",
       " Prediction(uid='640', iid='1228', r_ui=4.0, est=3.137971544958026, details={'was_impossible': False}),\n",
       " Prediction(uid='659', iid='252', r_ui=4.0, est=3.114911955128113, details={'was_impossible': False}),\n",
       " Prediction(uid='637', iid='740', r_ui=2.0, est=2.5351682149323835, details={'was_impossible': False}),\n",
       " Prediction(uid='457', iid='452', r_ui=3.0, est=3.2011937951165024, details={'was_impossible': False}),\n",
       " Prediction(uid='250', iid='1', r_ui=4.0, est=4.000215574031182, details={'was_impossible': False}),\n",
       " Prediction(uid='715', iid='732', r_ui=3.0, est=3.5909018964414177, details={'was_impossible': False}),\n",
       " Prediction(uid='738', iid='367', r_ui=3.0, est=3.334799775994347, details={'was_impossible': False}),\n",
       " Prediction(uid='450', iid='90', r_ui=4.0, est=3.3887040914670075, details={'was_impossible': False}),\n",
       " Prediction(uid='643', iid='65', r_ui=4.0, est=3.471076575637046, details={'was_impossible': False}),\n",
       " Prediction(uid='627', iid='562', r_ui=2.0, est=3.064541121274075, details={'was_impossible': False}),\n",
       " Prediction(uid='416', iid='734', r_ui=3.0, est=3.0889825948974234, details={'was_impossible': False}),\n",
       " Prediction(uid='532', iid='750', r_ui=5.0, est=4.610446387140141, details={'was_impossible': False}),\n",
       " Prediction(uid='185', iid='9', r_ui=4.0, est=4.530219556401459, details={'was_impossible': False}),\n",
       " Prediction(uid='659', iid='43', r_ui=4.0, est=3.059858584517776, details={'was_impossible': False}),\n",
       " Prediction(uid='560', iid='111', r_ui=3.0, est=3.7479502246659777, details={'was_impossible': False}),\n",
       " Prediction(uid='506', iid='97', r_ui=4.0, est=3.7818895126447125, details={'was_impossible': False}),\n",
       " Prediction(uid='458', iid='195', r_ui=4.0, est=3.802259605713289, details={'was_impossible': False}),\n",
       " Prediction(uid='693', iid='157', r_ui=4.0, est=3.3151902579089882, details={'was_impossible': False}),\n",
       " Prediction(uid='606', iid='187', r_ui=4.0, est=4.4450655016409675, details={'was_impossible': False}),\n",
       " Prediction(uid='658', iid='69', r_ui=4.0, est=3.6883696172002693, details={'was_impossible': False}),\n",
       " Prediction(uid='354', iid='170', r_ui=4.0, est=4.262626758910175, details={'was_impossible': False}),\n",
       " Prediction(uid='472', iid='392', r_ui=4.0, est=4.830071990911305, details={'was_impossible': False}),\n",
       " Prediction(uid='291', iid='66', r_ui=4.0, est=3.983778635096846, details={'was_impossible': False}),\n",
       " Prediction(uid='897', iid='369', r_ui=4.0, est=2.737493507923877, details={'was_impossible': False}),\n",
       " Prediction(uid='195', iid='771', r_ui=2.0, est=2.9562172317042994, details={'was_impossible': False}),\n",
       " Prediction(uid='130', iid='270', r_ui=5.0, est=4.354603376464736, details={'was_impossible': False}),\n",
       " Prediction(uid='712', iid='73', r_ui=5.0, est=4.135156711275284, details={'was_impossible': False}),\n",
       " Prediction(uid='13', iid='174', r_ui=4.0, est=4.445649910652246, details={'was_impossible': False}),\n",
       " Prediction(uid='108', iid='255', r_ui=2.0, est=3.4402700347999966, details={'was_impossible': False}),\n",
       " Prediction(uid='936', iid='100', r_ui=4.0, est=5, details={'was_impossible': False}),\n",
       " Prediction(uid='908', iid='174', r_ui=3.0, est=3.8162242648918308, details={'was_impossible': False}),\n",
       " Prediction(uid='774', iid='545', r_ui=1.0, est=1.2829403566014568, details={'was_impossible': False}),\n",
       " Prediction(uid='486', iid='292', r_ui=4.0, est=3.5143643191653746, details={'was_impossible': False}),\n",
       " Prediction(uid='405', iid='723', r_ui=1.0, est=1.7669107770496326, details={'was_impossible': False}),\n",
       " Prediction(uid='298', iid='132', r_ui=5.0, est=4.049381353121072, details={'was_impossible': False}),\n",
       " Prediction(uid='312', iid='8', r_ui=5.0, est=4.364343374340396, details={'was_impossible': False}),\n",
       " Prediction(uid='644', iid='597', r_ui=4.0, est=4.119279444837113, details={'was_impossible': False}),\n",
       " Prediction(uid='717', iid='121', r_ui=2.0, est=3.6098777538002347, details={'was_impossible': False}),\n",
       " Prediction(uid='416', iid='931', r_ui=3.0, est=2.6859886670294095, details={'was_impossible': False}),\n",
       " Prediction(uid='343', iid='44', r_ui=3.0, est=3.834834319712667, details={'was_impossible': False}),\n",
       " Prediction(uid='763', iid='230', r_ui=3.0, est=3.4596860662592026, details={'was_impossible': False}),\n",
       " Prediction(uid='327', iid='92', r_ui=4.0, est=3.3803414996686443, details={'was_impossible': False}),\n",
       " Prediction(uid='561', iid='1119', r_ui=3.0, est=2.938411832984222, details={'was_impossible': False}),\n",
       " Prediction(uid='487', iid='252', r_ui=1.0, est=3.0137598101852814, details={'was_impossible': False}),\n",
       " Prediction(uid='426', iid='489', r_ui=5.0, est=3.854831525277125, details={'was_impossible': False}),\n",
       " Prediction(uid='130', iid='569', r_ui=3.0, est=3.5201378123634735, details={'was_impossible': False}),\n",
       " Prediction(uid='533', iid='484', r_ui=3.0, est=3.776029189968243, details={'was_impossible': False}),\n",
       " Prediction(uid='757', iid='231', r_ui=2.0, est=2.858296316689778, details={'was_impossible': False}),\n",
       " Prediction(uid='406', iid='508', r_ui=4.0, est=3.240908106710781, details={'was_impossible': False}),\n",
       " Prediction(uid='567', iid='659', r_ui=4.0, est=4.373714218529722, details={'was_impossible': False}),\n",
       " Prediction(uid='894', iid='147', r_ui=3.0, est=3.4367191937314927, details={'was_impossible': False}),\n",
       " Prediction(uid='269', iid='679', r_ui=1.0, est=2.3531269008502975, details={'was_impossible': False}),\n",
       " Prediction(uid='311', iid='367', r_ui=3.0, est=3.574138032176073, details={'was_impossible': False}),\n",
       " Prediction(uid='747', iid='989', r_ui=3.0, est=3.0348946282862297, details={'was_impossible': False}),\n",
       " Prediction(uid='835', iid='505', r_ui=3.0, est=4.44098776370216, details={'was_impossible': False}),\n",
       " Prediction(uid='472', iid='834', r_ui=3.0, est=3.493082966235345, details={'was_impossible': False}),\n",
       " Prediction(uid='880', iid='470', r_ui=4.0, est=3.3889710196544187, details={'was_impossible': False}),\n",
       " Prediction(uid='450', iid='400', r_ui=3.0, est=3.4670916898748128, details={'was_impossible': False}),\n",
       " Prediction(uid='727', iid='167', r_ui=2.0, est=2.6339828422888405, details={'was_impossible': False}),\n",
       " Prediction(uid='805', iid='942', r_ui=3.0, est=3.935249639255766, details={'was_impossible': False}),\n",
       " Prediction(uid='90', iid='322', r_ui=4.0, est=2.961749720598678, details={'was_impossible': False}),\n",
       " Prediction(uid='246', iid='109', r_ui=5.0, est=3.3076479031860124, details={'was_impossible': False}),\n",
       " Prediction(uid='387', iid='96', r_ui=4.0, est=3.837430478149176, details={'was_impossible': False}),\n",
       " Prediction(uid='1', iid='17', r_ui=3.0, est=2.8783306851891965, details={'was_impossible': False}),\n",
       " Prediction(uid='421', iid='156', r_ui=5.0, est=3.7982150430891184, details={'was_impossible': False}),\n",
       " Prediction(uid='796', iid='1039', r_ui=4.0, est=4.002613633361993, details={'was_impossible': False}),\n",
       " Prediction(uid='257', iid='286', r_ui=5.0, est=3.854381208058747, details={'was_impossible': False}),\n",
       " Prediction(uid='244', iid='172', r_ui=4.0, est=4.535691190873983, details={'was_impossible': False}),\n",
       " Prediction(uid='646', iid='313', r_ui=5.0, est=3.8722373353816115, details={'was_impossible': False}),\n",
       " Prediction(uid='577', iid='298', r_ui=4.0, est=4.058885695747486, details={'was_impossible': False}),\n",
       " Prediction(uid='942', iid='1204', r_ui=4.0, est=3.9216090797006937, details={'was_impossible': False}),\n",
       " Prediction(uid='621', iid='143', r_ui=2.0, est=4.141469526620029, details={'was_impossible': False}),\n",
       " Prediction(uid='262', iid='786', r_ui=3.0, est=2.580319558619177, details={'was_impossible': False}),\n",
       " Prediction(uid='365', iid='815', r_ui=3.0, est=2.626590468280671, details={'was_impossible': False}),\n",
       " Prediction(uid='745', iid='286', r_ui=1.0, est=3.1231779086883718, details={'was_impossible': False}),\n",
       " Prediction(uid='336', iid='1118', r_ui=4.0, est=2.9953690688423604, details={'was_impossible': False}),\n",
       " Prediction(uid='301', iid='686', r_ui=4.0, est=3.5038973448858353, details={'was_impossible': False}),\n",
       " Prediction(uid='600', iid='183', r_ui=5.0, est=4.092289489983016, details={'was_impossible': False}),\n",
       " Prediction(uid='749', iid='73', r_ui=4.0, est=3.6690326767728885, details={'was_impossible': False}),\n",
       " Prediction(uid='642', iid='118', r_ui=3.0, est=4.252272502284292, details={'was_impossible': False}),\n",
       " Prediction(uid='916', iid='176', r_ui=4.0, est=4.015539809894889, details={'was_impossible': False}),\n",
       " Prediction(uid='537', iid='1010', r_ui=2.0, est=2.7719483584255173, details={'was_impossible': False}),\n",
       " Prediction(uid='537', iid='482', r_ui=4.0, est=3.6280448597490333, details={'was_impossible': False}),\n",
       " Prediction(uid='894', iid='288', r_ui=3.0, est=3.523214981509862, details={'was_impossible': False}),\n",
       " Prediction(uid='504', iid='567', r_ui=2.0, est=3.2793161689208277, details={'was_impossible': False}),\n",
       " Prediction(uid='400', iid='304', r_ui=4.0, est=3.8090004427469717, details={'was_impossible': False}),\n",
       " Prediction(uid='297', iid='746', r_ui=3.0, est=3.1804127363820056, details={'was_impossible': False}),\n",
       " Prediction(uid='850', iid='96', r_ui=4.0, est=5, details={'was_impossible': False}),\n",
       " Prediction(uid='921', iid='24', r_ui=3.0, est=3.3272719613043225, details={'was_impossible': False}),\n",
       " Prediction(uid='862', iid='216', r_ui=5.0, est=4.476374458026181, details={'was_impossible': False}),\n",
       " Prediction(uid='848', iid='210', r_ui=5.0, est=4.3562674821383025, details={'was_impossible': False}),\n",
       " Prediction(uid='43', iid='566', r_ui=3.0, est=3.88142319276655, details={'was_impossible': False}),\n",
       " Prediction(uid='655', iid='283', r_ui=3.0, est=3.117503748457434, details={'was_impossible': False}),\n",
       " Prediction(uid='346', iid='576', r_ui=3.0, est=3.0577581389828414, details={'was_impossible': False}),\n",
       " Prediction(uid='432', iid='257', r_ui=5.0, est=3.9809640941938182, details={'was_impossible': False}),\n",
       " Prediction(uid='7', iid='563', r_ui=2.0, est=3.1138133626130475, details={'was_impossible': False}),\n",
       " Prediction(uid='788', iid='357', r_ui=4.0, est=3.8374225260983366, details={'was_impossible': False}),\n",
       " Prediction(uid='280', iid='1473', r_ui=3.0, est=3.8160944230241785, details={'was_impossible': False}),\n",
       " Prediction(uid='751', iid='174', r_ui=4.0, est=4.247479705775611, details={'was_impossible': False}),\n",
       " Prediction(uid='691', iid='243', r_ui=1.0, est=2.775348255533269, details={'was_impossible': False}),\n",
       " Prediction(uid='610', iid='11', r_ui=4.0, est=3.4060058603742727, details={'was_impossible': False}),\n",
       " Prediction(uid='295', iid='395', r_ui=4.0, est=3.4194568864886454, details={'was_impossible': False}),\n",
       " Prediction(uid='226', iid='507', r_ui=2.0, est=3.9087648240680553, details={'was_impossible': False}),\n",
       " Prediction(uid='880', iid='948', r_ui=4.0, est=2.6177358512173488, details={'was_impossible': False}),\n",
       " Prediction(uid='163', iid='286', r_ui=3.0, est=3.0566922234275884, details={'was_impossible': False}),\n",
       " Prediction(uid='695', iid='882', r_ui=4.0, est=3.1718643405574607, details={'was_impossible': False}),\n",
       " Prediction(uid='832', iid='328', r_ui=3.0, est=3.170012230415787, details={'was_impossible': False}),\n",
       " Prediction(uid='709', iid='769', r_ui=3.0, est=2.5750641810418, details={'was_impossible': False}),\n",
       " Prediction(uid='92', iid='709', r_ui=2.0, est=4.026457624263021, details={'was_impossible': False}),\n",
       " Prediction(uid='654', iid='3', r_ui=3.0, est=3.0908488987444653, details={'was_impossible': False}),\n",
       " Prediction(uid='795', iid='432', r_ui=3.0, est=3.5858604806509775, details={'was_impossible': False}),\n",
       " Prediction(uid='162', iid='117', r_ui=4.0, est=3.6146995664582384, details={'was_impossible': False}),\n",
       " Prediction(uid='399', iid='465', r_ui=3.0, est=3.218545876970604, details={'was_impossible': False}),\n",
       " Prediction(uid='642', iid='99', r_ui=2.0, est=3.8802738412274156, details={'was_impossible': False}),\n",
       " Prediction(uid='390', iid='126', r_ui=5.0, est=4.151746355901242, details={'was_impossible': False}),\n",
       " Prediction(uid='308', iid='479', r_ui=5.0, est=4.371669155472387, details={'was_impossible': False}),\n",
       " Prediction(uid='87', iid='1074', r_ui=3.0, est=3.4738732685968294, details={'was_impossible': False}),\n",
       " Prediction(uid='796', iid='662', r_ui=5.0, est=3.5679083533420166, details={'was_impossible': False}),\n",
       " Prediction(uid='830', iid='612', r_ui=4.0, est=4.029341837239482, details={'was_impossible': False}),\n",
       " Prediction(uid='782', iid='680', r_ui=1.0, est=2.3073142088849097, details={'was_impossible': False}),\n",
       " Prediction(uid='895', iid='222', r_ui=3.0, est=3.8408715662044854, details={'was_impossible': False}),\n",
       " Prediction(uid='632', iid='591', r_ui=4.0, est=3.53380276416786, details={'was_impossible': False}),\n",
       " Prediction(uid='26', iid='597', r_ui=2.0, est=2.5353435386740273, details={'was_impossible': False}),\n",
       " Prediction(uid='94', iid='234', r_ui=5.0, est=4.236787181431946, details={'was_impossible': False}),\n",
       " Prediction(uid='181', iid='1025', r_ui=1.0, est=1.5058991705387104, details={'was_impossible': False}),\n",
       " Prediction(uid='130', iid='455', r_ui=4.0, est=3.72830526264568, details={'was_impossible': False}),\n",
       " Prediction(uid='534', iid='1028', r_ui=5.0, est=4.14906526640758, details={'was_impossible': False}),\n",
       " Prediction(uid='445', iid='221', r_ui=1.0, est=2.3792045505305444, details={'was_impossible': False}),\n",
       " Prediction(uid='876', iid='435', r_ui=4.0, est=4.382682634212518, details={'was_impossible': False}),\n",
       " Prediction(uid='79', iid='370', r_ui=2.0, est=2.9549443174141867, details={'was_impossible': False}),\n",
       " Prediction(uid='490', iid='137', r_ui=3.0, est=3.6415169166298202, details={'was_impossible': False}),\n",
       " Prediction(uid='59', iid='762', r_ui=4.0, est=3.5143238144869766, details={'was_impossible': False}),\n",
       " Prediction(uid='450', iid='139', r_ui=5.0, est=3.2940996059827827, details={'was_impossible': False}),\n",
       " Prediction(uid='574', iid='321', r_ui=1.0, est=3.156963874761434, details={'was_impossible': False}),\n",
       " Prediction(uid='587', iid='875', r_ui=1.0, est=2.8350153192312386, details={'was_impossible': False}),\n",
       " Prediction(uid='94', iid='1218', r_ui=4.0, est=3.7064853889522795, details={'was_impossible': False}),\n",
       " Prediction(uid='453', iid='3', r_ui=4.0, est=2.437847171495864, details={'was_impossible': False}),\n",
       " Prediction(uid='686', iid='185', r_ui=5.0, est=4.791112140088042, details={'was_impossible': False}),\n",
       " Prediction(uid='862', iid='173', r_ui=5.0, est=4.725440866315121, details={'was_impossible': False}),\n",
       " Prediction(uid='207', iid='197', r_ui=4.0, est=3.8493435977066395, details={'was_impossible': False}),\n",
       " Prediction(uid='760', iid='278', r_ui=4.0, est=3.363835812706115, details={'was_impossible': False}),\n",
       " Prediction(uid='655', iid='707', r_ui=3.0, est=3.52645514374395, details={'was_impossible': False}),\n",
       " Prediction(uid='338', iid='582', r_ui=5.0, est=3.981836096515027, details={'was_impossible': False}),\n",
       " Prediction(uid='290', iid='193', r_ui=4.0, est=3.4943772149197576, details={'was_impossible': False}),\n",
       " Prediction(uid='537', iid='675', r_ui=3.0, est=3.169703029171531, details={'was_impossible': False}),\n",
       " Prediction(uid='45', iid='762', r_ui=4.0, est=3.3218853786037923, details={'was_impossible': False}),\n",
       " Prediction(uid='314', iid='401', r_ui=3.0, est=3.2775467357743837, details={'was_impossible': False}),\n",
       " Prediction(uid='468', iid='216', r_ui=5.0, est=4.36075488741608, details={'was_impossible': False}),\n",
       " Prediction(uid='13', iid='72', r_ui=4.0, est=2.858091097047779, details={'was_impossible': False}),\n",
       " Prediction(uid='316', iid='730', r_ui=4.0, est=3.092005795757065, details={'was_impossible': False}),\n",
       " Prediction(uid='942', iid='310', r_ui=4.0, est=4.332480152825506, details={'was_impossible': False}),\n",
       " Prediction(uid='336', iid='742', r_ui=3.0, est=2.951889636197112, details={'was_impossible': False}),\n",
       " Prediction(uid='2', iid='291', r_ui=3.0, est=3.3772634022297527, details={'was_impossible': False}),\n",
       " Prediction(uid='796', iid='387', r_ui=3.0, est=3.3722005142925036, details={'was_impossible': False}),\n",
       " Prediction(uid='100', iid='294', r_ui=4.0, est=2.9313475331189744, details={'was_impossible': False}),\n",
       " Prediction(uid='139', iid='268', r_ui=4.0, est=3.8438496577474717, details={'was_impossible': False}),\n",
       " Prediction(uid='642', iid='1076', r_ui=2.0, est=2.998903890301283, details={'was_impossible': False}),\n",
       " Prediction(uid='450', iid='259', r_ui=3.0, est=2.95650482506717, details={'was_impossible': False}),\n",
       " Prediction(uid='178', iid='435', r_ui=4.0, est=4.235385763025531, details={'was_impossible': False}),\n",
       " Prediction(uid='455', iid='597', r_ui=3.0, est=2.9157698258493934, details={'was_impossible': False}),\n",
       " Prediction(uid='57', iid='926', r_ui=3.0, est=2.69532843782234, details={'was_impossible': False}),\n",
       " Prediction(uid='752', iid='322', r_ui=1.0, est=3.1077237436832554, details={'was_impossible': False}),\n",
       " Prediction(uid='428', iid='305', r_ui=3.0, est=4.240318943780807, details={'was_impossible': False}),\n",
       " Prediction(uid='537', iid='346', r_ui=3.0, est=3.5304470935518406, details={'was_impossible': False}),\n",
       " Prediction(uid='256', iid='210', r_ui=4.0, est=4.830875226833089, details={'was_impossible': False}),\n",
       " Prediction(uid='297', iid='89', r_ui=4.0, est=3.6986277479143004, details={'was_impossible': False}),\n",
       " Prediction(uid='193', iid='879', r_ui=3.0, est=3.0570673960948342, details={'was_impossible': False}),\n",
       " Prediction(uid='271', iid='136', r_ui=3.0, est=4.087135309733973, details={'was_impossible': False}),\n",
       " Prediction(uid='532', iid='38', r_ui=3.0, est=3.8082060002479152, details={'was_impossible': False}),\n",
       " Prediction(uid='708', iid='278', r_ui=4.0, est=2.829838465307284, details={'was_impossible': False}),\n",
       " Prediction(uid='8', iid='227', r_ui=4.0, est=3.6306566907358673, details={'was_impossible': False}),\n",
       " Prediction(uid='447', iid='274', r_ui=1.0, est=3.6818263679993666, details={'was_impossible': False}),\n",
       " Prediction(uid='433', iid='50', r_ui=5.0, est=4.3499569879149, details={'was_impossible': False}),\n",
       " Prediction(uid='290', iid='755', r_ui=4.0, est=2.9417035215320433, details={'was_impossible': False}),\n",
       " Prediction(uid='42', iid='357', r_ui=5.0, est=4.302527159883052, details={'was_impossible': False}),\n",
       " Prediction(uid='474', iid='31', r_ui=4.0, est=3.8007605044629424, details={'was_impossible': False}),\n",
       " Prediction(uid='749', iid='80', r_ui=1.0, est=3.116286330638326, details={'was_impossible': False}),\n",
       " Prediction(uid='444', iid='307', r_ui=3.0, est=3.8940458167362344, details={'was_impossible': False}),\n",
       " Prediction(uid='851', iid='841', r_ui=3.0, est=2.974604975038585, details={'was_impossible': False}),\n",
       " Prediction(uid='94', iid='187', r_ui=4.0, est=4.264091448271806, details={'was_impossible': False}),\n",
       " Prediction(uid='588', iid='111', r_ui=1.0, est=3.6920468510062614, details={'was_impossible': False}),\n",
       " Prediction(uid='521', iid='385', r_ui=3.0, est=3.4120521844985565, details={'was_impossible': False}),\n",
       " Prediction(uid='890', iid='200', r_ui=4.0, est=3.839124577867732, details={'was_impossible': False}),\n",
       " Prediction(uid='752', iid='346', r_ui=4.0, est=3.3776961732264303, details={'was_impossible': False}),\n",
       " Prediction(uid='527', iid='283', r_ui=4.0, est=3.552791842559028, details={'was_impossible': False}),\n",
       " Prediction(uid='629', iid='1109', r_ui=4.0, est=3.442105891520118, details={'was_impossible': False}),\n",
       " Prediction(uid='1', iid='126', r_ui=2.0, est=4.422035245545121, details={'was_impossible': False}),\n",
       " Prediction(uid='416', iid='866', r_ui=4.0, est=3.8291946379891106, details={'was_impossible': False}),\n",
       " Prediction(uid='671', iid='570', r_ui=3.0, est=3.234743807462851, details={'was_impossible': False}),\n",
       " Prediction(uid='277', iid='117', r_ui=4.0, est=3.4105527353575913, details={'was_impossible': False}),\n",
       " ...]"
      ]
     },
     "execution_count": 12,
     "metadata": {},
     "output_type": "execute_result"
    }
   ],
   "source": [
    "pred = algo.test(testset)\n",
    "pred"
   ]
  },
  {
   "cell_type": "code",
   "execution_count": 13,
   "id": "9cea28f0-f3b4-4746-a36d-bf877e82044a",
   "metadata": {},
   "outputs": [
    {
     "data": {
      "text/plain": [
       "Prediction(uid='120', iid='282', r_ui=4.0, est=3.5114147666251547, details={'was_impossible': False})"
      ]
     },
     "execution_count": 13,
     "metadata": {},
     "output_type": "execute_result"
    }
   ],
   "source": [
    "pred[0]"
   ]
  },
  {
   "cell_type": "code",
   "execution_count": 14,
   "id": "dc28c288-4ba4-4a6c-a47c-7dcee94910e2",
   "metadata": {},
   "outputs": [
    {
     "data": {
      "text/plain": [
       "[('120', '282', 3.5114147666251547),\n",
       " ('882', '291', 3.573872419581491),\n",
       " ('535', '507', 4.033583485472447)]"
      ]
     },
     "execution_count": 14,
     "metadata": {},
     "output_type": "execute_result"
    }
   ],
   "source": [
    "[  (pred.uid, pred.iid, pred.est) for pred in preds[:3]  ]"
   ]
  },
  {
   "cell_type": "code",
   "execution_count": 15,
   "id": "bd66ae5d-5dea-40a0-9e0b-682c8e16c823",
   "metadata": {},
   "outputs": [],
   "source": [
    "preds = algo.predict(str(196), str(302))"
   ]
  },
  {
   "cell_type": "code",
   "execution_count": 16,
   "id": "6dee5b81-4911-4ec5-9efe-d8ea11001615",
   "metadata": {},
   "outputs": [
    {
     "data": {
      "text/plain": [
       "Prediction(uid='196', iid='302', r_ui=None, est=4.494386477040736, details={'was_impossible': False})"
      ]
     },
     "execution_count": 16,
     "metadata": {},
     "output_type": "execute_result"
    }
   ],
   "source": [
    "preds"
   ]
  },
  {
   "cell_type": "code",
   "execution_count": 18,
   "id": "1a54d49d-b134-4d29-9fc6-9e49cebe6311",
   "metadata": {},
   "outputs": [
    {
     "name": "stdout",
     "output_type": "stream",
     "text": [
      "RMSE: 0.9467\n"
     ]
    },
    {
     "data": {
      "text/plain": [
       "0.9466860806937948"
      ]
     },
     "execution_count": 18,
     "metadata": {},
     "output_type": "execute_result"
    }
   ],
   "source": [
    "accuracy.rmse(algo.test(testset))"
   ]
  },
  {
   "cell_type": "markdown",
   "id": "1ecc0bb9-9cc4-4c73-b978-d5cd7cd0ec54",
   "metadata": {},
   "source": [
    "### surprise를 이용한 개인화 영화 추천 시스템"
   ]
  },
  {
   "cell_type": "code",
   "execution_count": 28,
   "id": "3ec862fa-28ee-418a-aec7-11cceda56528",
   "metadata": {},
   "outputs": [],
   "source": [
    "from surprise.model_selection import cross_validate\n",
    "import pandas as pd\n",
    "from surprise import Reader\n",
    "from surprise import SVD\n",
    "\n",
    "\n",
    "ratings = pd.read_csv('./data/ratings.csv')\n",
    "reader = Reader(rating_scale = (0.5, 5.0))"
   ]
  },
  {
   "cell_type": "code",
   "execution_count": 30,
   "id": "2e393f3a-e5aa-4d7e-b5af-55aba81d6fe0",
   "metadata": {},
   "outputs": [
    {
     "ename": "AttributeError",
     "evalue": "'DatasetAutoFolds' object has no attribute 'global_mean'",
     "output_type": "error",
     "traceback": [
      "\u001b[1;31m---------------------------------------------------------------------------\u001b[0m",
      "\u001b[1;31mAttributeError\u001b[0m                            Traceback (most recent call last)",
      "Input \u001b[1;32mIn [30]\u001b[0m, in \u001b[0;36m<cell line: 3>\u001b[1;34m()\u001b[0m\n\u001b[0;32m      1\u001b[0m data \u001b[38;5;241m=\u001b[39m Dataset\u001b[38;5;241m.\u001b[39mload_from_df(ratings[[\u001b[38;5;124m'\u001b[39m\u001b[38;5;124muserId\u001b[39m\u001b[38;5;124m'\u001b[39m, \u001b[38;5;124m'\u001b[39m\u001b[38;5;124mmovieId\u001b[39m\u001b[38;5;124m'\u001b[39m, \u001b[38;5;124m'\u001b[39m\u001b[38;5;124mrating\u001b[39m\u001b[38;5;124m'\u001b[39m]], reader)\n\u001b[0;32m      2\u001b[0m algo \u001b[38;5;241m=\u001b[39m SVD(n_factors \u001b[38;5;241m=\u001b[39m \u001b[38;5;241m50\u001b[39m, random_state \u001b[38;5;241m=\u001b[39m \u001b[38;5;241m0\u001b[39m)\n\u001b[1;32m----> 3\u001b[0m \u001b[43malgo\u001b[49m\u001b[38;5;241;43m.\u001b[39;49m\u001b[43mfit\u001b[49m\u001b[43m(\u001b[49m\u001b[43mdata\u001b[49m\u001b[43m)\u001b[49m\n",
      "File \u001b[1;32m~\\anaconda3\\lib\\site-packages\\surprise\\prediction_algorithms\\matrix_factorization.pyx:155\u001b[0m, in \u001b[0;36msurprise.prediction_algorithms.matrix_factorization.SVD.fit\u001b[1;34m()\u001b[0m\n",
      "File \u001b[1;32m~\\anaconda3\\lib\\site-packages\\surprise\\prediction_algorithms\\matrix_factorization.pyx:204\u001b[0m, in \u001b[0;36msurprise.prediction_algorithms.matrix_factorization.SVD.sgd\u001b[1;34m()\u001b[0m\n",
      "\u001b[1;31mAttributeError\u001b[0m: 'DatasetAutoFolds' object has no attribute 'global_mean'"
     ]
    }
   ],
   "source": [
    "data = Dataset.load_from_df(ratings[['userId', 'movieId', 'rating']], reader)\n",
    "algo = SVD(n_factors = 50, random_state = 0)\n",
    "algo.fit(data)"
   ]
  },
  {
   "cell_type": "code",
   "execution_count": null,
   "id": "0e8b9971-b91f-4c63-a07c-eab28e3b42fb",
   "metadata": {},
   "outputs": [],
   "source": []
  },
  {
   "cell_type": "code",
   "execution_count": null,
   "id": "4f954fc5-69a1-4910-80da-c7a125385852",
   "metadata": {},
   "outputs": [],
   "source": []
  },
  {
   "cell_type": "code",
   "execution_count": null,
   "id": "7175dadd-5693-4c10-8cce-b6bbeb8e5b87",
   "metadata": {},
   "outputs": [],
   "source": []
  },
  {
   "cell_type": "code",
   "execution_count": null,
   "id": "0ff4ae60-49e4-44d2-94ea-70ab7c2d9d9d",
   "metadata": {},
   "outputs": [],
   "source": []
  }
 ],
 "metadata": {
  "kernelspec": {
   "display_name": "Python 3 (ipykernel)",
   "language": "python",
   "name": "python3"
  },
  "language_info": {
   "codemirror_mode": {
    "name": "ipython",
    "version": 3
   },
   "file_extension": ".py",
   "mimetype": "text/x-python",
   "name": "python",
   "nbconvert_exporter": "python",
   "pygments_lexer": "ipython3",
   "version": "3.9.12"
  }
 },
 "nbformat": 4,
 "nbformat_minor": 5
}

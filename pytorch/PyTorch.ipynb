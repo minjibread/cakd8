{
 "cells": [
  {
   "cell_type": "markdown",
   "id": "21791fc4-95ab-4f77-9385-ed9c9c00d33b",
   "metadata": {},
   "source": [
    "[파이토치 튜토리얼] http://tutorials.pytorch.kr/\n",
    "\n",
    "# 파이토치(PyTorch)\n",
    "\n",
    "- **텐서**(Tensor)를 사용\n",
    "- GPU를 이용한 텐서 조작 및 **동적 신경망 구축이 가능**\n",
    "- 파이썬답게 만들어졌고, **유연**하면서도 **가속화된 계산 속도**를 제공\n",
    "\n",
    "## 파이토치의 구성요소\n",
    "\n",
    "- `torch`: 메인 네임스페이스, 텐서 등의 다양한 수학 함수가 포함\n",
    "- `torch.autograd`: 자동 미분 기능을 제공하는 라이브러리\n",
    "- `torch.nn`: 신경망 구축을 위한 데이터 구조나 레이어 등의 라이브러리\n",
    "- `torch.multiprocessing`: 병럴처리 기능을 제공하는 라이브러리\n",
    "- `torch.optim`: SGD(Stochastic Gradient Descent)를 중심으로 한 파라미터 최적화 알고리즘 제공\n",
    "- `torch.utils`: 데이터 조작 등 유틸리티 기능 제공\n",
    "- `torch.onnx`: ONNX(Open Neural Network Exchange), 서로 다른 프레임워크 간의 모델을 공유할 때 사용"
   ]
  },
  {
   "cell_type": "markdown",
   "id": "fb4c589a-d678-4bce-b283-218b82567fab",
   "metadata": {},
   "source": [
    "## Datatype(dtype)\n",
    "\n",
    "| Data type | dtype | CPU tensor | GPU tensor |\n",
    "| ------ | ------ | ------ | ------ |\n",
    "| 32-bit floating point | `torch.float32` or `torch.float` |`torch.FloatTensor` | `torch.cuda.FloatTensor` |\n",
    "| 64-bit floating point | `torch.float64` or `torch.double` |`torch.DoubleTensor` | `torch.cuda.DoubleTensor` |\n",
    "| 16-bit floating point | `torch.float16` or `torch.half` |`torch.HalfTensor` | `torch.cuda.HalfTensor` |\n",
    "| 8-bit integer(unsinged) | `torch.uint8` |`torch.ByteTensor` | `torch.cuda.ByteTensor` |\n",
    "| 8-bit integer(singed) | `torch.int8` |`torch.CharTensor` | `torch.cuda.CharTensor` |\n",
    "| 16-bit integer(signed) | `torch.int16` or `torch.short` |`torch.ShortTensor` | `torch.cuda.ShortTensor` |\n",
    "| 32-bit integer(signed) | `torch.int32` or `torch.int` |`torch.IntTensor` | `torch.cuda.IntTensor` |\n",
    "| 64-bit integer(signed) | `torch.int64` or `torch.long` |`torch.LongTensor` | `torch.cuda.LongTensor` |\n",
    "\n",
    "- unit8 : 양수로만 표현 가능 / 2^8개수 만큼 표현 가능 / 0~255"
   ]
  },
  {
   "cell_type": "markdown",
   "id": "11df64cc-bc4e-464e-b2aa-7bdf86f3f701",
   "metadata": {},
   "source": [
    "## 텐서(Tensor)\n",
    "\n",
    "- 데이터를 담기 위한 컨테이너\n",
    "- 일반적으로 수치형 데이터를 저장\n",
    "- 넘파이의 ndarray와 유사\n",
    "- GPU를 사용한 연산 가속 가능"
   ]
  },
  {
   "cell_type": "code",
   "execution_count": 5,
   "id": "0daeb348-6dd6-4294-ac29-4d38603ac9ba",
   "metadata": {},
   "outputs": [
    {
     "name": "stdout",
     "output_type": "stream",
     "text": [
      "Collecting torch\n",
      "  Downloading torch-1.13.1-cp39-cp39-win_amd64.whl (162.5 MB)\n",
      "Requirement already satisfied: typing-extensions in c:\\users\\admin\\anaconda3\\lib\\site-packages (from torch) (4.1.1)\n",
      "Installing collected packages: torch\n",
      "Successfully installed torch-1.13.1\n",
      "Note: you may need to restart the kernel to use updated packages.\n"
     ]
    }
   ],
   "source": [
    "pip install torch"
   ]
  },
  {
   "cell_type": "code",
   "execution_count": 6,
   "id": "cfbc1a19-f8e4-4068-af08-4cc625de441a",
   "metadata": {},
   "outputs": [
    {
     "data": {
      "text/plain": [
       "'1.13.1+cpu'"
      ]
     },
     "execution_count": 6,
     "metadata": {},
     "output_type": "execute_result"
    }
   ],
   "source": [
    "import torch\n",
    "torch.__version__"
   ]
  },
  {
   "cell_type": "markdown",
   "id": "9219962e-c393-46dc-8a83-6679e3f1822f",
   "metadata": {},
   "source": [
    "### 텐서 초기화\n",
    "\n",
    "#### 데이터로부터 직접(directly) 생성하기\n",
    "데이터의 자료형은 자동으로 유추"
   ]
  },
  {
   "cell_type": "code",
   "execution_count": 7,
   "id": "ab1c7600-f60f-4e99-9913-a2b6ffa56931",
   "metadata": {},
   "outputs": [],
   "source": [
    "data = [[1,2], [3,4]]\n",
    "x_data = torch.tensor(data)"
   ]
  },
  {
   "cell_type": "code",
   "execution_count": 8,
   "id": "9198fe00-31d5-4553-a7c5-0a6bf2914c5c",
   "metadata": {},
   "outputs": [
    {
     "data": {
      "text/plain": [
       "tensor([[1, 2],\n",
       "        [3, 4]])"
      ]
     },
     "execution_count": 8,
     "metadata": {},
     "output_type": "execute_result"
    }
   ],
   "source": [
    "x_data"
   ]
  },
  {
   "cell_type": "markdown",
   "id": "55ad1934-209b-45c9-8690-be36723ee83d",
   "metadata": {},
   "source": [
    "#### Numpy 배열로부터 생성하기\n",
    "\n",
    "텐서는 넘파이 배열로 생성할 수 있음(그 반대도 가능)"
   ]
  },
  {
   "cell_type": "code",
   "execution_count": 10,
   "id": "42d17b61-af8a-46d9-8b84-e4854a2b863c",
   "metadata": {},
   "outputs": [],
   "source": [
    "import numpy as np"
   ]
  },
  {
   "cell_type": "code",
   "execution_count": 21,
   "id": "49eb6008-f254-4e19-8c6b-0e5e16456bc4",
   "metadata": {},
   "outputs": [
    {
     "name": "stdout",
     "output_type": "stream",
     "text": [
      "[[1 2]\n",
      " [3 4]]\n",
      "int32\n"
     ]
    }
   ],
   "source": [
    "np_array = np.array(data)\n",
    "print(np_array)\n",
    "print(np_array.dtype)"
   ]
  },
  {
   "cell_type": "code",
   "execution_count": 22,
   "id": "e20828f2-60d5-4695-9738-086d5764292b",
   "metadata": {},
   "outputs": [
    {
     "name": "stdout",
     "output_type": "stream",
     "text": [
      "tensor([[1, 2],\n",
      "        [3, 4]], dtype=torch.int32)\n",
      "torch.int32\n"
     ]
    }
   ],
   "source": [
    "x_np = torch.from_numpy(np_array)\n",
    "print(x_np)\n",
    "print(x_np.dtype)"
   ]
  },
  {
   "cell_type": "markdown",
   "id": "04f3419a-bce0-459c-b754-2a385241de0f",
   "metadata": {},
   "source": [
    "#### 다른 텐서로부터 생성하기\n",
    "\n",
    "명시적으로 재정의(override)하지 않는다면, 인자로 주어진 텐서의 속성(shape, datatype)을 유지함"
   ]
  },
  {
   "cell_type": "code",
   "execution_count": 25,
   "id": "70573645-1800-4d14-83ee-46c92489567b",
   "metadata": {},
   "outputs": [
    {
     "name": "stdout",
     "output_type": "stream",
     "text": [
      "Ones Tensor: \n",
      " tensor([[1, 1],\n",
      "        [1, 1]]) \n",
      "\n",
      "torch.int64\n"
     ]
    }
   ],
   "source": [
    "x_ones = torch.ones_like(x_data) # x_data의 속성을 유지\n",
    "print(f'Ones Tensor: \\n {x_ones} \\n')\n",
    "print(x_ones.dtype)"
   ]
  },
  {
   "cell_type": "code",
   "execution_count": 26,
   "id": "505d83e8-606e-4b16-9066-8025ea8c3ffb",
   "metadata": {},
   "outputs": [
    {
     "name": "stdout",
     "output_type": "stream",
     "text": [
      "Random Tensor: \n",
      " tensor([[0.6359, 0.3512],\n",
      "        [0.2378, 0.1141]]) \n",
      "\n",
      "torch.float32\n"
     ]
    }
   ],
   "source": [
    "x_rand = torch.rand_like(x_data, dtype = torch.float) # x_data의 속성을 덮어씀\n",
    "print(f'Random Tensor: \\n {x_rand} \\n')\n",
    "print(x_rand.dtype)"
   ]
  },
  {
   "cell_type": "markdown",
   "id": "dcc0b7be-68a1-4f74-875e-16802c0644c7",
   "metadata": {},
   "source": [
    "#### 무작위(random) 또는 상수(constant) 값 사용하기\n",
    "\n",
    "**shape**은 텐서의 차원(dim)을 나타내는 튜플로, 아래 함수에서는 **출력 텐서의 차원을 결정**함"
   ]
  },
  {
   "cell_type": "code",
   "execution_count": 27,
   "id": "c162cea2-d110-4233-a6f5-caa6f5bf655c",
   "metadata": {},
   "outputs": [
    {
     "name": "stdout",
     "output_type": "stream",
     "text": [
      "tensor([[0.5504, 0.6215, 0.8119],\n",
      "        [0.8856, 0.3666, 0.8521]])\n",
      "tensor([[1., 1., 1.],\n",
      "        [1., 1., 1.]])\n",
      "tensor([[0., 0., 0.],\n",
      "        [0., 0., 0.]])\n"
     ]
    }
   ],
   "source": [
    "shape = (2,3)\n",
    "rand_tensor = torch.rand(shape)\n",
    "ones_tensor = torch.ones(shape)\n",
    "zeros_tensor = torch.zeros(shape)\n",
    "\n",
    "print(rand_tensor)\n",
    "print(ones_tensor)\n",
    "print(zeros_tensor)"
   ]
  },
  {
   "cell_type": "markdown",
   "id": "bd561711-154d-4d96-9dac-193ec012f2f9",
   "metadata": {},
   "source": [
    "#### 텐서 크기 확인하기"
   ]
  },
  {
   "cell_type": "code",
   "execution_count": 43,
   "id": "dbfdcddb-7178-406e-9600-4cf18fe914c8",
   "metadata": {},
   "outputs": [],
   "source": [
    "x = torch.tensor([3, 2.3])"
   ]
  },
  {
   "cell_type": "code",
   "execution_count": 44,
   "id": "34fd0292-e465-4e41-928d-5f8116a2b4f4",
   "metadata": {},
   "outputs": [
    {
     "data": {
      "text/plain": [
       "torch.Size([2])"
      ]
     },
     "execution_count": 44,
     "metadata": {},
     "output_type": "execute_result"
    }
   ],
   "source": [
    "x.size()"
   ]
  },
  {
   "cell_type": "code",
   "execution_count": 41,
   "id": "2071d6fe-156f-4cb6-a505-7ec923499d2a",
   "metadata": {},
   "outputs": [
    {
     "data": {
      "text/plain": [
       "tensor([[1, 2],\n",
       "        [3, 4]])"
      ]
     },
     "execution_count": 41,
     "metadata": {},
     "output_type": "execute_result"
    }
   ],
   "source": [
    "x_data"
   ]
  },
  {
   "cell_type": "code",
   "execution_count": 40,
   "id": "c7347f90-ae70-41cb-abe1-09e5cfc40ebd",
   "metadata": {},
   "outputs": [
    {
     "data": {
      "text/plain": [
       "torch.Size([2, 2])"
      ]
     },
     "execution_count": 40,
     "metadata": {},
     "output_type": "execute_result"
    }
   ],
   "source": [
    "x_data.size()"
   ]
  },
  {
   "cell_type": "markdown",
   "id": "f371d47c-7982-4ad7-8c7a-2f2624fce2f5",
   "metadata": {},
   "source": [
    "#### 기타"
   ]
  },
  {
   "cell_type": "code",
   "execution_count": 35,
   "id": "367e939c-7a9a-4fad-941a-2980e178af3c",
   "metadata": {},
   "outputs": [
    {
     "name": "stdout",
     "output_type": "stream",
     "text": [
      "tensor([3.0000, 2.3000])\n",
      "tensor([[1., 1., 1., 1.],\n",
      "        [1., 1., 1., 1.]], dtype=torch.float64)\n"
     ]
    }
   ],
   "source": [
    "x = torch.tensor([3, 2.3])\n",
    "print(x)\n",
    "x = x.new_ones(2, 4, dtype = torch.double) # 2x4, double 타입, 1로 채워진 텐서\n",
    "print(x)"
   ]
  },
  {
   "cell_type": "code",
   "execution_count": 36,
   "id": "9e009b9d-6628-4501-8e65-c10bdf42d437",
   "metadata": {},
   "outputs": [
    {
     "data": {
      "text/plain": [
       "tensor([[ 2.4941,  0.5298,  1.0660, -0.6103],\n",
       "        [ 0.8343,  0.1886, -0.9385,  0.8051]])"
      ]
     },
     "execution_count": 36,
     "metadata": {},
     "output_type": "execute_result"
    }
   ],
   "source": [
    "x = torch.randn_like(x, dtype = torch.float) # randn : 정규분포, _like : 사이즈를 입력한(기존에 있는) 텐서 사이즈로\n",
    "x"
   ]
  },
  {
   "cell_type": "code",
   "execution_count": 37,
   "id": "dd53e2ad-64bb-4322-97f5-722a8565d975",
   "metadata": {},
   "outputs": [
    {
     "data": {
      "text/plain": [
       "tensor([ 2.0332, -0.0122, -0.2926, -0.1663, -1.6763])"
      ]
     },
     "execution_count": 37,
     "metadata": {},
     "output_type": "execute_result"
    }
   ],
   "source": [
    "x = torch.randn(5) # 평균이 0이고 표준 편차가 1인 가우시안 정규분포를 이용하여 생성\n",
    "x"
   ]
  },
  {
   "cell_type": "markdown",
   "id": "6bb7ea5d-6fe1-4f1d-bb52-80e97aa7ce16",
   "metadata": {},
   "source": [
    "## Q1.  \n",
    "  \n",
    "가우시안 정규분포를 이용해 생성했던 객체를 다시 평균과 표준편차를 구했을 때 0과 1이 나오지 않는다.  \n",
    "  \n",
    "왜?  \n",
    "  \n",
    "- 확률이라는 변수의 영향이 크기 때문에\n",
    "- 정규분포에서 뽑아 왔지만 너무 적게 뽑아 왔기 때문에\n",
    "- 뽑아오는 샘플 수를 늘리면 점진적으로 근사"
   ]
  },
  {
   "cell_type": "markdown",
   "id": "444d3450-3925-448b-916f-c1c5d8b5478e",
   "metadata": {},
   "source": [
    "## CUDA Tensors\n",
    "- NVIDIA가 만든 병렬 컴퓨팅 플랫폼 및 API 모델\n",
    "- GPU의 가상 명령어셋을 사용할 수 있도록 만들어주는 소프트웨어 레이어\n",
    "- NVIDIA가 만든 CUDA 코어가 장착된 GPU에서 작동"
   ]
  },
  {
   "cell_type": "code",
   "execution_count": 45,
   "id": "5d2eec21-a51f-46b2-aabe-47de21470542",
   "metadata": {},
   "outputs": [
    {
     "name": "stdout",
     "output_type": "stream",
     "text": [
      "cpu\n"
     ]
    }
   ],
   "source": [
    "device = torch.device('cuda' if torch.cuda.is_available() else 'cpu')\n",
    "print(device)"
   ]
  },
  {
   "cell_type": "markdown",
   "id": "42330103-98fb-43c3-8259-a57574b2b704",
   "metadata": {},
   "source": [
    "### 텐서의 속성(Attribute)"
   ]
  },
  {
   "cell_type": "code",
   "execution_count": 28,
   "id": "19cafff1-8790-4081-83c6-7e7734776e47",
   "metadata": {},
   "outputs": [],
   "source": [
    "t = torch.rand(3,4)"
   ]
  },
  {
   "cell_type": "code",
   "execution_count": 29,
   "id": "dddbdc3a-2477-4680-84b3-7380980e3d8e",
   "metadata": {},
   "outputs": [
    {
     "data": {
      "text/plain": [
       "torch.Size([3, 4])"
      ]
     },
     "execution_count": 29,
     "metadata": {},
     "output_type": "execute_result"
    }
   ],
   "source": [
    "t.shape # 모양"
   ]
  },
  {
   "cell_type": "code",
   "execution_count": 30,
   "id": "f3c9c4cf-914c-471b-b5a3-4d9172b76b96",
   "metadata": {},
   "outputs": [
    {
     "data": {
      "text/plain": [
       "torch.float32"
      ]
     },
     "execution_count": 30,
     "metadata": {},
     "output_type": "execute_result"
    }
   ],
   "source": [
    "t.dtype # 자료형"
   ]
  },
  {
   "cell_type": "code",
   "execution_count": 31,
   "id": "71f84acd-92f3-4e65-84e1-77e8d570e09c",
   "metadata": {},
   "outputs": [
    {
     "data": {
      "text/plain": [
       "device(type='cpu')"
      ]
     },
     "execution_count": 31,
     "metadata": {},
     "output_type": "execute_result"
    }
   ],
   "source": [
    "t.device # 어느 장치에 저장되는지"
   ]
  },
  {
   "cell_type": "markdown",
   "id": "1aef3f61-ad16-4709-8d71-ce907d985df8",
   "metadata": {},
   "source": [
    "### 텐서의 연산(Operations)\n",
    "\n",
    "텐서에 대한 수학 연산, 삼각 함수, 비트 연산, 비교 연산, 집계 등 제공"
   ]
  },
  {
   "cell_type": "code",
   "execution_count": 50,
   "id": "8e02595b-5e06-49ab-828e-c90ba0e675ba",
   "metadata": {},
   "outputs": [],
   "source": [
    "import math"
   ]
  },
  {
   "cell_type": "code",
   "execution_count": 51,
   "id": "211f4120-51eb-44f9-a846-2150c0f75d96",
   "metadata": {},
   "outputs": [
    {
     "data": {
      "text/plain": [
       "tensor([[-1.7914, -1.8692]])"
      ]
     },
     "execution_count": 51,
     "metadata": {},
     "output_type": "execute_result"
    }
   ],
   "source": [
    "a = torch.randn(1,2) * 2 - 1\n",
    "a"
   ]
  },
  {
   "cell_type": "code",
   "execution_count": 53,
   "id": "856a6461-f441-4960-8cb2-5366e20c2264",
   "metadata": {},
   "outputs": [
    {
     "data": {
      "text/plain": [
       "tensor([[1.7914, 1.8692]])"
      ]
     },
     "execution_count": 53,
     "metadata": {},
     "output_type": "execute_result"
    }
   ],
   "source": [
    "torch.abs(a) # 절댓값"
   ]
  },
  {
   "cell_type": "code",
   "execution_count": 54,
   "id": "37f868f8-ca76-452f-8c2a-f040e106b198",
   "metadata": {},
   "outputs": [
    {
     "data": {
      "text/plain": [
       "tensor([[-1., -1.]])"
      ]
     },
     "execution_count": 54,
     "metadata": {},
     "output_type": "execute_result"
    }
   ],
   "source": [
    "torch.ceil(a) # 천장"
   ]
  },
  {
   "cell_type": "code",
   "execution_count": 55,
   "id": "592c23e2-8556-4404-9ad7-a5f678ee94a7",
   "metadata": {},
   "outputs": [
    {
     "data": {
      "text/plain": [
       "tensor([[-2., -2.]])"
      ]
     },
     "execution_count": 55,
     "metadata": {},
     "output_type": "execute_result"
    }
   ],
   "source": [
    "torch.floor(a) # 바닥"
   ]
  },
  {
   "cell_type": "code",
   "execution_count": 61,
   "id": "e164ae54-3b38-47af-9fd8-9946440e278d",
   "metadata": {},
   "outputs": [
    {
     "data": {
      "text/plain": [
       "tensor(-1.8692)"
      ]
     },
     "execution_count": 61,
     "metadata": {},
     "output_type": "execute_result"
    }
   ],
   "source": [
    "torch.min(a) # 최솟값"
   ]
  },
  {
   "cell_type": "code",
   "execution_count": 62,
   "id": "6c0509a3-36e0-45bf-9f45-934a3f0d05d0",
   "metadata": {},
   "outputs": [
    {
     "data": {
      "text/plain": [
       "tensor(-1.7914)"
      ]
     },
     "execution_count": 62,
     "metadata": {},
     "output_type": "execute_result"
    }
   ],
   "source": [
    "torch.max(a) # 최댓값"
   ]
  },
  {
   "cell_type": "code",
   "execution_count": 63,
   "id": "9ba5a2f8-4831-42b8-9386-28ee4e354aac",
   "metadata": {},
   "outputs": [
    {
     "data": {
      "text/plain": [
       "tensor(-1.8303)"
      ]
     },
     "execution_count": 63,
     "metadata": {},
     "output_type": "execute_result"
    }
   ],
   "source": [
    "torch.mean(a) # 평균값"
   ]
  },
  {
   "cell_type": "code",
   "execution_count": 64,
   "id": "d243efb4-3a77-41b7-bc2d-73da90fb1578",
   "metadata": {},
   "outputs": [
    {
     "data": {
      "text/plain": [
       "tensor(0.0550)"
      ]
     },
     "execution_count": 64,
     "metadata": {},
     "output_type": "execute_result"
    }
   ],
   "source": [
    "torch.std(a) # 표준 편차"
   ]
  },
  {
   "cell_type": "code",
   "execution_count": 66,
   "id": "eed9ab98-270d-4e9b-9bd3-5d73ba1e4f92",
   "metadata": {},
   "outputs": [
    {
     "data": {
      "text/plain": [
       "tensor(3.3484)"
      ]
     },
     "execution_count": 66,
     "metadata": {},
     "output_type": "execute_result"
    }
   ],
   "source": [
    "torch.prod(a) # 곱셈"
   ]
  },
  {
   "cell_type": "code",
   "execution_count": 69,
   "id": "01b5e753-0f5a-4daf-9923-ed7d487e335c",
   "metadata": {},
   "outputs": [
    {
     "data": {
      "text/plain": [
       "tensor([1, 2, 3])"
      ]
     },
     "execution_count": 69,
     "metadata": {},
     "output_type": "execute_result"
    }
   ],
   "source": [
    "torch.unique(torch.tensor([1,2,3,1,2,1])) # 중복 제외한 값 출력"
   ]
  },
  {
   "cell_type": "code",
   "execution_count": 56,
   "id": "0e11fac6-d1a4-4310-a102-84fba04cad06",
   "metadata": {},
   "outputs": [
    {
     "data": {
      "text/plain": [
       "tensor([[-0.5000, -0.5000]])"
      ]
     },
     "execution_count": 56,
     "metadata": {},
     "output_type": "execute_result"
    }
   ],
   "source": [
    "torch.clamp(a, -0.5, 0.5)"
   ]
  },
  {
   "cell_type": "markdown",
   "id": "e507a99b-b43a-46ae-80dc-a93cc63d8e3a",
   "metadata": {},
   "source": [
    "#### clamp \n",
    "\n",
    "input이 min < x(input) < max 이면 그대로 나오지만, min 보다 작으면 min 값이, max 보다 크면 max 값 출력  \n",
    "\n",
    "설명 참고 : https://aigong.tistory.com/178"
   ]
  },
  {
   "cell_type": "code",
   "execution_count": 57,
   "id": "87c2d85c-6e3c-4cd9-94df-576505c94972",
   "metadata": {},
   "outputs": [
    {
     "data": {
      "text/plain": [
       "tensor([[ 0.1901, -1.0838, -3.7662],\n",
       "        [-1.1350, -3.5017, -3.0075]])"
      ]
     },
     "execution_count": 57,
     "metadata": {},
     "output_type": "execute_result"
    }
   ],
   "source": [
    "b = torch.randn(2,3) * 2 - 1\n",
    "b"
   ]
  },
  {
   "cell_type": "code",
   "execution_count": 58,
   "id": "ca6d3086-cf5f-40ed-a1f5-067828b48863",
   "metadata": {},
   "outputs": [
    {
     "data": {
      "text/plain": [
       "tensor([[ 0.1901, -0.2000, -0.2000],\n",
       "        [-0.2000, -0.2000, -0.2000]])"
      ]
     },
     "execution_count": 58,
     "metadata": {},
     "output_type": "execute_result"
    }
   ],
   "source": [
    "torch.clamp(b, -0.2, 0.2)"
   ]
  },
  {
   "cell_type": "markdown",
   "id": "931596bd-23f1-42fb-af36-a199f183e2cc",
   "metadata": {},
   "source": [
    "> max 와 min은 dim 인자를 줄 경우 argmax와 argmin도 함께 리턴한다.  \n",
    "  \n",
    "    - argmax : 최댓값을 가진 인덱스  \n",
    "    - argmin : 최솟값을 가진 인덱스"
   ]
  },
  {
   "cell_type": "code",
   "execution_count": 70,
   "id": "ecce6c26-630a-4ca2-8d9c-80f5f5d11c26",
   "metadata": {},
   "outputs": [
    {
     "data": {
      "text/plain": [
       "tensor([[0.2687, 0.3613],\n",
       "        [0.7295, 0.6420]])"
      ]
     },
     "execution_count": 70,
     "metadata": {},
     "output_type": "execute_result"
    }
   ],
   "source": [
    "x = torch.rand(2,2)\n",
    "x"
   ]
  },
  {
   "cell_type": "code",
   "execution_count": 71,
   "id": "c38c73d5-d720-4c54-80dd-fe475814c8a4",
   "metadata": {},
   "outputs": [
    {
     "data": {
      "text/plain": [
       "torch.return_types.max(\n",
       "values=tensor([0.7295, 0.6420]),\n",
       "indices=tensor([1, 1]))"
      ]
     },
     "execution_count": 71,
     "metadata": {},
     "output_type": "execute_result"
    }
   ],
   "source": [
    "x.max(dim=0)"
   ]
  },
  {
   "cell_type": "code",
   "execution_count": 73,
   "id": "65674387-1657-48da-aea4-48f7f6eb2ab9",
   "metadata": {},
   "outputs": [
    {
     "data": {
      "text/plain": [
       "torch.return_types.max(\n",
       "values=tensor([0.3613, 0.7295]),\n",
       "indices=tensor([1, 0]))"
      ]
     },
     "execution_count": 73,
     "metadata": {},
     "output_type": "execute_result"
    }
   ],
   "source": [
    "x.max(dim=1)"
   ]
  },
  {
   "cell_type": "markdown",
   "id": "1d33aa18-2c21-41af-ac6b-c7ba52507cf8",
   "metadata": {},
   "source": [
    "> 결과 텐서를 인자로 제공하기  "
   ]
  },
  {
   "cell_type": "code",
   "execution_count": 92,
   "id": "0a1afcbd-228c-480e-9a57-e7bb0dff0282",
   "metadata": {},
   "outputs": [
    {
     "name": "stdout",
     "output_type": "stream",
     "text": [
      "tensor([[6.8664e-44, 7.5670e-44, 1.1771e-43, 6.8664e-44],\n",
      "        [6.7262e-44, 8.1275e-44, 7.1466e-44, 7.8473e-44]])\n"
     ]
    }
   ],
   "source": [
    "result = torch.empty(2,4)\n",
    "print(result)"
   ]
  },
  {
   "cell_type": "code",
   "execution_count": 93,
   "id": "2c0faca0-b369-4a37-a491-144a5c9e028f",
   "metadata": {},
   "outputs": [
    {
     "name": "stdout",
     "output_type": "stream",
     "text": [
      "tensor([[0.9062, 1.0222],\n",
      "        [0.8512, 1.0816]])\n"
     ]
    },
    {
     "name": "stderr",
     "output_type": "stream",
     "text": [
      "C:\\Users\\admin\\AppData\\Local\\Temp\\ipykernel_13120\\360830678.py:1: UserWarning: An output with one or more elements was resized since it had shape [2, 4], which does not match the required output shape [2, 2]. This behavior is deprecated, and in a future PyTorch release outputs will not be resized unless they have zero elements. You can explicitly reuse an out tensor t by resizing it, inplace, to zero elements with t.resize_(0). (Triggered internally at C:\\actions-runner\\_work\\pytorch\\pytorch\\builder\\windows\\pytorch\\aten\\src\\ATen\\native\\Resize.cpp:24.)\n",
      "  torch.add(x, y, out = result)\n"
     ]
    }
   ],
   "source": [
    "torch.add(x, y, out = result)\n",
    "print(result)"
   ]
  },
  {
   "cell_type": "code",
   "execution_count": 97,
   "id": "c7af796a-7f22-454c-a839-cac96352e3b3",
   "metadata": {},
   "outputs": [],
   "source": [
    "x = torch.rand(2,2)\n",
    "y = torch.rand(2,2)"
   ]
  },
  {
   "cell_type": "code",
   "execution_count": 98,
   "id": "ba5f04a7-1903-4213-8e69-1c0b9358d7df",
   "metadata": {},
   "outputs": [
    {
     "name": "stdout",
     "output_type": "stream",
     "text": [
      "tensor([[0.7341, 1.5138],\n",
      "        [0.6537, 0.4285]])\n",
      "tensor([[0.7341, 1.5138],\n",
      "        [0.6537, 0.4285]])\n"
     ]
    }
   ],
   "source": [
    "print(x+y)\n",
    "print(torch.add(x,y)) # 덧셈"
   ]
  },
  {
   "cell_type": "code",
   "execution_count": 99,
   "id": "ed3aae93-2ffa-40c2-b640-94e62024e9b4",
   "metadata": {},
   "outputs": [
    {
     "name": "stdout",
     "output_type": "stream",
     "text": [
      "tensor([[-0.0777,  0.3585],\n",
      "        [ 0.3066, -0.2378]])\n",
      "tensor([[-0.0777,  0.3585],\n",
      "        [ 0.3066, -0.2378]])\n"
     ]
    }
   ],
   "source": [
    "print(x-y)\n",
    "print(torch.sub(x,y)) # 뺄셈"
   ]
  },
  {
   "cell_type": "markdown",
   "id": "ee7c26cd-f6ae-41b4-ba64-66917c8fd541",
   "metadata": {},
   "source": [
    "#### in-place\n",
    "- 텐서의 값을 변경하는 연산 뒤에는 \"_\"가 붙음\n",
    "- 예) x.copy_(y), x.t_()"
   ]
  },
  {
   "cell_type": "code",
   "execution_count": 100,
   "id": "fc5d7837-2e01-493c-a16d-2338f1f36f2b",
   "metadata": {},
   "outputs": [
    {
     "data": {
      "text/plain": [
       "tensor([[0.3282, 0.9362],\n",
       "        [0.4801, 0.0954]])"
      ]
     },
     "execution_count": 100,
     "metadata": {},
     "output_type": "execute_result"
    }
   ],
   "source": [
    "x"
   ]
  },
  {
   "cell_type": "code",
   "execution_count": 101,
   "id": "ed3fec23-980a-43de-9c71-a20de08c0686",
   "metadata": {},
   "outputs": [
    {
     "data": {
      "text/plain": [
       "tensor([[0.4059, 0.5777],\n",
       "        [0.1736, 0.3332]])"
      ]
     },
     "execution_count": 101,
     "metadata": {},
     "output_type": "execute_result"
    }
   ],
   "source": [
    "y"
   ]
  },
  {
   "cell_type": "code",
   "execution_count": 102,
   "id": "d2234c06-8063-4063-8007-15623952fa34",
   "metadata": {},
   "outputs": [
    {
     "name": "stdout",
     "output_type": "stream",
     "text": [
      "tensor([[0.7341, 1.5138],\n",
      "        [0.6537, 0.4285]])\n"
     ]
    }
   ],
   "source": [
    "print(x+y)"
   ]
  },
  {
   "cell_type": "code",
   "execution_count": 103,
   "id": "3da6c827-0573-4e02-b9a4-ebf0736875b3",
   "metadata": {},
   "outputs": [
    {
     "data": {
      "text/plain": [
       "tensor([[0.7341, 1.5138],\n",
       "        [0.6537, 0.4285]])"
      ]
     },
     "execution_count": 103,
     "metadata": {},
     "output_type": "execute_result"
    }
   ],
   "source": [
    "y.add_(x) # y에 x를 더한 값을 y에 할당"
   ]
  },
  {
   "cell_type": "code",
   "execution_count": 104,
   "id": "a1930f0b-f715-4285-a2d0-cabeffaf2aa3",
   "metadata": {},
   "outputs": [
    {
     "data": {
      "text/plain": [
       "tensor([[0.7341, 1.5138],\n",
       "        [0.6537, 0.4285]])"
      ]
     },
     "execution_count": 104,
     "metadata": {},
     "output_type": "execute_result"
    }
   ],
   "source": [
    "y"
   ]
  },
  {
   "cell_type": "code",
   "execution_count": 107,
   "id": "877f08bf-3d40-4e6d-a6c2-10a3749a9abb",
   "metadata": {},
   "outputs": [
    {
     "name": "stdout",
     "output_type": "stream",
     "text": [
      "tensor([[0.2409, 1.4172],\n",
      "        [0.3138, 0.0409]])\n",
      "tensor([[0.2409, 1.4172],\n",
      "        [0.3138, 0.0409]])\n",
      "tensor([[0.2409, 1.4172],\n",
      "        [0.3138, 0.0409]])\n"
     ]
    }
   ],
   "source": [
    "print(x * y)\n",
    "print(torch.mul(x,y)) # 곱셈\n",
    "print(x.mul(y))"
   ]
  },
  {
   "cell_type": "code",
   "execution_count": 108,
   "id": "f181d3a2-7d90-4f56-b5a1-98c42f246c92",
   "metadata": {},
   "outputs": [
    {
     "name": "stdout",
     "output_type": "stream",
     "text": [
      "tensor([[0.4471, 0.6184],\n",
      "        [0.7345, 0.2225]])\n",
      "tensor([[0.4471, 0.6184],\n",
      "        [0.7345, 0.2225]])\n",
      "tensor([[0.4471, 0.6184],\n",
      "        [0.7345, 0.2225]])\n"
     ]
    }
   ],
   "source": [
    "print(x / y)\n",
    "print(torch.div(x,y)) # 나눗셈\n",
    "print(x.div(y))"
   ]
  },
  {
   "cell_type": "code",
   "execution_count": 110,
   "id": "4e78b93f-ed8b-4402-8790-2953517a4e6c",
   "metadata": {},
   "outputs": [],
   "source": [
    "x = torch.randn(1,2)\n",
    "y = torch.randn(2,3)"
   ]
  },
  {
   "cell_type": "code",
   "execution_count": 111,
   "id": "d1a11dec-1669-4923-acb8-d6748d00f461",
   "metadata": {},
   "outputs": [
    {
     "name": "stdout",
     "output_type": "stream",
     "text": [
      "tensor([[2.4062, 1.2434, 0.3095]])\n",
      "tensor([[2.4062, 1.2434, 0.3095]])\n"
     ]
    }
   ],
   "source": [
    "print(torch.matmul(x,y)) # 내적, 점곱(dot, dot product)\n",
    "print(torch.mm(x,y))"
   ]
  },
  {
   "cell_type": "markdown",
   "id": "f4a11a4f-efaa-4f32-a408-48e721d73d98",
   "metadata": {},
   "source": [
    "#### SVD, 특이값 분해\n",
    "\n",
    "Singular Value Decomposition  \n",
    ": 임의의 m x n 차원의 행렬 A에 대하여 다음과 같이 행렬을 분해할 수 있다는 '**행렬 분해**(decomposition)'방법 중 하나  \n",
    "A = U 시그마 VT"
   ]
  },
  {
   "cell_type": "code",
   "execution_count": 113,
   "id": "fcc9478d-aaf2-4054-b7d8-667c5b2a5a6a",
   "metadata": {},
   "outputs": [
    {
     "name": "stdout",
     "output_type": "stream",
     "text": [
      "torch.return_types.svd(\n",
      "U=tensor([[-1.]]),\n",
      "S=tensor([2.7261]),\n",
      "V=tensor([[-0.8826],\n",
      "        [-0.4561],\n",
      "        [-0.1135]]))\n"
     ]
    }
   ],
   "source": [
    "z = torch.mm(x,y)\n",
    "print(torch.svd(z))"
   ]
  },
  {
   "cell_type": "markdown",
   "id": "13e9df8c-697a-4eb6-a04b-b0caa7d19791",
   "metadata": {},
   "source": [
    "### 텐서 조작(Manipulations)"
   ]
  },
  {
   "cell_type": "code",
   "execution_count": 114,
   "id": "b773aa39-1531-4e81-9b8b-b40904caa0c8",
   "metadata": {},
   "outputs": [
    {
     "data": {
      "text/plain": [
       "tensor([[1., 2.],\n",
       "        [3., 4.]])"
      ]
     },
     "execution_count": 114,
     "metadata": {},
     "output_type": "execute_result"
    }
   ],
   "source": [
    "x = torch.Tensor([[1,2],\n",
    "                  [3,4]])\n",
    "x"
   ]
  },
  {
   "cell_type": "code",
   "execution_count": 115,
   "id": "ecaa49c0-4662-4519-bf79-1c28fa349a22",
   "metadata": {},
   "outputs": [
    {
     "name": "stdout",
     "output_type": "stream",
     "text": [
      "tensor(1.)\n",
      "tensor(2.)\n",
      "tensor(3.)\n",
      "tensor(4.)\n",
      "tensor([1., 3.])\n",
      "tensor([2., 4.])\n",
      "tensor([1., 2.])\n",
      "tensor([3., 4.])\n"
     ]
    }
   ],
   "source": [
    "# indexing\n",
    "print(x[0,0])\n",
    "print(x[0,1])\n",
    "print(x[1,0])\n",
    "print(x[1,1])\n",
    "\n",
    "# slicing\n",
    "print(x[:,0])\n",
    "print(x[:,1])\n",
    "print(x[0,:])\n",
    "print(x[1,:])"
   ]
  },
  {
   "cell_type": "markdown",
   "id": "3f0c10df-01c8-4af6-a18b-ff77f085eedc",
   "metadata": {},
   "source": [
    "---\n",
    "º **랜덤한 값을 가지는 텐서 생성**\n",
    "\n",
    "torch.rand() : 0과 1 사이의 숫자를 균등하게 생성\n",
    "\n",
    "torch.rand_like() : 사이즈를 입력한 기존의 텐서 사이즈로 정의\n",
    "\n",
    "torch.randn() : 평균이 0이고 표준편차가 1인 가우시안 정규분포를 이용해 생성\n",
    "\n",
    "torch.randn_like() : 사이즈를 튜플로 입력하지 않고 기존의 텐서로 정의\n",
    "\n",
    "torch.randint() : 주어진 범위 내의 **정수**를 균등하게 생성\n",
    "\n",
    "torch.randint_like() : 사이즈를 입력한 기존의 텐서 사이즈로 정의\n",
    "\n",
    "torch.randperm() : 주어진 범위 내의 **정수**를 랜덤하게 생성\n",
    "\n",
    "º **특정한 값을 가지는 텐서 생성**\n",
    "\n",
    "torch.arange() : 주어진 범위 내의 **정수**를 **순서대로** 생성\n",
    "\n",
    "torch.ones() : 주어진 사이즈의 1로 이루어진 텐서 생성\n",
    "\n",
    "torch.zeros() : 주어진 사이즈의 0으로 이루어진 텐서 생성\n",
    "\n",
    "torch.ones_like() : 사이즈를 (튜플로 입력하지 않고) 기존의 텐서로 정의\n",
    "\n",
    "torch.zeros_like() : 사이즈를 (튜플로 입력하지 않고) 기존의 텐서로 정의\n",
    "\n",
    "torch.linspace() : 시작점과 끝점을 주어진 개수만큼 **균등하게 나눈** 간격점을 **행 벡터로 출력**\n",
    "\n",
    "torch.logspace() : 시작점과 끝점을 주어진 개수만큼 **로그간격**으로 나눈 간격점을 **행벡터로 출력**\n",
    "\n",
    "[참고] https://bigdatadiary0819.tistory.com/60\n",
    "\n",
    "---\n",
    "\n",
    "**Q. 지수 함수와 로그 함수는 어떤 관계? **\n",
    "\n",
    "- 지수 함수 : 갈수록 급격하게 증가\n",
    "- 로그 함수 : 갈수록 완만해짐\n",
    "\n",
    "=> 서로 역의 관계\n",
    "\n",
    "로그 변환은 특징을 잡아내기 위해 극단적인 데이터를 펼쳐주는 느낌"
   ]
  },
  {
   "cell_type": "code",
   "execution_count": 116,
   "id": "487afa48-859f-44fd-a6ca-0af70225ca52",
   "metadata": {},
   "outputs": [
    {
     "data": {
      "text/plain": [
       "tensor([[ 0.8835,  1.2542, -2.2687, -1.3863,  1.0390],\n",
       "        [ 1.3568, -0.4574, -1.1859,  0.1415, -0.6103],\n",
       "        [-0.6822, -1.9978,  0.9217,  0.6573, -0.3092],\n",
       "        [-1.5381, -1.2871, -0.8804, -0.3245,  0.9686]])"
      ]
     },
     "execution_count": 116,
     "metadata": {},
     "output_type": "execute_result"
    }
   ],
   "source": [
    "x = torch.randn(4,5)\n",
    "x"
   ]
  },
  {
   "cell_type": "code",
   "execution_count": 117,
   "id": "c77a3c68-ba60-4f53-9bb7-0008411f084f",
   "metadata": {},
   "outputs": [
    {
     "data": {
      "text/plain": [
       "torch.Size([4, 5])"
      ]
     },
     "execution_count": 117,
     "metadata": {},
     "output_type": "execute_result"
    }
   ],
   "source": [
    "x.shape"
   ]
  },
  {
   "cell_type": "code",
   "execution_count": 118,
   "id": "7292bbbf-94e2-492e-b875-e32885f014ba",
   "metadata": {},
   "outputs": [
    {
     "data": {
      "text/plain": [
       "torch.Size([4, 5])"
      ]
     },
     "execution_count": 118,
     "metadata": {},
     "output_type": "execute_result"
    }
   ],
   "source": [
    "x.size()"
   ]
  },
  {
   "cell_type": "code",
   "execution_count": 125,
   "id": "f8b4288e-2244-4d09-9041-4f1ac49680bd",
   "metadata": {},
   "outputs": [
    {
     "data": {
      "text/plain": [
       "tensor([[1., 2.],\n",
       "        [3., 4.],\n",
       "        [5., 6.],\n",
       "        [7., 8.]])"
      ]
     },
     "execution_count": 125,
     "metadata": {},
     "output_type": "execute_result"
    }
   ],
   "source": [
    "x = torch.FloatTensor([\n",
    "    [1,2],\n",
    "    [3,4],\n",
    "    [5,6],\n",
    "    [7,8]\n",
    "])\n",
    "x"
   ]
  },
  {
   "cell_type": "code",
   "execution_count": 126,
   "id": "4bf6a2fe-3568-465b-956c-1640a86d29a1",
   "metadata": {},
   "outputs": [
    {
     "data": {
      "text/plain": [
       "torch.Size([4, 2])"
      ]
     },
     "execution_count": 126,
     "metadata": {},
     "output_type": "execute_result"
    }
   ],
   "source": [
    "x.size()"
   ]
  },
  {
   "cell_type": "code",
   "execution_count": 127,
   "id": "8a40f005-5928-43bc-b119-857a9093cd97",
   "metadata": {},
   "outputs": [
    {
     "data": {
      "text/plain": [
       "torch.Size([4, 2])"
      ]
     },
     "execution_count": 127,
     "metadata": {},
     "output_type": "execute_result"
    }
   ],
   "source": [
    "x.shape"
   ]
  },
  {
   "cell_type": "code",
   "execution_count": 128,
   "id": "3fb112f5-f350-4c40-bbc3-57b3148b3b08",
   "metadata": {},
   "outputs": [
    {
     "data": {
      "text/plain": [
       "2"
      ]
     },
     "execution_count": 128,
     "metadata": {},
     "output_type": "execute_result"
    }
   ],
   "source": [
    "x.dim()"
   ]
  },
  {
   "cell_type": "code",
   "execution_count": 135,
   "id": "261bd405-81b8-42c2-b584-7d64dbf96f46",
   "metadata": {},
   "outputs": [
    {
     "data": {
      "text/plain": [
       "4"
      ]
     },
     "execution_count": 135,
     "metadata": {},
     "output_type": "execute_result"
    }
   ],
   "source": [
    "x.size(dim = 0)"
   ]
  },
  {
   "cell_type": "code",
   "execution_count": 136,
   "id": "791b7184-471f-4335-a102-d7c7d92b88bf",
   "metadata": {},
   "outputs": [
    {
     "data": {
      "text/plain": [
       "4"
      ]
     },
     "execution_count": 136,
     "metadata": {},
     "output_type": "execute_result"
    }
   ],
   "source": [
    "x.shape[0]"
   ]
  },
  {
   "cell_type": "markdown",
   "id": "e5cb7525-05de-43f8-bd47-bc90e09cd126",
   "metadata": {},
   "source": [
    "#### view()\n",
    "\n",
    "- 텐서의 크기(size)나 모양(shape)을 변경, reshape와 유사한 기능\n",
    "- '-1'로 설정하면 계산을 통해 해당 크기 값을 유추"
   ]
  },
  {
   "cell_type": "code",
   "execution_count": 137,
   "id": "2db8b4d8-470c-49d5-b14e-7690c0588e9b",
   "metadata": {},
   "outputs": [
    {
     "data": {
      "text/plain": [
       "tensor([[ 0.5957,  0.1530,  0.6742,  2.1633, -0.8518],\n",
       "        [ 1.6314,  0.1742,  0.1011, -2.0100,  1.3221],\n",
       "        [-0.7088, -1.4634, -0.4054, -0.1133, -0.4072],\n",
       "        [ 2.5957,  0.6276, -0.2501, -1.7958,  0.2987]])"
      ]
     },
     "execution_count": 137,
     "metadata": {},
     "output_type": "execute_result"
    }
   ],
   "source": [
    "x = torch.randn(4,5)\n",
    "x"
   ]
  },
  {
   "cell_type": "code",
   "execution_count": 138,
   "id": "4744e964-f796-4a9b-a242-ecea83b27866",
   "metadata": {},
   "outputs": [
    {
     "data": {
      "text/plain": [
       "tensor([[ 0.5957,  0.1530,  0.6742,  2.1633],\n",
       "        [-0.8518,  1.6314,  0.1742,  0.1011],\n",
       "        [-2.0100,  1.3221, -0.7088, -1.4634],\n",
       "        [-0.4054, -0.1133, -0.4072,  2.5957],\n",
       "        [ 0.6276, -0.2501, -1.7958,  0.2987]])"
      ]
     },
     "execution_count": 138,
     "metadata": {},
     "output_type": "execute_result"
    }
   ],
   "source": [
    "y = x.view(5,-1)\n",
    "y"
   ]
  },
  {
   "cell_type": "markdown",
   "id": "27419b09-d96e-4d74-981d-d1cb238cbd3c",
   "metadata": {},
   "source": [
    "#### .item()\n",
    "- 안에 있는 내용을 별도로 출력\n",
    "- 스칼라 값 하나만 존재해야 출력 가능"
   ]
  },
  {
   "cell_type": "code",
   "execution_count": 140,
   "id": "194e2d12-5fb9-4b37-8495-65c228cd4e44",
   "metadata": {},
   "outputs": [
    {
     "name": "stdout",
     "output_type": "stream",
     "text": [
      "tensor([0.1660])\n",
      "0.1660282462835312\n",
      "torch.float32\n"
     ]
    }
   ],
   "source": [
    "a = torch.randn(1)\n",
    "print(a)\n",
    "print(a.item())\n",
    "print(a.dtype)"
   ]
  },
  {
   "cell_type": "code",
   "execution_count": 141,
   "id": "ca1e62ea-638b-49f6-9562-60268c796050",
   "metadata": {},
   "outputs": [
    {
     "name": "stdout",
     "output_type": "stream",
     "text": [
      "tensor([-1.1308,  0.9480])\n"
     ]
    },
    {
     "ename": "ValueError",
     "evalue": "only one element tensors can be converted to Python scalars",
     "output_type": "error",
     "traceback": [
      "\u001b[1;31m---------------------------------------------------------------------------\u001b[0m",
      "\u001b[1;31mValueError\u001b[0m                                Traceback (most recent call last)",
      "Input \u001b[1;32mIn [141]\u001b[0m, in \u001b[0;36m<cell line: 3>\u001b[1;34m()\u001b[0m\n\u001b[0;32m      1\u001b[0m a \u001b[38;5;241m=\u001b[39m torch\u001b[38;5;241m.\u001b[39mrandn(\u001b[38;5;241m2\u001b[39m)\n\u001b[0;32m      2\u001b[0m \u001b[38;5;28mprint\u001b[39m(a)\n\u001b[1;32m----> 3\u001b[0m \u001b[38;5;28mprint\u001b[39m(\u001b[43ma\u001b[49m\u001b[38;5;241;43m.\u001b[39;49m\u001b[43mitem\u001b[49m\u001b[43m(\u001b[49m\u001b[43m)\u001b[49m)\n",
      "\u001b[1;31mValueError\u001b[0m: only one element tensors can be converted to Python scalars"
     ]
    }
   ],
   "source": [
    "a = torch.randn(2)\n",
    "print(a)\n",
    "print(a.item())"
   ]
  },
  {
   "cell_type": "markdown",
   "id": "acabbf5b-1323-4a3b-9252-e9a32b8724be",
   "metadata": {},
   "source": [
    "#### squeeze\n",
    "차원을 축소(제거)"
   ]
  },
  {
   "cell_type": "code",
   "execution_count": 142,
   "id": "c0f73777-b261-428f-b4fb-31ac253ed11d",
   "metadata": {},
   "outputs": [
    {
     "data": {
      "text/plain": [
       "tensor([[[0.2950, 0.2918, 0.0174],\n",
       "         [0.2824, 0.2599, 0.5837],\n",
       "         [0.7900, 0.9243, 0.3085]]])"
      ]
     },
     "execution_count": 142,
     "metadata": {},
     "output_type": "execute_result"
    }
   ],
   "source": [
    "tensor = torch.rand(1,3,3)\n",
    "tensor"
   ]
  },
  {
   "cell_type": "code",
   "execution_count": 143,
   "id": "af0c7e37-3580-4205-bd7a-4e88f25725a4",
   "metadata": {},
   "outputs": [
    {
     "data": {
      "text/plain": [
       "torch.Size([1, 3, 3])"
      ]
     },
     "execution_count": 143,
     "metadata": {},
     "output_type": "execute_result"
    }
   ],
   "source": [
    "tensor.shape"
   ]
  },
  {
   "cell_type": "code",
   "execution_count": 144,
   "id": "bb0b47ba-d940-4ab9-832d-273ff8031184",
   "metadata": {},
   "outputs": [
    {
     "data": {
      "text/plain": [
       "torch.Size([1, 3, 3])"
      ]
     },
     "execution_count": 144,
     "metadata": {},
     "output_type": "execute_result"
    }
   ],
   "source": [
    "tensor.size()"
   ]
  },
  {
   "cell_type": "code",
   "execution_count": 145,
   "id": "11562dae-6245-43f6-ac36-ea7e0aeb1db3",
   "metadata": {},
   "outputs": [
    {
     "data": {
      "text/plain": [
       "tensor([[0.2950, 0.2918, 0.0174],\n",
       "        [0.2824, 0.2599, 0.5837],\n",
       "        [0.7900, 0.9243, 0.3085]])"
      ]
     },
     "execution_count": 145,
     "metadata": {},
     "output_type": "execute_result"
    }
   ],
   "source": [
    "t = tensor.squeeze()\n",
    "t"
   ]
  },
  {
   "cell_type": "code",
   "execution_count": 146,
   "id": "de3c1039-c72f-40e4-9c81-78f8b0a02ccc",
   "metadata": {},
   "outputs": [
    {
     "data": {
      "text/plain": [
       "torch.Size([3, 3])"
      ]
     },
     "execution_count": 146,
     "metadata": {},
     "output_type": "execute_result"
    }
   ],
   "source": [
    "t.shape"
   ]
  },
  {
   "cell_type": "markdown",
   "id": "8df99416-9773-405b-bdbd-d592ad75f93e",
   "metadata": {},
   "source": [
    "#### unsqueeze\n",
    "차원을 증가(생성)"
   ]
  },
  {
   "cell_type": "code",
   "execution_count": 151,
   "id": "ec4057c1-114f-4533-8d40-0e4964b20b36",
   "metadata": {},
   "outputs": [
    {
     "data": {
      "text/plain": [
       "tensor([[0.5266, 0.8089, 0.2853],\n",
       "        [0.6115, 0.5413, 0.8346],\n",
       "        [0.8892, 0.1913, 0.1151]])"
      ]
     },
     "execution_count": 151,
     "metadata": {},
     "output_type": "execute_result"
    }
   ],
   "source": [
    "t = torch.rand(3,3)\n",
    "t"
   ]
  },
  {
   "cell_type": "code",
   "execution_count": 152,
   "id": "35ae891a-1697-4d7b-b857-feb5dcac0e7a",
   "metadata": {},
   "outputs": [
    {
     "data": {
      "text/plain": [
       "torch.Size([3, 3])"
      ]
     },
     "execution_count": 152,
     "metadata": {},
     "output_type": "execute_result"
    }
   ],
   "source": [
    "t.shape"
   ]
  },
  {
   "cell_type": "code",
   "execution_count": 153,
   "id": "e9580408-871a-49fe-a044-9c2988687a48",
   "metadata": {},
   "outputs": [
    {
     "data": {
      "text/plain": [
       "torch.Size([1, 3, 3])"
      ]
     },
     "execution_count": 153,
     "metadata": {},
     "output_type": "execute_result"
    }
   ],
   "source": [
    "t1 = t.unsqueeze(dim=0)\n",
    "t1.shape"
   ]
  },
  {
   "cell_type": "code",
   "execution_count": 154,
   "id": "59fd3d1a-b67b-413b-a9dc-dfa39ce099e1",
   "metadata": {},
   "outputs": [
    {
     "data": {
      "text/plain": [
       "torch.Size([3, 1, 3])"
      ]
     },
     "execution_count": 154,
     "metadata": {},
     "output_type": "execute_result"
    }
   ],
   "source": [
    "t2 = t.unsqueeze(dim=1)\n",
    "t2.shape"
   ]
  },
  {
   "cell_type": "code",
   "execution_count": 155,
   "id": "dbac043c-90ed-4887-967d-3d8ca9f357d4",
   "metadata": {},
   "outputs": [
    {
     "data": {
      "text/plain": [
       "torch.Size([3, 3, 1])"
      ]
     },
     "execution_count": 155,
     "metadata": {},
     "output_type": "execute_result"
    }
   ],
   "source": [
    "t3 = t.unsqueeze(dim=2)\n",
    "t3.shape"
   ]
  },
  {
   "cell_type": "markdown",
   "id": "01a380e9-0640-4fb9-9d24-8befcb240313",
   "metadata": {},
   "source": [
    "#### stack\n",
    "텐서 간 결합"
   ]
  },
  {
   "cell_type": "code",
   "execution_count": 157,
   "id": "173b3ff9-5e32-4f75-a613-b75aa4953de5",
   "metadata": {},
   "outputs": [
    {
     "data": {
      "text/plain": [
       "tensor([1., 4.])"
      ]
     },
     "execution_count": 157,
     "metadata": {},
     "output_type": "execute_result"
    }
   ],
   "source": [
    "x = torch.FloatTensor([1,4])\n",
    "x"
   ]
  },
  {
   "cell_type": "code",
   "execution_count": 158,
   "id": "d587df1c-eb5f-48bf-8f39-555db6da7479",
   "metadata": {},
   "outputs": [
    {
     "data": {
      "text/plain": [
       "tensor([2., 5.])"
      ]
     },
     "execution_count": 158,
     "metadata": {},
     "output_type": "execute_result"
    }
   ],
   "source": [
    "y = torch.FloatTensor([2,5])\n",
    "y"
   ]
  },
  {
   "cell_type": "code",
   "execution_count": 159,
   "id": "4a0fe270-8ead-465d-972d-36e916008e0f",
   "metadata": {},
   "outputs": [
    {
     "data": {
      "text/plain": [
       "tensor([3., 6.])"
      ]
     },
     "execution_count": 159,
     "metadata": {},
     "output_type": "execute_result"
    }
   ],
   "source": [
    "z = torch.FloatTensor([3,6])\n",
    "z"
   ]
  },
  {
   "cell_type": "code",
   "execution_count": 160,
   "id": "1a4f7c80-2712-43ef-9796-de93834dc9e2",
   "metadata": {},
   "outputs": [
    {
     "data": {
      "text/plain": [
       "tensor([[1., 4.],\n",
       "        [2., 5.],\n",
       "        [3., 6.]])"
      ]
     },
     "execution_count": 160,
     "metadata": {},
     "output_type": "execute_result"
    }
   ],
   "source": [
    "torch.stack([x,y,z])"
   ]
  },
  {
   "cell_type": "code",
   "execution_count": 161,
   "id": "0b0f65ca-0003-482e-a5d1-5abb05b4e3ae",
   "metadata": {},
   "outputs": [
    {
     "data": {
      "text/plain": [
       "tensor([[1., 2., 3.],\n",
       "        [4., 5., 6.]])"
      ]
     },
     "execution_count": 161,
     "metadata": {},
     "output_type": "execute_result"
    }
   ],
   "source": [
    "torch.stack([x,y,z], dim=1)"
   ]
  },
  {
   "cell_type": "markdown",
   "id": "0755c6b8-daa4-46c6-9950-83880a963678",
   "metadata": {},
   "source": [
    "#### cat\n",
    "텐서를 결합하는 메서드(concatenate)\n",
    "\n",
    "- 넘파이의 stack과 유사하지만, **쌓을 dim이 존재해야 함**\n",
    "- 해당 차원을 늘려준 후 결합"
   ]
  },
  {
   "cell_type": "code",
   "execution_count": 166,
   "id": "0e2dae3c-5094-4a6c-b378-9121e4c0ac8c",
   "metadata": {},
   "outputs": [
    {
     "name": "stdout",
     "output_type": "stream",
     "text": [
      "tensor([[[-0.3583, -0.6649, -0.7699],\n",
      "         [ 0.2770, -0.7271, -0.1938],\n",
      "         [-0.6789,  1.1264,  0.5664]]])\n",
      "tensor([[[ 0.2721, -0.6726,  0.3970],\n",
      "         [-0.5247, -0.7592,  2.1368],\n",
      "         [ 0.7761,  0.9803,  0.5567]]])\n",
      "tensor([[[-0.3583, -0.6649, -0.7699],\n",
      "         [ 0.2770, -0.7271, -0.1938],\n",
      "         [-0.6789,  1.1264,  0.5664]],\n",
      "\n",
      "        [[ 0.2721, -0.6726,  0.3970],\n",
      "         [-0.5247, -0.7592,  2.1368],\n",
      "         [ 0.7761,  0.9803,  0.5567]]])\n",
      "torch.Size([2, 3, 3])\n"
     ]
    }
   ],
   "source": [
    "a = torch.randn(1,3,3)\n",
    "print(a)\n",
    "b = torch.randn(1,3,3)\n",
    "print(b)\n",
    "c = torch.cat((a,b), dim = 0)\n",
    "print(c)\n",
    "print(c.shape)"
   ]
  },
  {
   "cell_type": "code",
   "execution_count": 165,
   "id": "397f5016-7fcc-4b59-88ad-d88b448d7f70",
   "metadata": {},
   "outputs": [
    {
     "name": "stdout",
     "output_type": "stream",
     "text": [
      "tensor([[[-1.1733e-03, -4.3239e-01, -1.3567e+00],\n",
      "         [ 3.0471e+00, -4.4636e-03,  2.2223e+00],\n",
      "         [-1.9951e+00, -9.5557e-02,  5.6744e-01]]])\n",
      "tensor([[[ 1.7928, -0.4607, -1.4824],\n",
      "         [-1.0256,  1.5199, -0.5202],\n",
      "         [ 0.5470,  1.2833, -0.9503]]])\n",
      "tensor([[[-1.1733e-03, -4.3239e-01, -1.3567e+00],\n",
      "         [ 3.0471e+00, -4.4636e-03,  2.2223e+00],\n",
      "         [-1.9951e+00, -9.5557e-02,  5.6744e-01],\n",
      "         [ 1.7928e+00, -4.6075e-01, -1.4824e+00],\n",
      "         [-1.0256e+00,  1.5199e+00, -5.2025e-01],\n",
      "         [ 5.4697e-01,  1.2833e+00, -9.5030e-01]]])\n",
      "torch.Size([1, 6, 3])\n"
     ]
    }
   ],
   "source": [
    "a = torch.randn(1,3,3)\n",
    "print(a)\n",
    "b = torch.randn(1,3,3)\n",
    "print(b)\n",
    "c = torch.cat((a,b), dim = 1)\n",
    "print(c)\n",
    "print(c.shape)"
   ]
  },
  {
   "cell_type": "markdown",
   "id": "ab5e5398-deb4-49dc-9b7b-e3c459d50227",
   "metadata": {},
   "source": [
    "#### chunk\n",
    "- 텐서를 여러 개로 나눌 때 사용\n",
    "- **몇 개로 나눌 것인가?**"
   ]
  },
  {
   "cell_type": "code",
   "execution_count": 167,
   "id": "122c664c-2850-4c63-a1ee-bfa47d495ecf",
   "metadata": {},
   "outputs": [
    {
     "data": {
      "text/plain": [
       "tensor([[0.3689, 0.1062, 0.2107, 0.5015, 0.1940, 0.4208],\n",
       "        [0.3150, 0.0374, 0.9178, 0.3048, 0.2871, 0.1266],\n",
       "        [0.5462, 0.0909, 0.7775, 0.6377, 0.5235, 0.3855]])"
      ]
     },
     "execution_count": 167,
     "metadata": {},
     "output_type": "execute_result"
    }
   ],
   "source": [
    "t = torch.rand(3,6)\n",
    "t"
   ]
  },
  {
   "cell_type": "code",
   "execution_count": 168,
   "id": "90fa0610-a73d-46a2-9600-2b7dc83e430e",
   "metadata": {},
   "outputs": [
    {
     "name": "stdout",
     "output_type": "stream",
     "text": [
      "tensor([[0.3689, 0.1062],\n",
      "        [0.3150, 0.0374],\n",
      "        [0.5462, 0.0909]])\n",
      "tensor([[0.2107, 0.5015],\n",
      "        [0.9178, 0.3048],\n",
      "        [0.7775, 0.6377]])\n",
      "tensor([[0.1940, 0.4208],\n",
      "        [0.2871, 0.1266],\n",
      "        [0.5235, 0.3855]])\n"
     ]
    }
   ],
   "source": [
    "t1, t2, t3 = torch.chunk(t, 3, dim = 1) # 열 방향으로 텐서를 3개로 나눠라\n",
    "print(t1)\n",
    "print(t2)\n",
    "print(t3)"
   ]
  },
  {
   "cell_type": "code",
   "execution_count": 170,
   "id": "3f5d4cd4-13ec-4ae3-9cda-79b0b722d349",
   "metadata": {},
   "outputs": [
    {
     "name": "stdout",
     "output_type": "stream",
     "text": [
      "tensor([[0.3689, 0.1062, 0.2107, 0.5015, 0.1940, 0.4208]])\n",
      "tensor([[0.3150, 0.0374, 0.9178, 0.3048, 0.2871, 0.1266]])\n",
      "tensor([[0.5462, 0.0909, 0.7775, 0.6377, 0.5235, 0.3855]])\n"
     ]
    }
   ],
   "source": [
    "t1, t2, t3 = torch.chunk(t, 3, dim = 0)\n",
    "print(t1)\n",
    "print(t2)\n",
    "print(t3)"
   ]
  },
  {
   "cell_type": "markdown",
   "id": "ca6ebd9b-8ec7-4fe3-9022-726e84cc204c",
   "metadata": {},
   "source": [
    "#### split\n",
    "- 텐서를 n개로 나눌 때 사용\n",
    "- 텐서의 크기를 **최대 몇으로 나눌지** 지정\n",
    "- chunk와 동일한 기능이지만 조금 다름"
   ]
  },
  {
   "cell_type": "code",
   "execution_count": 175,
   "id": "ddac1695-6147-455f-9d82-12752ebb2fbd",
   "metadata": {},
   "outputs": [],
   "source": [
    "tensor = torch.rand(3,6)"
   ]
  },
  {
   "cell_type": "code",
   "execution_count": 176,
   "id": "c9c5bf07-5de4-4cf6-a947-b658482f4154",
   "metadata": {},
   "outputs": [
    {
     "name": "stdout",
     "output_type": "stream",
     "text": [
      "tensor([[0.3863, 0.7543, 0.2620, 0.9993, 0.2195, 0.6585],\n",
      "        [0.1030, 0.0539, 0.6367, 0.7879, 0.3090, 0.5036],\n",
      "        [0.3409, 0.8318, 0.6962, 0.3251, 0.9718, 0.7740]])\n",
      "tensor([[0.3863, 0.7543],\n",
      "        [0.1030, 0.0539],\n",
      "        [0.3409, 0.8318]])\n",
      "tensor([[0.2620, 0.9993],\n",
      "        [0.6367, 0.7879],\n",
      "        [0.6962, 0.3251]])\n",
      "tensor([[0.2195, 0.6585],\n",
      "        [0.3090, 0.5036],\n",
      "        [0.9718, 0.7740]])\n"
     ]
    }
   ],
   "source": [
    "t1, t2, t3 = torch.split(tensor, 2, dim = 1) # 열 방향으로 텐서의 크기가 최대 2를 갖게 나눠라\n",
    "\n",
    "print(tensor)\n",
    "print(t1)\n",
    "print(t2)\n",
    "print(t3)"
   ]
  },
  {
   "cell_type": "code",
   "execution_count": 177,
   "id": "0169eb80-9b9c-481f-b8d4-7061ffba895a",
   "metadata": {},
   "outputs": [
    {
     "name": "stdout",
     "output_type": "stream",
     "text": [
      "tensor([[0.3863, 0.7543, 0.2620, 0.9993, 0.2195, 0.6585],\n",
      "        [0.1030, 0.0539, 0.6367, 0.7879, 0.3090, 0.5036],\n",
      "        [0.3409, 0.8318, 0.6962, 0.3251, 0.9718, 0.7740]])\n",
      "tensor([[0.3863, 0.7543, 0.2620],\n",
      "        [0.1030, 0.0539, 0.6367],\n",
      "        [0.3409, 0.8318, 0.6962]])\n",
      "tensor([[0.9993, 0.2195, 0.6585],\n",
      "        [0.7879, 0.3090, 0.5036],\n",
      "        [0.3251, 0.9718, 0.7740]])\n"
     ]
    }
   ],
   "source": [
    "t1, t2 = torch.split(tensor, 3, dim = 1) # 열 방향으로 텐서의 크기가 최대 3를 갖게 나눠라\n",
    "\n",
    "print(tensor)\n",
    "print(t1)\n",
    "print(t2)"
   ]
  },
  {
   "cell_type": "markdown",
   "id": "0943ecb5-e6de-4f03-b8ff-b2b7fc6218c6",
   "metadata": {},
   "source": [
    "**torch ↔ numpy**\n",
    "- numpy() : 넘파이 어레이로 변환\n",
    "- from_numpy() : 반대 즉, 다시 텐서로 변환"
   ]
  },
  {
   "cell_type": "code",
   "execution_count": 178,
   "id": "e3d655c8-7d5e-4f19-9ae8-c140e99f23f3",
   "metadata": {},
   "outputs": [
    {
     "data": {
      "text/plain": [
       "tensor([1., 1., 1., 1., 1., 1., 1.])"
      ]
     },
     "execution_count": 178,
     "metadata": {},
     "output_type": "execute_result"
    }
   ],
   "source": [
    "a = torch.ones(7)\n",
    "a"
   ]
  },
  {
   "cell_type": "code",
   "execution_count": 179,
   "id": "1847f31c-602f-49ec-8c4f-c8e0141a01e6",
   "metadata": {},
   "outputs": [
    {
     "name": "stdout",
     "output_type": "stream",
     "text": [
      "[1. 1. 1. 1. 1. 1. 1.]\n",
      "<class 'numpy.ndarray'>\n"
     ]
    }
   ],
   "source": [
    "b = a.numpy()\n",
    "print(b)\n",
    "print(type(b))"
   ]
  },
  {
   "cell_type": "code",
   "execution_count": 180,
   "id": "4b9bcdbf-6107-40c8-a422-8f67dae43e1f",
   "metadata": {},
   "outputs": [
    {
     "name": "stdout",
     "output_type": "stream",
     "text": [
      "tensor([1., 1., 1., 1., 1., 1., 1.])\n",
      "<class 'torch.Tensor'>\n"
     ]
    }
   ],
   "source": [
    "c = torch.from_numpy(b)\n",
    "print(c)\n",
    "print(type(c))"
   ]
  },
  {
   "cell_type": "markdown",
   "id": "a26581b8-9509-4997-8c5d-934206902a1e",
   "metadata": {},
   "source": [
    "- Tensor가 CPU 상에 있다면 Numpy 배열을 메모리 공간을 공유하므로, 하나가 변하면 다른 하나도 변함"
   ]
  },
  {
   "cell_type": "code",
   "execution_count": 181,
   "id": "4ca17b04-8948-4913-95f9-7ab117615657",
   "metadata": {},
   "outputs": [
    {
     "name": "stdout",
     "output_type": "stream",
     "text": [
      "tensor([2., 2., 2., 2., 2., 2., 2.])\n",
      "<class 'torch.Tensor'>\n",
      "[2. 2. 2. 2. 2. 2. 2.]\n",
      "<class 'numpy.ndarray'>\n"
     ]
    }
   ],
   "source": [
    "a.add_(1) # a값에 1을 더해 줌\n",
    "print(a)\n",
    "print(type(a))\n",
    "print(b)\n",
    "print(type(b))"
   ]
  },
  {
   "cell_type": "code",
   "execution_count": 182,
   "id": "c79398ea-9a6c-4dcc-a11e-85938ee28e42",
   "metadata": {},
   "outputs": [
    {
     "name": "stdout",
     "output_type": "stream",
     "text": [
      "[1. 1. 1. 1. 1. 1. 1.]\n"
     ]
    }
   ],
   "source": [
    "import numpy as np\n",
    "\n",
    "a = np.ones(7)\n",
    "print(a)"
   ]
  },
  {
   "cell_type": "code",
   "execution_count": 183,
   "id": "56942adf-c191-4573-bb84-d07035d27fb4",
   "metadata": {},
   "outputs": [
    {
     "name": "stdout",
     "output_type": "stream",
     "text": [
      "[2. 2. 2. 2. 2. 2. 2.]\n",
      "tensor([2., 2., 2., 2., 2., 2., 2.], dtype=torch.float64)\n"
     ]
    }
   ],
   "source": [
    "b = torch.from_numpy(a)\n",
    "np.add(a, 1, out = a) # a에 1을 더해서 a를 출력\n",
    "print(a)\n",
    "print(b) # cpu에서 메모리 공유"
   ]
  },
  {
   "cell_type": "code",
   "execution_count": 184,
   "id": "e116f12a-2226-4bc6-8a80-2579b665ed3a",
   "metadata": {},
   "outputs": [
    {
     "data": {
      "text/plain": [
       "array([4., 4., 4., 4., 4., 4., 4.])"
      ]
     },
     "execution_count": 184,
     "metadata": {},
     "output_type": "execute_result"
    }
   ],
   "source": [
    "b = b.numpy()\n",
    "np.add(b, 2, out = b)"
   ]
  },
  {
   "cell_type": "markdown",
   "id": "9223e766-ec0a-4e7d-a6f2-e086c589f1bc",
   "metadata": {},
   "source": [
    "## 역전파 / 경사 하강법\n",
    "### 역전파\n",
    ": Backpropagation, 순전파와 반대 방향으로 손실정보를 전달해주는 역할\n",
    "    - 손실정보를 출력층부터 입력층까지 전달하여 각 가중치를 얼마나 업데이트 해야할지를 결정하는 알고리즘\n",
    "    \n",
    "![image](https://velog.velcdn.com/images%2Fssulee0206%2Fpost%2Fd6bc8faf-16f5-408b-b0ca-fb7b2e9880be%2F1.png)\n",
    "\n",
    "### 경사하강법\n",
    ": gradient descent, iteration 마다 구해진 손실을 줄이는 방향으로 가중치를 업데이트함, 손실을 줄이는 방향으로 결정\n",
    "    - 해당 함수의 최솟값 위치를 찾기 위해 비용 함수의 경사 반대 방향으로 정의한 step size를 가지고 조금씩 움직여 가면서 최적의 파라미터를 찾으려는 방법\n",
    "    \n",
    "![image](https://velog.velcdn.com/images%2Fssulee0206%2Fpost%2Fffc5f127-6098-4e5f-aa21-05eb1e821941%2F3.png)\n",
    "\n",
    "    - 학습률이 너무 작을 경우 알고리즘이 수렴하기 위해 반복해야 하는 값이 많으므로 학습 시간이 오래걸리고 지역 최소값(local minimum)에 수렴할 수 있음\n",
    "    - 반대로 학습률이 너무 클 경우 학습 시간은 적게 걸리나, 스텝이 너무 커서 전역 최소값(global minimum)을 가로질러 반대편으로 건너뛰어 최소값에서 멀어질 수 있음\n",
    "\n",
    "![image](https://velog.velcdn.com/images%2Fssulee0206%2Fpost%2F4ef41a21-fa5d-4c3b-9150-f037b4e772d8%2F4.png)\n",
    "\n",
    "### 확률적 경사 하강법\n",
    "(Stochastic Gradient Descent, SGD)\n",
    "- 전체 데이터에서 하나의 데이터를 뽑아 신경망에 입력한 후 손실을 계산\n",
    "- 손실 정보를 역전파하여 신경망의 가중치를 업데이트\n",
    "- 장점: 1개의 데이터만 사용하여 손실을 계산하기 때문에 가중치를 빠르게 업데이트 할 수 있음\n",
    "- 단점 : 1개의 데이터만 사용하기 때문에 학습 과정에서 불안정한 경사 하강을 보임\n",
    "\n",
    "![images](https://velog.velcdn.com/images%2Fssulee0206%2Fpost%2Fbcfe6cb7-e91e-40a6-9ffd-a6ae642a57d5%2F6.png)\n",
    "\n",
    "### 미니 배치 경사 하강법\n",
    "(Mini-Batch Gradient Descent)\n",
    "- 확률적 경사하강법 + 경사하강법을 적절히 융화한 방법\n",
    "- n개의 데이터로 미니 배치를 구성하여 해당 미니 배치를 신경망에 입력 후 결과를 바탕으로 가중치를 업데이트\n",
    "- 일반적으로 가장 많이 사용\n",
    "\n",
    "![image](https://velog.velcdn.com/images%2Fssulee0206%2Fpost%2Ff286ede0-8eb5-426f-a7d2-79325a1d3920%2F7.png)\n",
    "\n",
    "### 옵티마이저\n",
    ": 지역 최적점에 빠지게 되는 문제를 방지하기 위한 여러 가지 방법 중 하나로, 경사를 내려가는 방법을 결정하는 알고리즘\n",
    "\n",
    "![image](https://velog.velcdn.com/images%2Fssulee0206%2Fpost%2F33555fbd-1588-4b68-95c9-89afdde2e12f%2F55.png)\n",
    "\n",
    "출처 및 참고 : https://velog.io/@ssulee0206/%EC%97%AD%EC%A0%84%ED%8C%8C-%EA%B2%BD%EC%82%AC%ED%95%98%EA%B0%95%EB%B2%95"
   ]
  },
  {
   "cell_type": "markdown",
   "id": "697fcc4d-f7c9-4c60-a3a7-d66522ed4d84",
   "metadata": {},
   "source": [
    "## [Autograd(자동미분)]\n",
    "\n",
    "- autograd 패키지는 Tensor로 수행한 모든 연산에 대하여 자동-미분(Autimatic differentiation) 기능을 제공함\n",
    "- autograd는 실행 시점에 정의되는(define-by-run) 프레임워크임\n",
    "- 이것은 코드가 어떻게 실행되는가에 따라서 역전파(backprop)가 정의됨을 의미\n",
    "- 즉, 반복마다 역전파가 달라질 수 있음\n",
    "\n",
    "TORCH.AUTOGRAD를 사용한 자동 미분 참고 : https://tutorials.pytorch.kr/beginner/basics/autogradqs_tutorial.html"
   ]
  },
  {
   "cell_type": "markdown",
   "id": "8f954a41-f198-4950-bb50-7edda5e115d4",
   "metadata": {},
   "source": [
    "## requires_grad\n",
    "- **requires_grad=True** \n",
    "    - autograd 에 모든 연산(operation)들을 추적\n",
    "    - 텐서를 생성할 때 설정하거나, 나중에 x.requires_grad_(True) 메소드를 사용하여 나중에 설정할 수 있음\n",
    "    - requires_grad(...)는 기존 텐서의 requires_grad 값을 바꿔치기(in-place)하여 변경\n",
    "- **.detach()** : 기록을 추적하는 것을 중단시키며, 연산 기록으로부터 분리\n",
    "  \n"
   ]
  },
  {
   "cell_type": "code",
   "execution_count": null,
   "id": "23925fff-245b-4aee-a1fc-fb56f5cd0e23",
   "metadata": {},
   "outputs": [],
   "source": [
    "a = torch.rand(3,3)\n",
    "# ,requires_grad=True\n",
    "a = a*3\n",
    "print(a)\n",
    "print(a.requires_grad)"
   ]
  },
  {
   "cell_type": "code",
   "execution_count": null,
   "id": "050f294b-c150-4471-abb2-87c783cc5dfe",
   "metadata": {},
   "outputs": [],
   "source": []
  },
  {
   "cell_type": "code",
   "execution_count": null,
   "id": "24680619-2458-48a3-bad9-3a796791634f",
   "metadata": {},
   "outputs": [],
   "source": []
  },
  {
   "cell_type": "code",
   "execution_count": null,
   "id": "68a9cfa8-7ef5-4646-8770-17853dadd803",
   "metadata": {},
   "outputs": [],
   "source": []
  },
  {
   "cell_type": "code",
   "execution_count": null,
   "id": "eebe1285-6f66-443b-9734-542711f3477b",
   "metadata": {},
   "outputs": [],
   "source": []
  },
  {
   "cell_type": "code",
   "execution_count": null,
   "id": "922c66ad-d615-4655-acbc-a4d18774cfd3",
   "metadata": {},
   "outputs": [],
   "source": []
  },
  {
   "cell_type": "code",
   "execution_count": null,
   "id": "8ce9fb9e-fc21-4a40-af31-2cc1b2c939e6",
   "metadata": {},
   "outputs": [],
   "source": []
  },
  {
   "cell_type": "code",
   "execution_count": null,
   "id": "e20aff75-dad2-409e-b50b-dfdfc6b78359",
   "metadata": {},
   "outputs": [],
   "source": []
  },
  {
   "cell_type": "code",
   "execution_count": null,
   "id": "823d06fa-8be4-4d57-88c5-ec2c755582a9",
   "metadata": {},
   "outputs": [],
   "source": []
  }
 ],
 "metadata": {
  "kernelspec": {
   "display_name": "Python 3 (ipykernel)",
   "language": "python",
   "name": "python3"
  },
  "language_info": {
   "codemirror_mode": {
    "name": "ipython",
    "version": 3
   },
   "file_extension": ".py",
   "mimetype": "text/x-python",
   "name": "python",
   "nbconvert_exporter": "python",
   "pygments_lexer": "ipython3",
   "version": "3.9.12"
  }
 },
 "nbformat": 4,
 "nbformat_minor": 5
}

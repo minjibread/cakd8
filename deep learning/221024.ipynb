{
 "cells": [
  {
   "cell_type": "markdown",
   "id": "c86fb711-a355-4f86-a8aa-be45490d9537",
   "metadata": {},
   "source": [
    "# 복습문제"
   ]
  },
  {
   "cell_type": "code",
   "execution_count": null,
   "id": "30ffc8ae-59ad-441b-b240-cb2ea1a46de5",
   "metadata": {},
   "outputs": [],
   "source": [
    "실루엣 계수는 -1~1 사이의 값을 가지며, 1에 가까워질수록 근처의 군집과 더 멀리 떨어져 있고, 0에 가까울수록 근처의 군집과 가까워진다.\n",
    "-값은 아예 다른 군집에 데이터 포인트가 할당됐음을 뜻한다.\n",
    "\n",
    "O"
   ]
  },
  {
   "cell_type": "code",
   "execution_count": null,
   "id": "b1a1e6ad-cb71-4595-a200-7bf11903a2cc",
   "metadata": {},
   "outputs": [],
   "source": [
    "분류와 군집의 차이점은?\n",
    "\n",
    "분류는 범주 정보를 사전에 알 수 있는 지도학습이지만, 군집은 정보를 사전에 알 수 없는 비지도학습이다."
   ]
  },
  {
   "cell_type": "code",
   "execution_count": null,
   "id": "8180fc67-1f1e-4df5-bcf9-d71cd366dcd6",
   "metadata": {},
   "outputs": [],
   "source": [
    "k-평균은 거리 기반 알고리즘으로 속성의 개수가 많아질수록 군집화 정확도가 떨어져 PCA로 차원 감소를 적용하여 이를 보완한다? O/X\n",
    "\n",
    "O"
   ]
  },
  {
   "cell_type": "code",
   "execution_count": null,
   "id": "eb5264de-299b-4243-905c-14232b8526f3",
   "metadata": {},
   "outputs": [],
   "source": [
    "silhouette_score의 값이 클수록 군집화가 더 잘 된 것이다? O/X\n",
    "\n",
    "O"
   ]
  },
  {
   "cell_type": "code",
   "execution_count": null,
   "id": "7073c367-d632-4743-bc7e-412dd3a76c4a",
   "metadata": {},
   "outputs": [],
   "source": [
    "개별 군집의 평균값의 편차도 크지 않아야 한다? O/X\n",
    "\n",
    "O"
   ]
  },
  {
   "cell_type": "code",
   "execution_count": null,
   "id": "d91a335e-d5a6-4e13-aa89-83267b444598",
   "metadata": {
    "tags": []
   },
   "outputs": [],
   "source": [
    "s(i), 실루엣 계수란 각 군집간의 거리가 얼마나 효율적으로 분리되어 있는지를 나타낸다.\n",
    "a(i), 각 집단 내 거리평균이고, b(i)란 각 집단간 거리 평균이다.\n",
    "a(i)와 b(i) 두 변수를 이용하여 실루엣 계수를 표현하는 수식을 써 주세요.\n",
    "\n",
    "s(i) = (a(i) - b(i)) / max(a(i), b(i))"
   ]
  },
  {
   "cell_type": "code",
   "execution_count": null,
   "id": "d35a7aa5-b23a-4b77-9f1b-9441c0ec6154",
   "metadata": {},
   "outputs": [],
   "source": [
    "k_means은 중심에 소속된 데이터의 평균 거리 중심으로 이동하는 데 반해, 평균이동(mean shift)은 중심을 데이터가 모여있는 밀도가 가장 높은 곳으로 이동시킨다."
   ]
  },
  {
   "cell_type": "code",
   "execution_count": null,
   "id": "b123e339-2024-4d50-a795-4ec65e4b6c34",
   "metadata": {},
   "outputs": [],
   "source": [
    "평균이동의 파라미터 중 bandwidth의 설정값을 작게할수록 군집의 개수는 어떻게 변화되는가?\n",
    "\n",
    "많아진다."
   ]
  },
  {
   "cell_type": "code",
   "execution_count": null,
   "id": "9418b02e-50ce-404f-9c49-64f05ae7783c",
   "metadata": {},
   "outputs": [],
   "source": [
    "사이킷런의 데이터셋에서 임의의 데이터를 생성하는 방법 2가지는?\n",
    "\n",
    "make_blobs : 같은 성질을 가지는 정규분포를 이용해 가상 데이터를 생성\n",
    "make_circles : 작은 원이 큰 원에 포함되도록 데이터 분포를 이루면서 생성"
   ]
  },
  {
   "cell_type": "code",
   "execution_count": null,
   "id": "ffe7a0cb-bc3c-44f8-a18d-33f67b7a9274",
   "metadata": {},
   "outputs": [],
   "source": [
    "DBSCAN의 데이터 포인트 4가지는?\n",
    "\n",
    "핵심 포인트(Core), 이웃 포인트(Neighbor), 경계 포인트(Border), 잡음 포인트(Noise)"
   ]
  },
  {
   "cell_type": "code",
   "execution_count": null,
   "id": "599c4ad0-b0cb-4e27-90fd-27c434ff725d",
   "metadata": {},
   "outputs": [],
   "source": [
    "PCA : Principal Component Analysis의 약어\n",
    "데이터의 분산이 가장 잘 구별되는 새로운 축을 찾는다."
   ]
  },
  {
   "cell_type": "code",
   "execution_count": null,
   "id": "e8c4e7dd-0440-4977-9777-31b497c254da",
   "metadata": {},
   "outputs": [],
   "source": [
    "LDA : Linear Discriminant Analysis의 약어\n",
    "데이터의 클래스(또는 레이블)가 가장 잘 구별되는 새로운 축을 찾는다."
   ]
  },
  {
   "cell_type": "code",
   "execution_count": null,
   "id": "a3262ead-5e55-443b-ba44-50efcef67518",
   "metadata": {},
   "outputs": [],
   "source": [
    "k-평균은 중심에 소속된 데이터의 평균 거리 중심으로 이동하고, 평균이동(Mean-shift)은 중심을 데이터가 모여 있는 밀도가 가장 높은 곳으로 이동시킨다."
   ]
  },
  {
   "cell_type": "code",
   "execution_count": null,
   "id": "effe81d8-8e15-45bd-b900-43fccf3bb906",
   "metadata": {},
   "outputs": [],
   "source": [
    "K-means 군집 분석에서 군집 수(k) 결정 방법 중 여러 가지 k값에 대한 군집 분석결과를 군집 내에 얼마나 밀집되어 있는가를 나타내는 통계량의 합을 기준으로 크기의 변화가 작아지는 기점을\n",
    "적정 군집수로 결정하는 방법은?\n",
    "\n",
    "엘보우기법"
   ]
  }
 ],
 "metadata": {
  "kernelspec": {
   "display_name": "Python 3 (ipykernel)",
   "language": "python",
   "name": "python3"
  },
  "language_info": {
   "codemirror_mode": {
    "name": "ipython",
    "version": 3
   },
   "file_extension": ".py",
   "mimetype": "text/x-python",
   "name": "python",
   "nbconvert_exporter": "python",
   "pygments_lexer": "ipython3",
   "version": "3.9.12"
  }
 },
 "nbformat": 4,
 "nbformat_minor": 5
}

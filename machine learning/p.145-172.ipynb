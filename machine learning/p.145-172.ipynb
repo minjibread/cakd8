{
 "cells": [
  {
   "cell_type": "markdown",
   "id": "c0030649-942d-4fe1-b2c5-6b98a16c1da3",
   "metadata": {},
   "source": [
    "# 평가"
   ]
  },
  {
   "cell_type": "markdown",
   "id": "2cf8ffd5-2ebc-47a9-8798-d9ae05b0647a",
   "metadata": {},
   "source": [
    "예측 성능 평가 지표(Evaluation Metric)  \n",
    "일반적으로 모델이 분류인지 회귀인지에 따라 여러 종류로 나뉨"
   ]
  },
  {
   "cell_type": "markdown",
   "id": "a0e8700c-e7e5-4d60-95ef-c90008f19fd1",
   "metadata": {},
   "source": [
    "--------"
   ]
  },
  {
   "cell_type": "markdown",
   "id": "2e00bd34-03a1-49ab-8014-b5fb4c714a91",
   "metadata": {},
   "source": [
    "## 분류의 성능 평가 지표"
   ]
  },
  {
   "cell_type": "markdown",
   "id": "9189c24e-7980-43d3-9938-930d68f23747",
   "metadata": {},
   "source": [
    "- 정확도\n",
    "- 오차(혼돈) 행렬\n",
    "- 정밀도\n",
    "- 재현율\n",
    "- F1 score\n",
    "- ROC AUC\n",
    "<br>\n",
    "<br>\n",
    "> 위 지표들은 특히 이진 분류(긍정/부정과 같은 2개의 결괏값만을 가짐)에서 더욱 중요하게 강조됨"
   ]
  },
  {
   "cell_type": "markdown",
   "id": "2462e8c1-517e-4844-bda1-5963662bcfba",
   "metadata": {},
   "source": [
    "---------"
   ]
  },
  {
   "cell_type": "markdown",
   "id": "5b61ce33-4b9f-46a0-995b-d09f6f6e57f6",
   "metadata": {},
   "source": [
    "## 정확도(Accuracy)"
   ]
  },
  {
   "cell_type": "markdown",
   "id": "40c788ca-673e-4947-bfc6-0d0babd50b14",
   "metadata": {},
   "source": [
    "> 예측값이 실제값과 동일한 데이터 건 수 / 전체 예측 데이터 건수 "
   ]
  },
  {
   "cell_type": "markdown",
   "id": "087210ad-bd8d-4bf7-b914-57733f6bd00a",
   "metadata": {},
   "source": [
    "= $\\frac{(TN + TP)}{(TN + FP + FN + TP)}$"
   ]
  },
  {
   "cell_type": "markdown",
   "id": "16ca0d7c-1a5a-4629-bfc6-ed1cba67db9c",
   "metadata": {},
   "source": [
    "정확도 평가 지표는 데이터의 구성에 따라 ML 모델의 성능을 왜곡할 수 있기 때문에 <span style=\"color: #2D3748; background-color:#fff5b1;\">불균형한 레이블 데이터 세트에서는 성능 수치로 사용돼서는 안됨</span><br>\n",
    "따라서, 불균형한 레이블 데이터 세트에서는 성능 수치로 사용해서는 안되며, 여러 가지 분류 지표와 함께 적용하여 ML 모델 성능을 평가해야 함"
   ]
  },
  {
   "cell_type": "markdown",
   "id": "755f658d-9c86-4785-abe0-cfb6f5e10730",
   "metadata": {},
   "source": [
    "--------"
   ]
  },
  {
   "cell_type": "markdown",
   "id": "34de1bc1-635a-4542-b59f-4249540e85c3",
   "metadata": {},
   "source": [
    "## 오차 행렬(confusion matrix, 혼동 행렬)"
   ]
  },
  {
   "cell_type": "markdown",
   "id": "3a8f2fc3-dc5c-4e80-88b0-84de05832e8b",
   "metadata": {},
   "source": [
    "이진 분류의 예측 오류가 얼마인지, 어떤 유형의 예측 오류가 발생하고 있는지 보여줌<br>\n",
    "ex. TP, FP, FN, TN"
   ]
  },
  {
   "cell_type": "markdown",
   "id": "5cd9c46f-dc17-4bb8-b835-d927779947e4",
   "metadata": {},
   "source": [
    "<p align=\"center\"><img src=\"./confusion matrix.png\"></p>"
   ]
  },
  {
   "cell_type": "code",
   "execution_count": 4,
   "id": "9618d938-f8bb-4374-a304-4a06af18009c",
   "metadata": {},
   "outputs": [],
   "source": [
    "from sklearn.metrics import confusion_matrix"
   ]
  },
  {
   "cell_type": "code",
   "execution_count": 14,
   "id": "2a00411c-ccc4-4d7e-b3f6-82af853857f9",
   "metadata": {},
   "outputs": [
    {
     "data": {
      "text/plain": [
       "array([[405,   0],\n",
       "       [ 45,   0]], dtype=int64)"
      ]
     },
     "execution_count": 14,
     "metadata": {},
     "output_type": "execute_result"
    }
   ],
   "source": [
    "confusion_matrix(y_test, fakepred)"
   ]
  },
  {
   "cell_type": "markdown",
   "id": "cfc875c1-0f5d-4d56-b695-a876e4a85186",
   "metadata": {},
   "source": [
    "> **수치적인 판단오류**"
   ]
  },
  {
   "cell_type": "markdown",
   "id": "bde44615-091e-43d3-a3cf-632a2c0634b2",
   "metadata": {},
   "source": [
    "불균형한 이진 분류 데이터에서는 Positive 데이터 건수가 매우 작기 때문에 Positive보다는 Negative로 예측 정확도가 높아지는 경향이 발생함"
   ]
  },
  {
   "cell_type": "markdown",
   "id": "24dd1484-4a1e-47a9-8014-6162826fa424",
   "metadata": {},
   "source": [
    "**Positive** 데이터 세트의 예측 성능에 좀 더 **초점을 맞춘 평가지표**를 살펴보자.<br>\n",
    "ex. 정밀도, 재현율"
   ]
  },
  {
   "cell_type": "markdown",
   "id": "604e02cf-4641-4718-b4d1-3a76ee6ea7bd",
   "metadata": {},
   "source": [
    "-----------"
   ]
  },
  {
   "cell_type": "markdown",
   "id": "72818953-5d72-42b7-950b-aad12209a4e4",
   "metadata": {},
   "source": [
    "## 정밀도(Precision)"
   ]
  },
  {
   "cell_type": "markdown",
   "id": "3bf16876-db1c-4628-b352-42c125e5a9a1",
   "metadata": {},
   "source": [
    "\"양성 예측도\"<br>\n",
    "예측을 positive로 한 대상 중에 예측과 실제 값이 positive인 데이터 비율<br>"
   ]
  },
  {
   "cell_type": "markdown",
   "id": "6663f458-8964-4b02-8abb-a04ec33fe587",
   "metadata": {},
   "source": [
    "$\\frac{TP}{(TP + FP)}$"
   ]
  },
  {
   "cell_type": "code",
   "execution_count": 18,
   "id": "f438e5db-5582-4d9e-9977-48581276a948",
   "metadata": {},
   "outputs": [
    {
     "name": "stdout",
     "output_type": "stream",
     "text": [
      "정밀도: 0.0\n"
     ]
    },
    {
     "name": "stderr",
     "output_type": "stream",
     "text": [
      "C:\\Users\\Min\\anaconda3\\lib\\site-packages\\sklearn\\metrics\\_classification.py:1318: UndefinedMetricWarning: Precision is ill-defined and being set to 0.0 due to no predicted samples. Use `zero_division` parameter to control this behavior.\n",
      "  _warn_prf(average, modifier, msg_start, len(result))\n"
     ]
    }
   ],
   "source": [
    "from sklearn.metrics import precision_score\n",
    "print(\"정밀도:\", precision_score(y_test, fakepred))"
   ]
  },
  {
   "cell_type": "markdown",
   "id": "d2d123e3-667c-45fd-9ccd-9605b5f7af40",
   "metadata": {},
   "source": [
    "> 정밀도가 재현율보다 더 중요한 지표인 경우 : **Negative 음성 데이터를 Positive로 잘못 판단**하는 경우<br>\n",
    "ex. **스팸 메일** 여부를 판단하는 모델 등"
   ]
  },
  {
   "cell_type": "markdown",
   "id": "9a6754fa-6627-45a6-ae3e-330c82b7d044",
   "metadata": {},
   "source": [
    "--------"
   ]
  },
  {
   "cell_type": "markdown",
   "id": "833aae9c-f851-4f8e-93fb-766edc6073af",
   "metadata": {},
   "source": [
    "## 재현율(Recall)"
   ]
  },
  {
   "cell_type": "markdown",
   "id": "6b5f0706-beaf-426d-98e6-581548d219fb",
   "metadata": {},
   "source": [
    "\"**민감도(Sensitivity)** 또는 **TPR(True Positive Rate)**\"<br>\n",
    "실제 값이 positive인 대상 중에 예측과 실제 값이 모두 positive로 일치한 데이터 비율<br>"
   ]
  },
  {
   "cell_type": "markdown",
   "id": "058b7436-d881-4e94-b860-0d0c76143bf2",
   "metadata": {},
   "source": [
    "$\\frac{TP}{(TP + FN)}$"
   ]
  },
  {
   "cell_type": "code",
   "execution_count": 19,
   "id": "b459a795-50db-41cd-96df-c852de8a0f65",
   "metadata": {},
   "outputs": [
    {
     "name": "stdout",
     "output_type": "stream",
     "text": [
      "재현율: 0.0\n"
     ]
    }
   ],
   "source": [
    "from sklearn.metrics import recall_score\n",
    "print(\"재현율:\", recall_score(y_test, fakepred))"
   ]
  },
  {
   "cell_type": "markdown",
   "id": "a367f738-9a34-4d1a-a4f5-e4ce8badbc00",
   "metadata": {},
   "source": [
    "> 정밀도보다 재현울이 중요 지표인 경우 : 실제 **positive 양성 데이터를 Negative로 잘못 판단**하는 경우<br>\n",
    "ex. **암 판단 모델, 보험 사기, 금융 사기** 등"
   ]
  },
  {
   "cell_type": "markdown",
   "id": "7a5bdcae-a881-4ffd-92b1-2ac88142645f",
   "metadata": {},
   "source": [
    "--------"
   ]
  },
  {
   "cell_type": "markdown",
   "id": "e1313344-d25e-4283-ac3f-929939d6b9f9",
   "metadata": {},
   "source": [
    "> 가장 좋은 성능 평가 : 정밀도와 재현율 모두 높은 수치"
   ]
  },
  {
   "cell_type": "markdown",
   "id": "302e5019-a704-412a-bc8e-0b4c873ab84d",
   "metadata": {},
   "source": [
    "정밀도와 재현율 공식을 살펴보면 모두 TP를 높이는 데 동일하기 초점을 맞춤<br>\n",
    "다른 점은 정밀도는 FP를 낮추고, 재현율은 FN을 낮추는 데 초점을 맞춤<br>\n",
    "=> 이 같은 특성 때문에 **정밀도와 재현율은 서로 보완적인 지표**로 분류의 성능을 평가함"
   ]
  },
  {
   "cell_type": "markdown",
   "id": "a43ee079-9696-46fd-95fe-7d9b4c9bf7b0",
   "metadata": {},
   "source": [
    "--------"
   ]
  },
  {
   "cell_type": "markdown",
   "id": "58bcb082-bf4c-4d10-b9d9-043d676fa5d2",
   "metadata": {},
   "source": [
    "참고)"
   ]
  },
  {
   "cell_type": "markdown",
   "id": "a2edff0e-7252-4759-8168-74459e9c5ad7",
   "metadata": {},
   "source": [
    "# LogisticRegression 파라미터 \"solver\""
   ]
  },
  {
   "cell_type": "markdown",
   "id": "ed715fcb-691a-44f7-8dbd-b3cc59da2e2b",
   "metadata": {},
   "source": [
    ": 최적화 알고리즘 유형을 지정하는 인자<br>\n",
    "- **libliner** : 보통 작은 데이터 세트의 이진 분류인 경우에 사용하면 성능이 좋음<br>\n",
    "- **lbfgs** : 기본값으로, 데이터 세트가 상대적으로 크고 다중 분류인 경우에 적합함"
   ]
  },
  {
   "cell_type": "markdown",
   "id": "3c4ca37d-b50e-44d3-926b-64895193fffa",
   "metadata": {},
   "source": [
    "-----------"
   ]
  },
  {
   "cell_type": "markdown",
   "id": "83d278c9-9cd5-4305-8ce0-63d1b5889674",
   "metadata": {},
   "source": [
    "# 정밀도/재현율 트레이드 오프"
   ]
  },
  {
   "cell_type": "markdown",
   "id": "c9186bd8-334c-4727-a1f6-6886b9ef9438",
   "metadata": {},
   "source": [
    "> \"정밀도, 재현율 어느 한 쪽을 강제로 높이면 다른 하나의 수치는 떨어지기 쉬움\""
   ]
  },
  {
   "cell_type": "markdown",
   "id": "b38e1b91-cbd8-424e-8f5a-8d777c1b15ae",
   "metadata": {},
   "source": [
    "업무 특성상 정밀도 또는 재현율이 특별히 강조되어야 할 경우 분류의 결정 임계값(Threshold)을 조정하여 수치를 높일 수 있음<br>\n",
    "하지만 둘은 서로 상호 보완적인 평가 지표이기 때문에 이러한 현상이 발생함"
   ]
  },
  {
   "cell_type": "markdown",
   "id": "a83301bf-589b-47f5-8cda-756ae5c6dfcb",
   "metadata": {},
   "source": [
    "일반적으로 이진 분류에서는 임계값(Threshold)을 0.5, 즉 50%로 정하고 이 기준 값보다 확률이 크면 Positive, 작으면 Negative로 결정함"
   ]
  },
  {
   "cell_type": "markdown",
   "id": "8b359e9a-f1bf-44b6-9095-21f6db3fb620",
   "metadata": {},
   "source": [
    "## predict_proba()"
   ]
  },
  {
   "cell_type": "markdown",
   "id": "68628adf-8d86-4f80-93cf-1d78c8012204",
   "metadata": {},
   "source": [
    ": 각 데이터별 예측 확률을 반환<br>\n",
    "- predict() 메서도와 유사하지만 단지 반환 결과가 예측 결과 클래스값이 아닌 예측 확률 결과임"
   ]
  },
  {
   "cell_type": "code",
   "execution_count": 52,
   "id": "04876fac-2944-4791-bfd8-7824585326c5",
   "metadata": {},
   "outputs": [
    {
     "name": "stdout",
     "output_type": "stream",
     "text": [
      "[[87 10]\n",
      " [26 31]]\n",
      "정확도: 0.7662337662337663, \n",
      "정밀도: 0.7560975609756098, \n",
      "재현율: 0.543859649122807 \n",
      "f1: 0.6326530612244897 \n",
      "AUC: 0.8343280882618918\n"
     ]
    },
    {
     "data": {
      "image/png": "[encoded data removed]",
      "text/plain": [
       "<Figure size 432x288 with 1 Axes>"
      ]
     },
     "metadata": {
      "needs_background": "light"
     },
     "output_type": "display_data"
    }
   ],
   "source": [
    "import numpy as np\n",
    "import pandas as pd\n",
    "import matplotlib.pyplot as plt\n",
    "\n",
    "from sklearn.model_selection import train_test_split\n",
    "from sklearn.metrics import confusion_matrix, accuracy_score, precision_score, recall_score, f1_score, roc_auc_score\n",
    "from sklearn.preprocessing import StandardScaler\n",
    "from sklearn.linear_model import LogisticRegression\n",
    "\n",
    "diabetes = pd.read_csv('diabetes.csv')\n",
    "diabetes\n",
    "\n",
    "diabetes['Outcome'].value_counts()\n",
    "\n",
    "X = diabetes.iloc[:,:-1]\n",
    "y = diabetes.iloc[:,-1]\n",
    "\n",
    "X_train, X_test, y_train, y_test = train_test_split(X, y, test_size=0.2, random_state=156)\n",
    "\n",
    "lr_clf = LogisticRegression(solver = 'liblinear')\n",
    "lr_clf.fit(X_train, y_train)\n",
    "y_pred = lr_clf.predict(X_test)\n",
    "pred_proba = lr_clf.predict_proba(X_test)[:,1]\n",
    "\n",
    "def get_clf_eval2(y_test, y_pred, pred_proba):\n",
    "    confusion = confusion_matrix(y_test, y_pred)\n",
    "    accuracy = accuracy_score(y_test, y_pred)\n",
    "    precision = precision_score(y_test, y_pred)\n",
    "    recall = recall_score(y_test, y_pred)\n",
    "    f1 = f1_score(y_test, y_pred)\n",
    "    roc_auc = roc_auc_score(y_test, pred_proba)\n",
    "    \n",
    "    print(confusion)\n",
    "    print(f'정확도: {accuracy}, \\n정밀도: {precision}, \\n재현율: {recall} \\nf1: {f1} \\nAUC: {roc_auc}')\n",
    "\n",
    "get_clf_eval2(y_test, y_pred, pred_proba)\n",
    "\n",
    "#Glucose 값이 0인것들을 확인해보자\n",
    "plt.hist(diabetes['Glucose'], bins = 100)\n",
    "plt.show()"
   ]
  },
  {
   "cell_type": "code",
   "execution_count": 54,
   "id": "75b6df0e-71be-49aa-8444-cda277d86f0d",
   "metadata": {},
   "outputs": [
    {
     "name": "stdout",
     "output_type": "stream",
     "text": [
      "[[83 14]\n",
      " [25 32]]\n",
      "정확도: 0.7467532467532467, \n",
      "정밀도: 0.6956521739130435, \n",
      "재현율: 0.5614035087719298 \n",
      "f1: 0.6213592233009708 \n",
      "AUC: 0.8303490685476578\n"
     ]
    }
   ],
   "source": [
    "#0을 각 칼럼의 평균으로 대체\n",
    "zero_features = ['Glucose', 'BloodPressure', 'Insulin', 'BMI']\n",
    "diabetes[zero_features] = diabetes[zero_features].replace(0,diabetes[zero_features].mean())\n",
    "\n",
    "#표준화\n",
    "X = diabetes.iloc[:, :-1]\n",
    "y = diabetes.iloc[:, -1]\n",
    "\n",
    "scaler = StandardScaler()\n",
    "X = scaler.fit_transform(X)\n",
    "\n",
    "X_train, X_test, y_train, y_test = train_test_split(X, y, test_size = 0.2, random_state = 156)\n",
    "\n",
    "lr_clf = LogisticRegression(solver = 'liblinear')\n",
    "lr_clf.fit(X_train, y_train)\n",
    "y_pred = lr_clf.predict(X_test)\n",
    "pred_proba = lr_clf.predict_proba(X_test)[:, 1]\n",
    "\n",
    "get_clf_eval2(y_test, y_pred, pred_proba)"
   ]
  },
  {
   "cell_type": "code",
   "execution_count": 55,
   "id": "b3d65eb7-2c25-4d02-92a5-4ce875217813",
   "metadata": {},
   "outputs": [
    {
     "data": {
      "image/png": "[encoded data removed]",
      "text/plain": [
       "<Figure size 576x432 with 1 Axes>"
      ]
     },
     "metadata": {
      "needs_background": "light"
     },
     "output_type": "display_data"
    },
    {
     "name": "stdout",
     "output_type": "stream",
     "text": [
      "[[83 14]\n",
      " [25 32]]\n",
      "정확도: 0.7467532467532467, \n",
      "정밀도: 0.6956521739130435, \n",
      "재현율: 0.5614035087719298 \n",
      "f1: 0.6213592233009708 \n",
      "AUC: 0.8303490685476578\n"
     ]
    }
   ],
   "source": [
    "# ROC 곡선과 AUC\n",
    "\n",
    "import matplotlib.pyplot as plt\n",
    "import matplotlib.ticker as ticker\n",
    "from sklearn.metrics import precision_recall_curve\n",
    "\n",
    "def precision_recall_curve_plot(y_test, pred_proba):\n",
    "    precisions, recalls, thresholds = precision_recall_curve(y_test, pred_proba)\n",
    "    \n",
    "    # X축: 임곗값(thresholds), Y축: 정밀도(precision), 재현율(recall)\n",
    "    plt.figure(figsize=(8,6))\n",
    "    plt.plot(thresholds, precisions[0:len(thresholds)], linestyle='--', label='precision')\n",
    "    plt.plot(thresholds, recalls[0:len(thresholds)], label='recall')\n",
    "    \n",
    "    # threshold 값 X 축의 Scale을 0.1 단위로 변경\n",
    "    start, end = plt.xlim()\n",
    "    plt.xticks(np.round(np.arange(start, end, 0.1),2))\n",
    "    \n",
    "    # x축, y축 label과 legend, 그리고 grid 설정\n",
    "    plt.xlabel('Threshold value'); plt.ylabel('Precision and Recall value')\n",
    "    plt.legend(); plt.grid()\n",
    "    plt.show()\n",
    "\n",
    "precision_recall_curve_plot(y_test, lr_clf.predict_proba(X_test)[:, 1] )\n",
    "\n",
    "get_clf_eval2(y_test, y_pred, pred_proba)"
   ]
  },
  {
   "cell_type": "code",
   "execution_count": 64,
   "id": "b29b4db3-7dd2-48ff-9f17-99a1189e6163",
   "metadata": {},
   "outputs": [
    {
     "name": "stdout",
     "output_type": "stream",
     "text": [
      "[[77 20]\n",
      " [19 38]]\n",
      "정확도: 0.7467532467532467, \n",
      "정밀도: 0.6551724137931034, \n",
      "재현율: 0.6666666666666666 \n",
      "f1: 0.6608695652173913 \n",
      "AUC: 0.8303490685476578\n"
     ]
    }
   ],
   "source": [
    "# 임곗값 바꾸기\n",
    "from sklearn.preprocessing import Binarizer\n",
    "binarizer = Binarizer(threshold=0.36)\n",
    "y_pred = binarizer.fit_transform(pred_proba.reshape(-1,1))\n",
    "get_clf_eval2(y_test, y_pred, pred_proba)"
   ]
  },
  {
   "cell_type": "markdown",
   "id": "254e67e7-a14b-4f28-b098-da7dd29e7626",
   "metadata": {},
   "source": [
    "--------------"
   ]
  },
  {
   "cell_type": "markdown",
   "id": "bedc1414-281d-4ae4-8549-0bbad403ccc4",
   "metadata": {},
   "source": [
    "# F1 스코어"
   ]
  },
  {
   "cell_type": "markdown",
   "id": "ffc75f3d-52a8-43cd-9089-d79d82406f8b",
   "metadata": {},
   "source": [
    "  \n",
    "F1 = 2 * $\\frac{(precision * recall)}{(precision + recall)}$\n",
    "  "
   ]
  },
  {
   "cell_type": "markdown",
   "id": "bbc84a53-f34d-40ea-bdd9-9bc3362906f6",
   "metadata": {},
   "source": [
    ": 정밀도와 재현율을 결합한 지표로, 높을수록 예측 성능 좋음"
   ]
  },
  {
   "cell_type": "code",
   "execution_count": 58,
   "id": "d8e0ba7d-367e-428a-a808-89ec91fd457a",
   "metadata": {},
   "outputs": [],
   "source": [
    "from sklearn.metrics import f1_score"
   ]
  },
  {
   "cell_type": "code",
   "execution_count": 60,
   "id": "38259517-e9f4-4cce-b028-882e8e32aa44",
   "metadata": {},
   "outputs": [],
   "source": [
    "f1 = f1_score(y_test, y_pred)"
   ]
  },
  {
   "cell_type": "code",
   "execution_count": 62,
   "id": "21314c42-4f79-49e6-90d0-d884967c6bc5",
   "metadata": {},
   "outputs": [
    {
     "data": {
      "text/plain": [
       "0.6609"
      ]
     },
     "execution_count": 62,
     "metadata": {},
     "output_type": "execute_result"
    }
   ],
   "source": [
    "np.round(f1, 4)"
   ]
  },
  {
   "cell_type": "markdown",
   "id": "6ff067c0-699a-4f20-96e4-419409fe2113",
   "metadata": {},
   "source": [
    "---------"
   ]
  },
  {
   "cell_type": "markdown",
   "id": "e2bcbe16-c643-4797-ad39-8a6d601e193d",
   "metadata": {},
   "source": [
    "# FPR(False Positive Rate)"
   ]
  },
  {
   "cell_type": "markdown",
   "id": "ea401207-79db-4052-a4ff-c6c40186cdc6",
   "metadata": {},
   "source": [
    "$\\frac{FP}{FP + TN}$"
   ]
  },
  {
   "cell_type": "markdown",
   "id": "5a79a4b3-744f-45e5-b1c2-a3b171dacc1d",
   "metadata": {},
   "source": [
    "<span style=\"color: #2D3748; background-color:#fff5b1;\">**\"1 - TNR\" 또는 \"1 - 특이성\"**</span> 으로 표현함"
   ]
  },
  {
   "cell_type": "markdown",
   "id": "c4d125e5-4310-48b4-9e9c-ffa0410d7311",
   "metadata": {},
   "source": [
    "# TPR(Ture Positive Rate, 재현율, 민감도)"
   ]
  },
  {
   "cell_type": "markdown",
   "id": "0dcb99b2-af78-4512-abfc-d38a91cb9e03",
   "metadata": {},
   "source": [
    "실제 positive 데이터가 정확히 예측되어야 하는 수준을 나타냄"
   ]
  },
  {
   "cell_type": "markdown",
   "id": "3d683027-e99f-4694-92dd-3b380a3e37f2",
   "metadata": {},
   "source": [
    "# TNR (True Negative Rate, 특이성, Specificity)"
   ]
  },
  {
   "cell_type": "markdown",
   "id": "20dc2d3e-37c0-4079-80aa-5eb78c930179",
   "metadata": {},
   "source": [
    "$\\frac{TN}{FP + TN}$"
   ]
  },
  {
   "cell_type": "markdown",
   "id": "2a11f8eb-f164-4b71-9471-1d4d4f65e886",
   "metadata": {},
   "source": [
    "<span style=\"color: #2D3748; background-color:#fff5b1;\">**민감도(재현율)에 대응**하는 지표</span><br>\n",
    "실제 negative 데이터가 정확히 예측 되어야 하는 수준을 나타냄"
   ]
  },
  {
   "cell_type": "markdown",
   "id": "ee6b5b87-28da-4677-b2c4-5e3ca7352a00",
   "metadata": {},
   "source": [
    "---------"
   ]
  },
  {
   "cell_type": "markdown",
   "id": "df7b801a-aa63-49b5-b953-5b7dea93bc2a",
   "metadata": {},
   "source": [
    "# ROC곡선과 AUC"
   ]
  },
  {
   "cell_type": "markdown",
   "id": "215c380b-4165-4079-9220-af742adc4341",
   "metadata": {
    "tags": []
   },
   "source": [
    "이진 분류의 예측 성능 측정에서 중요하게 사용되는 지표"
   ]
  },
  {
   "cell_type": "markdown",
   "id": "cc80a0b2-8949-4312-adfb-c9f74c588de2",
   "metadata": {},
   "source": [
    "## ROC(Receiver Operation Characteristic Curve)"
   ]
  },
  {
   "cell_type": "markdown",
   "id": "d951d69a-dec5-4100-a9c1-711a5a3a6218",
   "metadata": {},
   "source": [
    "수신자 판단 곡선<br>\n",
    "FPR이 변할 때 TPR이 어떻게 변하는지를 나타낸 곡선(X = FPR, Y = TPR)\n",
    "- 가운데 직선(ROC 곡선의 최저값)에 가까워질수록 성능이 떨어지고, 멀어질수록 성능이 뛰어남"
   ]
  },
  {
   "cell_type": "markdown",
   "id": "5832cdc6-1a79-4c73-abf1-f0d133bddf80",
   "metadata": {},
   "source": [
    "> 분류 결정 임곗값(positive 예측값을 결정하는 확률의 기준)"
   ]
  },
  {
   "cell_type": "markdown",
   "id": "9211243b-7280-4e3c-a319-688cbcfa2a48",
   "metadata": {},
   "source": [
    "FPR을 0으로 만들려면? -> 임곗값을 1로 지정<br>\n",
    "임곗값을 1로 지정하면 positive 예측 기준이 매우 높기 때문에 classifier가 임곗값보다 높은 확률을 가진 데이터를 positive로 예측할 수 없음"
   ]
  },
  {
   "cell_type": "markdown",
   "id": "75213168-b0ab-4fac-a4b0-c62dd394ae85",
   "metadata": {},
   "source": [
    "반대로 FPR을 1로 만들려면? -> TN을 0으로 만들면 됨 -> 임곗값을 0으로 지정<br>\n",
    "classifier의 positive 확률 기준이 너무 낮아서 다 positive로 예측하고, negative가 없기 때문에 TN이 0이 됨"
   ]
  },
  {
   "cell_type": "code",
   "execution_count": 65,
   "id": "76c4b3c2-219d-4d84-b8d9-0131bea99196",
   "metadata": {},
   "outputs": [
    {
     "data": {
      "image/png": "[encoded data removed]",
      "text/plain": [
       "<Figure size 432x288 with 1 Axes>"
      ]
     },
     "metadata": {
      "needs_background": "light"
     },
     "output_type": "display_data"
    }
   ],
   "source": [
    "from sklearn.metrics import roc_curve\n",
    "\n",
    "def roc_curve_plot(y_test , pred_proba):\n",
    "    # 임곗값에 따른 FPR, TPR 값을 반환 받음\n",
    "    FPR , TPR , thresholds = roc_curve(y_test ,pred_proba)\n",
    "\n",
    "    # ROC Curve를 plot 곡선으로 그림 \n",
    "    plt.plot(FPR , TPR, label='ROC')\n",
    "    \n",
    "    # 가운데 대각선 직선을 그림 \n",
    "    plt.plot([0, 1], [0, 1], 'k--')\n",
    "    \n",
    "    # FPR X 축의 Scale을 0.1 단위로 변경, X,Y 축명 설정 등   \n",
    "    start, end = plt.xlim()\n",
    "    plt.xticks(np.round(np.arange(start, end, 0.1),2))\n",
    "    plt.xlim(0,1); plt.ylim(0,1)\n",
    "    plt.xlabel('FPR (1 - Specificity)')\n",
    "    plt.ylabel('TPR (Recall)')\n",
    "    plt.legend()\n",
    "    plt.show()\n",
    "    \n",
    "roc_curve_plot(y_test, lr_clf.predict_proba(X_test)[:, 1] )"
   ]
  },
  {
   "cell_type": "markdown",
   "id": "e7306265-e5d0-4a38-af61-e8d38dd17ced",
   "metadata": {},
   "source": [
    "## AUC(Area Under Curve)"
   ]
  },
  {
   "cell_type": "markdown",
   "id": "26c8bfff-b8a0-498c-9304-6d792a9ac0a8",
   "metadata": {},
   "source": [
    ": ROC 곡선 밑의 면적을 구한 것\n",
    "- 일반적으로 1에 가까울수록 좋은 수치\n",
    "- 분류의 성능 지표로 사용\n",
    "- AUC 수치가 커지려면 \"FPR이 작은 상태에서 얼마나 큰 TPR을 얻을 수 있느냐\"가 중요함"
   ]
  },
  {
   "cell_type": "code",
   "execution_count": 68,
   "id": "6acef26f-8117-4bb3-a3fb-96169c90fb6e",
   "metadata": {},
   "outputs": [
    {
     "data": {
      "text/plain": [
       "0.8303490685476578"
      ]
     },
     "execution_count": 68,
     "metadata": {},
     "output_type": "execute_result"
    }
   ],
   "source": [
    "from sklearn.metrics import roc_auc_score\n",
    "\n",
    "pred_proba = lr_clf.predict_proba(X_test)[:, 1]\n",
    "roc_score = roc_auc_score(y_test, pred_proba) # roc auc 값 구하기\n",
    "roc_score"
   ]
  },
  {
   "cell_type": "markdown",
   "id": "2399cd47-ae55-4bea-83bf-60841aabc865",
   "metadata": {},
   "source": [
    "--------------"
   ]
  }
 ],
 "metadata": {
  "kernelspec": {
   "display_name": "Python 3 (ipykernel)",
   "language": "python",
   "name": "python3"
  },
  "language_info": {
   "codemirror_mode": {
    "name": "ipython",
    "version": 3
   },
   "file_extension": ".py",
   "mimetype": "text/x-python",
   "name": "python",
   "nbconvert_exporter": "python",
   "pygments_lexer": "ipython3",
   "version": "3.9.12"
  },
  "toc-autonumbering": false
 },
 "nbformat": 4,
 "nbformat_minor": 5
}

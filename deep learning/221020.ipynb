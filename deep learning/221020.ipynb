{
 "cells": [
  {
   "cell_type": "markdown",
   "id": "26e066d8-b95f-485a-9799-ee31665c754b",
   "metadata": {},
   "source": [
    "# 복습문제"
   ]
  },
  {
   "cell_type": "markdown",
   "id": "02d786a8-41a5-468f-a7df-2963e44dcb0d",
   "metadata": {},
   "source": [
    "> 다항 회귀의 차수를 높일수록 과적합의 문제가 크게 발생한다? o/x"
   ]
  },
  {
   "cell_type": "markdown",
   "id": "fbdc8b47-8bac-464c-99cc-d2f92b4c34c2",
   "metadata": {},
   "source": [
    "o"
   ]
  },
  {
   "cell_type": "markdown",
   "id": "019a6560-b0e9-4e53-a9e9-3783e64b7b3f",
   "metadata": {},
   "source": [
    "> 편향-분산 트레이드오프에서 일반적으로 편향과 분산을 한 쪽이 높아져도 다른 한 쪽은 영향을 받지 않는다? o/x"
   ]
  },
  {
   "cell_type": "markdown",
   "id": "6ec16636-2e33-4dcf-b3b9-a50888538862",
   "metadata": {},
   "source": [
    "x"
   ]
  },
  {
   "cell_type": "markdown",
   "id": "c32c6feb-0b83-451c-9168-139422b35361",
   "metadata": {},
   "source": [
    "> 이 규제를 적용하면 영향력이 크지 않은 회귀 계수 값을 0으로 변환한다. 이 규제는?"
   ]
  },
  {
   "cell_type": "markdown",
   "id": "c9c46c6e-bc99-4d18-b6ee-2fb54dc1c054",
   "metadata": {},
   "source": [
    "L1 규제"
   ]
  },
  {
   "cell_type": "markdown",
   "id": "a0800774-8a05-46f3-8c1c-f71eab929198",
   "metadata": {},
   "source": [
    "> 분류와 회귀의 큰 차이는 분류의 예측값은 _____ 이고, 회귀의 예측값은 ______ 이라는 것이다."
   ]
  },
  {
   "cell_type": "markdown",
   "id": "5a9d2f9e-dbed-4612-a3e5-c6f01aaad225",
   "metadata": {},
   "source": [
    "카테고리형(범주형), 연속된 숫자형"
   ]
  },
  {
   "cell_type": "markdown",
   "id": "d0d93eaf-2e9e-40b9-888c-fe1347c8b51b",
   "metadata": {},
   "source": [
    "> 회귀에서 학습이 얼마나 잘 되었는가를 평가하는 지표는 무엇인가?"
   ]
  },
  {
   "cell_type": "markdown",
   "id": "90b9dc8e-4a2f-48cf-9408-0daa0aeb2a18",
   "metadata": {},
   "source": [
    "MAE, MSE, RMSE"
   ]
  },
  {
   "cell_type": "markdown",
   "id": "055feaaa-5e31-45a2-aeb4-956a4bd2f264",
   "metadata": {},
   "source": [
    "> MAE와 MSE를 수식으로 표현하면?"
   ]
  },
  {
   "cell_type": "markdown",
   "id": "7c6465a0-1b4b-49de-bd0d-7c18c619b182",
   "metadata": {},
   "source": [
    "MAE(Mean Absolute Error) : $\\frac{1}{n} \\sum_{i=1}^n \\vert Y_{i} - \\hat Y_{i} \\vert$ <br>\n",
    "MSE(Mean Squared Error) : $\\frac{1}{n} \\sum_{i=1}^n ( Y_{i} - \\hat Y_{i} )^2$"
   ]
  },
  {
   "cell_type": "code",
   "execution_count": 1,
   "id": "0efe8a5f-fd60-4948-8102-d6b2b8c6ded1",
   "metadata": {},
   "outputs": [
    {
     "data": {
      "text/plain": [
       "<AxesSubplot:>"
      ]
     },
     "execution_count": 1,
     "metadata": {},
     "output_type": "execute_result"
    },
    {
     "data": {
      "image/png": "[encoded data removed]",
      "text/plain": [
       "<Figure size 432x288 with 1 Axes>"
      ]
     },
     "metadata": {
      "needs_background": "light"
     },
     "output_type": "display_data"
    }
   ],
   "source": [
    "from sklearn.preprocessing import PolynomialFeatures\n",
    "import numpy as np\n",
    "import seaborn as sns\n",
    "from sklearn.linear_model import LinearRegression\n",
    "\n",
    "X = np.arange(-10, 10)\n",
    "y = 1 + 4*X + X**2 + np.random.randn(20)\n",
    "\n",
    "sns.scatterplot(x = X, y = y)"
   ]
  },
  {
   "cell_type": "markdown",
   "id": "1339a963-dbc1-41b9-b0be-45f470fdbe5a",
   "metadata": {},
   "source": [
    "poly_ftr = PolynomialFeatures(degree = 2).fit_transform(X.reshape(-1, 1))\n",
    "\n",
    "lr = LinearRegression()\n",
    "lr.fit\n",
    "(poly_ftr, y)\n",
    "\n",
    "print(lr.coef_, lr.intercept_)"
   ]
  },
  {
   "cell_type": "markdown",
   "id": "d6a6df17-9a22-4130-baef-c27a64491c93",
   "metadata": {},
   "source": [
    "> LinearRegression클래스는 예측값과 실제값의 RSS(잔차 제곱의 합)을 최소화하여  \n",
    "Ordinary Least Squares(일명, OLS)추정 방식으로 구현한 클래스이다.  \n",
    "OLS 기반의 회귀 계수 계산은 피처의 독립성에 많은 영향을 받는데,  \n",
    "피처간의 (    )가 매우 높은 경우 오류에 매우 민감해진다.  \n",
    "이러한 현상을 다중 공선성(multi-collinearity)이라 하며,  \n",
    "이와같은 경우 (    )한 피처만 남기고 제거하거나 (   )를 적용한다. "
   ]
  },
  {
   "cell_type": "markdown",
   "id": "0ff48f7b-c863-4e34-922f-72d1b9cd27f8",
   "metadata": {},
   "source": [
    "상관관계, 중요한, PCA를 이용한 규제"
   ]
  },
  {
   "cell_type": "markdown",
   "id": "9881850e-5f2e-4f2d-9847-516d6adcb857",
   "metadata": {},
   "source": [
    "회귀모델에서 MAE, MSE, RMSE 의 평가지표는 수치가 낮을수록 잘 예측했다고 표현할 수 있다."
   ]
  },
  {
   "cell_type": "markdown",
   "id": "1edef946-14cc-424a-a3c6-c2b21fe46473",
   "metadata": {},
   "source": [
    "로지스틱 회귀는 회귀라는 이름이 붙어 있지만, 사실은 분류에 사용되는 선형 모델이다."
   ]
  },
  {
   "cell_type": "markdown",
   "id": "31f4c6ca-07bb-4c7c-b3e7-7c9846bfbfef",
   "metadata": {},
   "source": [
    "> 릿지 회귀는 ALPHA 값을 계속 증가시키면 회귀계수 값은 작아진다? O/X"
   ]
  },
  {
   "cell_type": "markdown",
   "id": "08ae36b5-13b8-4afb-af4d-7b40d3e7dc81",
   "metadata": {},
   "source": [
    "O"
   ]
  },
  {
   "cell_type": "markdown",
   "id": "347bbe9c-7b0c-41d0-984d-36e3785d6ffb",
   "metadata": {},
   "source": [
    "> 편향-분산 트레이드오프란?"
   ]
  },
  {
   "cell_type": "markdown",
   "id": "44069b6f-417b-4608-9d15-0654c5919e5d",
   "metadata": {},
   "source": []
  },
  {
   "cell_type": "markdown",
   "id": "567dfb4d-687a-4be4-8a79-a8271c131b1e",
   "metadata": {},
   "source": [
    "> 오류를 최소화 하려면 편향이 높고 분산이 낮으면 된다?"
   ]
  },
  {
   "cell_type": "markdown",
   "id": "b06f6bfc-70ae-4a1a-b171-64649f56c7f1",
   "metadata": {},
   "source": [
    "x"
   ]
  },
  {
   "cell_type": "markdown",
   "id": "a97c79c4-cb28-4123-ae92-253eb029a679",
   "metadata": {},
   "source": [
    "> 선형회귀에 L2 규제를 추가해 상대적으로 큰 회귀 계수 값의 예측 영향도가 감소된 모델은 무엇인가?"
   ]
  },
  {
   "cell_type": "markdown",
   "id": "39db76a7-4f1a-4b0f-8b66-1de8c0699bad",
   "metadata": {},
   "source": [
    "릿지(Ridge)"
   ]
  },
  {
   "cell_type": "markdown",
   "id": "1f0ed7c9-2d87-46e7-9805-9f9cd77c91e0",
   "metadata": {},
   "source": [
    "> 비용함수에 alpha값으로 페널티를 부여해 회귀 계수 값의 크기를 감소시켜 과적합을 개선하는 방식을 무엇이라 하는가?"
   ]
  },
  {
   "cell_type": "markdown",
   "id": "34354b2c-2205-4a02-8481-6ce94e28c9bf",
   "metadata": {},
   "source": [
    "규제"
   ]
  }
 ],
 "metadata": {
  "kernelspec": {
   "display_name": "Python 3 (ipykernel)",
   "language": "python",
   "name": "python3"
  },
  "language_info": {
   "codemirror_mode": {
    "name": "ipython",
    "version": 3
   },
   "file_extension": ".py",
   "mimetype": "text/x-python",
   "name": "python",
   "nbconvert_exporter": "python",
   "pygments_lexer": "ipython3",
   "version": "3.9.12"
  }
 },
 "nbformat": 4,
 "nbformat_minor": 5
}

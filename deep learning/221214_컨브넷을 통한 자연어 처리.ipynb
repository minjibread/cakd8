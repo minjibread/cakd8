{
 "cells": [
  {
   "cell_type": "markdown",
   "id": "c3273fe8-e9cc-4037-bbeb-06d7bbcae3de",
   "metadata": {},
   "source": [
    "# 1D 컨브넷\n",
    "- Conv1D 층을 사용하여 구현, Conv2D와 인터페이스가 비슷함\n",
    "- (samples, timestep, features) 크기의 3D 텐서를 입력 받고 비슷한 형태의 3D 텐서를 반환함\n",
    "- 합성곱 윈도는 시간 측의 1D 윈도이며, 입력텐서의 두 번째 축임 "
   ]
  },
  {
   "cell_type": "code",
   "execution_count": 2,
   "id": "848f1864-dc06-4e63-8541-5bdd29844fe7",
   "metadata": {},
   "outputs": [],
   "source": [
    "from keras.datasets import imdb\n",
    "from tensorflow.keras.preprocessing import sequence"
   ]
  },
  {
   "cell_type": "code",
   "execution_count": 5,
   "id": "de85fdca-9171-4237-b31c-7152e9656923",
   "metadata": {},
   "outputs": [
    {
     "name": "stdout",
     "output_type": "stream",
     "text": [
      "25000 25000\n"
     ]
    }
   ],
   "source": [
    "max_features = 10000\n",
    "maxlen = 500\n",
    "\n",
    "(x_train, y_train), (x_test, y_test) = imdb.load_data(num_words=max_features)\n",
    "\n",
    "print(len(x_train), len(x_test))"
   ]
  },
  {
   "cell_type": "code",
   "execution_count": 6,
   "id": "254a7d17-bd0e-4461-8430-cdba2621b5c2",
   "metadata": {},
   "outputs": [],
   "source": [
    "x_train = sequence.pad_sequences(x_train, maxlen=maxlen)\n",
    "x_test = sequence.pad_sequences(x_test, maxlen=maxlen)"
   ]
  },
  {
   "cell_type": "code",
   "execution_count": 7,
   "id": "fdc717da-3017-4858-a488-1df5cda32890",
   "metadata": {},
   "outputs": [
    {
     "data": {
      "text/plain": [
       "(25000, 500)"
      ]
     },
     "execution_count": 7,
     "metadata": {},
     "output_type": "execute_result"
    }
   ],
   "source": [
    "x_train.shape"
   ]
  },
  {
   "cell_type": "code",
   "execution_count": 8,
   "id": "3a25c482-fb86-4c4e-8a32-a652f85d12d6",
   "metadata": {},
   "outputs": [
    {
     "data": {
      "text/plain": [
       "(25000, 500)"
      ]
     },
     "execution_count": 8,
     "metadata": {},
     "output_type": "execute_result"
    }
   ],
   "source": [
    "x_test.shape"
   ]
  },
  {
   "cell_type": "code",
   "execution_count": 9,
   "id": "5386866c-c46b-4b63-b690-e3517d680634",
   "metadata": {},
   "outputs": [],
   "source": [
    "from keras.models import Sequential\n",
    "from keras import layers\n",
    "from keras.optimizers import RMSprop"
   ]
  },
  {
   "cell_type": "code",
   "execution_count": 23,
   "id": "d619801a-d7b4-492c-ad17-a7505e7b7c71",
   "metadata": {},
   "outputs": [
    {
     "name": "stdout",
     "output_type": "stream",
     "text": [
      "Model: \"sequential_8\"\n",
      "_________________________________________________________________\n",
      " Layer (type)                Output Shape              Param #   \n",
      "=================================================================\n",
      " embedding_8 (Embedding)     (None, 500, 128)          1280000   \n",
      "                                                                 \n",
      " conv1d_16 (Conv1D)          (None, 494, 32)           28704     \n",
      "                                                                 \n",
      " max_pooling1d_13 (MaxPoolin  (None, 98, 32)           0         \n",
      " g1D)                                                            \n",
      "                                                                 \n",
      " conv1d_17 (Conv1D)          (None, 92, 32)            7200      \n",
      "                                                                 \n",
      " global_max_pooling1d_2 (Glo  (None, 32)               0         \n",
      " balMaxPooling1D)                                                \n",
      "                                                                 \n",
      " dense_7 (Dense)             (None, 1)                 33        \n",
      "                                                                 \n",
      "=================================================================\n",
      "Total params: 1,315,937\n",
      "Trainable params: 1,315,937\n",
      "Non-trainable params: 0\n",
      "_________________________________________________________________\n"
     ]
    }
   ],
   "source": [
    "model = Sequential()\n",
    "model.add(layers.Embedding(max_features, 128, input_length=maxlen))\n",
    "model.add(layers.Conv1D(filters=32, kernel_size=7, activation='relu'))\n",
    "model.add(layers.MaxPooling1D(pool_size=5))\n",
    "model.add(layers.Conv1D(filters=32, kernel_size=7, activation='relu'))\n",
    "model.add(layers.GlobalMaxPooling1D()) # Flatten 함수 대신 사용\n",
    "model.add(layers.Dense(units=1))\n",
    "\n",
    "model.summary()"
   ]
  },
  {
   "cell_type": "code",
   "execution_count": 30,
   "id": "d1fa82e8-5853-423b-9bbc-9a6fbf31d7e7",
   "metadata": {},
   "outputs": [
    {
     "name": "stdout",
     "output_type": "stream",
     "text": [
      "Epoch 1/10\n",
      "157/157 [==============================] - 39s 236ms/step - loss: 0.2707 - acc: 0.9275 - val_loss: 0.5500 - val_acc: 0.8622\n",
      "Epoch 2/10\n",
      "157/157 [==============================] - 38s 240ms/step - loss: 0.1886 - acc: 0.9567 - val_loss: 0.7439 - val_acc: 0.8542\n",
      "Epoch 3/10\n",
      "157/157 [==============================] - 36s 227ms/step - loss: 0.1431 - acc: 0.9744 - val_loss: 0.6534 - val_acc: 0.8794\n",
      "Epoch 4/10\n",
      "157/157 [==============================] - 37s 237ms/step - loss: 0.1091 - acc: 0.9869 - val_loss: 1.1876 - val_acc: 0.8388\n",
      "Epoch 5/10\n",
      "157/157 [==============================] - 37s 233ms/step - loss: 0.0935 - acc: 0.9914 - val_loss: 1.0221 - val_acc: 0.8660\n",
      "Epoch 6/10\n",
      "157/157 [==============================] - 35s 223ms/step - loss: 0.0823 - acc: 0.9931 - val_loss: 0.9396 - val_acc: 0.8744\n",
      "Epoch 7/10\n",
      "157/157 [==============================] - 34s 219ms/step - loss: 0.0786 - acc: 0.9933 - val_loss: 1.3047 - val_acc: 0.8506\n",
      "Epoch 8/10\n",
      "157/157 [==============================] - 38s 239ms/step - loss: 0.0759 - acc: 0.9938 - val_loss: 1.0240 - val_acc: 0.8740\n",
      "Epoch 9/10\n",
      "157/157 [==============================] - 35s 225ms/step - loss: 0.0748 - acc: 0.9934 - val_loss: 1.1653 - val_acc: 0.8684\n",
      "Epoch 10/10\n",
      "157/157 [==============================] - 37s 233ms/step - loss: 0.0731 - acc: 0.9942 - val_loss: 1.1663 - val_acc: 0.8704\n"
     ]
    },
    {
     "data": {
      "text/plain": [
       "<keras.callbacks.History at 0x194b51b7a60>"
      ]
     },
     "execution_count": 30,
     "metadata": {},
     "output_type": "execute_result"
    }
   ],
   "source": [
    "import tensorflow as tf\n",
    "\n",
    "model.compile(optimizer=tf.keras.optimizers.RMSprop(learning_rate=0.001),\n",
    "              loss='binary_crossentropy',\n",
    "              metrics='acc')\n",
    "\n",
    "model.fit(x_train, y_train, epochs = 10,\n",
    "         batch_size=128, validation_split=0.2)"
   ]
  },
  {
   "cell_type": "code",
   "execution_count": null,
   "id": "7f781f96-5995-4ae6-878d-83bb14f21053",
   "metadata": {},
   "outputs": [],
   "source": [
    "import matplotlib.pyplot as plt\n",
    "\n",
    "acc = history.history['acc']\n",
    "val_acc = history.history['val_acc']\n",
    "loss = history.history['loss']\n",
    "val_loss = history.history['val_loss']\n",
    "\n",
    "epochs = range(1, len(acc) + 1)\n",
    "\n",
    "plt.plot(epochs, acc, 'bo', label='Training acc')\n",
    "plt.plot(epochs, val_acc, 'b', label='Validation acc')\n",
    "plt.title('Training and validation accuracy')\n",
    "plt.legend()\n",
    "\n",
    "plt.figure()\n",
    "\n",
    "plt.plot(epochs, loss, 'bo', label='Training loss')\n",
    "plt.plot(epochs, val_loss, 'b', label='Validation loss')\n",
    "plt.title('Training and validation loss')\n",
    "plt.legend()\n",
    "\n",
    "plt.show()"
   ]
  },
  {
   "cell_type": "markdown",
   "id": "92f106d0-4769-474e-b95d-fb2388eea085",
   "metadata": {},
   "source": [
    "## 정리\n",
    "- 검증 정확도는 LSRM(약 0.89)보다 조금 낮지만, CPU와 GPU에서 더 빠르게 실행됨\n",
    "- 아는 단어 수준의 감성 분류 작업에 순환 네트워크를 대신하여 빠르고 경제적인 1D 컨브넷을 사용할 수 있음"
   ]
  }
 ],
 "metadata": {
  "kernelspec": {
   "display_name": "Python 3 (ipykernel)",
   "language": "python",
   "name": "python3"
  },
  "language_info": {
   "codemirror_mode": {
    "name": "ipython",
    "version": 3
   },
   "file_extension": ".py",
   "mimetype": "text/x-python",
   "name": "python",
   "nbconvert_exporter": "python",
   "pygments_lexer": "ipython3",
   "version": "3.9.12"
  }
 },
 "nbformat": 4,
 "nbformat_minor": 5
}

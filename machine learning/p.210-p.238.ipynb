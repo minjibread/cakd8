{
 "cells": [
  {
   "cell_type": "markdown",
   "id": "f0c2b1ef-a7b1-43bd-a29b-e6f24b59807f",
   "metadata": {
    "tags": []
   },
   "source": [
    "# 앙상블(Ensemble)"
   ]
  },
  {
   "cell_type": "markdown",
   "id": "d2092778-b30c-4800-9499-af82d97b6207",
   "metadata": {},
   "source": [
    ": <span style='background-color: #ffdce0'>**여러 개**</span>의 **분류기 생성** -> 그 <span style='background-color: #ffdce0'>**예측**</span>을 **결합** -> 보다 정확한 최종 예측 도출  \n",
    "<br>\n",
    "<span style=\"color: red\">**\"집단 지성\"**</span>"
   ]
  },
  {
   "cell_type": "markdown",
   "id": "db9fd365-0518-4fcd-958e-1fa85aac9abc",
   "metadata": {},
   "source": [
    "## 유형"
   ]
  },
  {
   "cell_type": "markdown",
   "id": "f524324d-de58-495f-9900-96fe2b0e3433",
   "metadata": {},
   "source": [
    "1. Voting - Hard Votinf, Soft Voting\n",
    "2. Bagging - RandomForest\n",
    "3. Boosting - AdaBoost, Gradient Boost, XGBoost(eXtra Gradient Boost), LightGBM(Light Gradient Boost)\n",
    "4. Stacking 등"
   ]
  },
  {
   "cell_type": "markdown",
   "id": "8ee4a43a-e967-426e-a798-92aab48ebf08",
   "metadata": {},
   "source": [
    "## Voting vs Bagging"
   ]
  },
  {
   "cell_type": "markdown",
   "id": "b9817845-ee49-4e34-9f8c-b3a0f1ca046e",
   "metadata": {},
   "source": [
    "두 방식 모두 **최종 예측 결과**를 **투표**를 통해 결정함"
   ]
  },
  {
   "cell_type": "markdown",
   "id": "44851de8-b545-4ba7-a2b9-ea883fc4c1a8",
   "metadata": {},
   "source": [
    "| Voting                                                              | Bagging                                                                    |\n",
    "|---------------------------------------------------------------------|----------------------------------------------------------------------------|\n",
    "|  전체 데이터 세트를 **서로 다른** 알고리즘을 가진 분류기로 학습을 수행함|서로 다른 샘플링된 데이터 세트를 **같은** 알고리즘을 가진 분류기로 학습을 수행함|"
   ]
  },
  {
   "cell_type": "markdown",
   "id": "b06149b8-9e21-4422-bf94-443255850731",
   "metadata": {},
   "source": [
    "<p align=\"center\"><img src=\"./bagging.png\"></p>"
   ]
  },
  {
   "cell_type": "markdown",
   "id": "d9c8be39-dd63-4025-8685-f4e63bbfc268",
   "metadata": {},
   "source": [
    "**Bagging**은 <span style='background-color: #ffdce0'>**부트스트래핑(Bootstrapping)**</span> 분할 방식을 사용함  \n",
    "          **: 원본 학습 데이터를 샘플링** -> **추출** -> **개별 분류기의 학습데이터로 할당**  \n",
    "          "
   ]
  },
  {
   "cell_type": "markdown",
   "id": "20ad771b-3bcf-4497-bda5-a9a29e494cf0",
   "metadata": {},
   "source": [
    "## 교차 검증 vs Bagging"
   ]
  },
  {
   "cell_type": "markdown",
   "id": "ae37b88c-5e63-4b6d-a494-af122e39a891",
   "metadata": {},
   "source": [
    "교차 검증은 데이터 세트 간에 중첩을 허용하지 않음  \n",
    "**배깅은 데이터 세트 간 <span style='background-color: #ffdce0'>중첩</span>을 허용**함"
   ]
  },
  {
   "cell_type": "markdown",
   "id": "a7eefe26-0d21-45a8-8415-01465d667cd1",
   "metadata": {},
   "source": [
    "## Voting 유형"
   ]
  },
  {
   "cell_type": "markdown",
   "id": "c34c9142-dd72-4539-814a-b6ad3c92b67b",
   "metadata": {},
   "source": [
    "### Hard Voting"
   ]
  },
  {
   "cell_type": "markdown",
   "id": "54757f67-745a-485d-9eed-aa34fa656061",
   "metadata": {},
   "source": [
    ": 예측 결과값을 <span style=\"color: #2D3748; background-color:#fff5b1;\">**다수결**</span>로 최종 보팅 결과값으로 결정 / default 값"
   ]
  },
  {
   "cell_type": "markdown",
   "id": "b80ae227-99ea-4cb5-8bd3-98481d8cec55",
   "metadata": {},
   "source": [
    "### Soft Voting "
   ]
  },
  {
   "cell_type": "markdown",
   "id": "8be55954-8674-47c9-a441-e6df7168f1be",
   "metadata": {},
   "source": [
    ": 예측 결과값 간 **확률을 모두 더해 이를 평균**하여 <span style=\"color: #2D3748; background-color:#fff5b1;\">**확률이 가장 높은 값**</span>을 최종 보팅 결과값으로 결정"
   ]
  },
  {
   "cell_type": "markdown",
   "id": "e778dddb-5f8d-42da-ae50-58a5d2a2c508",
   "metadata": {},
   "source": [
    "<p align=\"center\"><img src=\"./voting.png\"></p>"
   ]
  },
  {
   "cell_type": "markdown",
   "id": "e82703e5-081e-4ca5-8f8d-aa007b510774",
   "metadata": {},
   "source": [
    "=> 일반적으로 하드 보팅보다는 **소프트 보팅**이 **예측 성능이 좋아** 더 많이 사용됨"
   ]
  },
  {
   "cell_type": "markdown",
   "id": "4f60f17a-e49a-47c7-840a-a8c2a4712e5d",
   "metadata": {},
   "source": [
    "## Voting Classifier, 보팅 분류기"
   ]
  },
  {
   "cell_type": "markdown",
   "id": "73dd7a82-6a96-4077-b7ae-6e9e396b7082",
   "metadata": {},
   "source": [
    "**주요 생성 인자 : estimators, voting**"
   ]
  },
  {
   "cell_type": "markdown",
   "id": "e9a391a0-115b-411a-b8a2-20e60e46c58f",
   "metadata": {},
   "source": [
    "> 위스콘신 유방암 데이터 세트를 예측 분석해보자"
   ]
  },
  {
   "cell_type": "code",
   "execution_count": 1,
   "id": "348d1029-d7ac-4af7-b492-83946fc48ab0",
   "metadata": {},
   "outputs": [],
   "source": [
    "import pandas as pd\n",
    "from sklearn.ensemble import VotingClassifier\n",
    "from sklearn.linear_model import LogisticRegression\n",
    "from sklearn.neighbors import KNeighborsClassifier\n",
    "from sklearn.datasets import load_breast_cancer\n",
    "from sklearn.model_selection import train_test_split\n",
    "from sklearn.metrics import accuracy_score"
   ]
  },
  {
   "cell_type": "code",
   "execution_count": 2,
   "id": "60378243-8674-4ec9-aa1a-d33c7cae8c31",
   "metadata": {},
   "outputs": [],
   "source": [
    "cancer = load_breast_cancer()"
   ]
  },
  {
   "cell_type": "code",
   "execution_count": 4,
   "id": "f88cb8c1-04ac-4362-98c8-7ba67cd103b4",
   "metadata": {},
   "outputs": [
    {
     "data": {
      "text/html": [
       "<div>\n",
       "<style scoped>\n",
       "    .dataframe tbody tr th:only-of-type {\n",
       "        vertical-align: middle;\n",
       "    }\n",
       "\n",
       "    .dataframe tbody tr th {\n",
       "        vertical-align: top;\n",
       "    }\n",
       "\n",
       "    .dataframe thead th {\n",
       "        text-align: right;\n",
       "    }\n",
       "</style>\n",
       "<table border=\"1\" class=\"dataframe\">\n",
       "  <thead>\n",
       "    <tr style=\"text-align: right;\">\n",
       "      <th></th>\n",
       "      <th>mean radius</th>\n",
       "      <th>mean texture</th>\n",
       "      <th>mean perimeter</th>\n",
       "      <th>mean area</th>\n",
       "      <th>mean smoothness</th>\n",
       "      <th>mean compactness</th>\n",
       "      <th>mean concavity</th>\n",
       "      <th>mean concave points</th>\n",
       "      <th>mean symmetry</th>\n",
       "      <th>mean fractal dimension</th>\n",
       "      <th>...</th>\n",
       "      <th>worst radius</th>\n",
       "      <th>worst texture</th>\n",
       "      <th>worst perimeter</th>\n",
       "      <th>worst area</th>\n",
       "      <th>worst smoothness</th>\n",
       "      <th>worst compactness</th>\n",
       "      <th>worst concavity</th>\n",
       "      <th>worst concave points</th>\n",
       "      <th>worst symmetry</th>\n",
       "      <th>worst fractal dimension</th>\n",
       "    </tr>\n",
       "  </thead>\n",
       "  <tbody>\n",
       "    <tr>\n",
       "      <th>0</th>\n",
       "      <td>17.99</td>\n",
       "      <td>10.38</td>\n",
       "      <td>122.8</td>\n",
       "      <td>1001.0</td>\n",
       "      <td>0.11840</td>\n",
       "      <td>0.27760</td>\n",
       "      <td>0.3001</td>\n",
       "      <td>0.14710</td>\n",
       "      <td>0.2419</td>\n",
       "      <td>0.07871</td>\n",
       "      <td>...</td>\n",
       "      <td>25.38</td>\n",
       "      <td>17.33</td>\n",
       "      <td>184.6</td>\n",
       "      <td>2019.0</td>\n",
       "      <td>0.1622</td>\n",
       "      <td>0.6656</td>\n",
       "      <td>0.7119</td>\n",
       "      <td>0.2654</td>\n",
       "      <td>0.4601</td>\n",
       "      <td>0.11890</td>\n",
       "    </tr>\n",
       "    <tr>\n",
       "      <th>1</th>\n",
       "      <td>20.57</td>\n",
       "      <td>17.77</td>\n",
       "      <td>132.9</td>\n",
       "      <td>1326.0</td>\n",
       "      <td>0.08474</td>\n",
       "      <td>0.07864</td>\n",
       "      <td>0.0869</td>\n",
       "      <td>0.07017</td>\n",
       "      <td>0.1812</td>\n",
       "      <td>0.05667</td>\n",
       "      <td>...</td>\n",
       "      <td>24.99</td>\n",
       "      <td>23.41</td>\n",
       "      <td>158.8</td>\n",
       "      <td>1956.0</td>\n",
       "      <td>0.1238</td>\n",
       "      <td>0.1866</td>\n",
       "      <td>0.2416</td>\n",
       "      <td>0.1860</td>\n",
       "      <td>0.2750</td>\n",
       "      <td>0.08902</td>\n",
       "    </tr>\n",
       "    <tr>\n",
       "      <th>2</th>\n",
       "      <td>19.69</td>\n",
       "      <td>21.25</td>\n",
       "      <td>130.0</td>\n",
       "      <td>1203.0</td>\n",
       "      <td>0.10960</td>\n",
       "      <td>0.15990</td>\n",
       "      <td>0.1974</td>\n",
       "      <td>0.12790</td>\n",
       "      <td>0.2069</td>\n",
       "      <td>0.05999</td>\n",
       "      <td>...</td>\n",
       "      <td>23.57</td>\n",
       "      <td>25.53</td>\n",
       "      <td>152.5</td>\n",
       "      <td>1709.0</td>\n",
       "      <td>0.1444</td>\n",
       "      <td>0.4245</td>\n",
       "      <td>0.4504</td>\n",
       "      <td>0.2430</td>\n",
       "      <td>0.3613</td>\n",
       "      <td>0.08758</td>\n",
       "    </tr>\n",
       "  </tbody>\n",
       "</table>\n",
       "<p>3 rows × 30 columns</p>\n",
       "</div>"
      ],
      "text/plain": [
       "   mean radius  mean texture  mean perimeter  mean area  mean smoothness  \\\n",
       "0        17.99         10.38           122.8     1001.0          0.11840   \n",
       "1        20.57         17.77           132.9     1326.0          0.08474   \n",
       "2        19.69         21.25           130.0     1203.0          0.10960   \n",
       "\n",
       "   mean compactness  mean concavity  mean concave points  mean symmetry  \\\n",
       "0           0.27760          0.3001              0.14710         0.2419   \n",
       "1           0.07864          0.0869              0.07017         0.1812   \n",
       "2           0.15990          0.1974              0.12790         0.2069   \n",
       "\n",
       "   mean fractal dimension  ...  worst radius  worst texture  worst perimeter  \\\n",
       "0                 0.07871  ...         25.38          17.33            184.6   \n",
       "1                 0.05667  ...         24.99          23.41            158.8   \n",
       "2                 0.05999  ...         23.57          25.53            152.5   \n",
       "\n",
       "   worst area  worst smoothness  worst compactness  worst concavity  \\\n",
       "0      2019.0            0.1622             0.6656           0.7119   \n",
       "1      1956.0            0.1238             0.1866           0.2416   \n",
       "2      1709.0            0.1444             0.4245           0.4504   \n",
       "\n",
       "   worst concave points  worst symmetry  worst fractal dimension  \n",
       "0                0.2654          0.4601                  0.11890  \n",
       "1                0.1860          0.2750                  0.08902  \n",
       "2                0.2430          0.3613                  0.08758  \n",
       "\n",
       "[3 rows x 30 columns]"
      ]
     },
     "execution_count": 4,
     "metadata": {},
     "output_type": "execute_result"
    }
   ],
   "source": [
    "data_df = pd.DataFrame(data = cancer.data, columns = cancer.feature_names)\n",
    "data_df[:3]"
   ]
  },
  {
   "cell_type": "code",
   "execution_count": 5,
   "id": "ca0a4f90-0853-46a6-8685-8a5b0618219d",
   "metadata": {},
   "outputs": [],
   "source": [
    "# 개별 모델은 로지스틱 회귀와 KNN 사용\n",
    "lr_clf = LogisticRegression(solver = 'liblinear')\n",
    "knn_clf = KNeighborsClassifier(n_neighbors = 8)"
   ]
  },
  {
   "cell_type": "code",
   "execution_count": 16,
   "id": "fcac72cd-11e3-4e06-99db-e0afb8a1ea20",
   "metadata": {},
   "outputs": [],
   "source": [
    "# 개별 모델은 소프트 보팅 기반 앙상블 모델로 구현한 분류기\n",
    "vo_clf = VotingClassifier(estimators = [('LR', lr_clf), ('KNN', knn_clf)], voting = 'soft')\n",
    "\n",
    "# estimators는 리스트 값으로 보팅에 사용될 여러 개의 분류기 객체들을 튜플 형식으로 입력받음"
   ]
  },
  {
   "cell_type": "code",
   "execution_count": 8,
   "id": "903ef4a4-52ac-4bdf-8bf0-2d82e57e08e9",
   "metadata": {},
   "outputs": [],
   "source": [
    "# 학습 및 테스트용 데이터 분리\n",
    "X_train, X_test, y_train, y_test = train_test_split(cancer.data, cancer.target, test_size = .2, random_state = 156)"
   ]
  },
  {
   "cell_type": "code",
   "execution_count": 10,
   "id": "71759ae3-fa32-411f-92db-e8d0e13f612c",
   "metadata": {},
   "outputs": [
    {
     "data": {
      "text/plain": [
       "0.9561"
      ]
     },
     "execution_count": 10,
     "metadata": {},
     "output_type": "execute_result"
    }
   ],
   "source": [
    "# votingclassifier 학습/예측/평가\n",
    "vo_clf.fit(X_train, y_train)\n",
    "pred = vo_clf.predict(X_test)\n",
    "accuracy_score(y_test, pred).round(4) # voting 분류기 정확도"
   ]
  },
  {
   "cell_type": "code",
   "execution_count": 14,
   "id": "9edebe04-77de-48f1-a510-1aa4cf64fbe6",
   "metadata": {},
   "outputs": [
    {
     "name": "stdout",
     "output_type": "stream",
     "text": [
      "LogisticRegression : 0.9474\n",
      "KNeighborsClassifier : 0.9386\n"
     ]
    }
   ],
   "source": [
    "# 개별 모델의 학습/예측/평가\n",
    "classifiers = [lr_clf, knn_clf]\n",
    "for classifier in classifiers:\n",
    "    classifier.fit(X_train, y_train)\n",
    "    pred = classifier.predict(X_test)\n",
    "    class_name = classifier.__class__.__name__\n",
    "    print(f'{class_name} : {accuracy_score(y_test, pred).round(4)}')    "
   ]
  },
  {
   "cell_type": "code",
   "execution_count": 15,
   "id": "99cc9bc6-eaea-49c1-a6b5-2fccab2c3440",
   "metadata": {},
   "outputs": [],
   "source": [
    "# print('{0}: {1:.4f}'.format(class_name, accuracy_score(y_test, pred)))"
   ]
  },
  {
   "cell_type": "markdown",
   "id": "1b990a78-b064-4c69-a131-d785eaa64570",
   "metadata": {},
   "source": [
    "=> **보팅분류기**의 정확도가 조금 높게 나타남<br>\n",
    "하지만, 보팅으로 여러 개의 기반 분류기를 결합한다고 해서 무조건 기반 분류기보다 예측 성능이 향상되지는 않음<br>\n",
    "그럼에도 불구하고 단일 ML 알고리즘보다 뛰어난 예측 성능을 가지는 경우 많음<br>\n",
    "다양한 관점에서 문제에 접근하고 서로의 약점을 보완해서 높은 유연성을 가질 수 있기 때문임<br>\n",
    "**배깅과 부스팅은 대부분 결정 트리 알고리즘을 기반**으로 함<br>\n",
    "즉, <span style='background-color: #ffdce0'>**결정 트리 알고리즘의 장점은 그대로 취하고 단점은 보완하면서 편향-분산 트레이드오프의 효과를 극대화**</span>할 수 있다는 말임!"
   ]
  },
  {
   "cell_type": "markdown",
   "id": "ec14dbe1-d578-4587-b178-62a6dd2665f5",
   "metadata": {},
   "source": [
    "------------"
   ]
  },
  {
   "cell_type": "markdown",
   "id": "5aa6a0a2-cd33-4280-9d9f-5b696ae4edd9",
   "metadata": {},
   "source": [
    "# 랜덤 포레스트"
   ]
  },
  {
   "cell_type": "markdown",
   "id": "95d283f6-7ca2-44d9-ba55-8b098bb6ed75",
   "metadata": {},
   "source": [
    "bagging의 대표적인 알고리즘"
   ]
  },
  {
   "cell_type": "markdown",
   "id": "adf66edf-289f-4b64-93c7-3b4e1e5a6545",
   "metadata": {},
   "source": [
    "<p align=\"center\"><img src=\"./randomforest.png\"></p>"
   ]
  },
  {
   "cell_type": "markdown",
   "id": "178ccd86-c278-4468-9d88-750fccb1c9c4",
   "metadata": {},
   "source": [
    "여러 개의 결정 트리 분류기가 전체 데이터에서 배깅 방식으로 각자의 데이터를 샘플링해 개별적으로 학습을 수행한 뒤 최종적으로 **모든 분류기가 투표를 통해** 예측을 결정"
   ]
  },
  {
   "cell_type": "markdown",
   "id": "9695ecb7-1726-4c87-b973-67250070a1e1",
   "metadata": {},
   "source": [
    "<span style='background-color: #ffdce0'>**부트스트래핑(bootstrapping) 분할 방식**</span>임, **중첩 허용**"
   ]
  },
  {
   "cell_type": "markdown",
   "id": "3e43f4c6-bfc8-4f63-abb7-e959adf7bb9f",
   "metadata": {},
   "source": [
    "   : bootstrap aggregating의 줄임말"
   ]
  },
  {
   "cell_type": "code",
   "execution_count": 17,
   "id": "8b23cc28-c00e-4caa-9fa0-191f5dc6a308",
   "metadata": {},
   "outputs": [],
   "source": [
    "from sklearn.ensemble import RandomForestClassifier\n",
    "from sklearn.metrics import accuracy_score\n",
    "import pandas as pd\n",
    "import warnings\n",
    "import numpy as np\n",
    "warnings.filterwarnings('ignore')"
   ]
  },
  {
   "cell_type": "code",
   "execution_count": 18,
   "id": "d1c09e87-4d4b-497b-bc61-5bb5deffe7d0",
   "metadata": {
    "jupyter": {
     "source_hidden": true
    },
    "tags": []
   },
   "outputs": [],
   "source": [
    "def get_new_feature_name_df(old_feature_name_df):\n",
    "    feature_dup_df = pd.DataFrame(data=old_feature_name_df.groupby('column_name').cumcount(),\n",
    "                                  columns=['dup_cnt'])\n",
    "    feature_dup_df = feature_dup_df.reset_index()\n",
    "    new_feature_name_df = pd.merge(old_feature_name_df.reset_index(), feature_dup_df, how='outer')\n",
    "    new_feature_name_df['column_name'] = new_feature_name_df[['column_name', 'dup_cnt']].apply(lambda x : x[0]+'_'+str(x[1]) \n",
    "                                                                                         if x[1] >0 else x[0],  axis=1)\n",
    "    new_feature_name_df = new_feature_name_df.drop(['index'], axis=1)\n",
    "    return new_feature_name_df"
   ]
  },
  {
   "cell_type": "code",
   "execution_count": 19,
   "id": "d0aed164-015b-4e85-b8af-7f756f58fd79",
   "metadata": {
    "jupyter": {
     "source_hidden": true
    },
    "tags": []
   },
   "outputs": [],
   "source": [
    "def get_human_dataset( ):\n",
    "    \n",
    "    # 각 데이터 파일들은 공백으로 분리되어 있으므로 read_csv에서 공백 문자를 sep으로 할당.\n",
    "    feature_name_df = pd.read_csv('./features.txt',sep='\\s+',\n",
    "                        header=None,names=['column_index','column_name'])\n",
    "    \n",
    "    # 중복된 피처명을 수정하는 get_new_feature_name_df()를 이용, 신규 피처명 DataFrame생성. \n",
    "    new_feature_name_df = get_new_feature_name_df(feature_name_df)\n",
    "    \n",
    "    # DataFrame에 피처명을 컬럼으로 부여하기 위해 리스트 객체로 다시 변환\n",
    "    feature_name = new_feature_name_df.iloc[:, 1].values.tolist()\n",
    "    \n",
    "    # 학습 피처 데이터 셋과 테스트 피처 데이터을 DataFrame으로 로딩. 컬럼명은 feature_name 적용\n",
    "    X_train = pd.read_csv('./X_train.txt',sep='\\s+', names=feature_name )\n",
    "    X_test = pd.read_csv('./X_test.txt',sep='\\s+', names=feature_name)\n",
    "    \n",
    "    # 학습 레이블과 테스트 레이블 데이터을 DataFrame으로 로딩하고 컬럼명은 action으로 부여\n",
    "    y_train = pd.read_csv('./y_train.txt',sep='\\s+',header=None,names=['action'])\n",
    "    y_test = pd.read_csv('./y_test.txt',sep='\\s+',header=None,names=['action'])\n",
    "    \n",
    "    # 로드된 학습/테스트용 DataFrame을 모두 반환 \n",
    "    return X_train, X_test, y_train, y_test\n",
    "\n",
    "\n",
    "X_train, X_test, y_train, y_test = get_human_dataset()"
   ]
  },
  {
   "cell_type": "code",
   "execution_count": 20,
   "id": "aa7bf524-c860-4cbf-9524-08dc7ac33cc0",
   "metadata": {},
   "outputs": [],
   "source": [
    "# 결정 트리에서 사용한 get_human_dataset()을 이용해 학습/테스트용 DataFrame 반환\n",
    "X_train, X_test, y_train, y_test = get_human_dataset()"
   ]
  },
  {
   "cell_type": "code",
   "execution_count": 21,
   "id": "1703b5a6-d4e2-45cb-818e-2ca2528e670e",
   "metadata": {},
   "outputs": [
    {
     "data": {
      "text/plain": [
       "0.9196"
      ]
     },
     "execution_count": 21,
     "metadata": {},
     "output_type": "execute_result"
    }
   ],
   "source": [
    "# 랜덤 포레스트 학습 및 별도의 테스트 세트로 예측 성능 평가\n",
    "rf_clf = RandomForestClassifier(random_state = 0, max_depth = 8)\n",
    "rf_clf.fit(X_train, y_train)\n",
    "pred = rf_clf.predict(X_test)\n",
    "accuracy = accuracy_score(y_test, pred)\n",
    "\n",
    "np.round(accuracy, 4)"
   ]
  },
  {
   "cell_type": "markdown",
   "id": "559d89ac-0ca1-4729-a9ff-a236952f3ed0",
   "metadata": {},
   "source": [
    "## 하이퍼 파라미터 및 튜닝"
   ]
  },
  {
   "cell_type": "markdown",
   "id": "01d159bb-41b3-4795-ab58-f9469e6d6316",
   "metadata": {},
   "source": [
    "> **n_estimators** : 나무를 몇 개 심을건지 / 기본값 : 10"
   ]
  },
  {
   "cell_type": "markdown",
   "id": "b8e5ce62-5383-4835-be8d-3761e9debc64",
   "metadata": {},
   "source": [
    "> **max_features** : 최적의 분할을 위해 고려한 최대 피처 개수<br>\n",
    "여기서 None은 전체 피처 개수가 아닌 <span style='background-color: #ffdce0'>**auto**</span>임 즉, <span style='background-color: #ffdce0'>**sqrt(루트)**</span>와 같음 주의"
   ]
  },
  {
   "cell_type": "code",
   "execution_count": 16,
   "id": "9a3cb999-4633-4601-9439-1f286343fc70",
   "metadata": {},
   "outputs": [
    {
     "data": {
      "text/html": [
       "<style>#sk-container-id-1 {color: black;background-color: white;}#sk-container-id-1 pre{padding: 0;}#sk-container-id-1 div.sk-toggleable {background-color: white;}#sk-container-id-1 label.sk-toggleable__label {cursor: pointer;display: block;width: 100%;margin-bottom: 0;padding: 0.3em;box-sizing: border-box;text-align: center;}#sk-container-id-1 label.sk-toggleable__label-arrow:before {content: \"▸\";float: left;margin-right: 0.25em;color: #696969;}#sk-container-id-1 label.sk-toggleable__label-arrow:hover:before {color: black;}#sk-container-id-1 div.sk-estimator:hover label.sk-toggleable__label-arrow:before {color: black;}#sk-container-id-1 div.sk-toggleable__content {max-height: 0;max-width: 0;overflow: hidden;text-align: left;background-color: #f0f8ff;}#sk-container-id-1 div.sk-toggleable__content pre {margin: 0.2em;color: black;border-radius: 0.25em;background-color: #f0f8ff;}#sk-container-id-1 input.sk-toggleable__control:checked~div.sk-toggleable__content {max-height: 200px;max-width: 100%;overflow: auto;}#sk-container-id-1 input.sk-toggleable__control:checked~label.sk-toggleable__label-arrow:before {content: \"▾\";}#sk-container-id-1 div.sk-estimator input.sk-toggleable__control:checked~label.sk-toggleable__label {background-color: #d4ebff;}#sk-container-id-1 div.sk-label input.sk-toggleable__control:checked~label.sk-toggleable__label {background-color: #d4ebff;}#sk-container-id-1 input.sk-hidden--visually {border: 0;clip: rect(1px 1px 1px 1px);clip: rect(1px, 1px, 1px, 1px);height: 1px;margin: -1px;overflow: hidden;padding: 0;position: absolute;width: 1px;}#sk-container-id-1 div.sk-estimator {font-family: monospace;background-color: #f0f8ff;border: 1px dotted black;border-radius: 0.25em;box-sizing: border-box;margin-bottom: 0.5em;}#sk-container-id-1 div.sk-estimator:hover {background-color: #d4ebff;}#sk-container-id-1 div.sk-parallel-item::after {content: \"\";width: 100%;border-bottom: 1px solid gray;flex-grow: 1;}#sk-container-id-1 div.sk-label:hover label.sk-toggleable__label {background-color: #d4ebff;}#sk-container-id-1 div.sk-serial::before {content: \"\";position: absolute;border-left: 1px solid gray;box-sizing: border-box;top: 0;bottom: 0;left: 50%;z-index: 0;}#sk-container-id-1 div.sk-serial {display: flex;flex-direction: column;align-items: center;background-color: white;padding-right: 0.2em;padding-left: 0.2em;position: relative;}#sk-container-id-1 div.sk-item {position: relative;z-index: 1;}#sk-container-id-1 div.sk-parallel {display: flex;align-items: stretch;justify-content: center;background-color: white;position: relative;}#sk-container-id-1 div.sk-item::before, #sk-container-id-1 div.sk-parallel-item::before {content: \"\";position: absolute;border-left: 1px solid gray;box-sizing: border-box;top: 0;bottom: 0;left: 50%;z-index: -1;}#sk-container-id-1 div.sk-parallel-item {display: flex;flex-direction: column;z-index: 1;position: relative;background-color: white;}#sk-container-id-1 div.sk-parallel-item:first-child::after {align-self: flex-end;width: 50%;}#sk-container-id-1 div.sk-parallel-item:last-child::after {align-self: flex-start;width: 50%;}#sk-container-id-1 div.sk-parallel-item:only-child::after {width: 0;}#sk-container-id-1 div.sk-dashed-wrapped {border: 1px dashed gray;margin: 0 0.4em 0.5em 0.4em;box-sizing: border-box;padding-bottom: 0.4em;background-color: white;}#sk-container-id-1 div.sk-label label {font-family: monospace;font-weight: bold;display: inline-block;line-height: 1.2em;}#sk-container-id-1 div.sk-label-container {text-align: center;}#sk-container-id-1 div.sk-container {/* jupyter's `normalize.less` sets `[hidden] { display: none; }` but bootstrap.min.css set `[hidden] { display: none !important; }` so we also need the `!important` here to be able to override the default hidden behavior on the sphinx rendered scikit-learn.org. See: https://github.com/scikit-learn/scikit-learn/issues/21755 */display: inline-block !important;position: relative;}#sk-container-id-1 div.sk-text-repr-fallback {display: none;}</style><div id=\"sk-container-id-1\" class=\"sk-top-container\"><div class=\"sk-text-repr-fallback\"><pre>GridSearchCV(cv=2, estimator=RandomForestClassifier(n_jobs=-1, random_state=0),\n",
       "             n_jobs=-1,\n",
       "             param_grid={&#x27;max_depth&#x27;: [8, 16, 24],\n",
       "                         &#x27;min_samples_leaf&#x27;: [1, 6, 12],\n",
       "                         &#x27;min_samples_split&#x27;: [2, 8, 16]})</pre><b>In a Jupyter environment, please rerun this cell to show the HTML representation or trust the notebook. <br />On GitHub, the HTML representation is unable to render, please try loading this page with nbviewer.org.</b></div><div class=\"sk-container\" hidden><div class=\"sk-item sk-dashed-wrapped\"><div class=\"sk-label-container\"><div class=\"sk-label sk-toggleable\"><input class=\"sk-toggleable__control sk-hidden--visually\" id=\"sk-estimator-id-1\" type=\"checkbox\" ><label for=\"sk-estimator-id-1\" class=\"sk-toggleable__label sk-toggleable__label-arrow\">GridSearchCV</label><div class=\"sk-toggleable__content\"><pre>GridSearchCV(cv=2, estimator=RandomForestClassifier(n_jobs=-1, random_state=0),\n",
       "             n_jobs=-1,\n",
       "             param_grid={&#x27;max_depth&#x27;: [8, 16, 24],\n",
       "                         &#x27;min_samples_leaf&#x27;: [1, 6, 12],\n",
       "                         &#x27;min_samples_split&#x27;: [2, 8, 16]})</pre></div></div></div><div class=\"sk-parallel\"><div class=\"sk-parallel-item\"><div class=\"sk-item\"><div class=\"sk-label-container\"><div class=\"sk-label sk-toggleable\"><input class=\"sk-toggleable__control sk-hidden--visually\" id=\"sk-estimator-id-2\" type=\"checkbox\" ><label for=\"sk-estimator-id-2\" class=\"sk-toggleable__label sk-toggleable__label-arrow\">estimator: RandomForestClassifier</label><div class=\"sk-toggleable__content\"><pre>RandomForestClassifier(n_jobs=-1, random_state=0)</pre></div></div></div><div class=\"sk-serial\"><div class=\"sk-item\"><div class=\"sk-estimator sk-toggleable\"><input class=\"sk-toggleable__control sk-hidden--visually\" id=\"sk-estimator-id-3\" type=\"checkbox\" ><label for=\"sk-estimator-id-3\" class=\"sk-toggleable__label sk-toggleable__label-arrow\">RandomForestClassifier</label><div class=\"sk-toggleable__content\"><pre>RandomForestClassifier(n_jobs=-1, random_state=0)</pre></div></div></div></div></div></div></div></div></div></div>"
      ],
      "text/plain": [
       "GridSearchCV(cv=2, estimator=RandomForestClassifier(n_jobs=-1, random_state=0),\n",
       "             n_jobs=-1,\n",
       "             param_grid={'max_depth': [8, 16, 24],\n",
       "                         'min_samples_leaf': [1, 6, 12],\n",
       "                         'min_samples_split': [2, 8, 16]})"
      ]
     },
     "execution_count": 16,
     "metadata": {},
     "output_type": "execute_result"
    }
   ],
   "source": [
    "from sklearn.model_selection import GridSearchCV\n",
    "from sklearn.ensemble import RandomForestClassifier\n",
    "\n",
    "params = {'max_depth' : [8, 16, 24],\n",
    "          'min_samples_leaf' : [1, 6, 12],\n",
    "          'min_samples_split' : [2, 8, 16]\n",
    "         }\n",
    "\n",
    "\n",
    "# RandomForestClassifier 객체 생성\n",
    "rf_clf = RandomForestClassifier(n_estimators = 100, random_state = 0, n_jobs = -1)\n",
    "\n",
    "# GridSearchCV 수행\n",
    "grid_cv = GridSearchCV(rf_clf, param_grid = params, cv = 2, n_jobs = -1)\n",
    "grid_cv.fit(X_train, y_train)"
   ]
  },
  {
   "cell_type": "markdown",
   "id": "35cddd49-4afa-4622-be87-0b9e77e5cae9",
   "metadata": {},
   "source": [
    "<span style=\"color: #2D3748; background-color:#fff5b1;\">RandomForestClassifier 객체와 GridSearchCV 생성 시 **n_jobs = -1** 파라미터를 추가하면 **모든 CPU 코어를 이용**한 학습이 가능함</span>"
   ]
  },
  {
   "cell_type": "code",
   "execution_count": 17,
   "id": "473ac7b7-e663-4257-aa2c-b224e634bf26",
   "metadata": {},
   "outputs": [
    {
     "data": {
      "text/plain": [
       "{'max_depth': 16, 'min_samples_leaf': 6, 'min_samples_split': 2}"
      ]
     },
     "execution_count": 17,
     "metadata": {},
     "output_type": "execute_result"
    }
   ],
   "source": [
    "grid_cv.best_params_ # 최적 하이퍼 파라미터"
   ]
  },
  {
   "cell_type": "code",
   "execution_count": 18,
   "id": "3a14ebc6-7f4f-4dd2-9634-97333f88b7b2",
   "metadata": {},
   "outputs": [
    {
     "data": {
      "text/plain": [
       "0.9165"
      ]
     },
     "execution_count": 18,
     "metadata": {},
     "output_type": "execute_result"
    }
   ],
   "source": [
    "np.round((grid_cv.best_score_), 4) # 최고 예측 정확도"
   ]
  },
  {
   "cell_type": "markdown",
   "id": "10342a3c-371e-4d21-a765-e0f53ca496fa",
   "metadata": {},
   "source": [
    "> 최적 하이퍼 파라미터로 다시 학습시킨 뒤 예측 성능을 측정해보자."
   ]
  },
  {
   "cell_type": "code",
   "execution_count": 19,
   "id": "a8fdbdce-cbf1-41df-a1ca-62590cb02099",
   "metadata": {},
   "outputs": [
    {
     "data": {
      "text/plain": [
       "0.926"
      ]
     },
     "execution_count": 19,
     "metadata": {},
     "output_type": "execute_result"
    }
   ],
   "source": [
    "rf_clf1 = RandomForestClassifier(n_estimators = 100, min_samples_leaf = 6, max_depth = 16, min_samples_split = 2, random_state = 0)\n",
    "\n",
    "rf_clf1.fit(X_train, y_train)\n",
    "pred = rf_clf1.predict(X_test)\n",
    "accuracy = accuracy_score(y_test, pred)\n",
    "\n",
    "np.round(accuracy, 4)"
   ]
  },
  {
   "cell_type": "markdown",
   "id": "555e530d-57f1-430b-8add-be33408b574b",
   "metadata": {},
   "source": [
    "## 피처 중요도 시각화"
   ]
  },
  {
   "cell_type": "code",
   "execution_count": 20,
   "id": "9fe82b0a-0b0f-4358-8140-888a336c2071",
   "metadata": {},
   "outputs": [],
   "source": [
    "import matplotlib.pyplot as plt\n",
    "import seaborn as sns\n",
    "%matplotlib inline"
   ]
  },
  {
   "cell_type": "code",
   "execution_count": 21,
   "id": "7742ee31-ed99-48c1-9ab8-0c4f4220da7c",
   "metadata": {},
   "outputs": [],
   "source": [
    "ftr_importances_values = rf_clf1.feature_importances_\n",
    "ftr_importances = pd.Series(ftr_importances_values, index = X_train.columns)\n",
    "ftr_top20 = ftr_importances.sort_values(ascending = False)[:20]"
   ]
  },
  {
   "cell_type": "code",
   "execution_count": 22,
   "id": "c17e0261-c836-4b67-86c3-961123b8fb97",
   "metadata": {},
   "outputs": [
    {
     "data": {
      "image/png": "[encoded data removed]",
      "text/plain": [
       "<Figure size 576x432 with 1 Axes>"
      ]
     },
     "metadata": {
      "needs_background": "light"
     },
     "output_type": "display_data"
    }
   ],
   "source": [
    "plt.figure(figsize = (8,6))\n",
    "plt.title('Feature importances Top 20')\n",
    "sns.barplot(x = ftr_top20, y = ftr_top20.index)\n",
    "plt.show()"
   ]
  },
  {
   "cell_type": "markdown",
   "id": "4ecdfe82-4a74-4192-ad1f-575b8d42d9e0",
   "metadata": {},
   "source": [
    "-----------------"
   ]
  },
  {
   "cell_type": "markdown",
   "id": "ce57525c-07bd-485b-a96b-ece2dcef5d54",
   "metadata": {},
   "source": [
    "# GBM(Gradient Boosting Machine)"
   ]
  },
  {
   "cell_type": "markdown",
   "id": "5a1b3ca8-d83c-4f5f-aa5f-05d3b8df6edd",
   "metadata": {},
   "source": [
    "부스팅 알고리즘은 **여러 개의 약한 학습기**(weak learner)를 <span style=\"color: #2D3748; background-color:#fff5b1;\">**순차적**으로</span> 학습 및 예측하면서 <span style=\"color: #2D3748; background-color:#fff5b1;\">**잘못 예측한 데이터**에 **가중치 부여**</span>를 통해 오류를 개선해 나가면서 학습하는 방식"
   ]
  },
  {
   "cell_type": "markdown",
   "id": "d559d8e1-1499-4f5d-987a-f9a14077ccf6",
   "metadata": {},
   "source": [
    "<span style=\"color: red\">**경사 하강법**</span>(Gradient Descent) : **오류식을 최소화**하는 방향성을 가지고, **반복적**으로 **가중치 값을 업데이트**"
   ]
  },
  {
   "cell_type": "markdown",
   "id": "71e3effd-8414-40ac-8855-efbbc57fe63b",
   "metadata": {},
   "source": [
    "> GBM을 이용해 사용자 행동 데이터 세트를 예측 분류해보자."
   ]
  },
  {
   "cell_type": "code",
   "execution_count": 4,
   "id": "e853d4cf-2b79-464f-8d7f-28138af5c057",
   "metadata": {
    "tags": []
   },
   "outputs": [],
   "source": [
    "from sklearn.ensemble import GradientBoostingClassifier\n",
    "import time\n",
    "import warnings\n",
    "warnings.filterwarnings('ignore')"
   ]
  },
  {
   "cell_type": "code",
   "execution_count": 5,
   "id": "9eb99a6f-fe62-4498-88c6-e8768862872f",
   "metadata": {},
   "outputs": [],
   "source": [
    "X_train, X_test, y_train, y_test = get_human_dataset()"
   ]
  },
  {
   "cell_type": "code",
   "execution_count": 17,
   "id": "f6d515a9-cbe5-4111-b8fc-5f12e0cf1fd2",
   "metadata": {
    "tags": []
   },
   "outputs": [],
   "source": [
    "# GBM 수행 시간 측정을 위해 시작 시간 설정\n",
    "start_time = time.time()"
   ]
  },
  {
   "cell_type": "code",
   "execution_count": 18,
   "id": "ab9d894a-a448-478e-ad5e-8fcdb4ca1321",
   "metadata": {},
   "outputs": [],
   "source": [
    "gb_clf = GradientBoostingClassifier(random_state = 0)\n",
    "gb_clf.fit(X_train, y_train)\n",
    "gb_pred = gb_clf.predict(X_test)\n",
    "gb_accuracy = accuracy_score(y_test, gb_pred)"
   ]
  },
  {
   "cell_type": "code",
   "execution_count": 19,
   "id": "9b0eec51-85a0-4555-9f79-1cbc58853a9c",
   "metadata": {},
   "outputs": [
    {
     "data": {
      "text/plain": [
       "0.9389209365456397"
      ]
     },
     "execution_count": 19,
     "metadata": {},
     "output_type": "execute_result"
    }
   ],
   "source": [
    "gb_accuracy # GBM 정확도"
   ]
  },
  {
   "cell_type": "code",
   "execution_count": 20,
   "id": "e073a2b6-85f6-4bfc-bf87-ece27126071d",
   "metadata": {
    "tags": []
   },
   "outputs": [
    {
     "data": {
      "text/plain": [
       "482.572"
      ]
     },
     "execution_count": 20,
     "metadata": {},
     "output_type": "execute_result"
    }
   ],
   "source": [
    "np.round(time.time() - start_time, 4) # GBM 수행 시간"
   ]
  },
  {
   "cell_type": "markdown",
   "id": "6ad7f877-4bcc-4a1b-82b2-79a3e7c39e51",
   "metadata": {},
   "source": [
    "=> 수행 시간 오래 걸림"
   ]
  },
  {
   "cell_type": "markdown",
   "id": "b2431a62-408a-43aa-936a-989ddef49d43",
   "metadata": {},
   "source": [
    "## 하이퍼 파라미터"
   ]
  },
  {
   "cell_type": "markdown",
   "id": "fc377d64-cb17-47d2-9735-28893adf07c9",
   "metadata": {},
   "source": [
    "> **loss** : 경사 하강법에서 사용할 **비용** 함수 ( = error, 오차, 손실 함수, cost function, 비용 함수, objective function, 목적 함수)"
   ]
  },
  {
   "cell_type": "markdown",
   "id": "90d2d3ef-1d0f-4ed2-9631-11a254a7167d",
   "metadata": {},
   "source": [
    "> **learning_rate**[default = 0.1] : GBM이 학습을 진행할 때마다 적용하는 **학습률**, 오류 값을 보정해주는 계수, 0 ~ 1 사이의 값으로 지정"
   ]
  },
  {
   "cell_type": "markdown",
   "id": "e887d6d6-ae00-4ed7-92fa-1a674c2ce387",
   "metadata": {},
   "source": [
    "> n_estimatiors : 몇 개의 나무를 심을 것인가"
   ]
  },
  {
   "cell_type": "markdown",
   "id": "3ede5b29-6b04-4e0a-8f20-e6c339dda595",
   "metadata": {},
   "source": [
    "> subsample : weak learner가 학습에 사용하는 데이터의 샘플링 비율"
   ]
  },
  {
   "cell_type": "markdown",
   "id": "7d67acb1-73b8-4a97-bd87-3459f1f4e175",
   "metadata": {},
   "source": [
    "----------"
   ]
  },
  {
   "cell_type": "markdown",
   "id": "23fdf414-42af-452b-9c11-e72ca385bf5e",
   "metadata": {},
   "source": [
    "# XGBM(eXtra Gradient Boost)"
   ]
  },
  {
   "cell_type": "markdown",
   "id": "fa70cc21-d5ba-43d3-8d83-6c07ed146f29",
   "metadata": {},
   "source": [
    "- GBM에 기반하고 있지만, GBM의 단점인 **느린 수행 시간 및 과적합 규제 부재 등의 문제를 해결**해서 가장 각광받고 있는 알고리즘 중 하나임\n",
    "- 병렬 CPU 환경에서 병렬 학습이 가능함  \n",
    " \n",
    "------------------------------------------------------------------  \n",
    "> 장점  \n",
    "|                               |                                                                    |  \n",
    "|-------------------------------|--------------------------------------------------------------------|\n",
    "|뛰어난 예측 성능                |                                                                    |\n",
    "|**GBM 대비 빠른 수행 시간**     |                                                                    |\n",
    "|**과적합 규제(Regularization)** |                                                                    |\n",
    "|**Tree pruning**(나무 가지치기) |더 이상 긍정 이득이 없는 분할을 가지치기 해서 분할 수를 더 줄임         |\n",
    "|자체 내장된 교차 검증           |평가 값이 최적화 되면 반복을 중간에 멈출 수 있는 조기 중단 기능이 존재함 |\n",
    "|결손값 자체 처리                |                                                                     |\n",
    "--------------------------------|---------------------------------------------------------------------|"
   ]
  },
  {
   "cell_type": "markdown",
   "id": "467ef243-07e3-4214-b0c3-7b2503c20249",
   "metadata": {},
   "source": [
    "## 주요 부스터 파라미터"
   ]
  },
  {
   "cell_type": "markdown",
   "id": "e8c6b9eb-40a6-41f9-a51b-fe605466948b",
   "metadata": {},
   "source": [
    "> **eta**[default = 0.3, alias = leaning_rate] : GBM의 학습률(learning_rate)과 같은 파라미터  \n",
    "                            사이킷런 래퍼 클래스에서는 default = 0.1이며, 보통 0.01 ~ 0.2 사이의 값을 선호"
   ]
  },
  {
   "cell_type": "markdown",
   "id": "bad61268-3fb6-4e53-b58d-d930df95293c",
   "metadata": {},
   "source": [
    "> **num_boost_rounds** : GBM의 n_estimators와 같은 파라미터"
   ]
  },
  {
   "cell_type": "markdown",
   "id": "138253bb-aca6-409e-890d-d16b954e4e08",
   "metadata": {},
   "source": [
    "> **min_child_weigh**[default = 1] : 트리에서 추가적으로 가지를 나눌지를 결정하기 위해 필요한 데이터들의 weight 총합  \n",
    "                       **값이 클수록 분할을 자제**함, 과적합을 조절하기 위해 사용됨"
   ]
  },
  {
   "cell_type": "markdown",
   "id": "42c06f3f-5a84-4a3f-9917-5898fa3037ce",
   "metadata": {},
   "source": [
    "> **gamma**[default = 0, alias = min_split_loss] : **최소 손실 감소 값**  \n",
    "                                 값이 클수록 과적합 감소 효과가 있음"
   ]
  },
  {
   "cell_type": "markdown",
   "id": "fc0b4817-f358-4be8-9a30-e25f64042529",
   "metadata": {},
   "source": [
    "> **max_depth**[default = 6] : 0을 지정하면 깊이에 제한이 없음"
   ]
  },
  {
   "cell_type": "markdown",
   "id": "14daf2cd-eb38-4476-b6d1-1f9df34bdaf8",
   "metadata": {},
   "source": [
    "> **sub_sample**[default = 1] : 데이터를 샘플링하는 비율을 지정함, 보통 0.5 ~ 1 사이의 값을 지정"
   ]
  },
  {
   "cell_type": "markdown",
   "id": "e0a0ff0b-e55e-43f2-87bd-f3039a906f38",
   "metadata": {},
   "source": [
    "## 과적합 문제가 심각하다면?"
   ]
  },
  {
   "cell_type": "markdown",
   "id": "528a2c18-25cc-44e1-a80b-06b430ea6c0f",
   "metadata": {},
   "source": [
    "> eta 값을 낮춤(0.01 ~ 0.1) 단, eta 값을 낮추 경우 num_round 또는 n_estimators 는 반대로 높여줘야 함"
   ]
  },
  {
   "cell_type": "markdown",
   "id": "83f7c3a4-5822-4f05-b234-6f10f36f9f36",
   "metadata": {},
   "source": [
    "> max_depth 값을 낮춤"
   ]
  },
  {
   "cell_type": "markdown",
   "id": "d9cf88cb-6efd-40f9-9bf0-9746b76f1e54",
   "metadata": {},
   "source": [
    "> min_child_weight 값을 높임"
   ]
  },
  {
   "cell_type": "markdown",
   "id": "ac61e49e-a372-48bb-b540-0576886127f6",
   "metadata": {},
   "source": [
    "> gamma 값을 높임"
   ]
  },
  {
   "cell_type": "code",
   "execution_count": 24,
   "id": "3bb60f4b-32e9-48d5-9629-17040e522225",
   "metadata": {},
   "outputs": [
    {
     "name": "stdout",
     "output_type": "stream",
     "text": [
      "Collecting xgboost\n",
      "  Downloading xgboost-1.6.2-py3-none-win_amd64.whl (125.4 MB)\n",
      "Requirement already satisfied: scipy in c:\\users\\min\\anaconda3\\lib\\site-packages (from xgboost) (1.7.3)\n",
      "Requirement already satisfied: numpy in c:\\users\\min\\anaconda3\\lib\\site-packages (from xgboost) (1.21.5)\n",
      "Installing collected packages: xgboost\n",
      "Successfully installed xgboost-1.6.2\n"
     ]
    }
   ],
   "source": [
    "!pip install xgboost"
   ]
  },
  {
   "cell_type": "code",
   "execution_count": 25,
   "id": "78a09d54-1dcc-4cd5-958a-cb8d14185923",
   "metadata": {},
   "outputs": [],
   "source": [
    "import xgboost as xgb\n",
    "from xgboost import XGBClassifier"
   ]
  },
  {
   "cell_type": "code",
   "execution_count": 26,
   "id": "d650995a-c561-4373-bc82-fb51c796a7c1",
   "metadata": {},
   "outputs": [
    {
     "name": "stdout",
     "output_type": "stream",
     "text": [
      "1.6.2\n"
     ]
    }
   ],
   "source": [
    "print(xgb.__version__)"
   ]
  },
  {
   "cell_type": "markdown",
   "id": "dcfafd83-5ab8-4104-a98d-23a33f7d8aee",
   "metadata": {},
   "source": [
    "## 적용하기 - 위스콘신 유방암 예측"
   ]
  },
  {
   "cell_type": "code",
   "execution_count": 1,
   "id": "aea49d22-8720-4ded-a398-b6aca0028905",
   "metadata": {},
   "outputs": [],
   "source": [
    "import xgboost as xgb\n",
    "from xgboost import plot_importance\n",
    "import pandas as pd\n",
    "import numpy as np\n",
    "from sklearn.datasets import load_breast_cancer\n",
    "from sklearn.model_selection import train_test_split\n",
    "import warnings\n",
    "warnings.filterwarnings('ignore')"
   ]
  },
  {
   "cell_type": "code",
   "execution_count": 2,
   "id": "1aab0a1f-d0d7-4e93-a350-2dfeb185adb7",
   "metadata": {},
   "outputs": [],
   "source": [
    "dataset = load_breast_cancer()\n",
    "features = dataset.data\n",
    "labels = dataset.target"
   ]
  },
  {
   "cell_type": "code",
   "execution_count": 3,
   "id": "2f5d87cb-ca51-49fd-96ce-13e34c0b46e3",
   "metadata": {},
   "outputs": [
    {
     "data": {
      "text/html": [
       "<div>\n",
       "<style scoped>\n",
       "    .dataframe tbody tr th:only-of-type {\n",
       "        vertical-align: middle;\n",
       "    }\n",
       "\n",
       "    .dataframe tbody tr th {\n",
       "        vertical-align: top;\n",
       "    }\n",
       "\n",
       "    .dataframe thead th {\n",
       "        text-align: right;\n",
       "    }\n",
       "</style>\n",
       "<table border=\"1\" class=\"dataframe\">\n",
       "  <thead>\n",
       "    <tr style=\"text-align: right;\">\n",
       "      <th></th>\n",
       "      <th>mean radius</th>\n",
       "      <th>mean texture</th>\n",
       "      <th>mean perimeter</th>\n",
       "      <th>mean area</th>\n",
       "      <th>mean smoothness</th>\n",
       "      <th>mean compactness</th>\n",
       "      <th>mean concavity</th>\n",
       "      <th>mean concave points</th>\n",
       "      <th>mean symmetry</th>\n",
       "      <th>mean fractal dimension</th>\n",
       "      <th>...</th>\n",
       "      <th>worst texture</th>\n",
       "      <th>worst perimeter</th>\n",
       "      <th>worst area</th>\n",
       "      <th>worst smoothness</th>\n",
       "      <th>worst compactness</th>\n",
       "      <th>worst concavity</th>\n",
       "      <th>worst concave points</th>\n",
       "      <th>worst symmetry</th>\n",
       "      <th>worst fractal dimension</th>\n",
       "      <th>target</th>\n",
       "    </tr>\n",
       "  </thead>\n",
       "  <tbody>\n",
       "    <tr>\n",
       "      <th>0</th>\n",
       "      <td>17.99</td>\n",
       "      <td>10.38</td>\n",
       "      <td>122.8</td>\n",
       "      <td>1001.0</td>\n",
       "      <td>0.11840</td>\n",
       "      <td>0.27760</td>\n",
       "      <td>0.3001</td>\n",
       "      <td>0.14710</td>\n",
       "      <td>0.2419</td>\n",
       "      <td>0.07871</td>\n",
       "      <td>...</td>\n",
       "      <td>17.33</td>\n",
       "      <td>184.6</td>\n",
       "      <td>2019.0</td>\n",
       "      <td>0.1622</td>\n",
       "      <td>0.6656</td>\n",
       "      <td>0.7119</td>\n",
       "      <td>0.2654</td>\n",
       "      <td>0.4601</td>\n",
       "      <td>0.11890</td>\n",
       "      <td>0</td>\n",
       "    </tr>\n",
       "    <tr>\n",
       "      <th>1</th>\n",
       "      <td>20.57</td>\n",
       "      <td>17.77</td>\n",
       "      <td>132.9</td>\n",
       "      <td>1326.0</td>\n",
       "      <td>0.08474</td>\n",
       "      <td>0.07864</td>\n",
       "      <td>0.0869</td>\n",
       "      <td>0.07017</td>\n",
       "      <td>0.1812</td>\n",
       "      <td>0.05667</td>\n",
       "      <td>...</td>\n",
       "      <td>23.41</td>\n",
       "      <td>158.8</td>\n",
       "      <td>1956.0</td>\n",
       "      <td>0.1238</td>\n",
       "      <td>0.1866</td>\n",
       "      <td>0.2416</td>\n",
       "      <td>0.1860</td>\n",
       "      <td>0.2750</td>\n",
       "      <td>0.08902</td>\n",
       "      <td>0</td>\n",
       "    </tr>\n",
       "    <tr>\n",
       "      <th>2</th>\n",
       "      <td>19.69</td>\n",
       "      <td>21.25</td>\n",
       "      <td>130.0</td>\n",
       "      <td>1203.0</td>\n",
       "      <td>0.10960</td>\n",
       "      <td>0.15990</td>\n",
       "      <td>0.1974</td>\n",
       "      <td>0.12790</td>\n",
       "      <td>0.2069</td>\n",
       "      <td>0.05999</td>\n",
       "      <td>...</td>\n",
       "      <td>25.53</td>\n",
       "      <td>152.5</td>\n",
       "      <td>1709.0</td>\n",
       "      <td>0.1444</td>\n",
       "      <td>0.4245</td>\n",
       "      <td>0.4504</td>\n",
       "      <td>0.2430</td>\n",
       "      <td>0.3613</td>\n",
       "      <td>0.08758</td>\n",
       "      <td>0</td>\n",
       "    </tr>\n",
       "  </tbody>\n",
       "</table>\n",
       "<p>3 rows × 31 columns</p>\n",
       "</div>"
      ],
      "text/plain": [
       "   mean radius  mean texture  mean perimeter  mean area  mean smoothness  \\\n",
       "0        17.99         10.38           122.8     1001.0          0.11840   \n",
       "1        20.57         17.77           132.9     1326.0          0.08474   \n",
       "2        19.69         21.25           130.0     1203.0          0.10960   \n",
       "\n",
       "   mean compactness  mean concavity  mean concave points  mean symmetry  \\\n",
       "0           0.27760          0.3001              0.14710         0.2419   \n",
       "1           0.07864          0.0869              0.07017         0.1812   \n",
       "2           0.15990          0.1974              0.12790         0.2069   \n",
       "\n",
       "   mean fractal dimension  ...  worst texture  worst perimeter  worst area  \\\n",
       "0                 0.07871  ...          17.33            184.6      2019.0   \n",
       "1                 0.05667  ...          23.41            158.8      1956.0   \n",
       "2                 0.05999  ...          25.53            152.5      1709.0   \n",
       "\n",
       "   worst smoothness  worst compactness  worst concavity  worst concave points  \\\n",
       "0            0.1622             0.6656           0.7119                0.2654   \n",
       "1            0.1238             0.1866           0.2416                0.1860   \n",
       "2            0.1444             0.4245           0.4504                0.2430   \n",
       "\n",
       "   worst symmetry  worst fractal dimension  target  \n",
       "0          0.4601                  0.11890       0  \n",
       "1          0.2750                  0.08902       0  \n",
       "2          0.3613                  0.08758       0  \n",
       "\n",
       "[3 rows x 31 columns]"
      ]
     },
     "execution_count": 3,
     "metadata": {},
     "output_type": "execute_result"
    }
   ],
   "source": [
    "cancer_df = pd.DataFrame(data = features, columns = dataset.feature_names)\n",
    "cancer_df['target'] = labels\n",
    "cancer_df[:3]"
   ]
  },
  {
   "cell_type": "markdown",
   "id": "3d19e7ed-b8e8-4887-82d5-79d574724ec1",
   "metadata": {},
   "source": [
    "악성인 'malignant'의 값은 0, 양성인 'benign' 값은 1임"
   ]
  },
  {
   "cell_type": "code",
   "execution_count": 4,
   "id": "9dc53f05-8ad6-44cc-b2ca-46856ca9e7be",
   "metadata": {},
   "outputs": [
    {
     "data": {
      "text/plain": [
       "array(['malignant', 'benign'], dtype='<U9')"
      ]
     },
     "execution_count": 4,
     "metadata": {},
     "output_type": "execute_result"
    }
   ],
   "source": [
    "dataset.target_names # 타깃 레이블 값의 종류"
   ]
  },
  {
   "cell_type": "code",
   "execution_count": 6,
   "id": "ed633c16-ee81-4c4c-9f34-3160b3afd24a",
   "metadata": {},
   "outputs": [
    {
     "data": {
      "text/plain": [
       "0    212\n",
       "1    357\n",
       "Name: target, dtype: int64"
      ]
     },
     "execution_count": 6,
     "metadata": {},
     "output_type": "execute_result"
    }
   ],
   "source": [
    "cancer_df['target'].value_counts(ascending = True) # 레이블 값의 분포도 확인"
   ]
  },
  {
   "cell_type": "markdown",
   "id": "eb574b84-cc4c-4020-af3f-ef4da7b6ef1c",
   "metadata": {},
   "source": [
    "> 학습 및 테스트용 데이터 세트 추출 후, 학습용 데이터에서 90%를 최종 학습용 10%를 검증용으로 분할해보자.  \n",
    "(검증 성능 평가와 조기 중단을 수행해보기 위함)"
   ]
  },
  {
   "cell_type": "code",
   "execution_count": 7,
   "id": "60a572b9-3743-47ed-b560-0c5a89f33ee0",
   "metadata": {},
   "outputs": [],
   "source": [
    "X_features = cancer_df.iloc[:, :-1]\n",
    "y_labels = cancer_df.iloc[:, -1]"
   ]
  },
  {
   "cell_type": "code",
   "execution_count": 10,
   "id": "89c534c0-92f4-4f8a-9960-4514a79af632",
   "metadata": {},
   "outputs": [],
   "source": [
    "X_train, X_test, y_train, y_test = train_test_split(X_features, y_labels, test_size = .2, random_state = 156)"
   ]
  },
  {
   "cell_type": "code",
   "execution_count": 11,
   "id": "3ebc4d44-dc3f-4aa3-96a2-cc9bc8cc7c0a",
   "metadata": {},
   "outputs": [
    {
     "name": "stdout",
     "output_type": "stream",
     "text": [
      "(455, 30) (114, 30)\n"
     ]
    }
   ],
   "source": [
    "print(X_train.shape, X_test.shape)"
   ]
  },
  {
   "cell_type": "code",
   "execution_count": 12,
   "id": "f1d154cb-6621-48b4-a48d-34428aa37ae4",
   "metadata": {},
   "outputs": [],
   "source": [
    "X_tr, X_val, y_tr, y_val = train_test_split(X_train, y_train, test_size = .1, random_state = 156)"
   ]
  },
  {
   "cell_type": "code",
   "execution_count": 13,
   "id": "5565677c-0a8b-4fad-83cb-d4739fa62338",
   "metadata": {},
   "outputs": [
    {
     "name": "stdout",
     "output_type": "stream",
     "text": [
      "(409, 30) (46, 30)\n"
     ]
    }
   ],
   "source": [
    "print(X_tr.shape, X_val.shape)"
   ]
  },
  {
   "cell_type": "code",
   "execution_count": 15,
   "id": "2a1080aa-c7d4-40c6-917c-e434569df291",
   "metadata": {},
   "outputs": [],
   "source": [
    "# 학습, 검증, 테스트용 DMatrix 생성\n",
    "dtr = xgb.DMatrix(data = X_tr, label = y_tr)\n",
    "dval = xgb.DMatrix(data = X_val, label = y_val)\n",
    "dtest = xgb.DMatrix(data = X_test, label = y_test)"
   ]
  },
  {
   "cell_type": "code",
   "execution_count": 16,
   "id": "ea6ac2bc-5c7b-4044-a655-026d675a4b68",
   "metadata": {},
   "outputs": [],
   "source": [
    "params = { 'max_depth' : 3,\n",
    "           'eta' : 0.05,\n",
    "           'objective' : 'binary:logistic',\n",
    "           'eval_metric' : 'logloss'\n",
    "         }\n",
    "\n",
    "num_rounds = 400"
   ]
  },
  {
   "cell_type": "code",
   "execution_count": 17,
   "id": "6782c4f4-8e45-41d6-b809-daab2af23e5d",
   "metadata": {},
   "outputs": [
    {
     "name": "stdout",
     "output_type": "stream",
     "text": [
      "[0]\ttrain-logloss:0.65016\teval-logloss:0.66183\n",
      "[1]\ttrain-logloss:0.61131\teval-logloss:0.63609\n",
      "[2]\ttrain-logloss:0.57563\teval-logloss:0.61144\n",
      "[3]\ttrain-logloss:0.54310\teval-logloss:0.59204\n",
      "[4]\ttrain-logloss:0.51323\teval-logloss:0.57329\n",
      "[5]\ttrain-logloss:0.48447\teval-logloss:0.55037\n",
      "[6]\ttrain-logloss:0.45796\teval-logloss:0.52930\n",
      "[7]\ttrain-logloss:0.43436\teval-logloss:0.51534\n",
      "[8]\ttrain-logloss:0.41150\teval-logloss:0.49718\n",
      "[9]\ttrain-logloss:0.39027\teval-logloss:0.48154\n",
      "[10]\ttrain-logloss:0.37128\teval-logloss:0.46990\n",
      "[11]\ttrain-logloss:0.35254\teval-logloss:0.45474\n",
      "[12]\ttrain-logloss:0.33528\teval-logloss:0.44229\n",
      "[13]\ttrain-logloss:0.31892\teval-logloss:0.42961\n",
      "[14]\ttrain-logloss:0.30439\teval-logloss:0.42065\n",
      "[15]\ttrain-logloss:0.29000\teval-logloss:0.40958\n",
      "[16]\ttrain-logloss:0.27651\teval-logloss:0.39887\n",
      "[17]\ttrain-logloss:0.26389\teval-logloss:0.39050\n",
      "[18]\ttrain-logloss:0.25210\teval-logloss:0.38254\n",
      "[19]\ttrain-logloss:0.24123\teval-logloss:0.37393\n",
      "[20]\ttrain-logloss:0.23076\teval-logloss:0.36789\n",
      "[21]\ttrain-logloss:0.22091\teval-logloss:0.36017\n",
      "[22]\ttrain-logloss:0.21155\teval-logloss:0.35421\n",
      "[23]\ttrain-logloss:0.20263\teval-logloss:0.34683\n",
      "[24]\ttrain-logloss:0.19434\teval-logloss:0.34111\n",
      "[25]\ttrain-logloss:0.18637\teval-logloss:0.33634\n",
      "[26]\ttrain-logloss:0.17875\teval-logloss:0.33082\n",
      "[27]\ttrain-logloss:0.17167\teval-logloss:0.32675\n",
      "[28]\ttrain-logloss:0.16481\teval-logloss:0.32099\n",
      "[29]\ttrain-logloss:0.15835\teval-logloss:0.31671\n",
      "[30]\ttrain-logloss:0.15225\teval-logloss:0.31277\n",
      "[31]\ttrain-logloss:0.14650\teval-logloss:0.30882\n",
      "[32]\ttrain-logloss:0.14102\teval-logloss:0.30437\n",
      "[33]\ttrain-logloss:0.13590\teval-logloss:0.30103\n",
      "[34]\ttrain-logloss:0.13109\teval-logloss:0.29794\n",
      "[35]\ttrain-logloss:0.12647\teval-logloss:0.29499\n",
      "[36]\ttrain-logloss:0.12197\teval-logloss:0.29295\n",
      "[37]\ttrain-logloss:0.11784\teval-logloss:0.29043\n",
      "[38]\ttrain-logloss:0.11379\teval-logloss:0.28927\n",
      "[39]\ttrain-logloss:0.10994\teval-logloss:0.28578\n",
      "[40]\ttrain-logloss:0.10638\teval-logloss:0.28364\n",
      "[41]\ttrain-logloss:0.10302\teval-logloss:0.28183\n",
      "[42]\ttrain-logloss:0.09963\teval-logloss:0.28005\n",
      "[43]\ttrain-logloss:0.09649\teval-logloss:0.27972\n",
      "[44]\ttrain-logloss:0.09359\teval-logloss:0.27744\n",
      "[45]\ttrain-logloss:0.09080\teval-logloss:0.27542\n",
      "[46]\ttrain-logloss:0.08807\teval-logloss:0.27504\n",
      "[47]\ttrain-logloss:0.08541\teval-logloss:0.27458\n",
      "[48]\ttrain-logloss:0.08299\teval-logloss:0.27348\n",
      "[49]\ttrain-logloss:0.08035\teval-logloss:0.27247\n",
      "[50]\ttrain-logloss:0.07786\teval-logloss:0.27163\n",
      "[51]\ttrain-logloss:0.07550\teval-logloss:0.27094\n",
      "[52]\ttrain-logloss:0.07344\teval-logloss:0.26967\n",
      "[53]\ttrain-logloss:0.07147\teval-logloss:0.27008\n",
      "[54]\ttrain-logloss:0.06964\teval-logloss:0.26890\n",
      "[55]\ttrain-logloss:0.06766\teval-logloss:0.26854\n",
      "[56]\ttrain-logloss:0.06591\teval-logloss:0.26900\n",
      "[57]\ttrain-logloss:0.06433\teval-logloss:0.26790\n",
      "[58]\ttrain-logloss:0.06259\teval-logloss:0.26663\n",
      "[59]\ttrain-logloss:0.06107\teval-logloss:0.26743\n",
      "[60]\ttrain-logloss:0.05957\teval-logloss:0.26610\n",
      "[61]\ttrain-logloss:0.05817\teval-logloss:0.26644\n",
      "[62]\ttrain-logloss:0.05691\teval-logloss:0.26673\n",
      "[63]\ttrain-logloss:0.05550\teval-logloss:0.26550\n",
      "[64]\ttrain-logloss:0.05422\teval-logloss:0.26443\n",
      "[65]\ttrain-logloss:0.05311\teval-logloss:0.26500\n",
      "[66]\ttrain-logloss:0.05207\teval-logloss:0.26591\n",
      "[67]\ttrain-logloss:0.05093\teval-logloss:0.26501\n",
      "[68]\ttrain-logloss:0.04976\teval-logloss:0.26435\n",
      "[69]\ttrain-logloss:0.04872\teval-logloss:0.26360\n",
      "[70]\ttrain-logloss:0.04776\teval-logloss:0.26319\n",
      "[71]\ttrain-logloss:0.04680\teval-logloss:0.26255\n",
      "[72]\ttrain-logloss:0.04580\teval-logloss:0.26204\n",
      "[73]\ttrain-logloss:0.04484\teval-logloss:0.26254\n",
      "[74]\ttrain-logloss:0.04388\teval-logloss:0.26289\n",
      "[75]\ttrain-logloss:0.04309\teval-logloss:0.26249\n",
      "[76]\ttrain-logloss:0.04224\teval-logloss:0.26217\n",
      "[77]\ttrain-logloss:0.04133\teval-logloss:0.26166\n",
      "[78]\ttrain-logloss:0.04050\teval-logloss:0.26179\n",
      "[79]\ttrain-logloss:0.03967\teval-logloss:0.26103\n",
      "[80]\ttrain-logloss:0.03876\teval-logloss:0.26094\n",
      "[81]\ttrain-logloss:0.03806\teval-logloss:0.26148\n",
      "[82]\ttrain-logloss:0.03740\teval-logloss:0.26054\n",
      "[83]\ttrain-logloss:0.03676\teval-logloss:0.25967\n",
      "[84]\ttrain-logloss:0.03605\teval-logloss:0.25905\n",
      "[85]\ttrain-logloss:0.03545\teval-logloss:0.26007\n",
      "[86]\ttrain-logloss:0.03489\teval-logloss:0.25984\n",
      "[87]\ttrain-logloss:0.03425\teval-logloss:0.25933\n",
      "[88]\ttrain-logloss:0.03361\teval-logloss:0.25932\n",
      "[89]\ttrain-logloss:0.03311\teval-logloss:0.26002\n",
      "[90]\ttrain-logloss:0.03260\teval-logloss:0.25936\n",
      "[91]\ttrain-logloss:0.03202\teval-logloss:0.25886\n",
      "[92]\ttrain-logloss:0.03152\teval-logloss:0.25918\n",
      "[93]\ttrain-logloss:0.03107\teval-logloss:0.25864\n",
      "[94]\ttrain-logloss:0.03049\teval-logloss:0.25951\n",
      "[95]\ttrain-logloss:0.03007\teval-logloss:0.26091\n",
      "[96]\ttrain-logloss:0.02963\teval-logloss:0.26014\n",
      "[97]\ttrain-logloss:0.02913\teval-logloss:0.25974\n",
      "[98]\ttrain-logloss:0.02866\teval-logloss:0.25937\n",
      "[99]\ttrain-logloss:0.02829\teval-logloss:0.25893\n",
      "[100]\ttrain-logloss:0.02789\teval-logloss:0.25928\n",
      "[101]\ttrain-logloss:0.02751\teval-logloss:0.25955\n",
      "[102]\ttrain-logloss:0.02714\teval-logloss:0.25901\n",
      "[103]\ttrain-logloss:0.02668\teval-logloss:0.25991\n",
      "[104]\ttrain-logloss:0.02634\teval-logloss:0.25950\n",
      "[105]\ttrain-logloss:0.02594\teval-logloss:0.25924\n",
      "[106]\ttrain-logloss:0.02556\teval-logloss:0.25901\n",
      "[107]\ttrain-logloss:0.02522\teval-logloss:0.25738\n",
      "[108]\ttrain-logloss:0.02492\teval-logloss:0.25702\n",
      "[109]\ttrain-logloss:0.02453\teval-logloss:0.25789\n",
      "[110]\ttrain-logloss:0.02418\teval-logloss:0.25770\n",
      "[111]\ttrain-logloss:0.02384\teval-logloss:0.25842\n",
      "[112]\ttrain-logloss:0.02356\teval-logloss:0.25810\n",
      "[113]\ttrain-logloss:0.02322\teval-logloss:0.25848\n",
      "[114]\ttrain-logloss:0.02290\teval-logloss:0.25833\n",
      "[115]\ttrain-logloss:0.02260\teval-logloss:0.25820\n",
      "[116]\ttrain-logloss:0.02229\teval-logloss:0.25905\n",
      "[117]\ttrain-logloss:0.02204\teval-logloss:0.25878\n",
      "[118]\ttrain-logloss:0.02176\teval-logloss:0.25728\n",
      "[119]\ttrain-logloss:0.02149\teval-logloss:0.25722\n",
      "[120]\ttrain-logloss:0.02119\teval-logloss:0.25764\n",
      "[121]\ttrain-logloss:0.02095\teval-logloss:0.25761\n",
      "[122]\ttrain-logloss:0.02067\teval-logloss:0.25832\n",
      "[123]\ttrain-logloss:0.02045\teval-logloss:0.25808\n",
      "[124]\ttrain-logloss:0.02023\teval-logloss:0.25855\n",
      "[125]\ttrain-logloss:0.01998\teval-logloss:0.25714\n",
      "[126]\ttrain-logloss:0.01973\teval-logloss:0.25587\n",
      "[127]\ttrain-logloss:0.01946\teval-logloss:0.25640\n",
      "[128]\ttrain-logloss:0.01927\teval-logloss:0.25685\n",
      "[129]\ttrain-logloss:0.01908\teval-logloss:0.25665\n",
      "[130]\ttrain-logloss:0.01886\teval-logloss:0.25712\n",
      "[131]\ttrain-logloss:0.01863\teval-logloss:0.25609\n",
      "[132]\ttrain-logloss:0.01839\teval-logloss:0.25649\n",
      "[133]\ttrain-logloss:0.01816\teval-logloss:0.25789\n",
      "[134]\ttrain-logloss:0.01802\teval-logloss:0.25811\n",
      "[135]\ttrain-logloss:0.01785\teval-logloss:0.25794\n",
      "[136]\ttrain-logloss:0.01763\teval-logloss:0.25876\n",
      "[137]\ttrain-logloss:0.01748\teval-logloss:0.25884\n",
      "[138]\ttrain-logloss:0.01732\teval-logloss:0.25867\n",
      "[139]\ttrain-logloss:0.01719\teval-logloss:0.25876\n",
      "[140]\ttrain-logloss:0.01696\teval-logloss:0.25987\n",
      "[141]\ttrain-logloss:0.01681\teval-logloss:0.25960\n",
      "[142]\ttrain-logloss:0.01669\teval-logloss:0.25982\n",
      "[143]\ttrain-logloss:0.01656\teval-logloss:0.25992\n",
      "[144]\ttrain-logloss:0.01638\teval-logloss:0.26035\n",
      "[145]\ttrain-logloss:0.01623\teval-logloss:0.26055\n",
      "[146]\ttrain-logloss:0.01606\teval-logloss:0.26092\n",
      "[147]\ttrain-logloss:0.01589\teval-logloss:0.26137\n",
      "[148]\ttrain-logloss:0.01572\teval-logloss:0.25999\n",
      "[149]\ttrain-logloss:0.01556\teval-logloss:0.26028\n",
      "[150]\ttrain-logloss:0.01546\teval-logloss:0.26048\n",
      "[151]\ttrain-logloss:0.01531\teval-logloss:0.26142\n",
      "[152]\ttrain-logloss:0.01515\teval-logloss:0.26188\n",
      "[153]\ttrain-logloss:0.01501\teval-logloss:0.26227\n",
      "[154]\ttrain-logloss:0.01486\teval-logloss:0.26287\n",
      "[155]\ttrain-logloss:0.01476\teval-logloss:0.26299\n",
      "[156]\ttrain-logloss:0.01462\teval-logloss:0.26346\n",
      "[157]\ttrain-logloss:0.01448\teval-logloss:0.26379\n",
      "[158]\ttrain-logloss:0.01434\teval-logloss:0.26306\n",
      "[159]\ttrain-logloss:0.01424\teval-logloss:0.26237\n",
      "[160]\ttrain-logloss:0.01410\teval-logloss:0.26251\n",
      "[161]\ttrain-logloss:0.01401\teval-logloss:0.26265\n",
      "[162]\ttrain-logloss:0.01392\teval-logloss:0.26264\n",
      "[163]\ttrain-logloss:0.01380\teval-logloss:0.26250\n",
      "[164]\ttrain-logloss:0.01372\teval-logloss:0.26264\n",
      "[165]\ttrain-logloss:0.01359\teval-logloss:0.26255\n",
      "[166]\ttrain-logloss:0.01350\teval-logloss:0.26188\n",
      "[167]\ttrain-logloss:0.01342\teval-logloss:0.26203\n",
      "[168]\ttrain-logloss:0.01331\teval-logloss:0.26190\n",
      "[169]\ttrain-logloss:0.01319\teval-logloss:0.26184\n",
      "[170]\ttrain-logloss:0.01312\teval-logloss:0.26133\n",
      "[171]\ttrain-logloss:0.01304\teval-logloss:0.26148\n",
      "[172]\ttrain-logloss:0.01297\teval-logloss:0.26157\n",
      "[173]\ttrain-logloss:0.01285\teval-logloss:0.26253\n",
      "[174]\ttrain-logloss:0.01278\teval-logloss:0.26229\n",
      "[175]\ttrain-logloss:0.01267\teval-logloss:0.26086\n"
     ]
    }
   ],
   "source": [
    "# 학습 데이터 셋은 train, 평가 데이터 셋은 eval로 명기함\n",
    "eval_list = [(dtr, 'train'), (dval, 'eval')]\n",
    "\n",
    "# 하이퍼 파라미터와 early stopping 파라미터를 train()함수의 파라미터로 전달\n",
    "xgb_model = xgb.train(params = params, dtrain = dtr, num_boost_round = num_rounds, \n",
    "                     early_stopping_rounds = 50, evals = eval_list )"
   ]
  },
  {
   "cell_type": "code",
   "execution_count": 18,
   "id": "9a3feb6e-dde7-4297-8e1e-91d4d8e92557",
   "metadata": {},
   "outputs": [
    {
     "data": {
      "text/plain": [
       "array([0.845, 0.008, 0.68 , 0.081, 0.975, 0.999, 0.998, 0.998, 0.996,\n",
       "       0.001], dtype=float32)"
      ]
     },
     "execution_count": 18,
     "metadata": {},
     "output_type": "execute_result"
    }
   ],
   "source": [
    "pred_probs = xgb_model.predict(dtest)\n",
    "np.round(pred_probs[:10], 3)"
   ]
  },
  {
   "cell_type": "code",
   "execution_count": 26,
   "id": "5e9aea4e-4c2e-46f3-bf33-31932afd7cdc",
   "metadata": {},
   "outputs": [
    {
     "data": {
      "text/plain": [
       "[1, 0, 1, 0, 1, 1, 1, 1, 1, 0]"
      ]
     },
     "execution_count": 26,
     "metadata": {},
     "output_type": "execute_result"
    }
   ],
   "source": [
    "# 예측 확률이 0.5보다 크면 1, 그렇지 않으면 0으로 예측값 결정하여 list 객체인 preds에 저장\n",
    "preds = [ 1 if x > 0.5 else 0 for x in pred_probs ]\n",
    "preds[:10]"
   ]
  },
  {
   "cell_type": "code",
   "execution_count": 30,
   "id": "599b0b0b-6f76-47ea-9348-ceaef252c676",
   "metadata": {},
   "outputs": [
    {
     "data": {
      "text/plain": [
       "array([[34,  3],\n",
       "       [ 2, 75]], dtype=int64)"
      ]
     },
     "execution_count": 30,
     "metadata": {},
     "output_type": "execute_result"
    }
   ],
   "source": [
    "from sklearn.metrics import confusion_matrix\n",
    "confusion_matrix(y_test, preds)"
   ]
  },
  {
   "cell_type": "code",
   "execution_count": 34,
   "id": "b9a4ad12-cc6c-4c18-9dfb-2a1def845ba3",
   "metadata": {},
   "outputs": [
    {
     "name": "stdout",
     "output_type": "stream",
     "text": [
      "0.956140350877193\n",
      "0.9615384615384616\n",
      "0.974025974025974\n",
      "0.967741935483871\n"
     ]
    },
    {
     "data": {
      "text/plain": [
       "0.9464724464724464"
      ]
     },
     "execution_count": 34,
     "metadata": {},
     "output_type": "execute_result"
    }
   ],
   "source": [
    "from sklearn.metrics import accuracy_score, recall_score, precision_score, f1_score, roc_auc_score\n",
    "\n",
    "print(accuracy_score(y_test, preds))\n",
    "print(precision_score(y_test, preds))\n",
    "print(recall_score(y_test, preds))\n",
    "print(f1_score(y_test, preds))\n",
    "roc_auc_score(y_test, preds)"
   ]
  },
  {
   "cell_type": "code",
   "execution_count": null,
   "id": "bf3845e4-8a69-45b2-9e5a-9b1682acc263",
   "metadata": {},
   "outputs": [],
   "source": []
  }
 ],
 "metadata": {
  "kernelspec": {
   "display_name": "Python 3 (ipykernel)",
   "language": "python",
   "name": "python3"
  },
  "language_info": {
   "codemirror_mode": {
    "name": "ipython",
    "version": 3
   },
   "file_extension": ".py",
   "mimetype": "text/x-python",
   "name": "python",
   "nbconvert_exporter": "python",
   "pygments_lexer": "ipython3",
   "version": "3.9.12"
  }
 },
 "nbformat": 4,
 "nbformat_minor": 5
}

{
 "cells": [
  {
   "cell_type": "markdown",
   "id": "678890d9-9f2e-4773-bd32-48b3ff5f4749",
   "metadata": {},
   "source": [
    "# 회귀"
   ]
  },
  {
   "cell_type": "markdown",
   "id": "1794c0b4-b7fb-49ec-a01a-7946b03baa0f",
   "metadata": {},
   "source": [
    ": <span style='background-color: #ffdce0'>**최적의 회귀 계수**</span>(Regression coefficients)를 찾아내는 것  \n",
    "  \n",
    "통계학 용어를 빌리자면, \"여러 개의 독립변수(피처)와 한 개의 종속변수(결정값) 간의 상관관계를 모델링하는 기법\"을 통칭함  \n",
    "  \n",
    "|      |분류|회귀|\n",
    "|------|----|----|\n",
    "|예측값|카테고리와 같은 이산형 클래스|연속된 숫자형|\n"
   ]
  },
  {
   "cell_type": "markdown",
   "id": "68471463-45f2-4760-82e6-8b50bfd9cecf",
   "metadata": {
    "jupyter": {
     "source_hidden": true
    },
    "tags": []
   },
   "source": [
    "> 표 왼쪽 정렬하기"
   ]
  },
  {
   "cell_type": "code",
   "execution_count": 10,
   "id": "43777b67-0d5c-4276-8719-899b358dbcd4",
   "metadata": {
    "jupyter": {
     "source_hidden": true
    },
    "tags": []
   },
   "outputs": [
    {
     "data": {
      "text/html": [
       "<style>\n",
       "table {float:left}\n",
       "</style>\n"
      ],
      "text/plain": [
       "<IPython.core.display.HTML object>"
      ]
     },
     "metadata": {},
     "output_type": "display_data"
    }
   ],
   "source": [
    "%%html\n",
    "<style>\n",
    "table {float:left}\n",
    "</style>"
   ]
  },
  {
   "cell_type": "markdown",
   "id": "c8bcbe8d-f42b-42e9-bf1c-fd38fefb2d9c",
   "metadata": {},
   "source": [
    "## 유형"
   ]
  },
  {
   "cell_type": "markdown",
   "id": "72bea020-314a-4b04-a16d-d13bc46ee756",
   "metadata": {},
   "source": [
    "회귀 계수가 선형이냐? 아니냐? 에 따라 => 선형/비선형 회귀로 나뉨  \n",
    "독립 변수가 한 개냐? 여러 개냐? 에 따라 => 단일/다중 회귀로 나뉨  "
   ]
  },
  {
   "cell_type": "markdown",
   "id": "bc16d507-9ec5-4ec1-b34a-7c650a137bb4",
   "metadata": {},
   "source": [
    "### 종류"
   ]
  },
  {
   "cell_type": "markdown",
   "id": "7d926d66-0ce8-45e0-9d9e-1d5698bd92a2",
   "metadata": {},
   "source": [
    "선형 회귀 모델은 <span style='background-color: #dcffe4'>**규제 방법에 따라**</span> 별도의 유형들이 존재\n",
    "\n",
    "  > **규제** : 회귀 계수에 페널티 값 적용(과적합 문제 해결 위함)  \n",
    "  >> **L2 규제** : 회귀 계수 값을 더 작게 만듦  \n",
    "  >> **L1 규제** : 예측 영향력이 작은 피처의 회귀 계수를 0으로 만들어 회귀 예측 시 피처가 선택되지 않게 함  \n",
    "         (그래서, 피처 선택 기능으로도 불림)\n",
    "             >>> 일반 선형 회귀 : 규제 적용하지 않은 모델  \n",
    "    >>> 릿지(Ridge) : 선형 회귀 + L2 규제 추가  \n",
    "    >>> 라쏘(Lasso) : 선형 회귀 + L1 규제 적용  \n",
    "    >>> 엘라스틱넷(ElasticNet) : L2 + L1 규제 결합 모델  \n",
    "    >>> 로지스틱 회귀(Logistic Regression) : 매우 강력한 분류 알고리즘"
   ]
  },
  {
   "cell_type": "markdown",
   "id": "a456a3ff-013d-4235-9e8a-c68809671afd",
   "metadata": {},
   "source": [
    "## 단순 선형 회귀"
   ]
  },
  {
   "cell_type": "markdown",
   "id": "2a4ce5f3-b8c4-4077-bc31-1cd9ba431db0",
   "metadata": {},
   "source": [
    "독립 변수도 하나, 종속 변수도 하나인 선형 회귀  \n",
    "직선 형태의 선형 그래프"
   ]
  },
  {
   "cell_type": "markdown",
   "id": "8d5d3da7-ba75-47f3-bead-840ad1b9cfbe",
   "metadata": {},
   "source": [
    "$\\hat{Y} = W_{0} + W_{1} * X$"
   ]
  },
  {
   "cell_type": "markdown",
   "id": "9d7c9cc8-7c3d-4667-b92a-5ea5b3e60a2a",
   "metadata": {},
   "source": [
    "$W_{0}$ = 절편, intercept  "
   ]
  },
  {
   "cell_type": "markdown",
   "id": "35892694-01de-4b05-8a2d-a0d6b4e3935b",
   "metadata": {},
   "source": [
    "> **잔차** <br>\n",
    ": 실제값과 예측값 차이에 따른 오류의 값 or 남은 오류"
   ]
  },
  {
   "cell_type": "markdown",
   "id": "9a0dfaeb-33d3-4fc4-b1dd-c6355e730d09",
   "metadata": {},
   "source": [
    "> <span style='background-color: #ffdce0'>**최적의 회귀 모델을 만든다**</span>  \n",
    "= 전체 data의 잔차의 합이 최소가 되는 모델을 만든다  \n",
    "= 오류값의 합이 최소가 될 수 있는 최적의 회귀 계수를 찾는다"
   ]
  },
  {
   "cell_type": "markdown",
   "id": "3d854b22-5cc1-41ea-a4e3-0b621635115b",
   "metadata": {},
   "source": [
    "> 오류는 양과 음의 값 모두 존재 So, 두 가지 방법이 존재함  \n",
    "    1. 절댓값 취해 더하기 <br>\n",
    "    2. 오류값의 제곱을 구해 더하기(**RSS**, Residual Sum of Square)"
   ]
  },
  {
   "cell_type": "markdown",
   "id": "893c231e-1189-4c45-b299-e115b282c16f",
   "metadata": {},
   "source": [
    "## RSS"
   ]
  },
  {
   "cell_type": "markdown",
   "id": "e034e9f6-765e-4bfb-b869-5b507da0a488",
   "metadata": {},
   "source": [
    "= $Error^{2}$"
   ]
  },
  {
   "cell_type": "markdown",
   "id": "ad190e26-6536-4673-916c-6500179b4e85",
   "metadata": {},
   "source": [
    "일반적으로 RSS는 학습 데이터의 건수로 나누어서 아래와 같이 정규화된 식으로 표현함"
   ]
  },
  {
   "cell_type": "markdown",
   "id": "ffc34f8c-d8f8-4c00-bf36-454440aa53d7",
   "metadata": {},
   "source": [
    "$RSS(W_{0}, W_{1}) = \\frac{1}{N} \\sum_{i=1}^N (Y_{i} - (W_{0} + W_{1} * X_{i})^2$"
   ]
  },
  {
   "cell_type": "markdown",
   "id": "516b5bb4-1481-4da8-a227-bca5316eb838",
   "metadata": {},
   "source": [
    "RSS = 비용 함수 = Cost func = 손실 함수 = Loss func = 목적 함수 = Objective func = 오차 함수 = Error func"
   ]
  },
  {
   "cell_type": "markdown",
   "id": "b4961ede-1975-4be2-b80b-a69dbf4f009a",
   "metadata": {},
   "source": [
    "> 결론 : <span style='background-color: #ffdce0'>**더 이상 감소하지 않는 최소의 오류 값을 구하는 것**</span>임"
   ]
  },
  {
   "cell_type": "markdown",
   "id": "50f06f55-7e0e-404d-9719-d2e756890df7",
   "metadata": {},
   "source": [
    "## 비용 최소화하기 - 경사하강법(Gradient Descent)"
   ]
  },
  {
   "cell_type": "markdown",
   "id": "42958f82-a0f4-4b2a-be2d-2aa9b34e7900",
   "metadata": {},
   "source": [
    "점진적인 하강 /  반복적인 계산을 통해 오류 값이 최소가 되는 W 파라미터를 구하는 방식"
   ]
  },
  {
   "cell_type": "markdown",
   "id": "302ee43f-60c2-4686-b92e-fbf65b18e8a0",
   "metadata": {},
   "source": [
    "### 노이즈 섞어주기"
   ]
  },
  {
   "cell_type": "code",
   "execution_count": 78,
   "id": "66f81a81-1fdb-41dd-a73f-c18a61b08406",
   "metadata": {},
   "outputs": [],
   "source": [
    "import numpy as np\n",
    "import matplotlib.pyplot as plt\n",
    "%matplotlib inline\n",
    "\n",
    "np.random.seed(0)\n",
    "\n",
    "x = 2 * np.random.rand(100,1)  # 0과 1사이의 값 중 100개 임의 추출\n",
    "\n",
    "# y = 4X + 6 식인데 반대로 6 + 4X로 표현, 노이즈 추가\n",
    "y = 6 + 4 * x + np.random.randn(100,1)"
   ]
  },
  {
   "cell_type": "markdown",
   "id": "dd3877cf-a842-4a13-9d2b-c20c5a3837f5",
   "metadata": {},
   "source": [
    "### 산점도 시각화"
   ]
  },
  {
   "cell_type": "code",
   "execution_count": 14,
   "id": "c7675136-e6bb-4e4c-94d5-047aadcfb46f",
   "metadata": {},
   "outputs": [
    {
     "data": {
      "text/plain": [
       "<matplotlib.collections.PathCollection at 0x1ffa527cd00>"
      ]
     },
     "execution_count": 14,
     "metadata": {},
     "output_type": "execute_result"
    },
    {
     "data": {
      "image/png": "[encoded data removed]",
      "text/plain": [
       "<Figure size 432x288 with 1 Axes>"
      ]
     },
     "metadata": {
      "needs_background": "light"
     },
     "output_type": "display_data"
    }
   ],
   "source": [
    "plt.scatter(x,y)"
   ]
  },
  {
   "cell_type": "markdown",
   "id": "96c6cfcd-ea53-4071-896d-740a6bbd6b76",
   "metadata": {},
   "source": [
    "=> 이 점들을 가장 잘 설명하는 직선을 찾아주는 과정이 이어짐"
   ]
  },
  {
   "cell_type": "code",
   "execution_count": 21,
   "id": "06beb9dc-6c77-4433-9e12-e0375fe08ba4",
   "metadata": {},
   "outputs": [
    {
     "name": "stdout",
     "output_type": "stream",
     "text": [
      "[[3.96846751]]\n"
     ]
    },
    {
     "data": {
      "text/plain": [
       "array([6.22215108])"
      ]
     },
     "execution_count": 21,
     "metadata": {},
     "output_type": "execute_result"
    }
   ],
   "source": [
    "from sklearn.linear_model import LinearRegression\n",
    "\n",
    "model = LinearRegression(fit_intercept = True)  # fit_intercept[default = Ture] : 절편 값을 계산할지 말지\n",
    "\n",
    "lr = model.fit(x,y)\n",
    "print(lr.coef_) # 회귀 계수가 배열 형태로 출력\n",
    "lr.intercept_  # intercept 값"
   ]
  },
  {
   "cell_type": "code",
   "execution_count": 22,
   "id": "6e40c400-fd90-4c44-b907-afa842373e85",
   "metadata": {},
   "outputs": [
    {
     "data": {
      "text/plain": [
       "(100, 1)"
      ]
     },
     "execution_count": 22,
     "metadata": {},
     "output_type": "execute_result"
    }
   ],
   "source": [
    "x.shape"
   ]
  },
  {
   "cell_type": "markdown",
   "id": "e15affe7-6b94-4246-bf8d-8e401fb5bdf2",
   "metadata": {},
   "source": [
    "----------------"
   ]
  },
  {
   "cell_type": "code",
   "execution_count": 23,
   "id": "7bc37883-33aa-450f-8445-6f059c43a9ae",
   "metadata": {},
   "outputs": [
    {
     "data": {
      "text/plain": [
       "array([0.41494015, 0.84937094, 0.74833996, 0.92715085, 0.55525741,\n",
       "       1.17356869, 1.72771121, 0.23506371, 1.03475821, 0.26413621,\n",
       "       1.43371936, 0.79211941, 1.13084262, 0.36655967, 0.28969552,\n",
       "       0.97611256, 0.71122548, 1.88086389, 1.53065051, 1.49732724,\n",
       "       1.80743948, 0.16684487, 1.10438494, 1.16895214, 1.92387276,\n",
       "       0.58429505, 0.48165756, 0.20058788, 0.03285926, 1.85905863,\n",
       "       1.33983309, 1.57030582, 0.56346021, 1.17282033, 0.12791053,\n",
       "       0.97125519, 1.95499028, 1.75301049, 0.6763179 , 1.92314031,\n",
       "       0.46340325, 1.89863764, 1.88275541, 1.59840517, 1.26089587,\n",
       "       1.74857593, 0.58604057, 1.69788711, 1.23575338, 0.02647372,\n",
       "       0.69446704, 0.29628172, 1.96365878, 0.95674061, 0.99478273,\n",
       "       1.27894503, 0.73716921, 0.27380054, 1.64423547, 0.37969582,\n",
       "       1.02263797, 0.44863406, 0.19568897, 1.72438303, 1.94583898,\n",
       "       1.92166932, 1.813111  , 1.54809467, 0.6662903 , 0.16220278,\n",
       "       0.81448234, 0.46446828, 0.26497527, 0.10685436, 1.45118873,\n",
       "       0.02285492, 1.5411615 , 0.29389329, 0.15904417, 0.17920607,\n",
       "       1.34409561, 0.49073442, 0.84107893, 1.11473758, 1.72110235,\n",
       "       1.45408853, 0.54065581, 0.2629656 , 0.11074864, 0.60319727,\n",
       "       0.5242363 , 0.91228113, 1.36656267, 1.39125089, 0.56703769,\n",
       "       0.75985391, 0.36230192, 1.57709102, 0.11369615, 1.39399448])"
      ]
     },
     "execution_count": 23,
     "metadata": {},
     "output_type": "execute_result"
    }
   ],
   "source": [
    "c = 2 * np.random.rand(100)\n",
    "c"
   ]
  },
  {
   "cell_type": "code",
   "execution_count": 25,
   "id": "a8065df4-9d8d-4ff9-8b0b-a7d5c9b841d5",
   "metadata": {},
   "outputs": [
    {
     "data": {
      "text/plain": [
       "(100,)"
      ]
     },
     "execution_count": 25,
     "metadata": {},
     "output_type": "execute_result"
    }
   ],
   "source": [
    "c.shape # 1차원"
   ]
  },
  {
   "cell_type": "code",
   "execution_count": 79,
   "id": "edef37df-4047-45d7-a368-1f8df189b022",
   "metadata": {
    "tags": []
   },
   "outputs": [
    {
     "data": {
      "text/plain": [
       "array([[10.03651412,  9.01555674,  9.74688963, ..., 10.27440409,\n",
       "         8.35982356, 12.45500089],\n",
       "       [11.36752102, 10.34656364, 11.07789653, ..., 11.60541099,\n",
       "         9.69083046, 13.78600779],\n",
       "       [10.4681131 ,  9.44715572, 10.17848861, ..., 10.70600307,\n",
       "         8.79142254, 12.88659987],\n",
       "       ...,\n",
       "       [ 5.80686646,  4.78590908,  5.51724197, ...,  6.04475643,\n",
       "         4.1301759 ,  8.22535323],\n",
       "       [12.27752632, 11.25656894, 11.98790183, ..., 12.51541629,\n",
       "        10.60083577, 14.6960131 ],\n",
       "       [ 5.6835699 ,  4.66261252,  5.39394541, ...,  5.92145987,\n",
       "         4.00687934,  8.10205667]])"
      ]
     },
     "execution_count": 79,
     "metadata": {},
     "output_type": "execute_result"
    }
   ],
   "source": [
    "d = 6 + 4 * x + np.random.randn(100) # 노이즈 섞어주기\n",
    "d"
   ]
  },
  {
   "cell_type": "code",
   "execution_count": 34,
   "id": "98af00ae-915c-4b38-8464-9f140158d14d",
   "metadata": {
    "collapsed": true,
    "jupyter": {
     "outputs_hidden": true
    },
    "tags": []
   },
   "outputs": [
    {
     "name": "stdout",
     "output_type": "stream",
     "text": [
      "[[0.29249318]\n",
      " [0.29249318]\n",
      " [0.29249318]\n",
      " [0.29249318]\n",
      " [0.29249318]\n",
      " [0.29249318]\n",
      " [0.29249318]\n",
      " [0.29249318]\n",
      " [0.29249318]\n",
      " [0.29249318]\n",
      " [0.29249318]\n",
      " [0.29249318]\n",
      " [0.29249318]\n",
      " [0.29249318]\n",
      " [0.29249318]\n",
      " [0.29249318]\n",
      " [0.29249318]\n",
      " [0.29249318]\n",
      " [0.29249318]\n",
      " [0.29249318]\n",
      " [0.29249318]\n",
      " [0.29249318]\n",
      " [0.29249318]\n",
      " [0.29249318]\n",
      " [0.29249318]\n",
      " [0.29249318]\n",
      " [0.29249318]\n",
      " [0.29249318]\n",
      " [0.29249318]\n",
      " [0.29249318]\n",
      " [0.29249318]\n",
      " [0.29249318]\n",
      " [0.29249318]\n",
      " [0.29249318]\n",
      " [0.29249318]\n",
      " [0.29249318]\n",
      " [0.29249318]\n",
      " [0.29249318]\n",
      " [0.29249318]\n",
      " [0.29249318]\n",
      " [0.29249318]\n",
      " [0.29249318]\n",
      " [0.29249318]\n",
      " [0.29249318]\n",
      " [0.29249318]\n",
      " [0.29249318]\n",
      " [0.29249318]\n",
      " [0.29249318]\n",
      " [0.29249318]\n",
      " [0.29249318]\n",
      " [0.29249318]\n",
      " [0.29249318]\n",
      " [0.29249318]\n",
      " [0.29249318]\n",
      " [0.29249318]\n",
      " [0.29249318]\n",
      " [0.29249318]\n",
      " [0.29249318]\n",
      " [0.29249318]\n",
      " [0.29249318]\n",
      " [0.29249318]\n",
      " [0.29249318]\n",
      " [0.29249318]\n",
      " [0.29249318]\n",
      " [0.29249318]\n",
      " [0.29249318]\n",
      " [0.29249318]\n",
      " [0.29249318]\n",
      " [0.29249318]\n",
      " [0.29249318]\n",
      " [0.29249318]\n",
      " [0.29249318]\n",
      " [0.29249318]\n",
      " [0.29249318]\n",
      " [0.29249318]\n",
      " [0.29249318]\n",
      " [0.29249318]\n",
      " [0.29249318]\n",
      " [0.29249318]\n",
      " [0.29249318]\n",
      " [0.29249318]\n",
      " [0.29249318]\n",
      " [0.29249318]\n",
      " [0.29249318]\n",
      " [0.29249318]\n",
      " [0.29249318]\n",
      " [0.29249318]\n",
      " [0.29249318]\n",
      " [0.29249318]\n",
      " [0.29249318]\n",
      " [0.29249318]\n",
      " [0.29249318]\n",
      " [0.29249318]\n",
      " [0.29249318]\n",
      " [0.29249318]\n",
      " [0.29249318]\n",
      " [0.29249318]\n",
      " [0.29249318]\n",
      " [0.29249318]\n",
      " [0.29249318]]\n"
     ]
    },
    {
     "data": {
      "text/plain": [
       "array([10.19385824, 10.19706863,  8.77672211,  8.11895553,  7.91938109,\n",
       "       10.11269886,  8.31346023,  8.99550313,  8.90600545,  9.44975219,\n",
       "        7.56603968,  9.69109808, 10.02621051,  9.59074157,  9.19143331,\n",
       "        9.59971965,  9.90136583,  6.72972673, 11.45823179,  9.89241281,\n",
       "        8.8499109 ,  9.11136611,  9.99606126,  9.38621555,  7.47163502,\n",
       "       11.56681235,  9.39177883, 10.5224922 ,  8.81026964, 11.03869654,\n",
       "        9.78866317, 10.11116332,  8.45706612, 10.71346478, 10.19213765,\n",
       "       10.80416572,  8.87423193,  9.02129237, 11.80623618,  8.44230366,\n",
       "        9.36636979, 10.63921085,  9.60004445, 10.08527317,  9.10287046,\n",
       "        9.87237537,  8.19579263, 11.16045017,  9.38415544,  8.82214128,\n",
       "       10.16870257,  9.0415997 ,  8.16806101,  8.15560198, 10.19609264,\n",
       "        9.34274605,  9.36861793, 10.58006329,  8.37549368,  8.77164173,\n",
       "        9.11743968,  9.59667108,  9.46014803,  9.21543229,  9.44069308,\n",
       "        9.39501421,  8.7827151 ,  8.6893265 ,  9.77683584,  8.6114044 ,\n",
       "        8.34496423,  9.19002723,  9.34465247, 11.75904298,  8.79761921,\n",
       "       10.44558021, 10.24950782,  8.31337453, 10.27557246,  8.31843885,\n",
       "        6.84314725, 10.10863901,  7.7464289 ,  9.95325395,  8.81830859,\n",
       "       11.16187028, 10.57082889,  9.04893368,  8.81448187,  8.28824208,\n",
       "        9.06139685,  9.22196399,  9.13762594,  9.65902334, 10.08084098,\n",
       "        9.85197394,  8.73817556,  8.06452801, 10.86685133,  8.8128703 ])"
      ]
     },
     "execution_count": 34,
     "metadata": {},
     "output_type": "execute_result"
    }
   ],
   "source": [
    "model = LinearRegression(fit_intercept = True)  # fit_intercept[default = Ture] : 절편 값을 계산할지 말지\n",
    "\n",
    "lr1 = model.fit(c.reshape(-1,1),d)\n",
    "print(lr1.coef_) # 회귀 계수가 배열 형태로 출력\n",
    "lr1.intercept_  # intercept 값"
   ]
  },
  {
   "cell_type": "markdown",
   "id": "4df5686a-10b2-4f4b-900c-5f00b7c67dc7",
   "metadata": {},
   "source": [
    "> reshape(-1,1)의 다른 방법"
   ]
  },
  {
   "cell_type": "code",
   "execution_count": 36,
   "id": "39cafc39-d26c-463e-a41e-bcdcfff33779",
   "metadata": {
    "collapsed": true,
    "jupyter": {
     "outputs_hidden": true
    },
    "tags": []
   },
   "outputs": [
    {
     "data": {
      "text/plain": [
       "array([[0.41494015],\n",
       "       [0.84937094],\n",
       "       [0.74833996],\n",
       "       [0.92715085],\n",
       "       [0.55525741],\n",
       "       [1.17356869],\n",
       "       [1.72771121],\n",
       "       [0.23506371],\n",
       "       [1.03475821],\n",
       "       [0.26413621],\n",
       "       [1.43371936],\n",
       "       [0.79211941],\n",
       "       [1.13084262],\n",
       "       [0.36655967],\n",
       "       [0.28969552],\n",
       "       [0.97611256],\n",
       "       [0.71122548],\n",
       "       [1.88086389],\n",
       "       [1.53065051],\n",
       "       [1.49732724],\n",
       "       [1.80743948],\n",
       "       [0.16684487],\n",
       "       [1.10438494],\n",
       "       [1.16895214],\n",
       "       [1.92387276],\n",
       "       [0.58429505],\n",
       "       [0.48165756],\n",
       "       [0.20058788],\n",
       "       [0.03285926],\n",
       "       [1.85905863],\n",
       "       [1.33983309],\n",
       "       [1.57030582],\n",
       "       [0.56346021],\n",
       "       [1.17282033],\n",
       "       [0.12791053],\n",
       "       [0.97125519],\n",
       "       [1.95499028],\n",
       "       [1.75301049],\n",
       "       [0.6763179 ],\n",
       "       [1.92314031],\n",
       "       [0.46340325],\n",
       "       [1.89863764],\n",
       "       [1.88275541],\n",
       "       [1.59840517],\n",
       "       [1.26089587],\n",
       "       [1.74857593],\n",
       "       [0.58604057],\n",
       "       [1.69788711],\n",
       "       [1.23575338],\n",
       "       [0.02647372],\n",
       "       [0.69446704],\n",
       "       [0.29628172],\n",
       "       [1.96365878],\n",
       "       [0.95674061],\n",
       "       [0.99478273],\n",
       "       [1.27894503],\n",
       "       [0.73716921],\n",
       "       [0.27380054],\n",
       "       [1.64423547],\n",
       "       [0.37969582],\n",
       "       [1.02263797],\n",
       "       [0.44863406],\n",
       "       [0.19568897],\n",
       "       [1.72438303],\n",
       "       [1.94583898],\n",
       "       [1.92166932],\n",
       "       [1.813111  ],\n",
       "       [1.54809467],\n",
       "       [0.6662903 ],\n",
       "       [0.16220278],\n",
       "       [0.81448234],\n",
       "       [0.46446828],\n",
       "       [0.26497527],\n",
       "       [0.10685436],\n",
       "       [1.45118873],\n",
       "       [0.02285492],\n",
       "       [1.5411615 ],\n",
       "       [0.29389329],\n",
       "       [0.15904417],\n",
       "       [0.17920607],\n",
       "       [1.34409561],\n",
       "       [0.49073442],\n",
       "       [0.84107893],\n",
       "       [1.11473758],\n",
       "       [1.72110235],\n",
       "       [1.45408853],\n",
       "       [0.54065581],\n",
       "       [0.2629656 ],\n",
       "       [0.11074864],\n",
       "       [0.60319727],\n",
       "       [0.5242363 ],\n",
       "       [0.91228113],\n",
       "       [1.36656267],\n",
       "       [1.39125089],\n",
       "       [0.56703769],\n",
       "       [0.75985391],\n",
       "       [0.36230192],\n",
       "       [1.57709102],\n",
       "       [0.11369615],\n",
       "       [1.39399448]])"
      ]
     },
     "execution_count": 36,
     "metadata": {},
     "output_type": "execute_result"
    }
   ],
   "source": [
    "c[:, np.newaxis]  # np.newaxis = 새로운 축 생성(세로로 세워짐)"
   ]
  },
  {
   "cell_type": "markdown",
   "id": "db9aa099-6ad8-4c16-aab5-b95aba7067a6",
   "metadata": {},
   "source": [
    "### 비용 함수 정의하기"
   ]
  },
  {
   "cell_type": "code",
   "execution_count": 86,
   "id": "0f801225-3e76-42d8-bc95-5ad1f002eaf9",
   "metadata": {},
   "outputs": [],
   "source": [
    "def get_cost(y, y_pred):\n",
    "    N = len(y)\n",
    "    cost = np.sum(np.square(y - y_pred))/N\n",
    "    return cost"
   ]
  },
  {
   "cell_type": "code",
   "execution_count": 90,
   "id": "65d3e634-3d17-4760-9d07-b05f6dc8fddf",
   "metadata": {},
   "outputs": [],
   "source": [
    "# w1과 w0를 업데이트할 w1_update, w0_update를 반환\n",
    "def get_weight_updates(w1, w0, x, y, learning_rate = 0.01):\n",
    "    N = len(y)\n",
    "    \n",
    "    # 먼저 s1_update, w0_update를 각각 w1, w0의 shape와 동일한 크기를 가진 0 값으로 초기화\n",
    "    w1_update = np.zeros_like(w1)\n",
    "    w0_update = np.zeros_like(w0)\n",
    "    \n",
    "    # 예측 배열 계산하고 예측과 실제 값의 차이 계산\n",
    "    y_pred = np.dot(x, w1.T) + w0\n",
    "    diff = y - y_pred\n",
    "    \n",
    "    # w0_update를 dot 행렬 연산으로 구하기 위해 모두 1값을 가진 행렬 생성\n",
    "    w0_factors = np.dot((N, 1))\n",
    "    \n",
    "    # w1과 w0을 업데이트할 w1_update와 w0_update 계산\n",
    "    w1_update = -(2/N) * learning_rate * (np.dot(x.T, diff))\n",
    "    w0_update = -(2/N) * learning_rate * (np.dot(w0_factors.T, diff))\n",
    "    \n",
    "    return w1_update, w0_update"
   ]
  },
  {
   "cell_type": "code",
   "execution_count": 96,
   "id": "c878343c-6ccd-4a5c-a8e0-9848b305c600",
   "metadata": {},
   "outputs": [],
   "source": [
    "# 입력 인자 iters로 주어진 횟수만큼 반복적으로 w1과 w0를 업데이트 적용\n",
    "def gradient_descent_steps(x, y, iters = 1000):\n",
    "    # w0와 w1을 모두 0으로 초기화\n",
    "    w0 = np.zeros((1,1))\n",
    "    w1 = np.zeros((1,1))\n",
    "    \n",
    "    # 인자로 주어진 iters 만큼 반복적으로 get_weight_updates() 호출해 w1, w0 업데이트 수행\n",
    "    for ind in range(iters):\n",
    "        w1_update, w0_update = get_weight_updates(w1, w0, x, y, learning_rate = 0.01)\n",
    "        w1 = w1 - w1_update\n",
    "        w0 = w0 - w0_update\n",
    "        \n",
    "    return w1, w0"
   ]
  },
  {
   "cell_type": "code",
   "execution_count": 102,
   "id": "db0c1979-b2d3-4f73-96f4-719cdf450ec8",
   "metadata": {},
   "outputs": [
    {
     "ename": "TypeError",
     "evalue": "dot() missing 1 required positional argument: 'b'",
     "output_type": "error",
     "traceback": [
      "\u001b[1;31m---------------------------------------------------------------------------\u001b[0m",
      "\u001b[1;31mTypeError\u001b[0m                                 Traceback (most recent call last)",
      "Input \u001b[1;32mIn [102]\u001b[0m, in \u001b[0;36m<cell line: 1>\u001b[1;34m()\u001b[0m\n\u001b[1;32m----> 1\u001b[0m w1, w0 \u001b[38;5;241m=\u001b[39m \u001b[43mgradient_descent_steps\u001b[49m\u001b[43m(\u001b[49m\u001b[43mx\u001b[49m\u001b[43m,\u001b[49m\u001b[43m \u001b[49m\u001b[43my\u001b[49m\u001b[43m,\u001b[49m\u001b[43m \u001b[49m\u001b[43miters\u001b[49m\u001b[43m \u001b[49m\u001b[38;5;241;43m=\u001b[39;49m\u001b[43m \u001b[49m\u001b[38;5;241;43m10000\u001b[39;49m\u001b[43m)\u001b[49m\n\u001b[0;32m      2\u001b[0m \u001b[38;5;28mprint\u001b[39m(np\u001b[38;5;241m.\u001b[39mround(w1[\u001b[38;5;241m0\u001b[39m, \u001b[38;5;241m0\u001b[39m], \u001b[38;5;241m3\u001b[39m))\n\u001b[0;32m      3\u001b[0m \u001b[38;5;28mprint\u001b[39m(np\u001b[38;5;241m.\u001b[39mround(w0[\u001b[38;5;241m0\u001b[39m, \u001b[38;5;241m0\u001b[39m], \u001b[38;5;241m3\u001b[39m))\n",
      "Input \u001b[1;32mIn [96]\u001b[0m, in \u001b[0;36mgradient_descent_steps\u001b[1;34m(x, y, iters)\u001b[0m\n\u001b[0;32m      7\u001b[0m \u001b[38;5;66;03m# 인자로 주어진 iters 만큼 반복적으로 get_weight_updates() 호출해 w1, w0 업데이트 수행\u001b[39;00m\n\u001b[0;32m      8\u001b[0m \u001b[38;5;28;01mfor\u001b[39;00m ind \u001b[38;5;129;01min\u001b[39;00m \u001b[38;5;28mrange\u001b[39m(iters):\n\u001b[1;32m----> 9\u001b[0m     w1_update, w0_update \u001b[38;5;241m=\u001b[39m \u001b[43mget_weight_updates\u001b[49m\u001b[43m(\u001b[49m\u001b[43mw1\u001b[49m\u001b[43m,\u001b[49m\u001b[43m \u001b[49m\u001b[43mw0\u001b[49m\u001b[43m,\u001b[49m\u001b[43m \u001b[49m\u001b[43mx\u001b[49m\u001b[43m,\u001b[49m\u001b[43m \u001b[49m\u001b[43my\u001b[49m\u001b[43m,\u001b[49m\u001b[43m \u001b[49m\u001b[43mlearning_rate\u001b[49m\u001b[43m \u001b[49m\u001b[38;5;241;43m=\u001b[39;49m\u001b[43m \u001b[49m\u001b[38;5;241;43m0.01\u001b[39;49m\u001b[43m)\u001b[49m\n\u001b[0;32m     10\u001b[0m     w1 \u001b[38;5;241m=\u001b[39m w1 \u001b[38;5;241m-\u001b[39m w1_update\n\u001b[0;32m     11\u001b[0m     w0 \u001b[38;5;241m=\u001b[39m w0 \u001b[38;5;241m-\u001b[39m w0_update\n",
      "Input \u001b[1;32mIn [90]\u001b[0m, in \u001b[0;36mget_weight_updates\u001b[1;34m(w1, w0, x, y, learning_rate)\u001b[0m\n\u001b[0;32m     11\u001b[0m diff \u001b[38;5;241m=\u001b[39m y \u001b[38;5;241m-\u001b[39m y_pred\n\u001b[0;32m     13\u001b[0m \u001b[38;5;66;03m# w0_update를 dot 행렬 연산으로 구하기 위해 모두 1값을 가진 행렬 생성\u001b[39;00m\n\u001b[1;32m---> 14\u001b[0m w0_factors \u001b[38;5;241m=\u001b[39m \u001b[43mnp\u001b[49m\u001b[38;5;241;43m.\u001b[39;49m\u001b[43mdot\u001b[49m\u001b[43m(\u001b[49m\u001b[43m(\u001b[49m\u001b[43mN\u001b[49m\u001b[43m,\u001b[49m\u001b[43m \u001b[49m\u001b[38;5;241;43m1\u001b[39;49m\u001b[43m)\u001b[49m\u001b[43m)\u001b[49m\n\u001b[0;32m     16\u001b[0m \u001b[38;5;66;03m# w1과 w0을 업데이트할 w1_update와 w0_update 계산\u001b[39;00m\n\u001b[0;32m     17\u001b[0m w1_update \u001b[38;5;241m=\u001b[39m \u001b[38;5;241m-\u001b[39m(\u001b[38;5;241m2\u001b[39m\u001b[38;5;241m/\u001b[39mN) \u001b[38;5;241m*\u001b[39m learning_rate \u001b[38;5;241m*\u001b[39m (np\u001b[38;5;241m.\u001b[39mdot(x\u001b[38;5;241m.\u001b[39mT, diff))\n",
      "File \u001b[1;32m<__array_function__ internals>:4\u001b[0m, in \u001b[0;36mdot\u001b[1;34m(*args, **kwargs)\u001b[0m\n",
      "\u001b[1;31mTypeError\u001b[0m: dot() missing 1 required positional argument: 'b'"
     ]
    }
   ],
   "source": [
    "w1, w0 = gradient_descent_steps(x, y, iters = 10000)\n",
    "print(np.round(w1[0, 0], 3))\n",
    "print(np.round(w0[0, 0], 3))"
   ]
  },
  {
   "cell_type": "code",
   "execution_count": 101,
   "id": "2527e9b3-1d7b-4bed-b756-6e8749e8b6c0",
   "metadata": {},
   "outputs": [
    {
     "ename": "NameError",
     "evalue": "name 'w1' is not defined",
     "output_type": "error",
     "traceback": [
      "\u001b[1;31m---------------------------------------------------------------------------\u001b[0m",
      "\u001b[1;31mNameError\u001b[0m                                 Traceback (most recent call last)",
      "Input \u001b[1;32mIn [101]\u001b[0m, in \u001b[0;36m<cell line: 1>\u001b[1;34m()\u001b[0m\n\u001b[1;32m----> 1\u001b[0m y_pred \u001b[38;5;241m=\u001b[39m \u001b[43mw1\u001b[49m[\u001b[38;5;241m0\u001b[39m,\u001b[38;5;241m0\u001b[39m] \u001b[38;5;241m*\u001b[39m x \u001b[38;5;241m+\u001b[39m w0\n",
      "\u001b[1;31mNameError\u001b[0m: name 'w1' is not defined"
     ]
    }
   ],
   "source": [
    "y_pred = w1[0,0] * x + w0"
   ]
  },
  {
   "cell_type": "code",
   "execution_count": 103,
   "id": "7c441ff6-6dac-4d4e-873e-a34f4322f5d8",
   "metadata": {},
   "outputs": [
    {
     "ename": "NameError",
     "evalue": "name 'y_pred' is not defined",
     "output_type": "error",
     "traceback": [
      "\u001b[1;31m---------------------------------------------------------------------------\u001b[0m",
      "\u001b[1;31mNameError\u001b[0m                                 Traceback (most recent call last)",
      "Input \u001b[1;32mIn [103]\u001b[0m, in \u001b[0;36m<cell line: 1>\u001b[1;34m()\u001b[0m\n\u001b[1;32m----> 1\u001b[0m get_cost(y, \u001b[43my_pred\u001b[49m)\n",
      "\u001b[1;31mNameError\u001b[0m: name 'y_pred' is not defined"
     ]
    }
   ],
   "source": [
    "get_cost(y, y_pred)"
   ]
  },
  {
   "cell_type": "code",
   "execution_count": 104,
   "id": "5f7cda55-0aa4-42fb-a1d3-118afe190bed",
   "metadata": {},
   "outputs": [
    {
     "name": "stdout",
     "output_type": "stream",
     "text": [
      "<matplotlib.collections.PathCollection object at 0x000001FFB4DF2D00>\n"
     ]
    },
    {
     "ename": "NameError",
     "evalue": "name 'y_pred' is not defined",
     "output_type": "error",
     "traceback": [
      "\u001b[1;31m---------------------------------------------------------------------------\u001b[0m",
      "\u001b[1;31mNameError\u001b[0m                                 Traceback (most recent call last)",
      "Input \u001b[1;32mIn [104]\u001b[0m, in \u001b[0;36m<cell line: 2>\u001b[1;34m()\u001b[0m\n\u001b[0;32m      1\u001b[0m \u001b[38;5;28mprint\u001b[39m(plt\u001b[38;5;241m.\u001b[39mscatter(x, y))\n\u001b[1;32m----> 2\u001b[0m plt\u001b[38;5;241m.\u001b[39mplot(x, \u001b[43my_pred\u001b[49m)\n",
      "\u001b[1;31mNameError\u001b[0m: name 'y_pred' is not defined"
     ]
    },
    {
     "data": {
      "image/png": "[encoded data removed]",
      "text/plain": [
       "<Figure size 432x288 with 1 Axes>"
      ]
     },
     "metadata": {
      "needs_background": "light"
     },
     "output_type": "display_data"
    }
   ],
   "source": [
    "plt.scatter(x, y)\n",
    "plt.plot(x, y_pred)"
   ]
  },
  {
   "cell_type": "markdown",
   "id": "3902efc1-246d-4a9f-a9fd-97dfd26879e1",
   "metadata": {},
   "source": [
    "## 다중 회귀 분석 - 보스턴 주택 가격"
   ]
  },
  {
   "cell_type": "markdown",
   "id": "df891243-d12b-4471-8524-cdb853cfe8e0",
   "metadata": {},
   "source": [
    "### LinearRegression 클래스 - Ordinary Least Squares"
   ]
  },
  {
   "cell_type": "markdown",
   "id": "d34aaa21-b588-41c1-8fe9-e188ddbc4733",
   "metadata": {},
   "source": [
    "#### 입력 파라미터"
   ]
  },
  {
   "cell_type": "markdown",
   "id": "96509b2e-684a-4c7e-836f-dde27f144d00",
   "metadata": {},
   "source": [
    "> **fit_intercept**[default = True] : intercept 값을 계산할지 말지"
   ]
  },
  {
   "cell_type": "markdown",
   "id": "e0fd1199-3605-45b0-bdb7-50c808dc7c69",
   "metadata": {},
   "source": [
    "#### 속성"
   ]
  },
  {
   "cell_type": "markdown",
   "id": "14f9ef55-6dc9-4ae5-b478-9094b0b669ca",
   "metadata": {},
   "source": [
    "> **coef_** : fit() 메서드를 수행했을 때 회귀 계숙 배열 형태로 저장되어 출력  \n",
    "> **intercept)** : intercept 값"
   ]
  },
  {
   "cell_type": "markdown",
   "id": "59f263db-4070-49d8-b405-87691f08b31a",
   "metadata": {},
   "source": [
    "#### 다중 공선성(multi-collinearity) 문제"
   ]
  },
  {
   "cell_type": "markdown",
   "id": "dbab3b50-7c4e-460d-a8e5-61bcb5c35bc9",
   "metadata": {},
   "source": [
    " : <span style=\"color: #2D3748; background-color:#fff5b1;\">피처 간의 상관관계가 매우 높은 경우(영향이 너무 큰 경우)</span>에는 오히려 <span style=\"color: #2D3748; background-color:#fff5b1;\">오류</span>를 <span style=\"color: #2D3748; background-color:#fff5b1;\">발생</span>시킬 수 있음"
   ]
  },
  {
   "cell_type": "markdown",
   "id": "d99421fc-1d09-49cb-964f-bc774e26390d",
   "metadata": {},
   "source": [
    "> 해결 방법 : 독립적인 중요한 피처만 남기고 제거하거나 규제를 적용 또는 PCA를 통해 차원 축소를 수행"
   ]
  },
  {
   "cell_type": "markdown",
   "id": "c61dcdac-251a-4f06-be35-ae4bcda6633b",
   "metadata": {},
   "source": [
    "### 회귀 지표 평가"
   ]
  },
  {
   "cell_type": "markdown",
   "id": "55eb150b-61c0-4853-995b-da3e3153c6d9",
   "metadata": {},
   "source": [
    "#### MAE(Mean Absolute Error)"
   ]
  },
  {
   "cell_type": "markdown",
   "id": "db99c85b-7dfb-46de-9792-c7a0edd468d4",
   "metadata": {},
   "source": [
    "실제 값과 예측값의 차이를 <span style=\"color: red\">**절댓값**</span>으로 변화해 평균한 것  \n",
    "  \n",
    "<span style=\"color: #2D3748; background-color:#fff5b1;\">$\\frac{1}{n} \\sum_{i=1}^n \\vert Y_{i} - \\hat Y_{i} \\vert$ </span>"
   ]
  },
  {
   "cell_type": "markdown",
   "id": "30380c10-e1c9-4ff5-8c75-1c861b9d9220",
   "metadata": {},
   "source": [
    "#### MSE(Mean Squared Error)"
   ]
  },
  {
   "cell_type": "markdown",
   "id": "2eaca9c4-d3b2-4c19-8705-36e29f178dde",
   "metadata": {},
   "source": [
    "실제 값과 예측값의 차이를 <span style=\"color: red\">**제곱**</span>해 평균한 것  \n",
    "  \n",
    "$\\frac{1}{n} \\sum_{i=1}^n ( Y_{i} - \\hat Y_{i} )^2$"
   ]
  },
  {
   "cell_type": "markdown",
   "id": "5298a37b-1e88-4e7b-9092-d2277a507ffc",
   "metadata": {},
   "source": [
    "#### RMSE(Root Mean Squared Error)"
   ]
  },
  {
   "cell_type": "markdown",
   "id": "f2f5658e-0259-4a97-9576-682b7e67b033",
   "metadata": {},
   "source": [
    "MSE에 루트 씌운 것  \n",
    "  \n",
    "  $\\sqrt {\\frac{1}{n} \\sum_{i=1}^n ( Y_{i} - \\hat Y_{i} )^2}$"
   ]
  },
  {
   "cell_type": "markdown",
   "id": "2fc13e4e-597a-4ce5-b93e-df57d96aa7b3",
   "metadata": {},
   "source": [
    "> RMSE 가 가장 많이 사용되지만 사이킷런에는 아쉽게도 없음 -> MSE에 제곱근을 씌워서 계산하는 함수를 직접 만들어 사용함"
   ]
  },
  {
   "cell_type": "markdown",
   "id": "c55cf59d-c8e0-4c14-9a3a-0e71bbe64c20",
   "metadata": {
    "jp-MarkdownHeadingCollapsed": true,
    "tags": []
   },
   "source": [
    "\n",
    "|평가방법 |사이킷런 평가 지표 API                                                      |scoring 함수 적용 값      |\n",
    "|--------|--------------------------------------------------------------------------|---------------------------|\n",
    "|**RMSE** |metrics.mean_squared_error를 그래도 사용하되 **squared** 파라미터를 **False**로 설정|neg_root_mean_squared_error|\n",
    "\n"
   ]
  },
  {
   "cell_type": "markdown",
   "id": "76d7f405-f47b-48e1-ac6a-e969257b3fa5",
   "metadata": {},
   "source": [
    "### 구현하기"
   ]
  },
  {
   "cell_type": "markdown",
   "id": "a8f11203-f4ed-4ff6-9961-44ec72e856d2",
   "metadata": {},
   "source": [
    "> **Feature 설명**\n",
    "\n",
    "> CRIM: 지역별 범죄 발생률  \n",
    "ZN: 25,000평방피트를 초과하는 거주 지역의 비율  \n",
    "INDUS: 비상업 지역 넓이 비율  \n",
    "CHAS: 찰스강에 대한 더미 변수(강의 경계에 위치한 경우는 1, 아니면 0)  \n",
    "NOX: 일산화질소 농도  \n",
    "RM: 거주할 수 있는 방 개수  \n",
    "AGE: 1940년 이전에 건축된 소유 주택의 비율  \n",
    "DIS: 5개 주요 고용센터까지의 가중 거리  \n",
    "RAD: 고속도로 접근 용이도  \n",
    "TAX: 10,000달러당 재산세율  \n",
    "PTRATIO: 지역의 교사와 학생 수 비율  \n",
    "B: 지역의 흑인 거주 비율  \n",
    "LSTAT: 하위 계층의 비율  \n",
    "MEDV: 본인 소유의 주택 가격(중앙값)"
   ]
  },
  {
   "cell_type": "code",
   "execution_count": 38,
   "id": "c6caaf01-28d3-4409-a3c5-f9aac7363a65",
   "metadata": {},
   "outputs": [],
   "source": [
    "import numpy as np\n",
    "import matplotlib.pyplot as plt\n",
    "import pandas as pd\n",
    "import seaborn as sns\n",
    "from scipy import stats\n",
    "from sklearn.datasets import load_boston\n",
    "import warnings\n",
    "warnings.filterwarnings('ignore')\n",
    "\n",
    "%matplotlib inline"
   ]
  },
  {
   "cell_type": "code",
   "execution_count": 40,
   "id": "c46985b0-7804-4870-8045-784bef0052f8",
   "metadata": {},
   "outputs": [],
   "source": [
    "# 데이터 로드\n",
    "boston = load_boston()"
   ]
  },
  {
   "cell_type": "code",
   "execution_count": 42,
   "id": "e0884b14-8f08-4e7f-8749-bcfba5a1110c",
   "metadata": {},
   "outputs": [],
   "source": [
    "# DataFrame 변환\n",
    "boston_df = pd.DataFrame(boston.data, columns = boston.feature_names)"
   ]
  },
  {
   "cell_type": "code",
   "execution_count": 44,
   "id": "77ab48da-2e83-4c33-9975-b2b1ff38840a",
   "metadata": {},
   "outputs": [],
   "source": [
    "# target 배열은 주택 가격임. 이를 price 컬럼으로 추가\n",
    "boston_df['PRICE'] = boston_df.iloc[:, -1]"
   ]
  },
  {
   "cell_type": "code",
   "execution_count": 45,
   "id": "34777156-3c4e-4c05-bf02-4f711ef609e3",
   "metadata": {},
   "outputs": [
    {
     "data": {
      "text/plain": [
       "(506, 14)"
      ]
     },
     "execution_count": 45,
     "metadata": {},
     "output_type": "execute_result"
    }
   ],
   "source": [
    "boston_df.shape"
   ]
  },
  {
   "cell_type": "code",
   "execution_count": 46,
   "id": "1bf93991-8cd0-47e6-b924-9c131297e3d5",
   "metadata": {},
   "outputs": [
    {
     "data": {
      "text/html": [
       "<div>\n",
       "<style scoped>\n",
       "    .dataframe tbody tr th:only-of-type {\n",
       "        vertical-align: middle;\n",
       "    }\n",
       "\n",
       "    .dataframe tbody tr th {\n",
       "        vertical-align: top;\n",
       "    }\n",
       "\n",
       "    .dataframe thead th {\n",
       "        text-align: right;\n",
       "    }\n",
       "</style>\n",
       "<table border=\"1\" class=\"dataframe\">\n",
       "  <thead>\n",
       "    <tr style=\"text-align: right;\">\n",
       "      <th></th>\n",
       "      <th>CRIM</th>\n",
       "      <th>ZN</th>\n",
       "      <th>INDUS</th>\n",
       "      <th>CHAS</th>\n",
       "      <th>NOX</th>\n",
       "      <th>RM</th>\n",
       "      <th>AGE</th>\n",
       "      <th>DIS</th>\n",
       "      <th>RAD</th>\n",
       "      <th>TAX</th>\n",
       "      <th>PTRATIO</th>\n",
       "      <th>B</th>\n",
       "      <th>LSTAT</th>\n",
       "      <th>PRICE</th>\n",
       "    </tr>\n",
       "  </thead>\n",
       "  <tbody>\n",
       "    <tr>\n",
       "      <th>0</th>\n",
       "      <td>0.00632</td>\n",
       "      <td>18.0</td>\n",
       "      <td>2.31</td>\n",
       "      <td>0.0</td>\n",
       "      <td>0.538</td>\n",
       "      <td>6.575</td>\n",
       "      <td>65.2</td>\n",
       "      <td>4.0900</td>\n",
       "      <td>1.0</td>\n",
       "      <td>296.0</td>\n",
       "      <td>15.3</td>\n",
       "      <td>396.90</td>\n",
       "      <td>4.98</td>\n",
       "      <td>4.98</td>\n",
       "    </tr>\n",
       "    <tr>\n",
       "      <th>1</th>\n",
       "      <td>0.02731</td>\n",
       "      <td>0.0</td>\n",
       "      <td>7.07</td>\n",
       "      <td>0.0</td>\n",
       "      <td>0.469</td>\n",
       "      <td>6.421</td>\n",
       "      <td>78.9</td>\n",
       "      <td>4.9671</td>\n",
       "      <td>2.0</td>\n",
       "      <td>242.0</td>\n",
       "      <td>17.8</td>\n",
       "      <td>396.90</td>\n",
       "      <td>9.14</td>\n",
       "      <td>9.14</td>\n",
       "    </tr>\n",
       "    <tr>\n",
       "      <th>2</th>\n",
       "      <td>0.02729</td>\n",
       "      <td>0.0</td>\n",
       "      <td>7.07</td>\n",
       "      <td>0.0</td>\n",
       "      <td>0.469</td>\n",
       "      <td>7.185</td>\n",
       "      <td>61.1</td>\n",
       "      <td>4.9671</td>\n",
       "      <td>2.0</td>\n",
       "      <td>242.0</td>\n",
       "      <td>17.8</td>\n",
       "      <td>392.83</td>\n",
       "      <td>4.03</td>\n",
       "      <td>4.03</td>\n",
       "    </tr>\n",
       "  </tbody>\n",
       "</table>\n",
       "</div>"
      ],
      "text/plain": [
       "      CRIM    ZN  INDUS  CHAS    NOX     RM   AGE     DIS  RAD    TAX  \\\n",
       "0  0.00632  18.0   2.31   0.0  0.538  6.575  65.2  4.0900  1.0  296.0   \n",
       "1  0.02731   0.0   7.07   0.0  0.469  6.421  78.9  4.9671  2.0  242.0   \n",
       "2  0.02729   0.0   7.07   0.0  0.469  7.185  61.1  4.9671  2.0  242.0   \n",
       "\n",
       "   PTRATIO       B  LSTAT  PRICE  \n",
       "0     15.3  396.90   4.98   4.98  \n",
       "1     17.8  396.90   9.14   9.14  \n",
       "2     17.8  392.83   4.03   4.03  "
      ]
     },
     "execution_count": 46,
     "metadata": {},
     "output_type": "execute_result"
    }
   ],
   "source": [
    "boston_df[:3]"
   ]
  },
  {
   "cell_type": "code",
   "execution_count": 50,
   "id": "ce48500b-3e82-4472-9b07-8697ae8c2d57",
   "metadata": {},
   "outputs": [
    {
     "name": "stdout",
     "output_type": "stream",
     "text": [
      "<class 'pandas.core.frame.DataFrame'>\n",
      "RangeIndex: 506 entries, 0 to 505\n",
      "Data columns (total 14 columns):\n",
      " #   Column   Non-Null Count  Dtype  \n",
      "---  ------   --------------  -----  \n",
      " 0   CRIM     506 non-null    float64\n",
      " 1   ZN       506 non-null    float64\n",
      " 2   INDUS    506 non-null    float64\n",
      " 3   CHAS     506 non-null    float64\n",
      " 4   NOX      506 non-null    float64\n",
      " 5   RM       506 non-null    float64\n",
      " 6   AGE      506 non-null    float64\n",
      " 7   DIS      506 non-null    float64\n",
      " 8   RAD      506 non-null    float64\n",
      " 9   TAX      506 non-null    float64\n",
      " 10  PTRATIO  506 non-null    float64\n",
      " 11  B        506 non-null    float64\n",
      " 12  LSTAT    506 non-null    float64\n",
      " 13  PRICE    506 non-null    float64\n",
      "dtypes: float64(14)\n",
      "memory usage: 55.5 KB\n"
     ]
    }
   ],
   "source": [
    "# 결측치 및 데이터 타입 확인\n",
    "boston_df.info()"
   ]
  },
  {
   "cell_type": "code",
   "execution_count": 56,
   "id": "96d3a10a-52c7-45a6-af98-01bc8dd45a9e",
   "metadata": {},
   "outputs": [
    {
     "data": {
      "image/png": "[encoded data removed]",
      "text/plain": [
       "<Figure size 1152x576 with 8 Axes>"
      ]
     },
     "metadata": {
      "needs_background": "light"
     },
     "output_type": "display_data"
    }
   ],
   "source": [
    "fig, axs = plt.subplots(figsize = (16,8), ncols = 4, nrows = 2)\n",
    "lm_features = ['RM', 'ZN', 'INDUS', 'NOX', 'AGE', 'PTRATIO', 'LSTAT', 'RAD']\n",
    "for i, feature in enumerate(lm_features):\n",
    "    row = int(i/4)\n",
    "    col = i % 4 \n",
    "    \n",
    "    # 시본의 regplot을 이용해 산점도와 선형 회귀 직선을 함께 표현\n",
    "    sns.regplot(x = feature, y = 'PRICE', data = boston_df, ax = axs[row][col])"
   ]
  },
  {
   "cell_type": "markdown",
   "id": "7eef1a8e-a1ed-43d6-b43a-6017ce08851e",
   "metadata": {
    "tags": []
   },
   "source": [
    "#### 선형 회귀 모델"
   ]
  },
  {
   "cell_type": "code",
   "execution_count": 105,
   "id": "0cf1c91c-a500-4f29-a212-f5c2b7f34bbc",
   "metadata": {},
   "outputs": [
    {
     "name": "stdout",
     "output_type": "stream",
     "text": [
      "MSE : 0.000, RMSE : 0.000\n",
      "Variance score : 1.000\n",
      "절편 값: 6.217248937900877e-14\n",
      "회귀 계수값: [-0. -0. -0.  0.  0. -0. -0. -0. -0.  0. -0.  0.  1.]\n"
     ]
    }
   ],
   "source": [
    "from sklearn.model_selection import train_test_split\n",
    "from sklearn.linear_model import LinearRegression\n",
    "from sklearn.metrics import mean_squared_error, r2_score\n",
    "\n",
    "y_target = boston_df['PRICE']\n",
    "X_data = boston_df.drop(['PRICE'], axis=1, inplace=False)\n",
    "\n",
    "X_train, X_test, y_train, y_test = train_test_split(X_data, y_target, test_size=0.3, random_state=156)\n",
    "\n",
    "lr = LinearRegression()\n",
    "lr.fit(X_train, y_train)\n",
    "y_preds =lr.predict(X_test)\n",
    "\n",
    "mse= mean_squared_error(y_test, y_preds) # MSE 측정\n",
    "rmse = np.sqrt(mse) # RMSE 측정\n",
    "\n",
    "print('MSE : {0:.3f}, RMSE : {1:.3F}'.format(mse, rmse))\n",
    "print('Variance score : {0:.3f}'.format(r2_score(y_test, y_preds))) # R2 score 측정\n",
    "\n",
    "print('절편 값:', lr.intercept_)\n",
    "print('회귀 계수값:', np.round(lr.coef_, 1))"
   ]
  },
  {
   "cell_type": "code",
   "execution_count": 59,
   "id": "c7cc5bc2-2698-486c-a60b-f0c3db078cdb",
   "metadata": {},
   "outputs": [
    {
     "data": {
      "text/plain": [
       "LSTAT      1.0\n",
       "CRIM      -0.0\n",
       "ZN        -0.0\n",
       "INDUS     -0.0\n",
       "CHAS       0.0\n",
       "NOX        0.0\n",
       "RM        -0.0\n",
       "AGE       -0.0\n",
       "DIS       -0.0\n",
       "RAD       -0.0\n",
       "TAX        0.0\n",
       "PTRATIO   -0.0\n",
       "B          0.0\n",
       "dtype: float64"
      ]
     },
     "execution_count": 59,
     "metadata": {},
     "output_type": "execute_result"
    }
   ],
   "source": [
    "# 회귀 계수를 큰 값 순으로 정렬하기 위해 시리즈로 생성 index가 컬럼명에 유의\n",
    "coeff = pd.Series(data = np.round(lr.coef_, 1), index = X_data.columns)\n",
    "coeff.sort_values(ascending = False)"
   ]
  },
  {
   "cell_type": "code",
   "execution_count": 61,
   "id": "a58e6299-6018-496b-8323-dd8f5997f986",
   "metadata": {},
   "outputs": [
    {
     "name": "stdout",
     "output_type": "stream",
     "text": [
      " 5 folds 의 개별 Negative MSE scores:  [-0. -0. -0. -0. -0.]\n",
      " 5 folds 의 개별 RMSE scores :  [0. 0. 0. 0. 0.]\n",
      " 5 folds 의 평균 RMSE : 0.000 \n"
     ]
    }
   ],
   "source": [
    "from sklearn.model_selection import cross_val_score\n",
    "\n",
    "y_target = boston_df['PRICE']\n",
    "X_data = boston_df.drop(['PRICE'],axis=1,inplace=False)\n",
    "lr = LinearRegression()\n",
    "\n",
    "# cross_val_score( )로 5 Fold 셋으로 MSE 를 구한 뒤 이를 기반으로 다시  RMSE 구함. \n",
    "neg_mse_scores = cross_val_score(lr, X_data, y_target, scoring=\"neg_mean_squared_error\", cv = 5)\n",
    "rmse_scores  = np.sqrt(-1 * neg_mse_scores)\n",
    "avg_rmse = np.mean(rmse_scores)\n",
    "\n",
    "# cross_val_score(scoring=\"neg_mean_squared_error\")로 반환된 값은 모두 음수 \n",
    "print(' 5 folds 의 개별 Negative MSE scores: ', np.round(neg_mse_scores, 2))\n",
    "print(' 5 folds 의 개별 RMSE scores : ', np.round(rmse_scores, 2))\n",
    "print(' 5 folds 의 평균 RMSE : {0:.3f} '.format(avg_rmse))"
   ]
  },
  {
   "cell_type": "markdown",
   "id": "e8873b1f-8857-4a28-b5a8-4314dd981f6c",
   "metadata": {},
   "source": [
    "# 다항회귀"
   ]
  },
  {
   "cell_type": "markdown",
   "id": "67518159-397e-431e-9796-63e37327fe3a",
   "metadata": {},
   "source": [
    "(차수가 높은) 2,3차 방정식과 같은 <span style=\"color: #2D3748; background-color:#fff5b1;\">다항식</span>으로 표현됨  \n",
    "비선형 회귀가 아닌 <span style=\"color: #2D3748; background-color:#fff5b1;\">선형 회귀</span>임  \n",
    "단순 선형 회귀 직선형보다 <span style=\"color: #2D3748; background-color:#fff5b1;\">예측 성능 높음</span>"
   ]
  },
  {
   "cell_type": "code",
   "execution_count": 62,
   "id": "f853d102-e3a3-4166-b9d0-0c9b8b4c5bb0",
   "metadata": {},
   "outputs": [
    {
     "name": "stdout",
     "output_type": "stream",
     "text": [
      "Polynomial 회귀 계수\n",
      " [0.   0.18 0.18 0.36 0.54 0.72 0.72 1.08 1.62 2.34]\n"
     ]
    }
   ],
   "source": [
    "from sklearn.preprocessing import PolynomialFeatures\n",
    "from sklearn.linear_model import LinearRegression\n",
    "from sklearn.pipeline import Pipeline\n",
    "import numpy as np\n",
    "\n",
    "#3차 다항식 만들기\n",
    "def polynomial_func(X):\n",
    "    y = 1 + 2*X[: , 0] + 3*X[: , 0]**2 + 4*X[: , 1]**3 \n",
    "    return y\n",
    "\n",
    "# Pipeline 객체로 Streamline 하게 Polynomial Feature변환과 Linear Regression을 연결\n",
    "model = Pipeline([('poly', PolynomialFeatures(degree=3)),\n",
    "                  ('linear', LinearRegression())])\n",
    "X = np.arange(4).reshape(2,2)\n",
    "y = polynomial_func(X)\n",
    "\n",
    "model = model.fit(X, y)\n",
    "print('Polynomial 회귀 계수\\n', np.round(model.named_steps['linear'].coef_, 2))"
   ]
  },
  {
   "cell_type": "code",
   "execution_count": 65,
   "id": "306ac1aa-5ba0-449a-9108-0d16313af764",
   "metadata": {},
   "outputs": [
    {
     "data": {
      "text/html": [
       "<style>#sk-container-id-1 {color: black;background-color: white;}#sk-container-id-1 pre{padding: 0;}#sk-container-id-1 div.sk-toggleable {background-color: white;}#sk-container-id-1 label.sk-toggleable__label {cursor: pointer;display: block;width: 100%;margin-bottom: 0;padding: 0.3em;box-sizing: border-box;text-align: center;}#sk-container-id-1 label.sk-toggleable__label-arrow:before {content: \"▸\";float: left;margin-right: 0.25em;color: #696969;}#sk-container-id-1 label.sk-toggleable__label-arrow:hover:before {color: black;}#sk-container-id-1 div.sk-estimator:hover label.sk-toggleable__label-arrow:before {color: black;}#sk-container-id-1 div.sk-toggleable__content {max-height: 0;max-width: 0;overflow: hidden;text-align: left;background-color: #f0f8ff;}#sk-container-id-1 div.sk-toggleable__content pre {margin: 0.2em;color: black;border-radius: 0.25em;background-color: #f0f8ff;}#sk-container-id-1 input.sk-toggleable__control:checked~div.sk-toggleable__content {max-height: 200px;max-width: 100%;overflow: auto;}#sk-container-id-1 input.sk-toggleable__control:checked~label.sk-toggleable__label-arrow:before {content: \"▾\";}#sk-container-id-1 div.sk-estimator input.sk-toggleable__control:checked~label.sk-toggleable__label {background-color: #d4ebff;}#sk-container-id-1 div.sk-label input.sk-toggleable__control:checked~label.sk-toggleable__label {background-color: #d4ebff;}#sk-container-id-1 input.sk-hidden--visually {border: 0;clip: rect(1px 1px 1px 1px);clip: rect(1px, 1px, 1px, 1px);height: 1px;margin: -1px;overflow: hidden;padding: 0;position: absolute;width: 1px;}#sk-container-id-1 div.sk-estimator {font-family: monospace;background-color: #f0f8ff;border: 1px dotted black;border-radius: 0.25em;box-sizing: border-box;margin-bottom: 0.5em;}#sk-container-id-1 div.sk-estimator:hover {background-color: #d4ebff;}#sk-container-id-1 div.sk-parallel-item::after {content: \"\";width: 100%;border-bottom: 1px solid gray;flex-grow: 1;}#sk-container-id-1 div.sk-label:hover label.sk-toggleable__label {background-color: #d4ebff;}#sk-container-id-1 div.sk-serial::before {content: \"\";position: absolute;border-left: 1px solid gray;box-sizing: border-box;top: 0;bottom: 0;left: 50%;z-index: 0;}#sk-container-id-1 div.sk-serial {display: flex;flex-direction: column;align-items: center;background-color: white;padding-right: 0.2em;padding-left: 0.2em;position: relative;}#sk-container-id-1 div.sk-item {position: relative;z-index: 1;}#sk-container-id-1 div.sk-parallel {display: flex;align-items: stretch;justify-content: center;background-color: white;position: relative;}#sk-container-id-1 div.sk-item::before, #sk-container-id-1 div.sk-parallel-item::before {content: \"\";position: absolute;border-left: 1px solid gray;box-sizing: border-box;top: 0;bottom: 0;left: 50%;z-index: -1;}#sk-container-id-1 div.sk-parallel-item {display: flex;flex-direction: column;z-index: 1;position: relative;background-color: white;}#sk-container-id-1 div.sk-parallel-item:first-child::after {align-self: flex-end;width: 50%;}#sk-container-id-1 div.sk-parallel-item:last-child::after {align-self: flex-start;width: 50%;}#sk-container-id-1 div.sk-parallel-item:only-child::after {width: 0;}#sk-container-id-1 div.sk-dashed-wrapped {border: 1px dashed gray;margin: 0 0.4em 0.5em 0.4em;box-sizing: border-box;padding-bottom: 0.4em;background-color: white;}#sk-container-id-1 div.sk-label label {font-family: monospace;font-weight: bold;display: inline-block;line-height: 1.2em;}#sk-container-id-1 div.sk-label-container {text-align: center;}#sk-container-id-1 div.sk-container {/* jupyter's `normalize.less` sets `[hidden] { display: none; }` but bootstrap.min.css set `[hidden] { display: none !important; }` so we also need the `!important` here to be able to override the default hidden behavior on the sphinx rendered scikit-learn.org. See: https://github.com/scikit-learn/scikit-learn/issues/21755 */display: inline-block !important;position: relative;}#sk-container-id-1 div.sk-text-repr-fallback {display: none;}</style><div id=\"sk-container-id-1\" class=\"sk-top-container\"><div class=\"sk-text-repr-fallback\"><pre>Pipeline(steps=[(&#x27;poly&#x27;, PolynomialFeatures(degree=3)),\n",
       "                (&#x27;linear&#x27;, LinearRegression())])</pre><b>In a Jupyter environment, please rerun this cell to show the HTML representation or trust the notebook. <br />On GitHub, the HTML representation is unable to render, please try loading this page with nbviewer.org.</b></div><div class=\"sk-container\" hidden><div class=\"sk-item sk-dashed-wrapped\"><div class=\"sk-label-container\"><div class=\"sk-label sk-toggleable\"><input class=\"sk-toggleable__control sk-hidden--visually\" id=\"sk-estimator-id-1\" type=\"checkbox\" ><label for=\"sk-estimator-id-1\" class=\"sk-toggleable__label sk-toggleable__label-arrow\">Pipeline</label><div class=\"sk-toggleable__content\"><pre>Pipeline(steps=[(&#x27;poly&#x27;, PolynomialFeatures(degree=3)),\n",
       "                (&#x27;linear&#x27;, LinearRegression())])</pre></div></div></div><div class=\"sk-serial\"><div class=\"sk-item\"><div class=\"sk-estimator sk-toggleable\"><input class=\"sk-toggleable__control sk-hidden--visually\" id=\"sk-estimator-id-2\" type=\"checkbox\" ><label for=\"sk-estimator-id-2\" class=\"sk-toggleable__label sk-toggleable__label-arrow\">PolynomialFeatures</label><div class=\"sk-toggleable__content\"><pre>PolynomialFeatures(degree=3)</pre></div></div></div><div class=\"sk-item\"><div class=\"sk-estimator sk-toggleable\"><input class=\"sk-toggleable__control sk-hidden--visually\" id=\"sk-estimator-id-3\" type=\"checkbox\" ><label for=\"sk-estimator-id-3\" class=\"sk-toggleable__label sk-toggleable__label-arrow\">LinearRegression</label><div class=\"sk-toggleable__content\"><pre>LinearRegression()</pre></div></div></div></div></div></div></div>"
      ],
      "text/plain": [
       "Pipeline(steps=[('poly', PolynomialFeatures(degree=3)),\n",
       "                ('linear', LinearRegression())])"
      ]
     },
     "execution_count": 65,
     "metadata": {},
     "output_type": "execute_result"
    }
   ],
   "source": [
    "X = np.arange(4).reshape(2,2)\n",
    "y = polynomial_func(X)\n",
    "\n",
    "model.fit(X,y)"
   ]
  },
  {
   "cell_type": "code",
   "execution_count": 66,
   "id": "0e5401b3-515d-4c21-989f-d49d0fe64804",
   "metadata": {},
   "outputs": [
    {
     "data": {
      "text/plain": [
       "array([0.        , 0.18018018, 0.18018018, 0.36036036, 0.54054054,\n",
       "       0.72072072, 0.72072072, 1.08108108, 1.62162162, 2.34234234])"
      ]
     },
     "execution_count": 66,
     "metadata": {},
     "output_type": "execute_result"
    }
   ],
   "source": [
    "model.named_steps['linear'].coef_"
   ]
  },
  {
   "cell_type": "code",
   "execution_count": 69,
   "id": "82300c50-2da8-45cc-8d09-fa3aef001595",
   "metadata": {},
   "outputs": [],
   "source": [
    "import numpy as np\n",
    "import matplotlib.pyplot as plt\n",
    "from sklearn.pipeline import Pipeline\n",
    "from sklearn.preprocessing import PolynomialFeatures\n",
    "from sklearn.linear_model import LinearRegression\n",
    "from sklearn.model_selection import cross_val_score\n",
    "\n",
    "# 임의의 값으로 구성된 X값에 대해 코사인 변환 값을 반환.\n",
    "def true_fun(X):\n",
    "    return np.cos(1.5 * np.pi * X)\n",
    "\n",
    "# X는 0부터 1까지 30개의 임의의 값을 순서대로 샘플링한 데이터입니다.\n",
    "np.random.seed(0)\n",
    "n_samples = 30\n",
    "X = np.sort(np.random.rand(n_samples))\n",
    "\n",
    "# y 값은 코사인 기반의 true_fun()에서 약간의 노이즈 변동 값ㅇ르 더한 값입니다.\n",
    "y = true_fun(X) + np.random.randn(n_samples) * 0.1"
   ]
  },
  {
   "cell_type": "code",
   "execution_count": 71,
   "id": "e2ba96a0-cef2-4f84-90f1-09cda0bd60db",
   "metadata": {},
   "outputs": [
    {
     "data": {
      "text/plain": [
       "<matplotlib.collections.PathCollection at 0x1ffb4083700>"
      ]
     },
     "execution_count": 71,
     "metadata": {},
     "output_type": "execute_result"
    },
    {
     "data": {
      "image/png": "[encoded data removed]",
      "text/plain": [
       "<Figure size 432x288 with 1 Axes>"
      ]
     },
     "metadata": {
      "needs_background": "light"
     },
     "output_type": "display_data"
    }
   ],
   "source": [
    "plt.scatter(X, y)"
   ]
  },
  {
   "cell_type": "code",
   "execution_count": 67,
   "id": "c92e6e97-8d8a-492b-9b9c-a49872644fd8",
   "metadata": {},
   "outputs": [
    {
     "ename": "ValueError",
     "evalue": "Found input variables with inconsistent numbers of samples: [4, 2]",
     "output_type": "error",
     "traceback": [
      "\u001b[1;31m---------------------------------------------------------------------------\u001b[0m",
      "\u001b[1;31mValueError\u001b[0m                                Traceback (most recent call last)",
      "Input \u001b[1;32mIn [67]\u001b[0m, in \u001b[0;36m<cell line: 5>\u001b[1;34m()\u001b[0m\n\u001b[0;32m     11\u001b[0m linear_regression \u001b[38;5;241m=\u001b[39m LinearRegression()\n\u001b[0;32m     12\u001b[0m pipeline \u001b[38;5;241m=\u001b[39m Pipeline([(\u001b[38;5;124m\"\u001b[39m\u001b[38;5;124mpolynomial_features\u001b[39m\u001b[38;5;124m\"\u001b[39m, polynomial_features),\n\u001b[0;32m     13\u001b[0m                      (\u001b[38;5;124m\"\u001b[39m\u001b[38;5;124mlinear_regression\u001b[39m\u001b[38;5;124m\"\u001b[39m, linear_regression)])\n\u001b[1;32m---> 14\u001b[0m \u001b[43mpipeline\u001b[49m\u001b[38;5;241;43m.\u001b[39;49m\u001b[43mfit\u001b[49m\u001b[43m(\u001b[49m\u001b[43mX\u001b[49m\u001b[38;5;241;43m.\u001b[39;49m\u001b[43mreshape\u001b[49m\u001b[43m(\u001b[49m\u001b[38;5;241;43m-\u001b[39;49m\u001b[38;5;241;43m1\u001b[39;49m\u001b[43m,\u001b[49m\u001b[43m \u001b[49m\u001b[38;5;241;43m1\u001b[39;49m\u001b[43m)\u001b[49m\u001b[43m,\u001b[49m\u001b[43m \u001b[49m\u001b[43my\u001b[49m\u001b[43m)\u001b[49m\n\u001b[0;32m     16\u001b[0m \u001b[38;5;66;03m# 교차 검증으로 다항 회귀를 평가합니다. \u001b[39;00m\n\u001b[0;32m     17\u001b[0m scores \u001b[38;5;241m=\u001b[39m cross_val_score(pipeline, X\u001b[38;5;241m.\u001b[39mreshape(\u001b[38;5;241m-\u001b[39m\u001b[38;5;241m1\u001b[39m,\u001b[38;5;241m1\u001b[39m), y,scoring\u001b[38;5;241m=\u001b[39m\u001b[38;5;124m\"\u001b[39m\u001b[38;5;124mneg_mean_squared_error\u001b[39m\u001b[38;5;124m\"\u001b[39m, cv\u001b[38;5;241m=\u001b[39m\u001b[38;5;241m10\u001b[39m)\n",
      "File \u001b[1;32m~\\anaconda3\\lib\\site-packages\\sklearn\\pipeline.py:382\u001b[0m, in \u001b[0;36mPipeline.fit\u001b[1;34m(self, X, y, **fit_params)\u001b[0m\n\u001b[0;32m    380\u001b[0m     \u001b[38;5;28;01mif\u001b[39;00m \u001b[38;5;28mself\u001b[39m\u001b[38;5;241m.\u001b[39m_final_estimator \u001b[38;5;241m!=\u001b[39m \u001b[38;5;124m\"\u001b[39m\u001b[38;5;124mpassthrough\u001b[39m\u001b[38;5;124m\"\u001b[39m:\n\u001b[0;32m    381\u001b[0m         fit_params_last_step \u001b[38;5;241m=\u001b[39m fit_params_steps[\u001b[38;5;28mself\u001b[39m\u001b[38;5;241m.\u001b[39msteps[\u001b[38;5;241m-\u001b[39m\u001b[38;5;241m1\u001b[39m][\u001b[38;5;241m0\u001b[39m]]\n\u001b[1;32m--> 382\u001b[0m         \u001b[38;5;28mself\u001b[39m\u001b[38;5;241m.\u001b[39m_final_estimator\u001b[38;5;241m.\u001b[39mfit(Xt, y, \u001b[38;5;241m*\u001b[39m\u001b[38;5;241m*\u001b[39mfit_params_last_step)\n\u001b[0;32m    384\u001b[0m \u001b[38;5;28;01mreturn\u001b[39;00m \u001b[38;5;28mself\u001b[39m\n",
      "File \u001b[1;32m~\\anaconda3\\lib\\site-packages\\sklearn\\linear_model\\_base.py:684\u001b[0m, in \u001b[0;36mLinearRegression.fit\u001b[1;34m(self, X, y, sample_weight)\u001b[0m\n\u001b[0;32m    680\u001b[0m n_jobs_ \u001b[38;5;241m=\u001b[39m \u001b[38;5;28mself\u001b[39m\u001b[38;5;241m.\u001b[39mn_jobs\n\u001b[0;32m    682\u001b[0m accept_sparse \u001b[38;5;241m=\u001b[39m \u001b[38;5;28;01mFalse\u001b[39;00m \u001b[38;5;28;01mif\u001b[39;00m \u001b[38;5;28mself\u001b[39m\u001b[38;5;241m.\u001b[39mpositive \u001b[38;5;28;01melse\u001b[39;00m [\u001b[38;5;124m\"\u001b[39m\u001b[38;5;124mcsr\u001b[39m\u001b[38;5;124m\"\u001b[39m, \u001b[38;5;124m\"\u001b[39m\u001b[38;5;124mcsc\u001b[39m\u001b[38;5;124m\"\u001b[39m, \u001b[38;5;124m\"\u001b[39m\u001b[38;5;124mcoo\u001b[39m\u001b[38;5;124m\"\u001b[39m]\n\u001b[1;32m--> 684\u001b[0m X, y \u001b[38;5;241m=\u001b[39m \u001b[38;5;28;43mself\u001b[39;49m\u001b[38;5;241;43m.\u001b[39;49m\u001b[43m_validate_data\u001b[49m\u001b[43m(\u001b[49m\n\u001b[0;32m    685\u001b[0m \u001b[43m    \u001b[49m\u001b[43mX\u001b[49m\u001b[43m,\u001b[49m\u001b[43m \u001b[49m\u001b[43my\u001b[49m\u001b[43m,\u001b[49m\u001b[43m \u001b[49m\u001b[43maccept_sparse\u001b[49m\u001b[38;5;241;43m=\u001b[39;49m\u001b[43maccept_sparse\u001b[49m\u001b[43m,\u001b[49m\u001b[43m \u001b[49m\u001b[43my_numeric\u001b[49m\u001b[38;5;241;43m=\u001b[39;49m\u001b[38;5;28;43;01mTrue\u001b[39;49;00m\u001b[43m,\u001b[49m\u001b[43m \u001b[49m\u001b[43mmulti_output\u001b[49m\u001b[38;5;241;43m=\u001b[39;49m\u001b[38;5;28;43;01mTrue\u001b[39;49;00m\n\u001b[0;32m    686\u001b[0m \u001b[43m\u001b[49m\u001b[43m)\u001b[49m\n\u001b[0;32m    688\u001b[0m sample_weight \u001b[38;5;241m=\u001b[39m _check_sample_weight(\n\u001b[0;32m    689\u001b[0m     sample_weight, X, dtype\u001b[38;5;241m=\u001b[39mX\u001b[38;5;241m.\u001b[39mdtype, only_non_negative\u001b[38;5;241m=\u001b[39m\u001b[38;5;28;01mTrue\u001b[39;00m\n\u001b[0;32m    690\u001b[0m )\n\u001b[0;32m    692\u001b[0m X, y, X_offset, y_offset, X_scale \u001b[38;5;241m=\u001b[39m _preprocess_data(\n\u001b[0;32m    693\u001b[0m     X,\n\u001b[0;32m    694\u001b[0m     y,\n\u001b[1;32m   (...)\u001b[0m\n\u001b[0;32m    698\u001b[0m     sample_weight\u001b[38;5;241m=\u001b[39msample_weight,\n\u001b[0;32m    699\u001b[0m )\n",
      "File \u001b[1;32m~\\anaconda3\\lib\\site-packages\\sklearn\\base.py:596\u001b[0m, in \u001b[0;36mBaseEstimator._validate_data\u001b[1;34m(self, X, y, reset, validate_separately, **check_params)\u001b[0m\n\u001b[0;32m    594\u001b[0m         y \u001b[38;5;241m=\u001b[39m check_array(y, input_name\u001b[38;5;241m=\u001b[39m\u001b[38;5;124m\"\u001b[39m\u001b[38;5;124my\u001b[39m\u001b[38;5;124m\"\u001b[39m, \u001b[38;5;241m*\u001b[39m\u001b[38;5;241m*\u001b[39mcheck_y_params)\n\u001b[0;32m    595\u001b[0m     \u001b[38;5;28;01melse\u001b[39;00m:\n\u001b[1;32m--> 596\u001b[0m         X, y \u001b[38;5;241m=\u001b[39m check_X_y(X, y, \u001b[38;5;241m*\u001b[39m\u001b[38;5;241m*\u001b[39mcheck_params)\n\u001b[0;32m    597\u001b[0m     out \u001b[38;5;241m=\u001b[39m X, y\n\u001b[0;32m    599\u001b[0m \u001b[38;5;28;01mif\u001b[39;00m \u001b[38;5;129;01mnot\u001b[39;00m no_val_X \u001b[38;5;129;01mand\u001b[39;00m check_params\u001b[38;5;241m.\u001b[39mget(\u001b[38;5;124m\"\u001b[39m\u001b[38;5;124mensure_2d\u001b[39m\u001b[38;5;124m\"\u001b[39m, \u001b[38;5;28;01mTrue\u001b[39;00m):\n",
      "File \u001b[1;32m~\\anaconda3\\lib\\site-packages\\sklearn\\utils\\validation.py:1092\u001b[0m, in \u001b[0;36mcheck_X_y\u001b[1;34m(X, y, accept_sparse, accept_large_sparse, dtype, order, copy, force_all_finite, ensure_2d, allow_nd, multi_output, ensure_min_samples, ensure_min_features, y_numeric, estimator)\u001b[0m\n\u001b[0;32m   1074\u001b[0m X \u001b[38;5;241m=\u001b[39m check_array(\n\u001b[0;32m   1075\u001b[0m     X,\n\u001b[0;32m   1076\u001b[0m     accept_sparse\u001b[38;5;241m=\u001b[39maccept_sparse,\n\u001b[1;32m   (...)\u001b[0m\n\u001b[0;32m   1087\u001b[0m     input_name\u001b[38;5;241m=\u001b[39m\u001b[38;5;124m\"\u001b[39m\u001b[38;5;124mX\u001b[39m\u001b[38;5;124m\"\u001b[39m,\n\u001b[0;32m   1088\u001b[0m )\n\u001b[0;32m   1090\u001b[0m y \u001b[38;5;241m=\u001b[39m _check_y(y, multi_output\u001b[38;5;241m=\u001b[39mmulti_output, y_numeric\u001b[38;5;241m=\u001b[39my_numeric, estimator\u001b[38;5;241m=\u001b[39mestimator)\n\u001b[1;32m-> 1092\u001b[0m \u001b[43mcheck_consistent_length\u001b[49m\u001b[43m(\u001b[49m\u001b[43mX\u001b[49m\u001b[43m,\u001b[49m\u001b[43m \u001b[49m\u001b[43my\u001b[49m\u001b[43m)\u001b[49m\n\u001b[0;32m   1094\u001b[0m \u001b[38;5;28;01mreturn\u001b[39;00m X, y\n",
      "File \u001b[1;32m~\\anaconda3\\lib\\site-packages\\sklearn\\utils\\validation.py:387\u001b[0m, in \u001b[0;36mcheck_consistent_length\u001b[1;34m(*arrays)\u001b[0m\n\u001b[0;32m    385\u001b[0m uniques \u001b[38;5;241m=\u001b[39m np\u001b[38;5;241m.\u001b[39munique(lengths)\n\u001b[0;32m    386\u001b[0m \u001b[38;5;28;01mif\u001b[39;00m \u001b[38;5;28mlen\u001b[39m(uniques) \u001b[38;5;241m>\u001b[39m \u001b[38;5;241m1\u001b[39m:\n\u001b[1;32m--> 387\u001b[0m     \u001b[38;5;28;01mraise\u001b[39;00m \u001b[38;5;167;01mValueError\u001b[39;00m(\n\u001b[0;32m    388\u001b[0m         \u001b[38;5;124m\"\u001b[39m\u001b[38;5;124mFound input variables with inconsistent numbers of samples: \u001b[39m\u001b[38;5;132;01m%r\u001b[39;00m\u001b[38;5;124m\"\u001b[39m\n\u001b[0;32m    389\u001b[0m         \u001b[38;5;241m%\u001b[39m [\u001b[38;5;28mint\u001b[39m(l) \u001b[38;5;28;01mfor\u001b[39;00m l \u001b[38;5;129;01min\u001b[39;00m lengths]\n\u001b[0;32m    390\u001b[0m     )\n",
      "\u001b[1;31mValueError\u001b[0m: Found input variables with inconsistent numbers of samples: [4, 2]"
     ]
    },
    {
     "data": {
      "image/png": "[encoded data removed]",
      "text/plain": [
       "<Figure size 1008x360 with 1 Axes>"
      ]
     },
     "metadata": {},
     "output_type": "display_data"
    }
   ],
   "source": [
    "plt.figure(figsize=(14, 5))\n",
    "degrees = [1, 4, 15]\n",
    "\n",
    "# 다항 회귀의 차수(degree)를 1, 4, 15로 각각 변화시키면서 비교합니다. \n",
    "for i in range(len(degrees)):\n",
    "    ax = plt.subplot(1, len(degrees), i + 1)\n",
    "    plt.setp(ax, xticks=(), yticks=())\n",
    "    \n",
    "    # 개별 degree별로 Polynomial 변환합니다. \n",
    "    polynomial_features = PolynomialFeatures(degree=degrees[i], include_bias=False)\n",
    "    linear_regression = LinearRegression()\n",
    "    pipeline = Pipeline([(\"polynomial_features\", polynomial_features),\n",
    "                         (\"linear_regression\", linear_regression)])\n",
    "    pipeline.fit(X.reshape(-1, 1), y)\n",
    "    \n",
    "    # 교차 검증으로 다항 회귀를 평가합니다. \n",
    "    scores = cross_val_score(pipeline, X.reshape(-1,1), y,scoring=\"neg_mean_squared_error\", cv=10)\n",
    "    coefficients = pipeline.named_steps['linear_regression'].coef_\n",
    "    print('\\nDegree {0} 회귀 계수는 {1} 입니다.'.format(degrees[i], np.round(coefficients, 2)))\n",
    "    print('Degree {0} MSE 는 {1:.2f} 입니다.'.format(degrees[i] , -1*np.mean(scores)))\n",
    "    \n",
    "    # 0 부터 1까지 테스트 데이터 세트를 100개로 나눠 예측을 수행합니다. \n",
    "    # 테스트 데이터 세트에 회귀 예측을 수행하고 예측 곡선과 실제 곡선을 그려서 비교합니다.  \n",
    "    X_test = np.linspace(0, 1, 100)\n",
    "    # 예측값 곡선\n",
    "    plt.plot(X_test, pipeline.predict(X_test[:, np.newaxis]), label=\"Model\") \n",
    "    # 실제 값 곡선\n",
    "    plt.plot(X_test, true_fun(X_test), '--', label=\"True function\")\n",
    "    plt.scatter(X, y, edgecolor='b', s=20, label=\"Samples\")\n",
    "    \n",
    "    plt.xlabel(\"x\"); plt.ylabel(\"y\"); plt.xlim((0, 1)); plt.ylim((-2, 2)); plt.legend(loc=\"best\")\n",
    "    plt.title(\"Degree {}\\nMSE = {:.2e}(+/- {:.2e})\".format(degrees[i], -scores.mean(), scores.std()))\n",
    "\n",
    "plt.show()"
   ]
  },
  {
   "cell_type": "code",
   "execution_count": 72,
   "id": "0d8e082c-b116-4ce0-9b5b-582352cf8609",
   "metadata": {},
   "outputs": [
    {
     "name": "stdout",
     "output_type": "stream",
     "text": [
      " 5 folds 의 개별 Negative MSE scores:  [-0. -0. -0. -0. -0.]\n",
      " 5 folds 의 개별 RMSE scores :  [0.005 0.007 0.005 0.01  0.009]\n",
      " 5 folds 의 평균 RMSE : 0.007 \n"
     ]
    }
   ],
   "source": [
    "from sklearn.linear_model import Ridge\n",
    "from sklearn.model_selection import cross_val_score\n",
    "\n",
    "# alpha=10으로 설정해 릿지 회귀 수행\n",
    "ridge = Ridge(alpha = 10)\n",
    "neg_mse_scores = cross_val_score(ridge, X_data, y_target, scoring=\"neg_mean_squared_error\", cv=5)\n",
    "rmse_scores = np.sqrt(-1 * neg_mse_scores)\n",
    "avg_rmse = np.mean(rmse_scores)\n",
    "\n",
    "print(' 5 folds 의 개별 Negative MSE scores: ', np.round(neg_mse_scores, 3))\n",
    "print(' 5 folds 의 개별 RMSE scores : ', np.round(rmse_scores, 3))\n",
    "print(' 5 folds 의 평균 RMSE : {0:.3f} '.format(avg_rmse))"
   ]
  },
  {
   "cell_type": "markdown",
   "id": "6ecee95d-720f-4fce-b86c-d50881acc40f",
   "metadata": {},
   "source": [
    "## 로그 변환"
   ]
  },
  {
   "cell_type": "markdown",
   "id": "7833d34b-26cd-4c97-b841-4d9e7bead4e8",
   "metadata": {},
   "source": [
    "## 로지스틱 회귀(Logistic Regression)"
   ]
  },
  {
   "cell_type": "markdown",
   "id": "790fbc73-eebc-4813-a9ae-565155c0ad37",
   "metadata": {},
   "source": [
    "### 선형회귀와 다른 점은?"
   ]
  },
  {
   "cell_type": "markdown",
   "id": "694e24a6-846e-4009-9d7e-71b5044343b8",
   "metadata": {},
   "source": [
    "선형 함수의 회귀 최적선을 찾는 것이 아니라 <span style=\"color: #2D3748; background-color:#fff5b1;\">**시그모이드 함수 최적선을 찾고, 이 시그모이드 함수의 반환 값을 확률로 간주해 확률에 따라 분류를 결정**</span>함"
   ]
  },
  {
   "cell_type": "markdown",
   "id": "2c00569b-5d83-4e77-b4d5-f184a8a2fc3f",
   "metadata": {},
   "source": [
    "<p align=\"center\"><img src=\"./sigmoid.png\"></p>"
   ]
  },
  {
   "cell_type": "markdown",
   "id": "76d4c7d5-54cb-4382-a608-14462ba065b1",
   "metadata": {},
   "source": [
    ">  $y = \\frac{1}{1+e^{-z}} = \\frac {e^z}{1+e^z}$\n",
    "- 입력값의 범위는 [ $-\\infty $, $\\infty$ ], 출력값의 범위는 [0, 1]\n",
    "- x = 0 일 때, y = 0.5"
   ]
  },
  {
   "cell_type": "markdown",
   "id": "c04264af-3f6d-4bc2-ac83-6e143aa33fd4",
   "metadata": {},
   "source": [
    "### 주요 하이퍼 파라미터"
   ]
  },
  {
   "cell_type": "markdown",
   "id": "ddce3685-6d56-4930-a5bd-738c1ebb4594",
   "metadata": {},
   "source": [
    "> **C** : 규제 강도를 조절하는 alpha 값의 역수 / C 값이 작을수록 규제 강도 큼"
   ]
  },
  {
   "cell_type": "markdown",
   "id": "f1e6635e-1563-4041-be26-ca064c7fe738",
   "metadata": {},
   "source": [
    "> **penalty**[default = 'l2'] : 규제 유형을 설정 / l2 - L2 규제, l1 - L1 규제"
   ]
  },
  {
   "cell_type": "markdown",
   "id": "96de14c4-c2d0-44db-91cb-27cf671adc78",
   "metadata": {},
   "source": [
    "> **max_iter** : solver 로 지정된 최적화 알고리즘이 최적 수렴할 수 있는 최대 반복 회수"
   ]
  },
  {
   "cell_type": "markdown",
   "id": "c264240e-b843-445b-a487-b6293bc8e60d",
   "metadata": {},
   "source": [
    "## 랜덤포레스트 회귀 트리 이용한 보스턴 주택 가격 예측"
   ]
  },
  {
   "cell_type": "code",
   "execution_count": 5,
   "id": "34583280-fff4-475e-a7ee-ae38393e20d1",
   "metadata": {},
   "outputs": [],
   "source": [
    "from sklearn.datasets import load_boston\n",
    "from sklearn.model_selection import cross_val_score\n",
    "from sklearn.ensemble import RandomForestRegressor\n",
    "import pandas as pd\n",
    "import numpy as np\n",
    "import warnings\n",
    "warnings.filterwarnings('ignore')"
   ]
  },
  {
   "cell_type": "code",
   "execution_count": 6,
   "id": "102db55d-deb6-47aa-816d-bba63c8c825e",
   "metadata": {},
   "outputs": [],
   "source": [
    "# 보스턴 데이터 세트 로드\n",
    "boston = load_boston()\n",
    "bostonDF = pd.DataFrame(boston.data, columns = boston.feature_names)"
   ]
  },
  {
   "cell_type": "code",
   "execution_count": 8,
   "id": "df689d3b-37fa-40f9-b03c-39069c33c36a",
   "metadata": {},
   "outputs": [],
   "source": [
    "bostonDF['PRICE'] = boston.target\n",
    "y_target = bostonDF['PRICE']\n",
    "X_data = bostonDF.drop(['PRICE'], axis = 1)"
   ]
  },
  {
   "cell_type": "code",
   "execution_count": 9,
   "id": "466a409c-0da0-4966-9871-c1078f45e62d",
   "metadata": {},
   "outputs": [],
   "source": [
    "rf = RandomForestRegressor(random_state = 0, n_estimators = 100)"
   ]
  },
  {
   "cell_type": "code",
   "execution_count": 13,
   "id": "84057b61-cfa1-44ca-9e88-4ee9d7a24da8",
   "metadata": {},
   "outputs": [],
   "source": [
    "neg_mse_scores = cross_val_score(rf, X_data, y_target, scoring = \"neg_mean_squared_error\", cv = 5)\n",
    "rmse_scores = np.sqrt(-1 * neg_mse_scores)\n",
    "avg_rmse = np.mean(rmse_scores)"
   ]
  },
  {
   "cell_type": "code",
   "execution_count": 14,
   "id": "9757a26a-4da1-4a62-b95a-06d6adae081c",
   "metadata": {},
   "outputs": [
    {
     "data": {
      "text/plain": [
       "array([ -8.04, -13.58, -18.16, -47.62, -20.45])"
      ]
     },
     "execution_count": 14,
     "metadata": {},
     "output_type": "execute_result"
    }
   ],
   "source": [
    "np.round(neg_mse_scores, 2) # Negative MSE scores"
   ]
  },
  {
   "cell_type": "code",
   "execution_count": null,
   "id": "33a13c46-87b4-4353-94ea-b5b1bae53ad0",
   "metadata": {},
   "outputs": [],
   "source": []
  },
  {
   "cell_type": "code",
   "execution_count": null,
   "id": "67b447f0-d9eb-4d6c-b792-5d439b45a6e2",
   "metadata": {},
   "outputs": [],
   "source": []
  },
  {
   "cell_type": "markdown",
   "id": "bdce3d65-4c14-4cef-a040-519a1eaca87a",
   "metadata": {},
   "source": [
    "# 회귀 실습 - 자전거 대여 수요 예측"
   ]
  },
  {
   "cell_type": "code",
   "execution_count": 41,
   "id": "f4e11c06-c654-4c4b-82d2-482892c07b2a",
   "metadata": {},
   "outputs": [],
   "source": [
    "import numpy as np\n",
    "import pandas as pd\n",
    "import seaborn as sns\n",
    "import matplotlib.pyplot as plt\n",
    "%matplotlib inline\n",
    "import warnings\n",
    "warnings.filterwarnings('ignore', category = RuntimeWarning)"
   ]
  },
  {
   "cell_type": "code",
   "execution_count": 42,
   "id": "81922f3c-6211-4a9d-bb2e-4aedc0f5de66",
   "metadata": {},
   "outputs": [
    {
     "data": {
      "text/html": [
       "<div>\n",
       "<style scoped>\n",
       "    .dataframe tbody tr th:only-of-type {\n",
       "        vertical-align: middle;\n",
       "    }\n",
       "\n",
       "    .dataframe tbody tr th {\n",
       "        vertical-align: top;\n",
       "    }\n",
       "\n",
       "    .dataframe thead th {\n",
       "        text-align: right;\n",
       "    }\n",
       "</style>\n",
       "<table border=\"1\" class=\"dataframe\">\n",
       "  <thead>\n",
       "    <tr style=\"text-align: right;\">\n",
       "      <th></th>\n",
       "      <th>datetime</th>\n",
       "      <th>season</th>\n",
       "      <th>holiday</th>\n",
       "      <th>workingday</th>\n",
       "      <th>weather</th>\n",
       "      <th>temp</th>\n",
       "      <th>atemp</th>\n",
       "      <th>humidity</th>\n",
       "      <th>windspeed</th>\n",
       "      <th>casual</th>\n",
       "      <th>registered</th>\n",
       "      <th>count</th>\n",
       "    </tr>\n",
       "  </thead>\n",
       "  <tbody>\n",
       "    <tr>\n",
       "      <th>0</th>\n",
       "      <td>2011-01-01 00:00:00</td>\n",
       "      <td>1</td>\n",
       "      <td>0</td>\n",
       "      <td>0</td>\n",
       "      <td>1</td>\n",
       "      <td>9.84</td>\n",
       "      <td>14.395</td>\n",
       "      <td>81</td>\n",
       "      <td>0.0</td>\n",
       "      <td>3</td>\n",
       "      <td>13</td>\n",
       "      <td>16</td>\n",
       "    </tr>\n",
       "    <tr>\n",
       "      <th>1</th>\n",
       "      <td>2011-01-01 01:00:00</td>\n",
       "      <td>1</td>\n",
       "      <td>0</td>\n",
       "      <td>0</td>\n",
       "      <td>1</td>\n",
       "      <td>9.02</td>\n",
       "      <td>13.635</td>\n",
       "      <td>80</td>\n",
       "      <td>0.0</td>\n",
       "      <td>8</td>\n",
       "      <td>32</td>\n",
       "      <td>40</td>\n",
       "    </tr>\n",
       "    <tr>\n",
       "      <th>2</th>\n",
       "      <td>2011-01-01 02:00:00</td>\n",
       "      <td>1</td>\n",
       "      <td>0</td>\n",
       "      <td>0</td>\n",
       "      <td>1</td>\n",
       "      <td>9.02</td>\n",
       "      <td>13.635</td>\n",
       "      <td>80</td>\n",
       "      <td>0.0</td>\n",
       "      <td>5</td>\n",
       "      <td>27</td>\n",
       "      <td>32</td>\n",
       "    </tr>\n",
       "  </tbody>\n",
       "</table>\n",
       "</div>"
      ],
      "text/plain": [
       "              datetime  season  holiday  workingday  weather  temp   atemp  \\\n",
       "0  2011-01-01 00:00:00       1        0           0        1  9.84  14.395   \n",
       "1  2011-01-01 01:00:00       1        0           0        1  9.02  13.635   \n",
       "2  2011-01-01 02:00:00       1        0           0        1  9.02  13.635   \n",
       "\n",
       "   humidity  windspeed  casual  registered  count  \n",
       "0        81        0.0       3          13     16  \n",
       "1        80        0.0       8          32     40  \n",
       "2        80        0.0       5          27     32  "
      ]
     },
     "execution_count": 42,
     "metadata": {},
     "output_type": "execute_result"
    }
   ],
   "source": [
    "bike_df = pd.read_csv('./data/bike/train.csv')\n",
    "bike_df[:3]"
   ]
  },
  {
   "cell_type": "code",
   "execution_count": 43,
   "id": "1014ee5a-c839-4e92-b0d6-f8462a75745c",
   "metadata": {},
   "outputs": [
    {
     "data": {
      "text/plain": [
       "(10886, 12)"
      ]
     },
     "execution_count": 43,
     "metadata": {},
     "output_type": "execute_result"
    }
   ],
   "source": [
    "bike_df.shape"
   ]
  },
  {
   "cell_type": "code",
   "execution_count": 44,
   "id": "02df4ff0-192f-47b7-8390-28d8777a35d2",
   "metadata": {},
   "outputs": [
    {
     "name": "stdout",
     "output_type": "stream",
     "text": [
      "<class 'pandas.core.frame.DataFrame'>\n",
      "RangeIndex: 10886 entries, 0 to 10885\n",
      "Data columns (total 12 columns):\n",
      " #   Column      Non-Null Count  Dtype  \n",
      "---  ------      --------------  -----  \n",
      " 0   datetime    10886 non-null  object \n",
      " 1   season      10886 non-null  int64  \n",
      " 2   holiday     10886 non-null  int64  \n",
      " 3   workingday  10886 non-null  int64  \n",
      " 4   weather     10886 non-null  int64  \n",
      " 5   temp        10886 non-null  float64\n",
      " 6   atemp       10886 non-null  float64\n",
      " 7   humidity    10886 non-null  int64  \n",
      " 8   windspeed   10886 non-null  float64\n",
      " 9   casual      10886 non-null  int64  \n",
      " 10  registered  10886 non-null  int64  \n",
      " 11  count       10886 non-null  int64  \n",
      "dtypes: float64(3), int64(8), object(1)\n",
      "memory usage: 1020.7+ KB\n"
     ]
    }
   ],
   "source": [
    "bike_df.info()"
   ]
  },
  {
   "cell_type": "markdown",
   "id": "877299d4-a444-4aed-8838-b0cf43b1929e",
   "metadata": {},
   "source": [
    "\"object형 1개임\"을 알 수 있음  "
   ]
  },
  {
   "cell_type": "markdown",
   "id": "f6035557-3baa-4350-9163-dba5fb6376b8",
   "metadata": {},
   "source": [
    "> 문자열을 datetime 타입으로 변경"
   ]
  },
  {
   "cell_type": "code",
   "execution_count": 45,
   "id": "7c648717-4cbb-4739-acdd-f9df3402a8d6",
   "metadata": {},
   "outputs": [],
   "source": [
    "bike_df['datetime'] = bike_df['datetime'].astype('datetime64')"
   ]
  },
  {
   "cell_type": "code",
   "execution_count": 30,
   "id": "60b4850e-2aa5-46d1-8a9a-e187a3c3adf2",
   "metadata": {},
   "outputs": [],
   "source": [
    "# pd.to_datetime(df['datetime'])"
   ]
  },
  {
   "cell_type": "markdown",
   "id": "6ed0e034-7f0a-4bee-8089-76d273807177",
   "metadata": {},
   "source": [
    "> datetime 타입에서 년, 월, 일, 시간 추출"
   ]
  },
  {
   "cell_type": "code",
   "execution_count": 46,
   "id": "9228424c-fdfb-48bc-ab40-d893c0fc4097",
   "metadata": {},
   "outputs": [],
   "source": [
    "bike_df['year'] = bike_df.datetime.apply(lambda x : x.year)\n",
    "bike_df['month'] = bike_df.datetime.apply(lambda x : x.month)\n",
    "bike_df['day'] = bike_df.datetime.apply(lambda x : x.day)\n",
    "bike_df['hour'] = bike_df.datetime.apply(lambda x : x.hour)"
   ]
  },
  {
   "cell_type": "code",
   "execution_count": 47,
   "id": "5c5ec4aa-a548-4848-a099-008543e12647",
   "metadata": {},
   "outputs": [
    {
     "data": {
      "text/html": [
       "<div>\n",
       "<style scoped>\n",
       "    .dataframe tbody tr th:only-of-type {\n",
       "        vertical-align: middle;\n",
       "    }\n",
       "\n",
       "    .dataframe tbody tr th {\n",
       "        vertical-align: top;\n",
       "    }\n",
       "\n",
       "    .dataframe thead th {\n",
       "        text-align: right;\n",
       "    }\n",
       "</style>\n",
       "<table border=\"1\" class=\"dataframe\">\n",
       "  <thead>\n",
       "    <tr style=\"text-align: right;\">\n",
       "      <th></th>\n",
       "      <th>datetime</th>\n",
       "      <th>season</th>\n",
       "      <th>holiday</th>\n",
       "      <th>workingday</th>\n",
       "      <th>weather</th>\n",
       "      <th>temp</th>\n",
       "      <th>atemp</th>\n",
       "      <th>humidity</th>\n",
       "      <th>windspeed</th>\n",
       "      <th>casual</th>\n",
       "      <th>registered</th>\n",
       "      <th>count</th>\n",
       "      <th>year</th>\n",
       "      <th>month</th>\n",
       "      <th>day</th>\n",
       "      <th>hour</th>\n",
       "    </tr>\n",
       "  </thead>\n",
       "  <tbody>\n",
       "    <tr>\n",
       "      <th>0</th>\n",
       "      <td>2011-01-01 00:00:00</td>\n",
       "      <td>1</td>\n",
       "      <td>0</td>\n",
       "      <td>0</td>\n",
       "      <td>1</td>\n",
       "      <td>9.84</td>\n",
       "      <td>14.395</td>\n",
       "      <td>81</td>\n",
       "      <td>0.0</td>\n",
       "      <td>3</td>\n",
       "      <td>13</td>\n",
       "      <td>16</td>\n",
       "      <td>2011</td>\n",
       "      <td>1</td>\n",
       "      <td>1</td>\n",
       "      <td>0</td>\n",
       "    </tr>\n",
       "    <tr>\n",
       "      <th>1</th>\n",
       "      <td>2011-01-01 01:00:00</td>\n",
       "      <td>1</td>\n",
       "      <td>0</td>\n",
       "      <td>0</td>\n",
       "      <td>1</td>\n",
       "      <td>9.02</td>\n",
       "      <td>13.635</td>\n",
       "      <td>80</td>\n",
       "      <td>0.0</td>\n",
       "      <td>8</td>\n",
       "      <td>32</td>\n",
       "      <td>40</td>\n",
       "      <td>2011</td>\n",
       "      <td>1</td>\n",
       "      <td>1</td>\n",
       "      <td>1</td>\n",
       "    </tr>\n",
       "    <tr>\n",
       "      <th>2</th>\n",
       "      <td>2011-01-01 02:00:00</td>\n",
       "      <td>1</td>\n",
       "      <td>0</td>\n",
       "      <td>0</td>\n",
       "      <td>1</td>\n",
       "      <td>9.02</td>\n",
       "      <td>13.635</td>\n",
       "      <td>80</td>\n",
       "      <td>0.0</td>\n",
       "      <td>5</td>\n",
       "      <td>27</td>\n",
       "      <td>32</td>\n",
       "      <td>2011</td>\n",
       "      <td>1</td>\n",
       "      <td>1</td>\n",
       "      <td>2</td>\n",
       "    </tr>\n",
       "  </tbody>\n",
       "</table>\n",
       "</div>"
      ],
      "text/plain": [
       "             datetime  season  holiday  workingday  weather  temp   atemp  \\\n",
       "0 2011-01-01 00:00:00       1        0           0        1  9.84  14.395   \n",
       "1 2011-01-01 01:00:00       1        0           0        1  9.02  13.635   \n",
       "2 2011-01-01 02:00:00       1        0           0        1  9.02  13.635   \n",
       "\n",
       "   humidity  windspeed  casual  registered  count  year  month  day  hour  \n",
       "0        81        0.0       3          13     16  2011      1    1     0  \n",
       "1        80        0.0       8          32     40  2011      1    1     1  \n",
       "2        80        0.0       5          27     32  2011      1    1     2  "
      ]
     },
     "execution_count": 47,
     "metadata": {},
     "output_type": "execute_result"
    }
   ],
   "source": [
    "bike_df[:3]"
   ]
  },
  {
   "cell_type": "code",
   "execution_count": 48,
   "id": "99c46631-ff9e-4d13-918f-a6111bebccd0",
   "metadata": {},
   "outputs": [],
   "source": [
    "# bike_df['datetime'] = bike_df['datetime'].astype('str')\n",
    "# bike_df['year'] = bike_df['datetime'].str.slice(0,4)"
   ]
  },
  {
   "cell_type": "code",
   "execution_count": 49,
   "id": "9664c33a-21cd-4c72-a881-f5e107557ed8",
   "metadata": {},
   "outputs": [],
   "source": [
    "# bike_df['datetime'].dt.strftime('%Y')"
   ]
  },
  {
   "cell_type": "code",
   "execution_count": 50,
   "id": "595dbd50-d4d7-41a5-9833-d42ef5e44569",
   "metadata": {},
   "outputs": [],
   "source": [
    "# bike_df['datetime'].map(lambda x : x.strftime('%Y'))"
   ]
  },
  {
   "cell_type": "code",
   "execution_count": 51,
   "id": "5ae693ff-64d1-49b5-bb15-f6fec64a3a19",
   "metadata": {},
   "outputs": [],
   "source": [
    "# bike_df.datetime.dt.year"
   ]
  },
  {
   "cell_type": "code",
   "execution_count": 52,
   "id": "a0bd41f6-be2c-4202-85d9-529ba1c6aabd",
   "metadata": {},
   "outputs": [],
   "source": [
    "drop_columns = ['datetime', 'casual', 'registered']\n",
    "bike_df.drop(drop_columns, axis = 1, inplace = True)"
   ]
  },
  {
   "cell_type": "code",
   "execution_count": 57,
   "id": "ec1bc370-6b10-43c7-8c91-b7899a6df8f0",
   "metadata": {},
   "outputs": [
    {
     "data": {
      "image/png": "[encoded data removed]",
      "text/plain": [
       "<Figure size 1152x576 with 8 Axes>"
      ]
     },
     "metadata": {
      "needs_background": "light"
     },
     "output_type": "display_data"
    }
   ],
   "source": [
    "fig, axs = plt.subplots(figsize = (16, 8), ncols = 4, nrows = 2)\n",
    "cat_features = ['year', 'month', 'season', 'weather', 'day', 'hour', 'holiday', 'workingday']\n",
    "\n",
    "# cat_features에 있는 모든 컬럼별로 개별 컬럼값에 따른 count의 합을 barplot으로 시각화\n",
    "for i, feature in enumerate(cat_features):\n",
    "    row = int(i/4)\n",
    "    col = i%4\n",
    "    \n",
    "    sns.barplot(x = feature, y = 'count', data = bike_df, ax = axs[row][col])"
   ]
  },
  {
   "cell_type": "code",
   "execution_count": 59,
   "id": "829c009b-d5e5-4fb8-a6db-bf61988f2d8a",
   "metadata": {},
   "outputs": [],
   "source": [
    "from sklearn.metrics import mean_squared_error as mse\n",
    "from sklearn.model_selection import train_test_split"
   ]
  },
  {
   "cell_type": "code",
   "execution_count": 60,
   "id": "580420e2-fe94-4a42-8df2-c01754b19172",
   "metadata": {},
   "outputs": [],
   "source": [
    "y_target = bike_df['count']\n",
    "X_features = bike_df.drop(['count'], axis = 1)\n",
    "\n",
    "X_train, X_test, y_train, y_test = train_test_split(X_features, y_target, test_size = .3, random_state = 0)"
   ]
  },
  {
   "cell_type": "code",
   "execution_count": 62,
   "id": "2aa96262-38d6-4e0b-9006-d76939253778",
   "metadata": {},
   "outputs": [],
   "source": [
    "from sklearn.linear_model import LinearRegression\n",
    "\n",
    "lr_reg = LinearRegression()\n",
    "lr_reg.fit(X_train, y_train)\n",
    "pred = lr_reg.predict(X_test)"
   ]
  },
  {
   "cell_type": "code",
   "execution_count": 65,
   "id": "11fc1f50-4d49-457f-878c-34a64b0108e5",
   "metadata": {},
   "outputs": [
    {
     "data": {
      "text/plain": [
       "19852.69408784194"
      ]
     },
     "execution_count": 65,
     "metadata": {},
     "output_type": "execute_result"
    }
   ],
   "source": [
    "mse(y_test, pred) # MSE 계산"
   ]
  },
  {
   "cell_type": "code",
   "execution_count": 69,
   "id": "0788c113-4379-4e00-a133-c9e5eae026c3",
   "metadata": {},
   "outputs": [],
   "source": [
    "# log1p()를 이용한 RMSLE를 구하는 함수 정의\n",
    "def rmsle(y, pred):\n",
    "    log_y = np.log1p(y)\n",
    "    log_pred = np.log1p(pred)\n",
    "    squared_error = (log_y - log_pred) ** 2\n",
    "    rmsle = np.sqrt(np.mean(squared_error))\n",
    "    return rmsle"
   ]
  },
  {
   "cell_type": "code",
   "execution_count": 70,
   "id": "79d30cb1-67a4-4b54-82ab-af3ef1f3980d",
   "metadata": {},
   "outputs": [
    {
     "data": {
      "text/plain": [
       "1.1646636237111787"
      ]
     },
     "execution_count": 70,
     "metadata": {},
     "output_type": "execute_result"
    }
   ],
   "source": [
    "rmsle(y_test, pred) # log1p()를 이용한 RMSLE 계산"
   ]
  },
  {
   "cell_type": "code",
   "execution_count": 71,
   "id": "8cd04bdd-84ef-4592-a389-e5cbd0a2bded",
   "metadata": {},
   "outputs": [
    {
     "data": {
      "text/plain": [
       "count    3266.000000\n",
       "mean      194.430496\n",
       "std       180.235458\n",
       "min         1.000000\n",
       "25%        43.000000\n",
       "50%       153.000000\n",
       "75%       285.750000\n",
       "max       901.000000\n",
       "Name: count, dtype: float64"
      ]
     },
     "execution_count": 71,
     "metadata": {},
     "output_type": "execute_result"
    }
   ],
   "source": [
    "y_test.describe()"
   ]
  },
  {
   "cell_type": "markdown",
   "id": "121df37a-b653-4f98-b556-ac3750eb0807",
   "metadata": {},
   "source": [
    "mean 이 194인데 min은 1, max는 901임을 알 수 있음 => 불균형한 데이터? 어느 한 쪽으로 치우쳐져 있음을 알 수 있음"
   ]
  },
  {
   "cell_type": "code",
   "execution_count": 73,
   "id": "6dd98430-9060-421d-a5b6-a7842f5cbe84",
   "metadata": {},
   "outputs": [
    {
     "data": {
      "text/plain": [
       "6638     5.501258\n",
       "7975     5.480639\n",
       "5915     5.438079\n",
       "8050     6.148468\n",
       "5894     5.817111\n",
       "           ...   \n",
       "5521     1.791759\n",
       "10626    2.564949\n",
       "8126     4.317488\n",
       "1633     4.143135\n",
       "6198     5.153292\n",
       "Name: count, Length: 3266, dtype: float64"
      ]
     },
     "execution_count": 73,
     "metadata": {},
     "output_type": "execute_result"
    }
   ],
   "source": [
    "np.log1p(y_test)"
   ]
  },
  {
   "cell_type": "code",
   "execution_count": 76,
   "id": "9fc96ac8-a842-4e70-a5be-399e65694887",
   "metadata": {},
   "outputs": [
    {
     "data": {
      "text/plain": [
       "array([2.06896132e+139, 1.22825389e+109, 9.40144332e+104, ...,\n",
       "       8.00398762e+136, 1.02342209e+079, 1.65547294e+072])"
      ]
     },
     "execution_count": 76,
     "metadata": {},
     "output_type": "execute_result"
    }
   ],
   "source": [
    "np.expm1(pred)"
   ]
  },
  {
   "cell_type": "markdown",
   "id": "e7455653-c3d3-4866-84e4-b7a31b4be58a",
   "metadata": {},
   "source": [
    "# 트리를 이용하여 회귀 분석해보기"
   ]
  },
  {
   "cell_type": "code",
   "execution_count": null,
   "id": "7a8adc3c-2751-483d-856f-61a26a195fd9",
   "metadata": {},
   "outputs": [],
   "source": []
  },
  {
   "cell_type": "code",
   "execution_count": null,
   "id": "de2f7e3f-bffe-41eb-bb10-41c8362e5644",
   "metadata": {},
   "outputs": [],
   "source": []
  },
  {
   "cell_type": "code",
   "execution_count": null,
   "id": "e7523f73-9715-4f1c-88b6-3ce9d8a4b20e",
   "metadata": {},
   "outputs": [],
   "source": []
  },
  {
   "cell_type": "code",
   "execution_count": null,
   "id": "eba36bfc-68bc-4048-8577-954cd2060717",
   "metadata": {},
   "outputs": [],
   "source": []
  },
  {
   "cell_type": "code",
   "execution_count": null,
   "id": "14bfbedf-f8d0-4360-a3f3-18afafb19802",
   "metadata": {},
   "outputs": [],
   "source": []
  },
  {
   "cell_type": "code",
   "execution_count": null,
   "id": "0f2ac311-8089-4996-a8e1-f84e4001a524",
   "metadata": {},
   "outputs": [],
   "source": []
  },
  {
   "cell_type": "code",
   "execution_count": null,
   "id": "d5a2a85c-03d0-45cf-ac63-d330a6fbc3e4",
   "metadata": {},
   "outputs": [],
   "source": []
  },
  {
   "cell_type": "code",
   "execution_count": null,
   "id": "ef85afd4-c58b-447d-9044-85f30058401e",
   "metadata": {},
   "outputs": [],
   "source": []
  },
  {
   "cell_type": "code",
   "execution_count": null,
   "id": "23c336ee-7cec-4f48-bd70-1a72c60ff5ad",
   "metadata": {},
   "outputs": [],
   "source": []
  }
 ],
 "metadata": {
  "kernelspec": {
   "display_name": "Python 3 (ipykernel)",
   "language": "python",
   "name": "python3"
  },
  "language_info": {
   "codemirror_mode": {
    "name": "ipython",
    "version": 3
   },
   "file_extension": ".py",
   "mimetype": "text/x-python",
   "name": "python",
   "nbconvert_exporter": "python",
   "pygments_lexer": "ipython3",
   "version": "3.9.12"
  }
 },
 "nbformat": 4,
 "nbformat_minor": 5
}

{
 "cells": [
  {
   "cell_type": "markdown",
   "id": "545787f7-e0eb-43ab-a7bd-ee86fca6e6ba",
   "metadata": {},
   "source": [
    "# 머신러닝"
   ]
  },
  {
   "cell_type": "markdown",
   "id": "627a8ef0-5520-4e84-bf33-126ad69c8f74",
   "metadata": {},
   "source": [
    "## 개념"
   ]
  },
  {
   "cell_type": "markdown",
   "id": "9b299e2f-4578-408d-ba6a-2282f3dcde3d",
   "metadata": {},
   "source": [
    "- 애플리케이션을 수정하지 않고, 데이터를 기반으로 패턴을 학습하고 결과를 예측하는 알고리즘 기법\n",
    "- 숨겨진 패턴 찾아 해결\n",
    "- 놀랄 만한 이익으로 연결 히히"
   ]
  },
  {
   "cell_type": "markdown",
   "id": "59a2e167-0033-4c90-b617-2a34e2f9a638",
   "metadata": {},
   "source": [
    "## 분류"
   ]
  },
  {
   "cell_type": "markdown",
   "id": "de51e2b5-4e8b-4bd7-b65e-435ca1df4ef3",
   "metadata": {},
   "source": [
    "> **지도학습**"
   ]
  },
  {
   "cell_type": "markdown",
   "id": "2640372e-f103-418b-b3d2-c4a454483201",
   "metadata": {},
   "source": [
    "결과가 지정되어 있음 -> 학습할 데이터 존재함<br>\n",
    "즉, <span style=\"color: #2D3748; background-color:#fff5b1;\">명확한 정답이 주어진 데이터를 먼저 학습한 뒤 미지의 정답을 예측하는 방식</span>  \n",
    "ex) **분류**, **회귀**, 추천 시스템, 시각/음성 감지/인지, 텍스트 분석, NLP"
   ]
  },
  {
   "cell_type": "markdown",
   "id": "6f24fea9-19ab-4151-95d2-945afa97580a",
   "metadata": {},
   "source": [
    "> **비지도학습**"
   ]
  },
  {
   "cell_type": "markdown",
   "id": "37fb6198-0dca-42cc-b081-41956272032d",
   "metadata": {},
   "source": [
    "결과가 지정되어 있지 않음<br>\n",
    "ex) 클러스터링(군집), 차원 축소, 강화 학습, 피처 추출(Feature Extraction)"
   ]
  },
  {
   "cell_type": "markdown",
   "id": "f19cdffd-1e7f-40ef-acd7-17fd3bfdaffa",
   "metadata": {},
   "source": [
    "## 단점"
   ]
  },
  {
   "cell_type": "markdown",
   "id": "5b18d520-5680-4b50-acb9-5b92ed6ed48c",
   "metadata": {},
   "source": [
    "데이터에 매우 의존적임<br>\n",
    "<br>\n",
    "\" Garbage In, Garbage Out. \" <br>\n",
    ": \" 터무니없는 입력 데이터(쓰레기)라도 의심을 품지 않고 처리하며, 생각하지도 않던 터무니없는 출력(쓰레기)을 만들어낸다. \""
   ]
  },
  {
   "cell_type": "markdown",
   "id": "86515de6-2ca3-4c8f-8dc7-25063ccb7166",
   "metadata": {},
   "source": [
    "------------"
   ]
  },
  {
   "cell_type": "markdown",
   "id": "5881b84b-afac-4287-a352-22e433ff725a",
   "metadata": {},
   "source": [
    "## 파이썬 머신러닝 생태계를 구성하는 주요 패키지"
   ]
  },
  {
   "cell_type": "markdown",
   "id": "ba743579-8262-4e3b-a3a1-b512b910606b",
   "metadata": {},
   "source": [
    "- 머신러닝 패키지 : scikit-learn\n",
    "- 행렬/선형대수/통계 패키지 : numpy\n",
    "- 데이터 핸들링 : pandas, matplotlib\n",
    "- 시각화 : matplotlib, seaborn"
   ]
  },
  {
   "cell_type": "markdown",
   "id": "3d6c3447-fcb2-4816-afe1-31314eb786b2",
   "metadata": {},
   "source": [
    "----------"
   ]
  },
  {
   "cell_type": "markdown",
   "id": "202d9549-8aad-4bf1-812e-ca157a2ba5c1",
   "metadata": {},
   "source": [
    "# Numpy"
   ]
  },
  {
   "cell_type": "markdown",
   "id": "72bc6d5a-1c4f-4711-b13f-f665aca1d8e1",
   "metadata": {},
   "source": [
    "## ndarray"
   ]
  },
  {
   "cell_type": "markdown",
   "id": "78d7337f-9edf-4a63-83c1-a206649632ec",
   "metadata": {},
   "source": [
    "- Numpy 기반 데이터 타입\n",
    "- 다차원 배열을 쉽게 생성하고 다양한 연산을 수행할 수 있음\n",
    "- ndarray 내의 데이터값은 숫자, 문자열, 불값 등 모두 가능함\n",
    "- 다만, 그 연산의 특성상 같은 데이터 타입으로만 구성되어야 함"
   ]
  },
  {
   "cell_type": "markdown",
   "id": "12722028-9645-4051-9d73-e4cb0d77d751",
   "metadata": {},
   "source": [
    "### 생성하기"
   ]
  },
  {
   "cell_type": "code",
   "execution_count": 5,
   "id": "ad4a8754-4950-471a-825a-58e95f7690c5",
   "metadata": {},
   "outputs": [],
   "source": [
    "import numpy as np"
   ]
  },
  {
   "cell_type": "code",
   "execution_count": 6,
   "id": "85937c2d-184b-46b3-bac2-924cf9b65b3d",
   "metadata": {},
   "outputs": [
    {
     "data": {
      "text/plain": [
       "array([1, 2, 3, 4, 5])"
      ]
     },
     "execution_count": 6,
     "metadata": {},
     "output_type": "execute_result"
    }
   ],
   "source": [
    "arr = np.array([1,2,3,4,5])\n",
    "arr"
   ]
  },
  {
   "cell_type": "markdown",
   "id": "42aee538-ca76-40f0-b05a-c2239ff207e3",
   "metadata": {},
   "source": [
    "### 데이터 타입 확인하기"
   ]
  },
  {
   "cell_type": "code",
   "execution_count": 7,
   "id": "e69093e8-fb09-4e58-bd81-cb6b3fe7cbad",
   "metadata": {},
   "outputs": [
    {
     "data": {
      "text/plain": [
       "dtype('int32')"
      ]
     },
     "execution_count": 7,
     "metadata": {},
     "output_type": "execute_result"
    }
   ],
   "source": [
    "arr.dtype"
   ]
  },
  {
   "cell_type": "markdown",
   "id": "9e75fb72-8a9a-4785-9000-a8cd862febde",
   "metadata": {},
   "source": [
    "### 데이터 타입 변경하기"
   ]
  },
  {
   "cell_type": "markdown",
   "id": "f54c9b86-b62b-4338-b12c-2abb9d36724d",
   "metadata": {},
   "source": [
    "메모리를 절약해야 할 때 보통 이용"
   ]
  },
  {
   "cell_type": "code",
   "execution_count": 9,
   "id": "168bf263-c5b2-4bb7-8797-70c9e82b7b9b",
   "metadata": {},
   "outputs": [
    {
     "data": {
      "text/plain": [
       "dtype('float64')"
      ]
     },
     "execution_count": 9,
     "metadata": {},
     "output_type": "execute_result"
    }
   ],
   "source": [
    "arr = arr.astype('float64')\n",
    "arr.dtype"
   ]
  },
  {
   "cell_type": "markdown",
   "id": "7df51307-1d54-4b5e-ad64-4296258476f0",
   "metadata": {},
   "source": [
    "### 편리하게 생성하기"
   ]
  },
  {
   "cell_type": "markdown",
   "id": "8f825f33-b5d1-4d9b-8be7-7e0bfb45235d",
   "metadata": {},
   "source": [
    "#### arange()"
   ]
  },
  {
   "cell_type": "code",
   "execution_count": 12,
   "id": "12240e65-f4f2-4610-a1fe-195ffa7e474d",
   "metadata": {},
   "outputs": [
    {
     "name": "stdout",
     "output_type": "stream",
     "text": [
      "[0 1 2 3 4 5 6 7 8 9]\n",
      "int32\n"
     ]
    },
    {
     "data": {
      "text/plain": [
       "(10,)"
      ]
     },
     "execution_count": 12,
     "metadata": {},
     "output_type": "execute_result"
    }
   ],
   "source": [
    "arr1 = np.arange(10)\n",
    "print(arr1)\n",
    "print(arr1.dtype)\n",
    "arr1.shape"
   ]
  },
  {
   "cell_type": "markdown",
   "id": "05d317ae-d5c8-4c11-ac51-12e710013f03",
   "metadata": {},
   "source": [
    "#### zeros()"
   ]
  },
  {
   "cell_type": "code",
   "execution_count": 13,
   "id": "f8be6cc5-b7ea-486b-afd7-34bf213d9cf3",
   "metadata": {},
   "outputs": [
    {
     "name": "stdout",
     "output_type": "stream",
     "text": [
      "[[0 0]\n",
      " [0 0]\n",
      " [0 0]]\n",
      "int32\n"
     ]
    },
    {
     "data": {
      "text/plain": [
       "(3, 2)"
      ]
     },
     "execution_count": 13,
     "metadata": {},
     "output_type": "execute_result"
    }
   ],
   "source": [
    "arr2 = np.zeros((3,2), dtype = 'int32')\n",
    "print(arr2)\n",
    "print(arr2.dtype)\n",
    "arr2.shape"
   ]
  },
  {
   "cell_type": "markdown",
   "id": "1d12e7d3-4cdc-4d65-a3f3-1563c5e203c4",
   "metadata": {},
   "source": [
    "#### ones()"
   ]
  },
  {
   "cell_type": "code",
   "execution_count": 14,
   "id": "c30684ae-f3aa-4da4-a5f9-efb16eb35aeb",
   "metadata": {},
   "outputs": [
    {
     "name": "stdout",
     "output_type": "stream",
     "text": [
      "[[1. 1.]\n",
      " [1. 1.]\n",
      " [1. 1.]]\n",
      "float64\n"
     ]
    },
    {
     "data": {
      "text/plain": [
       "(3, 2)"
      ]
     },
     "execution_count": 14,
     "metadata": {},
     "output_type": "execute_result"
    }
   ],
   "source": [
    "arr3 = np.ones((3,2))\n",
    "print(arr3)\n",
    "print(arr3.dtype)\n",
    "arr3.shape"
   ]
  },
  {
   "cell_type": "markdown",
   "id": "9285b69d-09fb-4992-826c-b3cd92eb6936",
   "metadata": {},
   "source": [
    "### 차원과 크기 변경하기"
   ]
  },
  {
   "cell_type": "markdown",
   "id": "21213871-474f-4b1f-b08e-6adea4b47b5c",
   "metadata": {},
   "source": [
    "#### reshape()"
   ]
  },
  {
   "cell_type": "code",
   "execution_count": 16,
   "id": "01573bfa-42cc-4ddb-90a6-3c15954c3a6b",
   "metadata": {},
   "outputs": [
    {
     "name": "stdout",
     "output_type": "stream",
     "text": [
      "[0 1 2 3 4 5 6 7 8 9]\n",
      "\n",
      "[[0 1 2 3 4]\n",
      " [5 6 7 8 9]]\n",
      "\n"
     ]
    },
    {
     "data": {
      "text/plain": [
       "array([[0, 1],\n",
       "       [2, 3],\n",
       "       [4, 5],\n",
       "       [6, 7],\n",
       "       [8, 9]])"
      ]
     },
     "execution_count": 16,
     "metadata": {},
     "output_type": "execute_result"
    }
   ],
   "source": [
    "arr1 = np.arange(10)\n",
    "print(arr1)\n",
    "print()\n",
    "arr2 = arr1.reshape(2,5)\n",
    "print(arr2)\n",
    "print()\n",
    "arr3 = arr1.reshape(5,2)\n",
    "arr3"
   ]
  },
  {
   "cell_type": "markdown",
   "id": "a5a8574b-3646-4a35-ba4c-ccdd683f2bf9",
   "metadata": {},
   "source": [
    "> 실전에서 더욱 효율적으로 사용하기"
   ]
  },
  {
   "cell_type": "markdown",
   "id": "6dc37c0f-06a7-425e-941e-d95c2b979875",
   "metadata": {},
   "source": [
    "- -1을 인자로 적용하는 경우, 기존 ndarray와 호환되는 새로운 shape로 변환시켜줌"
   ]
  },
  {
   "cell_type": "code",
   "execution_count": 17,
   "id": "b1e36f08-8298-4495-8efe-4c64cb5089ac",
   "metadata": {},
   "outputs": [
    {
     "data": {
      "text/plain": [
       "array([0, 1, 2, 3, 4, 5, 6, 7, 8, 9])"
      ]
     },
     "execution_count": 17,
     "metadata": {},
     "output_type": "execute_result"
    }
   ],
   "source": [
    "arr1"
   ]
  },
  {
   "cell_type": "code",
   "execution_count": 19,
   "id": "f6e9c1f4-61ba-400f-8248-e41e403b8a45",
   "metadata": {},
   "outputs": [
    {
     "data": {
      "text/plain": [
       "array([[0, 1],\n",
       "       [2, 3],\n",
       "       [4, 5],\n",
       "       [6, 7],\n",
       "       [8, 9]])"
      ]
     },
     "execution_count": 19,
     "metadata": {},
     "output_type": "execute_result"
    }
   ],
   "source": [
    "arr1.reshape(-1,2)"
   ]
  },
  {
   "cell_type": "code",
   "execution_count": 20,
   "id": "c7241993-6750-4b0c-8312-1cc6c98cf23a",
   "metadata": {},
   "outputs": [
    {
     "data": {
      "text/plain": [
       "array([[0, 1, 2, 3, 4],\n",
       "       [5, 6, 7, 8, 9]])"
      ]
     },
     "execution_count": 20,
     "metadata": {},
     "output_type": "execute_result"
    }
   ],
   "source": [
    "arr1.reshape(2,-1)"
   ]
  },
  {
   "cell_type": "markdown",
   "id": "f6a522a7-f2b1-4a51-a23b-328598a1fb2b",
   "metadata": {},
   "source": [
    "- 3차원을 2차원으로, 1차원을 2차원으로 변경하는 경우"
   ]
  },
  {
   "cell_type": "code",
   "execution_count": 21,
   "id": "05e9f489-cc92-48e5-841d-42e417a99119",
   "metadata": {},
   "outputs": [
    {
     "data": {
      "text/plain": [
       "array([0, 1, 2, 3, 4, 5, 6, 7])"
      ]
     },
     "execution_count": 21,
     "metadata": {},
     "output_type": "execute_result"
    }
   ],
   "source": [
    "arr1 = np.arange(8)\n",
    "arr1"
   ]
  },
  {
   "cell_type": "code",
   "execution_count": 23,
   "id": "48c58a75-84c1-4a6d-afe4-95228b528312",
   "metadata": {},
   "outputs": [
    {
     "data": {
      "text/plain": [
       "array([[[0, 1],\n",
       "        [2, 3]],\n",
       "\n",
       "       [[4, 5],\n",
       "        [6, 7]]])"
      ]
     },
     "execution_count": 23,
     "metadata": {},
     "output_type": "execute_result"
    }
   ],
   "source": [
    "arr3d = arr1.reshape(2, 2, 2)\n",
    "arr3d"
   ]
  },
  {
   "cell_type": "code",
   "execution_count": 25,
   "id": "623bc421-b3b2-4ea9-b332-a2cff6652de4",
   "metadata": {},
   "outputs": [
    {
     "data": {
      "text/plain": [
       "array([[0],\n",
       "       [1],\n",
       "       [2],\n",
       "       [3],\n",
       "       [4],\n",
       "       [5],\n",
       "       [6],\n",
       "       [7]])"
      ]
     },
     "execution_count": 25,
     "metadata": {},
     "output_type": "execute_result"
    }
   ],
   "source": [
    "arr5 = arr3d.reshape(-1,1) # 3차원 -> 2차원\n",
    "arr5"
   ]
  },
  {
   "cell_type": "code",
   "execution_count": 26,
   "id": "6cf501d2-9137-4524-a7ea-078e81740ec7",
   "metadata": {},
   "outputs": [
    {
     "data": {
      "text/plain": [
       "array([[0],\n",
       "       [1],\n",
       "       [2],\n",
       "       [3],\n",
       "       [4],\n",
       "       [5],\n",
       "       [6],\n",
       "       [7]])"
      ]
     },
     "execution_count": 26,
     "metadata": {},
     "output_type": "execute_result"
    }
   ],
   "source": [
    "arr2 = arr1.reshape(-1,1) # 1차원 -> 2차원\n",
    "arr2"
   ]
  },
  {
   "cell_type": "markdown",
   "id": "d19439ff-e1f4-447c-946b-35ca0b93eead",
   "metadata": {},
   "source": [
    "### 데이터 세트 선택하기"
   ]
  },
  {
   "cell_type": "markdown",
   "id": "f08d1948-1453-4ab8-8e1f-101640581246",
   "metadata": {},
   "source": [
    "#### Indexing"
   ]
  },
  {
   "cell_type": "markdown",
   "id": "86e6e157-129d-4700-9f11-eac15bd894cc",
   "metadata": {},
   "source": [
    "##### 특정 데이터 값만 추출"
   ]
  },
  {
   "cell_type": "code",
   "execution_count": 30,
   "id": "8fcf6e09-9ebf-479b-a5e9-75143c643945",
   "metadata": {},
   "outputs": [
    {
     "data": {
      "text/plain": [
       "array([1, 2, 3, 4, 5, 6, 7, 8, 9])"
      ]
     },
     "execution_count": 30,
     "metadata": {},
     "output_type": "execute_result"
    }
   ],
   "source": [
    "arr1 = np.arange(1, 10)\n",
    "arr1"
   ]
  },
  {
   "cell_type": "code",
   "execution_count": 31,
   "id": "37aa137e-7146-4097-a569-fbcd74e87c9f",
   "metadata": {},
   "outputs": [
    {
     "data": {
      "text/plain": [
       "3"
      ]
     },
     "execution_count": 31,
     "metadata": {},
     "output_type": "execute_result"
    }
   ],
   "source": [
    "arr1[2]"
   ]
  },
  {
   "cell_type": "code",
   "execution_count": 32,
   "id": "713bd893-42ab-4531-81e9-d33bb089ee97",
   "metadata": {},
   "outputs": [
    {
     "data": {
      "text/plain": [
       "9"
      ]
     },
     "execution_count": 32,
     "metadata": {},
     "output_type": "execute_result"
    }
   ],
   "source": [
    "arr1[-1]"
   ]
  },
  {
   "cell_type": "code",
   "execution_count": 35,
   "id": "f9d50db2-8ab5-456d-b6ef-5620563f4d49",
   "metadata": {},
   "outputs": [
    {
     "data": {
      "text/plain": [
       "array([[1, 2, 3],\n",
       "       [4, 5, 6],\n",
       "       [7, 8, 9]])"
      ]
     },
     "execution_count": 35,
     "metadata": {},
     "output_type": "execute_result"
    }
   ],
   "source": [
    "arr3d = arr1.reshape(3, 3)\n",
    "arr3d"
   ]
  },
  {
   "cell_type": "code",
   "execution_count": 37,
   "id": "3c418b2f-08da-4057-8371-fb8441268d50",
   "metadata": {},
   "outputs": [
    {
     "data": {
      "text/plain": [
       "8"
      ]
     },
     "execution_count": 37,
     "metadata": {},
     "output_type": "execute_result"
    }
   ],
   "source": [
    "arr3d[2, 1]"
   ]
  },
  {
   "cell_type": "code",
   "execution_count": 38,
   "id": "82222662-e5d7-43c1-8bab-b36d14534e7f",
   "metadata": {},
   "outputs": [
    {
     "data": {
      "text/plain": [
       "4"
      ]
     },
     "execution_count": 38,
     "metadata": {},
     "output_type": "execute_result"
    }
   ],
   "source": [
    "arr3d[1, 0]"
   ]
  },
  {
   "cell_type": "markdown",
   "id": "d4c412a3-7665-47bb-b550-566b2fc44ac6",
   "metadata": {},
   "source": [
    "##### slicing"
   ]
  },
  {
   "cell_type": "markdown",
   "id": "9e295531-8123-420d-8386-67df32eec4aa",
   "metadata": {},
   "source": [
    "시작 인덱스에서 종료 인덱스 -1 위치에 있는 데이터를 ndarray 형태로 추출"
   ]
  },
  {
   "cell_type": "code",
   "execution_count": 39,
   "id": "92d695b7-e87f-453a-80b1-14b6de15d8d7",
   "metadata": {},
   "outputs": [
    {
     "name": "stdout",
     "output_type": "stream",
     "text": [
      "[1 2 3 4 5 6 7 8 9]\n"
     ]
    },
    {
     "data": {
      "text/plain": [
       "array([1, 2, 3])"
      ]
     },
     "execution_count": 39,
     "metadata": {},
     "output_type": "execute_result"
    }
   ],
   "source": [
    "arr1 = np.arange(1, 10)\n",
    "arr3 = arr1[0:3]\n",
    "print(arr1)\n",
    "arr3"
   ]
  },
  {
   "cell_type": "markdown",
   "id": "0d6915d1-0e89-44e8-9df8-dd629ac52759",
   "metadata": {},
   "source": [
    "##### fancy indexing"
   ]
  },
  {
   "cell_type": "code",
   "execution_count": 45,
   "id": "c207c5b5-e68f-462c-927f-3ce5d486c7bb",
   "metadata": {},
   "outputs": [
    {
     "name": "stdout",
     "output_type": "stream",
     "text": [
      "[1 2 3 4 5 6 7 8 9]\n"
     ]
    },
    {
     "data": {
      "text/plain": [
       "array([[1, 2, 3],\n",
       "       [4, 5, 6],\n",
       "       [7, 8, 9]])"
      ]
     },
     "execution_count": 45,
     "metadata": {},
     "output_type": "execute_result"
    }
   ],
   "source": [
    "arr1 = np.arange(1, 10)\n",
    "arr2 = arr1.reshape(3, 3)\n",
    "print(arr1)\n",
    "arr2"
   ]
  },
  {
   "cell_type": "code",
   "execution_count": 46,
   "id": "2992d645-6998-4c70-8074-973372151547",
   "metadata": {},
   "outputs": [
    {
     "data": {
      "text/plain": [
       "array([3, 6])"
      ]
     },
     "execution_count": 46,
     "metadata": {},
     "output_type": "execute_result"
    }
   ],
   "source": [
    "arr3 = arr2[[0, 1], 2]\n",
    "arr3"
   ]
  },
  {
   "cell_type": "code",
   "execution_count": 47,
   "id": "4c504dec-2650-431b-aafc-d97706955f7b",
   "metadata": {},
   "outputs": [
    {
     "data": {
      "text/plain": [
       "array([[1, 2],\n",
       "       [4, 5]])"
      ]
     },
     "execution_count": 47,
     "metadata": {},
     "output_type": "execute_result"
    }
   ],
   "source": [
    "arr4 = arr2[[0, 1], 0:2]\n",
    "arr4"
   ]
  },
  {
   "cell_type": "code",
   "execution_count": 49,
   "id": "e2357e6f-31d9-499c-b55c-3b9278ddf5a8",
   "metadata": {},
   "outputs": [
    {
     "data": {
      "text/plain": [
       "array([[1, 2, 3],\n",
       "       [4, 5, 6]])"
      ]
     },
     "execution_count": 49,
     "metadata": {},
     "output_type": "execute_result"
    }
   ],
   "source": [
    "arr5 = arr2[[0, 1]] # (0, :),(1, :) 적용 \n",
    "arr5"
   ]
  },
  {
   "cell_type": "markdown",
   "id": "3daaf438-7d29-4b5c-970c-28a6eea27585",
   "metadata": {},
   "source": [
    "##### boolean indexing"
   ]
  },
  {
   "cell_type": "markdown",
   "id": "398ec255-ac0b-4ef8-9ba4-bfef7a5d349c",
   "metadata": {},
   "source": [
    "조건 필터링과 검색을 동시에 할 수 있음"
   ]
  },
  {
   "cell_type": "code",
   "execution_count": 51,
   "id": "84954b4a-d79f-4440-b955-2ba105061353",
   "metadata": {},
   "outputs": [
    {
     "data": {
      "text/plain": [
       "array([6, 7, 8, 9])"
      ]
     },
     "execution_count": 51,
     "metadata": {},
     "output_type": "execute_result"
    }
   ],
   "source": [
    "arr = np.arange(1, 10)\n",
    "arr3 = arr1[arr1 > 5]\n",
    "arr3"
   ]
  },
  {
   "cell_type": "markdown",
   "id": "8db70572-97f8-461d-8cb0-94f2a73a4f9b",
   "metadata": {},
   "source": [
    "### 행렬의 정렬"
   ]
  },
  {
   "cell_type": "markdown",
   "id": "4ffecf20-47f7-4c6f-8224-8a9c3918bfde",
   "metadata": {},
   "source": [
    "#### sort()"
   ]
  },
  {
   "cell_type": "markdown",
   "id": "bcde7f6f-1998-44c0-b414-474cac639def",
   "metadata": {},
   "source": [
    "기존 행렬은 그대로 유지한 채 원 행렬의 정렬된 행렬을 반환"
   ]
  },
  {
   "cell_type": "code",
   "execution_count": 52,
   "id": "068f3b4a-1dd6-45c9-9221-8d00648e28e7",
   "metadata": {},
   "outputs": [
    {
     "data": {
      "text/plain": [
       "array([1, 3, 5, 9])"
      ]
     },
     "execution_count": 52,
     "metadata": {},
     "output_type": "execute_result"
    }
   ],
   "source": [
    "org_array = np.array([3,1,9,5])\n",
    "sort_array1 = np.sort(org_array)\n",
    "sort_array1"
   ]
  },
  {
   "cell_type": "markdown",
   "id": "053c87c2-b33d-4ff4-8b00-df0494f3a762",
   "metadata": {},
   "source": [
    "#### ndarray.sort()"
   ]
  },
  {
   "cell_type": "markdown",
   "id": "01483023-f6ca-418e-9ae9-ebe14daa7761",
   "metadata": {},
   "source": [
    "원 행렬 자체를 정렬한 형태로 변환하며 반환 값 None"
   ]
  },
  {
   "cell_type": "code",
   "execution_count": 53,
   "id": "0c5ea3d1-6945-41d5-b436-953e2c87ab2e",
   "metadata": {},
   "outputs": [],
   "source": [
    "sort_array2 = org_array.sort()"
   ]
  },
  {
   "cell_type": "code",
   "execution_count": 55,
   "id": "c0451c75-39fb-452a-ad0b-bd9b6e0ae32a",
   "metadata": {},
   "outputs": [
    {
     "data": {
      "text/plain": [
       "array([1, 3, 5, 9])"
      ]
     },
     "execution_count": 55,
     "metadata": {},
     "output_type": "execute_result"
    }
   ],
   "source": [
    "org_array"
   ]
  },
  {
   "cell_type": "markdown",
   "id": "0444984e-734b-4f59-ae98-065ce839f7d2",
   "metadata": {},
   "source": [
    "> 기본값: 오름차순 정렬, <br>내림차순으로 정렬하고 싶다면?"
   ]
  },
  {
   "cell_type": "code",
   "execution_count": 56,
   "id": "a651e724-971c-47d6-88de-0c3e3811aa03",
   "metadata": {},
   "outputs": [
    {
     "data": {
      "text/plain": [
       "array([9, 5, 3, 1])"
      ]
     },
     "execution_count": 56,
     "metadata": {},
     "output_type": "execute_result"
    }
   ],
   "source": [
    "sort_array1_desc = np.sort(org_array)[::-1]\n",
    "sort_array1_desc"
   ]
  },
  {
   "cell_type": "markdown",
   "id": "ce892e1b-04eb-4327-93ba-787278241458",
   "metadata": {},
   "source": [
    "> 정렬의 방향을 설정하고 싶다면?"
   ]
  },
  {
   "cell_type": "code",
   "execution_count": 57,
   "id": "6a66d4db-dea0-44d5-af1a-82f5b06f2f16",
   "metadata": {},
   "outputs": [
    {
     "data": {
      "text/plain": [
       "array([[ 8, 12],\n",
       "       [ 7,  1]])"
      ]
     },
     "execution_count": 57,
     "metadata": {},
     "output_type": "execute_result"
    }
   ],
   "source": [
    "arr2d = np.array([[8,12], [7,1]])\n",
    "arr2d"
   ]
  },
  {
   "cell_type": "code",
   "execution_count": 58,
   "id": "c79ad14a-9a42-4c01-a5e4-1cd0f120167c",
   "metadata": {},
   "outputs": [
    {
     "data": {
      "text/plain": [
       "array([[ 7,  1],\n",
       "       [ 8, 12]])"
      ]
     },
     "execution_count": 58,
     "metadata": {},
     "output_type": "execute_result"
    }
   ],
   "source": [
    "np.sort(arr2d, axis = 0)"
   ]
  },
  {
   "cell_type": "code",
   "execution_count": 59,
   "id": "b06d0832-3d1d-4841-9096-5439605d2841",
   "metadata": {},
   "outputs": [
    {
     "data": {
      "text/plain": [
       "array([[ 8, 12],\n",
       "       [ 1,  7]])"
      ]
     },
     "execution_count": 59,
     "metadata": {},
     "output_type": "execute_result"
    }
   ],
   "source": [
    "np.sort(arr2d, axis = 1)"
   ]
  },
  {
   "cell_type": "markdown",
   "id": "f3698d7e-3cfb-4b69-be12-2b85551c7f61",
   "metadata": {},
   "source": [
    "#### argsort()"
   ]
  },
  {
   "cell_type": "markdown",
   "id": "99c61949-b332-4862-8408-c6749bd10693",
   "metadata": {},
   "source": [
    "기존 원본 행렬의 원소에 대한 인덱스를 반환해줌"
   ]
  },
  {
   "cell_type": "code",
   "execution_count": 62,
   "id": "1bc6e8d6-899d-4200-98bf-737e67175581",
   "metadata": {},
   "outputs": [
    {
     "data": {
      "text/plain": [
       "array([3, 1, 9, 5])"
      ]
     },
     "execution_count": 62,
     "metadata": {},
     "output_type": "execute_result"
    }
   ],
   "source": [
    "org_array = np.array([3,1,9,5])\n",
    "org_array"
   ]
  },
  {
   "cell_type": "code",
   "execution_count": 63,
   "id": "1868b18a-ee08-4476-87e4-eed08a779cd1",
   "metadata": {},
   "outputs": [
    {
     "data": {
      "text/plain": [
       "array([1, 0, 3, 2], dtype=int64)"
      ]
     },
     "execution_count": 63,
     "metadata": {},
     "output_type": "execute_result"
    }
   ],
   "source": [
    "sort = np.argsort(org_array)\n",
    "sort"
   ]
  },
  {
   "cell_type": "code",
   "execution_count": 64,
   "id": "7a855282-6135-4ed0-9b0a-6e350f085bf4",
   "metadata": {},
   "outputs": [
    {
     "data": {
      "text/plain": [
       "array([2, 3, 0, 1], dtype=int64)"
      ]
     },
     "execution_count": 64,
     "metadata": {},
     "output_type": "execute_result"
    }
   ],
   "source": [
    "np.argsort(org_array)[::-1]"
   ]
  },
  {
   "cell_type": "markdown",
   "id": "10bf11fa-c0bd-4748-97f2-535e8c5fd976",
   "metadata": {},
   "source": [
    "> 활용 예제"
   ]
  },
  {
   "cell_type": "code",
   "execution_count": 65,
   "id": "56f1501c-6f0c-493c-ae2c-9e02429348da",
   "metadata": {},
   "outputs": [
    {
     "name": "stdout",
     "output_type": "stream",
     "text": [
      "성적 오름차순 정렬 시 score 인덱스: [0 2 4 1 3]\n",
      "성적 오름차순으로 name 이름 출력: ['John' 'Sarah' 'Samuel' 'Mike' 'Kate']\n"
     ]
    }
   ],
   "source": [
    "name = np.array(['John', 'Mike', 'Sarah', 'Kate', 'Samuel'])\n",
    "score = np.array([78, 95, 84, 98, 88])\n",
    "\n",
    "sort = np.argsort(score)\n",
    "print('성적 오름차순 정렬 시 score 인덱스:', sort)\n",
    "print('성적 오름차순으로 name 이름 출력:', name[sort])"
   ]
  },
  {
   "cell_type": "markdown",
   "id": "edc87795-1ba0-41f2-947a-b70068d2d7ca",
   "metadata": {},
   "source": [
    "### 행렬 내적(행렬 곱)"
   ]
  },
  {
   "cell_type": "markdown",
   "id": "175a02c4-4d75-43a6-8400-1fc052ec0fc1",
   "metadata": {},
   "source": [
    "#### np.dot()"
   ]
  },
  {
   "cell_type": "markdown",
   "id": "ef0f20d6-4eee-46ba-b96a-bd1e6f64cdc7",
   "metadata": {},
   "source": [
    "왼쪽 행렬의 열 개수와 오른쪽 행렬의 행 개수가 동일해야 내적 연산이 가능함"
   ]
  },
  {
   "cell_type": "code",
   "execution_count": 67,
   "id": "7e12c7e5-d67c-4e5c-b3a4-367ea55cad85",
   "metadata": {},
   "outputs": [
    {
     "data": {
      "text/plain": [
       "array([[ 58,  64],\n",
       "       [139, 154]])"
      ]
     },
     "execution_count": 67,
     "metadata": {},
     "output_type": "execute_result"
    }
   ],
   "source": [
    "A = np.array( [[1,2,3],[4,5,6]] )\n",
    "B = np.array( [[7,8], [9,10], [11,12]] )\n",
    "\n",
    "dot_product = np.dot(A, B)\n",
    "dot_product"
   ]
  },
  {
   "cell_type": "markdown",
   "id": "00bf802a-6e53-4427-993e-6817ac51417e",
   "metadata": {},
   "source": [
    "### 전치 행렬"
   ]
  },
  {
   "cell_type": "markdown",
   "id": "6e4bd1f2-9bcc-4c12-924d-fc6571d81bf1",
   "metadata": {},
   "source": [
    "#### transpose()"
   ]
  },
  {
   "cell_type": "code",
   "execution_count": 68,
   "id": "7b995719-2cf4-405f-97be-c3e21fcc9d53",
   "metadata": {},
   "outputs": [
    {
     "data": {
      "text/plain": [
       "array([[1, 2],\n",
       "       [3, 4]])"
      ]
     },
     "execution_count": 68,
     "metadata": {},
     "output_type": "execute_result"
    }
   ],
   "source": [
    "A = np.array([[1,2], [3,4]])\n",
    "A"
   ]
  },
  {
   "cell_type": "code",
   "execution_count": 69,
   "id": "2c59269e-1727-413a-ab0e-530580d513e3",
   "metadata": {},
   "outputs": [
    {
     "data": {
      "text/plain": [
       "array([[1, 3],\n",
       "       [2, 4]])"
      ]
     },
     "execution_count": 69,
     "metadata": {},
     "output_type": "execute_result"
    }
   ],
   "source": [
    "np.transpose(A)"
   ]
  },
  {
   "cell_type": "markdown",
   "id": "86df1d06-1f70-401b-9772-a1cf8d16d68e",
   "metadata": {},
   "source": [
    "----------"
   ]
  },
  {
   "cell_type": "markdown",
   "id": "54fba9d4-7e23-4cf6-a930-f93c4c3abd6e",
   "metadata": {
    "tags": []
   },
   "source": [
    "## Pandas"
   ]
  },
  {
   "cell_type": "code",
   "execution_count": 3,
   "id": "dbc5eaf8-556f-4843-9e39-3c5ff82d5feb",
   "metadata": {
    "tags": []
   },
   "outputs": [
    {
     "data": {
      "text/html": [
       "<div>\n",
       "<style scoped>\n",
       "    .dataframe tbody tr th:only-of-type {\n",
       "        vertical-align: middle;\n",
       "    }\n",
       "\n",
       "    .dataframe tbody tr th {\n",
       "        vertical-align: top;\n",
       "    }\n",
       "\n",
       "    .dataframe thead th {\n",
       "        text-align: right;\n",
       "    }\n",
       "</style>\n",
       "<table border=\"1\" class=\"dataframe\">\n",
       "  <thead>\n",
       "    <tr style=\"text-align: right;\">\n",
       "      <th></th>\n",
       "      <th>PassengerId</th>\n",
       "      <th>Survived</th>\n",
       "      <th>Pclass</th>\n",
       "      <th>Name</th>\n",
       "      <th>Sex</th>\n",
       "      <th>Age</th>\n",
       "      <th>SibSp</th>\n",
       "      <th>Parch</th>\n",
       "      <th>Ticket</th>\n",
       "      <th>Fare</th>\n",
       "      <th>Cabin</th>\n",
       "      <th>Embarked</th>\n",
       "    </tr>\n",
       "  </thead>\n",
       "  <tbody>\n",
       "    <tr>\n",
       "      <th>0</th>\n",
       "      <td>1</td>\n",
       "      <td>0</td>\n",
       "      <td>3</td>\n",
       "      <td>Braund, Mr. Owen Harris</td>\n",
       "      <td>male</td>\n",
       "      <td>22.0</td>\n",
       "      <td>1</td>\n",
       "      <td>0</td>\n",
       "      <td>A/5 21171</td>\n",
       "      <td>7.2500</td>\n",
       "      <td>NaN</td>\n",
       "      <td>S</td>\n",
       "    </tr>\n",
       "    <tr>\n",
       "      <th>1</th>\n",
       "      <td>2</td>\n",
       "      <td>1</td>\n",
       "      <td>1</td>\n",
       "      <td>Cumings, Mrs. John Bradley (Florence Briggs Th...</td>\n",
       "      <td>female</td>\n",
       "      <td>38.0</td>\n",
       "      <td>1</td>\n",
       "      <td>0</td>\n",
       "      <td>PC 17599</td>\n",
       "      <td>71.2833</td>\n",
       "      <td>C85</td>\n",
       "      <td>C</td>\n",
       "    </tr>\n",
       "    <tr>\n",
       "      <th>2</th>\n",
       "      <td>3</td>\n",
       "      <td>1</td>\n",
       "      <td>3</td>\n",
       "      <td>Heikkinen, Miss. Laina</td>\n",
       "      <td>female</td>\n",
       "      <td>26.0</td>\n",
       "      <td>0</td>\n",
       "      <td>0</td>\n",
       "      <td>STON/O2. 3101282</td>\n",
       "      <td>7.9250</td>\n",
       "      <td>NaN</td>\n",
       "      <td>S</td>\n",
       "    </tr>\n",
       "    <tr>\n",
       "      <th>3</th>\n",
       "      <td>4</td>\n",
       "      <td>1</td>\n",
       "      <td>1</td>\n",
       "      <td>Futrelle, Mrs. Jacques Heath (Lily May Peel)</td>\n",
       "      <td>female</td>\n",
       "      <td>35.0</td>\n",
       "      <td>1</td>\n",
       "      <td>0</td>\n",
       "      <td>113803</td>\n",
       "      <td>53.1000</td>\n",
       "      <td>C123</td>\n",
       "      <td>S</td>\n",
       "    </tr>\n",
       "    <tr>\n",
       "      <th>4</th>\n",
       "      <td>5</td>\n",
       "      <td>0</td>\n",
       "      <td>3</td>\n",
       "      <td>Allen, Mr. William Henry</td>\n",
       "      <td>male</td>\n",
       "      <td>35.0</td>\n",
       "      <td>0</td>\n",
       "      <td>0</td>\n",
       "      <td>373450</td>\n",
       "      <td>8.0500</td>\n",
       "      <td>NaN</td>\n",
       "      <td>S</td>\n",
       "    </tr>\n",
       "    <tr>\n",
       "      <th>...</th>\n",
       "      <td>...</td>\n",
       "      <td>...</td>\n",
       "      <td>...</td>\n",
       "      <td>...</td>\n",
       "      <td>...</td>\n",
       "      <td>...</td>\n",
       "      <td>...</td>\n",
       "      <td>...</td>\n",
       "      <td>...</td>\n",
       "      <td>...</td>\n",
       "      <td>...</td>\n",
       "      <td>...</td>\n",
       "    </tr>\n",
       "    <tr>\n",
       "      <th>886</th>\n",
       "      <td>887</td>\n",
       "      <td>0</td>\n",
       "      <td>2</td>\n",
       "      <td>Montvila, Rev. Juozas</td>\n",
       "      <td>male</td>\n",
       "      <td>27.0</td>\n",
       "      <td>0</td>\n",
       "      <td>0</td>\n",
       "      <td>211536</td>\n",
       "      <td>13.0000</td>\n",
       "      <td>NaN</td>\n",
       "      <td>S</td>\n",
       "    </tr>\n",
       "    <tr>\n",
       "      <th>887</th>\n",
       "      <td>888</td>\n",
       "      <td>1</td>\n",
       "      <td>1</td>\n",
       "      <td>Graham, Miss. Margaret Edith</td>\n",
       "      <td>female</td>\n",
       "      <td>19.0</td>\n",
       "      <td>0</td>\n",
       "      <td>0</td>\n",
       "      <td>112053</td>\n",
       "      <td>30.0000</td>\n",
       "      <td>B42</td>\n",
       "      <td>S</td>\n",
       "    </tr>\n",
       "    <tr>\n",
       "      <th>888</th>\n",
       "      <td>889</td>\n",
       "      <td>0</td>\n",
       "      <td>3</td>\n",
       "      <td>Johnston, Miss. Catherine Helen \"Carrie\"</td>\n",
       "      <td>female</td>\n",
       "      <td>NaN</td>\n",
       "      <td>1</td>\n",
       "      <td>2</td>\n",
       "      <td>W./C. 6607</td>\n",
       "      <td>23.4500</td>\n",
       "      <td>NaN</td>\n",
       "      <td>S</td>\n",
       "    </tr>\n",
       "    <tr>\n",
       "      <th>889</th>\n",
       "      <td>890</td>\n",
       "      <td>1</td>\n",
       "      <td>1</td>\n",
       "      <td>Behr, Mr. Karl Howell</td>\n",
       "      <td>male</td>\n",
       "      <td>26.0</td>\n",
       "      <td>0</td>\n",
       "      <td>0</td>\n",
       "      <td>111369</td>\n",
       "      <td>30.0000</td>\n",
       "      <td>C148</td>\n",
       "      <td>C</td>\n",
       "    </tr>\n",
       "    <tr>\n",
       "      <th>890</th>\n",
       "      <td>891</td>\n",
       "      <td>0</td>\n",
       "      <td>3</td>\n",
       "      <td>Dooley, Mr. Patrick</td>\n",
       "      <td>male</td>\n",
       "      <td>32.0</td>\n",
       "      <td>0</td>\n",
       "      <td>0</td>\n",
       "      <td>370376</td>\n",
       "      <td>7.7500</td>\n",
       "      <td>NaN</td>\n",
       "      <td>Q</td>\n",
       "    </tr>\n",
       "  </tbody>\n",
       "</table>\n",
       "<p>891 rows × 12 columns</p>\n",
       "</div>"
      ],
      "text/plain": [
       "     PassengerId  Survived  Pclass  \\\n",
       "0              1         0       3   \n",
       "1              2         1       1   \n",
       "2              3         1       3   \n",
       "3              4         1       1   \n",
       "4              5         0       3   \n",
       "..           ...       ...     ...   \n",
       "886          887         0       2   \n",
       "887          888         1       1   \n",
       "888          889         0       3   \n",
       "889          890         1       1   \n",
       "890          891         0       3   \n",
       "\n",
       "                                                  Name     Sex   Age  SibSp  \\\n",
       "0                              Braund, Mr. Owen Harris    male  22.0      1   \n",
       "1    Cumings, Mrs. John Bradley (Florence Briggs Th...  female  38.0      1   \n",
       "2                               Heikkinen, Miss. Laina  female  26.0      0   \n",
       "3         Futrelle, Mrs. Jacques Heath (Lily May Peel)  female  35.0      1   \n",
       "4                             Allen, Mr. William Henry    male  35.0      0   \n",
       "..                                                 ...     ...   ...    ...   \n",
       "886                              Montvila, Rev. Juozas    male  27.0      0   \n",
       "887                       Graham, Miss. Margaret Edith  female  19.0      0   \n",
       "888           Johnston, Miss. Catherine Helen \"Carrie\"  female   NaN      1   \n",
       "889                              Behr, Mr. Karl Howell    male  26.0      0   \n",
       "890                                Dooley, Mr. Patrick    male  32.0      0   \n",
       "\n",
       "     Parch            Ticket     Fare Cabin Embarked  \n",
       "0        0         A/5 21171   7.2500   NaN        S  \n",
       "1        0          PC 17599  71.2833   C85        C  \n",
       "2        0  STON/O2. 3101282   7.9250   NaN        S  \n",
       "3        0            113803  53.1000  C123        S  \n",
       "4        0            373450   8.0500   NaN        S  \n",
       "..     ...               ...      ...   ...      ...  \n",
       "886      0            211536  13.0000   NaN        S  \n",
       "887      0            112053  30.0000   B42        S  \n",
       "888      2        W./C. 6607  23.4500   NaN        S  \n",
       "889      0            111369  30.0000  C148        C  \n",
       "890      0            370376   7.7500   NaN        Q  \n",
       "\n",
       "[891 rows x 12 columns]"
      ]
     },
     "execution_count": 3,
     "metadata": {},
     "output_type": "execute_result"
    }
   ],
   "source": [
    "import pandas as pd\n",
    "\n",
    "titanic = pd.read_csv('./data/titanic_data/titanic_train.csv')\n",
    "titanic"
   ]
  },
  {
   "cell_type": "markdown",
   "id": "9bafa0fe-a296-464d-b7b1-a01a0bc378a0",
   "metadata": {},
   "source": [
    "### info()"
   ]
  },
  {
   "cell_type": "markdown",
   "id": "5af3f9fa-5f4f-4839-9ad3-e5415e2e5a72",
   "metadata": {},
   "source": [
    "총 데이터 건수와 데이터 타입, Null 건수를 보여줌"
   ]
  },
  {
   "cell_type": "code",
   "execution_count": 2,
   "id": "081e2388-242e-4ca2-8c06-8da094eacf0c",
   "metadata": {},
   "outputs": [
    {
     "name": "stdout",
     "output_type": "stream",
     "text": [
      "<class 'pandas.core.frame.DataFrame'>\n",
      "RangeIndex: 891 entries, 0 to 890\n",
      "Data columns (total 12 columns):\n",
      " #   Column       Non-Null Count  Dtype  \n",
      "---  ------       --------------  -----  \n",
      " 0   PassengerId  891 non-null    int64  \n",
      " 1   Survived     891 non-null    int64  \n",
      " 2   Pclass       891 non-null    int64  \n",
      " 3   Name         891 non-null    object \n",
      " 4   Sex          891 non-null    object \n",
      " 5   Age          714 non-null    float64\n",
      " 6   SibSp        891 non-null    int64  \n",
      " 7   Parch        891 non-null    int64  \n",
      " 8   Ticket       891 non-null    object \n",
      " 9   Fare         891 non-null    float64\n",
      " 10  Cabin        204 non-null    object \n",
      " 11  Embarked     889 non-null    object \n",
      "dtypes: float64(2), int64(5), object(5)\n",
      "memory usage: 83.7+ KB\n"
     ]
    }
   ],
   "source": [
    "titanic.info()"
   ]
  },
  {
   "cell_type": "markdown",
   "id": "936e1389-cc57-4c55-941d-f226de32d412",
   "metadata": {},
   "source": [
    "### describe()"
   ]
  },
  {
   "cell_type": "markdown",
   "id": "9e166640-f9de-42bf-a4e9-1816dd0a4fc0",
   "metadata": {},
   "source": [
    "컬럼별 숫자형 데이터값의 n-percentile 분포도, 평균값, 최댓값, 최솟값을 보여줌"
   ]
  },
  {
   "cell_type": "code",
   "execution_count": 3,
   "id": "3bef8e42-d9ca-4e25-8f31-6c0edb82da9f",
   "metadata": {},
   "outputs": [
    {
     "data": {
      "text/html": [
       "<div>\n",
       "<style scoped>\n",
       "    .dataframe tbody tr th:only-of-type {\n",
       "        vertical-align: middle;\n",
       "    }\n",
       "\n",
       "    .dataframe tbody tr th {\n",
       "        vertical-align: top;\n",
       "    }\n",
       "\n",
       "    .dataframe thead th {\n",
       "        text-align: right;\n",
       "    }\n",
       "</style>\n",
       "<table border=\"1\" class=\"dataframe\">\n",
       "  <thead>\n",
       "    <tr style=\"text-align: right;\">\n",
       "      <th></th>\n",
       "      <th>PassengerId</th>\n",
       "      <th>Survived</th>\n",
       "      <th>Pclass</th>\n",
       "      <th>Age</th>\n",
       "      <th>SibSp</th>\n",
       "      <th>Parch</th>\n",
       "      <th>Fare</th>\n",
       "    </tr>\n",
       "  </thead>\n",
       "  <tbody>\n",
       "    <tr>\n",
       "      <th>count</th>\n",
       "      <td>891.000000</td>\n",
       "      <td>891.000000</td>\n",
       "      <td>891.000000</td>\n",
       "      <td>714.000000</td>\n",
       "      <td>891.000000</td>\n",
       "      <td>891.000000</td>\n",
       "      <td>891.000000</td>\n",
       "    </tr>\n",
       "    <tr>\n",
       "      <th>mean</th>\n",
       "      <td>446.000000</td>\n",
       "      <td>0.383838</td>\n",
       "      <td>2.308642</td>\n",
       "      <td>29.699118</td>\n",
       "      <td>0.523008</td>\n",
       "      <td>0.381594</td>\n",
       "      <td>32.204208</td>\n",
       "    </tr>\n",
       "    <tr>\n",
       "      <th>std</th>\n",
       "      <td>257.353842</td>\n",
       "      <td>0.486592</td>\n",
       "      <td>0.836071</td>\n",
       "      <td>14.526497</td>\n",
       "      <td>1.102743</td>\n",
       "      <td>0.806057</td>\n",
       "      <td>49.693429</td>\n",
       "    </tr>\n",
       "    <tr>\n",
       "      <th>min</th>\n",
       "      <td>1.000000</td>\n",
       "      <td>0.000000</td>\n",
       "      <td>1.000000</td>\n",
       "      <td>0.420000</td>\n",
       "      <td>0.000000</td>\n",
       "      <td>0.000000</td>\n",
       "      <td>0.000000</td>\n",
       "    </tr>\n",
       "    <tr>\n",
       "      <th>25%</th>\n",
       "      <td>223.500000</td>\n",
       "      <td>0.000000</td>\n",
       "      <td>2.000000</td>\n",
       "      <td>20.125000</td>\n",
       "      <td>0.000000</td>\n",
       "      <td>0.000000</td>\n",
       "      <td>7.910400</td>\n",
       "    </tr>\n",
       "    <tr>\n",
       "      <th>50%</th>\n",
       "      <td>446.000000</td>\n",
       "      <td>0.000000</td>\n",
       "      <td>3.000000</td>\n",
       "      <td>28.000000</td>\n",
       "      <td>0.000000</td>\n",
       "      <td>0.000000</td>\n",
       "      <td>14.454200</td>\n",
       "    </tr>\n",
       "    <tr>\n",
       "      <th>75%</th>\n",
       "      <td>668.500000</td>\n",
       "      <td>1.000000</td>\n",
       "      <td>3.000000</td>\n",
       "      <td>38.000000</td>\n",
       "      <td>1.000000</td>\n",
       "      <td>0.000000</td>\n",
       "      <td>31.000000</td>\n",
       "    </tr>\n",
       "    <tr>\n",
       "      <th>max</th>\n",
       "      <td>891.000000</td>\n",
       "      <td>1.000000</td>\n",
       "      <td>3.000000</td>\n",
       "      <td>80.000000</td>\n",
       "      <td>8.000000</td>\n",
       "      <td>6.000000</td>\n",
       "      <td>512.329200</td>\n",
       "    </tr>\n",
       "  </tbody>\n",
       "</table>\n",
       "</div>"
      ],
      "text/plain": [
       "       PassengerId    Survived      Pclass         Age       SibSp  \\\n",
       "count   891.000000  891.000000  891.000000  714.000000  891.000000   \n",
       "mean    446.000000    0.383838    2.308642   29.699118    0.523008   \n",
       "std     257.353842    0.486592    0.836071   14.526497    1.102743   \n",
       "min       1.000000    0.000000    1.000000    0.420000    0.000000   \n",
       "25%     223.500000    0.000000    2.000000   20.125000    0.000000   \n",
       "50%     446.000000    0.000000    3.000000   28.000000    0.000000   \n",
       "75%     668.500000    1.000000    3.000000   38.000000    1.000000   \n",
       "max     891.000000    1.000000    3.000000   80.000000    8.000000   \n",
       "\n",
       "            Parch        Fare  \n",
       "count  891.000000  891.000000  \n",
       "mean     0.381594   32.204208  \n",
       "std      0.806057   49.693429  \n",
       "min      0.000000    0.000000  \n",
       "25%      0.000000    7.910400  \n",
       "50%      0.000000   14.454200  \n",
       "75%      0.000000   31.000000  \n",
       "max      6.000000  512.329200  "
      ]
     },
     "execution_count": 3,
     "metadata": {},
     "output_type": "execute_result"
    }
   ],
   "source": [
    "titanic.describe()"
   ]
  },
  {
   "cell_type": "markdown",
   "id": "4368502c-0564-44e7-843c-fed5a60c187f",
   "metadata": {},
   "source": [
    "### value_counts()"
   ]
  },
  {
   "cell_type": "markdown",
   "id": "1a5e80fa-5bc0-400d-8fc4-c8f27613e780",
   "metadata": {},
   "source": [
    "- 해당 컬럼값의 유형과 건수를 보여줌\n",
    "- 데이터의 분포도를 확인하는 데 매우 유용함"
   ]
  },
  {
   "cell_type": "code",
   "execution_count": 4,
   "id": "06b9dc81-bffa-4b29-978a-25f4f08c6a78",
   "metadata": {},
   "outputs": [
    {
     "data": {
      "text/plain": [
       "3    491\n",
       "1    216\n",
       "2    184\n",
       "Name: Pclass, dtype: int64"
      ]
     },
     "execution_count": 4,
     "metadata": {},
     "output_type": "execute_result"
    }
   ],
   "source": [
    "titanic['Pclass'].value_counts()"
   ]
  },
  {
   "cell_type": "markdown",
   "id": "0c92cd62-c5c5-4bac-837c-05029f9d5d00",
   "metadata": {},
   "source": [
    "> Null 값을 포함하여 value_counts()를 적용해보자."
   ]
  },
  {
   "cell_type": "code",
   "execution_count": 7,
   "id": "f0bf93e3-6c41-4c8e-8be0-b6cf3d9b66ec",
   "metadata": {},
   "outputs": [
    {
     "data": {
      "text/plain": [
       "S      644\n",
       "C      168\n",
       "Q       77\n",
       "NaN      2\n",
       "Name: Embarked, dtype: int64"
      ]
     },
     "execution_count": 7,
     "metadata": {},
     "output_type": "execute_result"
    }
   ],
   "source": [
    "titanic['Embarked'].value_counts(dropna = False)"
   ]
  },
  {
   "cell_type": "markdown",
   "id": "e54d3500-4bb8-45e7-b643-18dbfcf33364",
   "metadata": {},
   "source": [
    "---------------"
   ]
  },
  {
   "cell_type": "markdown",
   "id": "27c0d1c3-7228-45d0-961d-8f6cacf0d36b",
   "metadata": {},
   "source": [
    "## 데이터 프레임"
   ]
  },
  {
   "cell_type": "markdown",
   "id": "57258b3d-48cc-4ab5-b69a-51eee305b12c",
   "metadata": {},
   "source": [
    "### 변환하기"
   ]
  },
  {
   "cell_type": "code",
   "execution_count": 9,
   "id": "2263fd7e-9672-443f-8efa-1b86c8655dc7",
   "metadata": {},
   "outputs": [
    {
     "data": {
      "text/html": [
       "<div>\n",
       "<style scoped>\n",
       "    .dataframe tbody tr th:only-of-type {\n",
       "        vertical-align: middle;\n",
       "    }\n",
       "\n",
       "    .dataframe tbody tr th {\n",
       "        vertical-align: top;\n",
       "    }\n",
       "\n",
       "    .dataframe thead th {\n",
       "        text-align: right;\n",
       "    }\n",
       "</style>\n",
       "<table border=\"1\" class=\"dataframe\">\n",
       "  <thead>\n",
       "    <tr style=\"text-align: right;\">\n",
       "      <th></th>\n",
       "      <th>col</th>\n",
       "      <th>col2</th>\n",
       "      <th>col3</th>\n",
       "    </tr>\n",
       "  </thead>\n",
       "  <tbody>\n",
       "    <tr>\n",
       "      <th>0</th>\n",
       "      <td>1</td>\n",
       "      <td>2</td>\n",
       "      <td>3</td>\n",
       "    </tr>\n",
       "    <tr>\n",
       "      <th>1</th>\n",
       "      <td>11</td>\n",
       "      <td>22</td>\n",
       "      <td>33</td>\n",
       "    </tr>\n",
       "  </tbody>\n",
       "</table>\n",
       "</div>"
      ],
      "text/plain": [
       "   col  col2  col3\n",
       "0    1     2     3\n",
       "1   11    22    33"
      ]
     },
     "execution_count": 9,
     "metadata": {},
     "output_type": "execute_result"
    }
   ],
   "source": [
    "dict = {'col' : [1, 11], 'col2' : [2, 22], 'col3' : [3, 33]}\n",
    "df_dict = pd.DataFrame(dict)\n",
    "df_dict"
   ]
  },
  {
   "cell_type": "markdown",
   "id": "f5146982-b355-4f02-bb4c-ae59e00f01b4",
   "metadata": {},
   "source": [
    "> 리스트로 변환하기"
   ]
  },
  {
   "cell_type": "code",
   "execution_count": 14,
   "id": "5119e8b1-76ee-4796-813b-e5174f504b31",
   "metadata": {},
   "outputs": [
    {
     "data": {
      "text/plain": [
       "list"
      ]
     },
     "execution_count": 14,
     "metadata": {},
     "output_type": "execute_result"
    }
   ],
   "source": [
    "list = df_dict.values.tolist()\n",
    "type(list)"
   ]
  },
  {
   "cell_type": "markdown",
   "id": "5d9eefaf-306d-44bd-b03c-c7244874ded7",
   "metadata": {},
   "source": [
    "> 딕셔너리로 변환하기"
   ]
  },
  {
   "cell_type": "markdown",
   "id": "8d9c83e8-6099-4b80-bd98-55b76855bda6",
   "metadata": {},
   "source": [
    "to_dict() 메서드 호출 후, 인자로 'list'를 입력하면 딕셔너리 값이 리스트형으로 반환됨"
   ]
  },
  {
   "cell_type": "code",
   "execution_count": 15,
   "id": "90960f0b-414f-457b-9108-065d942f805d",
   "metadata": {},
   "outputs": [
    {
     "data": {
      "text/plain": [
       "dict"
      ]
     },
     "execution_count": 15,
     "metadata": {},
     "output_type": "execute_result"
    }
   ],
   "source": [
    "dict2 = df_dict.to_dict('list')\n",
    "type(dict2)"
   ]
  },
  {
   "cell_type": "markdown",
   "id": "926f5d50-3522-4f69-a39e-82246d6ed459",
   "metadata": {},
   "source": [
    "### 컬럼 데이터 생성과 수정하기"
   ]
  },
  {
   "cell_type": "markdown",
   "id": "51a2b1e9-4319-47cd-a8da-7afa612858a5",
   "metadata": {},
   "source": [
    "> 생성"
   ]
  },
  {
   "cell_type": "code",
   "execution_count": 18,
   "id": "a6760d20-3e7e-411d-9676-ad8eebec7e15",
   "metadata": {},
   "outputs": [
    {
     "data": {
      "text/html": [
       "<div>\n",
       "<style scoped>\n",
       "    .dataframe tbody tr th:only-of-type {\n",
       "        vertical-align: middle;\n",
       "    }\n",
       "\n",
       "    .dataframe tbody tr th {\n",
       "        vertical-align: top;\n",
       "    }\n",
       "\n",
       "    .dataframe thead th {\n",
       "        text-align: right;\n",
       "    }\n",
       "</style>\n",
       "<table border=\"1\" class=\"dataframe\">\n",
       "  <thead>\n",
       "    <tr style=\"text-align: right;\">\n",
       "      <th></th>\n",
       "      <th>PassengerId</th>\n",
       "      <th>Survived</th>\n",
       "      <th>Pclass</th>\n",
       "      <th>Name</th>\n",
       "      <th>Sex</th>\n",
       "      <th>Age</th>\n",
       "      <th>SibSp</th>\n",
       "      <th>Parch</th>\n",
       "      <th>Ticket</th>\n",
       "      <th>Fare</th>\n",
       "      <th>Cabin</th>\n",
       "      <th>Embarked</th>\n",
       "      <th>Age_0</th>\n",
       "    </tr>\n",
       "  </thead>\n",
       "  <tbody>\n",
       "    <tr>\n",
       "      <th>0</th>\n",
       "      <td>1</td>\n",
       "      <td>0</td>\n",
       "      <td>3</td>\n",
       "      <td>Braund, Mr. Owen Harris</td>\n",
       "      <td>male</td>\n",
       "      <td>22.0</td>\n",
       "      <td>1</td>\n",
       "      <td>0</td>\n",
       "      <td>A/5 21171</td>\n",
       "      <td>7.2500</td>\n",
       "      <td>NaN</td>\n",
       "      <td>S</td>\n",
       "      <td>0</td>\n",
       "    </tr>\n",
       "    <tr>\n",
       "      <th>1</th>\n",
       "      <td>2</td>\n",
       "      <td>1</td>\n",
       "      <td>1</td>\n",
       "      <td>Cumings, Mrs. John Bradley (Florence Briggs Th...</td>\n",
       "      <td>female</td>\n",
       "      <td>38.0</td>\n",
       "      <td>1</td>\n",
       "      <td>0</td>\n",
       "      <td>PC 17599</td>\n",
       "      <td>71.2833</td>\n",
       "      <td>C85</td>\n",
       "      <td>C</td>\n",
       "      <td>0</td>\n",
       "    </tr>\n",
       "    <tr>\n",
       "      <th>2</th>\n",
       "      <td>3</td>\n",
       "      <td>1</td>\n",
       "      <td>3</td>\n",
       "      <td>Heikkinen, Miss. Laina</td>\n",
       "      <td>female</td>\n",
       "      <td>26.0</td>\n",
       "      <td>0</td>\n",
       "      <td>0</td>\n",
       "      <td>STON/O2. 3101282</td>\n",
       "      <td>7.9250</td>\n",
       "      <td>NaN</td>\n",
       "      <td>S</td>\n",
       "      <td>0</td>\n",
       "    </tr>\n",
       "  </tbody>\n",
       "</table>\n",
       "</div>"
      ],
      "text/plain": [
       "   PassengerId  Survived  Pclass  \\\n",
       "0            1         0       3   \n",
       "1            2         1       1   \n",
       "2            3         1       3   \n",
       "\n",
       "                                                Name     Sex   Age  SibSp  \\\n",
       "0                            Braund, Mr. Owen Harris    male  22.0      1   \n",
       "1  Cumings, Mrs. John Bradley (Florence Briggs Th...  female  38.0      1   \n",
       "2                             Heikkinen, Miss. Laina  female  26.0      0   \n",
       "\n",
       "   Parch            Ticket     Fare Cabin Embarked  Age_0  \n",
       "0      0         A/5 21171   7.2500   NaN        S      0  \n",
       "1      0          PC 17599  71.2833   C85        C      0  \n",
       "2      0  STON/O2. 3101282   7.9250   NaN        S      0  "
      ]
     },
     "execution_count": 18,
     "metadata": {},
     "output_type": "execute_result"
    }
   ],
   "source": [
    "titanic['Age_0'] = 0\n",
    "titanic[:3]"
   ]
  },
  {
   "cell_type": "markdown",
   "id": "9ddc6d27-8bd3-4dd7-af4b-9d7a0b71dc73",
   "metadata": {},
   "source": [
    "> 수정"
   ]
  },
  {
   "cell_type": "code",
   "execution_count": 20,
   "id": "ce37ebc8-07eb-4ffe-8643-dec8832d881c",
   "metadata": {},
   "outputs": [
    {
     "data": {
      "text/html": [
       "<div>\n",
       "<style scoped>\n",
       "    .dataframe tbody tr th:only-of-type {\n",
       "        vertical-align: middle;\n",
       "    }\n",
       "\n",
       "    .dataframe tbody tr th {\n",
       "        vertical-align: top;\n",
       "    }\n",
       "\n",
       "    .dataframe thead th {\n",
       "        text-align: right;\n",
       "    }\n",
       "</style>\n",
       "<table border=\"1\" class=\"dataframe\">\n",
       "  <thead>\n",
       "    <tr style=\"text-align: right;\">\n",
       "      <th></th>\n",
       "      <th>PassengerId</th>\n",
       "      <th>Survived</th>\n",
       "      <th>Pclass</th>\n",
       "      <th>Name</th>\n",
       "      <th>Sex</th>\n",
       "      <th>Age</th>\n",
       "      <th>SibSp</th>\n",
       "      <th>Parch</th>\n",
       "      <th>Ticket</th>\n",
       "      <th>Fare</th>\n",
       "      <th>Cabin</th>\n",
       "      <th>Embarked</th>\n",
       "      <th>Age_0</th>\n",
       "    </tr>\n",
       "  </thead>\n",
       "  <tbody>\n",
       "    <tr>\n",
       "      <th>0</th>\n",
       "      <td>1</td>\n",
       "      <td>0</td>\n",
       "      <td>3</td>\n",
       "      <td>Braund, Mr. Owen Harris</td>\n",
       "      <td>male</td>\n",
       "      <td>22.0</td>\n",
       "      <td>1</td>\n",
       "      <td>0</td>\n",
       "      <td>A/5 21171</td>\n",
       "      <td>7.2500</td>\n",
       "      <td>NaN</td>\n",
       "      <td>S</td>\n",
       "      <td>100</td>\n",
       "    </tr>\n",
       "    <tr>\n",
       "      <th>1</th>\n",
       "      <td>2</td>\n",
       "      <td>1</td>\n",
       "      <td>1</td>\n",
       "      <td>Cumings, Mrs. John Bradley (Florence Briggs Th...</td>\n",
       "      <td>female</td>\n",
       "      <td>38.0</td>\n",
       "      <td>1</td>\n",
       "      <td>0</td>\n",
       "      <td>PC 17599</td>\n",
       "      <td>71.2833</td>\n",
       "      <td>C85</td>\n",
       "      <td>C</td>\n",
       "      <td>100</td>\n",
       "    </tr>\n",
       "    <tr>\n",
       "      <th>2</th>\n",
       "      <td>3</td>\n",
       "      <td>1</td>\n",
       "      <td>3</td>\n",
       "      <td>Heikkinen, Miss. Laina</td>\n",
       "      <td>female</td>\n",
       "      <td>26.0</td>\n",
       "      <td>0</td>\n",
       "      <td>0</td>\n",
       "      <td>STON/O2. 3101282</td>\n",
       "      <td>7.9250</td>\n",
       "      <td>NaN</td>\n",
       "      <td>S</td>\n",
       "      <td>100</td>\n",
       "    </tr>\n",
       "  </tbody>\n",
       "</table>\n",
       "</div>"
      ],
      "text/plain": [
       "   PassengerId  Survived  Pclass  \\\n",
       "0            1         0       3   \n",
       "1            2         1       1   \n",
       "2            3         1       3   \n",
       "\n",
       "                                                Name     Sex   Age  SibSp  \\\n",
       "0                            Braund, Mr. Owen Harris    male  22.0      1   \n",
       "1  Cumings, Mrs. John Bradley (Florence Briggs Th...  female  38.0      1   \n",
       "2                             Heikkinen, Miss. Laina  female  26.0      0   \n",
       "\n",
       "   Parch            Ticket     Fare Cabin Embarked  Age_0  \n",
       "0      0         A/5 21171   7.2500   NaN        S    100  \n",
       "1      0          PC 17599  71.2833   C85        C    100  \n",
       "2      0  STON/O2. 3101282   7.9250   NaN        S    100  "
      ]
     },
     "execution_count": 20,
     "metadata": {},
     "output_type": "execute_result"
    }
   ],
   "source": [
    "titanic['Age_0'] = titanic['Age_0'] + 100\n",
    "titanic[:3]"
   ]
  },
  {
   "cell_type": "markdown",
   "id": "5c77387f-afe8-4cb4-9fbe-53557d4ff149",
   "metadata": {},
   "source": [
    "### 삭제하기"
   ]
  },
  {
   "cell_type": "code",
   "execution_count": 22,
   "id": "65ed58f3-7ca4-4f7f-a5f8-297247f2e264",
   "metadata": {},
   "outputs": [
    {
     "data": {
      "text/html": [
       "<div>\n",
       "<style scoped>\n",
       "    .dataframe tbody tr th:only-of-type {\n",
       "        vertical-align: middle;\n",
       "    }\n",
       "\n",
       "    .dataframe tbody tr th {\n",
       "        vertical-align: top;\n",
       "    }\n",
       "\n",
       "    .dataframe thead th {\n",
       "        text-align: right;\n",
       "    }\n",
       "</style>\n",
       "<table border=\"1\" class=\"dataframe\">\n",
       "  <thead>\n",
       "    <tr style=\"text-align: right;\">\n",
       "      <th></th>\n",
       "      <th>PassengerId</th>\n",
       "      <th>Survived</th>\n",
       "      <th>Pclass</th>\n",
       "      <th>Name</th>\n",
       "      <th>Sex</th>\n",
       "      <th>Age</th>\n",
       "      <th>SibSp</th>\n",
       "      <th>Parch</th>\n",
       "      <th>Ticket</th>\n",
       "      <th>Fare</th>\n",
       "      <th>Cabin</th>\n",
       "      <th>Embarked</th>\n",
       "    </tr>\n",
       "  </thead>\n",
       "  <tbody>\n",
       "    <tr>\n",
       "      <th>0</th>\n",
       "      <td>1</td>\n",
       "      <td>0</td>\n",
       "      <td>3</td>\n",
       "      <td>Braund, Mr. Owen Harris</td>\n",
       "      <td>male</td>\n",
       "      <td>22.0</td>\n",
       "      <td>1</td>\n",
       "      <td>0</td>\n",
       "      <td>A/5 21171</td>\n",
       "      <td>7.2500</td>\n",
       "      <td>NaN</td>\n",
       "      <td>S</td>\n",
       "    </tr>\n",
       "    <tr>\n",
       "      <th>1</th>\n",
       "      <td>2</td>\n",
       "      <td>1</td>\n",
       "      <td>1</td>\n",
       "      <td>Cumings, Mrs. John Bradley (Florence Briggs Th...</td>\n",
       "      <td>female</td>\n",
       "      <td>38.0</td>\n",
       "      <td>1</td>\n",
       "      <td>0</td>\n",
       "      <td>PC 17599</td>\n",
       "      <td>71.2833</td>\n",
       "      <td>C85</td>\n",
       "      <td>C</td>\n",
       "    </tr>\n",
       "    <tr>\n",
       "      <th>2</th>\n",
       "      <td>3</td>\n",
       "      <td>1</td>\n",
       "      <td>3</td>\n",
       "      <td>Heikkinen, Miss. Laina</td>\n",
       "      <td>female</td>\n",
       "      <td>26.0</td>\n",
       "      <td>0</td>\n",
       "      <td>0</td>\n",
       "      <td>STON/O2. 3101282</td>\n",
       "      <td>7.9250</td>\n",
       "      <td>NaN</td>\n",
       "      <td>S</td>\n",
       "    </tr>\n",
       "  </tbody>\n",
       "</table>\n",
       "</div>"
      ],
      "text/plain": [
       "   PassengerId  Survived  Pclass  \\\n",
       "0            1         0       3   \n",
       "1            2         1       1   \n",
       "2            3         1       3   \n",
       "\n",
       "                                                Name     Sex   Age  SibSp  \\\n",
       "0                            Braund, Mr. Owen Harris    male  22.0      1   \n",
       "1  Cumings, Mrs. John Bradley (Florence Briggs Th...  female  38.0      1   \n",
       "2                             Heikkinen, Miss. Laina  female  26.0      0   \n",
       "\n",
       "   Parch            Ticket     Fare Cabin Embarked  \n",
       "0      0         A/5 21171   7.2500   NaN        S  \n",
       "1      0          PC 17599  71.2833   C85        C  \n",
       "2      0  STON/O2. 3101282   7.9250   NaN        S  "
      ]
     },
     "execution_count": 22,
     "metadata": {},
     "output_type": "execute_result"
    }
   ],
   "source": [
    "titanic_drop = titanic.drop('Age_0', axis = 1)\n",
    "titanic_drop[:3]"
   ]
  },
  {
   "cell_type": "markdown",
   "id": "8bf284b4-3907-4058-8b05-5563db5703f8",
   "metadata": {},
   "source": [
    "#### inplace = True"
   ]
  },
  {
   "cell_type": "code",
   "execution_count": 24,
   "id": "015cefc5-4973-4988-aae1-fd917f03d5b4",
   "metadata": {},
   "outputs": [
    {
     "data": {
      "text/html": [
       "<div>\n",
       "<style scoped>\n",
       "    .dataframe tbody tr th:only-of-type {\n",
       "        vertical-align: middle;\n",
       "    }\n",
       "\n",
       "    .dataframe tbody tr th {\n",
       "        vertical-align: top;\n",
       "    }\n",
       "\n",
       "    .dataframe thead th {\n",
       "        text-align: right;\n",
       "    }\n",
       "</style>\n",
       "<table border=\"1\" class=\"dataframe\">\n",
       "  <thead>\n",
       "    <tr style=\"text-align: right;\">\n",
       "      <th></th>\n",
       "      <th>PassengerId</th>\n",
       "      <th>Survived</th>\n",
       "      <th>Pclass</th>\n",
       "      <th>Name</th>\n",
       "      <th>Sex</th>\n",
       "      <th>Age</th>\n",
       "      <th>SibSp</th>\n",
       "      <th>Parch</th>\n",
       "      <th>Ticket</th>\n",
       "      <th>Fare</th>\n",
       "      <th>Cabin</th>\n",
       "      <th>Embarked</th>\n",
       "    </tr>\n",
       "  </thead>\n",
       "  <tbody>\n",
       "    <tr>\n",
       "      <th>0</th>\n",
       "      <td>1</td>\n",
       "      <td>0</td>\n",
       "      <td>3</td>\n",
       "      <td>Braund, Mr. Owen Harris</td>\n",
       "      <td>male</td>\n",
       "      <td>22.0</td>\n",
       "      <td>1</td>\n",
       "      <td>0</td>\n",
       "      <td>A/5 21171</td>\n",
       "      <td>7.2500</td>\n",
       "      <td>NaN</td>\n",
       "      <td>S</td>\n",
       "    </tr>\n",
       "    <tr>\n",
       "      <th>1</th>\n",
       "      <td>2</td>\n",
       "      <td>1</td>\n",
       "      <td>1</td>\n",
       "      <td>Cumings, Mrs. John Bradley (Florence Briggs Th...</td>\n",
       "      <td>female</td>\n",
       "      <td>38.0</td>\n",
       "      <td>1</td>\n",
       "      <td>0</td>\n",
       "      <td>PC 17599</td>\n",
       "      <td>71.2833</td>\n",
       "      <td>C85</td>\n",
       "      <td>C</td>\n",
       "    </tr>\n",
       "    <tr>\n",
       "      <th>2</th>\n",
       "      <td>3</td>\n",
       "      <td>1</td>\n",
       "      <td>3</td>\n",
       "      <td>Heikkinen, Miss. Laina</td>\n",
       "      <td>female</td>\n",
       "      <td>26.0</td>\n",
       "      <td>0</td>\n",
       "      <td>0</td>\n",
       "      <td>STON/O2. 3101282</td>\n",
       "      <td>7.9250</td>\n",
       "      <td>NaN</td>\n",
       "      <td>S</td>\n",
       "    </tr>\n",
       "    <tr>\n",
       "      <th>3</th>\n",
       "      <td>4</td>\n",
       "      <td>1</td>\n",
       "      <td>1</td>\n",
       "      <td>Futrelle, Mrs. Jacques Heath (Lily May Peel)</td>\n",
       "      <td>female</td>\n",
       "      <td>35.0</td>\n",
       "      <td>1</td>\n",
       "      <td>0</td>\n",
       "      <td>113803</td>\n",
       "      <td>53.1000</td>\n",
       "      <td>C123</td>\n",
       "      <td>S</td>\n",
       "    </tr>\n",
       "    <tr>\n",
       "      <th>4</th>\n",
       "      <td>5</td>\n",
       "      <td>0</td>\n",
       "      <td>3</td>\n",
       "      <td>Allen, Mr. William Henry</td>\n",
       "      <td>male</td>\n",
       "      <td>35.0</td>\n",
       "      <td>0</td>\n",
       "      <td>0</td>\n",
       "      <td>373450</td>\n",
       "      <td>8.0500</td>\n",
       "      <td>NaN</td>\n",
       "      <td>S</td>\n",
       "    </tr>\n",
       "    <tr>\n",
       "      <th>...</th>\n",
       "      <td>...</td>\n",
       "      <td>...</td>\n",
       "      <td>...</td>\n",
       "      <td>...</td>\n",
       "      <td>...</td>\n",
       "      <td>...</td>\n",
       "      <td>...</td>\n",
       "      <td>...</td>\n",
       "      <td>...</td>\n",
       "      <td>...</td>\n",
       "      <td>...</td>\n",
       "      <td>...</td>\n",
       "    </tr>\n",
       "    <tr>\n",
       "      <th>886</th>\n",
       "      <td>887</td>\n",
       "      <td>0</td>\n",
       "      <td>2</td>\n",
       "      <td>Montvila, Rev. Juozas</td>\n",
       "      <td>male</td>\n",
       "      <td>27.0</td>\n",
       "      <td>0</td>\n",
       "      <td>0</td>\n",
       "      <td>211536</td>\n",
       "      <td>13.0000</td>\n",
       "      <td>NaN</td>\n",
       "      <td>S</td>\n",
       "    </tr>\n",
       "    <tr>\n",
       "      <th>887</th>\n",
       "      <td>888</td>\n",
       "      <td>1</td>\n",
       "      <td>1</td>\n",
       "      <td>Graham, Miss. Margaret Edith</td>\n",
       "      <td>female</td>\n",
       "      <td>19.0</td>\n",
       "      <td>0</td>\n",
       "      <td>0</td>\n",
       "      <td>112053</td>\n",
       "      <td>30.0000</td>\n",
       "      <td>B42</td>\n",
       "      <td>S</td>\n",
       "    </tr>\n",
       "    <tr>\n",
       "      <th>888</th>\n",
       "      <td>889</td>\n",
       "      <td>0</td>\n",
       "      <td>3</td>\n",
       "      <td>Johnston, Miss. Catherine Helen \"Carrie\"</td>\n",
       "      <td>female</td>\n",
       "      <td>NaN</td>\n",
       "      <td>1</td>\n",
       "      <td>2</td>\n",
       "      <td>W./C. 6607</td>\n",
       "      <td>23.4500</td>\n",
       "      <td>NaN</td>\n",
       "      <td>S</td>\n",
       "    </tr>\n",
       "    <tr>\n",
       "      <th>889</th>\n",
       "      <td>890</td>\n",
       "      <td>1</td>\n",
       "      <td>1</td>\n",
       "      <td>Behr, Mr. Karl Howell</td>\n",
       "      <td>male</td>\n",
       "      <td>26.0</td>\n",
       "      <td>0</td>\n",
       "      <td>0</td>\n",
       "      <td>111369</td>\n",
       "      <td>30.0000</td>\n",
       "      <td>C148</td>\n",
       "      <td>C</td>\n",
       "    </tr>\n",
       "    <tr>\n",
       "      <th>890</th>\n",
       "      <td>891</td>\n",
       "      <td>0</td>\n",
       "      <td>3</td>\n",
       "      <td>Dooley, Mr. Patrick</td>\n",
       "      <td>male</td>\n",
       "      <td>32.0</td>\n",
       "      <td>0</td>\n",
       "      <td>0</td>\n",
       "      <td>370376</td>\n",
       "      <td>7.7500</td>\n",
       "      <td>NaN</td>\n",
       "      <td>Q</td>\n",
       "    </tr>\n",
       "  </tbody>\n",
       "</table>\n",
       "<p>891 rows × 12 columns</p>\n",
       "</div>"
      ],
      "text/plain": [
       "     PassengerId  Survived  Pclass  \\\n",
       "0              1         0       3   \n",
       "1              2         1       1   \n",
       "2              3         1       3   \n",
       "3              4         1       1   \n",
       "4              5         0       3   \n",
       "..           ...       ...     ...   \n",
       "886          887         0       2   \n",
       "887          888         1       1   \n",
       "888          889         0       3   \n",
       "889          890         1       1   \n",
       "890          891         0       3   \n",
       "\n",
       "                                                  Name     Sex   Age  SibSp  \\\n",
       "0                              Braund, Mr. Owen Harris    male  22.0      1   \n",
       "1    Cumings, Mrs. John Bradley (Florence Briggs Th...  female  38.0      1   \n",
       "2                               Heikkinen, Miss. Laina  female  26.0      0   \n",
       "3         Futrelle, Mrs. Jacques Heath (Lily May Peel)  female  35.0      1   \n",
       "4                             Allen, Mr. William Henry    male  35.0      0   \n",
       "..                                                 ...     ...   ...    ...   \n",
       "886                              Montvila, Rev. Juozas    male  27.0      0   \n",
       "887                       Graham, Miss. Margaret Edith  female  19.0      0   \n",
       "888           Johnston, Miss. Catherine Helen \"Carrie\"  female   NaN      1   \n",
       "889                              Behr, Mr. Karl Howell    male  26.0      0   \n",
       "890                                Dooley, Mr. Patrick    male  32.0      0   \n",
       "\n",
       "     Parch            Ticket     Fare Cabin Embarked  \n",
       "0        0         A/5 21171   7.2500   NaN        S  \n",
       "1        0          PC 17599  71.2833   C85        C  \n",
       "2        0  STON/O2. 3101282   7.9250   NaN        S  \n",
       "3        0            113803  53.1000  C123        S  \n",
       "4        0            373450   8.0500   NaN        S  \n",
       "..     ...               ...      ...   ...      ...  \n",
       "886      0            211536  13.0000   NaN        S  \n",
       "887      0            112053  30.0000   B42        S  \n",
       "888      2        W./C. 6607  23.4500   NaN        S  \n",
       "889      0            111369  30.0000  C148        C  \n",
       "890      0            370376   7.7500   NaN        Q  \n",
       "\n",
       "[891 rows x 12 columns]"
      ]
     },
     "execution_count": 24,
     "metadata": {},
     "output_type": "execute_result"
    }
   ],
   "source": [
    "titanic.drop('Age_0', axis = 1, inplace = True)\n",
    "titanic"
   ]
  },
  {
   "cell_type": "markdown",
   "id": "f0f26b93-af84-41db-8929-bcb01b3aa6a4",
   "metadata": {},
   "source": [
    "### reset_index()"
   ]
  },
  {
   "cell_type": "markdown",
   "id": "bcd5f915-258e-42f9-9f89-3cfd8431f721",
   "metadata": {},
   "source": [
    "새롭게 인덱스를 연속 숫자 형으로 할당하며, 기존 인덱스는 'index'라는 새로운 컬럼명으로 추가시킴"
   ]
  },
  {
   "cell_type": "code",
   "execution_count": 29,
   "id": "3d80ff06-f413-4036-9693-5b5b2d6e0ac4",
   "metadata": {},
   "outputs": [
    {
     "data": {
      "text/html": [
       "<div>\n",
       "<style scoped>\n",
       "    .dataframe tbody tr th:only-of-type {\n",
       "        vertical-align: middle;\n",
       "    }\n",
       "\n",
       "    .dataframe tbody tr th {\n",
       "        vertical-align: top;\n",
       "    }\n",
       "\n",
       "    .dataframe thead th {\n",
       "        text-align: right;\n",
       "    }\n",
       "</style>\n",
       "<table border=\"1\" class=\"dataframe\">\n",
       "  <thead>\n",
       "    <tr style=\"text-align: right;\">\n",
       "      <th></th>\n",
       "      <th>index</th>\n",
       "      <th>PassengerId</th>\n",
       "      <th>Survived</th>\n",
       "      <th>Pclass</th>\n",
       "      <th>Name</th>\n",
       "      <th>Sex</th>\n",
       "      <th>Age</th>\n",
       "      <th>SibSp</th>\n",
       "      <th>Parch</th>\n",
       "      <th>Ticket</th>\n",
       "      <th>Fare</th>\n",
       "      <th>Cabin</th>\n",
       "      <th>Embarked</th>\n",
       "    </tr>\n",
       "  </thead>\n",
       "  <tbody>\n",
       "    <tr>\n",
       "      <th>0</th>\n",
       "      <td>0</td>\n",
       "      <td>1</td>\n",
       "      <td>0</td>\n",
       "      <td>3</td>\n",
       "      <td>Braund, Mr. Owen Harris</td>\n",
       "      <td>male</td>\n",
       "      <td>22.0</td>\n",
       "      <td>1</td>\n",
       "      <td>0</td>\n",
       "      <td>A/5 21171</td>\n",
       "      <td>7.2500</td>\n",
       "      <td>NaN</td>\n",
       "      <td>S</td>\n",
       "    </tr>\n",
       "    <tr>\n",
       "      <th>1</th>\n",
       "      <td>1</td>\n",
       "      <td>2</td>\n",
       "      <td>1</td>\n",
       "      <td>1</td>\n",
       "      <td>Cumings, Mrs. John Bradley (Florence Briggs Th...</td>\n",
       "      <td>female</td>\n",
       "      <td>38.0</td>\n",
       "      <td>1</td>\n",
       "      <td>0</td>\n",
       "      <td>PC 17599</td>\n",
       "      <td>71.2833</td>\n",
       "      <td>C85</td>\n",
       "      <td>C</td>\n",
       "    </tr>\n",
       "    <tr>\n",
       "      <th>2</th>\n",
       "      <td>2</td>\n",
       "      <td>3</td>\n",
       "      <td>1</td>\n",
       "      <td>3</td>\n",
       "      <td>Heikkinen, Miss. Laina</td>\n",
       "      <td>female</td>\n",
       "      <td>26.0</td>\n",
       "      <td>0</td>\n",
       "      <td>0</td>\n",
       "      <td>STON/O2. 3101282</td>\n",
       "      <td>7.9250</td>\n",
       "      <td>NaN</td>\n",
       "      <td>S</td>\n",
       "    </tr>\n",
       "  </tbody>\n",
       "</table>\n",
       "</div>"
      ],
      "text/plain": [
       "   index  PassengerId  Survived  Pclass  \\\n",
       "0      0            1         0       3   \n",
       "1      1            2         1       1   \n",
       "2      2            3         1       3   \n",
       "\n",
       "                                                Name     Sex   Age  SibSp  \\\n",
       "0                            Braund, Mr. Owen Harris    male  22.0      1   \n",
       "1  Cumings, Mrs. John Bradley (Florence Briggs Th...  female  38.0      1   \n",
       "2                             Heikkinen, Miss. Laina  female  26.0      0   \n",
       "\n",
       "   Parch            Ticket     Fare Cabin Embarked  \n",
       "0      0         A/5 21171   7.2500   NaN        S  \n",
       "1      0          PC 17599  71.2833   C85        C  \n",
       "2      0  STON/O2. 3101282   7.9250   NaN        S  "
      ]
     },
     "execution_count": 29,
     "metadata": {},
     "output_type": "execute_result"
    }
   ],
   "source": [
    "titanic.reset_index(inplace = True)\n",
    "titanic[:3]"
   ]
  },
  {
   "cell_type": "markdown",
   "id": "1c064665-4801-4a68-b708-2aab030fb233",
   "metadata": {},
   "source": [
    "> drop = True"
   ]
  },
  {
   "cell_type": "code",
   "execution_count": 31,
   "id": "5642a270-49e5-4363-b923-5e73626bc8b3",
   "metadata": {},
   "outputs": [],
   "source": [
    "titanic.reset_index(inplace = True, drop = True)"
   ]
  },
  {
   "cell_type": "code",
   "execution_count": 33,
   "id": "53985e92-1909-4e11-bc5b-3398520043bb",
   "metadata": {},
   "outputs": [
    {
     "data": {
      "text/html": [
       "<div>\n",
       "<style scoped>\n",
       "    .dataframe tbody tr th:only-of-type {\n",
       "        vertical-align: middle;\n",
       "    }\n",
       "\n",
       "    .dataframe tbody tr th {\n",
       "        vertical-align: top;\n",
       "    }\n",
       "\n",
       "    .dataframe thead th {\n",
       "        text-align: right;\n",
       "    }\n",
       "</style>\n",
       "<table border=\"1\" class=\"dataframe\">\n",
       "  <thead>\n",
       "    <tr style=\"text-align: right;\">\n",
       "      <th></th>\n",
       "      <th>PassengerId</th>\n",
       "      <th>Survived</th>\n",
       "      <th>Pclass</th>\n",
       "      <th>Name</th>\n",
       "      <th>Sex</th>\n",
       "      <th>Age</th>\n",
       "      <th>SibSp</th>\n",
       "      <th>Parch</th>\n",
       "      <th>Ticket</th>\n",
       "      <th>Fare</th>\n",
       "      <th>Cabin</th>\n",
       "      <th>Embarked</th>\n",
       "    </tr>\n",
       "  </thead>\n",
       "  <tbody>\n",
       "    <tr>\n",
       "      <th>0</th>\n",
       "      <td>1</td>\n",
       "      <td>0</td>\n",
       "      <td>3</td>\n",
       "      <td>Braund, Mr. Owen Harris</td>\n",
       "      <td>male</td>\n",
       "      <td>22.0</td>\n",
       "      <td>1</td>\n",
       "      <td>0</td>\n",
       "      <td>A/5 21171</td>\n",
       "      <td>7.2500</td>\n",
       "      <td>NaN</td>\n",
       "      <td>S</td>\n",
       "    </tr>\n",
       "    <tr>\n",
       "      <th>1</th>\n",
       "      <td>2</td>\n",
       "      <td>1</td>\n",
       "      <td>1</td>\n",
       "      <td>Cumings, Mrs. John Bradley (Florence Briggs Th...</td>\n",
       "      <td>female</td>\n",
       "      <td>38.0</td>\n",
       "      <td>1</td>\n",
       "      <td>0</td>\n",
       "      <td>PC 17599</td>\n",
       "      <td>71.2833</td>\n",
       "      <td>C85</td>\n",
       "      <td>C</td>\n",
       "    </tr>\n",
       "    <tr>\n",
       "      <th>2</th>\n",
       "      <td>3</td>\n",
       "      <td>1</td>\n",
       "      <td>3</td>\n",
       "      <td>Heikkinen, Miss. Laina</td>\n",
       "      <td>female</td>\n",
       "      <td>26.0</td>\n",
       "      <td>0</td>\n",
       "      <td>0</td>\n",
       "      <td>STON/O2. 3101282</td>\n",
       "      <td>7.9250</td>\n",
       "      <td>NaN</td>\n",
       "      <td>S</td>\n",
       "    </tr>\n",
       "  </tbody>\n",
       "</table>\n",
       "</div>"
      ],
      "text/plain": [
       "   PassengerId  Survived  Pclass  \\\n",
       "0            1         0       3   \n",
       "1            2         1       1   \n",
       "2            3         1       3   \n",
       "\n",
       "                                                Name     Sex   Age  SibSp  \\\n",
       "0                            Braund, Mr. Owen Harris    male  22.0      1   \n",
       "1  Cumings, Mrs. John Bradley (Florence Briggs Th...  female  38.0      1   \n",
       "2                             Heikkinen, Miss. Laina  female  26.0      0   \n",
       "\n",
       "   Parch            Ticket     Fare Cabin Embarked  \n",
       "0      0         A/5 21171   7.2500   NaN        S  \n",
       "1      0          PC 17599  71.2833   C85        C  \n",
       "2      0  STON/O2. 3101282   7.9250   NaN        S  "
      ]
     },
     "execution_count": 33,
     "metadata": {},
     "output_type": "execute_result"
    }
   ],
   "source": [
    "titanic.head(3)"
   ]
  },
  {
   "cell_type": "markdown",
   "id": "495e494b-c57d-40c8-a783-ab4c1e7f9c5e",
   "metadata": {},
   "source": [
    "### 셀렉션 및 필터링"
   ]
  },
  {
   "cell_type": "markdown",
   "id": "1f342254-efda-44d9-ab46-e49def2e8ac4",
   "metadata": {},
   "source": [
    "#### df['컬럼명']"
   ]
  },
  {
   "cell_type": "code",
   "execution_count": 37,
   "id": "493a248a-35b4-4535-879b-3c4b1e43c424",
   "metadata": {},
   "outputs": [
    {
     "data": {
      "text/html": [
       "<div>\n",
       "<style scoped>\n",
       "    .dataframe tbody tr th:only-of-type {\n",
       "        vertical-align: middle;\n",
       "    }\n",
       "\n",
       "    .dataframe tbody tr th {\n",
       "        vertical-align: top;\n",
       "    }\n",
       "\n",
       "    .dataframe thead th {\n",
       "        text-align: right;\n",
       "    }\n",
       "</style>\n",
       "<table border=\"1\" class=\"dataframe\">\n",
       "  <thead>\n",
       "    <tr style=\"text-align: right;\">\n",
       "      <th></th>\n",
       "      <th>PassengerId</th>\n",
       "      <th>Survived</th>\n",
       "      <th>Pclass</th>\n",
       "      <th>Name</th>\n",
       "      <th>Sex</th>\n",
       "      <th>Age</th>\n",
       "      <th>SibSp</th>\n",
       "      <th>Parch</th>\n",
       "      <th>Ticket</th>\n",
       "      <th>Fare</th>\n",
       "      <th>Cabin</th>\n",
       "      <th>Embarked</th>\n",
       "    </tr>\n",
       "  </thead>\n",
       "  <tbody>\n",
       "    <tr>\n",
       "      <th>0</th>\n",
       "      <td>1</td>\n",
       "      <td>0</td>\n",
       "      <td>3</td>\n",
       "      <td>Braund, Mr. Owen Harris</td>\n",
       "      <td>male</td>\n",
       "      <td>22.0</td>\n",
       "      <td>1</td>\n",
       "      <td>0</td>\n",
       "      <td>A/5 21171</td>\n",
       "      <td>7.2500</td>\n",
       "      <td>NaN</td>\n",
       "      <td>S</td>\n",
       "    </tr>\n",
       "    <tr>\n",
       "      <th>1</th>\n",
       "      <td>2</td>\n",
       "      <td>1</td>\n",
       "      <td>1</td>\n",
       "      <td>Cumings, Mrs. John Bradley (Florence Briggs Th...</td>\n",
       "      <td>female</td>\n",
       "      <td>38.0</td>\n",
       "      <td>1</td>\n",
       "      <td>0</td>\n",
       "      <td>PC 17599</td>\n",
       "      <td>71.2833</td>\n",
       "      <td>C85</td>\n",
       "      <td>C</td>\n",
       "    </tr>\n",
       "  </tbody>\n",
       "</table>\n",
       "</div>"
      ],
      "text/plain": [
       "   PassengerId  Survived  Pclass  \\\n",
       "0            1         0       3   \n",
       "1            2         1       1   \n",
       "\n",
       "                                                Name     Sex   Age  SibSp  \\\n",
       "0                            Braund, Mr. Owen Harris    male  22.0      1   \n",
       "1  Cumings, Mrs. John Bradley (Florence Briggs Th...  female  38.0      1   \n",
       "\n",
       "   Parch     Ticket     Fare Cabin Embarked  \n",
       "0      0  A/5 21171   7.2500   NaN        S  \n",
       "1      0   PC 17599  71.2833   C85        C  "
      ]
     },
     "execution_count": 37,
     "metadata": {},
     "output_type": "execute_result"
    }
   ],
   "source": [
    "titanic[0:2] # 권장하지 않음"
   ]
  },
  {
   "cell_type": "code",
   "execution_count": 36,
   "id": "e2315b0a-3f56-4bad-8824-a069c7cf50b9",
   "metadata": {},
   "outputs": [
    {
     "data": {
      "text/html": [
       "<div>\n",
       "<style scoped>\n",
       "    .dataframe tbody tr th:only-of-type {\n",
       "        vertical-align: middle;\n",
       "    }\n",
       "\n",
       "    .dataframe tbody tr th {\n",
       "        vertical-align: top;\n",
       "    }\n",
       "\n",
       "    .dataframe thead th {\n",
       "        text-align: right;\n",
       "    }\n",
       "</style>\n",
       "<table border=\"1\" class=\"dataframe\">\n",
       "  <thead>\n",
       "    <tr style=\"text-align: right;\">\n",
       "      <th></th>\n",
       "      <th>PassengerId</th>\n",
       "      <th>Survived</th>\n",
       "      <th>Pclass</th>\n",
       "      <th>Name</th>\n",
       "      <th>Sex</th>\n",
       "      <th>Age</th>\n",
       "      <th>SibSp</th>\n",
       "      <th>Parch</th>\n",
       "      <th>Ticket</th>\n",
       "      <th>Fare</th>\n",
       "      <th>Cabin</th>\n",
       "      <th>Embarked</th>\n",
       "    </tr>\n",
       "  </thead>\n",
       "  <tbody>\n",
       "    <tr>\n",
       "      <th>0</th>\n",
       "      <td>1</td>\n",
       "      <td>0</td>\n",
       "      <td>3</td>\n",
       "      <td>Braund, Mr. Owen Harris</td>\n",
       "      <td>male</td>\n",
       "      <td>22.0</td>\n",
       "      <td>1</td>\n",
       "      <td>0</td>\n",
       "      <td>A/5 21171</td>\n",
       "      <td>7.250</td>\n",
       "      <td>NaN</td>\n",
       "      <td>S</td>\n",
       "    </tr>\n",
       "    <tr>\n",
       "      <th>2</th>\n",
       "      <td>3</td>\n",
       "      <td>1</td>\n",
       "      <td>3</td>\n",
       "      <td>Heikkinen, Miss. Laina</td>\n",
       "      <td>female</td>\n",
       "      <td>26.0</td>\n",
       "      <td>0</td>\n",
       "      <td>0</td>\n",
       "      <td>STON/O2. 3101282</td>\n",
       "      <td>7.925</td>\n",
       "      <td>NaN</td>\n",
       "      <td>S</td>\n",
       "    </tr>\n",
       "    <tr>\n",
       "      <th>4</th>\n",
       "      <td>5</td>\n",
       "      <td>0</td>\n",
       "      <td>3</td>\n",
       "      <td>Allen, Mr. William Henry</td>\n",
       "      <td>male</td>\n",
       "      <td>35.0</td>\n",
       "      <td>0</td>\n",
       "      <td>0</td>\n",
       "      <td>373450</td>\n",
       "      <td>8.050</td>\n",
       "      <td>NaN</td>\n",
       "      <td>S</td>\n",
       "    </tr>\n",
       "  </tbody>\n",
       "</table>\n",
       "</div>"
      ],
      "text/plain": [
       "   PassengerId  Survived  Pclass                      Name     Sex   Age  \\\n",
       "0            1         0       3   Braund, Mr. Owen Harris    male  22.0   \n",
       "2            3         1       3    Heikkinen, Miss. Laina  female  26.0   \n",
       "4            5         0       3  Allen, Mr. William Henry    male  35.0   \n",
       "\n",
       "   SibSp  Parch            Ticket   Fare Cabin Embarked  \n",
       "0      1      0         A/5 21171  7.250   NaN        S  \n",
       "2      0      0  STON/O2. 3101282  7.925   NaN        S  \n",
       "4      0      0            373450  8.050   NaN        S  "
      ]
     },
     "execution_count": 36,
     "metadata": {},
     "output_type": "execute_result"
    }
   ],
   "source": [
    "titanic[titanic['Pclass'] == 3].head(3)"
   ]
  },
  {
   "cell_type": "markdown",
   "id": "20053c9e-df2a-4baf-925d-98cb4e07e0fd",
   "metadata": {},
   "source": [
    "#### iloc[]"
   ]
  },
  {
   "cell_type": "markdown",
   "id": "0890278d-18a1-4dc4-91e2-1e372aff7088",
   "metadata": {},
   "source": [
    "위치 기반 인덱싱"
   ]
  },
  {
   "cell_type": "code",
   "execution_count": 38,
   "id": "3da4caac-83cc-4651-babf-1b6d0904f2f2",
   "metadata": {},
   "outputs": [
    {
     "data": {
      "text/html": [
       "<div>\n",
       "<style scoped>\n",
       "    .dataframe tbody tr th:only-of-type {\n",
       "        vertical-align: middle;\n",
       "    }\n",
       "\n",
       "    .dataframe tbody tr th {\n",
       "        vertical-align: top;\n",
       "    }\n",
       "\n",
       "    .dataframe thead th {\n",
       "        text-align: right;\n",
       "    }\n",
       "</style>\n",
       "<table border=\"1\" class=\"dataframe\">\n",
       "  <thead>\n",
       "    <tr style=\"text-align: right;\">\n",
       "      <th></th>\n",
       "      <th>Name</th>\n",
       "      <th>Year</th>\n",
       "      <th>Gender</th>\n",
       "    </tr>\n",
       "  </thead>\n",
       "  <tbody>\n",
       "    <tr>\n",
       "      <th>one</th>\n",
       "      <td>Chulmin</td>\n",
       "      <td>2011</td>\n",
       "      <td>Male</td>\n",
       "    </tr>\n",
       "    <tr>\n",
       "      <th>two</th>\n",
       "      <td>Eunkyung</td>\n",
       "      <td>2016</td>\n",
       "      <td>Female</td>\n",
       "    </tr>\n",
       "    <tr>\n",
       "      <th>three</th>\n",
       "      <td>Jinwoong</td>\n",
       "      <td>2015</td>\n",
       "      <td>Male</td>\n",
       "    </tr>\n",
       "    <tr>\n",
       "      <th>four</th>\n",
       "      <td>Soobeon</td>\n",
       "      <td>2015</td>\n",
       "      <td>Male</td>\n",
       "    </tr>\n",
       "  </tbody>\n",
       "</table>\n",
       "</div>"
      ],
      "text/plain": [
       "           Name  Year  Gender\n",
       "one     Chulmin  2011    Male\n",
       "two    Eunkyung  2016  Female\n",
       "three  Jinwoong  2015    Male\n",
       "four    Soobeon  2015    Male"
      ]
     },
     "execution_count": 38,
     "metadata": {},
     "output_type": "execute_result"
    }
   ],
   "source": [
    "data = {'Name' : ['Chulmin', 'Eunkyung', 'Jinwoong', 'Soobeon'],\n",
    "        'Year' : [2011, 2016, 2015, 2015],\n",
    "        'Gender' : ['Male', 'Female', 'Male', 'Male']\n",
    "       }\n",
    "data_df = pd.DataFrame(data, index = ['one', 'two', 'three', 'four'])\n",
    "data_df"
   ]
  },
  {
   "cell_type": "code",
   "execution_count": 39,
   "id": "dc8d8a10-fcf4-4fba-85de-46b0b44f00e7",
   "metadata": {},
   "outputs": [
    {
     "data": {
      "text/plain": [
       "'Chulmin'"
      ]
     },
     "execution_count": 39,
     "metadata": {},
     "output_type": "execute_result"
    }
   ],
   "source": [
    "data_df.iloc[0,0]"
   ]
  },
  {
   "cell_type": "code",
   "execution_count": 41,
   "id": "353ab124-865e-4b5d-9e64-f40537884e57",
   "metadata": {},
   "outputs": [
    {
     "data": {
      "text/html": [
       "<div>\n",
       "<style scoped>\n",
       "    .dataframe tbody tr th:only-of-type {\n",
       "        vertical-align: middle;\n",
       "    }\n",
       "\n",
       "    .dataframe tbody tr th {\n",
       "        vertical-align: top;\n",
       "    }\n",
       "\n",
       "    .dataframe thead th {\n",
       "        text-align: right;\n",
       "    }\n",
       "</style>\n",
       "<table border=\"1\" class=\"dataframe\">\n",
       "  <thead>\n",
       "    <tr style=\"text-align: right;\">\n",
       "      <th></th>\n",
       "      <th>Name</th>\n",
       "      <th>Year</th>\n",
       "    </tr>\n",
       "  </thead>\n",
       "  <tbody>\n",
       "    <tr>\n",
       "      <th>one</th>\n",
       "      <td>Chulmin</td>\n",
       "      <td>2011</td>\n",
       "    </tr>\n",
       "    <tr>\n",
       "      <th>two</th>\n",
       "      <td>Eunkyung</td>\n",
       "      <td>2016</td>\n",
       "    </tr>\n",
       "  </tbody>\n",
       "</table>\n",
       "</div>"
      ],
      "text/plain": [
       "         Name  Year\n",
       "one   Chulmin  2011\n",
       "two  Eunkyung  2016"
      ]
     },
     "execution_count": 41,
     "metadata": {},
     "output_type": "execute_result"
    }
   ],
   "source": [
    "data_df.iloc[0:2, [0,1]]"
   ]
  },
  {
   "cell_type": "markdown",
   "id": "6ab68017-c05d-4f3a-9ade-c6ab7539bb85",
   "metadata": {},
   "source": [
    "#### loc[]"
   ]
  },
  {
   "cell_type": "markdown",
   "id": "6b3fad36-ad03-42c6-aa58-86c2fcdbd7ba",
   "metadata": {},
   "source": [
    "명칭 기반 인덱싱"
   ]
  },
  {
   "cell_type": "markdown",
   "id": "bc4b326d-eaa5-4080-a764-7acd1a7606db",
   "metadata": {},
   "source": [
    "- 슬라이싱할 때 종료점을 포함"
   ]
  },
  {
   "cell_type": "code",
   "execution_count": 42,
   "id": "84d00fde-45ad-4872-b76c-c482a0f3ea66",
   "metadata": {},
   "outputs": [
    {
     "data": {
      "text/plain": [
       "'Chulmin'"
      ]
     },
     "execution_count": 42,
     "metadata": {},
     "output_type": "execute_result"
    }
   ],
   "source": [
    "data_df.loc['one', 'Name']"
   ]
  },
  {
   "cell_type": "code",
   "execution_count": 43,
   "id": "1511329f-7da8-463c-9447-972fb645b4cb",
   "metadata": {},
   "outputs": [
    {
     "data": {
      "text/html": [
       "<div>\n",
       "<style scoped>\n",
       "    .dataframe tbody tr th:only-of-type {\n",
       "        vertical-align: middle;\n",
       "    }\n",
       "\n",
       "    .dataframe tbody tr th {\n",
       "        vertical-align: top;\n",
       "    }\n",
       "\n",
       "    .dataframe thead th {\n",
       "        text-align: right;\n",
       "    }\n",
       "</style>\n",
       "<table border=\"1\" class=\"dataframe\">\n",
       "  <thead>\n",
       "    <tr style=\"text-align: right;\">\n",
       "      <th></th>\n",
       "      <th>Name</th>\n",
       "      <th>Gender</th>\n",
       "    </tr>\n",
       "  </thead>\n",
       "  <tbody>\n",
       "    <tr>\n",
       "      <th>one</th>\n",
       "      <td>Chulmin</td>\n",
       "      <td>Male</td>\n",
       "    </tr>\n",
       "    <tr>\n",
       "      <th>two</th>\n",
       "      <td>Eunkyung</td>\n",
       "      <td>Female</td>\n",
       "    </tr>\n",
       "    <tr>\n",
       "      <th>three</th>\n",
       "      <td>Jinwoong</td>\n",
       "      <td>Male</td>\n",
       "    </tr>\n",
       "  </tbody>\n",
       "</table>\n",
       "</div>"
      ],
      "text/plain": [
       "           Name  Gender\n",
       "one     Chulmin    Male\n",
       "two    Eunkyung  Female\n",
       "three  Jinwoong    Male"
      ]
     },
     "execution_count": 43,
     "metadata": {},
     "output_type": "execute_result"
    }
   ],
   "source": [
    "data_df.loc['one' : 'three', ['Name', 'Gender']]"
   ]
  },
  {
   "cell_type": "markdown",
   "id": "887beaea-4637-4bcd-b225-705efda05576",
   "metadata": {},
   "source": [
    "### sort_values()"
   ]
  },
  {
   "cell_type": "code",
   "execution_count": 45,
   "id": "bf07cac6-692d-489f-a051-b5475bb03294",
   "metadata": {},
   "outputs": [
    {
     "data": {
      "text/html": [
       "<div>\n",
       "<style scoped>\n",
       "    .dataframe tbody tr th:only-of-type {\n",
       "        vertical-align: middle;\n",
       "    }\n",
       "\n",
       "    .dataframe tbody tr th {\n",
       "        vertical-align: top;\n",
       "    }\n",
       "\n",
       "    .dataframe thead th {\n",
       "        text-align: right;\n",
       "    }\n",
       "</style>\n",
       "<table border=\"1\" class=\"dataframe\">\n",
       "  <thead>\n",
       "    <tr style=\"text-align: right;\">\n",
       "      <th></th>\n",
       "      <th>PassengerId</th>\n",
       "      <th>Survived</th>\n",
       "      <th>Pclass</th>\n",
       "      <th>Name</th>\n",
       "      <th>Sex</th>\n",
       "      <th>Age</th>\n",
       "      <th>SibSp</th>\n",
       "      <th>Parch</th>\n",
       "      <th>Ticket</th>\n",
       "      <th>Fare</th>\n",
       "      <th>Cabin</th>\n",
       "      <th>Embarked</th>\n",
       "    </tr>\n",
       "  </thead>\n",
       "  <tbody>\n",
       "    <tr>\n",
       "      <th>845</th>\n",
       "      <td>846</td>\n",
       "      <td>0</td>\n",
       "      <td>3</td>\n",
       "      <td>Abbing, Mr. Anthony</td>\n",
       "      <td>male</td>\n",
       "      <td>42.0</td>\n",
       "      <td>0</td>\n",
       "      <td>0</td>\n",
       "      <td>C.A. 5547</td>\n",
       "      <td>7.55</td>\n",
       "      <td>NaN</td>\n",
       "      <td>S</td>\n",
       "    </tr>\n",
       "    <tr>\n",
       "      <th>746</th>\n",
       "      <td>747</td>\n",
       "      <td>0</td>\n",
       "      <td>3</td>\n",
       "      <td>Abbott, Mr. Rossmore Edward</td>\n",
       "      <td>male</td>\n",
       "      <td>16.0</td>\n",
       "      <td>1</td>\n",
       "      <td>1</td>\n",
       "      <td>C.A. 2673</td>\n",
       "      <td>20.25</td>\n",
       "      <td>NaN</td>\n",
       "      <td>S</td>\n",
       "    </tr>\n",
       "    <tr>\n",
       "      <th>279</th>\n",
       "      <td>280</td>\n",
       "      <td>1</td>\n",
       "      <td>3</td>\n",
       "      <td>Abbott, Mrs. Stanton (Rosa Hunt)</td>\n",
       "      <td>female</td>\n",
       "      <td>35.0</td>\n",
       "      <td>1</td>\n",
       "      <td>1</td>\n",
       "      <td>C.A. 2673</td>\n",
       "      <td>20.25</td>\n",
       "      <td>NaN</td>\n",
       "      <td>S</td>\n",
       "    </tr>\n",
       "  </tbody>\n",
       "</table>\n",
       "</div>"
      ],
      "text/plain": [
       "     PassengerId  Survived  Pclass                              Name     Sex  \\\n",
       "845          846         0       3               Abbing, Mr. Anthony    male   \n",
       "746          747         0       3       Abbott, Mr. Rossmore Edward    male   \n",
       "279          280         1       3  Abbott, Mrs. Stanton (Rosa Hunt)  female   \n",
       "\n",
       "      Age  SibSp  Parch     Ticket   Fare Cabin Embarked  \n",
       "845  42.0      0      0  C.A. 5547   7.55   NaN        S  \n",
       "746  16.0      1      1  C.A. 2673  20.25   NaN        S  \n",
       "279  35.0      1      1  C.A. 2673  20.25   NaN        S  "
      ]
     },
     "execution_count": 45,
     "metadata": {},
     "output_type": "execute_result"
    }
   ],
   "source": [
    "titanic_sorted = titanic.sort_values(by = ['Name'])\n",
    "titanic_sorted.head(3)"
   ]
  },
  {
   "cell_type": "code",
   "execution_count": 46,
   "id": "61ec9828-f0f2-4aad-865d-ae5c264f0f6a",
   "metadata": {},
   "outputs": [
    {
     "data": {
      "text/html": [
       "<div>\n",
       "<style scoped>\n",
       "    .dataframe tbody tr th:only-of-type {\n",
       "        vertical-align: middle;\n",
       "    }\n",
       "\n",
       "    .dataframe tbody tr th {\n",
       "        vertical-align: top;\n",
       "    }\n",
       "\n",
       "    .dataframe thead th {\n",
       "        text-align: right;\n",
       "    }\n",
       "</style>\n",
       "<table border=\"1\" class=\"dataframe\">\n",
       "  <thead>\n",
       "    <tr style=\"text-align: right;\">\n",
       "      <th></th>\n",
       "      <th>PassengerId</th>\n",
       "      <th>Survived</th>\n",
       "      <th>Pclass</th>\n",
       "      <th>Name</th>\n",
       "      <th>Sex</th>\n",
       "      <th>Age</th>\n",
       "      <th>SibSp</th>\n",
       "      <th>Parch</th>\n",
       "      <th>Ticket</th>\n",
       "      <th>Fare</th>\n",
       "      <th>Cabin</th>\n",
       "      <th>Embarked</th>\n",
       "    </tr>\n",
       "  </thead>\n",
       "  <tbody>\n",
       "    <tr>\n",
       "      <th>868</th>\n",
       "      <td>869</td>\n",
       "      <td>0</td>\n",
       "      <td>3</td>\n",
       "      <td>van Melkebeke, Mr. Philemon</td>\n",
       "      <td>male</td>\n",
       "      <td>NaN</td>\n",
       "      <td>0</td>\n",
       "      <td>0</td>\n",
       "      <td>345777</td>\n",
       "      <td>9.5000</td>\n",
       "      <td>NaN</td>\n",
       "      <td>S</td>\n",
       "    </tr>\n",
       "    <tr>\n",
       "      <th>153</th>\n",
       "      <td>154</td>\n",
       "      <td>0</td>\n",
       "      <td>3</td>\n",
       "      <td>van Billiard, Mr. Austin Blyler</td>\n",
       "      <td>male</td>\n",
       "      <td>40.5</td>\n",
       "      <td>0</td>\n",
       "      <td>2</td>\n",
       "      <td>A/5. 851</td>\n",
       "      <td>14.5000</td>\n",
       "      <td>NaN</td>\n",
       "      <td>S</td>\n",
       "    </tr>\n",
       "    <tr>\n",
       "      <th>361</th>\n",
       "      <td>362</td>\n",
       "      <td>0</td>\n",
       "      <td>2</td>\n",
       "      <td>del Carlo, Mr. Sebastiano</td>\n",
       "      <td>male</td>\n",
       "      <td>29.0</td>\n",
       "      <td>1</td>\n",
       "      <td>0</td>\n",
       "      <td>SC/PARIS 2167</td>\n",
       "      <td>27.7208</td>\n",
       "      <td>NaN</td>\n",
       "      <td>C</td>\n",
       "    </tr>\n",
       "    <tr>\n",
       "      <th>282</th>\n",
       "      <td>283</td>\n",
       "      <td>0</td>\n",
       "      <td>3</td>\n",
       "      <td>de Pelsmaeker, Mr. Alfons</td>\n",
       "      <td>male</td>\n",
       "      <td>16.0</td>\n",
       "      <td>0</td>\n",
       "      <td>0</td>\n",
       "      <td>345778</td>\n",
       "      <td>9.5000</td>\n",
       "      <td>NaN</td>\n",
       "      <td>S</td>\n",
       "    </tr>\n",
       "    <tr>\n",
       "      <th>286</th>\n",
       "      <td>287</td>\n",
       "      <td>1</td>\n",
       "      <td>3</td>\n",
       "      <td>de Mulder, Mr. Theodore</td>\n",
       "      <td>male</td>\n",
       "      <td>30.0</td>\n",
       "      <td>0</td>\n",
       "      <td>0</td>\n",
       "      <td>345774</td>\n",
       "      <td>9.5000</td>\n",
       "      <td>NaN</td>\n",
       "      <td>S</td>\n",
       "    </tr>\n",
       "    <tr>\n",
       "      <th>...</th>\n",
       "      <td>...</td>\n",
       "      <td>...</td>\n",
       "      <td>...</td>\n",
       "      <td>...</td>\n",
       "      <td>...</td>\n",
       "      <td>...</td>\n",
       "      <td>...</td>\n",
       "      <td>...</td>\n",
       "      <td>...</td>\n",
       "      <td>...</td>\n",
       "      <td>...</td>\n",
       "      <td>...</td>\n",
       "    </tr>\n",
       "    <tr>\n",
       "      <th>874</th>\n",
       "      <td>875</td>\n",
       "      <td>1</td>\n",
       "      <td>2</td>\n",
       "      <td>Abelson, Mrs. Samuel (Hannah Wizosky)</td>\n",
       "      <td>female</td>\n",
       "      <td>28.0</td>\n",
       "      <td>1</td>\n",
       "      <td>0</td>\n",
       "      <td>P/PP 3381</td>\n",
       "      <td>24.0000</td>\n",
       "      <td>NaN</td>\n",
       "      <td>C</td>\n",
       "    </tr>\n",
       "    <tr>\n",
       "      <th>308</th>\n",
       "      <td>309</td>\n",
       "      <td>0</td>\n",
       "      <td>2</td>\n",
       "      <td>Abelson, Mr. Samuel</td>\n",
       "      <td>male</td>\n",
       "      <td>30.0</td>\n",
       "      <td>1</td>\n",
       "      <td>0</td>\n",
       "      <td>P/PP 3381</td>\n",
       "      <td>24.0000</td>\n",
       "      <td>NaN</td>\n",
       "      <td>C</td>\n",
       "    </tr>\n",
       "    <tr>\n",
       "      <th>279</th>\n",
       "      <td>280</td>\n",
       "      <td>1</td>\n",
       "      <td>3</td>\n",
       "      <td>Abbott, Mrs. Stanton (Rosa Hunt)</td>\n",
       "      <td>female</td>\n",
       "      <td>35.0</td>\n",
       "      <td>1</td>\n",
       "      <td>1</td>\n",
       "      <td>C.A. 2673</td>\n",
       "      <td>20.2500</td>\n",
       "      <td>NaN</td>\n",
       "      <td>S</td>\n",
       "    </tr>\n",
       "    <tr>\n",
       "      <th>746</th>\n",
       "      <td>747</td>\n",
       "      <td>0</td>\n",
       "      <td>3</td>\n",
       "      <td>Abbott, Mr. Rossmore Edward</td>\n",
       "      <td>male</td>\n",
       "      <td>16.0</td>\n",
       "      <td>1</td>\n",
       "      <td>1</td>\n",
       "      <td>C.A. 2673</td>\n",
       "      <td>20.2500</td>\n",
       "      <td>NaN</td>\n",
       "      <td>S</td>\n",
       "    </tr>\n",
       "    <tr>\n",
       "      <th>845</th>\n",
       "      <td>846</td>\n",
       "      <td>0</td>\n",
       "      <td>3</td>\n",
       "      <td>Abbing, Mr. Anthony</td>\n",
       "      <td>male</td>\n",
       "      <td>42.0</td>\n",
       "      <td>0</td>\n",
       "      <td>0</td>\n",
       "      <td>C.A. 5547</td>\n",
       "      <td>7.5500</td>\n",
       "      <td>NaN</td>\n",
       "      <td>S</td>\n",
       "    </tr>\n",
       "  </tbody>\n",
       "</table>\n",
       "<p>891 rows × 12 columns</p>\n",
       "</div>"
      ],
      "text/plain": [
       "     PassengerId  Survived  Pclass                                   Name  \\\n",
       "868          869         0       3            van Melkebeke, Mr. Philemon   \n",
       "153          154         0       3        van Billiard, Mr. Austin Blyler   \n",
       "361          362         0       2              del Carlo, Mr. Sebastiano   \n",
       "282          283         0       3              de Pelsmaeker, Mr. Alfons   \n",
       "286          287         1       3                de Mulder, Mr. Theodore   \n",
       "..           ...       ...     ...                                    ...   \n",
       "874          875         1       2  Abelson, Mrs. Samuel (Hannah Wizosky)   \n",
       "308          309         0       2                    Abelson, Mr. Samuel   \n",
       "279          280         1       3       Abbott, Mrs. Stanton (Rosa Hunt)   \n",
       "746          747         0       3            Abbott, Mr. Rossmore Edward   \n",
       "845          846         0       3                    Abbing, Mr. Anthony   \n",
       "\n",
       "        Sex   Age  SibSp  Parch         Ticket     Fare Cabin Embarked  \n",
       "868    male   NaN      0      0         345777   9.5000   NaN        S  \n",
       "153    male  40.5      0      2       A/5. 851  14.5000   NaN        S  \n",
       "361    male  29.0      1      0  SC/PARIS 2167  27.7208   NaN        C  \n",
       "282    male  16.0      0      0         345778   9.5000   NaN        S  \n",
       "286    male  30.0      0      0         345774   9.5000   NaN        S  \n",
       "..      ...   ...    ...    ...            ...      ...   ...      ...  \n",
       "874  female  28.0      1      0      P/PP 3381  24.0000   NaN        C  \n",
       "308    male  30.0      1      0      P/PP 3381  24.0000   NaN        C  \n",
       "279  female  35.0      1      1      C.A. 2673  20.2500   NaN        S  \n",
       "746    male  16.0      1      1      C.A. 2673  20.2500   NaN        S  \n",
       "845    male  42.0      0      0      C.A. 5547   7.5500   NaN        S  \n",
       "\n",
       "[891 rows x 12 columns]"
      ]
     },
     "execution_count": 46,
     "metadata": {},
     "output_type": "execute_result"
    }
   ],
   "source": [
    "titanic.sort_values(by = ['Name'], ascending = False, inplace = False)"
   ]
  },
  {
   "cell_type": "markdown",
   "id": "0a9175d4-ec69-4c4c-8af9-7376021a812e",
   "metadata": {},
   "source": [
    "### Aggregation 함수"
   ]
  },
  {
   "cell_type": "markdown",
   "id": "d8ccffc3-b134-4ddb-9897-ef736b988a15",
   "metadata": {},
   "source": [
    "DataFrame에서 바로 aggregation을 호출할 경우 모든 컬럼에 해당 aggregation을 적용함<br>\n",
    "특정 컬럼에만 적용하기 위해서는 DataFrame에 대상 컬럼들만 추출해서 적용시키면 됨"
   ]
  },
  {
   "cell_type": "code",
   "execution_count": 47,
   "id": "866d18d8-786f-4272-8c7b-0eb7b3d4beea",
   "metadata": {},
   "outputs": [
    {
     "data": {
      "text/plain": [
       "Age     29.699118\n",
       "Fare    32.204208\n",
       "dtype: float64"
      ]
     },
     "execution_count": 47,
     "metadata": {},
     "output_type": "execute_result"
    }
   ],
   "source": [
    "titanic[['Age', 'Fare']].mean()"
   ]
  },
  {
   "cell_type": "markdown",
   "id": "ffd94c78-c54b-44f7-ad00-df07256fa86f",
   "metadata": {},
   "source": [
    "### groupby()"
   ]
  },
  {
   "cell_type": "code",
   "execution_count": 48,
   "id": "78c43139-c2dd-4a7c-aae2-b5feb314ef4e",
   "metadata": {},
   "outputs": [
    {
     "data": {
      "text/html": [
       "<div>\n",
       "<style scoped>\n",
       "    .dataframe tbody tr th:only-of-type {\n",
       "        vertical-align: middle;\n",
       "    }\n",
       "\n",
       "    .dataframe tbody tr th {\n",
       "        vertical-align: top;\n",
       "    }\n",
       "\n",
       "    .dataframe thead th {\n",
       "        text-align: right;\n",
       "    }\n",
       "</style>\n",
       "<table border=\"1\" class=\"dataframe\">\n",
       "  <thead>\n",
       "    <tr style=\"text-align: right;\">\n",
       "      <th></th>\n",
       "      <th>PassengerId</th>\n",
       "      <th>Survived</th>\n",
       "      <th>Name</th>\n",
       "      <th>Sex</th>\n",
       "      <th>Age</th>\n",
       "      <th>SibSp</th>\n",
       "      <th>Parch</th>\n",
       "      <th>Ticket</th>\n",
       "      <th>Fare</th>\n",
       "      <th>Cabin</th>\n",
       "      <th>Embarked</th>\n",
       "    </tr>\n",
       "    <tr>\n",
       "      <th>Pclass</th>\n",
       "      <th></th>\n",
       "      <th></th>\n",
       "      <th></th>\n",
       "      <th></th>\n",
       "      <th></th>\n",
       "      <th></th>\n",
       "      <th></th>\n",
       "      <th></th>\n",
       "      <th></th>\n",
       "      <th></th>\n",
       "      <th></th>\n",
       "    </tr>\n",
       "  </thead>\n",
       "  <tbody>\n",
       "    <tr>\n",
       "      <th>1</th>\n",
       "      <td>216</td>\n",
       "      <td>216</td>\n",
       "      <td>216</td>\n",
       "      <td>216</td>\n",
       "      <td>186</td>\n",
       "      <td>216</td>\n",
       "      <td>216</td>\n",
       "      <td>216</td>\n",
       "      <td>216</td>\n",
       "      <td>176</td>\n",
       "      <td>214</td>\n",
       "    </tr>\n",
       "    <tr>\n",
       "      <th>2</th>\n",
       "      <td>184</td>\n",
       "      <td>184</td>\n",
       "      <td>184</td>\n",
       "      <td>184</td>\n",
       "      <td>173</td>\n",
       "      <td>184</td>\n",
       "      <td>184</td>\n",
       "      <td>184</td>\n",
       "      <td>184</td>\n",
       "      <td>16</td>\n",
       "      <td>184</td>\n",
       "    </tr>\n",
       "    <tr>\n",
       "      <th>3</th>\n",
       "      <td>491</td>\n",
       "      <td>491</td>\n",
       "      <td>491</td>\n",
       "      <td>491</td>\n",
       "      <td>355</td>\n",
       "      <td>491</td>\n",
       "      <td>491</td>\n",
       "      <td>491</td>\n",
       "      <td>491</td>\n",
       "      <td>12</td>\n",
       "      <td>491</td>\n",
       "    </tr>\n",
       "  </tbody>\n",
       "</table>\n",
       "</div>"
      ],
      "text/plain": [
       "        PassengerId  Survived  Name  Sex  Age  SibSp  Parch  Ticket  Fare  \\\n",
       "Pclass                                                                      \n",
       "1               216       216   216  216  186    216    216     216   216   \n",
       "2               184       184   184  184  173    184    184     184   184   \n",
       "3               491       491   491  491  355    491    491     491   491   \n",
       "\n",
       "        Cabin  Embarked  \n",
       "Pclass                   \n",
       "1         176       214  \n",
       "2          16       184  \n",
       "3          12       491  "
      ]
     },
     "execution_count": 48,
     "metadata": {},
     "output_type": "execute_result"
    }
   ],
   "source": [
    "titanic.groupby('Pclass').count()"
   ]
  },
  {
   "cell_type": "code",
   "execution_count": 49,
   "id": "4e3b28be-3631-498d-b4dc-97fb926ebe53",
   "metadata": {},
   "outputs": [
    {
     "data": {
      "text/html": [
       "<div>\n",
       "<style scoped>\n",
       "    .dataframe tbody tr th:only-of-type {\n",
       "        vertical-align: middle;\n",
       "    }\n",
       "\n",
       "    .dataframe tbody tr th {\n",
       "        vertical-align: top;\n",
       "    }\n",
       "\n",
       "    .dataframe thead th {\n",
       "        text-align: right;\n",
       "    }\n",
       "</style>\n",
       "<table border=\"1\" class=\"dataframe\">\n",
       "  <thead>\n",
       "    <tr style=\"text-align: right;\">\n",
       "      <th></th>\n",
       "      <th>PassengerId</th>\n",
       "      <th>Survived</th>\n",
       "    </tr>\n",
       "    <tr>\n",
       "      <th>Pclass</th>\n",
       "      <th></th>\n",
       "      <th></th>\n",
       "    </tr>\n",
       "  </thead>\n",
       "  <tbody>\n",
       "    <tr>\n",
       "      <th>1</th>\n",
       "      <td>216</td>\n",
       "      <td>216</td>\n",
       "    </tr>\n",
       "    <tr>\n",
       "      <th>2</th>\n",
       "      <td>184</td>\n",
       "      <td>184</td>\n",
       "    </tr>\n",
       "    <tr>\n",
       "      <th>3</th>\n",
       "      <td>491</td>\n",
       "      <td>491</td>\n",
       "    </tr>\n",
       "  </tbody>\n",
       "</table>\n",
       "</div>"
      ],
      "text/plain": [
       "        PassengerId  Survived\n",
       "Pclass                       \n",
       "1               216       216\n",
       "2               184       184\n",
       "3               491       491"
      ]
     },
     "execution_count": 49,
     "metadata": {},
     "output_type": "execute_result"
    }
   ],
   "source": [
    "titanic.groupby('Pclass')[['PassengerId', 'Survived']].count()"
   ]
  },
  {
   "cell_type": "code",
   "execution_count": 50,
   "id": "caae40ae-7f76-415c-b59d-54770d3bb0c1",
   "metadata": {},
   "outputs": [
    {
     "data": {
      "text/html": [
       "<div>\n",
       "<style scoped>\n",
       "    .dataframe tbody tr th:only-of-type {\n",
       "        vertical-align: middle;\n",
       "    }\n",
       "\n",
       "    .dataframe tbody tr th {\n",
       "        vertical-align: top;\n",
       "    }\n",
       "\n",
       "    .dataframe thead th {\n",
       "        text-align: right;\n",
       "    }\n",
       "</style>\n",
       "<table border=\"1\" class=\"dataframe\">\n",
       "  <thead>\n",
       "    <tr style=\"text-align: right;\">\n",
       "      <th></th>\n",
       "      <th>max</th>\n",
       "      <th>min</th>\n",
       "    </tr>\n",
       "    <tr>\n",
       "      <th>Pclass</th>\n",
       "      <th></th>\n",
       "      <th></th>\n",
       "    </tr>\n",
       "  </thead>\n",
       "  <tbody>\n",
       "    <tr>\n",
       "      <th>1</th>\n",
       "      <td>80.0</td>\n",
       "      <td>0.92</td>\n",
       "    </tr>\n",
       "    <tr>\n",
       "      <th>2</th>\n",
       "      <td>70.0</td>\n",
       "      <td>0.67</td>\n",
       "    </tr>\n",
       "    <tr>\n",
       "      <th>3</th>\n",
       "      <td>74.0</td>\n",
       "      <td>0.42</td>\n",
       "    </tr>\n",
       "  </tbody>\n",
       "</table>\n",
       "</div>"
      ],
      "text/plain": [
       "         max   min\n",
       "Pclass            \n",
       "1       80.0  0.92\n",
       "2       70.0  0.67\n",
       "3       74.0  0.42"
      ]
     },
     "execution_count": 50,
     "metadata": {},
     "output_type": "execute_result"
    }
   ],
   "source": [
    "titanic.groupby('Pclass')['Age'].agg([max, min])"
   ]
  },
  {
   "cell_type": "code",
   "execution_count": 52,
   "id": "c7d326c5-07ec-452f-9b57-1cada4505084",
   "metadata": {},
   "outputs": [
    {
     "data": {
      "text/html": [
       "<div>\n",
       "<style scoped>\n",
       "    .dataframe tbody tr th:only-of-type {\n",
       "        vertical-align: middle;\n",
       "    }\n",
       "\n",
       "    .dataframe tbody tr th {\n",
       "        vertical-align: top;\n",
       "    }\n",
       "\n",
       "    .dataframe thead th {\n",
       "        text-align: right;\n",
       "    }\n",
       "</style>\n",
       "<table border=\"1\" class=\"dataframe\">\n",
       "  <thead>\n",
       "    <tr style=\"text-align: right;\">\n",
       "      <th></th>\n",
       "      <th>Age</th>\n",
       "      <th>SibSp</th>\n",
       "      <th>Fare</th>\n",
       "    </tr>\n",
       "    <tr>\n",
       "      <th>Pclass</th>\n",
       "      <th></th>\n",
       "      <th></th>\n",
       "      <th></th>\n",
       "    </tr>\n",
       "  </thead>\n",
       "  <tbody>\n",
       "    <tr>\n",
       "      <th>1</th>\n",
       "      <td>80.0</td>\n",
       "      <td>90</td>\n",
       "      <td>84.154687</td>\n",
       "    </tr>\n",
       "    <tr>\n",
       "      <th>2</th>\n",
       "      <td>70.0</td>\n",
       "      <td>74</td>\n",
       "      <td>20.662183</td>\n",
       "    </tr>\n",
       "    <tr>\n",
       "      <th>3</th>\n",
       "      <td>74.0</td>\n",
       "      <td>302</td>\n",
       "      <td>13.675550</td>\n",
       "    </tr>\n",
       "  </tbody>\n",
       "</table>\n",
       "</div>"
      ],
      "text/plain": [
       "         Age  SibSp       Fare\n",
       "Pclass                        \n",
       "1       80.0     90  84.154687\n",
       "2       70.0     74  20.662183\n",
       "3       74.0    302  13.675550"
      ]
     },
     "execution_count": 52,
     "metadata": {},
     "output_type": "execute_result"
    }
   ],
   "source": [
    "titanic.groupby('Pclass').agg({'Age' : 'max', 'SibSp' : 'sum', 'Fare' : 'mean'})"
   ]
  },
  {
   "cell_type": "markdown",
   "id": "f737a49a-b5e0-4547-bf1f-e4619d84cc73",
   "metadata": {},
   "source": [
    "### 결손 데이터 처리하기"
   ]
  },
  {
   "cell_type": "code",
   "execution_count": 53,
   "id": "f7dc41a7-3f87-4cba-923b-cb5cfbcfcb50",
   "metadata": {},
   "outputs": [
    {
     "data": {
      "text/plain": [
       "PassengerId      0\n",
       "Survived         0\n",
       "Pclass           0\n",
       "Name             0\n",
       "Sex              0\n",
       "Age            177\n",
       "SibSp            0\n",
       "Parch            0\n",
       "Ticket           0\n",
       "Fare             0\n",
       "Cabin          687\n",
       "Embarked         2\n",
       "dtype: int64"
      ]
     },
     "execution_count": 53,
     "metadata": {},
     "output_type": "execute_result"
    }
   ],
   "source": [
    "titanic.isna().sum()"
   ]
  },
  {
   "cell_type": "code",
   "execution_count": 54,
   "id": "44eac337-9c03-481c-b6ec-3c5217a0e962",
   "metadata": {},
   "outputs": [],
   "source": [
    "titanic['Cabin'].fillna('C000', inplace = True)"
   ]
  },
  {
   "cell_type": "code",
   "execution_count": 55,
   "id": "a3a44ef9-5389-46f2-98cc-ef358a8556e9",
   "metadata": {},
   "outputs": [
    {
     "data": {
      "text/plain": [
       "PassengerId      0\n",
       "Survived         0\n",
       "Pclass           0\n",
       "Name             0\n",
       "Sex              0\n",
       "Age            177\n",
       "SibSp            0\n",
       "Parch            0\n",
       "Ticket           0\n",
       "Fare             0\n",
       "Cabin            0\n",
       "Embarked         2\n",
       "dtype: int64"
      ]
     },
     "execution_count": 55,
     "metadata": {},
     "output_type": "execute_result"
    }
   ],
   "source": [
    "titanic.isna().sum()"
   ]
  },
  {
   "cell_type": "markdown",
   "id": "c2ef8841-4ee4-4ed7-966b-98add649f485",
   "metadata": {},
   "source": [
    "### lambda"
   ]
  },
  {
   "cell_type": "code",
   "execution_count": 1,
   "id": "9707c155-2fa5-4aa6-9bfa-2ed4915b6386",
   "metadata": {},
   "outputs": [
    {
     "data": {
      "text/plain": [
       "[1, 4, 9]"
      ]
     },
     "execution_count": 1,
     "metadata": {},
     "output_type": "execute_result"
    }
   ],
   "source": [
    "a =[1, 2, 3]\n",
    "b = map(lambda x : x**2, a)\n",
    "list(b)"
   ]
  },
  {
   "cell_type": "code",
   "execution_count": 71,
   "id": "6e7eefc4-fdc2-41b2-87e4-f820479bde8e",
   "metadata": {},
   "outputs": [
    {
     "data": {
      "text/html": [
       "<div>\n",
       "<style scoped>\n",
       "    .dataframe tbody tr th:only-of-type {\n",
       "        vertical-align: middle;\n",
       "    }\n",
       "\n",
       "    .dataframe tbody tr th {\n",
       "        vertical-align: top;\n",
       "    }\n",
       "\n",
       "    .dataframe thead th {\n",
       "        text-align: right;\n",
       "    }\n",
       "</style>\n",
       "<table border=\"1\" class=\"dataframe\">\n",
       "  <thead>\n",
       "    <tr style=\"text-align: right;\">\n",
       "      <th></th>\n",
       "      <th>Name</th>\n",
       "      <th>Name_len</th>\n",
       "    </tr>\n",
       "  </thead>\n",
       "  <tbody>\n",
       "    <tr>\n",
       "      <th>0</th>\n",
       "      <td>Braund, Mr. Owen Harris</td>\n",
       "      <td>23</td>\n",
       "    </tr>\n",
       "    <tr>\n",
       "      <th>1</th>\n",
       "      <td>Cumings, Mrs. John Bradley (Florence Briggs Th...</td>\n",
       "      <td>51</td>\n",
       "    </tr>\n",
       "    <tr>\n",
       "      <th>2</th>\n",
       "      <td>Heikkinen, Miss. Laina</td>\n",
       "      <td>22</td>\n",
       "    </tr>\n",
       "  </tbody>\n",
       "</table>\n",
       "</div>"
      ],
      "text/plain": [
       "                                                Name  Name_len\n",
       "0                            Braund, Mr. Owen Harris        23\n",
       "1  Cumings, Mrs. John Bradley (Florence Briggs Th...        51\n",
       "2                             Heikkinen, Miss. Laina        22"
      ]
     },
     "execution_count": 71,
     "metadata": {},
     "output_type": "execute_result"
    }
   ],
   "source": [
    "titanic['Name_len'] = titanic['Name'].apply(lambda x : len(x))\n",
    "titanic[['Name', 'Name_len']].head(3)"
   ]
  },
  {
   "cell_type": "code",
   "execution_count": 4,
   "id": "d36bc3ee-a8a1-4d90-b38c-0b7911c1f9f5",
   "metadata": {},
   "outputs": [
    {
     "data": {
      "text/html": [
       "<div>\n",
       "<style scoped>\n",
       "    .dataframe tbody tr th:only-of-type {\n",
       "        vertical-align: middle;\n",
       "    }\n",
       "\n",
       "    .dataframe tbody tr th {\n",
       "        vertical-align: top;\n",
       "    }\n",
       "\n",
       "    .dataframe thead th {\n",
       "        text-align: right;\n",
       "    }\n",
       "</style>\n",
       "<table border=\"1\" class=\"dataframe\">\n",
       "  <thead>\n",
       "    <tr style=\"text-align: right;\">\n",
       "      <th></th>\n",
       "      <th>Age</th>\n",
       "      <th>Child_Adult</th>\n",
       "    </tr>\n",
       "  </thead>\n",
       "  <tbody>\n",
       "    <tr>\n",
       "      <th>0</th>\n",
       "      <td>22.0</td>\n",
       "      <td>Adult</td>\n",
       "    </tr>\n",
       "    <tr>\n",
       "      <th>1</th>\n",
       "      <td>38.0</td>\n",
       "      <td>Adult</td>\n",
       "    </tr>\n",
       "    <tr>\n",
       "      <th>2</th>\n",
       "      <td>26.0</td>\n",
       "      <td>Adult</td>\n",
       "    </tr>\n",
       "    <tr>\n",
       "      <th>3</th>\n",
       "      <td>35.0</td>\n",
       "      <td>Adult</td>\n",
       "    </tr>\n",
       "    <tr>\n",
       "      <th>4</th>\n",
       "      <td>35.0</td>\n",
       "      <td>Adult</td>\n",
       "    </tr>\n",
       "    <tr>\n",
       "      <th>5</th>\n",
       "      <td>NaN</td>\n",
       "      <td>Adult</td>\n",
       "    </tr>\n",
       "    <tr>\n",
       "      <th>6</th>\n",
       "      <td>54.0</td>\n",
       "      <td>Adult</td>\n",
       "    </tr>\n",
       "    <tr>\n",
       "      <th>7</th>\n",
       "      <td>2.0</td>\n",
       "      <td>Child</td>\n",
       "    </tr>\n",
       "    <tr>\n",
       "      <th>8</th>\n",
       "      <td>27.0</td>\n",
       "      <td>Adult</td>\n",
       "    </tr>\n",
       "    <tr>\n",
       "      <th>9</th>\n",
       "      <td>14.0</td>\n",
       "      <td>Child</td>\n",
       "    </tr>\n",
       "  </tbody>\n",
       "</table>\n",
       "</div>"
      ],
      "text/plain": [
       "    Age Child_Adult\n",
       "0  22.0       Adult\n",
       "1  38.0       Adult\n",
       "2  26.0       Adult\n",
       "3  35.0       Adult\n",
       "4  35.0       Adult\n",
       "5   NaN       Adult\n",
       "6  54.0       Adult\n",
       "7   2.0       Child\n",
       "8  27.0       Adult\n",
       "9  14.0       Child"
      ]
     },
     "execution_count": 4,
     "metadata": {},
     "output_type": "execute_result"
    }
   ],
   "source": [
    "titanic['Child_Adult'] = titanic['Age'].apply(lambda x : 'Child' if x <= 15 else 'Adult')\n",
    "titanic[['Age', 'Child_Adult']].head(10)"
   ]
  },
  {
   "cell_type": "markdown",
   "id": "5b5b4f7c-8dab-4ac1-b241-9bf05b6532a2",
   "metadata": {},
   "source": [
    "-----------------"
   ]
  }
 ],
 "metadata": {
  "kernelspec": {
   "display_name": "Python 3 (ipykernel)",
   "language": "python",
   "name": "python3"
  },
  "language_info": {
   "codemirror_mode": {
    "name": "ipython",
    "version": 3
   },
   "file_extension": ".py",
   "mimetype": "text/x-python",
   "name": "python",
   "nbconvert_exporter": "python",
   "pygments_lexer": "ipython3",
   "version": "3.9.12"
  },
  "toc-autonumbering": true
 },
 "nbformat": 4,
 "nbformat_minor": 5
}

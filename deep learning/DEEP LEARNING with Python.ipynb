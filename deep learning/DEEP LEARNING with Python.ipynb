{
 "cells": [
  {
   "cell_type": "markdown",
   "id": "d5dc490a-c930-44f8-95d0-f2e8cd90ca0c",
   "metadata": {},
   "source": [
    "# 1장 딥러닝이란?"
   ]
  },
  {
   "cell_type": "markdown",
   "id": "e9178838-c133-437d-9fd1-21ed284c2fa7",
   "metadata": {},
   "source": [
    "## 1-1. 인공 지능과 머신 러닝, 딥러닝\n",
    "### 1-1-1. 인공 지능\n",
    ": 보통의 사람이 수행하는 지능적인 작업을 자동화하는 것\n",
    "### 1-1-2. 머신 러닝\n",
    "데이터에서 통계적 구조를 찾아 그 작업을 자동화하기 위한 규칙을 만들어 내서 훈련시키는 것\n",
    "### 1-1-3. 데이터에서 표현을 학습하기\n",
    "**데이터 처리 작업을 위한 실행 규칙을 찾는 것**\n",
    "\n",
    "> 머신 러닝을 하기 위한 세 가지 조건\n",
    "- 입력 데이터 포인트 : 입력되는 데이터의 종류(ex. 사진, 이미지, 음성 등)\n",
    "- 기대 출력 : 입력된 데이터를 토대로 예상되는 결과\n",
    "- 알고리즘의 성능을 측정하는 방법\n",
    "\n",
    "> 머신 러닝과 딥러닝의 핵심 문제\n",
    "\n",
    "의미 있게 데이터를 변환하는 것  \n",
    "즉, **기대 출력에 가까워지도록 입력 데이터의 유용한 표현(representation)을 학습**하는 것\n",
    "\n",
    "> 머신 러닝에서의 '학습'의 의미\n",
    "\n",
    "유용한 데이터 표현을 만드는 데이터 변환을 피드백 신호를 바탕으로 자동으로 탐색하는 과정 -> 문제를 더 간단한 규칙으로 해결\n",
    "\n",
    "> 요약\n",
    "\n",
    "머신 러닝은 가능성 있는 공간(가설 공간)을 사전에 정의하고 피드백 신호의 도움을 받아 **입력 데이터에 대한 유용한 변환과 규칙을 찾는 것**이다.\n",
    "\n",
    "### 1-1-4. 딥러닝\n",
    "다른 표현 : **층 기반 표현 학습** 또는 **계층적 표현 학습**\n",
    "\n",
    "**심층 신경망** : 정보가 연속된 필터를 통과하면서 순도 높게(어떤 작업에 대해 유용하게) 정제되는 **다단계 정보 추출 과정**  \n",
    "\n",
    "> 요약\n",
    "\n",
    "데이터 표현을 학습하기 위한 다단계 처리 방식(연속된 층 즉, 신경망을 이용)\n",
    "\n",
    "### 1-1-5. 딥러닝의 작동 원리 이해하기\n",
    "입력 데이터를 처리하는 방식 : **가중치(파라미터, param)**\n",
    "\n",
    "**학습** :  주어진 입력을 정확한 타깃에 매핑하기 위해 신경망의 모든 층에 있는 가중치 값을 찾는 것\n",
    "\n",
    "> 기본적인 딥러닝 방식\n",
    "\n",
    "손실 함수를 피드백 신호로 사용하여 현재 샘플의 **손실 점수가 감소되는 방향으로 가중치 값을 조슴씩 수정하는 것** => **옵티마이저**"
   ]
  },
  {
   "cell_type": "markdown",
   "id": "a1761546-2532-4130-976e-2a45cbd783cd",
   "metadata": {},
   "source": [
    "# 2장 신경망의 수학적 구성 요소"
   ]
  },
  {
   "cell_type": "markdown",
   "id": "d16644b9-0ee9-4537-baae-9376005b2a34",
   "metadata": {},
   "source": [
    "## 2-1. 신경망과의 첫 만남"
   ]
  },
  {
   "cell_type": "code",
   "execution_count": 98,
   "id": "4eec266e-89b8-468b-8beb-8cb70560130a",
   "metadata": {},
   "outputs": [],
   "source": [
    "from tensorflow.keras.datasets import mnist"
   ]
  },
  {
   "cell_type": "code",
   "execution_count": 99,
   "id": "31fced4f-bcbd-48dd-ac46-93a441585889",
   "metadata": {},
   "outputs": [],
   "source": [
    "# 데이터 적재하기\n",
    "(train_images, train_labels), (test_images, test_labels) = mnist.load_data()"
   ]
  },
  {
   "cell_type": "code",
   "execution_count": 100,
   "id": "0354bed6-61c1-49d5-bd5f-8ed9b489d120",
   "metadata": {},
   "outputs": [
    {
     "data": {
      "text/plain": [
       "(60000, 28, 28)"
      ]
     },
     "execution_count": 100,
     "metadata": {},
     "output_type": "execute_result"
    }
   ],
   "source": [
    "train_images.shape"
   ]
  },
  {
   "cell_type": "code",
   "execution_count": 101,
   "id": "2266b22e-4b17-4d91-ad7a-4d5e3a677086",
   "metadata": {},
   "outputs": [
    {
     "data": {
      "text/plain": [
       "60000"
      ]
     },
     "execution_count": 101,
     "metadata": {},
     "output_type": "execute_result"
    }
   ],
   "source": [
    "len(train_labels)"
   ]
  },
  {
   "cell_type": "code",
   "execution_count": 102,
   "id": "3e6d7904-28a6-487c-a142-ad640c3bc41b",
   "metadata": {},
   "outputs": [
    {
     "data": {
      "text/plain": [
       "(10000, 28, 28)"
      ]
     },
     "execution_count": 102,
     "metadata": {},
     "output_type": "execute_result"
    }
   ],
   "source": [
    "test_images.shape"
   ]
  },
  {
   "cell_type": "code",
   "execution_count": 103,
   "id": "16ea929d-0f1d-4654-83fd-0e4f59c21aea",
   "metadata": {},
   "outputs": [
    {
     "data": {
      "text/plain": [
       "10000"
      ]
     },
     "execution_count": 103,
     "metadata": {},
     "output_type": "execute_result"
    }
   ],
   "source": [
    "len(test_labels)"
   ]
  },
  {
   "cell_type": "markdown",
   "id": "a5eb856f-e7de-46c7-ad56-fde187d8e321",
   "metadata": {},
   "source": [
    "이미지와 레이블은 **일대일** 관계임을 알 수 있다."
   ]
  },
  {
   "cell_type": "code",
   "execution_count": 104,
   "id": "a35161f5-c915-4466-acd6-176e7b156a22",
   "metadata": {},
   "outputs": [
    {
     "data": {
      "text/plain": [
       "\"\\n라인 크기를 설정하는 옵션 코드\\nnp.set_printoptions(livewidth= 28*28)\\n\\n숫자가 작을수록 어두움\\nprint(train_imags[0])\\n\\n이미지를 보여주는 코드\\nplt.imshow(train_images[0], cmap='gray')\\n\""
      ]
     },
     "execution_count": 104,
     "metadata": {},
     "output_type": "execute_result"
    }
   ],
   "source": [
    "'''\n",
    "라인 크기를 설정하는 옵션 코드\n",
    "np.set_printoptions(livewidth= 28*28)\n",
    "\n",
    "숫자가 작을수록 어두움\n",
    "print(train_imags[0])\n",
    "\n",
    "이미지를 보여주는 코드\n",
    "plt.imshow(train_images[0], cmap='gray')\n",
    "'''"
   ]
  },
  {
   "cell_type": "markdown",
   "id": "f2dbf334-0562-460f-8299-debf0a8ef1c8",
   "metadata": {},
   "source": [
    "Sparse Matrixs : 희소 행렬  \n",
    "Dense Matrixs : 밀집 행렬"
   ]
  },
  {
   "cell_type": "code",
   "execution_count": 105,
   "id": "c11734fd-545b-4773-b0b2-fa84cc1760a7",
   "metadata": {},
   "outputs": [],
   "source": [
    "# 신경망 만들기\n",
    "from tensorflow import keras\n",
    "from tensorflow.keras import layers\n",
    "\n",
    "model = keras.Sequential([\n",
    "    layers.Dense(512, activation='relu'),\n",
    "    layers.Dense(10, activation='softmax')\n",
    "])"
   ]
  },
  {
   "cell_type": "code",
   "execution_count": 106,
   "id": "37f433ba-a26c-4145-8aa1-31b601912bf8",
   "metadata": {},
   "outputs": [
    {
     "data": {
      "text/plain": [
       "\"\\n다른 코드\\n\\nmodel = Sequential()\\nmodel.add(Dense(512, activation='relu'))\\nmodel.add(Dense(10, activation='softmax'))\\n\""
      ]
     },
     "execution_count": 106,
     "metadata": {},
     "output_type": "execute_result"
    }
   ],
   "source": [
    "'''\n",
    "다른 코드\n",
    "\n",
    "model = Sequential()\n",
    "model.add(Dense(512, activation='relu'))\n",
    "model.add(Dense(10, activation='softmax'))\n",
    "'''"
   ]
  },
  {
   "cell_type": "markdown",
   "id": "dbe32545-c714-4a9a-915f-90fa16f05180",
   "metadata": {},
   "source": [
    "### 컴파일 단계에 포함되는 세 가지\n",
    "- 옵티마이저(**optimizer**) : 성능을 향상시키기 위해 입력된 데이터를 기반으로 모델을 업데이트하는 메커니즘\n",
    "- 손실 함수(**loss**) : 훈련 데이터에서 모델의 성능을 측정하는 방법(모델이 옳은 방향으로 학습될 수 있도록 도움)\n",
    "- 훈련과 테스트 과정을 모니터링할 지표(**metrics**) : 평가 방법"
   ]
  },
  {
   "cell_type": "code",
   "execution_count": 107,
   "id": "8392aadb-7274-4202-b668-527ae257bffa",
   "metadata": {},
   "outputs": [],
   "source": [
    "# 컴파일 과정\n",
    "model.compile(optimizer='rmsprop',\n",
    "              loss='sparse_categorical_crossentropy',\n",
    "              metrics=['accuracy'])"
   ]
  },
  {
   "cell_type": "markdown",
   "id": "ac28efea-626f-4b2d-8afd-3ac202770585",
   "metadata": {},
   "source": [
    "### 스케일 조정을 하는 이유\n",
    "1. 신경망은 입력 데이터의 스케일에 민감하여 적절한 데이터 전처리 과정 (**모든 값: 0과 1 사이**)이 필요함  \n",
    "2. **이미지**의 경우 보통 **픽셀의 최댓값**이 **255로 나누어** 사용함\n",
    "3. 컴퓨터는 소수가 더 편함"
   ]
  },
  {
   "cell_type": "code",
   "execution_count": 108,
   "id": "54070961-5f3b-4b64-affe-acc3d42efeae",
   "metadata": {},
   "outputs": [],
   "source": [
    "# 스케일 조정\n",
    "train_images = train_images.reshape((60000, 28*28))\n",
    "train_images = train_images.astype('float32') / 255\n",
    "test_images = test_images.reshape((10000, 28*28))\n",
    "test_images = test_images.astype('float32') / 255"
   ]
  },
  {
   "cell_type": "code",
   "execution_count": 109,
   "id": "c00c396b-55ff-48ad-9f96-a1d9cdb810be",
   "metadata": {},
   "outputs": [
    {
     "name": "stdout",
     "output_type": "stream",
     "text": [
      "Epoch 1/5\n",
      "469/469 [==============================] - 2s 4ms/step - loss: 0.2650 - accuracy: 0.9235\n",
      "Epoch 2/5\n",
      "469/469 [==============================] - 2s 4ms/step - loss: 0.1096 - accuracy: 0.9687\n",
      "Epoch 3/5\n",
      "469/469 [==============================] - 2s 4ms/step - loss: 0.0717 - accuracy: 0.9786\n",
      "Epoch 4/5\n",
      "469/469 [==============================] - 2s 4ms/step - loss: 0.0516 - accuracy: 0.9845\n",
      "Epoch 5/5\n",
      "469/469 [==============================] - 2s 4ms/step - loss: 0.0389 - accuracy: 0.9883\n"
     ]
    },
    {
     "data": {
      "text/plain": [
       "<keras.callbacks.History at 0x1df854a5f10>"
      ]
     },
     "execution_count": 109,
     "metadata": {},
     "output_type": "execute_result"
    }
   ],
   "source": [
    "# 모델 훈련하기\n",
    "model.fit(train_images, train_labels, epochs=5, batch_size=128)"
   ]
  },
  {
   "cell_type": "markdown",
   "id": "d6492030-6fb3-46e2-810d-9cf4ea126442",
   "metadata": {},
   "source": [
    "'**batch**'는 '**한 묶음**'을 의미  \n",
    "즉, 한 묶음을 몇 개로 잡을지 지정하는 것임"
   ]
  },
  {
   "cell_type": "code",
   "execution_count": 110,
   "id": "b04560a9-98b7-476e-80ca-a99ef6d84a0d",
   "metadata": {},
   "outputs": [
    {
     "name": "stdout",
     "output_type": "stream",
     "text": [
      "1875/1875 [==============================] - 1s 650us/step\n"
     ]
    },
    {
     "data": {
      "text/plain": [
       "array([[1.0129173e-10, 2.4607757e-10, 1.3164407e-07, ..., 7.5031172e-09,\n",
       "        3.2251227e-10, 6.1127531e-10],\n",
       "       [9.9999690e-01, 2.0357922e-11, 3.0455844e-06, ..., 6.0862354e-10,\n",
       "        1.7354009e-10, 2.0973068e-09],\n",
       "       [1.9361705e-08, 2.5068457e-06, 2.0894287e-04, ..., 3.3313819e-04,\n",
       "        1.8416778e-05, 1.2441248e-03],\n",
       "       ...,\n",
       "       [7.5973424e-13, 1.8501932e-10, 2.2167207e-13, ..., 1.9177030e-12,\n",
       "        1.8627690e-08, 7.8524405e-09],\n",
       "       [7.7662058e-05, 3.5794076e-06, 7.1329327e-05, ..., 1.6874830e-07,\n",
       "        8.8635937e-07, 3.5815010e-08],\n",
       "       [3.5803907e-05, 1.3567816e-06, 1.5372135e-04, ..., 5.6268502e-05,\n",
       "        9.9948883e-01, 1.6759435e-04]], dtype=float32)"
      ]
     },
     "execution_count": 110,
     "metadata": {},
     "output_type": "execute_result"
    }
   ],
   "source": [
    "# 예측하기\n",
    "preds = model.predict(train_images)\n",
    "preds"
   ]
  },
  {
   "cell_type": "code",
   "execution_count": 111,
   "id": "6462f8a9-1814-4173-a19e-c502c2036185",
   "metadata": {},
   "outputs": [
    {
     "data": {
      "text/plain": [
       "5"
      ]
     },
     "execution_count": 111,
     "metadata": {},
     "output_type": "execute_result"
    }
   ],
   "source": [
    "preds[0].argmax() # 모델의 예측 결과 : 인덱스 5 에서 가장 높은 확률 값을 얻음"
   ]
  },
  {
   "cell_type": "code",
   "execution_count": 112,
   "id": "a0da4fa0-7ac0-4408-b33d-eeeec29b18bd",
   "metadata": {},
   "outputs": [
    {
     "data": {
      "text/plain": [
       "0.96225154"
      ]
     },
     "execution_count": 112,
     "metadata": {},
     "output_type": "execute_result"
    }
   ],
   "source": [
    "preds[0][5] # 예측 확률 : 거의 1임"
   ]
  },
  {
   "cell_type": "code",
   "execution_count": 113,
   "id": "cb0367ff-da7d-4f29-a678-3d0b54f9aeb6",
   "metadata": {},
   "outputs": [
    {
     "data": {
      "text/plain": [
       "7"
      ]
     },
     "execution_count": 113,
     "metadata": {},
     "output_type": "execute_result"
    }
   ],
   "source": [
    "test_labels[0] # 테스트 데이터의 레이블과 맞는지 확인하기"
   ]
  },
  {
   "cell_type": "code",
   "execution_count": 114,
   "id": "6bb027b3-9325-4684-a6cf-0d5ebf648f59",
   "metadata": {},
   "outputs": [
    {
     "name": "stdout",
     "output_type": "stream",
     "text": [
      "313/313 [==============================] - 0s 730us/step - loss: 0.0658 - accuracy: 0.9805\n",
      "손실 함수 : 0.06576141715049744, 정확도 : 0.9804999828338623\n"
     ]
    }
   ],
   "source": [
    "# 새로운 데이터에서 모델 평가하기\n",
    "test_loss, test_acc = model.evaluate(test_images, test_labels)\n",
    "print(f'손실 함수 : {test_loss}, 정확도 : {test_acc}')"
   ]
  },
  {
   "cell_type": "markdown",
   "id": "2ef2a956-e1dd-4e31-99a0-934f1643da46",
   "metadata": {},
   "source": [
    "훈련 정확도와 테스트 정확도 사이의 차이는 **과대적합**(overfitting) 때문인데, \n",
    "이는 **머신 러닝 모델이 훈련 데이터보다 새로운 데이터에서 성능이 낮아지는 경향**을 말한다."
   ]
  },
  {
   "cell_type": "markdown",
   "id": "6962311e-838a-4ac1-b5f8-e8c8067f7e94",
   "metadata": {},
   "source": [
    "### 최소코드"
   ]
  },
  {
   "cell_type": "code",
   "execution_count": 115,
   "id": "d5245d7a-6b18-43ba-a22c-1cbd0fcc9920",
   "metadata": {},
   "outputs": [
    {
     "name": "stdout",
     "output_type": "stream",
     "text": [
      "Epoch 1/5\n",
      "469/469 [==============================] - 2s 3ms/step - loss: 0.2644 - accuracy: 0.9244\n",
      "Epoch 2/5\n",
      "469/469 [==============================] - 2s 3ms/step - loss: 0.1075 - accuracy: 0.9681\n",
      "Epoch 3/5\n",
      "469/469 [==============================] - 2s 3ms/step - loss: 0.0709 - accuracy: 0.9789\n",
      "Epoch 4/5\n",
      "469/469 [==============================] - 1s 3ms/step - loss: 0.0514 - accuracy: 0.9845\n",
      "Epoch 5/5\n",
      "469/469 [==============================] - 2s 3ms/step - loss: 0.0378 - accuracy: 0.9886\n",
      "313/313 [==============================] - 0s 634us/step\n",
      "313/313 [==============================] - 0s 712us/step - loss: 0.0743 - accuracy: 0.9780\n",
      " 손실 : 0.07434381544589996, 정확도 : 0.9779999852180481\n"
     ]
    }
   ],
   "source": [
    "from tensorflow import keras\n",
    "from tensorflow.keras.datasets import mnist\n",
    "from tensorflow.keras import layers\n",
    "\n",
    "(train_images, train_labels), (test_images, test_labels) = mnist.load_data()\n",
    "\n",
    "model = keras.Sequential([\n",
    "    layers.Dense(512, activation='relu'),\n",
    "    layers.Dense(10, activation='softmax')\n",
    "])\n",
    "\n",
    "model.compile(optimizer='rmsprop',\n",
    "              loss = 'sparse_categorical_crossentropy',\n",
    "              metrics = ['accuracy'])\n",
    "\n",
    "train_images = train_images.reshape((60000, 28*28))\n",
    "train_images = train_images.astype('float32') / 255\n",
    "test_images = test_images.reshape((10000, 28*28))\n",
    "test_images = test_images.astype('float32') / 255\n",
    "\n",
    "model.fit(train_images, train_labels, epochs=5, batch_size=128)\n",
    "\n",
    "preds = model.predict(test_images)\n",
    "\n",
    "loss, acc = model.evaluate(test_images, test_labels)\n",
    "print(f' 손실 : {loss}, 정확도 : {acc}')"
   ]
  },
  {
   "cell_type": "markdown",
   "id": "d35ea652-ab95-4b48-ba8a-5a667c6a83b3",
   "metadata": {},
   "source": [
    "## 2-2. 신경망을 위한 데이터 표현\n",
    "\n",
    "- 1차원 배열 : 벡터\n",
    "- 2차원 배열 : 행렬\n",
    "- 3차원 이상의 배열 : 텐서  \n",
    "  \n",
    "**텐서**는 가장 큰 개념으로, **Numpy**에서는 **array**라고 불린다.  \n",
    " \n",
    "> 요약 : \n",
    "**벡터 < 행렬 < 텐서 = np.array**\n",
    "\n",
    "> 랭크(rank) = 차원(dimension) = 축(axis)\n",
    "\n",
    "### 2-2-1. 스칼라(랭크-0 텐서 or 0D 텐서)\n",
    ": 하나의 숫자만 담고 있는 텐서"
   ]
  },
  {
   "cell_type": "code",
   "execution_count": 2,
   "id": "d6b6af75-5c8f-4f20-bae9-36421d7a2e2c",
   "metadata": {
    "tags": []
   },
   "outputs": [],
   "source": [
    "import numpy as np"
   ]
  },
  {
   "cell_type": "code",
   "execution_count": 4,
   "id": "5b3f91c5-b949-46a3-844d-ad089106e09d",
   "metadata": {},
   "outputs": [
    {
     "data": {
      "text/plain": [
       "0"
      ]
     },
     "execution_count": 4,
     "metadata": {},
     "output_type": "execute_result"
    }
   ],
   "source": [
    "x = np.array(12)\n",
    "x.ndim # 넘파이 배열의 축 개수 확인하기 - 스칼라"
   ]
  },
  {
   "cell_type": "code",
   "execution_count": 3,
   "id": "e8570ae5-7c34-4e3d-9c44-625938fe7e2f",
   "metadata": {},
   "outputs": [
    {
     "data": {
      "text/plain": [
       "7"
      ]
     },
     "execution_count": 3,
     "metadata": {},
     "output_type": "execute_result"
    }
   ],
   "source": [
    "a = np.random.randint(-5, 5, 3)\n",
    "b = np.random.randint(-5, 5, 3)\n",
    "np.dot(a,b) # 스칼라"
   ]
  },
  {
   "cell_type": "markdown",
   "id": "8ad7a790-a640-43a0-9b4d-f6ea4557c7b7",
   "metadata": {},
   "source": [
    "### 2-2-2. 벡터(랭크-1 텐서 or 1D 텐서)\n",
    ": 딱 하나의 축을 가진 텐서"
   ]
  },
  {
   "cell_type": "code",
   "execution_count": 25,
   "id": "c4c08cd3-5590-4041-b4be-653e48ec0abe",
   "metadata": {},
   "outputs": [
    {
     "data": {
      "text/plain": [
       "array([12,  3,  6, 14,  7])"
      ]
     },
     "execution_count": 25,
     "metadata": {},
     "output_type": "execute_result"
    }
   ],
   "source": [
    "y = np.array([12, 3, 6, 14, 7])\n",
    "y"
   ]
  },
  {
   "cell_type": "code",
   "execution_count": 26,
   "id": "b8169f2d-506e-4b12-954f-91831dcfb784",
   "metadata": {},
   "outputs": [
    {
     "data": {
      "text/plain": [
       "1"
      ]
     },
     "execution_count": 26,
     "metadata": {},
     "output_type": "execute_result"
    }
   ],
   "source": [
    "y.ndim"
   ]
  },
  {
   "cell_type": "markdown",
   "id": "4d3d705e-5c74-4330-b998-80c38a6b761a",
   "metadata": {},
   "source": [
    "5개의 원소를 가지고 있으므로 **5차원 벡터** 라고 부른다.  \n",
    "\n",
    "> **주의할 점**  \n",
    "> 5D 벡터와 5D 텐서를 혼동하지 말자.  \n",
    "> 5D 벡터는 하나의 축을 따라 5개의 차원을 가진 것이고, 5D 텐서는 5개의 축을 가진 것임"
   ]
  },
  {
   "cell_type": "markdown",
   "id": "2fee4e89-9e28-4b44-953e-5ae3de831d18",
   "metadata": {},
   "source": [
    "### 2-2-3. 행렬(랭크-2 텐서 or 2D 텐서)\n",
    ": 행과 열로 이루어진 텐서"
   ]
  },
  {
   "cell_type": "code",
   "execution_count": 27,
   "id": "b8c38c80-9ebc-4030-b9c4-2906e9cb7946",
   "metadata": {},
   "outputs": [
    {
     "data": {
      "text/plain": [
       "array([[ 5, 78,  2, 34,  0],\n",
       "       [ 6, 79,  3, 35,  1],\n",
       "       [ 7, 80,  4, 36,  2]])"
      ]
     },
     "execution_count": 27,
     "metadata": {},
     "output_type": "execute_result"
    }
   ],
   "source": [
    "x = np.array([[5, 78, 2, 34, 0],\n",
    "              [6, 79, 3, 35, 1],\n",
    "              [7, 80, 4, 36, 2]])\n",
    "x"
   ]
  },
  {
   "cell_type": "code",
   "execution_count": 28,
   "id": "b1e82c49-1d46-4e98-a4f2-c8f2d91b6808",
   "metadata": {},
   "outputs": [
    {
     "data": {
      "text/plain": [
       "2"
      ]
     },
     "execution_count": 28,
     "metadata": {},
     "output_type": "execute_result"
    }
   ],
   "source": [
    "x.ndim"
   ]
  },
  {
   "cell_type": "markdown",
   "id": "13c6d3ab-a634-4263-b628-a1c20841db14",
   "metadata": {},
   "source": [
    "### 2-2-4. 랭크-3 텐서와 더 높은 랭크의 텐서(or 3D 텐서)"
   ]
  },
  {
   "cell_type": "code",
   "execution_count": 29,
   "id": "4624f501-a575-4b44-9f64-d5923cdbfd5e",
   "metadata": {},
   "outputs": [
    {
     "data": {
      "text/plain": [
       "array([[[ 5, 78,  2, 34,  0],\n",
       "        [ 6, 79,  3, 35,  1],\n",
       "        [ 7, 80,  4, 36,  2]],\n",
       "\n",
       "       [[ 5, 78,  2, 34,  0],\n",
       "        [ 6, 79,  3, 35,  1],\n",
       "        [ 7, 80,  4, 36,  2]],\n",
       "\n",
       "       [[ 5, 78,  2, 34,  0],\n",
       "        [ 6, 79,  3, 35,  1],\n",
       "        [ 7, 80,  4, 36,  2]]])"
      ]
     },
     "execution_count": 29,
     "metadata": {},
     "output_type": "execute_result"
    }
   ],
   "source": [
    "x = np.array([[[5, 78, 2, 34, 0],\n",
    "               [6, 79, 3, 35, 1],\n",
    "               [7, 80, 4, 36, 2]],\n",
    "              [[5, 78, 2, 34, 0],\n",
    "               [6, 79, 3, 35, 1],\n",
    "               [7, 80, 4, 36, 2]],\n",
    "              [[5, 78, 2, 34, 0],\n",
    "               [6, 79, 3, 35, 1],\n",
    "               [7, 80, 4, 36, 2]]])\n",
    "x"
   ]
  },
  {
   "cell_type": "code",
   "execution_count": 30,
   "id": "d1c9e649-e1f7-4838-a3ca-3064e009d143",
   "metadata": {},
   "outputs": [
    {
     "data": {
      "text/plain": [
       "3"
      ]
     },
     "execution_count": 30,
     "metadata": {},
     "output_type": "execute_result"
    }
   ],
   "source": [
    "x.ndim"
   ]
  },
  {
   "cell_type": "markdown",
   "id": "7dafe96c-b6f5-4a9f-bfd7-37da3e6a2cdd",
   "metadata": {},
   "source": [
    "### 2-2-5. 텐서 핵심 속성\n",
    "- **축의 개수(랭크)** : ndim 속성으로 확인\n",
    "- **크기(shape)** : 텐서의 각 축을 따라 얼마나 많은 차원이 있는지?\n",
    "- **데이터 타입(dtype)** : ex. float16, float32, float64, unit8 등 텐서플로에서는 string 텐서를 사용하기도 함"
   ]
  },
  {
   "cell_type": "code",
   "execution_count": 31,
   "id": "5b47abf6-0ec6-44e4-8c1f-b575537fc0ef",
   "metadata": {},
   "outputs": [],
   "source": [
    "# 예시\n",
    "from tensorflow.keras.datasets import mnist\n",
    "(train_images, train_labels), (test_images, test_labels) = mnist.load_data()"
   ]
  },
  {
   "cell_type": "code",
   "execution_count": 33,
   "id": "5f2556cf-91a6-4c27-a023-518bc056f839",
   "metadata": {},
   "outputs": [
    {
     "data": {
      "text/plain": [
       "3"
      ]
     },
     "execution_count": 33,
     "metadata": {},
     "output_type": "execute_result"
    }
   ],
   "source": [
    "# train_images 배열의 축의 개수 확인\n",
    "train_images.ndim"
   ]
  },
  {
   "cell_type": "code",
   "execution_count": 34,
   "id": "88f583c9-b9f8-4f91-a07d-379ce48dd96c",
   "metadata": {},
   "outputs": [
    {
     "data": {
      "text/plain": [
       "(60000, 28, 28)"
      ]
     },
     "execution_count": 34,
     "metadata": {},
     "output_type": "execute_result"
    }
   ],
   "source": [
    "# train_images 배열의 크기 확인\n",
    "train_images.shape"
   ]
  },
  {
   "cell_type": "markdown",
   "id": "8276e909-dc08-4620-830c-113b81b07091",
   "metadata": {},
   "source": [
    "shape 결과값은 <span style=\"color: #2D3748; background-color:#fff5b1;\">(사진의 장 수, height, width, (color_depth))</span>을 의미  "
   ]
  },
  {
   "cell_type": "code",
   "execution_count": 35,
   "id": "a9b81b08-735f-49c9-a0b9-21c325c6dc71",
   "metadata": {},
   "outputs": [
    {
     "data": {
      "text/plain": [
       "dtype('uint8')"
      ]
     },
     "execution_count": 35,
     "metadata": {},
     "output_type": "execute_result"
    }
   ],
   "source": [
    "# 데이터 타입 확인\n",
    "train_images.dtype"
   ]
  },
  {
   "cell_type": "markdown",
   "id": "a38d50d8-d522-4304-88d8-1648f47f3cc9",
   "metadata": {},
   "source": [
    "unit8 은 \"**unsigned int 8**\" 의 줄임말  \n",
    "  \n",
    "  특징) 양수 표현만 가능하다, **2^8**개수만큼 표현이 가능하다, **0 ~ 255**"
   ]
  },
  {
   "cell_type": "code",
   "execution_count": 38,
   "id": "316bc593-4e34-42fa-9ddd-acb592e55e44",
   "metadata": {},
   "outputs": [
    {
     "data": {
      "image/png": "[encoded data removed]",
      "text/plain": [
       "<Figure size 432x288 with 1 Axes>"
      ]
     },
     "metadata": {
      "needs_background": "light"
     },
     "output_type": "display_data"
    }
   ],
   "source": [
    "# 데이터셋에 있는 다섯 번째 샘플 출력하기\n",
    "import matplotlib.pyplot as plt\n",
    "\n",
    "digit = train_images[4]\n",
    "\n",
    "plt.imshow(digit, cmap=plt.cm.binary)\n",
    "plt.show()"
   ]
  },
  {
   "cell_type": "code",
   "execution_count": 39,
   "id": "d4a574b5-6826-4700-87d9-9d266a215552",
   "metadata": {},
   "outputs": [
    {
     "data": {
      "text/plain": [
       "9"
      ]
     },
     "execution_count": 39,
     "metadata": {},
     "output_type": "execute_result"
    }
   ],
   "source": [
    "# 이미지에 해당하는 레이블 확인\n",
    "train_labels[4]"
   ]
  },
  {
   "cell_type": "markdown",
   "id": "7b732cd0-f5dd-4ee2-a33e-df5bf056bbba",
   "metadata": {},
   "source": [
    "### 2-2-6. 넘파이로 텐서 조작하기\n",
    "- 11번째에서 101번째까지(101번째 포함하지 않음)  숫자를 선택하여 (90, 28, 28) 크기의 배열을 만들어보자."
   ]
  },
  {
   "cell_type": "code",
   "execution_count": 41,
   "id": "1392a941-6d56-4bbf-bb3f-35f215213c9c",
   "metadata": {},
   "outputs": [
    {
     "data": {
      "text/plain": [
       "(90, 28, 28)"
      ]
     },
     "execution_count": 41,
     "metadata": {},
     "output_type": "execute_result"
    }
   ],
   "source": [
    "my_slice = train_images[10:100]\n",
    "my_slice.shape"
   ]
  },
  {
   "cell_type": "code",
   "execution_count": 42,
   "id": "8a4e2185-077b-43ea-bd58-060697a01f6c",
   "metadata": {},
   "outputs": [
    {
     "data": {
      "text/plain": [
       "(90, 28, 28)"
      ]
     },
     "execution_count": 42,
     "metadata": {},
     "output_type": "execute_result"
    }
   ],
   "source": [
    "my_slice = train_images[10:100, :, :]\n",
    "my_slice.shape"
   ]
  },
  {
   "cell_type": "code",
   "execution_count": 43,
   "id": "4e6d42c6-5d74-4ebc-abc4-b2777102a663",
   "metadata": {},
   "outputs": [
    {
     "data": {
      "text/plain": [
       "(90, 28, 28)"
      ]
     },
     "execution_count": 43,
     "metadata": {},
     "output_type": "execute_result"
    }
   ],
   "source": [
    "my_slice = train_images[10:100, 0:28, 0: 28]\n",
    "my_slice.shape"
   ]
  },
  {
   "cell_type": "markdown",
   "id": "d789f79f-0a1d-4ec1-a0a5-204200b26ee5",
   "metadata": {},
   "source": [
    "- 일반적으로 각 배열의 축을 따라 어떤 인덱스 사이도 선택할 수 있음"
   ]
  },
  {
   "cell_type": "code",
   "execution_count": 44,
   "id": "be5fc57b-aef1-4494-a845-82797597b030",
   "metadata": {},
   "outputs": [
    {
     "data": {
      "text/plain": [
       "(60000, 14, 14)"
      ]
     },
     "execution_count": 44,
     "metadata": {},
     "output_type": "execute_result"
    }
   ],
   "source": [
    "my_slice = train_images[:, 14:, 14:]\n",
    "my_slice.shape"
   ]
  },
  {
   "cell_type": "markdown",
   "id": "8bb87dff-9c84-4745-9d52-e589f8cf2691",
   "metadata": {},
   "source": [
    "- 음수 인덱스 사용 가능"
   ]
  },
  {
   "cell_type": "code",
   "execution_count": 45,
   "id": "65c91c6b-457d-462e-96a9-906d60d8244d",
   "metadata": {},
   "outputs": [
    {
     "data": {
      "text/plain": [
       "(60000, 14, 14)"
      ]
     },
     "execution_count": 45,
     "metadata": {},
     "output_type": "execute_result"
    }
   ],
   "source": [
    "my_slice = train_images[:, 7:-7, 7: -7]\n",
    "my_slice.shape"
   ]
  },
  {
   "cell_type": "markdown",
   "id": "f714327e-725e-46e4-9514-167aa326082e",
   "metadata": {},
   "source": [
    "### 2-2-7. 배치 데이터\n",
    "\n",
    "일반적으로 딥러닝에서 사용하는 **모든 데이터 텐서의 첫 번째 축**은 **샘플 축**(sample axis, **샘플 차원**(sample dimension))이라고 한다.  \n",
    "mnist 예제에서는 숫자 이미지가 샘플이다.  \n",
    "딥러닝 모델은 한 번에 전체 데이터셋을 처리하지 않고, 작은 배치로 나눈다.  \n",
    "  \n",
    "n번째 배치는  \n",
    "n = 3  \n",
    "<span style=\"color: #2D3748; background-color:#fff5b1;\">batch = train_images[128 * n : 128 * (n+1)]</span>  \n",
    "으로 나타낸다.  \n",
    "  \n",
    "이런 **배치 데이터**를 다룰 때 **첫 번째 축**(0번 축)은 **배치 축**(batch axis) 또는 **배치 차원**(batch dimension)이라고 부른다.  \n",
    "\n",
    "### 2-2-8. 텐서의 실제 사례\n",
    "- **벡터 데이터** : (samples, features) 크기의 랭크-2 텐서\n",
    "- **시계열 데이터 또는 시퀀스 데이터** : (samples, timesteps, features) 크기의 랭크-3 텐서, 각 샘플은 특성 벡터의 (길이가 timesteps인) 시퀀스임\n",
    "- **이미지** : (samples, height, width, channels) 또는 (samples, channels, height, width) 크기의 랭크-4 텐서\n",
    "- **동영상** : (samples, frames, height, width, channels) 또는 (samples, frames, channels, height, width) 크기의 랭크-5 텐서\n",
    "\n",
    "### 2-2-9. 벡터 데이터\n",
    "- 첫 번째 축 : **샘플 축**\n",
    "- 두 번째 축 : **특성 축(feature axis)**\n",
    "  \n",
    "ex) 사람의 나이, 성별, 소득으로 구성된 인구 통계 데이터가 있다. 각 사람은 3개의 값을 가진 벡터로 구성되고 10만 명이 포함된 전체 데이터 셋은 (100000, 3) 크기의 랭크-2 텐서에 저장될 수 있다.\n",
    "\n",
    "### 2-2-10. 시계열 데이터 또는 시퀀스 데이터\n",
    "\n",
    "시간이 (또는 연속된 순서가) 중요할 때는 시간 축을 포함하여 랭크-3 텐서로 저장된다.  \n",
    "관례적으로 **시간 축은 항상 두 번째**(인덱스가 1인 축)이다.\n",
    "\n",
    "### 2-2-11. 이미지 데이터\n",
    "\n",
    "이미지는 전형적으로 **높이, 너비, 컬러 채널**의 **3차원**으로 이루어진다.  \n",
    "- **흑백** 이미지 : '명도'라는 1가지 속성만 가지고 있기 때문에 컬러 채널의 크기는 1임(128, 256, 256, **1**)  \n",
    "- **컬러** 이미지: 'RGB'처럼 3가지의 컬러 채널을 가지고 있기 때문에 컬러 채널의 크기는 3임(128, 256, 256, **3**)\n",
    "\n",
    "### 2-2-12. 비디오 데이터\n",
    "현실에서 랭크-5 텐서가 필요한 몇 안 되는 데이터 중 하나이다.  \n",
    "여러 비디오의 배치는 (**samples, frames, height, width, color_depth**)로 저장될 수 있다.  \n",
    "  \n",
    "ex) 60초 짜리 144 x 256 유튜브 비디오 클립을 초당 4프레임으로 샘플링하면 -> (4, 240, 144, 256, 3) 크기의 텐서에 저장될 것이다.\n",
    "\n",
    "## 2-3. 신경망의 톱니바퀴: 텐서 연산\n",
    "심층 신경망이 모든 변환을 수치 데이터 텐서에 적용하는 몇 종류의 **텐서 연산**(tensor operation)(또는 텐서 함수(tensor function))으로 나타낼 수 있다.  \n",
    "ex) 텐서 덧셈, 텐서 곱셈 등  \n",
    "  \n",
    "### relu 활성화 함수\n",
    "- 음수를 0으로 만드는 함수, 즉 입력이 0보다 크면 입력을 그대로 반환하고 0보다 작으면 0을 반환함\n",
    "- **output = relu(dot(W, input) + b)**  / W : 행렬, b : 벡터\n",
    "- **np.maximum(0, x)**"
   ]
  },
  {
   "cell_type": "code",
   "execution_count": 12,
   "id": "bb8ae818-da2d-4674-9ddc-cca3f69dcf48",
   "metadata": {},
   "outputs": [],
   "source": [
    "import numpy as np\n",
    "import matplotlib.pyplot as plt"
   ]
  },
  {
   "cell_type": "code",
   "execution_count": 13,
   "id": "a97b8912-f1cb-4852-85f1-d3edd0e21d26",
   "metadata": {},
   "outputs": [],
   "source": [
    "x = np.linspace(-1, 1, 1000) # -1 부터 1 까지 1000등분"
   ]
  },
  {
   "cell_type": "code",
   "execution_count": 14,
   "id": "45218dff-10df-4d96-9705-86df77fdbc34",
   "metadata": {},
   "outputs": [
    {
     "data": {
      "text/plain": [
       "<matplotlib.collections.PathCollection at 0x1bc702f8b80>"
      ]
     },
     "execution_count": 14,
     "metadata": {},
     "output_type": "execute_result"
    },
    {
     "data": {
      "image/png": "[encoded data removed]",
      "text/plain": [
       "<Figure size 432x288 with 1 Axes>"
      ]
     },
     "metadata": {
      "needs_background": "light"
     },
     "output_type": "display_data"
    }
   ],
   "source": [
    "plt.scatter(x, np.maximum(0, x))"
   ]
  },
  {
   "cell_type": "code",
   "execution_count": 15,
   "id": "e1733ade-ae82-43a4-9b0b-15050cba7f67",
   "metadata": {},
   "outputs": [
    {
     "data": {
      "text/plain": [
       "0"
      ]
     },
     "execution_count": 15,
     "metadata": {},
     "output_type": "execute_result"
    }
   ],
   "source": [
    "a = np.random.randint(-5, 5, 3)\n",
    "b = np.random.randint(-5, 5, 3)\n",
    "output = np.maximum(0, (np.dot(a, b) + 2))\n",
    "output"
   ]
  },
  {
   "cell_type": "markdown",
   "id": "463d9abf-77aa-4ffc-951f-0da558d7b66b",
   "metadata": {},
   "source": [
    "**relu 활성화 함수**에 사용된 **3개의 텐서 연산**에 대해 좀 더 자세히 알아보자.\n",
    "- 입력 텐서와 텐서 W 사이의 점곱(dot, dot product, 내적)\n",
    "- 점곱으로 만들어진 행렬과 벡터 b 사이의 덧셈(+)\n",
    "- relu 연산. relu(x)는 max(0, x)"
   ]
  },
  {
   "cell_type": "markdown",
   "id": "b9f36185-177c-4882-b7a1-84fe156f8451",
   "metadata": {},
   "source": [
    "### 2-3-1. 원소별 연산\n",
    "  \n",
    "relu 함수와 덧셈은 **원소별 연산**(element-wise operation)이다. 이 연산은 <span style='background-color: #f5f0ff'>텐서에 있는 각 원소에 **독립적**으로 적용</span>된다.  \n",
    "파이썬으로 단순한 원소별 연산을 구현한다면 다음 relu 연산 구현처럼 for문을 사용할 것이다."
   ]
  },
  {
   "cell_type": "code",
   "execution_count": 27,
   "id": "f9a6d4fc-7c92-4144-988f-533fc2ba66e0",
   "metadata": {},
   "outputs": [],
   "source": [
    "def naive_relu(x):\n",
    "    assert len(x.shape) == 2 # x는 랭크-2 넘파이 배열\n",
    "    x = x.copy() # 입력 텐서 자체를 바꾸지 않도록 복사\n",
    "    for i in range(x.shape[0]):\n",
    "        for j in range(x.shape[1]):\n",
    "            x[i, j] = max(x[i, j], 0) # relu\n",
    "    return x"
   ]
  },
  {
   "cell_type": "markdown",
   "id": "cb6a1666-84ec-4ddc-9d8e-9f64814968b2",
   "metadata": {},
   "source": [
    "덧셈도 동일하다."
   ]
  },
  {
   "cell_type": "code",
   "execution_count": 35,
   "id": "af6cbba1-e5e5-46b9-b7c9-6951edbd4904",
   "metadata": {},
   "outputs": [],
   "source": [
    "def naive_add(x,y):\n",
    "    assert len(x.shape) == len(y.shape)\n",
    "    x = x.copy()\n",
    "    for i in range(x.shape[0]):\n",
    "        for j in range(x.shape[1]):\n",
    "            x[i ,j] += x[i, j]\n",
    "    return x"
   ]
  },
  {
   "cell_type": "markdown",
   "id": "796da7d5-c27f-49ed-8eff-22adac02fd1c",
   "metadata": {},
   "source": [
    "같은 원리로 원소별 곱셈, 뺄셈 등을 할 수 있다.  \n",
    "사실 넘파이 배열을 다룰 때는 최적화된 넘파이 내장 함수로 이런 연산들을 처리할 수 있고, 엄청나게 빠르다."
   ]
  },
  {
   "cell_type": "code",
   "execution_count": 29,
   "id": "bb6dc5c0-f81c-443d-bc60-26a7e1758481",
   "metadata": {},
   "outputs": [],
   "source": [
    "import numpy as np\n",
    "\n",
    "z = x + y # 원소별 덧셈\n",
    "z = np.maximum(z, 0.) # 원소별 렐루 함수"
   ]
  },
  {
   "cell_type": "code",
   "execution_count": 30,
   "id": "44716336-3715-47af-9508-f3bf6e5b3753",
   "metadata": {},
   "outputs": [
    {
     "name": "stdout",
     "output_type": "stream",
     "text": [
      "걸린 시간 : 0.006979942321777344s\n"
     ]
    }
   ],
   "source": [
    "# 실제 시간 차이 재기\n",
    "import time\n",
    "\n",
    "x = np.random.random((20,100))\n",
    "y = np.random.random((20,100))\n",
    "\n",
    "t0 = time.time()\n",
    "for _ in range(1000):\n",
    "    z = x + y\n",
    "    z = np.maximum(z, 0.)\n",
    "print(f'걸린 시간 : {time.time() - t0}s')"
   ]
  },
  {
   "cell_type": "code",
   "execution_count": 36,
   "id": "5c50ae0d-f3a1-4b8f-9506-337a251793b5",
   "metadata": {},
   "outputs": [
    {
     "name": "stdout",
     "output_type": "stream",
     "text": [
      "걸린 시간 : 1.9956636428833008s\n"
     ]
    }
   ],
   "source": [
    "t0 = time.time()\n",
    "for _ in range(1000):\n",
    "    z = naive_add(x, y)\n",
    "    z = naive_relu(z)\n",
    "print(f'걸린 시간 : {time.time() - t0}s')"
   ]
  },
  {
   "cell_type": "markdown",
   "id": "32104480-c96b-473c-93b9-a667011f01c3",
   "metadata": {},
   "source": [
    "## 2-3-2. 브로드캐스팅\n",
    "모호하지 않고 실행 가능하다면 **작은 텐서가 큰 텐서의 크기에 맞춰짐**을 의미\n",
    "\n",
    "> 단계 : 큰 텐서의 ndim에 맞도록 작은 텐서에 **축이 추가**됨 -> 작은 텐서가 새 축을 따라서 큰 텐서의 크기에 맞도록 반복됨  \n",
    "  \n",
    "> 차원을 바꾸는 세 가지 방법"
   ]
  },
  {
   "cell_type": "code",
   "execution_count": 37,
   "id": "1c04b72c-7f91-442f-bf79-148e52d05f21",
   "metadata": {},
   "outputs": [
    {
     "data": {
      "text/plain": [
       "array([2, 3, 4, 4, 3, 2])"
      ]
     },
     "execution_count": 37,
     "metadata": {},
     "output_type": "execute_result"
    }
   ],
   "source": [
    "a = np.random.randint(1, 5, 6)\n",
    "a"
   ]
  },
  {
   "cell_type": "code",
   "execution_count": 38,
   "id": "51fe8f9e-ee8e-4db2-9e43-231672cf19ea",
   "metadata": {},
   "outputs": [
    {
     "data": {
      "text/plain": [
       "(6,)"
      ]
     },
     "execution_count": 38,
     "metadata": {},
     "output_type": "execute_result"
    }
   ],
   "source": [
    "a.shape"
   ]
  },
  {
   "cell_type": "code",
   "execution_count": 39,
   "id": "13a1bcbb-a4e9-4afe-8295-af986d03746c",
   "metadata": {},
   "outputs": [
    {
     "data": {
      "text/plain": [
       "array([[2],\n",
       "       [3],\n",
       "       [4],\n",
       "       [4],\n",
       "       [3],\n",
       "       [2]])"
      ]
     },
     "execution_count": 39,
     "metadata": {},
     "output_type": "execute_result"
    }
   ],
   "source": [
    "a.reshape((6, 1))"
   ]
  },
  {
   "cell_type": "markdown",
   "id": "f3daff6e-c422-44e7-be24-56900b6a711c",
   "metadata": {},
   "source": [
    "#### reshape"
   ]
  },
  {
   "cell_type": "code",
   "execution_count": 40,
   "id": "f36a2a6c-8eed-4ca9-94e6-a66973dc7f95",
   "metadata": {},
   "outputs": [
    {
     "data": {
      "text/plain": [
       "(6, 1)"
      ]
     },
     "execution_count": 40,
     "metadata": {},
     "output_type": "execute_result"
    }
   ],
   "source": [
    "a.reshape((6, 1)).shape"
   ]
  },
  {
   "cell_type": "markdown",
   "id": "f7503c7c-d915-4f3a-9ddf-e02b5310bd07",
   "metadata": {},
   "source": [
    "#### np.newaxis"
   ]
  },
  {
   "cell_type": "code",
   "execution_count": 42,
   "id": "e03c21ea-0efd-4df4-8e69-6dde1028ee0a",
   "metadata": {},
   "outputs": [
    {
     "data": {
      "text/plain": [
       "(6, 1)"
      ]
     },
     "execution_count": 42,
     "metadata": {},
     "output_type": "execute_result"
    }
   ],
   "source": [
    "a[:, np.newaxis].shape"
   ]
  },
  {
   "cell_type": "markdown",
   "id": "2e6a3382-2f98-4cb4-9767-f951d54ffc63",
   "metadata": {},
   "source": [
    "#### expand_dims"
   ]
  },
  {
   "cell_type": "code",
   "execution_count": 43,
   "id": "c7013218-7ce7-46bc-a240-5d1324f3ef94",
   "metadata": {},
   "outputs": [
    {
     "data": {
      "text/plain": [
       "array([[2, 3, 4, 4, 3, 2]])"
      ]
     },
     "execution_count": 43,
     "metadata": {},
     "output_type": "execute_result"
    }
   ],
   "source": [
    "np.expand_dims(a, axis = 0)"
   ]
  },
  {
   "cell_type": "code",
   "execution_count": 44,
   "id": "9339e814-6d71-45f7-bdd0-1297e0a444fe",
   "metadata": {},
   "outputs": [
    {
     "data": {
      "text/plain": [
       "(1, 6)"
      ]
     },
     "execution_count": 44,
     "metadata": {},
     "output_type": "execute_result"
    }
   ],
   "source": [
    "np.expand_dims(a, axis = 0).shape"
   ]
  },
  {
   "cell_type": "code",
   "execution_count": 45,
   "id": "347ed145-d33a-42e6-b68d-2bc19190b162",
   "metadata": {},
   "outputs": [
    {
     "data": {
      "text/plain": [
       "array([[2],\n",
       "       [3],\n",
       "       [4],\n",
       "       [4],\n",
       "       [3],\n",
       "       [2]])"
      ]
     },
     "execution_count": 45,
     "metadata": {},
     "output_type": "execute_result"
    }
   ],
   "source": [
    "np.expand_dims(a, axis = 1)"
   ]
  },
  {
   "cell_type": "code",
   "execution_count": 46,
   "id": "469ec409-eae1-4c0f-b5c6-b28388b058ca",
   "metadata": {},
   "outputs": [
    {
     "data": {
      "text/plain": [
       "(6, 1)"
      ]
     },
     "execution_count": 46,
     "metadata": {},
     "output_type": "execute_result"
    }
   ],
   "source": [
    "np.expand_dims(a, axis = 1).shape"
   ]
  },
  {
   "cell_type": "markdown",
   "id": "599ac41e-349c-4959-ae6c-d1f4e09fcbfe",
   "metadata": {},
   "source": [
    "#### 기타 버전"
   ]
  },
  {
   "cell_type": "code",
   "execution_count": 47,
   "id": "39e8a2fe-88d1-484b-bacf-b553b9cc302a",
   "metadata": {},
   "outputs": [
    {
     "data": {
      "text/plain": [
       "array([[2, 3, 4],\n",
       "       [4, 3, 2]])"
      ]
     },
     "execution_count": 47,
     "metadata": {},
     "output_type": "execute_result"
    }
   ],
   "source": [
    "a = a.reshape((2,3))\n",
    "a"
   ]
  },
  {
   "cell_type": "code",
   "execution_count": 48,
   "id": "18249212-c9f5-447b-b04b-2a5dcfcdf433",
   "metadata": {},
   "outputs": [
    {
     "data": {
      "text/plain": [
       "(2, 3)"
      ]
     },
     "execution_count": 48,
     "metadata": {},
     "output_type": "execute_result"
    }
   ],
   "source": [
    "a.shape"
   ]
  },
  {
   "cell_type": "markdown",
   "id": "d64c5183-e6cd-4974-8f32-638cd9eb1a43",
   "metadata": {},
   "source": [
    "Q. a.shape을 3차원으로 바꾸어 주세요."
   ]
  },
  {
   "cell_type": "code",
   "execution_count": 49,
   "id": "4b616fae-fb25-4ffa-95a6-a6bacabe5c21",
   "metadata": {},
   "outputs": [
    {
     "data": {
      "text/plain": [
       "array([[[2],\n",
       "        [3],\n",
       "        [4]],\n",
       "\n",
       "       [[4],\n",
       "        [3],\n",
       "        [2]]])"
      ]
     },
     "execution_count": 49,
     "metadata": {},
     "output_type": "execute_result"
    }
   ],
   "source": [
    "# 1\n",
    "a.reshape((2, 3, 1))"
   ]
  },
  {
   "cell_type": "code",
   "execution_count": 50,
   "id": "1e01b549-47c9-4228-afb5-7138b09fc04f",
   "metadata": {},
   "outputs": [
    {
     "data": {
      "text/plain": [
       "(2, 3, 1)"
      ]
     },
     "execution_count": 50,
     "metadata": {},
     "output_type": "execute_result"
    }
   ],
   "source": [
    "# 1-1\n",
    "a.reshape((2, 3, -1))\n",
    "a.reshape((2, 3, -1)).shape"
   ]
  },
  {
   "cell_type": "code",
   "execution_count": 51,
   "id": "38c628c2-d76b-4329-90c6-7a55f3580ace",
   "metadata": {},
   "outputs": [
    {
     "data": {
      "text/plain": [
       "(2, 3, 1)"
      ]
     },
     "execution_count": 51,
     "metadata": {},
     "output_type": "execute_result"
    }
   ],
   "source": [
    "# 기타1\n",
    "a.reshape((2,3) + (1,)).shape"
   ]
  },
  {
   "cell_type": "code",
   "execution_count": 52,
   "id": "eb858b58-0948-455b-9950-06fa5f740c87",
   "metadata": {},
   "outputs": [
    {
     "data": {
      "text/plain": [
       "(2, 3, 1)"
      ]
     },
     "execution_count": 52,
     "metadata": {},
     "output_type": "execute_result"
    }
   ],
   "source": [
    "# 2\n",
    "a[:, :, np.newaxis].shape"
   ]
  },
  {
   "cell_type": "code",
   "execution_count": 53,
   "id": "36965b23-4f51-4b58-9067-9b8c33a52ede",
   "metadata": {},
   "outputs": [
    {
     "data": {
      "text/plain": [
       "(2, 3, 1)"
      ]
     },
     "execution_count": 53,
     "metadata": {},
     "output_type": "execute_result"
    }
   ],
   "source": [
    "# 기타2\n",
    "a[:, :, None].shape"
   ]
  },
  {
   "cell_type": "markdown",
   "id": "5d02b0dc-79b2-4baf-9272-3f88f8e10f34",
   "metadata": {},
   "source": [
    "### 2-3-3. 텐서 곱셈"
   ]
  },
  {
   "cell_type": "markdown",
   "id": "ee93962b-6346-45ab-848e-1b227111e177",
   "metadata": {},
   "source": [
    "np.dot( )"
   ]
  },
  {
   "cell_type": "markdown",
   "id": "dfd65b1c-36df-4e96-a1aa-fd9387cea571",
   "metadata": {},
   "source": [
    "### 2-3-4. 텐서 크기 변환\n",
    "텐서의 크기 변환 = **특정 크기에 맞게 행과 열을 재배열**  \n",
    "  \n",
    "자주 사용하는 특별한 크기 변환의 ex) **전치**(transposition)\n",
    "\n",
    "### 2-3-6. 딥러닝의 기하학적 해석(그림(좌표)을 통해 본 분석)\n",
    "\n",
    "결론 : **기초적인 연산**을 **길게 연결**하여 복잡한 기하학적 변환을 조금씩 분해하는 방식이다.\n",
    "\n",
    "## 2-4. 신경망의 엔진: 그레이디언트 기반 최적화\n",
    "\n",
    "1. 초기에는 가중치 행렬이 작은 난수로 채워져 있음(**무작위 초기화**(random initialization, 의미없는 가중치) 단계)\n",
    "2. 피드백 신호에 기초하여 **가중치가 점진적으로 조정**됨\n",
    "\n",
    "이런 <span style=\"color: #2D3748; background-color:#fff5b1;\">가중치가 점진적으로 조정되는 과정</span>을 점진적인 조정 또는 <span style=\"color: #2D3748; background-color:#fff5b1;\">**훈련**(**training**), **fit**, **학습** (**learning**)이라 하고, 이것이 바로 **머신 러닝 학습의 핵심**</span>이다."
   ]
  },
  {
   "cell_type": "markdown",
   "id": "049c433c-1350-4455-9b82-9a9ba66ca6bf",
   "metadata": {},
   "source": [
    "# 4장 신경망 시작하기: 분류와 회귀\n",
    "## 4-1. 영화 리뷰 분류: 이진 분류 문제\n",
    "### 4-1-1. IMDB 데이터셋"
   ]
  },
  {
   "cell_type": "code",
   "execution_count": 53,
   "id": "ad9cda14-26c3-4646-8efb-1acdc27cd4ff",
   "metadata": {},
   "outputs": [],
   "source": [
    "# IMDB 데이터셋 로드하기\n",
    "from tensorflow.keras.datasets import imdb\n",
    "\n",
    "(train_data, train_labels), (test_data, test_labels) = imdb.load_data(num_words=10000)"
   ]
  },
  {
   "cell_type": "markdown",
   "id": "dd291ff1-0c32-492e-af95-a9734643326a",
   "metadata": {},
   "source": [
    "**num_words=10000** 매개변수 :  훈련 데이터에서 **가장 자주 나타나는 단어 1만 개만 사용하겠다**는 의미"
   ]
  },
  {
   "cell_type": "code",
   "execution_count": 54,
   "id": "d68ed92e-0488-48bf-b33a-386d4bc7e3ab",
   "metadata": {
    "collapsed": true,
    "jupyter": {
     "outputs_hidden": true
    },
    "tags": []
   },
   "outputs": [
    {
     "data": {
      "text/plain": [
       "[1,\n",
       " 14,\n",
       " 22,\n",
       " 16,\n",
       " 43,\n",
       " 530,\n",
       " 973,\n",
       " 1622,\n",
       " 1385,\n",
       " 65,\n",
       " 458,\n",
       " 4468,\n",
       " 66,\n",
       " 3941,\n",
       " 4,\n",
       " 173,\n",
       " 36,\n",
       " 256,\n",
       " 5,\n",
       " 25,\n",
       " 100,\n",
       " 43,\n",
       " 838,\n",
       " 112,\n",
       " 50,\n",
       " 670,\n",
       " 2,\n",
       " 9,\n",
       " 35,\n",
       " 480,\n",
       " 284,\n",
       " 5,\n",
       " 150,\n",
       " 4,\n",
       " 172,\n",
       " 112,\n",
       " 167,\n",
       " 2,\n",
       " 336,\n",
       " 385,\n",
       " 39,\n",
       " 4,\n",
       " 172,\n",
       " 4536,\n",
       " 1111,\n",
       " 17,\n",
       " 546,\n",
       " 38,\n",
       " 13,\n",
       " 447,\n",
       " 4,\n",
       " 192,\n",
       " 50,\n",
       " 16,\n",
       " 6,\n",
       " 147,\n",
       " 2025,\n",
       " 19,\n",
       " 14,\n",
       " 22,\n",
       " 4,\n",
       " 1920,\n",
       " 4613,\n",
       " 469,\n",
       " 4,\n",
       " 22,\n",
       " 71,\n",
       " 87,\n",
       " 12,\n",
       " 16,\n",
       " 43,\n",
       " 530,\n",
       " 38,\n",
       " 76,\n",
       " 15,\n",
       " 13,\n",
       " 1247,\n",
       " 4,\n",
       " 22,\n",
       " 17,\n",
       " 515,\n",
       " 17,\n",
       " 12,\n",
       " 16,\n",
       " 626,\n",
       " 18,\n",
       " 2,\n",
       " 5,\n",
       " 62,\n",
       " 386,\n",
       " 12,\n",
       " 8,\n",
       " 316,\n",
       " 8,\n",
       " 106,\n",
       " 5,\n",
       " 4,\n",
       " 2223,\n",
       " 5244,\n",
       " 16,\n",
       " 480,\n",
       " 66,\n",
       " 3785,\n",
       " 33,\n",
       " 4,\n",
       " 130,\n",
       " 12,\n",
       " 16,\n",
       " 38,\n",
       " 619,\n",
       " 5,\n",
       " 25,\n",
       " 124,\n",
       " 51,\n",
       " 36,\n",
       " 135,\n",
       " 48,\n",
       " 25,\n",
       " 1415,\n",
       " 33,\n",
       " 6,\n",
       " 22,\n",
       " 12,\n",
       " 215,\n",
       " 28,\n",
       " 77,\n",
       " 52,\n",
       " 5,\n",
       " 14,\n",
       " 407,\n",
       " 16,\n",
       " 82,\n",
       " 2,\n",
       " 8,\n",
       " 4,\n",
       " 107,\n",
       " 117,\n",
       " 5952,\n",
       " 15,\n",
       " 256,\n",
       " 4,\n",
       " 2,\n",
       " 7,\n",
       " 3766,\n",
       " 5,\n",
       " 723,\n",
       " 36,\n",
       " 71,\n",
       " 43,\n",
       " 530,\n",
       " 476,\n",
       " 26,\n",
       " 400,\n",
       " 317,\n",
       " 46,\n",
       " 7,\n",
       " 4,\n",
       " 2,\n",
       " 1029,\n",
       " 13,\n",
       " 104,\n",
       " 88,\n",
       " 4,\n",
       " 381,\n",
       " 15,\n",
       " 297,\n",
       " 98,\n",
       " 32,\n",
       " 2071,\n",
       " 56,\n",
       " 26,\n",
       " 141,\n",
       " 6,\n",
       " 194,\n",
       " 7486,\n",
       " 18,\n",
       " 4,\n",
       " 226,\n",
       " 22,\n",
       " 21,\n",
       " 134,\n",
       " 476,\n",
       " 26,\n",
       " 480,\n",
       " 5,\n",
       " 144,\n",
       " 30,\n",
       " 5535,\n",
       " 18,\n",
       " 51,\n",
       " 36,\n",
       " 28,\n",
       " 224,\n",
       " 92,\n",
       " 25,\n",
       " 104,\n",
       " 4,\n",
       " 226,\n",
       " 65,\n",
       " 16,\n",
       " 38,\n",
       " 1334,\n",
       " 88,\n",
       " 12,\n",
       " 16,\n",
       " 283,\n",
       " 5,\n",
       " 16,\n",
       " 4472,\n",
       " 113,\n",
       " 103,\n",
       " 32,\n",
       " 15,\n",
       " 16,\n",
       " 5345,\n",
       " 19,\n",
       " 178,\n",
       " 32]"
      ]
     },
     "execution_count": 54,
     "metadata": {},
     "output_type": "execute_result"
    }
   ],
   "source": [
    "train_data[0]"
   ]
  },
  {
   "cell_type": "code",
   "execution_count": 55,
   "id": "4fc14992-33ab-4008-ac91-7ff2a429571a",
   "metadata": {},
   "outputs": [
    {
     "data": {
      "text/plain": [
       "1"
      ]
     },
     "execution_count": 55,
     "metadata": {},
     "output_type": "execute_result"
    }
   ],
   "source": [
    "train_labels[0]"
   ]
  },
  {
   "cell_type": "markdown",
   "id": "15468dc3-15f7-4059-b664-da4ff873b4d3",
   "metadata": {},
   "source": [
    "_data : 리뷰를 담은 배열로, 각 리뷰는 단어 인덱스의 리스트  \n",
    "_labels : 부정을 나타내는 0과 긍정을 나타내는 1의 리스트"
   ]
  },
  {
   "cell_type": "code",
   "execution_count": 56,
   "id": "a7f9ecae-cd3a-41f4-b948-be30a8f4e62a",
   "metadata": {},
   "outputs": [
    {
     "data": {
      "text/plain": [
       "9999"
      ]
     },
     "execution_count": 56,
     "metadata": {},
     "output_type": "execute_result"
    }
   ],
   "source": [
    "# 가장 자주 등장하는 단어 1만 개로 제한했기 때문에 단어 인덱스는 9,999를 넘지 않음\n",
    "max([max(sequence) for sequence in train_data])"
   ]
  },
  {
   "cell_type": "markdown",
   "id": "9feb85c1-95ae-41ba-ae02-0ecc7471d14f",
   "metadata": {},
   "source": [
    "### 4-1-2. 데이터 준비하기"
   ]
  },
  {
   "cell_type": "code",
   "execution_count": 57,
   "id": "13571499-09dd-47c8-973c-ff8ccaf1ee21",
   "metadata": {},
   "outputs": [],
   "source": [
    "# 리스트를 텐서로 바꾸기 위해 멀티-핫 인코딩으로 인코딩\n",
    "import numpy as np\n",
    "\n",
    "def vectorize_sequences(sequences, dimension=10000):\n",
    "    results = np.zeros((len(sequences), dimension))  # 크기가 (len(sequences), dimension)이고 모든 원소가 0인 행렬을 만듦\n",
    "    for i, sequence in enumerate(sequences):\n",
    "        for j in sequence:\n",
    "            results[i, j] = 1.\n",
    "    return results\n",
    "\n",
    "x_train = vectorize_sequences(train_data) # 훈련 데이터를 벡터로 변환\n",
    "x_test = vectorize_sequences(test_data) #  테스트 데이터를 벡터로 변환"
   ]
  },
  {
   "cell_type": "code",
   "execution_count": 58,
   "id": "2b0e2a9c-c784-4011-9894-e03b0ebb91cd",
   "metadata": {},
   "outputs": [
    {
     "data": {
      "text/plain": [
       "array([0., 1., 1., ..., 0., 0., 0.])"
      ]
     },
     "execution_count": 58,
     "metadata": {},
     "output_type": "execute_result"
    }
   ],
   "source": [
    "x_train[0]"
   ]
  },
  {
   "cell_type": "code",
   "execution_count": 59,
   "id": "e63e3288-c5fa-4870-a6af-59d6c2df14ab",
   "metadata": {},
   "outputs": [],
   "source": [
    "y_train = np.asarray(train_labels).astype('float32')\n",
    "y_test = np.asarray(test_labels).astype('float32')"
   ]
  },
  {
   "cell_type": "markdown",
   "id": "ca632957-8370-4472-a7d1-c3a8781cd1ae",
   "metadata": {},
   "source": [
    "### 4-1-3. 신경망 모델 만들기"
   ]
  },
  {
   "cell_type": "code",
   "execution_count": 60,
   "id": "e88493a0-763f-402f-a91e-18d2c5c2fac0",
   "metadata": {},
   "outputs": [],
   "source": [
    "# 모델 정의하기\n",
    "from tensorflow import keras\n",
    "from tensorflow.keras import layers\n",
    "\n",
    "model = keras.Sequential([\n",
    "    layers.Dense(16, activation='relu'),\n",
    "    layers.Dense(16, activation='relu'),\n",
    "    layers.Dense(1, activation='sigmoid')\n",
    "])"
   ]
  },
  {
   "cell_type": "code",
   "execution_count": 61,
   "id": "df25b770-2d84-458d-93c9-2ad690fb467e",
   "metadata": {},
   "outputs": [],
   "source": [
    "# 모델 컴파일하기\n",
    "model.compile(optimizer='rmsprop',\n",
    "              loss='binary_crossentropy',\n",
    "              metrics=['accuracy'])"
   ]
  },
  {
   "cell_type": "markdown",
   "id": "efe56e22-efac-4c48-a81a-d4d8bc415f7a",
   "metadata": {},
   "source": [
    "### 4-1-4. 훈련 검증\n",
    "딥러닝 모델은 훈련 데이터에서 평가해서는 절대 안된다. 검증 세트를 사용하여 훈련 과정 중에 모델의 정확도를 모니터링하는 것이 표준 관행이다."
   ]
  },
  {
   "cell_type": "code",
   "execution_count": 62,
   "id": "17c0dc04-9fbe-4903-b54d-864f0cfa4ea6",
   "metadata": {},
   "outputs": [],
   "source": [
    "x_val = x_train[:10000]\n",
    "partial_x_train = x_train[10000:]\n",
    "y_val = y_train[:10000]\n",
    "partial_y_train = y_train[10000:]"
   ]
  },
  {
   "cell_type": "code",
   "execution_count": 63,
   "id": "81de50d9-b3f2-497e-bbb1-8b3e8fe33e71",
   "metadata": {},
   "outputs": [
    {
     "name": "stdout",
     "output_type": "stream",
     "text": [
      "Epoch 1/20\n",
      "30/30 [==============================] - 10s 120ms/step - loss: 0.5189 - accuracy: 0.7886 - val_loss: 0.3900 - val_accuracy: 0.8734\n",
      "Epoch 2/20\n",
      "30/30 [==============================] - 1s 27ms/step - loss: 0.3116 - accuracy: 0.9025 - val_loss: 0.3135 - val_accuracy: 0.8827\n",
      "Epoch 3/20\n",
      "30/30 [==============================] - 1s 23ms/step - loss: 0.2275 - accuracy: 0.9273 - val_loss: 0.2784 - val_accuracy: 0.8920\n",
      "Epoch 4/20\n",
      "30/30 [==============================] - 1s 22ms/step - loss: 0.1784 - accuracy: 0.9433 - val_loss: 0.2735 - val_accuracy: 0.8886\n",
      "Epoch 5/20\n",
      "30/30 [==============================] - 1s 23ms/step - loss: 0.1456 - accuracy: 0.9537 - val_loss: 0.2837 - val_accuracy: 0.8864\n",
      "Epoch 6/20\n",
      "30/30 [==============================] - 1s 25ms/step - loss: 0.1221 - accuracy: 0.9620 - val_loss: 0.3023 - val_accuracy: 0.8825\n",
      "Epoch 7/20\n",
      "30/30 [==============================] - 1s 23ms/step - loss: 0.0995 - accuracy: 0.9702 - val_loss: 0.3044 - val_accuracy: 0.8866\n",
      "Epoch 8/20\n",
      "30/30 [==============================] - 1s 25ms/step - loss: 0.0849 - accuracy: 0.9749 - val_loss: 0.3270 - val_accuracy: 0.8795\n",
      "Epoch 9/20\n",
      "30/30 [==============================] - 1s 23ms/step - loss: 0.0695 - accuracy: 0.9809 - val_loss: 0.3935 - val_accuracy: 0.8671\n",
      "Epoch 10/20\n",
      "30/30 [==============================] - 1s 22ms/step - loss: 0.0583 - accuracy: 0.9848 - val_loss: 0.4257 - val_accuracy: 0.8644\n",
      "Epoch 11/20\n",
      "30/30 [==============================] - 1s 22ms/step - loss: 0.0465 - accuracy: 0.9893 - val_loss: 0.3943 - val_accuracy: 0.8768\n",
      "Epoch 12/20\n",
      "30/30 [==============================] - 1s 22ms/step - loss: 0.0373 - accuracy: 0.9923 - val_loss: 0.5023 - val_accuracy: 0.8581\n",
      "Epoch 13/20\n",
      "30/30 [==============================] - 1s 22ms/step - loss: 0.0290 - accuracy: 0.9943 - val_loss: 0.4602 - val_accuracy: 0.8762\n",
      "Epoch 14/20\n",
      "30/30 [==============================] - 1s 24ms/step - loss: 0.0234 - accuracy: 0.9963 - val_loss: 0.4877 - val_accuracy: 0.8716\n",
      "Epoch 15/20\n",
      "30/30 [==============================] - 1s 37ms/step - loss: 0.0211 - accuracy: 0.9953 - val_loss: 0.5220 - val_accuracy: 0.8718\n",
      "Epoch 16/20\n",
      "30/30 [==============================] - 1s 27ms/step - loss: 0.0134 - accuracy: 0.9986 - val_loss: 0.5726 - val_accuracy: 0.8642\n",
      "Epoch 17/20\n",
      "30/30 [==============================] - 1s 25ms/step - loss: 0.0134 - accuracy: 0.9980 - val_loss: 0.5891 - val_accuracy: 0.8675\n",
      "Epoch 18/20\n",
      "30/30 [==============================] - 1s 40ms/step - loss: 0.0086 - accuracy: 0.9993 - val_loss: 0.6695 - val_accuracy: 0.8625\n",
      "Epoch 19/20\n",
      "30/30 [==============================] - 1s 30ms/step - loss: 0.0064 - accuracy: 0.9997 - val_loss: 0.6566 - val_accuracy: 0.8681\n",
      "Epoch 20/20\n",
      "30/30 [==============================] - 1s 23ms/step - loss: 0.0059 - accuracy: 0.9994 - val_loss: 0.7019 - val_accuracy: 0.8632\n"
     ]
    }
   ],
   "source": [
    "# 모델 훈련하기\n",
    "history = model.fit(partial_x_train,\n",
    "                    partial_y_train,\n",
    "                    epochs=20,\n",
    "                    batch_size=512,\n",
    "                    validation_data=(x_val, y_val))"
   ]
  },
  {
   "cell_type": "markdown",
   "id": "ae0ec075-bced-4813-bf5a-155f1f15fbd7",
   "metadata": {},
   "source": [
    "> **model.fit 메서드는 오브젝트, 즉 객체를 반환**한다. 이 객체는 **훈련하는 동안 발생한 모든 정보를 담고 있는 딕셔너리**인 history 속성을 가지고 있다."
   ]
  },
  {
   "cell_type": "code",
   "execution_count": 64,
   "id": "38dd5bb7-ce00-45c0-83b2-b79dddea1c8d",
   "metadata": {},
   "outputs": [],
   "source": [
    "history_dict = history.history"
   ]
  },
  {
   "cell_type": "code",
   "execution_count": 65,
   "id": "afe7ae17-a8b9-4bb7-83be-fcf6d3a61a99",
   "metadata": {},
   "outputs": [
    {
     "data": {
      "text/plain": [
       "dict_keys(['loss', 'accuracy', 'val_loss', 'val_accuracy'])"
      ]
     },
     "execution_count": 65,
     "metadata": {},
     "output_type": "execute_result"
    }
   ],
   "source": [
    "history_dict.keys()"
   ]
  },
  {
   "cell_type": "markdown",
   "id": "02605a1c-80d8-41bb-813b-6a8122d5ec3b",
   "metadata": {},
   "source": [
    "훈련과 검증하는 동안 모니터링할 측정 지표당 하나씩 모두 4개의 항목을 담고 있다."
   ]
  },
  {
   "cell_type": "code",
   "execution_count": 66,
   "id": "973dca59-ca5d-45a0-8ee3-9dd67d74493c",
   "metadata": {},
   "outputs": [
    {
     "data": {
      "image/png": "[encoded data removed]",
      "text/plain": [
       "<Figure size 432x288 with 1 Axes>"
      ]
     },
     "metadata": {
      "needs_background": "light"
     },
     "output_type": "display_data"
    }
   ],
   "source": [
    "# 훈련과 검증 손실 그리기\n",
    "import matplotlib.pyplot as plt\n",
    "\n",
    "history_dict = history.history\n",
    "loss_values = history_dict['loss']\n",
    "val_loss_values = history_dict['val_loss']\n",
    "epochs = range(1, len(loss_values) +1)\n",
    "plt.plot(epochs, loss_values, 'bo', label='Training loss') # 'bo' : 파란색 점을 의미\n",
    "plt.plot(epochs, val_loss_values, 'b', label='Validation loss') # 'b' : 파란색 실선을 의미\n",
    "plt.title('Training and validation loss')\n",
    "plt.xlabel('Epochs')\n",
    "plt.ylabel('Loss')\n",
    "plt.legend()\n",
    "plt.show()"
   ]
  },
  {
   "cell_type": "code",
   "execution_count": 67,
   "id": "153c2458-5f63-4e92-af5f-9ecd86537ac2",
   "metadata": {},
   "outputs": [
    {
     "data": {
      "image/png": "[encoded data removed]",
      "text/plain": [
       "<Figure size 432x288 with 1 Axes>"
      ]
     },
     "metadata": {
      "needs_background": "light"
     },
     "output_type": "display_data"
    }
   ],
   "source": [
    "# 훈련과 검증 정확도 그리기\n",
    "plt.clf() # 그래프 초기화\n",
    "acc = history_dict['accuracy']\n",
    "val_acc = history_dict['val_accuracy']\n",
    "plt.plot(epochs, acc, 'bo', label='Training acc')\n",
    "plt.plot(epochs, val_acc, 'b', label='Validation acc')\n",
    "plt.title('Training and validation accuracy')\n",
    "plt.xlabel('Epochs')\n",
    "plt.ylabel('Accuracy')\n",
    "plt.legend()\n",
    "plt.show()"
   ]
  },
  {
   "cell_type": "markdown",
   "id": "bddd7ebe-2c97-445b-97ae-3964730c8db5",
   "metadata": {},
   "source": [
    "과대적합을 방지하기 위해 n 번째 에포크 이후에 훈련을 중지할 수 있음"
   ]
  },
  {
   "cell_type": "code",
   "execution_count": 69,
   "id": "918dfd1f-21f3-4684-aa2e-0ce44d4f3d91",
   "metadata": {},
   "outputs": [],
   "source": [
    "# 모델을 처음부터 다시 훈련하기\n",
    "model = keras.Sequential([\n",
    "    layers.Dense(16, activation='relu'),\n",
    "    layers.Dense(16, activation='relu'),\n",
    "    layers.Dense(1, activation='sigmoid')\n",
    "])"
   ]
  },
  {
   "cell_type": "code",
   "execution_count": 70,
   "id": "c451f3f1-550e-4113-ada4-eb674a5e7861",
   "metadata": {},
   "outputs": [],
   "source": [
    "model.compile(optimizer='rmsprop',\n",
    "              loss='binary_crossentropy',\n",
    "              metrics=['accuracy'])"
   ]
  },
  {
   "cell_type": "code",
   "execution_count": 71,
   "id": "c0b99694-6875-46d2-a1ec-20cf7547dbc7",
   "metadata": {},
   "outputs": [
    {
     "name": "stdout",
     "output_type": "stream",
     "text": [
      "Epoch 1/4\n",
      "49/49 [==============================] - 2s 18ms/step - loss: 0.4532 - accuracy: 0.8192\n",
      "Epoch 2/4\n",
      "49/49 [==============================] - 1s 15ms/step - loss: 0.2586 - accuracy: 0.9092\n",
      "Epoch 3/4\n",
      "49/49 [==============================] - 1s 15ms/step - loss: 0.2017 - accuracy: 0.9287\n",
      "Epoch 4/4\n",
      "49/49 [==============================] - 1s 16ms/step - loss: 0.1679 - accuracy: 0.9422\n"
     ]
    },
    {
     "data": {
      "text/plain": [
       "<keras.callbacks.History at 0x174a1904790>"
      ]
     },
     "execution_count": 71,
     "metadata": {},
     "output_type": "execute_result"
    }
   ],
   "source": [
    "model.fit(x_train, y_train, epochs=4, batch_size=512)"
   ]
  },
  {
   "cell_type": "code",
   "execution_count": 72,
   "id": "63384dda-c735-4213-a12e-eaf00e1221dc",
   "metadata": {},
   "outputs": [
    {
     "name": "stdout",
     "output_type": "stream",
     "text": [
      "782/782 [==============================] - 4s 2ms/step - loss: 0.2980 - accuracy: 0.8812\n"
     ]
    }
   ],
   "source": [
    "results = model.evaluate(x_test, y_test)"
   ]
  },
  {
   "cell_type": "code",
   "execution_count": 73,
   "id": "8eb44d9f-28a4-4f53-b894-2523736ef79a",
   "metadata": {},
   "outputs": [
    {
     "data": {
      "text/plain": [
       "[0.2980312407016754, 0.8812400102615356]"
      ]
     },
     "execution_count": 73,
     "metadata": {},
     "output_type": "execute_result"
    }
   ],
   "source": [
    "results"
   ]
  },
  {
   "cell_type": "markdown",
   "id": "bee6542b-78a5-4a47-bef0-6aac3a8feb4a",
   "metadata": {},
   "source": [
    "[테스트 손실, 테스트 정확도]"
   ]
  },
  {
   "cell_type": "markdown",
   "id": "69cc2e06-a577-44f4-aa9b-2ee9be57a2bd",
   "metadata": {},
   "source": [
    "### 4-1-5. 훈련된 모델로 새로운 데이터에 대해 예측하기"
   ]
  },
  {
   "cell_type": "code",
   "execution_count": 74,
   "id": "8f030303-35a1-4298-96ae-8d72f9a41421",
   "metadata": {},
   "outputs": [
    {
     "name": "stdout",
     "output_type": "stream",
     "text": [
      "782/782 [==============================] - 2s 2ms/step\n"
     ]
    },
    {
     "data": {
      "text/plain": [
       "array([[0.15062118],\n",
       "       [0.9998354 ],\n",
       "       [0.8022687 ],\n",
       "       ...,\n",
       "       [0.09759475],\n",
       "       [0.05476024],\n",
       "       [0.6426509 ]], dtype=float32)"
      ]
     },
     "execution_count": 74,
     "metadata": {},
     "output_type": "execute_result"
    }
   ],
   "source": [
    "model.predict(x_test)"
   ]
  },
  {
   "cell_type": "markdown",
   "id": "2f5feff1-d49a-4d3b-a76c-ec7e73dccabf",
   "metadata": {},
   "source": [
    "이진 분류에서 레이블이 1인 경우, 양성 샘플 / 0인 경우, 음성 샘플이다.  \n",
    "이 예에서는 긍정인 리뷰가 양성 샘플이지만 어떤 좋은 것이 양성 샘플이 되는 것이 아니고 **예측하려는 대상이 양성이 된다.**"
   ]
  },
  {
   "cell_type": "markdown",
   "id": "c5bbbbb7-a2c8-46db-8283-941162830926",
   "metadata": {},
   "source": [
    "### 4-1-6. 추가 실험\n",
    "1. 최종 분류 층 이전에 2개의 표현 층을 사용했다. 1개 또는 3개의 표현 층을 사용하고 검증과 테스트 정확도에 어떤 영향을 미치는지 확인해 보자.  \n",
    "  \n",
    "---- 층 1개 loss: 0.3134, acc: 0.8768  \n",
    "---- 층 2개 loss: 0.2980, acc: 0.8812  \n",
    "---- 층 3개 loss: 0.3473, acc: 0.8724"
   ]
  },
  {
   "cell_type": "code",
   "execution_count": 1,
   "id": "0833ff55-9721-4cf4-bb42-a7abf47d0c5f",
   "metadata": {},
   "outputs": [
    {
     "name": "stdout",
     "output_type": "stream",
     "text": [
      "Downloading data from https://storage.googleapis.com/tensorflow/tf-keras-datasets/imdb.npz\n",
      "17464789/17464789 [==============================] - 2s 0us/step\n"
     ]
    }
   ],
   "source": [
    "# 표현 층 1개\n",
    "from tensorflow.keras.datasets import imdb\n",
    "\n",
    "(train_data, train_labels), (test_data, test_labels) = imdb.load_data(num_words=10000)"
   ]
  },
  {
   "cell_type": "code",
   "execution_count": 2,
   "id": "e8bcdca5-2f88-4fb0-a97e-9ba0b764906e",
   "metadata": {
    "collapsed": true,
    "jupyter": {
     "outputs_hidden": true
    },
    "tags": []
   },
   "outputs": [
    {
     "data": {
      "text/plain": [
       "[1,\n",
       " 14,\n",
       " 22,\n",
       " 16,\n",
       " 43,\n",
       " 530,\n",
       " 973,\n",
       " 1622,\n",
       " 1385,\n",
       " 65,\n",
       " 458,\n",
       " 4468,\n",
       " 66,\n",
       " 3941,\n",
       " 4,\n",
       " 173,\n",
       " 36,\n",
       " 256,\n",
       " 5,\n",
       " 25,\n",
       " 100,\n",
       " 43,\n",
       " 838,\n",
       " 112,\n",
       " 50,\n",
       " 670,\n",
       " 2,\n",
       " 9,\n",
       " 35,\n",
       " 480,\n",
       " 284,\n",
       " 5,\n",
       " 150,\n",
       " 4,\n",
       " 172,\n",
       " 112,\n",
       " 167,\n",
       " 2,\n",
       " 336,\n",
       " 385,\n",
       " 39,\n",
       " 4,\n",
       " 172,\n",
       " 4536,\n",
       " 1111,\n",
       " 17,\n",
       " 546,\n",
       " 38,\n",
       " 13,\n",
       " 447,\n",
       " 4,\n",
       " 192,\n",
       " 50,\n",
       " 16,\n",
       " 6,\n",
       " 147,\n",
       " 2025,\n",
       " 19,\n",
       " 14,\n",
       " 22,\n",
       " 4,\n",
       " 1920,\n",
       " 4613,\n",
       " 469,\n",
       " 4,\n",
       " 22,\n",
       " 71,\n",
       " 87,\n",
       " 12,\n",
       " 16,\n",
       " 43,\n",
       " 530,\n",
       " 38,\n",
       " 76,\n",
       " 15,\n",
       " 13,\n",
       " 1247,\n",
       " 4,\n",
       " 22,\n",
       " 17,\n",
       " 515,\n",
       " 17,\n",
       " 12,\n",
       " 16,\n",
       " 626,\n",
       " 18,\n",
       " 2,\n",
       " 5,\n",
       " 62,\n",
       " 386,\n",
       " 12,\n",
       " 8,\n",
       " 316,\n",
       " 8,\n",
       " 106,\n",
       " 5,\n",
       " 4,\n",
       " 2223,\n",
       " 5244,\n",
       " 16,\n",
       " 480,\n",
       " 66,\n",
       " 3785,\n",
       " 33,\n",
       " 4,\n",
       " 130,\n",
       " 12,\n",
       " 16,\n",
       " 38,\n",
       " 619,\n",
       " 5,\n",
       " 25,\n",
       " 124,\n",
       " 51,\n",
       " 36,\n",
       " 135,\n",
       " 48,\n",
       " 25,\n",
       " 1415,\n",
       " 33,\n",
       " 6,\n",
       " 22,\n",
       " 12,\n",
       " 215,\n",
       " 28,\n",
       " 77,\n",
       " 52,\n",
       " 5,\n",
       " 14,\n",
       " 407,\n",
       " 16,\n",
       " 82,\n",
       " 2,\n",
       " 8,\n",
       " 4,\n",
       " 107,\n",
       " 117,\n",
       " 5952,\n",
       " 15,\n",
       " 256,\n",
       " 4,\n",
       " 2,\n",
       " 7,\n",
       " 3766,\n",
       " 5,\n",
       " 723,\n",
       " 36,\n",
       " 71,\n",
       " 43,\n",
       " 530,\n",
       " 476,\n",
       " 26,\n",
       " 400,\n",
       " 317,\n",
       " 46,\n",
       " 7,\n",
       " 4,\n",
       " 2,\n",
       " 1029,\n",
       " 13,\n",
       " 104,\n",
       " 88,\n",
       " 4,\n",
       " 381,\n",
       " 15,\n",
       " 297,\n",
       " 98,\n",
       " 32,\n",
       " 2071,\n",
       " 56,\n",
       " 26,\n",
       " 141,\n",
       " 6,\n",
       " 194,\n",
       " 7486,\n",
       " 18,\n",
       " 4,\n",
       " 226,\n",
       " 22,\n",
       " 21,\n",
       " 134,\n",
       " 476,\n",
       " 26,\n",
       " 480,\n",
       " 5,\n",
       " 144,\n",
       " 30,\n",
       " 5535,\n",
       " 18,\n",
       " 51,\n",
       " 36,\n",
       " 28,\n",
       " 224,\n",
       " 92,\n",
       " 25,\n",
       " 104,\n",
       " 4,\n",
       " 226,\n",
       " 65,\n",
       " 16,\n",
       " 38,\n",
       " 1334,\n",
       " 88,\n",
       " 12,\n",
       " 16,\n",
       " 283,\n",
       " 5,\n",
       " 16,\n",
       " 4472,\n",
       " 113,\n",
       " 103,\n",
       " 32,\n",
       " 15,\n",
       " 16,\n",
       " 5345,\n",
       " 19,\n",
       " 178,\n",
       " 32]"
      ]
     },
     "execution_count": 2,
     "metadata": {},
     "output_type": "execute_result"
    }
   ],
   "source": [
    "train_data[0]"
   ]
  },
  {
   "cell_type": "code",
   "execution_count": 6,
   "id": "6e199935-7948-4795-9c83-d619f4b24c48",
   "metadata": {},
   "outputs": [
    {
     "data": {
      "text/plain": [
       "1"
      ]
     },
     "execution_count": 6,
     "metadata": {},
     "output_type": "execute_result"
    }
   ],
   "source": [
    "train_labels[0]"
   ]
  },
  {
   "cell_type": "code",
   "execution_count": 8,
   "id": "817133a7-c486-4d2f-bdee-c2776bd409af",
   "metadata": {},
   "outputs": [
    {
     "data": {
      "text/plain": [
       "9999"
      ]
     },
     "execution_count": 8,
     "metadata": {},
     "output_type": "execute_result"
    }
   ],
   "source": [
    "max([max(sequence) for sequence in train_data])"
   ]
  },
  {
   "cell_type": "code",
   "execution_count": 10,
   "id": "b5236064-797d-4e6c-8bce-cb9979851fbe",
   "metadata": {},
   "outputs": [],
   "source": [
    "import numpy as np\n",
    "\n",
    "def vectorize_sequences(sequences, dimension=10000):\n",
    "    results = np.zeros((len(sequences), dimension))\n",
    "    for i, sequence in enumerate(sequences):\n",
    "        for j in sequence:\n",
    "            results[i, j] = 1.\n",
    "    return results\n",
    "\n",
    "x_train = vectorize_sequences(train_data)\n",
    "x_test = vectorize_sequences(test_data)"
   ]
  },
  {
   "cell_type": "code",
   "execution_count": 11,
   "id": "c5c26758-d77b-4605-a6f4-0e7862e543f5",
   "metadata": {},
   "outputs": [
    {
     "data": {
      "text/plain": [
       "array([0., 1., 1., ..., 0., 0., 0.])"
      ]
     },
     "execution_count": 11,
     "metadata": {},
     "output_type": "execute_result"
    }
   ],
   "source": [
    "x_train[0]"
   ]
  },
  {
   "cell_type": "code",
   "execution_count": 12,
   "id": "8d9e1689-3797-4467-a4dc-38028c2aac53",
   "metadata": {},
   "outputs": [],
   "source": [
    "y_train = np.asarray(train_labels).astype('float32')\n",
    "y_test = np.asarray(test_labels).astype('float32')"
   ]
  },
  {
   "cell_type": "code",
   "execution_count": 14,
   "id": "75a13fa5-7e78-4c28-ad0c-777dc139a751",
   "metadata": {},
   "outputs": [],
   "source": [
    "from tensorflow import keras\n",
    "from tensorflow.keras import layers\n",
    "\n",
    "model = keras.Sequential([\n",
    "    layers.Dense(16, activation='relu'),\n",
    "    layers.Dense(1, activation='sigmoid')\n",
    "])"
   ]
  },
  {
   "cell_type": "code",
   "execution_count": 22,
   "id": "9e7851ac-4192-4417-b86b-de9fa462ed3c",
   "metadata": {},
   "outputs": [],
   "source": [
    "model.compile(optimizer='rmsprop',\n",
    "              loss='binary_crossentropy',\n",
    "              metrics=['accuracy'])"
   ]
  },
  {
   "cell_type": "code",
   "execution_count": 23,
   "id": "29da1ff4-1f9e-49b5-93c6-fa2a74f28f55",
   "metadata": {},
   "outputs": [],
   "source": [
    "x_val = x_train[:10000]\n",
    "partial_x_train = x_train[10000:]\n",
    "y_val = y_train[:10000]\n",
    "partial_y_train = y_train[10000:]"
   ]
  },
  {
   "cell_type": "code",
   "execution_count": 24,
   "id": "c322b4e2-31ea-4878-85f8-51628a09bd37",
   "metadata": {},
   "outputs": [
    {
     "name": "stdout",
     "output_type": "stream",
     "text": [
      "Epoch 1/20\n",
      "30/30 [==============================] - 1s 22ms/step - loss: 0.5106 - accuracy: 0.7884 - val_loss: 0.4120 - val_accuracy: 0.8486\n",
      "Epoch 2/20\n",
      "30/30 [==============================] - 0s 11ms/step - loss: 0.3368 - accuracy: 0.8929 - val_loss: 0.3411 - val_accuracy: 0.8710\n",
      "Epoch 3/20\n",
      "30/30 [==============================] - 0s 10ms/step - loss: 0.2666 - accuracy: 0.9133 - val_loss: 0.3010 - val_accuracy: 0.8856\n",
      "Epoch 4/20\n",
      "30/30 [==============================] - 0s 9ms/step - loss: 0.2236 - accuracy: 0.9299 - val_loss: 0.2824 - val_accuracy: 0.8906\n",
      "Epoch 5/20\n",
      "30/30 [==============================] - 0s 10ms/step - loss: 0.1961 - accuracy: 0.9363 - val_loss: 0.2784 - val_accuracy: 0.8884\n",
      "Epoch 6/20\n",
      "30/30 [==============================] - 0s 9ms/step - loss: 0.1736 - accuracy: 0.9450 - val_loss: 0.2740 - val_accuracy: 0.8878\n",
      "Epoch 7/20\n",
      "30/30 [==============================] - 0s 9ms/step - loss: 0.1570 - accuracy: 0.9513 - val_loss: 0.2767 - val_accuracy: 0.8867\n",
      "Epoch 8/20\n",
      "30/30 [==============================] - 0s 9ms/step - loss: 0.1422 - accuracy: 0.9565 - val_loss: 0.2839 - val_accuracy: 0.8862\n",
      "Epoch 9/20\n",
      "30/30 [==============================] - 0s 9ms/step - loss: 0.1298 - accuracy: 0.9634 - val_loss: 0.2871 - val_accuracy: 0.8846\n",
      "Epoch 10/20\n",
      "30/30 [==============================] - 0s 9ms/step - loss: 0.1194 - accuracy: 0.9646 - val_loss: 0.2893 - val_accuracy: 0.8857\n",
      "Epoch 11/20\n",
      "30/30 [==============================] - 0s 9ms/step - loss: 0.1103 - accuracy: 0.9701 - val_loss: 0.2955 - val_accuracy: 0.8850\n",
      "Epoch 12/20\n",
      "30/30 [==============================] - 0s 10ms/step - loss: 0.1003 - accuracy: 0.9732 - val_loss: 0.3136 - val_accuracy: 0.8825\n",
      "Epoch 13/20\n",
      "30/30 [==============================] - 0s 10ms/step - loss: 0.0929 - accuracy: 0.9761 - val_loss: 0.3109 - val_accuracy: 0.8842\n",
      "Epoch 14/20\n",
      "30/30 [==============================] - 0s 9ms/step - loss: 0.0865 - accuracy: 0.9785 - val_loss: 0.3334 - val_accuracy: 0.8786\n",
      "Epoch 15/20\n",
      "30/30 [==============================] - 0s 9ms/step - loss: 0.0805 - accuracy: 0.9811 - val_loss: 0.3427 - val_accuracy: 0.8736\n",
      "Epoch 16/20\n",
      "30/30 [==============================] - 0s 9ms/step - loss: 0.0737 - accuracy: 0.9834 - val_loss: 0.3403 - val_accuracy: 0.8767\n",
      "Epoch 17/20\n",
      "30/30 [==============================] - 0s 8ms/step - loss: 0.0692 - accuracy: 0.9854 - val_loss: 0.3460 - val_accuracy: 0.8796\n",
      "Epoch 18/20\n",
      "30/30 [==============================] - 0s 8ms/step - loss: 0.0633 - accuracy: 0.9877 - val_loss: 0.3693 - val_accuracy: 0.8709\n",
      "Epoch 19/20\n",
      "30/30 [==============================] - 0s 8ms/step - loss: 0.0599 - accuracy: 0.9883 - val_loss: 0.3624 - val_accuracy: 0.8774\n",
      "Epoch 20/20\n",
      "30/30 [==============================] - 0s 8ms/step - loss: 0.0562 - accuracy: 0.9893 - val_loss: 0.3724 - val_accuracy: 0.8751\n"
     ]
    }
   ],
   "source": [
    "history = model.fit(partial_x_train,\n",
    "                    partial_y_train,\n",
    "                    epochs=20,\n",
    "                    batch_size=512,\n",
    "                    validation_data=(x_val, y_val))"
   ]
  },
  {
   "cell_type": "code",
   "execution_count": 25,
   "id": "7c9bdfd4-8db0-4cf5-9ed3-8839ae0cce9d",
   "metadata": {},
   "outputs": [
    {
     "data": {
      "text/plain": [
       "dict_keys(['loss', 'accuracy', 'val_loss', 'val_accuracy'])"
      ]
     },
     "execution_count": 25,
     "metadata": {},
     "output_type": "execute_result"
    }
   ],
   "source": [
    "history_dict = history.history\n",
    "history_dict.keys()"
   ]
  },
  {
   "cell_type": "code",
   "execution_count": 26,
   "id": "8737e4c9-601e-4954-9341-b6874df7663b",
   "metadata": {},
   "outputs": [
    {
     "data": {
      "image/png": "[encoded data removed]",
      "text/plain": [
       "<Figure size 640x480 with 1 Axes>"
      ]
     },
     "metadata": {},
     "output_type": "display_data"
    }
   ],
   "source": [
    "import matplotlib.pyplot as plt\n",
    "\n",
    "loss = history_dict['loss']\n",
    "val_loss = history_dict['val_loss']\n",
    "epochs = range(1, len(loss) + 1)\n",
    "plt.plot(epochs, loss, 'bo', label='Training loss')\n",
    "plt.plot(epochs, val_loss, 'b', label='Validation loss')\n",
    "plt.title('Training and validation loss')\n",
    "plt.xlabel('Epochs')\n",
    "plt.ylabel('Loss')\n",
    "plt.legend()\n",
    "plt.show()"
   ]
  },
  {
   "cell_type": "code",
   "execution_count": 27,
   "id": "8383c997-5ce7-4799-a9a5-bf9be13de425",
   "metadata": {},
   "outputs": [
    {
     "data": {
      "image/png": "[encoded data removed]",
      "text/plain": [
       "<Figure size 640x480 with 1 Axes>"
      ]
     },
     "metadata": {},
     "output_type": "display_data"
    }
   ],
   "source": [
    "plt.clf()\n",
    "acc = history_dict['accuracy']\n",
    "val_acc = history_dict['val_accuracy']\n",
    "plt.plot(epochs, acc, 'bo', label='Training accuracy')\n",
    "plt.plot(epochs, val_acc, 'b', label='Validation accuracy')\n",
    "plt.title('Training and validation accuracy')\n",
    "plt.xlabel('Epochs')\n",
    "plt.ylabel('Accuracy')\n",
    "plt.legend()\n",
    "plt.show()"
   ]
  },
  {
   "cell_type": "code",
   "execution_count": 28,
   "id": "84004fa5-745b-4719-895d-1c43bcffb127",
   "metadata": {},
   "outputs": [],
   "source": [
    "model = keras.Sequential([\n",
    "    layers.Dense(16, activation='relu'),\n",
    "    layers.Dense(1, activation='sigmoid')\n",
    "])"
   ]
  },
  {
   "cell_type": "code",
   "execution_count": 31,
   "id": "722101f5-ce00-4749-980e-581c9459b780",
   "metadata": {},
   "outputs": [],
   "source": [
    "model.compile(optimizer='rmsprop',\n",
    "              loss='binary_crossentropy',\n",
    "              metrics=['accuracy'])"
   ]
  },
  {
   "cell_type": "code",
   "execution_count": 35,
   "id": "cd0a4a8e-47aa-4ea7-bbe6-198b122d967b",
   "metadata": {},
   "outputs": [
    {
     "name": "stdout",
     "output_type": "stream",
     "text": [
      "Epoch 1/6\n",
      "49/49 [==============================] - 0s 6ms/step - loss: 0.2082 - accuracy: 0.9245\n",
      "Epoch 2/6\n",
      "49/49 [==============================] - 0s 6ms/step - loss: 0.1851 - accuracy: 0.9348\n",
      "Epoch 3/6\n",
      "49/49 [==============================] - 0s 6ms/step - loss: 0.1700 - accuracy: 0.9415\n",
      "Epoch 4/6\n",
      "49/49 [==============================] - 0s 6ms/step - loss: 0.1559 - accuracy: 0.9468\n",
      "Epoch 5/6\n",
      "49/49 [==============================] - 0s 6ms/step - loss: 0.1460 - accuracy: 0.9498\n",
      "Epoch 6/6\n",
      "49/49 [==============================] - 0s 6ms/step - loss: 0.1367 - accuracy: 0.9552\n"
     ]
    },
    {
     "data": {
      "text/plain": [
       "<keras.callbacks.History at 0x20c838dbaf0>"
      ]
     },
     "execution_count": 35,
     "metadata": {},
     "output_type": "execute_result"
    }
   ],
   "source": [
    "model.fit(x_train,\n",
    "          y_train,\n",
    "          epochs=6,\n",
    "          batch_size=512)"
   ]
  },
  {
   "cell_type": "code",
   "execution_count": 36,
   "id": "3592524e-d6b1-420e-bb84-c0b966d97e28",
   "metadata": {},
   "outputs": [
    {
     "name": "stdout",
     "output_type": "stream",
     "text": [
      "782/782 [==============================] - 1s 717us/step - loss: 0.3135 - accuracy: 0.8769\n"
     ]
    },
    {
     "data": {
      "text/plain": [
       "[0.3134995400905609, 0.8768799901008606]"
      ]
     },
     "execution_count": 36,
     "metadata": {},
     "output_type": "execute_result"
    }
   ],
   "source": [
    "model.evaluate(x_test, y_test)"
   ]
  },
  {
   "cell_type": "markdown",
   "id": "fafdc534-2d6c-4207-bc2f-fb461930a30e",
   "metadata": {},
   "source": [
    "------------"
   ]
  },
  {
   "cell_type": "code",
   "execution_count": 62,
   "id": "21f231b4-7a41-4441-aa05-235ab1f83416",
   "metadata": {},
   "outputs": [],
   "source": [
    "# 표현 층 3개\n",
    "from tensorflow.keras.datasets import imdb\n",
    "\n",
    "(train_data, train_labels), (test_data, test_labels) = imdb.load_data(num_words=10000)"
   ]
  },
  {
   "cell_type": "code",
   "execution_count": 39,
   "id": "37b0a814-67d5-4c21-b2c1-f7dab96d10d5",
   "metadata": {
    "collapsed": true,
    "jupyter": {
     "outputs_hidden": true
    },
    "tags": []
   },
   "outputs": [
    {
     "data": {
      "text/plain": [
       "[1,\n",
       " 14,\n",
       " 22,\n",
       " 16,\n",
       " 43,\n",
       " 530,\n",
       " 973,\n",
       " 1622,\n",
       " 1385,\n",
       " 65,\n",
       " 458,\n",
       " 4468,\n",
       " 66,\n",
       " 3941,\n",
       " 4,\n",
       " 173,\n",
       " 36,\n",
       " 256,\n",
       " 5,\n",
       " 25,\n",
       " 100,\n",
       " 43,\n",
       " 838,\n",
       " 112,\n",
       " 50,\n",
       " 670,\n",
       " 2,\n",
       " 9,\n",
       " 35,\n",
       " 480,\n",
       " 284,\n",
       " 5,\n",
       " 150,\n",
       " 4,\n",
       " 172,\n",
       " 112,\n",
       " 167,\n",
       " 2,\n",
       " 336,\n",
       " 385,\n",
       " 39,\n",
       " 4,\n",
       " 172,\n",
       " 4536,\n",
       " 1111,\n",
       " 17,\n",
       " 546,\n",
       " 38,\n",
       " 13,\n",
       " 447,\n",
       " 4,\n",
       " 192,\n",
       " 50,\n",
       " 16,\n",
       " 6,\n",
       " 147,\n",
       " 2025,\n",
       " 19,\n",
       " 14,\n",
       " 22,\n",
       " 4,\n",
       " 1920,\n",
       " 4613,\n",
       " 469,\n",
       " 4,\n",
       " 22,\n",
       " 71,\n",
       " 87,\n",
       " 12,\n",
       " 16,\n",
       " 43,\n",
       " 530,\n",
       " 38,\n",
       " 76,\n",
       " 15,\n",
       " 13,\n",
       " 1247,\n",
       " 4,\n",
       " 22,\n",
       " 17,\n",
       " 515,\n",
       " 17,\n",
       " 12,\n",
       " 16,\n",
       " 626,\n",
       " 18,\n",
       " 2,\n",
       " 5,\n",
       " 62,\n",
       " 386,\n",
       " 12,\n",
       " 8,\n",
       " 316,\n",
       " 8,\n",
       " 106,\n",
       " 5,\n",
       " 4,\n",
       " 2223,\n",
       " 5244,\n",
       " 16,\n",
       " 480,\n",
       " 66,\n",
       " 3785,\n",
       " 33,\n",
       " 4,\n",
       " 130,\n",
       " 12,\n",
       " 16,\n",
       " 38,\n",
       " 619,\n",
       " 5,\n",
       " 25,\n",
       " 124,\n",
       " 51,\n",
       " 36,\n",
       " 135,\n",
       " 48,\n",
       " 25,\n",
       " 1415,\n",
       " 33,\n",
       " 6,\n",
       " 22,\n",
       " 12,\n",
       " 215,\n",
       " 28,\n",
       " 77,\n",
       " 52,\n",
       " 5,\n",
       " 14,\n",
       " 407,\n",
       " 16,\n",
       " 82,\n",
       " 2,\n",
       " 8,\n",
       " 4,\n",
       " 107,\n",
       " 117,\n",
       " 5952,\n",
       " 15,\n",
       " 256,\n",
       " 4,\n",
       " 2,\n",
       " 7,\n",
       " 3766,\n",
       " 5,\n",
       " 723,\n",
       " 36,\n",
       " 71,\n",
       " 43,\n",
       " 530,\n",
       " 476,\n",
       " 26,\n",
       " 400,\n",
       " 317,\n",
       " 46,\n",
       " 7,\n",
       " 4,\n",
       " 2,\n",
       " 1029,\n",
       " 13,\n",
       " 104,\n",
       " 88,\n",
       " 4,\n",
       " 381,\n",
       " 15,\n",
       " 297,\n",
       " 98,\n",
       " 32,\n",
       " 2071,\n",
       " 56,\n",
       " 26,\n",
       " 141,\n",
       " 6,\n",
       " 194,\n",
       " 7486,\n",
       " 18,\n",
       " 4,\n",
       " 226,\n",
       " 22,\n",
       " 21,\n",
       " 134,\n",
       " 476,\n",
       " 26,\n",
       " 480,\n",
       " 5,\n",
       " 144,\n",
       " 30,\n",
       " 5535,\n",
       " 18,\n",
       " 51,\n",
       " 36,\n",
       " 28,\n",
       " 224,\n",
       " 92,\n",
       " 25,\n",
       " 104,\n",
       " 4,\n",
       " 226,\n",
       " 65,\n",
       " 16,\n",
       " 38,\n",
       " 1334,\n",
       " 88,\n",
       " 12,\n",
       " 16,\n",
       " 283,\n",
       " 5,\n",
       " 16,\n",
       " 4472,\n",
       " 113,\n",
       " 103,\n",
       " 32,\n",
       " 15,\n",
       " 16,\n",
       " 5345,\n",
       " 19,\n",
       " 178,\n",
       " 32]"
      ]
     },
     "execution_count": 39,
     "metadata": {},
     "output_type": "execute_result"
    }
   ],
   "source": [
    "train_data[0]"
   ]
  },
  {
   "cell_type": "code",
   "execution_count": 41,
   "id": "3fa9d9df-306a-4831-ae21-1566cabdbe10",
   "metadata": {},
   "outputs": [
    {
     "data": {
      "text/plain": [
       "1"
      ]
     },
     "execution_count": 41,
     "metadata": {},
     "output_type": "execute_result"
    }
   ],
   "source": [
    "train_labels[0]"
   ]
  },
  {
   "cell_type": "code",
   "execution_count": 44,
   "id": "31a619cf-655d-4c97-8f08-c6611e631e68",
   "metadata": {},
   "outputs": [
    {
     "data": {
      "text/plain": [
       "9999"
      ]
     },
     "execution_count": 44,
     "metadata": {},
     "output_type": "execute_result"
    }
   ],
   "source": [
    "max([max(sequence) for sequence in train_data])"
   ]
  },
  {
   "cell_type": "code",
   "execution_count": 46,
   "id": "15feb1dc-8e67-463f-9c02-c421bde3a2df",
   "metadata": {},
   "outputs": [],
   "source": [
    "import numpy as np\n",
    "\n",
    "def vectorize_sequences(sequences, dimension=10000):\n",
    "    results = np.zeros((len(sequences), dimension))\n",
    "    for i, sequence in enumerate(sequences):\n",
    "        for j in sequence:\n",
    "            results[i, j] = 1.\n",
    "    return results\n",
    "\n",
    "x_train = vectorize_sequences(train_data)\n",
    "x_test = vectorize_sequences(test_data)"
   ]
  },
  {
   "cell_type": "code",
   "execution_count": 47,
   "id": "699ffdcf-4112-4f7c-807a-e4ae2a94b7ae",
   "metadata": {},
   "outputs": [],
   "source": [
    "y_train = np.asarray(train_labels).astype('float32')\n",
    "y_test = np.asarray(test_labels).astype('float32')"
   ]
  },
  {
   "cell_type": "code",
   "execution_count": 49,
   "id": "6ec5060e-6db0-479b-9f43-e7e47463fb8e",
   "metadata": {},
   "outputs": [],
   "source": [
    "from tensorflow import keras\n",
    "from tensorflow.keras import layers\n",
    "\n",
    "model = keras.Sequential([\n",
    "    layers.Dense(16, activation='relu'),\n",
    "    layers.Dense(16, activation='relu'),\n",
    "    layers.Dense(16, activation='relu'),\n",
    "    layers.Dense(1, activation='sigmoid')\n",
    "])"
   ]
  },
  {
   "cell_type": "code",
   "execution_count": 50,
   "id": "3ff9d07d-515d-48e7-9340-1012e7266ba1",
   "metadata": {},
   "outputs": [],
   "source": [
    "model.compile(optimizer='rmsprop',\n",
    "              loss='binary_crossentropy',\n",
    "              metrics='acc')"
   ]
  },
  {
   "cell_type": "code",
   "execution_count": 52,
   "id": "04eefc01-e5d3-458e-bb15-e5312ec521f1",
   "metadata": {},
   "outputs": [],
   "source": [
    "x_val = x_train[:10000]\n",
    "partial_x_train = x_train[10000:]\n",
    "y_val = y_train[:10000]\n",
    "partial_y_train = y_train[10000:]"
   ]
  },
  {
   "cell_type": "code",
   "execution_count": 54,
   "id": "f5456841-c847-41a8-a884-2aa317fa7e5d",
   "metadata": {},
   "outputs": [
    {
     "name": "stdout",
     "output_type": "stream",
     "text": [
      "Epoch 1/20\n",
      "30/30 [==============================] - 1s 20ms/step - loss: 0.0138 - acc: 0.9959 - val_loss: 0.6520 - val_acc: 0.8673\n",
      "Epoch 2/20\n",
      "30/30 [==============================] - 0s 12ms/step - loss: 0.0026 - acc: 0.9999 - val_loss: 0.6767 - val_acc: 0.8700\n",
      "Epoch 3/20\n",
      "30/30 [==============================] - 0s 11ms/step - loss: 0.0157 - acc: 0.9951 - val_loss: 0.6934 - val_acc: 0.8693\n",
      "Epoch 4/20\n",
      "30/30 [==============================] - 0s 9ms/step - loss: 0.0018 - acc: 0.9999 - val_loss: 0.7093 - val_acc: 0.8688\n",
      "Epoch 5/20\n",
      "30/30 [==============================] - 0s 9ms/step - loss: 0.0140 - acc: 0.9962 - val_loss: 0.7410 - val_acc: 0.8702\n",
      "Epoch 6/20\n",
      "30/30 [==============================] - 0s 9ms/step - loss: 0.0015 - acc: 1.0000 - val_loss: 0.7385 - val_acc: 0.8679\n",
      "Epoch 7/20\n",
      "30/30 [==============================] - 0s 9ms/step - loss: 0.0011 - acc: 1.0000 - val_loss: 0.7628 - val_acc: 0.8680\n",
      "Epoch 8/20\n",
      "30/30 [==============================] - 0s 9ms/step - loss: 0.0117 - acc: 0.9957 - val_loss: 0.7977 - val_acc: 0.8705\n",
      "Epoch 9/20\n",
      "30/30 [==============================] - 0s 9ms/step - loss: 8.1610e-04 - acc: 1.0000 - val_loss: 0.8044 - val_acc: 0.8684\n",
      "Epoch 10/20\n",
      "30/30 [==============================] - 0s 9ms/step - loss: 6.7459e-04 - acc: 1.0000 - val_loss: 0.8282 - val_acc: 0.8664\n",
      "Epoch 11/20\n",
      "30/30 [==============================] - 0s 9ms/step - loss: 0.0148 - acc: 0.9959 - val_loss: 0.8669 - val_acc: 0.8666\n",
      "Epoch 12/20\n",
      "30/30 [==============================] - 0s 9ms/step - loss: 5.2430e-04 - acc: 1.0000 - val_loss: 0.8717 - val_acc: 0.8677\n",
      "Epoch 13/20\n",
      "30/30 [==============================] - 0s 9ms/step - loss: 4.3097e-04 - acc: 1.0000 - val_loss: 0.8833 - val_acc: 0.8678\n",
      "Epoch 14/20\n",
      "30/30 [==============================] - 0s 9ms/step - loss: 3.6884e-04 - acc: 1.0000 - val_loss: 0.9124 - val_acc: 0.8687\n",
      "Epoch 15/20\n",
      "30/30 [==============================] - 0s 9ms/step - loss: 0.0138 - acc: 0.9957 - val_loss: 0.9413 - val_acc: 0.8680\n",
      "Epoch 16/20\n",
      "30/30 [==============================] - 0s 9ms/step - loss: 3.3609e-04 - acc: 1.0000 - val_loss: 0.9359 - val_acc: 0.8680\n",
      "Epoch 17/20\n",
      "30/30 [==============================] - 0s 9ms/step - loss: 2.6979e-04 - acc: 1.0000 - val_loss: 0.9477 - val_acc: 0.8682\n",
      "Epoch 18/20\n",
      "30/30 [==============================] - 0s 9ms/step - loss: 2.3149e-04 - acc: 1.0000 - val_loss: 0.9741 - val_acc: 0.8669\n",
      "Epoch 19/20\n",
      "30/30 [==============================] - 0s 9ms/step - loss: 1.7875e-04 - acc: 1.0000 - val_loss: 1.0346 - val_acc: 0.8688\n",
      "Epoch 20/20\n",
      "30/30 [==============================] - 0s 8ms/step - loss: 4.4686e-04 - acc: 0.9999 - val_loss: 1.2763 - val_acc: 0.8431\n"
     ]
    }
   ],
   "source": [
    "history = model.fit(partial_x_train,\n",
    "          partial_y_train,\n",
    "          epochs=20,\n",
    "          batch_size=512,\n",
    "          validation_data=(x_val, y_val))"
   ]
  },
  {
   "cell_type": "code",
   "execution_count": 55,
   "id": "a3b0b32d-fd4e-41d6-a788-306cc2c63bd7",
   "metadata": {},
   "outputs": [
    {
     "data": {
      "text/plain": [
       "dict_keys(['loss', 'acc', 'val_loss', 'val_acc'])"
      ]
     },
     "execution_count": 55,
     "metadata": {},
     "output_type": "execute_result"
    }
   ],
   "source": [
    "history_dict = history.history\n",
    "history_dict.keys()"
   ]
  },
  {
   "cell_type": "code",
   "execution_count": 56,
   "id": "1ac515c6-2abe-428e-947b-fc3611019475",
   "metadata": {},
   "outputs": [
    {
     "data": {
      "image/png": "[encoded data removed]",
      "text/plain": [
       "<Figure size 640x480 with 1 Axes>"
      ]
     },
     "metadata": {},
     "output_type": "display_data"
    }
   ],
   "source": [
    "import matplotlib.pyplot as plt\n",
    "\n",
    "loss = history_dict['loss']\n",
    "val_loss = history_dict['val_loss']\n",
    "epochs = range(1, len(loss) + 1)\n",
    "plt.plot(epochs, loss, 'bo', label='Training loss')\n",
    "plt.plot(epochs, val_loss, 'b', label='Validation loss')\n",
    "plt.title('Training and validation loss')\n",
    "plt.xlabel('Epochs')\n",
    "plt.ylabel('Loss')\n",
    "plt.legend()\n",
    "plt.show()"
   ]
  },
  {
   "cell_type": "code",
   "execution_count": 57,
   "id": "3722cd37-dd44-431d-aa97-1be708114e1f",
   "metadata": {},
   "outputs": [
    {
     "data": {
      "image/png": "[encoded data removed]",
      "text/plain": [
       "<Figure size 640x480 with 1 Axes>"
      ]
     },
     "metadata": {},
     "output_type": "display_data"
    }
   ],
   "source": [
    "plt.clf()\n",
    "acc = history_dict['acc']\n",
    "val_acc = history_dict['val_acc']\n",
    "plt.plot(epochs, acc, 'bo', label='Training acc')\n",
    "plt.plot(epochs, val_acc, 'b', label='Validation acc')\n",
    "plt.title('Training and validation acc')\n",
    "plt.xlabel('Epochs')\n",
    "plt.ylabel('Accuracy')\n",
    "plt.legend()\n",
    "plt.show()"
   ]
  },
  {
   "cell_type": "code",
   "execution_count": 58,
   "id": "bf73d36f-eb66-42fb-8093-bdab36df6913",
   "metadata": {},
   "outputs": [],
   "source": [
    "model = keras.Sequential([\n",
    "    layers.Dense(16, activation='relu'),\n",
    "    layers.Dense(16, activation='relu'),\n",
    "    layers.Dense(16, activation='relu'),\n",
    "    layers.Dense(1, activation='sigmoid')\n",
    "])"
   ]
  },
  {
   "cell_type": "code",
   "execution_count": 59,
   "id": "518f82a1-1f8c-41dc-a672-cff82fcb007f",
   "metadata": {},
   "outputs": [],
   "source": [
    "model.compile(optimizer='rmsprop',\n",
    "              loss='binary_crossentropy',\n",
    "              metrics='acc')"
   ]
  },
  {
   "cell_type": "code",
   "execution_count": 60,
   "id": "98cd2385-0d35-4778-b9b9-4fd29b0d2c41",
   "metadata": {},
   "outputs": [
    {
     "name": "stdout",
     "output_type": "stream",
     "text": [
      "49/49 [==============================] - 1s 5ms/step - loss: 0.4959 - acc: 0.7913\n"
     ]
    },
    {
     "data": {
      "text/plain": [
       "<keras.callbacks.History at 0x20c9a37cb20>"
      ]
     },
     "execution_count": 60,
     "metadata": {},
     "output_type": "execute_result"
    }
   ],
   "source": [
    "model.fit(x_train, y_train, epochs=1, batch_size=512)"
   ]
  },
  {
   "cell_type": "code",
   "execution_count": 61,
   "id": "09546c83-b353-4edd-8674-aea19e5a12fe",
   "metadata": {},
   "outputs": [
    {
     "name": "stdout",
     "output_type": "stream",
     "text": [
      "782/782 [==============================] - 1s 748us/step - loss: 0.3474 - acc: 0.8725\n"
     ]
    },
    {
     "data": {
      "text/plain": [
       "[0.34738442301750183, 0.8724799752235413]"
      ]
     },
     "execution_count": 61,
     "metadata": {},
     "output_type": "execute_result"
    }
   ],
   "source": [
    "model.evaluate(x_test, y_test)"
   ]
  },
  {
   "cell_type": "markdown",
   "id": "29736910-8c0f-46de-8527-c22637f03d5e",
   "metadata": {},
   "source": [
    "---------------------"
   ]
  },
  {
   "cell_type": "markdown",
   "id": "847d09c8-7838-4765-a9d7-3f09dcfada2f",
   "metadata": {},
   "source": [
    "2. 층의 유닛을 추가하거나 줄여 보자. 32개의 유닛, 64개의 유닛 등"
   ]
  },
  {
   "cell_type": "code",
   "execution_count": 64,
   "id": "36510135-eac9-41ed-ad59-6ff9b866aa45",
   "metadata": {},
   "outputs": [],
   "source": [
    "from tensorflow.keras.datasets import imdb\n",
    "\n",
    "(train_data, train_labels), (test_data, test_labels) = imdb.load_data(num_words=10000)"
   ]
  },
  {
   "cell_type": "code",
   "execution_count": 65,
   "id": "e8944a1f-650c-4cd8-8050-8e19ec8bd473",
   "metadata": {},
   "outputs": [],
   "source": [
    "def vectorize_sequences(sequences, dimension=10000):\n",
    "    results = np.zeros((len(sequences), dimension))\n",
    "    for i, sequence in enumerate(sequences):\n",
    "        for j in sequence:\n",
    "            results[i ,j] = 1.\n",
    "    return results\n",
    "\n",
    "x_train = vectorize_sequences(train_data)\n",
    "x_test = vectorize_sequences(test_data)"
   ]
  },
  {
   "cell_type": "code",
   "execution_count": 66,
   "id": "17be5763-677e-4960-87b8-767fb84bbcba",
   "metadata": {},
   "outputs": [],
   "source": [
    "y_train = np.asarray(train_labels).astype('float32')\n",
    "y_test = np.asarray(test_labels).astype('float32')"
   ]
  },
  {
   "cell_type": "code",
   "execution_count": 67,
   "id": "38f43a5e-2eda-4414-bb77-20d6cd65f551",
   "metadata": {},
   "outputs": [],
   "source": [
    "from tensorflow import keras\n",
    "from tensorflow.keras import layers\n",
    "\n",
    "model = keras.Sequential([\n",
    "    layers.Dense(32, activation='relu'),\n",
    "    layers.Dense(32, activation='relu'),\n",
    "    layers.Dense(1, activation='sigmoid')\n",
    "])"
   ]
  },
  {
   "cell_type": "code",
   "execution_count": 68,
   "id": "4a1ae880-a847-41db-b441-9fa1286f964b",
   "metadata": {},
   "outputs": [],
   "source": [
    "model.compile(optimizer='rmsprop',\n",
    "              loss='binary_crossentropy',\n",
    "              metrics='acc')"
   ]
  },
  {
   "cell_type": "code",
   "execution_count": 69,
   "id": "3930b339-8895-4c9e-ac99-a9131358a87e",
   "metadata": {},
   "outputs": [],
   "source": [
    "x_val = x_train[:10000]\n",
    "partial_x_train = x_train[10000:]\n",
    "y_val = y_train[:10000]\n",
    "parial_y_train = y_train[10000:]"
   ]
  },
  {
   "cell_type": "code",
   "execution_count": 71,
   "id": "2d1874b4-884f-47ac-b4b0-85f5e7a2f738",
   "metadata": {},
   "outputs": [
    {
     "name": "stdout",
     "output_type": "stream",
     "text": [
      "Epoch 1/20\n",
      "30/30 [==============================] - 1s 17ms/step - loss: 0.0192 - acc: 0.9935 - val_loss: 0.6090 - val_acc: 0.8739\n",
      "Epoch 2/20\n",
      "30/30 [==============================] - 0s 11ms/step - loss: 0.0033 - acc: 1.0000 - val_loss: 0.6351 - val_acc: 0.8722\n",
      "Epoch 3/20\n",
      "30/30 [==============================] - 0s 11ms/step - loss: 0.0201 - acc: 0.9943 - val_loss: 0.6982 - val_acc: 0.8693\n",
      "Epoch 4/20\n",
      "30/30 [==============================] - 0s 11ms/step - loss: 0.0028 - acc: 1.0000 - val_loss: 0.6652 - val_acc: 0.8726\n",
      "Epoch 5/20\n",
      "30/30 [==============================] - 0s 11ms/step - loss: 0.0019 - acc: 1.0000 - val_loss: 0.6902 - val_acc: 0.8718\n",
      "Epoch 6/20\n",
      "30/30 [==============================] - 0s 9ms/step - loss: 0.0127 - acc: 0.9958 - val_loss: 0.7203 - val_acc: 0.8700\n",
      "Epoch 7/20\n",
      "30/30 [==============================] - 0s 10ms/step - loss: 0.0014 - acc: 1.0000 - val_loss: 0.7276 - val_acc: 0.8715\n",
      "Epoch 8/20\n",
      "30/30 [==============================] - 0s 10ms/step - loss: 0.0011 - acc: 1.0000 - val_loss: 0.7513 - val_acc: 0.8709\n",
      "Epoch 9/20\n",
      "30/30 [==============================] - 0s 10ms/step - loss: 0.0141 - acc: 0.9955 - val_loss: 0.7668 - val_acc: 0.8697\n",
      "Epoch 10/20\n",
      "30/30 [==============================] - 0s 9ms/step - loss: 9.0777e-04 - acc: 1.0000 - val_loss: 0.7774 - val_acc: 0.8697\n",
      "Epoch 11/20\n",
      "30/30 [==============================] - 0s 10ms/step - loss: 7.7740e-04 - acc: 1.0000 - val_loss: 0.7984 - val_acc: 0.8701\n",
      "Epoch 12/20\n",
      "30/30 [==============================] - 0s 10ms/step - loss: 0.0111 - acc: 0.9959 - val_loss: 0.8093 - val_acc: 0.8704\n",
      "Epoch 13/20\n",
      "30/30 [==============================] - 0s 10ms/step - loss: 6.9503e-04 - acc: 1.0000 - val_loss: 0.8173 - val_acc: 0.8709\n",
      "Epoch 14/20\n",
      "30/30 [==============================] - 0s 10ms/step - loss: 5.7740e-04 - acc: 1.0000 - val_loss: 0.8410 - val_acc: 0.8706\n",
      "Epoch 15/20\n",
      "30/30 [==============================] - 0s 10ms/step - loss: 4.8491e-04 - acc: 1.0000 - val_loss: 0.9031 - val_acc: 0.8685\n",
      "Epoch 16/20\n",
      "30/30 [==============================] - 0s 10ms/step - loss: 0.0116 - acc: 0.9965 - val_loss: 0.8625 - val_acc: 0.8700\n",
      "Epoch 17/20\n",
      "30/30 [==============================] - 0s 10ms/step - loss: 4.3032e-04 - acc: 1.0000 - val_loss: 0.8752 - val_acc: 0.8714\n",
      "Epoch 18/20\n",
      "30/30 [==============================] - 0s 10ms/step - loss: 3.6692e-04 - acc: 1.0000 - val_loss: 0.8962 - val_acc: 0.8706\n",
      "Epoch 19/20\n",
      "30/30 [==============================] - 0s 10ms/step - loss: 3.0679e-04 - acc: 1.0000 - val_loss: 0.9193 - val_acc: 0.8701\n",
      "Epoch 20/20\n",
      "30/30 [==============================] - 0s 9ms/step - loss: 2.5491e-04 - acc: 1.0000 - val_loss: 0.9442 - val_acc: 0.8698\n"
     ]
    }
   ],
   "source": [
    "history = model.fit(partial_x_train,\n",
    "                    partial_y_train,\n",
    "                    epochs=20,\n",
    "                    batch_size=512,\n",
    "                    validation_data=(x_val, y_val))"
   ]
  },
  {
   "cell_type": "code",
   "execution_count": 73,
   "id": "803e2b40-29c4-416d-9288-6550fd365f23",
   "metadata": {},
   "outputs": [
    {
     "data": {
      "text/plain": [
       "dict_keys(['loss', 'acc', 'val_loss', 'val_acc'])"
      ]
     },
     "execution_count": 73,
     "metadata": {},
     "output_type": "execute_result"
    }
   ],
   "source": [
    "history_dict = history.history\n",
    "history_dict.keys()"
   ]
  },
  {
   "cell_type": "code",
   "execution_count": 75,
   "id": "67aba55f-d088-4091-9671-ffcd89ee3179",
   "metadata": {},
   "outputs": [
    {
     "data": {
      "image/png": "[encoded data removed]",
      "text/plain": [
       "<Figure size 640x480 with 1 Axes>"
      ]
     },
     "metadata": {},
     "output_type": "display_data"
    }
   ],
   "source": [
    "import matplotlib.pyplot as plt\n",
    "\n",
    "loss = history_dict['loss']\n",
    "val_loss = history_dict['val_loss']\n",
    "epochs = range(1, len(loss) + 1)\n",
    "plt.plot(epochs, loss, 'bo', label='Training loss')\n",
    "plt.plot(epochs, val_loss, 'b', label='Validation loss')\n",
    "plt.title('Training and validation loss')\n",
    "plt.xlabel('Epochs')\n",
    "plt.ylabel('Loss')\n",
    "plt.legend()\n",
    "plt.show()"
   ]
  },
  {
   "cell_type": "code",
   "execution_count": 76,
   "id": "0240b3d3-2c3f-47b3-8373-f71202efd6ab",
   "metadata": {},
   "outputs": [
    {
     "data": {
      "image/png": "[encoded data removed]",
      "text/plain": [
       "<Figure size 640x480 with 1 Axes>"
      ]
     },
     "metadata": {},
     "output_type": "display_data"
    }
   ],
   "source": [
    "plt.clf()\n",
    "acc = history_dict['acc']\n",
    "val_acc = history_dict['val_acc']\n",
    "plt.plot(epochs, acc, 'bo', label='Training acc')\n",
    "plt.plot(epochs, val_acc, 'b', label='Validation acc')\n",
    "plt.title('Training and validation accuracy')\n",
    "plt.xlabel('Epochs')\n",
    "plt.ylabel('Accuracy')\n",
    "plt.legend()\n",
    "plt.show()"
   ]
  },
  {
   "cell_type": "markdown",
   "id": "7073df4c-cba2-4114-b379-d07642ff142f",
   "metadata": {},
   "source": [
    "------------"
   ]
  },
  {
   "cell_type": "code",
   "execution_count": 77,
   "id": "5346b8ea-c4a5-4bda-b516-0999261e29be",
   "metadata": {},
   "outputs": [],
   "source": [
    "model = keras.Sequential([\n",
    "    layers.Dense(64, activation='relu'),\n",
    "    layers.Dense(64, activation='relu'),\n",
    "    layers.Dense(1, activation='sigmoid')\n",
    "])"
   ]
  },
  {
   "cell_type": "code",
   "execution_count": 78,
   "id": "728efabe-9bf2-433c-9405-c32a79a4e0e5",
   "metadata": {},
   "outputs": [],
   "source": [
    "model.compile(optimizer='rmsprop',\n",
    "              loss='binary_crossentropy',\n",
    "              metrics='acc')"
   ]
  },
  {
   "cell_type": "code",
   "execution_count": 79,
   "id": "996e2814-5ae3-41c1-a64e-b645d22593a5",
   "metadata": {},
   "outputs": [
    {
     "name": "stdout",
     "output_type": "stream",
     "text": [
      "Epoch 1/20\n",
      "30/30 [==============================] - 1s 26ms/step - loss: 0.5104 - acc: 0.7586 - val_loss: 0.3539 - val_acc: 0.8688\n",
      "Epoch 2/20\n",
      "30/30 [==============================] - 0s 16ms/step - loss: 0.3051 - acc: 0.8853 - val_loss: 0.2917 - val_acc: 0.8849\n",
      "Epoch 3/20\n",
      "30/30 [==============================] - 0s 14ms/step - loss: 0.2334 - acc: 0.9115 - val_loss: 0.3080 - val_acc: 0.8746\n",
      "Epoch 4/20\n",
      "30/30 [==============================] - 0s 14ms/step - loss: 0.1896 - acc: 0.9279 - val_loss: 0.3034 - val_acc: 0.8796\n",
      "Epoch 5/20\n",
      "30/30 [==============================] - 0s 14ms/step - loss: 0.1611 - acc: 0.9415 - val_loss: 0.2978 - val_acc: 0.8808\n",
      "Epoch 6/20\n",
      "30/30 [==============================] - 0s 14ms/step - loss: 0.1332 - acc: 0.9533 - val_loss: 0.2982 - val_acc: 0.8852\n",
      "Epoch 7/20\n",
      "30/30 [==============================] - 0s 14ms/step - loss: 0.1161 - acc: 0.9565 - val_loss: 0.3099 - val_acc: 0.8839\n",
      "Epoch 8/20\n",
      "30/30 [==============================] - 0s 14ms/step - loss: 0.0847 - acc: 0.9725 - val_loss: 0.3333 - val_acc: 0.8823\n",
      "Epoch 9/20\n",
      "30/30 [==============================] - 0s 15ms/step - loss: 0.0725 - acc: 0.9769 - val_loss: 0.3574 - val_acc: 0.8831\n",
      "Epoch 10/20\n",
      "30/30 [==============================] - 0s 14ms/step - loss: 0.0664 - acc: 0.9775 - val_loss: 0.3758 - val_acc: 0.8814\n",
      "Epoch 11/20\n",
      "30/30 [==============================] - 0s 14ms/step - loss: 0.0538 - acc: 0.9837 - val_loss: 0.4000 - val_acc: 0.8790\n",
      "Epoch 12/20\n",
      "30/30 [==============================] - 0s 14ms/step - loss: 0.0446 - acc: 0.9873 - val_loss: 0.4171 - val_acc: 0.8769\n",
      "Epoch 13/20\n",
      "30/30 [==============================] - 0s 14ms/step - loss: 0.0171 - acc: 0.9986 - val_loss: 0.5193 - val_acc: 0.8687\n",
      "Epoch 14/20\n",
      "30/30 [==============================] - 0s 15ms/step - loss: 0.0334 - acc: 0.9914 - val_loss: 0.4887 - val_acc: 0.8756\n",
      "Epoch 15/20\n",
      "30/30 [==============================] - 0s 15ms/step - loss: 0.0393 - acc: 0.9877 - val_loss: 0.4872 - val_acc: 0.8752\n",
      "Epoch 16/20\n",
      "30/30 [==============================] - 0s 15ms/step - loss: 0.0073 - acc: 0.9998 - val_loss: 0.5249 - val_acc: 0.8748\n",
      "Epoch 17/20\n",
      "30/30 [==============================] - 0s 15ms/step - loss: 0.0327 - acc: 0.9903 - val_loss: 0.5248 - val_acc: 0.8752\n",
      "Epoch 18/20\n",
      "30/30 [==============================] - 0s 14ms/step - loss: 0.0045 - acc: 0.9999 - val_loss: 0.5595 - val_acc: 0.8748\n",
      "Epoch 19/20\n",
      "30/30 [==============================] - 0s 14ms/step - loss: 0.0443 - acc: 0.9878 - val_loss: 0.5611 - val_acc: 0.8752\n",
      "Epoch 20/20\n",
      "30/30 [==============================] - 0s 13ms/step - loss: 0.0031 - acc: 0.9999 - val_loss: 0.5894 - val_acc: 0.8742\n"
     ]
    }
   ],
   "source": [
    "history = model.fit(partial_x_train,\n",
    "                    partial_y_train,\n",
    "                    epochs=20,\n",
    "                    batch_size=512,\n",
    "                    validation_data=(x_val, y_val))"
   ]
  },
  {
   "cell_type": "code",
   "execution_count": 80,
   "id": "7ce50b17-9cdb-4a0a-a898-cf1d88439533",
   "metadata": {},
   "outputs": [],
   "source": [
    "history_dict = history.history"
   ]
  },
  {
   "cell_type": "code",
   "execution_count": 81,
   "id": "15e92829-b4b1-4b89-8d73-7a639811759c",
   "metadata": {},
   "outputs": [
    {
     "data": {
      "image/png": "[encoded data removed]",
      "text/plain": [
       "<Figure size 640x480 with 1 Axes>"
      ]
     },
     "metadata": {},
     "output_type": "display_data"
    }
   ],
   "source": [
    "loss = history_dict['loss']\n",
    "val_loss = history_dict['val_loss']\n",
    "epochs = range(1, len(loss) + 1)\n",
    "plt.plot(epochs, loss, 'bo', label='Training loss')\n",
    "plt.plot(epochs, val_loss, 'b', label='Validation loss')\n",
    "plt.title('Training and validation loss')\n",
    "plt.xlabel('Epochs')\n",
    "plt.ylabel('Loss')\n",
    "plt.legend()\n",
    "plt.show()"
   ]
  },
  {
   "cell_type": "code",
   "execution_count": 82,
   "id": "d533edd3-dac7-421f-b72d-199b75fd0945",
   "metadata": {},
   "outputs": [
    {
     "data": {
      "image/png": "[encoded data removed]",
      "text/plain": [
       "<Figure size 640x480 with 1 Axes>"
      ]
     },
     "metadata": {},
     "output_type": "display_data"
    }
   ],
   "source": [
    "plt.clf()\n",
    "acc = history_dict['acc']\n",
    "val_acc = history_dict['val_acc']\n",
    "plt.plot(epochs, acc, 'bo', label='Training acc')\n",
    "plt.plot(epochs, val_acc, 'b', label='Validation acc')\n",
    "plt.title('Training and validation accuracy')\n",
    "plt.xlabel('Epochs')\n",
    "plt.ylabel('Accuracy')\n",
    "plt.legend()\n",
    "plt.show()"
   ]
  },
  {
   "cell_type": "code",
   "execution_count": 83,
   "id": "9ce8a35d-931c-489d-820f-2e24c4cdb095",
   "metadata": {},
   "outputs": [],
   "source": [
    "model = keras.Sequential([\n",
    "    layers.Dense(64, activation='relu'),\n",
    "    layers.Dense(64, activation='relu'),\n",
    "    layers.Dense(1, activation='sigmoid')\n",
    "])\n",
    "\n",
    "model.compile(optimizer='rmsprop',\n",
    "              loss='binary_crossentropy',\n",
    "              metrics='acc')"
   ]
  },
  {
   "cell_type": "code",
   "execution_count": 84,
   "id": "8522a5b2-f3c7-4147-ba8c-4ad9049f0c7f",
   "metadata": {},
   "outputs": [
    {
     "name": "stdout",
     "output_type": "stream",
     "text": [
      "Epoch 1/2\n",
      "30/30 [==============================] - 1s 21ms/step - loss: 0.5122 - acc: 0.7663 - val_loss: 0.3543 - val_acc: 0.8752\n",
      "Epoch 2/2\n",
      "30/30 [==============================] - 0s 12ms/step - loss: 0.3010 - acc: 0.8881 - val_loss: 0.2884 - val_acc: 0.8885\n"
     ]
    },
    {
     "data": {
      "text/plain": [
       "<keras.callbacks.History at 0x20c9d579a60>"
      ]
     },
     "execution_count": 84,
     "metadata": {},
     "output_type": "execute_result"
    }
   ],
   "source": [
    "model.fit(partial_x_train,\n",
    "          partial_y_train,\n",
    "          epochs=2,\n",
    "          batch_size=512,\n",
    "          validation_data=(x_val, y_val))"
   ]
  },
  {
   "cell_type": "code",
   "execution_count": 86,
   "id": "bc3f8e0d-f9f9-4991-8dbe-201680e472ed",
   "metadata": {},
   "outputs": [
    {
     "name": "stdout",
     "output_type": "stream",
     "text": [
      "782/782 [==============================] - 1s 810us/step - loss: 0.2999 - acc: 0.8823\n"
     ]
    },
    {
     "data": {
      "text/plain": [
       "[0.2999005615711212, 0.882319986820221]"
      ]
     },
     "execution_count": 86,
     "metadata": {},
     "output_type": "execute_result"
    }
   ],
   "source": [
    "model.evaluate(x_test, y_test)"
   ]
  },
  {
   "cell_type": "markdown",
   "id": "aa11938b-ac2f-462d-b7fb-871bb67a969a",
   "metadata": {},
   "source": [
    "---------------"
   ]
  },
  {
   "cell_type": "markdown",
   "id": "9e859c0d-4807-4694-a50e-c04f54a521fc",
   "metadata": {},
   "source": [
    "3. binary_crossentropy 대신 mse 손실 함수를 사용해보자."
   ]
  },
  {
   "cell_type": "code",
   "execution_count": 90,
   "id": "b403290e-ea94-4634-bba9-d6a766655689",
   "metadata": {},
   "outputs": [
    {
     "name": "stdout",
     "output_type": "stream",
     "text": [
      "Epoch 1/20\n",
      "30/30 [==============================] - 1s 17ms/step - loss: 0.1837 - acc: 0.7675 - val_loss: 0.1432 - val_acc: 0.8280\n",
      "Epoch 2/20\n",
      "30/30 [==============================] - 0s 8ms/step - loss: 0.1063 - acc: 0.8864 - val_loss: 0.0998 - val_acc: 0.8803\n",
      "Epoch 3/20\n",
      "30/30 [==============================] - 0s 8ms/step - loss: 0.0782 - acc: 0.9132 - val_loss: 0.0895 - val_acc: 0.8868\n",
      "Epoch 4/20\n",
      "30/30 [==============================] - 0s 8ms/step - loss: 0.0638 - acc: 0.9304 - val_loss: 0.0846 - val_acc: 0.8872\n",
      "Epoch 5/20\n",
      "30/30 [==============================] - 0s 9ms/step - loss: 0.0540 - acc: 0.9409 - val_loss: 0.0874 - val_acc: 0.8824\n",
      "Epoch 6/20\n",
      "30/30 [==============================] - 0s 10ms/step - loss: 0.0474 - acc: 0.9486 - val_loss: 0.0839 - val_acc: 0.8849\n",
      "Epoch 7/20\n",
      "30/30 [==============================] - 0s 9ms/step - loss: 0.0403 - acc: 0.9587 - val_loss: 0.0872 - val_acc: 0.8819\n",
      "Epoch 8/20\n",
      "30/30 [==============================] - 0s 9ms/step - loss: 0.0362 - acc: 0.9631 - val_loss: 0.0867 - val_acc: 0.8802\n",
      "Epoch 9/20\n",
      "30/30 [==============================] - 0s 9ms/step - loss: 0.0315 - acc: 0.9692 - val_loss: 0.0854 - val_acc: 0.8823\n",
      "Epoch 10/20\n",
      "30/30 [==============================] - 0s 8ms/step - loss: 0.0287 - acc: 0.9721 - val_loss: 0.0900 - val_acc: 0.8773\n",
      "Epoch 11/20\n",
      "30/30 [==============================] - 0s 9ms/step - loss: 0.0251 - acc: 0.9755 - val_loss: 0.0882 - val_acc: 0.8800\n",
      "Epoch 12/20\n",
      "30/30 [==============================] - 0s 9ms/step - loss: 0.0224 - acc: 0.9805 - val_loss: 0.1033 - val_acc: 0.8611\n",
      "Epoch 13/20\n",
      "30/30 [==============================] - 0s 9ms/step - loss: 0.0209 - acc: 0.9817 - val_loss: 0.1193 - val_acc: 0.8442\n",
      "Epoch 14/20\n",
      "30/30 [==============================] - 0s 9ms/step - loss: 0.0192 - acc: 0.9835 - val_loss: 0.0922 - val_acc: 0.8768\n",
      "Epoch 15/20\n",
      "30/30 [==============================] - 0s 9ms/step - loss: 0.0162 - acc: 0.9874 - val_loss: 0.0939 - val_acc: 0.8764\n",
      "Epoch 16/20\n",
      "30/30 [==============================] - 0s 8ms/step - loss: 0.0150 - acc: 0.9884 - val_loss: 0.0949 - val_acc: 0.8748\n",
      "Epoch 17/20\n",
      "30/30 [==============================] - 0s 8ms/step - loss: 0.0134 - acc: 0.9891 - val_loss: 0.0964 - val_acc: 0.8756\n",
      "Epoch 18/20\n",
      "30/30 [==============================] - 0s 9ms/step - loss: 0.0136 - acc: 0.9885 - val_loss: 0.0972 - val_acc: 0.8748\n",
      "Epoch 19/20\n",
      "30/30 [==============================] - 0s 9ms/step - loss: 0.0119 - acc: 0.9903 - val_loss: 0.0991 - val_acc: 0.8740\n",
      "Epoch 20/20\n",
      "30/30 [==============================] - 0s 8ms/step - loss: 0.0106 - acc: 0.9915 - val_loss: 0.0988 - val_acc: 0.8755\n"
     ]
    },
    {
     "data": {
      "image/png": "[encoded data removed]",
      "text/plain": [
       "<Figure size 640x480 with 1 Axes>"
      ]
     },
     "metadata": {},
     "output_type": "display_data"
    }
   ],
   "source": [
    "(train_data, train_labels), (test_data, test_labels) = imdb.load_data(num_words=10000)\n",
    "\n",
    "x_train = vectorize_sequences(train_data)\n",
    "x_test = vectorize_sequences(test_data)\n",
    "\n",
    "y_train = np.asarray(train_labels).astype('float32')\n",
    "y_test = np.asarray(test_labels).astype('float32')\n",
    "\n",
    "model = keras.Sequential([\n",
    "    layers.Dense(16, activation='relu'),\n",
    "    layers.Dense(16, activation='relu'),\n",
    "    layers.Dense(1, activation='sigmoid')\n",
    "])\n",
    "\n",
    "model.compile(optimizer='rmsprop',\n",
    "              loss='mse',\n",
    "              metrics='acc')\n",
    "\n",
    "x_val = x_train[:10000]\n",
    "partial_x_train = x_train[10000:]\n",
    "y_val = y_train[:10000]\n",
    "partial_y_train = y_train[10000:]\n",
    "\n",
    "history = model.fit(partial_x_train,\n",
    "                    partial_y_train,\n",
    "                    epochs=20,\n",
    "                    batch_size=512,\n",
    "                    validation_data=(x_val, y_val))\n",
    "\n",
    "history_dict = history.history\n",
    "loss = history_dict['loss']\n",
    "val_loss = history_dict['val_loss']\n",
    "epochs = range(1, len(loss) + 1)\n",
    "plt.plot(epochs, loss, 'bo', label='Training loss')\n",
    "plt.plot(epochs, val_loss, 'b', label='Validation loss')\n",
    "plt.title('Training and validation loss')\n",
    "plt.xlabel('Epochs')\n",
    "plt.ylabel('Loss')\n",
    "plt.legend()\n",
    "plt.show()"
   ]
  },
  {
   "cell_type": "code",
   "execution_count": 91,
   "id": "5adf0a90-2aee-47ec-9c99-e444c1856e8c",
   "metadata": {},
   "outputs": [
    {
     "data": {
      "image/png": "[encoded data removed]",
      "text/plain": [
       "<Figure size 640x480 with 1 Axes>"
      ]
     },
     "metadata": {},
     "output_type": "display_data"
    }
   ],
   "source": [
    "plt.clf()\n",
    "acc = history_dict['acc']\n",
    "val_acc = history_dict['val_acc']\n",
    "plt.plot(epochs, acc, 'bo', label='Training acc')\n",
    "plt.plot(epochs, val_acc, 'b', label='Validation acc')\n",
    "plt.title('Training and validation accuracy')\n",
    "plt.xlabel('Epochs')\n",
    "plt.ylabel('Accuracy')\n",
    "plt.legend()\n",
    "plt.show()"
   ]
  },
  {
   "cell_type": "code",
   "execution_count": 92,
   "id": "c411ac6d-8fba-4288-9a78-fd57d1c77871",
   "metadata": {},
   "outputs": [
    {
     "name": "stdout",
     "output_type": "stream",
     "text": [
      "Epoch 1/4\n",
      "30/30 [==============================] - 1s 16ms/step - loss: 0.1851 - acc: 0.7671 - val_loss: 0.1394 - val_acc: 0.8448\n",
      "Epoch 2/4\n",
      "30/30 [==============================] - 0s 9ms/step - loss: 0.1088 - acc: 0.8866 - val_loss: 0.1027 - val_acc: 0.8784\n",
      "Epoch 3/4\n",
      "30/30 [==============================] - 0s 9ms/step - loss: 0.0807 - acc: 0.9113 - val_loss: 0.0920 - val_acc: 0.8834\n",
      "Epoch 4/4\n",
      "30/30 [==============================] - 0s 8ms/step - loss: 0.0654 - acc: 0.9279 - val_loss: 0.0979 - val_acc: 0.8690\n",
      "782/782 [==============================] - 1s 763us/step - loss: 0.1031 - acc: 0.8619\n"
     ]
    },
    {
     "data": {
      "text/plain": [
       "[0.10305329412221909, 0.8619199991226196]"
      ]
     },
     "execution_count": 92,
     "metadata": {},
     "output_type": "execute_result"
    }
   ],
   "source": [
    "model = keras.Sequential([\n",
    "    layers.Dense(16, activation='relu'),\n",
    "    layers.Dense(16, activation='relu'),\n",
    "    layers.Dense(1, activation='sigmoid')\n",
    "])\n",
    "\n",
    "model.compile(optimizer='rmsprop',\n",
    "              loss='mse',\n",
    "              metrics='acc')\n",
    "\n",
    "model.fit(partial_x_train,\n",
    "          partial_y_train,\n",
    "          epochs=4,\n",
    "          batch_size=512,\n",
    "          validation_data=(x_val, y_val))\n",
    "\n",
    "model.evaluate(x_test, y_test)"
   ]
  },
  {
   "cell_type": "markdown",
   "id": "0a36446b-b98a-49e7-9fcc-a1cd420c045d",
   "metadata": {},
   "source": [
    "---------------"
   ]
  },
  {
   "cell_type": "markdown",
   "id": "58c4255c-4717-4b9c-918b-3e306d23158e",
   "metadata": {},
   "source": [
    "4. relu 대신 tanh 활성화 함수를 사용해보자."
   ]
  },
  {
   "cell_type": "code",
   "execution_count": 93,
   "id": "c4d0ca0a-a12d-4670-a37c-d2307f1ed978",
   "metadata": {},
   "outputs": [
    {
     "name": "stdout",
     "output_type": "stream",
     "text": [
      "Epoch 1/20\n",
      "30/30 [==============================] - 1s 21ms/step - loss: 0.4822 - acc: 0.7953 - val_loss: 0.3707 - val_acc: 0.8624\n",
      "Epoch 2/20\n",
      "30/30 [==============================] - 0s 10ms/step - loss: 0.2859 - acc: 0.9011 - val_loss: 0.2913 - val_acc: 0.8858\n",
      "Epoch 3/20\n",
      "30/30 [==============================] - 0s 10ms/step - loss: 0.2103 - acc: 0.9266 - val_loss: 0.2867 - val_acc: 0.8822\n",
      "Epoch 4/20\n",
      "30/30 [==============================] - 0s 10ms/step - loss: 0.1645 - acc: 0.9439 - val_loss: 0.2785 - val_acc: 0.8878\n",
      "Epoch 5/20\n",
      "30/30 [==============================] - 0s 10ms/step - loss: 0.1323 - acc: 0.9565 - val_loss: 0.2953 - val_acc: 0.8849\n",
      "Epoch 6/20\n",
      "30/30 [==============================] - 0s 9ms/step - loss: 0.1123 - acc: 0.9613 - val_loss: 0.3183 - val_acc: 0.8810\n",
      "Epoch 7/20\n",
      "30/30 [==============================] - 0s 10ms/step - loss: 0.0864 - acc: 0.9719 - val_loss: 0.3470 - val_acc: 0.8788\n",
      "Epoch 8/20\n",
      "30/30 [==============================] - 0s 10ms/step - loss: 0.0686 - acc: 0.9803 - val_loss: 0.4784 - val_acc: 0.8510\n",
      "Epoch 9/20\n",
      "30/30 [==============================] - 0s 10ms/step - loss: 0.0622 - acc: 0.9807 - val_loss: 0.4521 - val_acc: 0.8647\n",
      "Epoch 10/20\n",
      "30/30 [==============================] - 0s 9ms/step - loss: 0.0524 - acc: 0.9836 - val_loss: 0.4523 - val_acc: 0.8691\n",
      "Epoch 11/20\n",
      "30/30 [==============================] - 0s 10ms/step - loss: 0.0418 - acc: 0.9887 - val_loss: 0.4838 - val_acc: 0.8675\n",
      "Epoch 12/20\n",
      "30/30 [==============================] - 0s 9ms/step - loss: 0.0419 - acc: 0.9877 - val_loss: 0.5181 - val_acc: 0.8650\n",
      "Epoch 13/20\n",
      "30/30 [==============================] - 0s 9ms/step - loss: 0.0177 - acc: 0.9973 - val_loss: 0.6215 - val_acc: 0.8509\n",
      "Epoch 14/20\n",
      "30/30 [==============================] - 0s 9ms/step - loss: 0.0266 - acc: 0.9920 - val_loss: 0.6047 - val_acc: 0.8643\n",
      "Epoch 15/20\n",
      "30/30 [==============================] - 0s 8ms/step - loss: 0.0305 - acc: 0.9907 - val_loss: 0.5974 - val_acc: 0.8665\n",
      "Epoch 16/20\n",
      "30/30 [==============================] - 0s 9ms/step - loss: 0.0226 - acc: 0.9939 - val_loss: 0.6678 - val_acc: 0.8555\n",
      "Epoch 17/20\n",
      "30/30 [==============================] - 0s 9ms/step - loss: 0.0075 - acc: 0.9994 - val_loss: 0.6504 - val_acc: 0.8607\n",
      "Epoch 18/20\n",
      "30/30 [==============================] - 0s 9ms/step - loss: 0.0249 - acc: 0.9929 - val_loss: 0.6650 - val_acc: 0.8654\n",
      "Epoch 19/20\n",
      "30/30 [==============================] - 0s 9ms/step - loss: 0.0041 - acc: 0.9997 - val_loss: 0.6801 - val_acc: 0.8650\n",
      "Epoch 20/20\n",
      "30/30 [==============================] - 0s 8ms/step - loss: 0.0033 - acc: 0.9997 - val_loss: 0.7717 - val_acc: 0.8515\n"
     ]
    },
    {
     "data": {
      "image/png": "[encoded data removed]",
      "text/plain": [
       "<Figure size 640x480 with 1 Axes>"
      ]
     },
     "metadata": {},
     "output_type": "display_data"
    }
   ],
   "source": [
    "(train_data, train_labels), (test_data, test_labels) = imdb.load_data(num_words=10000)\n",
    "\n",
    "x_train = vectorize_sequences(train_data)\n",
    "x_test = vectorize_sequences(test_data)\n",
    "\n",
    "y_train = np.asarray(train_labels).astype('float32')\n",
    "y_test = np.asarray(test_labels).astype('float32')\n",
    "\n",
    "model = keras.Sequential([\n",
    "    layers.Dense(16, activation='tanh'),\n",
    "    layers.Dense(16, activation='tanh'),\n",
    "    layers.Dense(1, activation='sigmoid')\n",
    "])\n",
    "\n",
    "model.compile(optimizer='rmsprop',\n",
    "              loss='binary_crossentropy',\n",
    "              metrics='acc')\n",
    "\n",
    "x_val = x_train[:10000]\n",
    "partial_x_train = x_train[10000:]\n",
    "y_val = y_train[:10000]\n",
    "partial_y_train = y_train[10000:]\n",
    "\n",
    "history = model.fit(partial_x_train,\n",
    "                    partial_y_train,\n",
    "                    epochs=20,\n",
    "                    batch_size=512,\n",
    "                    validation_data=(x_val, y_val))\n",
    "\n",
    "history_dict = history.history\n",
    "loss = history_dict['loss']\n",
    "val_loss = history_dict['val_loss']\n",
    "epochs = range(1, len(loss) + 1)\n",
    "plt.plot(epochs, loss, 'bo', label='Training loss')\n",
    "plt.plot(epochs, val_loss, 'b', label='Validation loss')\n",
    "plt.title('Training and validation loss')\n",
    "plt.xlabel('Epochs')\n",
    "plt.ylabel('Loss')\n",
    "plt.legend()\n",
    "plt.show()"
   ]
  },
  {
   "cell_type": "code",
   "execution_count": 94,
   "id": "e393b40d-ce4a-4d30-a435-b1ce92bc5923",
   "metadata": {},
   "outputs": [
    {
     "data": {
      "image/png": "[encoded data removed]",
      "text/plain": [
       "<Figure size 640x480 with 1 Axes>"
      ]
     },
     "metadata": {},
     "output_type": "display_data"
    }
   ],
   "source": [
    "plt.clf()\n",
    "acc = history_dict['acc']\n",
    "val_acc = history_dict['val_acc']\n",
    "plt.plot(epochs, acc, 'bo', label='Training acc')\n",
    "plt.plot(epochs, val_acc, 'b', label='Validation acc')\n",
    "plt.title('Training and validation accuracy')\n",
    "plt.xlabel('Epochs')\n",
    "plt.ylabel('Accuracy')\n",
    "plt.legend()\n",
    "plt.show()"
   ]
  },
  {
   "cell_type": "code",
   "execution_count": 95,
   "id": "9d2841c2-0f57-4abb-abb7-41998c95d0b7",
   "metadata": {},
   "outputs": [
    {
     "name": "stdout",
     "output_type": "stream",
     "text": [
      "Epoch 1/3\n",
      "30/30 [==============================] - 1s 15ms/step - loss: 0.4910 - acc: 0.7944 - val_loss: 0.3637 - val_acc: 0.8688\n",
      "Epoch 2/3\n",
      "30/30 [==============================] - 0s 8ms/step - loss: 0.2885 - acc: 0.8997 - val_loss: 0.2908 - val_acc: 0.8858\n",
      "Epoch 3/3\n",
      "30/30 [==============================] - 0s 8ms/step - loss: 0.2065 - acc: 0.9290 - val_loss: 0.2814 - val_acc: 0.8842\n",
      "782/782 [==============================] - 1s 766us/step - loss: 0.2978 - acc: 0.8748\n"
     ]
    },
    {
     "data": {
      "text/plain": [
       "[0.29781442880630493, 0.8748000264167786]"
      ]
     },
     "execution_count": 95,
     "metadata": {},
     "output_type": "execute_result"
    }
   ],
   "source": [
    "model = keras.Sequential([\n",
    "    layers.Dense(16, activation='tanh'),\n",
    "    layers.Dense(16, activation='tanh'),\n",
    "    layers.Dense(1, activation='sigmoid')\n",
    "])\n",
    "\n",
    "model.compile(optimizer='rmsprop',\n",
    "              loss='binary_crossentropy',\n",
    "              metrics='acc')\n",
    "\n",
    "model.fit(partial_x_train,\n",
    "          partial_y_train,\n",
    "          epochs=3,\n",
    "          batch_size=512,\n",
    "          validation_data=(x_val, y_val))\n",
    "\n",
    "model.evaluate(x_test, y_test)"
   ]
  },
  {
   "cell_type": "markdown",
   "id": "cd7a70c5-3eba-4a39-af4c-1d9bab45089a",
   "metadata": {},
   "source": [
    "## 4-2. 뉴스 기사 분류: 다중 분류 문제\n",
    "\n",
    "**단일 레이블**(single-label) : 정치, 체육, 문화 등등  \n",
    "**다중 레이블**(multi-label) : (경제, 정치), (부동산, 교통) 등등  \n",
    "  \n",
    "이처럼 **각 데이터 포인트가 여러 개의 범주(토픽)에 속할 수 있다면** 이것은 **다중 레이블 다중 분류**(multiclass classification) 문제가 된다."
   ]
  },
  {
   "cell_type": "markdown",
   "id": "9c87928e-6891-4ec5-9e9e-cb75e0d8a701",
   "metadata": {},
   "source": [
    "### 4-2-1. 로이터 데이터 셋"
   ]
  },
  {
   "cell_type": "code",
   "execution_count": 7,
   "id": "68041c3d-be05-4545-b6e9-6d6b330ddfe9",
   "metadata": {},
   "outputs": [
    {
     "name": "stdout",
     "output_type": "stream",
     "text": [
      "Downloading data from https://storage.googleapis.com/tensorflow/tf-keras-datasets/reuters.npz\n",
      "2110848/2110848 [==============================] - 1s 0us/step\n"
     ]
    }
   ],
   "source": [
    "# 로드하기\n",
    "from tensorflow.keras.datasets import reuters\n",
    "\n",
    "(train_data, train_labels), (test_data, test_labels) = reuters.load_data(num_words=10000) # 가장 자주 등장하는 단어 1만 개로 제한"
   ]
  },
  {
   "cell_type": "code",
   "execution_count": 8,
   "id": "a017e753-04bc-4baf-8453-0819a25d15fc",
   "metadata": {},
   "outputs": [
    {
     "data": {
      "text/plain": [
       "8982"
      ]
     },
     "execution_count": 8,
     "metadata": {},
     "output_type": "execute_result"
    }
   ],
   "source": [
    "len(train_data)"
   ]
  },
  {
   "cell_type": "code",
   "execution_count": 9,
   "id": "c37e5039-fbe3-49f8-9182-40aa5241651e",
   "metadata": {},
   "outputs": [
    {
     "data": {
      "text/plain": [
       "2246"
      ]
     },
     "execution_count": 9,
     "metadata": {},
     "output_type": "execute_result"
    }
   ],
   "source": [
    "len(test_data)"
   ]
  },
  {
   "cell_type": "code",
   "execution_count": 10,
   "id": "c74816a1-e278-4e08-bd6f-1454d2f1c66e",
   "metadata": {
    "collapsed": true,
    "jupyter": {
     "outputs_hidden": true
    },
    "tags": []
   },
   "outputs": [
    {
     "data": {
      "text/plain": [
       "[1,\n",
       " 2,\n",
       " 2,\n",
       " 8,\n",
       " 43,\n",
       " 10,\n",
       " 447,\n",
       " 5,\n",
       " 25,\n",
       " 207,\n",
       " 270,\n",
       " 5,\n",
       " 3095,\n",
       " 111,\n",
       " 16,\n",
       " 369,\n",
       " 186,\n",
       " 90,\n",
       " 67,\n",
       " 7,\n",
       " 89,\n",
       " 5,\n",
       " 19,\n",
       " 102,\n",
       " 6,\n",
       " 19,\n",
       " 124,\n",
       " 15,\n",
       " 90,\n",
       " 67,\n",
       " 84,\n",
       " 22,\n",
       " 482,\n",
       " 26,\n",
       " 7,\n",
       " 48,\n",
       " 4,\n",
       " 49,\n",
       " 8,\n",
       " 864,\n",
       " 39,\n",
       " 209,\n",
       " 154,\n",
       " 6,\n",
       " 151,\n",
       " 6,\n",
       " 83,\n",
       " 11,\n",
       " 15,\n",
       " 22,\n",
       " 155,\n",
       " 11,\n",
       " 15,\n",
       " 7,\n",
       " 48,\n",
       " 9,\n",
       " 4579,\n",
       " 1005,\n",
       " 504,\n",
       " 6,\n",
       " 258,\n",
       " 6,\n",
       " 272,\n",
       " 11,\n",
       " 15,\n",
       " 22,\n",
       " 134,\n",
       " 44,\n",
       " 11,\n",
       " 15,\n",
       " 16,\n",
       " 8,\n",
       " 197,\n",
       " 1245,\n",
       " 90,\n",
       " 67,\n",
       " 52,\n",
       " 29,\n",
       " 209,\n",
       " 30,\n",
       " 32,\n",
       " 132,\n",
       " 6,\n",
       " 109,\n",
       " 15,\n",
       " 17,\n",
       " 12]"
      ]
     },
     "execution_count": 10,
     "metadata": {},
     "output_type": "execute_result"
    }
   ],
   "source": [
    "train_data[0] # 각 샘플은 정수 리스트(단어 인덱스)"
   ]
  },
  {
   "cell_type": "markdown",
   "id": "a0a7124a-20f5-4bc4-b5d5-34e832039773",
   "metadata": {},
   "source": [
    "### 4-2-2. 데이터 준비"
   ]
  },
  {
   "cell_type": "code",
   "execution_count": 12,
   "id": "665278a2-a53d-455a-8c5b-6d1eca636450",
   "metadata": {},
   "outputs": [],
   "source": [
    "# 데이터 인코딩 : 벡터화\n",
    "import numpy as np\n",
    "\n",
    "def vectorize_sequences(sequences, dimension=10000):\n",
    "    results = np.zeros((len(sequences), dimension))\n",
    "    for i, sequence in enumerate(sequences):\n",
    "        for j in sequence:\n",
    "            results[i, j] = 1.\n",
    "    return results\n",
    "\n",
    "x_train = vectorize_sequences(train_data)\n",
    "x_test = vectorize_sequences(test_data)"
   ]
  },
  {
   "cell_type": "markdown",
   "id": "3262cd4b-a39b-43c3-b20c-e0e18604f3b5",
   "metadata": {},
   "source": [
    "#### 레이블을 벡터로 바꾸는 두 가지 방법\n",
    "- 정수 텐서로 변환\n",
    "- 원-핫 인코딩 : 각 레이블의 인덱스 자리는 1이고, 나머지는 모두 0인 벡터<br>  \n",
    "<br>\n",
    "케라스에는 이를 위한 내장 함수가 있음"
   ]
  },
  {
   "cell_type": "code",
   "execution_count": 13,
   "id": "e93a7b8d-04b3-4d8c-a9aa-13af695aca04",
   "metadata": {},
   "outputs": [],
   "source": [
    "from keras.utils.np_utils import to_categorical"
   ]
  },
  {
   "cell_type": "code",
   "execution_count": 14,
   "id": "d7569903-9fa0-43cf-bcd9-a6c0925e3d9d",
   "metadata": {},
   "outputs": [],
   "source": [
    "y_train = to_categorical(train_labels)\n",
    "y_test = to_categorical(test_labels)"
   ]
  },
  {
   "cell_type": "markdown",
   "id": "1cf9486c-064a-43c0-ba34-3c410b2d4dd7",
   "metadata": {},
   "source": [
    "### 4-2-3. 모델 구성"
   ]
  },
  {
   "cell_type": "code",
   "execution_count": 15,
   "id": "9ec0a2c7-f309-4bca-8fec-cfdf1e8f3b3e",
   "metadata": {},
   "outputs": [],
   "source": [
    "# 모델 정의하기\n",
    "from tensorflow import keras\n",
    "from keras import layers\n",
    "\n",
    "model = keras.Sequential([\n",
    "    layers.Dense(64, activation='relu'),\n",
    "    layers.Dense(64, activation='relu'),\n",
    "    layers.Dense(46, activation='softmax')\n",
    "])"
   ]
  },
  {
   "cell_type": "code",
   "execution_count": 16,
   "id": "b0cc3e20-8b2d-445d-bd4f-87fe012323b8",
   "metadata": {},
   "outputs": [],
   "source": [
    "# 모델 컴파일하기\n",
    "model.compile(optimizer='rmsprop',\n",
    "              loss='categorical_crossentropy',\n",
    "              metrics='acc')"
   ]
  },
  {
   "cell_type": "markdown",
   "id": "85ed7c57-e97c-4988-8d1f-9bbef0c12c95",
   "metadata": {},
   "source": [
    "### 4-2-4. 훈련 검증"
   ]
  },
  {
   "cell_type": "code",
   "execution_count": 17,
   "id": "3794db64-46f9-409f-b27c-f2c8a717ca31",
   "metadata": {},
   "outputs": [],
   "source": [
    "x_val = x_train[:1000]\n",
    "y_val = y_train[:1000]\n",
    "partial_x_train = x_train[1000:]\n",
    "partial_y_train = y_train[1000:]"
   ]
  },
  {
   "cell_type": "code",
   "execution_count": 18,
   "id": "5f18513a-6693-460b-b456-73bd18a576f5",
   "metadata": {},
   "outputs": [
    {
     "name": "stdout",
     "output_type": "stream",
     "text": [
      "Epoch 1/20\n",
      "16/16 [==============================] - 1s 21ms/step - loss: 2.6894 - acc: 0.4835 - val_loss: 1.8166 - val_acc: 0.6180\n",
      "Epoch 2/20\n",
      "16/16 [==============================] - 0s 12ms/step - loss: 1.5459 - acc: 0.6720 - val_loss: 1.4038 - val_acc: 0.7050\n",
      "Epoch 3/20\n",
      "16/16 [==============================] - 0s 12ms/step - loss: 1.1961 - acc: 0.7375 - val_loss: 1.2053 - val_acc: 0.7410\n",
      "Epoch 4/20\n",
      "16/16 [==============================] - 0s 12ms/step - loss: 0.9823 - acc: 0.7899 - val_loss: 1.0965 - val_acc: 0.7670\n",
      "Epoch 5/20\n",
      "16/16 [==============================] - 0s 12ms/step - loss: 0.8162 - acc: 0.8217 - val_loss: 1.0183 - val_acc: 0.7780\n",
      "Epoch 6/20\n",
      "16/16 [==============================] - 0s 12ms/step - loss: 0.6838 - acc: 0.8468 - val_loss: 0.9741 - val_acc: 0.7800\n",
      "Epoch 7/20\n",
      "16/16 [==============================] - 0s 12ms/step - loss: 0.5720 - acc: 0.8746 - val_loss: 0.9487 - val_acc: 0.8030\n",
      "Epoch 8/20\n",
      "16/16 [==============================] - 0s 12ms/step - loss: 0.4850 - acc: 0.8963 - val_loss: 0.9262 - val_acc: 0.7970\n",
      "Epoch 9/20\n",
      "16/16 [==============================] - 0s 12ms/step - loss: 0.4072 - acc: 0.9136 - val_loss: 0.9059 - val_acc: 0.8020\n",
      "Epoch 10/20\n",
      "16/16 [==============================] - 0s 12ms/step - loss: 0.3518 - acc: 0.9256 - val_loss: 0.9120 - val_acc: 0.8090\n",
      "Epoch 11/20\n",
      "16/16 [==============================] - 0s 12ms/step - loss: 0.2995 - acc: 0.9347 - val_loss: 0.8908 - val_acc: 0.8110\n",
      "Epoch 12/20\n",
      "16/16 [==============================] - 0s 12ms/step - loss: 0.2614 - acc: 0.9416 - val_loss: 0.9109 - val_acc: 0.8050\n",
      "Epoch 13/20\n",
      "16/16 [==============================] - 0s 13ms/step - loss: 0.2287 - acc: 0.9479 - val_loss: 0.9135 - val_acc: 0.8210\n",
      "Epoch 14/20\n",
      "16/16 [==============================] - 0s 12ms/step - loss: 0.2105 - acc: 0.9485 - val_loss: 0.9024 - val_acc: 0.8170\n",
      "Epoch 15/20\n",
      "16/16 [==============================] - 0s 13ms/step - loss: 0.1876 - acc: 0.9513 - val_loss: 0.9242 - val_acc: 0.8190\n",
      "Epoch 16/20\n",
      "16/16 [==============================] - 0s 15ms/step - loss: 0.1733 - acc: 0.9544 - val_loss: 0.9283 - val_acc: 0.8160\n",
      "Epoch 17/20\n",
      "16/16 [==============================] - 0s 14ms/step - loss: 0.1589 - acc: 0.9533 - val_loss: 0.9378 - val_acc: 0.8130\n",
      "Epoch 18/20\n",
      "16/16 [==============================] - 0s 14ms/step - loss: 0.1516 - acc: 0.9559 - val_loss: 0.9342 - val_acc: 0.8120\n",
      "Epoch 19/20\n",
      "16/16 [==============================] - 0s 13ms/step - loss: 0.1429 - acc: 0.9558 - val_loss: 0.9747 - val_acc: 0.8120\n",
      "Epoch 20/20\n",
      "16/16 [==============================] - 0s 12ms/step - loss: 0.1367 - acc: 0.9565 - val_loss: 0.9825 - val_acc: 0.8080\n"
     ]
    }
   ],
   "source": [
    "history = model.fit(partial_x_train,\n",
    "                    partial_y_train,\n",
    "                    epochs=20,\n",
    "                    batch_size=512,\n",
    "                    validation_data=(x_val, y_val))"
   ]
  },
  {
   "cell_type": "code",
   "execution_count": 19,
   "id": "c88aefd5-63df-44a1-8386-c739df1e4bc0",
   "metadata": {},
   "outputs": [],
   "source": [
    "history_dict = history.history"
   ]
  },
  {
   "cell_type": "code",
   "execution_count": 20,
   "id": "e8579336-39d1-407a-9f6e-2d4f288be5b2",
   "metadata": {},
   "outputs": [
    {
     "data": {
      "text/plain": [
       "dict_keys(['loss', 'acc', 'val_loss', 'val_acc'])"
      ]
     },
     "execution_count": 20,
     "metadata": {},
     "output_type": "execute_result"
    }
   ],
   "source": [
    "history_dict.keys()"
   ]
  },
  {
   "cell_type": "code",
   "execution_count": 23,
   "id": "91c3542e-bde5-4fe2-9f40-c0dc1cefd06d",
   "metadata": {},
   "outputs": [
    {
     "data": {
      "image/png": "[encoded data removed]",
      "text/plain": [
       "<Figure size 640x480 with 1 Axes>"
      ]
     },
     "metadata": {},
     "output_type": "display_data"
    }
   ],
   "source": [
    "import matplotlib.pyplot as plt\n",
    "\n",
    "loss = history_dict['loss']\n",
    "val_loss = history_dict['val_loss']\n",
    "epochs = range(1, len(loss) + 1)\n",
    "plt.plot(epochs, loss, 'bo', label = 'Training loss')\n",
    "plt.plot(epochs, val_loss, 'b', label = 'Validation loss')\n",
    "plt.title('Training and validation loss')\n",
    "plt.xlabel('Epochs')\n",
    "plt.ylabel('Loss')\n",
    "plt.legend()\n",
    "plt.show()"
   ]
  },
  {
   "cell_type": "code",
   "execution_count": 24,
   "id": "7e32dbf4-ecf9-419f-a8d2-4f3c5cd927eb",
   "metadata": {},
   "outputs": [
    {
     "data": {
      "image/png": "[encoded data removed]",
      "text/plain": [
       "<Figure size 640x480 with 1 Axes>"
      ]
     },
     "metadata": {},
     "output_type": "display_data"
    }
   ],
   "source": [
    "plt.clf()\n",
    "acc = history_dict['acc']\n",
    "val_acc = history_dict['val_acc']\n",
    "plt.plot(epochs, acc, 'bo', label = 'Training acc')\n",
    "plt.plot(epochs, val_acc, 'b', label = 'Validation acc')\n",
    "plt.title('Training and validation acc')\n",
    "plt.xlabel('Epochs')\n",
    "plt.ylabel('Accuracy')\n",
    "plt.legend()\n",
    "plt.show()"
   ]
  },
  {
   "cell_type": "code",
   "execution_count": 25,
   "id": "bbddaf34-1333-4c26-a33d-ee5cb5275e6b",
   "metadata": {},
   "outputs": [],
   "source": [
    "# 모델을 처음부터 다시 훈련하기\n",
    "model = keras.Sequential([\n",
    "    layers.Dense(64, activation='relu'),\n",
    "    layers.Dense(64, activation='relu'),\n",
    "    layers.Dense(46, activation='softmax')\n",
    "])"
   ]
  },
  {
   "cell_type": "code",
   "execution_count": 26,
   "id": "895fbf16-dd5b-4fb7-a660-b220f532f073",
   "metadata": {},
   "outputs": [],
   "source": [
    "model.compile(optimizer='rmsprop',\n",
    "              loss='categorical_crossentropy',\n",
    "              metrics='acc')"
   ]
  },
  {
   "cell_type": "code",
   "execution_count": 27,
   "id": "578e0f6a-e645-47e6-9db5-f7b7b31e3417",
   "metadata": {},
   "outputs": [
    {
     "name": "stdout",
     "output_type": "stream",
     "text": [
      "Epoch 1/9\n",
      "18/18 [==============================] - 0s 10ms/step - loss: 2.7134 - acc: 0.5171\n",
      "Epoch 2/9\n",
      "18/18 [==============================] - 0s 10ms/step - loss: 1.5073 - acc: 0.6828\n",
      "Epoch 3/9\n",
      "18/18 [==============================] - 0s 10ms/step - loss: 1.1737 - acc: 0.7423\n",
      "Epoch 4/9\n",
      "18/18 [==============================] - 0s 10ms/step - loss: 0.9581 - acc: 0.7902\n",
      "Epoch 5/9\n",
      "18/18 [==============================] - 0s 10ms/step - loss: 0.7920 - acc: 0.8268\n",
      "Epoch 6/9\n",
      "18/18 [==============================] - 0s 10ms/step - loss: 0.6588 - acc: 0.8595\n",
      "Epoch 7/9\n",
      "18/18 [==============================] - 0s 10ms/step - loss: 0.5482 - acc: 0.8840\n",
      "Epoch 8/9\n",
      "18/18 [==============================] - 0s 10ms/step - loss: 0.4543 - acc: 0.9045\n",
      "Epoch 9/9\n",
      "18/18 [==============================] - 0s 8ms/step - loss: 0.3819 - acc: 0.9192\n"
     ]
    },
    {
     "data": {
      "text/plain": [
       "<keras.callbacks.History at 0x20503abd940>"
      ]
     },
     "execution_count": 27,
     "metadata": {},
     "output_type": "execute_result"
    }
   ],
   "source": [
    "model.fit(x_train, y_train, epochs=9, batch_size=512)"
   ]
  },
  {
   "cell_type": "code",
   "execution_count": 28,
   "id": "73612ca6-d787-4f2c-b05e-f9aee06e32e8",
   "metadata": {},
   "outputs": [
    {
     "name": "stdout",
     "output_type": "stream",
     "text": [
      "71/71 [==============================] - 0s 946us/step - loss: 0.9017 - acc: 0.7916\n"
     ]
    }
   ],
   "source": [
    "results = model.evaluate(x_test, y_test)"
   ]
  },
  {
   "cell_type": "markdown",
   "id": "9c6e63f6-e172-4855-96a4-52ba128c356b",
   "metadata": {},
   "source": [
    "### 4-2-5. 새로운 데이터에 대해 예측하기"
   ]
  },
  {
   "cell_type": "code",
   "execution_count": 29,
   "id": "9c137e09-5636-4a7f-a9c9-a1b0237b0110",
   "metadata": {},
   "outputs": [
    {
     "name": "stdout",
     "output_type": "stream",
     "text": [
      "71/71 [==============================] - 0s 921us/step\n"
     ]
    },
    {
     "data": {
      "text/plain": [
       "(46,)"
      ]
     },
     "execution_count": 29,
     "metadata": {},
     "output_type": "execute_result"
    }
   ],
   "source": [
    "preds = model.predict(x_test)\n",
    "preds[0].shape"
   ]
  },
  {
   "cell_type": "markdown",
   "id": "0fb20048-611a-4ea1-90d0-3e100707aa4c",
   "metadata": {},
   "source": [
    "이 벡터는 **확률 분포를 나타내기 때문에 원소를 모두 더하면 1이 된다.**"
   ]
  },
  {
   "cell_type": "code",
   "execution_count": 30,
   "id": "ff0038d2-dcb8-4158-88bd-d114c3dbf00b",
   "metadata": {},
   "outputs": [
    {
     "data": {
      "text/plain": [
       "1.0"
      ]
     },
     "execution_count": 30,
     "metadata": {},
     "output_type": "execute_result"
    }
   ],
   "source": [
    "np.sum(preds[0])"
   ]
  },
  {
   "cell_type": "markdown",
   "id": "384fb046-9679-4ab2-ab8c-0664f6aa2590",
   "metadata": {},
   "source": [
    "가장 큰 값이 예측 클래스가 된다. 즉, 가장 확률이 높은 클래스이다."
   ]
  },
  {
   "cell_type": "code",
   "execution_count": 31,
   "id": "0ae0d3af-3f76-4f03-9cef-5d0ea665d44f",
   "metadata": {},
   "outputs": [
    {
     "data": {
      "text/plain": [
       "3"
      ]
     },
     "execution_count": 31,
     "metadata": {},
     "output_type": "execute_result"
    }
   ],
   "source": [
    "np.argmax(preds[0])"
   ]
  },
  {
   "cell_type": "markdown",
   "id": "c9fa5ff9-eb6f-457a-b46a-e32b6f759f51",
   "metadata": {},
   "source": [
    "### 4-2-6. 레이블과 손실을 다루는 다른 방법\n",
    "\n",
    "정수 텐서로 변환  "
   ]
  },
  {
   "cell_type": "code",
   "execution_count": 32,
   "id": "f8bf81c5-e7cd-4983-950d-33b6297b1794",
   "metadata": {},
   "outputs": [],
   "source": [
    "y_train = np.array(train_labels)\n",
    "y_test = np.array(test_labels)"
   ]
  },
  {
   "cell_type": "markdown",
   "id": "c8a80222-3c29-4385-a503-558a328080ff",
   "metadata": {},
   "source": [
    "이 방식을 사용하려면 손실 함수 하나만 바꾸면 된다.  \n",
    "categorical_crossentropy 손실함수는 레이블이 범주형 인코딩되어 있을 것으로 기대한다.  \n",
    "정수 레이블을 사용할 때는 sparse_categorical_crossentropy를 사용한다."
   ]
  },
  {
   "cell_type": "code",
   "execution_count": 34,
   "id": "82242a48-ae31-4dc0-ba9a-d0190a2a07b9",
   "metadata": {},
   "outputs": [],
   "source": [
    "model.compile(optimizer='rmsprop',\n",
    "              loss='sparse_categorical_crossentropy',\n",
    "              metrics='acc')"
   ]
  },
  {
   "cell_type": "markdown",
   "id": "008bcbbd-7a4e-4431-b3b5-4bb8dc701f01",
   "metadata": {},
   "source": [
    "### 4-2-7. 충분히 큰 중간층을 두어야 하는 이유"
   ]
  },
  {
   "cell_type": "code",
   "execution_count": 35,
   "id": "78b6e18f-9160-4092-b1e5-122ee85865d3",
   "metadata": {},
   "outputs": [
    {
     "name": "stdout",
     "output_type": "stream",
     "text": [
      "Epoch 1/9\n",
      "18/18 [==============================] - 0s 10ms/step - loss: 3.4320 - acc: 0.2069\n",
      "Epoch 2/9\n",
      "18/18 [==============================] - 0s 10ms/step - loss: 2.8858 - acc: 0.2405\n",
      "Epoch 3/9\n",
      "18/18 [==============================] - 0s 9ms/step - loss: 2.5527 - acc: 0.2850\n",
      "Epoch 4/9\n",
      "18/18 [==============================] - 0s 10ms/step - loss: 2.2283 - acc: 0.3236\n",
      "Epoch 5/9\n",
      "18/18 [==============================] - 0s 10ms/step - loss: 1.9081 - acc: 0.3456\n",
      "Epoch 6/9\n",
      "18/18 [==============================] - 0s 9ms/step - loss: 1.6256 - acc: 0.5212\n",
      "Epoch 7/9\n",
      "18/18 [==============================] - 0s 10ms/step - loss: 1.4270 - acc: 0.6800\n",
      "Epoch 8/9\n",
      "18/18 [==============================] - 0s 9ms/step - loss: 1.2945 - acc: 0.6898\n",
      "Epoch 9/9\n",
      "18/18 [==============================] - 0s 8ms/step - loss: 1.1991 - acc: 0.6963\n",
      "71/71 [==============================] - 0s 972us/step - loss: 1.3791 - acc: 0.6683\n"
     ]
    },
    {
     "data": {
      "text/plain": [
       "[1.3790702819824219, 0.6682991981506348]"
      ]
     },
     "execution_count": 35,
     "metadata": {},
     "output_type": "execute_result"
    }
   ],
   "source": [
    "# 정보 병목이 있는 모델\n",
    "model = keras.Sequential([\n",
    "    layers.Dense(64, activation='relu'),\n",
    "    layers.Dense(4, activation='relu'),\n",
    "    layers.Dense(46, activation='softmax')\n",
    "])\n",
    "\n",
    "model.compile(optimizer='rmsprop',\n",
    "              loss='sparse_categorical_crossentropy',\n",
    "              metrics='acc')\n",
    "\n",
    "model.fit(x_train, y_train, epochs=9, batch_size=512)\n",
    "\n",
    "model.evaluate(x_test, y_test)"
   ]
  },
  {
   "cell_type": "markdown",
   "id": "b486b8de-4c42-4dbe-8f6b-4c07c6970612",
   "metadata": {},
   "source": [
    "검증 정확도의 최고값 등이 감소되었음을 알 수 있다.  \n",
    "이런 손실의 원인 대부분은 많은 정보를 중간층의 저차원 표현 공간으로 압축하려고 했기 때문이다.  \n",
    "이 모델은 필요한 정보 대부분을 4차원 표현 안에 구겨 넣었지만 전부는 넣지 못했다."
   ]
  },
  {
   "cell_type": "code",
   "execution_count": null,
   "id": "53d80fd5-d9b8-4f22-b885-4fc939feec29",
   "metadata": {},
   "outputs": [],
   "source": []
  }
 ],
 "metadata": {
  "kernelspec": {
   "display_name": "Python 3 (ipykernel)",
   "language": "python",
   "name": "python3"
  },
  "language_info": {
   "codemirror_mode": {
    "name": "ipython",
    "version": 3
   },
   "file_extension": ".py",
   "mimetype": "text/x-python",
   "name": "python",
   "nbconvert_exporter": "python",
   "pygments_lexer": "ipython3",
   "version": "3.9.12"
  }
 },
 "nbformat": 4,
 "nbformat_minor": 5
}

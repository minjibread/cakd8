{
 "cells": [
  {
   "cell_type": "markdown",
   "id": "a7fd0a91-44ca-443e-ac33-b62cb166ee89",
   "metadata": {
    "tags": []
   },
   "source": [
    "# 복습문제"
   ]
  },
  {
   "cell_type": "code",
   "execution_count": 5,
   "id": "ae8b19af-960c-46d0-84c3-7f651dae9f2a",
   "metadata": {},
   "outputs": [
    {
     "data": {
      "text/plain": [
       "['now',\n",
       " 'i',\n",
       " 'am',\n",
       " 'go',\n",
       " 'to',\n",
       " 'have',\n",
       " 'dinner',\n",
       " 'with',\n",
       " 'my',\n",
       " 'wife',\n",
       " '.',\n",
       " 'thank',\n",
       " 'for',\n",
       " 'have',\n",
       " 'me',\n",
       " 'here',\n",
       " '.']"
      ]
     },
     "execution_count": 5,
     "metadata": {},
     "output_type": "execute_result"
    }
   ],
   "source": [
    "from nltk.stem import PorterStemmer\n",
    "from nltk import word_tokenize\n",
    "\n",
    "porter = PorterStemmer()\n",
    "\n",
    "text =  \"Now I am going to have dinner with my wife. Thanks for having me here.\"\n",
    "\n",
    "words = word_tokenize(text)\n",
    "\n",
    "li = []\n",
    "\n",
    "for word in words:\n",
    "    st_word = stemmer.stem(word)\n",
    "    li.append(st_word)\n",
    "    \n",
    "li"
   ]
  },
  {
   "cell_type": "code",
   "execution_count": 6,
   "id": "4104b8ca-ad7d-4ab8-b2ed-aa79aa9eb85b",
   "metadata": {},
   "outputs": [],
   "source": [
    "# porter.stem(word) for word in words"
   ]
  },
  {
   "cell_type": "code",
   "execution_count": 7,
   "id": "77572cb7-de1d-4a02-aae7-e36d1516b985",
   "metadata": {},
   "outputs": [
    {
     "data": {
      "text/plain": [
       "25"
      ]
     },
     "execution_count": 7,
     "metadata": {},
     "output_type": "execute_result"
    }
   ],
   "source": [
    "sentence = \"Don't be fooled by the dark sounding name, Mr. Jone's Orphanage is as cheery as cheery goes for a pastry shop. \"\n",
    "\n",
    "len(word_tokenize(sentence))"
   ]
  },
  {
   "cell_type": "code",
   "execution_count": 8,
   "id": "3f44663d-0a72-4bd5-92b3-91e4ee6810b0",
   "metadata": {},
   "outputs": [],
   "source": [
    "[ [ 0 0 0 0 0 0 ]\n",
    "  [ 0 0 0 0 0 0 ]\n",
    "  [ 0 0 0 5 2 0 ]\n",
    "  [ 0 0 3 0 0 0 ]\n",
    "  [ 0 0 0 0 0 0 ] ]"
   ]
  },
  {
   "cell_type": "code",
   "execution_count": 12,
   "id": "a6a49f3b-858f-4163-883d-b18140c6b8dd",
   "metadata": {},
   "outputs": [
    {
     "name": "stdout",
     "output_type": "stream",
     "text": [
      "[[0 0 0 0 0 0]\n",
      " [0 0 0 0 0 0]\n",
      " [0 0 0 5 2 0]\n",
      " [0 0 3 0 0 0]\n",
      " [0 0 0 0 0 0]]\n"
     ]
    },
    {
     "data": {
      "text/plain": [
       "array([[0, 0, 0, 0, 0, 0],\n",
       "       [0, 0, 0, 0, 0, 0],\n",
       "       [0, 0, 0, 5, 2, 0],\n",
       "       [0, 0, 3, 0, 0, 0],\n",
       "       [0, 0, 0, 0, 0, 0]], dtype=int32)"
      ]
     },
     "execution_count": 12,
     "metadata": {},
     "output_type": "execute_result"
    }
   ],
   "source": [
    "from scipy import sparse\n",
    "\n",
    "# 1. COO 형식으로\n",
    "\n",
    "import numpy as np\n",
    "\n",
    "data = np.array([5, 2, 3])\n",
    "row = np.array([2, 2, 3])\n",
    "col = np.array([3, 4, 2])\n",
    "\n",
    "print(sparse.coo_matrix((data, (row, col)), shape=(5, 6)).toarray())\n",
    "\n",
    "# 2. CSR 형식으로\n",
    "\n",
    "data = [5, 2, 3]\n",
    "row_ = [2, 2, 3]\n",
    "col = [3, 4, 2]\n",
    "\n",
    "sparse.csr_matrix((data, (row_, col)), (5, 6)).toarray() "
   ]
  },
  {
   "cell_type": "code",
   "execution_count": null,
   "id": "467728f7-5a83-4c1e-aeb9-07d22c0ddde0",
   "metadata": {},
   "outputs": [],
   "source": [
    "문서와 문서 간의 유사도 비교는 일반적으로 (  ) 를 사용한다. (  ) 에 들어갈 말은?\n",
    "\n",
    "코사인 유사도(cosine similarity)"
   ]
  },
  {
   "cell_type": "code",
   "execution_count": null,
   "id": "8acbbdf8-499b-492f-97ef-73f17a55576d",
   "metadata": {},
   "outputs": [],
   "source": [
    "문서 집합에 숨어 있는 주제를 찾아내는 모델링 방법은?\n",
    "\n",
    "토픽 모델링"
   ]
  },
  {
   "cell_type": "code",
   "execution_count": null,
   "id": "7a2f0dca-0e4f-40d2-ac4c-6838a1fce0ba",
   "metadata": {},
   "outputs": [],
   "source": [
    "텍스트 분석 패키지 중 주로 소셜 미디어 텍스트에 대한 감성분석을 제공하고, 뛰어난 감성 분석 결과 및 빠른 수행시간으로 대용량 텍스트 데이터에 잘 사용되는 패키지는?\n",
    "\n",
    "VADER(베이더)"
   ]
  },
  {
   "cell_type": "code",
   "execution_count": null,
   "id": "9b80b1dd-b081-48d1-8fca-a6703e674942",
   "metadata": {},
   "outputs": [],
   "source": [
    "자연어를 기계가 이해할 수 있는 숫자의 나열인 벡터로 바꾸어 주어야 한다. 이것을 뜻하는 말은?\n",
    "\n",
    "피처 벡터화 또는 워드 임베깅"
   ]
  },
  {
   "cell_type": "code",
   "execution_count": null,
   "id": "f283a8cc-c620-4948-a66c-bc9dbf84c9f8",
   "metadata": {},
   "outputs": [],
   "source": [
    "두 문장에서 같은 단어가 자주 나타나면 코사인 유사도가 높다? 낮다?\n",
    "\n",
    "높다"
   ]
  },
  {
   "cell_type": "code",
   "execution_count": null,
   "id": "694dda65-df5b-427a-aedd-0087b4ba153e",
   "metadata": {},
   "outputs": [],
   "source": [
    "KMeans 객체의 clusters_centers 속성은 0에서 1의 값을 가지며 0에 가까울수록 중심에 가까운 값이다? O/X\n",
    "\n",
    "X"
   ]
  },
  {
   "cell_type": "code",
   "execution_count": null,
   "id": "f81dc444-2a54-4ce9-b5d8-e24853ffd673",
   "metadata": {},
   "outputs": [],
   "source": [
    "[ [ 1, 2, 0, 0, 0, 0 ]\n",
    "  [ 0, 0, 0, 0, 0, 0 ]\n",
    "  [ 0, 0, 4, 5, 2, 0 ]\n",
    "  [ 0, 0, 0, 0, 0, 0 ]\n",
    "  [ 0, 0, 3, 0, 0, 0 ] ]"
   ]
  },
  {
   "cell_type": "code",
   "execution_count": 13,
   "id": "818d4558-dc6f-4ef4-a67d-d24bb9584bd0",
   "metadata": {},
   "outputs": [
    {
     "data": {
      "text/plain": [
       "array([[1, 2, 0, 0, 0, 0],\n",
       "       [0, 0, 0, 0, 0, 0],\n",
       "       [0, 0, 4, 5, 2, 0],\n",
       "       [0, 0, 0, 0, 0, 0],\n",
       "       [0, 0, 3, 0, 0, 0]])"
      ]
     },
     "execution_count": 13,
     "metadata": {},
     "output_type": "execute_result"
    }
   ],
   "source": [
    "data = np.array([1,2,4,5,2,3])\n",
    "row_in = np.array([0,2,2,5,5,6])\n",
    "col = np.array([0,1,2,3,4,2])\n",
    "sparse.csr_matrix((data,col,row_in),shape=(5,6)).toarray() "
   ]
  }
 ],
 "metadata": {
  "kernelspec": {
   "display_name": "Python 3 (ipykernel)",
   "language": "python",
   "name": "python3"
  },
  "language_info": {
   "codemirror_mode": {
    "name": "ipython",
    "version": 3
   },
   "file_extension": ".py",
   "mimetype": "text/x-python",
   "name": "python",
   "nbconvert_exporter": "python",
   "pygments_lexer": "ipython3",
   "version": "3.9.12"
  }
 },
 "nbformat": 4,
 "nbformat_minor": 5
}

{
 "cells": [
  {
   "cell_type": "markdown",
   "id": "7047ba95-f1b4-4c51-83b5-fe574bee0752",
   "metadata": {},
   "source": [
    "# 복습문제"
   ]
  },
  {
   "cell_type": "code",
   "execution_count": null,
   "id": "b431e82e-35e0-44d1-86c0-96a83448e13e",
   "metadata": {},
   "outputs": [],
   "source": [
    "추천 시스템의 3가지 **필터링**은?\n",
    "\n",
    "콘텐츠 기반 필터링, 최근접 이웃 협업 필터링, 잠재 요인 협업 필터링"
   ]
  },
  {
   "cell_type": "code",
   "execution_count": null,
   "id": "2ae9aef1-3b69-4437-a960-b5c556e14779",
   "metadata": {},
   "outputs": [],
   "source": [
    "추천 시스켐의 3가지 **방식**은?\n",
    "\n",
    "잠재, 사용자 기반, 아이템 기반"
   ]
  },
  {
   "cell_type": "code",
   "execution_count": null,
   "id": "a94f9e29-d020-448a-aab6-0ea94ebfdc1a",
   "metadata": {},
   "outputs": [],
   "source": [
    "크롤링을 하거나 데이터를 받아올 떄 겉보기엔 리스트나 딕셔너리 형태지만, 해당 타입이 문자열로 되어 있어 원하는 데이터에 접근하기 어려운 경우가 빈번하게 생긴다고 한다.\n",
    "이를 해당하는 파이썬 객체로 알맞게 변형시켜주는 함수는?\n",
    "\n",
    "literal_eval()"
   ]
  },
  {
   "cell_type": "code",
   "execution_count": null,
   "id": "2ee3bdf8-1812-47fe-9aa2-5c1557798aa5",
   "metadata": {},
   "outputs": [],
   "source": [
    "SVD는 추천 예측을 해주는 알고리즘으로 (     )을(를) 해서 사용자들과 아이템들에 대한 각각의 잠재 요인을 분석하여 사용자가 사용하지 않은 아이템에 대한 데이터를 예측한다.\n",
    "(     )에 들어가는 말은\n",
    "\n",
    "행렬 분해"
   ]
  },
  {
   "cell_type": "markdown",
   "id": "b2af0724-18da-4838-8ba4-0dd54ee9e2ca",
   "metadata": {},
   "source": [
    "---------------------------"
   ]
  },
  {
   "cell_type": "code",
   "execution_count": 2,
   "id": "4b4213d5-b176-477e-afa9-a0e93bdab01a",
   "metadata": {},
   "outputs": [
    {
     "data": {
      "text/html": [
       "<div>\n",
       "<style scoped>\n",
       "    .dataframe tbody tr th:only-of-type {\n",
       "        vertical-align: middle;\n",
       "    }\n",
       "\n",
       "    .dataframe tbody tr th {\n",
       "        vertical-align: top;\n",
       "    }\n",
       "\n",
       "    .dataframe thead th {\n",
       "        text-align: right;\n",
       "    }\n",
       "</style>\n",
       "<table border=\"1\" class=\"dataframe\">\n",
       "  <thead>\n",
       "    <tr style=\"text-align: right;\">\n",
       "      <th></th>\n",
       "      <th>UserID</th>\n",
       "      <th>ItemID</th>\n",
       "      <th>Rating</th>\n",
       "    </tr>\n",
       "  </thead>\n",
       "  <tbody>\n",
       "    <tr>\n",
       "      <th>0</th>\n",
       "      <td>User1</td>\n",
       "      <td>Item1</td>\n",
       "      <td>3</td>\n",
       "    </tr>\n",
       "    <tr>\n",
       "      <th>1</th>\n",
       "      <td>User1</td>\n",
       "      <td>Item3</td>\n",
       "      <td>3</td>\n",
       "    </tr>\n",
       "    <tr>\n",
       "      <th>2</th>\n",
       "      <td>User2</td>\n",
       "      <td>Item1</td>\n",
       "      <td>4</td>\n",
       "    </tr>\n",
       "    <tr>\n",
       "      <th>3</th>\n",
       "      <td>User2</td>\n",
       "      <td>Item2</td>\n",
       "      <td>1</td>\n",
       "    </tr>\n",
       "    <tr>\n",
       "      <th>4</th>\n",
       "      <td>User3</td>\n",
       "      <td>Item4</td>\n",
       "      <td>2</td>\n",
       "    </tr>\n",
       "    <tr>\n",
       "      <th>5</th>\n",
       "      <td>User4</td>\n",
       "      <td>Item2</td>\n",
       "      <td>5</td>\n",
       "    </tr>\n",
       "  </tbody>\n",
       "</table>\n",
       "</div>"
      ],
      "text/plain": [
       "  UserID ItemID  Rating\n",
       "0  User1  Item1       3\n",
       "1  User1  Item3       3\n",
       "2  User2  Item1       4\n",
       "3  User2  Item2       1\n",
       "4  User3  Item4       2\n",
       "5  User4  Item2       5"
      ]
     },
     "execution_count": 2,
     "metadata": {},
     "output_type": "execute_result"
    }
   ],
   "source": [
    "import pandas as pd\n",
    "\n",
    "df = pd.DataFrame({\"UserID\" : ['User1', 'User1', 'User2', 'User2', 'User3', 'User4'],\n",
    "                   \"ItemID\" : ['Item1', 'Item3', 'Item1', 'Item2', 'Item4', 'Item2'], \n",
    "                   \"Rating\" : [3, 3, 4, 1, 2, 5]})\n",
    "df"
   ]
  },
  {
   "cell_type": "code",
   "execution_count": 10,
   "id": "8ba18483-9853-4007-a15e-6e4f4bd84706",
   "metadata": {},
   "outputs": [
    {
     "data": {
      "text/html": [
       "<div>\n",
       "<style scoped>\n",
       "    .dataframe tbody tr th:only-of-type {\n",
       "        vertical-align: middle;\n",
       "    }\n",
       "\n",
       "    .dataframe tbody tr th {\n",
       "        vertical-align: top;\n",
       "    }\n",
       "\n",
       "    .dataframe thead th {\n",
       "        text-align: right;\n",
       "    }\n",
       "</style>\n",
       "<table border=\"1\" class=\"dataframe\">\n",
       "  <thead>\n",
       "    <tr style=\"text-align: right;\">\n",
       "      <th>ItemID</th>\n",
       "      <th>Item1</th>\n",
       "      <th>Item2</th>\n",
       "      <th>Item3</th>\n",
       "      <th>Item4</th>\n",
       "    </tr>\n",
       "    <tr>\n",
       "      <th>UserID</th>\n",
       "      <th></th>\n",
       "      <th></th>\n",
       "      <th></th>\n",
       "      <th></th>\n",
       "    </tr>\n",
       "  </thead>\n",
       "  <tbody>\n",
       "    <tr>\n",
       "      <th>User1</th>\n",
       "      <td>3.0</td>\n",
       "      <td>NaN</td>\n",
       "      <td>3.0</td>\n",
       "      <td>NaN</td>\n",
       "    </tr>\n",
       "    <tr>\n",
       "      <th>User2</th>\n",
       "      <td>4.0</td>\n",
       "      <td>1.0</td>\n",
       "      <td>NaN</td>\n",
       "      <td>NaN</td>\n",
       "    </tr>\n",
       "    <tr>\n",
       "      <th>User3</th>\n",
       "      <td>NaN</td>\n",
       "      <td>NaN</td>\n",
       "      <td>NaN</td>\n",
       "      <td>2.0</td>\n",
       "    </tr>\n",
       "    <tr>\n",
       "      <th>User4</th>\n",
       "      <td>NaN</td>\n",
       "      <td>5.0</td>\n",
       "      <td>NaN</td>\n",
       "      <td>NaN</td>\n",
       "    </tr>\n",
       "  </tbody>\n",
       "</table>\n",
       "</div>"
      ],
      "text/plain": [
       "ItemID  Item1  Item2  Item3  Item4\n",
       "UserID                            \n",
       "User1     3.0    NaN    3.0    NaN\n",
       "User2     4.0    1.0    NaN    NaN\n",
       "User3     NaN    NaN    NaN    2.0\n",
       "User4     NaN    5.0    NaN    NaN"
      ]
     },
     "execution_count": 10,
     "metadata": {},
     "output_type": "execute_result"
    }
   ],
   "source": [
    "df.pivot_table(index = 'UserID', columns = 'ItemID', values = 'Rating')"
   ]
  },
  {
   "cell_type": "markdown",
   "id": "9eaf45af-5355-450d-ba55-2db0d3881c79",
   "metadata": {},
   "source": [
    "------------"
   ]
  },
  {
   "cell_type": "code",
   "execution_count": null,
   "id": "c0d50865-45ea-4a95-9001-897601fa5e7e",
   "metadata": {},
   "outputs": [],
   "source": [
    "추천 시스템은 (         ) 기반 방식과 (          ) 필터링 방식으로 나뉜다. 괄호 안에 들어갈 말은?\n",
    "\n",
    "콘텐츠, 협업"
   ]
  },
  {
   "cell_type": "code",
   "execution_count": null,
   "id": "4fe15ffd-214f-4219-9eec-2df4e86a9457",
   "metadata": {},
   "outputs": [],
   "source": [
    "surprise에서 추천 예측을 위해 자주 사용되는 추천 알고리즘 클래스\n",
    "\n",
    "p. 639 참고\n",
    "SVD, SVD++, NMF, Slope One, k-NN, Centered k-NN, k-NN Baseline, Co-Clustering, Baseline"
   ]
  },
  {
   "cell_type": "markdown",
   "id": "20542166-f94f-41da-834d-be6a95e45f7f",
   "metadata": {},
   "source": [
    "------------------"
   ]
  },
  {
   "cell_type": "code",
   "execution_count": null,
   "id": "5577f7eb-6449-40a0-92ea-85ab87950b07",
   "metadata": {},
   "outputs": [],
   "source": [
    "str = '[{\"id\": 28, \"name\": \"Action\"}, {\"id\": 12, \"name\": \"Adventure\"}, {\"id\": 14, \"name\": \"Fantasy\"}, {\"id\": 878, \"name\": \"Science Fiction\"}]' 에서\n",
    "['Action', 'Adventure', 'Fantasy', 'Science Fiction']를 출력하려고 합니다. 아래 코드 빈칸을 채워 주세요.\n",
    "\n",
    "from ast import ----------      \n",
    "dict_series = ----------(str)    \n",
    "[i['------'] for i in dict_series]  \n",
    "\n",
    "literal_eva, literal_eva, name"
   ]
  },
  {
   "cell_type": "code",
   "execution_count": 11,
   "id": "0fde246b-4247-49b8-a404-7a847b1354a1",
   "metadata": {},
   "outputs": [],
   "source": [
    "str = '[{\"id\": 28, \"name\": \"Action\"}, {\"id\": 12, \"name\": \"Adventure\"}, {\"id\": 14, \"name\": \"Fantasy\"}, {\"id\": 878, \"name\": \"Science Fiction\"}]'"
   ]
  },
  {
   "cell_type": "code",
   "execution_count": 12,
   "id": "1f3c0bc9-7d9f-4691-9103-d55a66d0725b",
   "metadata": {},
   "outputs": [
    {
     "data": {
      "text/plain": [
       "['Action', 'Adventure', 'Fantasy', 'Science Fiction']"
      ]
     },
     "execution_count": 12,
     "metadata": {},
     "output_type": "execute_result"
    }
   ],
   "source": [
    "from ast import literal_eval\n",
    "dict_series = literal_eval(str)\n",
    "[i['name'] for i in dict_series]"
   ]
  },
  {
   "cell_type": "markdown",
   "id": "ac64e08e-cfe8-4290-9cb2-8363c767df78",
   "metadata": {},
   "source": [
    "-----------------"
   ]
  },
  {
   "cell_type": "code",
   "execution_count": null,
   "id": "a243c8a4-8886-4e54-8ede-a168f8417528",
   "metadata": {},
   "outputs": [],
   "source": [
    "사람마다 평가를 주는 기준이 다릅니다.(어떤 사람은 짜게, 어떤 사람은 후하게)\n",
    "이것을 반영하는 평점은 무엇인가?\n",
    "\n",
    "베이스라인 평점"
   ]
  },
  {
   "cell_type": "code",
   "execution_count": null,
   "id": "eda231f5-5de3-4bc9-b9ad-199424d25f0b",
   "metadata": {},
   "outputs": [],
   "source": [
    "평점 분석에서 왜곡된 평점 데이터를 회피하도록 평점에 평가횟수를 반영하는 평가 방식은?\n",
    "\n",
    "가중 평점"
   ]
  },
  {
   "cell_type": "markdown",
   "id": "7e8f0e3f-4813-45c8-9fc2-9744243f4e56",
   "metadata": {},
   "source": [
    "------------"
   ]
  },
  {
   "cell_type": "markdown",
   "id": "14013fad-5c00-4433-a6b0-8efcee608fa6",
   "metadata": {},
   "source": [
    "감성 점수를 구해주세요."
   ]
  },
  {
   "cell_type": "code",
   "execution_count": 15,
   "id": "aca4b300-7329-4fc5-ad59-e38577705836",
   "metadata": {},
   "outputs": [
    {
     "name": "stdout",
     "output_type": "stream",
     "text": [
      "Collecting nltk\n",
      "  Downloading nltk-3.7-py3-none-any.whl (1.5 MB)\n",
      "     ---------------------------------------- 1.5/1.5 MB 15.8 MB/s eta 0:00:00\n",
      "Requirement already satisfied: joblib in c:\\users\\min\\anaconda3\\lib\\site-packages (from nltk) (1.1.1)\n",
      "Requirement already satisfied: click in c:\\users\\min\\anaconda3\\lib\\site-packages (from nltk) (8.0.4)\n",
      "Collecting regex>=2021.8.3\n",
      "  Downloading regex-2022.9.13-cp39-cp39-win_amd64.whl (267 kB)\n",
      "     ------------------------------------- 267.7/267.7 kB 17.2 MB/s eta 0:00:00\n",
      "Requirement already satisfied: tqdm in c:\\users\\min\\anaconda3\\lib\\site-packages (from nltk) (4.64.1)\n",
      "Requirement already satisfied: colorama in c:\\users\\min\\anaconda3\\lib\\site-packages (from click->nltk) (0.4.5)\n",
      "Installing collected packages: regex, nltk\n",
      "Successfully installed nltk-3.7 regex-2022.9.13\n"
     ]
    }
   ],
   "source": [
    "!pip install nltk"
   ]
  },
  {
   "cell_type": "code",
   "execution_count": 16,
   "id": "fc097bb5-1442-41ef-8ea5-110c7b643b3f",
   "metadata": {},
   "outputs": [],
   "source": [
    "from nltk.sentiment.vader import SentimentIntensityAnalyzer\n",
    "\n",
    "text = 'I decided, very early on, just to accept life unconditionally.I never expected it to do anything special for me, yet I seemed to accomplish far more than I had ever hoped.\\\n",
    "Most of the time it just happened to me withoutmy ever seeking it.'"
   ]
  },
  {
   "cell_type": "code",
   "execution_count": 17,
   "id": "f631fa49-2306-4024-92eb-688601479ba9",
   "metadata": {},
   "outputs": [
    {
     "data": {
      "text/plain": [
       "{'neg': 0.0, 'neu': 0.82, 'pos': 0.18, 'compound': 0.7964}"
      ]
     },
     "execution_count": 17,
     "metadata": {},
     "output_type": "execute_result"
    }
   ],
   "source": [
    "senti_analyzer = SentimentIntensityAnalyzer()\n",
    "senti_scores = senti_analyzer.polarity_scores(text)\n",
    "senti_scores"
   ]
  },
  {
   "cell_type": "code",
   "execution_count": null,
   "id": "c09f29de-1dea-41b7-9cae-de276f8f2bfd",
   "metadata": {},
   "outputs": [],
   "source": [
    "각 출력 결과물이 의미하는 것은?"
   ]
  },
  {
   "cell_type": "code",
   "execution_count": null,
   "id": "5a8c4a31-0ca7-42f6-9c49-c67e5f1152f2",
   "metadata": {},
   "outputs": [],
   "source": [
    "neg : 부정 감성 지수\n",
    "neu : 중립적인 감성 지수\n",
    "pos : 긍정 감성 지수\n",
    "compound : neg, neu, pos score를 적절히 조합한 -1 ~ 1 사이의 감성 지수"
   ]
  },
  {
   "cell_type": "markdown",
   "id": "3a01a6f8-bfb2-4827-8b17-2de57d64208c",
   "metadata": {},
   "source": [
    "-----------"
   ]
  },
  {
   "cell_type": "code",
   "execution_count": null,
   "id": "a60dce9a-d5be-4e3e-a28e-8d43f7f11252",
   "metadata": {},
   "outputs": [],
   "source": [
    "Surprise에서, predict(  )와 test의(  ) 차이는?\n",
    "\n",
    "predict( ) : 개별 유저의 평점을 예측할 때 사용\n",
    "test( ) : 전체 데이터에 대해 예측할 때 사용"
   ]
  },
  {
   "cell_type": "markdown",
   "id": "ef746514-df64-41fd-bec3-57f624d971b7",
   "metadata": {},
   "source": [
    "-----------"
   ]
  },
  {
   "cell_type": "markdown",
   "id": "ab2f37cd-85dd-4b46-afca-2e4506d837e4",
   "metadata": {},
   "source": [
    "아래 코드를 활용하여 사용자 아이디 196번이 예측한 평점과 아이템 아이디 302번의 예측 평점을 구해 주세요."
   ]
  },
  {
   "cell_type": "code",
   "execution_count": 18,
   "id": "65cefb37-8f05-431c-8b30-f851fc33dc09",
   "metadata": {},
   "outputs": [],
   "source": [
    "import pandas as pd\n",
    "from surprise import Reader, Dataset, SVD, accuracy\n",
    "from surprise.model_selection import train_test_split\n",
    "\n",
    "ratings = pd.read_csv('./data/ratings.csv')\n",
    "reader = Reader(rating_scale = (0.5,5.0)) \n",
    "data = Dataset.load_from_df(ratings[['userId','movieId','rating']], reader)\n",
    "trainset, testset = train_test_split(data, test_size=0.25)\n",
    "model = SVD(n_epochs=50, n_factors=50)"
   ]
  },
  {
   "cell_type": "code",
   "execution_count": 20,
   "id": "74149f4e-421b-4085-a466-3c6aeacb2877",
   "metadata": {},
   "outputs": [
    {
     "data": {
      "text/plain": [
       "[Prediction(uid=527, iid=3674, r_ui=4.0, est=3.9606263489403486, details={'was_impossible': False}),\n",
       " Prediction(uid=21, iid=1573, r_ui=2.5, est=3.2574296091226804, details={'was_impossible': False}),\n",
       " Prediction(uid=125, iid=97752, r_ui=4.0, est=4.243172294046393, details={'was_impossible': False})]"
      ]
     },
     "execution_count": 20,
     "metadata": {},
     "output_type": "execute_result"
    }
   ],
   "source": [
    "model.fit(trainset=trainset)\n",
    "predictions = model.test(testset=testset)\n",
    "predictions[0:3]"
   ]
  },
  {
   "cell_type": "code",
   "execution_count": 27,
   "id": "1472f378-589e-4205-aea5-c9bc4a8c930a",
   "metadata": {},
   "outputs": [
    {
     "data": {
      "text/plain": [
       "Prediction(uid=196, iid=302, r_ui=None, est=3.5365859407083162, details={'was_impossible': False})"
      ]
     },
     "execution_count": 27,
     "metadata": {},
     "output_type": "execute_result"
    }
   ],
   "source": [
    "pred = model.predict(uid = 196, iid = 302)\n",
    "pred"
   ]
  },
  {
   "cell_type": "code",
   "execution_count": 28,
   "id": "2f853ef2-6bf1-4c0e-944a-f3699e3f4a5a",
   "metadata": {},
   "outputs": [
    {
     "data": {
      "text/plain": [
       "3.5365859407083162"
      ]
     },
     "execution_count": 28,
     "metadata": {},
     "output_type": "execute_result"
    }
   ],
   "source": [
    "pred[3]"
   ]
  },
  {
   "cell_type": "markdown",
   "id": "3191fa49-37e6-4d59-86dd-c0ec8da1eb87",
   "metadata": {},
   "source": [
    "----------"
   ]
  }
 ],
 "metadata": {
  "kernelspec": {
   "display_name": "Python 3 (ipykernel)",
   "language": "python",
   "name": "python3"
  },
  "language_info": {
   "codemirror_mode": {
    "name": "ipython",
    "version": 3
   },
   "file_extension": ".py",
   "mimetype": "text/x-python",
   "name": "python",
   "nbconvert_exporter": "python",
   "pygments_lexer": "ipython3",
   "version": "3.9.12"
  }
 },
 "nbformat": 4,
 "nbformat_minor": 5
}
